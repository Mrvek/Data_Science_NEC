{
 "cells": [
  {
   "cell_type": "code",
   "execution_count": 1,
   "metadata": {
    "collapsed": false
   },
   "outputs": [],
   "source": [
    "import pandas as pd\n",
    "import numpy as np\n",
    "\n",
    "from bokeh.io import output_notebook, show\n",
    "from bokeh.layouts import row, gridplot, widgetbox, column\n",
    "from bokeh.charts import Histogram, BoxPlot, Scatter, Line, Bar, Donut\n",
    "\n",
    "from scipy import stats\n",
    "import matplotlib.pyplot as plt\n",
    "\n",
    "import os"
   ]
  },
  {
   "cell_type": "markdown",
   "metadata": {},
   "source": [
    "#### Data Acquisition"
   ]
  },
  {
   "cell_type": "markdown",
   "metadata": {},
   "source": [
    "De XML bestanden zijn hier omgezet naar een CSV bestand via één van de volgende professionele tools:\n",
    "- Excel\n",
    "- Gnumeric\n",
    "- LibreOffice\n",
    "\n",
    "De laatste 2 zijn gratis te gebruiken."
   ]
  },
  {
   "cell_type": "markdown",
   "metadata": {},
   "source": [
    "De <b>hoofdDataSet</b> kan worden geassigned aan een andere dataset. De resulaten in deze notebook zullen daarop aanpassen."
   ]
  },
  {
   "cell_type": "code",
   "execution_count": 2,
   "metadata": {
    "collapsed": false
   },
   "outputs": [],
   "source": [
    "df_FC_Utrecht_NEC = pd.read_csv('20160410_FC_Utrecht_NEC.csv', sep=';')\n",
    "df_NEC_Cambuur = pd.read_csv('20160417_NEC_Cambuur.csv', sep=';')\n",
    "df_PEC_NEC = pd.read_csv('20160420_PEC_NEC.csv', sep=';')\n",
    "df_NEC_Roda_JC = pd.read_csv('20160501_NEC_Roda_JC.csv', sep=';')\n",
    "\n",
    "hoofdDataSet = df_FC_Utrecht_NEC;"
   ]
  },
  {
   "cell_type": "code",
   "execution_count": 3,
   "metadata": {
    "collapsed": false
   },
   "outputs": [
    {
     "data": {
      "text/plain": [
       "['20160410', '20160417', '20160420', '20160501']"
      ]
     },
     "execution_count": 3,
     "metadata": {},
     "output_type": "execute_result"
    }
   ],
   "source": [
    "games = os.listdir(\"games\")\n",
    "matchIDs = []\n",
    "for i in games:\n",
    "    matchIDs.append(i.split(\"_\")[0])\n",
    "matchIDs"
   ]
  },
  {
   "cell_type": "code",
   "execution_count": 4,
   "metadata": {
    "collapsed": true
   },
   "outputs": [],
   "source": [
    "playerDict = []\n",
    "for id in matchIDs:\n",
    "    for folder in os.listdir(\"gps\"):\n",
    "        if(folder.startswith(id)):\n",
    "            files = os.listdir(\"gps/\" + folder)\n",
    "            match = folder[9:]\n",
    "            players = []\n",
    "            for i in files:\n",
    "                players.append(i[:-4])\n",
    "            playerDict.append({\"ID\":id,\n",
    "                          \"match\":match,\n",
    "                          \"players\":players\n",
    "            })"
   ]
  },
  {
   "cell_type": "markdown",
   "metadata": {},
   "source": [
    "# 1. Exploratie & Data wrangling"
   ]
  },
  {
   "cell_type": "raw",
   "metadata": {},
   "source": [
    "Hieronder staan een paar basis methodes waardoor we de dataset hebben onderzocht. Veel met de .unique() methode om alleen enkele exemplaren in het resultaat terug te vinden."
   ]
  },
  {
   "cell_type": "code",
   "execution_count": 5,
   "metadata": {
    "collapsed": false,
    "scrolled": true
   },
   "outputs": [
    {
     "data": {
      "text/html": [
       "<div>\n",
       "<table border=\"1\" class=\"dataframe\">\n",
       "  <thead>\n",
       "    <tr style=\"text-align: right;\">\n",
       "      <th></th>\n",
       "      <th>start_time</th>\n",
       "      <th>ID</th>\n",
       "      <th>start</th>\n",
       "      <th>end</th>\n",
       "      <th>code</th>\n",
       "      <th>group</th>\n",
       "      <th>text</th>\n",
       "      <th>code2</th>\n",
       "      <th>R</th>\n",
       "      <th>G</th>\n",
       "      <th>B</th>\n",
       "    </tr>\n",
       "  </thead>\n",
       "  <tbody>\n",
       "    <tr>\n",
       "      <th>0</th>\n",
       "      <td>2016-04-10 14:24:38.93 +0200</td>\n",
       "      <td>1.0</td>\n",
       "      <td>4,311042897</td>\n",
       "      <td>40,97118767</td>\n",
       "      <td>TEG</td>\n",
       "      <td>Naar zone</td>\n",
       "      <td>M2 TEG</td>\n",
       "      <td>NaN</td>\n",
       "      <td>NaN</td>\n",
       "      <td>NaN</td>\n",
       "      <td>NaN</td>\n",
       "    </tr>\n",
       "    <tr>\n",
       "      <th>1</th>\n",
       "      <td>2016-04-10 14:24:38.93 +0200</td>\n",
       "      <td>1.0</td>\n",
       "      <td>4,311042897</td>\n",
       "      <td>40,97118767</td>\n",
       "      <td>TEG</td>\n",
       "      <td>Naar zone</td>\n",
       "      <td>L2 TEG</td>\n",
       "      <td>NaN</td>\n",
       "      <td>NaN</td>\n",
       "      <td>NaN</td>\n",
       "      <td>NaN</td>\n",
       "    </tr>\n",
       "    <tr>\n",
       "      <th>2</th>\n",
       "      <td>2016-04-10 14:24:38.93 +0200</td>\n",
       "      <td>1.0</td>\n",
       "      <td>4,311042897</td>\n",
       "      <td>40,97118767</td>\n",
       "      <td>TEG</td>\n",
       "      <td>Naar zone</td>\n",
       "      <td>M1 TEG</td>\n",
       "      <td>NaN</td>\n",
       "      <td>NaN</td>\n",
       "      <td>NaN</td>\n",
       "      <td>NaN</td>\n",
       "    </tr>\n",
       "    <tr>\n",
       "      <th>3</th>\n",
       "      <td>2016-04-10 14:24:38.93 +0200</td>\n",
       "      <td>1.0</td>\n",
       "      <td>4,311042897</td>\n",
       "      <td>40,97118767</td>\n",
       "      <td>TEG</td>\n",
       "      <td>Storen NEC</td>\n",
       "      <td>Compact</td>\n",
       "      <td>NaN</td>\n",
       "      <td>NaN</td>\n",
       "      <td>NaN</td>\n",
       "      <td>NaN</td>\n",
       "    </tr>\n",
       "    <tr>\n",
       "      <th>4</th>\n",
       "      <td>2016-04-10 14:24:38.93 +0200</td>\n",
       "      <td>1.0</td>\n",
       "      <td>4,311042897</td>\n",
       "      <td>40,97118767</td>\n",
       "      <td>TEG</td>\n",
       "      <td>Storen NEC</td>\n",
       "      <td>Druk</td>\n",
       "      <td>NaN</td>\n",
       "      <td>NaN</td>\n",
       "      <td>NaN</td>\n",
       "      <td>NaN</td>\n",
       "    </tr>\n",
       "    <tr>\n",
       "      <th>5</th>\n",
       "      <td>2016-04-10 14:24:38.93 +0200</td>\n",
       "      <td>1.0</td>\n",
       "      <td>4,311042897</td>\n",
       "      <td>40,97118767</td>\n",
       "      <td>TEG</td>\n",
       "      <td>Naar zone</td>\n",
       "      <td>R1 TEG</td>\n",
       "      <td>NaN</td>\n",
       "      <td>NaN</td>\n",
       "      <td>NaN</td>\n",
       "      <td>NaN</td>\n",
       "    </tr>\n",
       "    <tr>\n",
       "      <th>6</th>\n",
       "      <td>2016-04-10 14:24:38.93 +0200</td>\n",
       "      <td>1.0</td>\n",
       "      <td>4,311042897</td>\n",
       "      <td>40,97118767</td>\n",
       "      <td>TEG</td>\n",
       "      <td>Naar zone</td>\n",
       "      <td>R2 TEG</td>\n",
       "      <td>NaN</td>\n",
       "      <td>NaN</td>\n",
       "      <td>NaN</td>\n",
       "      <td>NaN</td>\n",
       "    </tr>\n",
       "    <tr>\n",
       "      <th>7</th>\n",
       "      <td>2016-04-10 14:24:38.93 +0200</td>\n",
       "      <td>1.0</td>\n",
       "      <td>4,311042897</td>\n",
       "      <td>40,97118767</td>\n",
       "      <td>TEG</td>\n",
       "      <td>Naar zone</td>\n",
       "      <td>M1 TEG</td>\n",
       "      <td>NaN</td>\n",
       "      <td>NaN</td>\n",
       "      <td>NaN</td>\n",
       "      <td>NaN</td>\n",
       "    </tr>\n",
       "    <tr>\n",
       "      <th>8</th>\n",
       "      <td>2016-04-10 14:24:38.93 +0200</td>\n",
       "      <td>1.0</td>\n",
       "      <td>4,311042897</td>\n",
       "      <td>40,97118767</td>\n",
       "      <td>TEG</td>\n",
       "      <td>Naar zone</td>\n",
       "      <td>R1 TEG</td>\n",
       "      <td>NaN</td>\n",
       "      <td>NaN</td>\n",
       "      <td>NaN</td>\n",
       "      <td>NaN</td>\n",
       "    </tr>\n",
       "    <tr>\n",
       "      <th>9</th>\n",
       "      <td>2016-04-10 14:24:38.93 +0200</td>\n",
       "      <td>1.0</td>\n",
       "      <td>4,311042897</td>\n",
       "      <td>40,97118767</td>\n",
       "      <td>TEG</td>\n",
       "      <td>Aanvallen TEG</td>\n",
       "      <td>Lange pass</td>\n",
       "      <td>NaN</td>\n",
       "      <td>NaN</td>\n",
       "      <td>NaN</td>\n",
       "      <td>NaN</td>\n",
       "    </tr>\n",
       "  </tbody>\n",
       "</table>\n",
       "</div>"
      ],
      "text/plain": [
       "                     start_time   ID        start          end code  \\\n",
       "0  2016-04-10 14:24:38.93 +0200  1.0  4,311042897  40,97118767  TEG   \n",
       "1  2016-04-10 14:24:38.93 +0200  1.0  4,311042897  40,97118767  TEG   \n",
       "2  2016-04-10 14:24:38.93 +0200  1.0  4,311042897  40,97118767  TEG   \n",
       "3  2016-04-10 14:24:38.93 +0200  1.0  4,311042897  40,97118767  TEG   \n",
       "4  2016-04-10 14:24:38.93 +0200  1.0  4,311042897  40,97118767  TEG   \n",
       "5  2016-04-10 14:24:38.93 +0200  1.0  4,311042897  40,97118767  TEG   \n",
       "6  2016-04-10 14:24:38.93 +0200  1.0  4,311042897  40,97118767  TEG   \n",
       "7  2016-04-10 14:24:38.93 +0200  1.0  4,311042897  40,97118767  TEG   \n",
       "8  2016-04-10 14:24:38.93 +0200  1.0  4,311042897  40,97118767  TEG   \n",
       "9  2016-04-10 14:24:38.93 +0200  1.0  4,311042897  40,97118767  TEG   \n",
       "\n",
       "           group        text code2   R   G   B  \n",
       "0      Naar zone      M2 TEG   NaN NaN NaN NaN  \n",
       "1      Naar zone      L2 TEG   NaN NaN NaN NaN  \n",
       "2      Naar zone      M1 TEG   NaN NaN NaN NaN  \n",
       "3     Storen NEC     Compact   NaN NaN NaN NaN  \n",
       "4     Storen NEC        Druk   NaN NaN NaN NaN  \n",
       "5      Naar zone      R1 TEG   NaN NaN NaN NaN  \n",
       "6      Naar zone      R2 TEG   NaN NaN NaN NaN  \n",
       "7      Naar zone      M1 TEG   NaN NaN NaN NaN  \n",
       "8      Naar zone      R1 TEG   NaN NaN NaN NaN  \n",
       "9  Aanvallen TEG  Lange pass   NaN NaN NaN NaN  "
      ]
     },
     "execution_count": 5,
     "metadata": {},
     "output_type": "execute_result"
    }
   ],
   "source": [
    "hoofdDataSet.head(10)"
   ]
  },
  {
   "cell_type": "code",
   "execution_count": 6,
   "metadata": {
    "collapsed": false
   },
   "outputs": [
    {
     "data": {
      "text/plain": [
       "array(['TEG', 'M2 TEG', 'Start Jaimy', 'Verdedigen', 'AFTRAP WB', 'L2 TEG',\n",
       "       'M1 TEG', 'VERD. Compact NEC', 'VERD. Druk NEC', 'R1 TEG', 'R2 TEG',\n",
       "       'OPB. Lange pass TEG', 'NEC', 'OMSCH aanvallen', 'Balwinst',\n",
       "       'Start',\n",
       "       'gAAAAABYrzOUx70t7JKQR_R_qB_fAsAQ_kssPG0dUdL65VwJwkYRyU-pgO2G2z352X3ke-Lnug_HD8rZu7oi0TLSthtXJAkAEQ==',\n",
       "       'Inworp NEC', 'L3 NEC', 'Aanvallen',\n",
       "       'b6a6aeaf67e640fe9eb72d888ba046f9',\n",
       "       'feaf75270e9c46178b6b36507d9576da',\n",
       "       'gAAAAABYrzOViQ5bQbZkXvcGYeCP26pkycVHvEX9hKy1nUCyuefXEY9HKEgCE7wXFXjf7_XrzdP3SyJaK61nxal6w4a9NkFz9w==',\n",
       "       'R2 NEC', 'OPB. Lange pass NEC',\n",
       "       'gAAAAABYrzOUOTRugGK4u8cjcl60I8vjDVJstq7eg1TC3R8eeT4TKcubEQWcFxEppjQ7AvbZhcdnr1yLTAHw184kNAHQ1Vr2rw==',\n",
       "       'M3 NEC',\n",
       "       'gAAAAABYrzOU_m3cv0-Mq0cAMfKcJ6PZ09fQgxq6iILsRdDLnA2dMrbRoZyMYM5lMtX3tZLG_Svn5vlJG4wwwhUHT-dJt4yblA==',\n",
       "       'gAAAAABYrzOUCFm6Bomi2VGE_iRXHdIQjqXIfnAuYWfxtFhYV9CpD2JvtQcJqYfC2yxRxrBX_m13f_z9_L-YqSrSJRdSuUFYpQ==',\n",
       "       'R4 NEC', 'OMSCH verdedigen', 'Balverlies', 'L1 TEG', 'R3 TEG',\n",
       "       'Voorzet NEC', 'M3 TEG', 'L3 TEG', 'M4 TEG', 'L1 NEC', 'L2 NEC',\n",
       "       'gAAAAABYrzOUMgnciHmdSQ6RCk1EYJoHRHp1Now5y4xL0VSlIuCHvlcyCVikh8HmS6qWQ1XYt1z525pODwIazSW5Vfop24cpYA==',\n",
       "       'TERUGSPEELBAL keeper',\n",
       "       'gAAAAABYrzOUxpK7Ty_lFmmkplhGe7plHNBAeJhfYd3JY4Mj5sBwCIA0KMn23NWG9HLgJcN8Wm1ALShGKEWMLpmgc3FnQAk1mw==',\n",
       "       'M1 NEC', 'Voorzet TEG', 'Kans TEG', 'Goal TEG', 'R4 TEG',\n",
       "       '1v1 keeper', '9c22deb258fa4a55bb736b89a40004d5', 'M2 NEC',\n",
       "       'VERD. Vast zetten NEC', 'VOORZETTEN keeper', 'Foul TEG',\n",
       "       'OPBOUW keeper', 'Inworp TEG', 'CORNER keeper', 'Corner TEG',\n",
       "       'R1 NEC', 'f41f32eee9ae420eabc459c560e75678', 'Doelpoging NEC',\n",
       "       'R3 NEC', 'Foul NEC', 'Vrije trap NEC', 'M4 NEC', 'L4 TEG',\n",
       "       'L4 NEC', 'Corner NEC', 'DIEPTEBALLEN keeper', 'VERD. Compact TEG',\n",
       "       'OPB. Cross pass TEG', 'Doelpoging TEG', 'Kans NEC',\n",
       "       'OPB. Cross pass NEC', 'VERD. Druk TEG',\n",
       "       'OPB. Spelverplaatsing TEG', 'INWORP 16 keeper', 'Goal NEC',\n",
       "       'SCHOTEN keeper', 'Start Jaimy 2', 'VERD. Vast zetten TEG',\n",
       "       'OPB. Indribbelen TEG', 'EXT Buitenspel',\n",
       "       '753a52e5fb8f4331a765c721b6b1271f', 'VRIJE TRAP keeper',\n",
       "       'Vrije trap TEG', 'EXT kaart', nan], dtype=object)"
      ]
     },
     "execution_count": 6,
     "metadata": {},
     "output_type": "execute_result"
    }
   ],
   "source": [
    "hoofdDataSet.code.unique()"
   ]
  },
  {
   "cell_type": "code",
   "execution_count": 7,
   "metadata": {
    "collapsed": false
   },
   "outputs": [
    {
     "data": {
      "text/plain": [
       "array(['Naar zone', 'Storen NEC', 'Aanvallen TEG', 'Rendement', nan,\n",
       "       'Startzone NEC', 'Naar speler', 'Start', 'Van speler',\n",
       "       'Aanvallen NEC', 'Startzone TEG', 'Betrokken', 'Storen TEG'], dtype=object)"
      ]
     },
     "execution_count": 7,
     "metadata": {},
     "output_type": "execute_result"
    }
   ],
   "source": [
    "hoofdDataSet.group.unique()"
   ]
  },
  {
   "cell_type": "code",
   "execution_count": 8,
   "metadata": {
    "collapsed": false
   },
   "outputs": [
    {
     "data": {
      "text/plain": [
       "array(['M2 TEG', 'L2 TEG', 'M1 TEG', 'R1 TEG', 'R2 TEG', 'L3 NEC',\n",
       "       'R2 NEC', 'M3 NEC', 'R4 NEC', 'L1 TEG', 'R3 TEG', 'M3 TEG',\n",
       "       'L3 TEG', 'M4 TEG', 'L1 NEC', 'L2 NEC', 'M1 NEC', 'R4 TEG',\n",
       "       'M2 NEC', 'R1 NEC', 'R3 NEC', 'M4 NEC', 'L4 TEG', 'L4 NEC'], dtype=object)"
      ]
     },
     "execution_count": 8,
     "metadata": {},
     "output_type": "execute_result"
    }
   ],
   "source": [
    "hoofdDataSet[hoofdDataSet['group'] == 'Naar zone'].text.unique()"
   ]
  },
  {
   "cell_type": "markdown",
   "metadata": {},
   "source": [
    "## 1.1. Rendement groepen per dataset:"
   ]
  },
  {
   "cell_type": "code",
   "execution_count": 9,
   "metadata": {
    "collapsed": false
   },
   "outputs": [
    {
     "data": {
      "text/plain": [
       "array(['Balwinst', 'BOP', 'Balverlies', 'Voorzet', 'Foul TEG', 'Corner',\n",
       "       'Doelpoging', 'Foul NEC'], dtype=object)"
      ]
     },
     "execution_count": 9,
     "metadata": {},
     "output_type": "execute_result"
    }
   ],
   "source": [
    "df_FC_Utrecht_NEC[df_FC_Utrecht_NEC['group'] == 'Rendement'].text.unique()"
   ]
  },
  {
   "cell_type": "code",
   "execution_count": 10,
   "metadata": {
    "collapsed": false
   },
   "outputs": [
    {
     "data": {
      "text/plain": [
       "array(['Balwinst', 'Balverlies', 'Corner', 'BOP', 'Foul NEC', 'Voorzet',\n",
       "       'Doelpoging', 'Foul TEG'], dtype=object)"
      ]
     },
     "execution_count": 10,
     "metadata": {},
     "output_type": "execute_result"
    }
   ],
   "source": [
    "df_NEC_Cambuur[df_NEC_Cambuur['group'] == 'Rendement'].text.unique()"
   ]
  },
  {
   "cell_type": "code",
   "execution_count": 11,
   "metadata": {
    "collapsed": false
   },
   "outputs": [
    {
     "data": {
      "text/plain": [
       "array(['Balwinst', 'Corner', 'Voorzet', 'Balverlies', 'BOP', 'Foul NEC',\n",
       "       'Foul TEG', 'Doelpoging', 'Balbezit'], dtype=object)"
      ]
     },
     "execution_count": 11,
     "metadata": {},
     "output_type": "execute_result"
    }
   ],
   "source": [
    "df_PEC_NEC[df_PEC_NEC['group'] == 'Rendement'].text.unique()"
   ]
  },
  {
   "cell_type": "code",
   "execution_count": 12,
   "metadata": {
    "collapsed": false
   },
   "outputs": [
    {
     "data": {
      "text/plain": [
       "array(['BOP', 'Balverlies', 'Balwinst', 'Voorzet', 'Corner', 'Balbezit',\n",
       "       'Foul NEC', 'Doelpoging', 'Foul TEG'], dtype=object)"
      ]
     },
     "execution_count": 12,
     "metadata": {},
     "output_type": "execute_result"
    }
   ],
   "source": [
    "df_NEC_Roda_JC[df_NEC_Roda_JC['group'] == 'Rendement'].text.unique()"
   ]
  },
  {
   "cell_type": "markdown",
   "metadata": {},
   "source": [
    "## 1.2. Goals per dataset:"
   ]
  },
  {
   "cell_type": "markdown",
   "metadata": {},
   "source": [
    "Een functie om de eindstand te berekenen op basis van de codes: <i>Goal NEC</i> en <i>Goal TEG</i>."
   ]
  },
  {
   "cell_type": "code",
   "execution_count": 13,
   "metadata": {
    "collapsed": true
   },
   "outputs": [],
   "source": [
    "def eindstand(df):\n",
    "    nec = len(df[df['code'] == 'Goal NEC'].ID.unique())\n",
    "    teg = len(df[df['code'] == 'Goal TEG'].ID.unique())\n",
    "    return (str(nec) + ' - ' + str(teg))"
   ]
  },
  {
   "cell_type": "markdown",
   "metadata": {},
   "source": [
    "#### Eindstand hoofdDataSet"
   ]
  },
  {
   "cell_type": "markdown",
   "metadata": {},
   "source": [
    "Deze eindstand kan mogelijk hieronder nogmaals voorkomen als de hoofdDataSet niet afwijkt van de standaard meegeleverde datasets."
   ]
  },
  {
   "cell_type": "code",
   "execution_count": 14,
   "metadata": {
    "collapsed": false
   },
   "outputs": [
    {
     "data": {
      "text/plain": [
       "array([ 1182.])"
      ]
     },
     "execution_count": 14,
     "metadata": {},
     "output_type": "execute_result"
    }
   ],
   "source": [
    "hoofdDataSet[hoofdDataSet['code'] == 'Goal NEC'].ID.unique()"
   ]
  },
  {
   "cell_type": "code",
   "execution_count": 15,
   "metadata": {
    "collapsed": false
   },
   "outputs": [
    {
     "data": {
      "text/plain": [
       "array([  100.,  1931.,  2001.])"
      ]
     },
     "execution_count": 15,
     "metadata": {},
     "output_type": "execute_result"
    }
   ],
   "source": [
    "hoofdDataSet[hoofdDataSet['code'] == 'Goal TEG'].ID.unique()"
   ]
  },
  {
   "cell_type": "markdown",
   "metadata": {},
   "source": [
    "Eindstand:"
   ]
  },
  {
   "cell_type": "code",
   "execution_count": 16,
   "metadata": {
    "collapsed": false
   },
   "outputs": [
    {
     "data": {
      "text/plain": [
       "'1 - 3'"
      ]
     },
     "execution_count": 16,
     "metadata": {},
     "output_type": "execute_result"
    }
   ],
   "source": [
    "eindstand(hoofdDataSet)"
   ]
  },
  {
   "cell_type": "markdown",
   "metadata": {},
   "source": [
    "#### df_FC_Utrecht_NEC"
   ]
  },
  {
   "cell_type": "code",
   "execution_count": 17,
   "metadata": {
    "collapsed": false
   },
   "outputs": [
    {
     "data": {
      "text/plain": [
       "array([ 1182.])"
      ]
     },
     "execution_count": 17,
     "metadata": {},
     "output_type": "execute_result"
    }
   ],
   "source": [
    "df_FC_Utrecht_NEC[df_FC_Utrecht_NEC['code'] == 'Goal NEC'].ID.unique()"
   ]
  },
  {
   "cell_type": "code",
   "execution_count": 18,
   "metadata": {
    "collapsed": false
   },
   "outputs": [
    {
     "data": {
      "text/plain": [
       "array([  100.,  1931.,  2001.])"
      ]
     },
     "execution_count": 18,
     "metadata": {},
     "output_type": "execute_result"
    }
   ],
   "source": [
    "df_FC_Utrecht_NEC[df_FC_Utrecht_NEC['code'] == 'Goal TEG'].ID.unique()"
   ]
  },
  {
   "cell_type": "markdown",
   "metadata": {},
   "source": [
    "Eindstand:"
   ]
  },
  {
   "cell_type": "code",
   "execution_count": 19,
   "metadata": {
    "collapsed": false
   },
   "outputs": [
    {
     "data": {
      "text/plain": [
       "'1 - 3'"
      ]
     },
     "execution_count": 19,
     "metadata": {},
     "output_type": "execute_result"
    }
   ],
   "source": [
    "eindstand(df_FC_Utrecht_NEC)"
   ]
  },
  {
   "cell_type": "markdown",
   "metadata": {},
   "source": [
    "#### df_NEC_Cambuur"
   ]
  },
  {
   "cell_type": "code",
   "execution_count": 20,
   "metadata": {
    "collapsed": false
   },
   "outputs": [
    {
     "data": {
      "text/plain": [
       "array([ 1524.,  1900.])"
      ]
     },
     "execution_count": 20,
     "metadata": {},
     "output_type": "execute_result"
    }
   ],
   "source": [
    "df_NEC_Cambuur[df_NEC_Cambuur['code'] == 'Goal NEC'].ID.unique()"
   ]
  },
  {
   "cell_type": "code",
   "execution_count": 21,
   "metadata": {
    "collapsed": false
   },
   "outputs": [
    {
     "data": {
      "text/plain": [
       "array([ 2054.])"
      ]
     },
     "execution_count": 21,
     "metadata": {},
     "output_type": "execute_result"
    }
   ],
   "source": [
    "df_NEC_Cambuur[df_NEC_Cambuur['code'] == 'Goal TEG'].ID.unique()"
   ]
  },
  {
   "cell_type": "markdown",
   "metadata": {},
   "source": [
    "Eindstand:"
   ]
  },
  {
   "cell_type": "code",
   "execution_count": 22,
   "metadata": {
    "collapsed": false
   },
   "outputs": [
    {
     "data": {
      "text/plain": [
       "'2 - 1'"
      ]
     },
     "execution_count": 22,
     "metadata": {},
     "output_type": "execute_result"
    }
   ],
   "source": [
    "eindstand(df_NEC_Cambuur)"
   ]
  },
  {
   "cell_type": "markdown",
   "metadata": {},
   "source": [
    "#### df_PEC_NEC"
   ]
  },
  {
   "cell_type": "code",
   "execution_count": 23,
   "metadata": {
    "collapsed": false
   },
   "outputs": [
    {
     "data": {
      "text/plain": [
       "array([], dtype=float64)"
      ]
     },
     "execution_count": 23,
     "metadata": {},
     "output_type": "execute_result"
    }
   ],
   "source": [
    "df_PEC_NEC[df_PEC_NEC['code'] == 'Goal NEC'].ID.unique()"
   ]
  },
  {
   "cell_type": "code",
   "execution_count": 24,
   "metadata": {
    "collapsed": false
   },
   "outputs": [
    {
     "data": {
      "text/plain": [
       "array([ 467.,  757.])"
      ]
     },
     "execution_count": 24,
     "metadata": {},
     "output_type": "execute_result"
    }
   ],
   "source": [
    "df_PEC_NEC[df_PEC_NEC['code'] == 'Goal TEG'].ID.unique()"
   ]
  },
  {
   "cell_type": "markdown",
   "metadata": {},
   "source": [
    "Eindstand:"
   ]
  },
  {
   "cell_type": "code",
   "execution_count": 25,
   "metadata": {
    "collapsed": false
   },
   "outputs": [
    {
     "data": {
      "text/plain": [
       "'0 - 2'"
      ]
     },
     "execution_count": 25,
     "metadata": {},
     "output_type": "execute_result"
    }
   ],
   "source": [
    "eindstand(df_PEC_NEC)"
   ]
  },
  {
   "cell_type": "markdown",
   "metadata": {},
   "source": [
    "#### df_NEC_Roda_JC"
   ]
  },
  {
   "cell_type": "code",
   "execution_count": 26,
   "metadata": {
    "collapsed": false
   },
   "outputs": [
    {
     "data": {
      "text/plain": [
       "array([ 688.])"
      ]
     },
     "execution_count": 26,
     "metadata": {},
     "output_type": "execute_result"
    }
   ],
   "source": [
    "df_NEC_Roda_JC[df_NEC_Roda_JC['code'] == 'Goal NEC'].ID.unique()"
   ]
  },
  {
   "cell_type": "code",
   "execution_count": 27,
   "metadata": {
    "collapsed": false
   },
   "outputs": [
    {
     "data": {
      "text/plain": [
       "array([ 1187.,  1245.])"
      ]
     },
     "execution_count": 27,
     "metadata": {},
     "output_type": "execute_result"
    }
   ],
   "source": [
    "df_NEC_Roda_JC[df_NEC_Roda_JC['code'] == 'Goal TEG'].ID.unique()"
   ]
  },
  {
   "cell_type": "markdown",
   "metadata": {},
   "source": [
    "Eindstand:"
   ]
  },
  {
   "cell_type": "code",
   "execution_count": 28,
   "metadata": {
    "collapsed": false
   },
   "outputs": [
    {
     "data": {
      "text/plain": [
       "'1 - 2'"
      ]
     },
     "execution_count": 28,
     "metadata": {},
     "output_type": "execute_result"
    }
   ],
   "source": [
    "eindstand(df_NEC_Roda_JC)"
   ]
  },
  {
   "cell_type": "markdown",
   "metadata": {
    "collapsed": true
   },
   "source": [
    "## 1.3. Aanval exploratie"
   ]
  },
  {
   "cell_type": "code",
   "execution_count": 29,
   "metadata": {
    "collapsed": false
   },
   "outputs": [],
   "source": [
    "def aanvalNecGroepCount(df):\n",
    "    aanval_list = df[df['group'] == 'Aanvallen NEC'].ID.unique().tolist()\n",
    "    return df[(df['ID'].isin(aanval_list)) & (df['group'] == 'Rendement')].groupby('text').text.count()\n",
    "\n",
    "def aanvalTegGroepCount(df):\n",
    "    aanval_list = df[df['group'] == 'Aanvallen TEG'].ID.unique().tolist()\n",
    "    return df[(df['ID'].isin(aanval_list)) & (df['group'] == 'Rendement')].groupby('text').text.count()"
   ]
  },
  {
   "cell_type": "code",
   "execution_count": 30,
   "metadata": {
    "collapsed": false
   },
   "outputs": [
    {
     "data": {
      "text/plain": [
       "text\n",
       "BOP            13\n",
       "Balverlies    119\n",
       "Balwinst        1\n",
       "Foul TEG        4\n",
       "Voorzet         7\n",
       "Name: text, dtype: int64"
      ]
     },
     "execution_count": 30,
     "metadata": {},
     "output_type": "execute_result"
    }
   ],
   "source": [
    "aanvalNecGroepCount(hoofdDataSet)"
   ]
  },
  {
   "cell_type": "code",
   "execution_count": 31,
   "metadata": {
    "collapsed": false
   },
   "outputs": [
    {
     "data": {
      "text/plain": [
       "text\n",
       "BOP            2\n",
       "Balwinst      90\n",
       "Corner         2\n",
       "Doelpoging     1\n",
       "Voorzet        6\n",
       "Name: text, dtype: int64"
      ]
     },
     "execution_count": 31,
     "metadata": {},
     "output_type": "execute_result"
    }
   ],
   "source": [
    "aanvalTegGroepCount(hoofdDataSet)"
   ]
  },
  {
   "cell_type": "markdown",
   "metadata": {},
   "source": [
    "## 1.4. Zones"
   ]
  },
  {
   "cell_type": "markdown",
   "metadata": {},
   "source": [
    "### 1.4.1 Exploratie van de zones"
   ]
  },
  {
   "cell_type": "markdown",
   "metadata": {},
   "source": [
    "#### Alle verschillende (gebruikte) zones:"
   ]
  },
  {
   "cell_type": "code",
   "execution_count": 32,
   "metadata": {
    "collapsed": false
   },
   "outputs": [
    {
     "data": {
      "text/plain": [
       "array(['M2 TEG', 'L2 TEG', 'M1 TEG', 'R1 TEG', 'R2 TEG', 'L3 NEC',\n",
       "       'R2 NEC', 'M3 NEC', 'R4 NEC', 'L1 TEG', 'R3 TEG', 'M3 TEG',\n",
       "       'L3 TEG', 'M4 TEG', 'L1 NEC', 'L2 NEC', 'M1 NEC', 'R4 TEG',\n",
       "       'M2 NEC', 'R1 NEC', 'R3 NEC', 'M4 NEC', 'L4 TEG', 'L4 NEC'], dtype=object)"
      ]
     },
     "execution_count": 32,
     "metadata": {},
     "output_type": "execute_result"
    }
   ],
   "source": [
    "hoofdDataSet[hoofdDataSet['group'] == 'Naar zone'].text.unique()"
   ]
  },
  {
   "cell_type": "markdown",
   "metadata": {},
   "source": [
    "#### In welke zones speelt NEC & de tegestanders:"
   ]
  },
  {
   "cell_type": "code",
   "execution_count": 33,
   "metadata": {
    "collapsed": false
   },
   "outputs": [
    {
     "data": {
      "text/plain": [
       "text\n",
       "L1 NEC     15\n",
       "L1 TEG     28\n",
       "L2 NEC    174\n",
       "L2 TEG    116\n",
       "L3 NEC    125\n",
       "L3 TEG    121\n",
       "L4 NEC     47\n",
       "L4 TEG     36\n",
       "M1 NEC    109\n",
       "M1 TEG    105\n",
       "M2 NEC    294\n",
       "M2 TEG    197\n",
       "M3 NEC    157\n",
       "M3 TEG    208\n",
       "M4 NEC    115\n",
       "M4 TEG    132\n",
       "R1 NEC     20\n",
       "R1 TEG     27\n",
       "R2 NEC    182\n",
       "R2 TEG    103\n",
       "R3 NEC    110\n",
       "R3 TEG    106\n",
       "R4 NEC     30\n",
       "R4 TEG     43\n",
       "Name: text, dtype: int64"
      ]
     },
     "execution_count": 33,
     "metadata": {},
     "output_type": "execute_result"
    }
   ],
   "source": [
    "hoofdDataSet[hoofdDataSet['group'] == 'Naar zone'].groupby('text').text.count()"
   ]
  },
  {
   "cell_type": "markdown",
   "metadata": {},
   "source": [
    "#### Zone volgorde per actie (verwerken in een dataset)"
   ]
  },
  {
   "cell_type": "code",
   "execution_count": 34,
   "metadata": {
    "collapsed": false
   },
   "outputs": [],
   "source": [
    "import warnings\n",
    "warnings.simplefilter(action = \"ignore\")\n",
    "\n",
    "df_1 = hoofdDataSet[(hoofdDataSet['group'] == 'Naar zone') & (hoofdDataSet['text'].str.contains('NEC'))]\n",
    "\n",
    "df_1.text = df_1.text.apply(lambda x: x.rstrip(' NEC').rstrip(' TEG'))\n",
    "s_1 = df_1.groupby('ID').text.apply(lambda x: \"%s\" % ','.join(x))"
   ]
  },
  {
   "cell_type": "code",
   "execution_count": 35,
   "metadata": {
    "collapsed": false
   },
   "outputs": [],
   "source": [
    "df_zones = pd.DataFrame({'id':s_1.index, 'zones':s_1.values})\n",
    "df_zones['zonesList'] = df_zones['zones'].str.split(',').tolist()\n",
    "df_zones['zonesCount'] = df_zones['zonesList'].str.len()"
   ]
  },
  {
   "cell_type": "code",
   "execution_count": 36,
   "metadata": {
    "collapsed": false
   },
   "outputs": [
    {
     "data": {
      "text/html": [
       "<div>\n",
       "<table border=\"1\" class=\"dataframe\">\n",
       "  <thead>\n",
       "    <tr style=\"text-align: right;\">\n",
       "      <th></th>\n",
       "      <th>id</th>\n",
       "      <th>zones</th>\n",
       "      <th>zonesList</th>\n",
       "      <th>zonesCount</th>\n",
       "    </tr>\n",
       "  </thead>\n",
       "  <tbody>\n",
       "    <tr>\n",
       "      <th>0</th>\n",
       "      <td>20.0</td>\n",
       "      <td>L3,R2,M3</td>\n",
       "      <td>[L3, R2, M3]</td>\n",
       "      <td>3</td>\n",
       "    </tr>\n",
       "    <tr>\n",
       "      <th>1</th>\n",
       "      <td>22.0</td>\n",
       "      <td>R2</td>\n",
       "      <td>[R2]</td>\n",
       "      <td>1</td>\n",
       "    </tr>\n",
       "    <tr>\n",
       "      <th>2</th>\n",
       "      <td>23.0</td>\n",
       "      <td>L3,R2,M3</td>\n",
       "      <td>[L3, R2, M3]</td>\n",
       "      <td>3</td>\n",
       "    </tr>\n",
       "    <tr>\n",
       "      <th>3</th>\n",
       "      <td>27.0</td>\n",
       "      <td>R2,M3</td>\n",
       "      <td>[R2, M3]</td>\n",
       "      <td>2</td>\n",
       "    </tr>\n",
       "    <tr>\n",
       "      <th>4</th>\n",
       "      <td>28.0</td>\n",
       "      <td>M3</td>\n",
       "      <td>[M3]</td>\n",
       "      <td>1</td>\n",
       "    </tr>\n",
       "  </tbody>\n",
       "</table>\n",
       "</div>"
      ],
      "text/plain": [
       "     id     zones     zonesList  zonesCount\n",
       "0  20.0  L3,R2,M3  [L3, R2, M3]           3\n",
       "1  22.0        R2          [R2]           1\n",
       "2  23.0  L3,R2,M3  [L3, R2, M3]           3\n",
       "3  27.0     R2,M3      [R2, M3]           2\n",
       "4  28.0        M3          [M3]           1"
      ]
     },
     "execution_count": 36,
     "metadata": {},
     "output_type": "execute_result"
    }
   ],
   "source": [
    "df_zones.head(5)"
   ]
  },
  {
   "cell_type": "markdown",
   "metadata": {},
   "source": [
    "### 1.4.2 Exploratie van de groepen en bijbehorende teksten"
   ]
  },
  {
   "cell_type": "markdown",
   "metadata": {},
   "source": [
    "#### Kunnen de spelers aan de dataset gekoppeld worden?"
   ]
  },
  {
   "cell_type": "markdown",
   "metadata": {},
   "source": [
    "<i>(IDs corresponderen met de dataset: df_FC_Utrecht_NEC, andere sets hebben mogelijk andere IDs die niet het zelfde resultaat opleveren)</i>"
   ]
  },
  {
   "cell_type": "code",
   "execution_count": 37,
   "metadata": {
    "collapsed": false
   },
   "outputs": [
    {
     "data": {
      "text/plain": [
       "text\n",
       "feaf75270e9c46178b6b36507d9576da                                                                        1\n",
       "gAAAAABYrzOUMgnciHmdSQ6RCk1EYJoHRHp1Now5y4xL0VSlIuCHvlcyCVikh8HmS6qWQ1XYt1z525pODwIazSW5Vfop24cpYA==    1\n",
       "gAAAAABYrzOU_m3cv0-Mq0cAMfKcJ6PZ09fQgxq6iILsRdDLnA2dMrbRoZyMYM5lMtX3tZLG_Svn5vlJG4wwwhUHT-dJt4yblA==    1\n",
       "Name: text, dtype: int64"
      ]
     },
     "execution_count": 37,
     "metadata": {},
     "output_type": "execute_result"
    }
   ],
   "source": [
    "hoofdDataSet[(hoofdDataSet['ID'] == 83) & (hoofdDataSet['group'] == 'Van speler')].groupby('text').text.count()"
   ]
  },
  {
   "cell_type": "code",
   "execution_count": 38,
   "metadata": {
    "collapsed": false
   },
   "outputs": [
    {
     "data": {
      "text/plain": [
       "text\n",
       "feaf75270e9c46178b6b36507d9576da                                                                        1\n",
       "gAAAAABYrzOUMgnciHmdSQ6RCk1EYJoHRHp1Now5y4xL0VSlIuCHvlcyCVikh8HmS6qWQ1XYt1z525pODwIazSW5Vfop24cpYA==    1\n",
       "gAAAAABYrzOU_m3cv0-Mq0cAMfKcJ6PZ09fQgxq6iILsRdDLnA2dMrbRoZyMYM5lMtX3tZLG_Svn5vlJG4wwwhUHT-dJt4yblA==    1\n",
       "gAAAAABYrzOUxpK7Ty_lFmmkplhGe7plHNBAeJhfYd3JY4Mj5sBwCIA0KMn23NWG9HLgJcN8Wm1ALShGKEWMLpmgc3FnQAk1mw==    1\n",
       "gAAAAABYrzOViQ5bQbZkXvcGYeCP26pkycVHvEX9hKy1nUCyuefXEY9HKEgCE7wXFXjf7_XrzdP3SyJaK61nxal6w4a9NkFz9w==    1\n",
       "Name: text, dtype: int64"
      ]
     },
     "execution_count": 38,
     "metadata": {},
     "output_type": "execute_result"
    }
   ],
   "source": [
    "hoofdDataSet[(hoofdDataSet['ID'] == 83) & (hoofdDataSet['group'] == 'Naar speler')].groupby('text').text.count()"
   ]
  },
  {
   "cell_type": "markdown",
   "metadata": {},
   "source": [
    "#### Het rendement van een actie:"
   ]
  },
  {
   "cell_type": "code",
   "execution_count": 39,
   "metadata": {
    "collapsed": false
   },
   "outputs": [
    {
     "data": {
      "text/plain": [
       "text\n",
       "BOP    1\n",
       "Name: text, dtype: int64"
      ]
     },
     "execution_count": 39,
     "metadata": {},
     "output_type": "execute_result"
    }
   ],
   "source": [
    "hoofdDataSet[(hoofdDataSet['ID'] == 35) & (hoofdDataSet['group'] == 'Rendement')].groupby('text').text.count()"
   ]
  },
  {
   "cell_type": "markdown",
   "metadata": {},
   "source": [
    "## 1.5 Wedstijd koppel aan speler exploratie"
   ]
  },
  {
   "cell_type": "code",
   "execution_count": 40,
   "metadata": {
    "collapsed": true
   },
   "outputs": [],
   "source": [
    "def toFloat(df):\n",
    "    df_result = df\n",
    "    if (df_result['start'].dtype == object):\n",
    "        df_result['start'] = df_result['start'].str.replace(\",\", \".\")\n",
    "        df_result['start'] = df_result['start'].astype(float).fillna(0.0)\n",
    "    \n",
    "    if (df_result['end'].dtype == object):\n",
    "        df_result['end'] = df_result['end'].str.replace(\",\", \".\")\n",
    "        df_result['end'] = df_result['end'].astype(float).fillna(0.0)\n",
    "    return df"
   ]
  },
  {
   "cell_type": "code",
   "execution_count": 41,
   "metadata": {
    "collapsed": true
   },
   "outputs": [],
   "source": [
    "for dicty in playerDict:\n",
    "    for game in os.listdir(\"games\"):\n",
    "        if game.startswith(dicty[\"ID\"]):\n",
    "            df_test = pd.read_csv(game, sep=';')\n",
    "            df_test = toFloat(df_test)\n",
    "            df_test = df_test[[\"ID\", \"start\", \"end\", \"code\", \"text\", \"group\"]]\n",
    "            dicty[\"dataframe\"] = df_test"
   ]
  },
  {
   "cell_type": "code",
   "execution_count": null,
   "metadata": {
    "collapsed": true
   },
   "outputs": [],
   "source": []
  },
  {
   "cell_type": "markdown",
   "metadata": {},
   "source": [
    "# 2. Analyse"
   ]
  },
  {
   "cell_type": "markdown",
   "metadata": {},
   "source": [
    "### 2.1 Zone Matrix aan de dataset toevoegen"
   ]
  },
  {
   "cell_type": "code",
   "execution_count": 42,
   "metadata": {
    "collapsed": false
   },
   "outputs": [],
   "source": [
    "def calculateZone(df, zone, last=False):\n",
    "    if (last == True):\n",
    "        last = -1\n",
    "    else:\n",
    "        last = 0\n",
    "        \n",
    "    if (int(df['zonesCount']) >= 2) & (str(df.zonesList[last][-1:]) == str(zone)):\n",
    "        return 'true'\n",
    "    else:\n",
    "        return 'false'\n",
    "\n",
    "df_zones['vanZone1'] = df_zones[['zonesCount', 'zonesList']].apply(lambda df: calculateZone(df, 1), axis=1)\n",
    "df_zones['vanZone2'] = df_zones[['zonesCount', 'zonesList']].apply(lambda df: calculateZone(df, 2), axis=1)\n",
    "df_zones['vanZone3'] = df_zones[['zonesCount', 'zonesList']].apply(lambda df: calculateZone(df, 3), axis=1)\n",
    "df_zones['vanZone4'] = df_zones[['zonesCount', 'zonesList']].apply(lambda df: calculateZone(df, 4), axis=1)\n",
    "\n",
    "df_zones['naarZone1'] = df_zones[['zonesCount', 'zonesList']].apply(lambda df: calculateZone(df, 1, True), axis=1)\n",
    "df_zones['naarZone2'] = df_zones[['zonesCount', 'zonesList']].apply(lambda df: calculateZone(df, 2, True), axis=1)\n",
    "df_zones['naarZone3'] = df_zones[['zonesCount', 'zonesList']].apply(lambda df: calculateZone(df, 3, True), axis=1)\n",
    "df_zones['naarZone4'] = df_zones[['zonesCount', 'zonesList']].apply(lambda df: calculateZone(df, 4, True), axis=1)"
   ]
  },
  {
   "cell_type": "markdown",
   "metadata": {},
   "source": [
    "Een functie om vast te leggen vanuit welke zone een actie heeft plaatsgevonden en waar deze is geëindigd. Acties die minder dan twee zones bevatten worden uberhaupt op false gezet. Deze acties zijn namelijk minder interesant voor de latere analyses omdat het doel is om de verschillende zones binnen een actie te analyseren."
   ]
  },
  {
   "cell_type": "markdown",
   "metadata": {},
   "source": [
    "#### Resultaat:"
   ]
  },
  {
   "cell_type": "markdown",
   "metadata": {},
   "source": [
    "Er zijn nu 8 columns bijgekomen die met een boolean waarde aangeeft of in die zone de actie is begonnen of is geëindigd."
   ]
  },
  {
   "cell_type": "code",
   "execution_count": 43,
   "metadata": {
    "collapsed": false
   },
   "outputs": [
    {
     "data": {
      "text/html": [
       "<div>\n",
       "<table border=\"1\" class=\"dataframe\">\n",
       "  <thead>\n",
       "    <tr style=\"text-align: right;\">\n",
       "      <th></th>\n",
       "      <th>id</th>\n",
       "      <th>zones</th>\n",
       "      <th>zonesList</th>\n",
       "      <th>zonesCount</th>\n",
       "      <th>vanZone1</th>\n",
       "      <th>vanZone2</th>\n",
       "      <th>vanZone3</th>\n",
       "      <th>vanZone4</th>\n",
       "      <th>naarZone1</th>\n",
       "      <th>naarZone2</th>\n",
       "      <th>naarZone3</th>\n",
       "      <th>naarZone4</th>\n",
       "    </tr>\n",
       "  </thead>\n",
       "  <tbody>\n",
       "    <tr>\n",
       "      <th>0</th>\n",
       "      <td>20.0</td>\n",
       "      <td>L3,R2,M3</td>\n",
       "      <td>[L3, R2, M3]</td>\n",
       "      <td>3</td>\n",
       "      <td>false</td>\n",
       "      <td>false</td>\n",
       "      <td>true</td>\n",
       "      <td>false</td>\n",
       "      <td>false</td>\n",
       "      <td>false</td>\n",
       "      <td>true</td>\n",
       "      <td>false</td>\n",
       "    </tr>\n",
       "    <tr>\n",
       "      <th>1</th>\n",
       "      <td>22.0</td>\n",
       "      <td>R2</td>\n",
       "      <td>[R2]</td>\n",
       "      <td>1</td>\n",
       "      <td>false</td>\n",
       "      <td>false</td>\n",
       "      <td>false</td>\n",
       "      <td>false</td>\n",
       "      <td>false</td>\n",
       "      <td>false</td>\n",
       "      <td>false</td>\n",
       "      <td>false</td>\n",
       "    </tr>\n",
       "    <tr>\n",
       "      <th>2</th>\n",
       "      <td>23.0</td>\n",
       "      <td>L3,R2,M3</td>\n",
       "      <td>[L3, R2, M3]</td>\n",
       "      <td>3</td>\n",
       "      <td>false</td>\n",
       "      <td>false</td>\n",
       "      <td>true</td>\n",
       "      <td>false</td>\n",
       "      <td>false</td>\n",
       "      <td>false</td>\n",
       "      <td>true</td>\n",
       "      <td>false</td>\n",
       "    </tr>\n",
       "    <tr>\n",
       "      <th>3</th>\n",
       "      <td>27.0</td>\n",
       "      <td>R2,M3</td>\n",
       "      <td>[R2, M3]</td>\n",
       "      <td>2</td>\n",
       "      <td>false</td>\n",
       "      <td>true</td>\n",
       "      <td>false</td>\n",
       "      <td>false</td>\n",
       "      <td>false</td>\n",
       "      <td>false</td>\n",
       "      <td>true</td>\n",
       "      <td>false</td>\n",
       "    </tr>\n",
       "    <tr>\n",
       "      <th>4</th>\n",
       "      <td>28.0</td>\n",
       "      <td>M3</td>\n",
       "      <td>[M3]</td>\n",
       "      <td>1</td>\n",
       "      <td>false</td>\n",
       "      <td>false</td>\n",
       "      <td>false</td>\n",
       "      <td>false</td>\n",
       "      <td>false</td>\n",
       "      <td>false</td>\n",
       "      <td>false</td>\n",
       "      <td>false</td>\n",
       "    </tr>\n",
       "  </tbody>\n",
       "</table>\n",
       "</div>"
      ],
      "text/plain": [
       "     id     zones     zonesList  zonesCount vanZone1 vanZone2 vanZone3  \\\n",
       "0  20.0  L3,R2,M3  [L3, R2, M3]           3    false    false     true   \n",
       "1  22.0        R2          [R2]           1    false    false    false   \n",
       "2  23.0  L3,R2,M3  [L3, R2, M3]           3    false    false     true   \n",
       "3  27.0     R2,M3      [R2, M3]           2    false     true    false   \n",
       "4  28.0        M3          [M3]           1    false    false    false   \n",
       "\n",
       "  vanZone4 naarZone1 naarZone2 naarZone3 naarZone4  \n",
       "0    false     false     false      true     false  \n",
       "1    false     false     false     false     false  \n",
       "2    false     false     false      true     false  \n",
       "3    false     false     false      true     false  \n",
       "4    false     false     false     false     false  "
      ]
     },
     "execution_count": 43,
     "metadata": {},
     "output_type": "execute_result"
    }
   ],
   "source": [
    "df_zones.head(5)"
   ]
  },
  {
   "cell_type": "markdown",
   "metadata": {},
   "source": [
    "Nu kan er bijvoorbeeld worden bekeken welke zones er worden gebruikt (per actie) om uiteindelijk zone 4 te bereiken. Hieronder staan de zelfde acties ook nog eens gecount zodat dit wat meer ovezicht geeft."
   ]
  },
  {
   "cell_type": "code",
   "execution_count": 44,
   "metadata": {
    "collapsed": false
   },
   "outputs": [
    {
     "data": {
      "text/plain": [
       "zones\n",
       "M3,M4                                                    6\n",
       "L4,M4                                                    6\n",
       "R3,M4                                                    4\n",
       "R4,M4                                                    4\n",
       "M3,L3,M2,L2,L3,M4                                        2\n",
       "L4,M4,M2,L3,L2,M2,M3,R3,R2,L2,L3,M2,R2,M4                2\n",
       "M1,L2,M2,R2,M3,R4,M4                                     2\n",
       "M1,M3,M4,L4,M4                                           2\n",
       "M2,L2,L3,R3,M3,M4                                        2\n",
       "M2,L4                                                    2\n",
       "M2,M2,L2,M2,L3,M3,R3,M3,R3,M2,R3,R2,M3,M2,L3,L2,R3,R4    2\n",
       "L2,M2,L2,M4                                              2\n",
       "L3,M2,R3,M4,L4,M4,L4,M4,M3,L3,L4,R4,M4                   2\n",
       "M4,L4                                                    2\n",
       "R1,M1,M2,R2,R3,R2,R3,M3,M4                               2\n",
       "R2,M2,L2,M2,R3,M4                                        2\n",
       "R2,M2,L3,M4                                              2\n",
       "L3,M4                                                    1\n",
       "L2,M4                                                    1\n",
       "L2,M2,R3,M4                                              1\n",
       "R4,R4                                                    1\n",
       "M3,M4,L4                                                 1\n",
       "M4,L4,M4                                                 1\n",
       "R3,R4                                                    1\n",
       "M2,R2,M3,R4,M4                                           1\n",
       "Name: zones, dtype: int64"
      ]
     },
     "execution_count": 44,
     "metadata": {},
     "output_type": "execute_result"
    }
   ],
   "source": [
    "df_zones[df_zones['naarZone4'] == 'true'].groupby('zones').zones.count().order(ascending=False)"
   ]
  },
  {
   "cell_type": "markdown",
   "metadata": {
    "collapsed": true
   },
   "source": [
    "### 2.2 Koppleing met het rendement"
   ]
  },
  {
   "cell_type": "markdown",
   "metadata": {},
   "source": [
    "Een column zal worden toegevoegd met daarin (indien beschikbaar) het meegegeven rendement voor die specifieke actie:"
   ]
  },
  {
   "cell_type": "code",
   "execution_count": 45,
   "metadata": {
    "collapsed": false
   },
   "outputs": [],
   "source": [
    "df_zones['rendement'] = None\n",
    "def calculateZone(df_zones, df_xml):\n",
    "    return df_xml[(df_xml['ID'] == df_zones) & (df_xml['group'] == 'Rendement')].groupby('text').text.first()\n",
    "\n",
    "df_zones['rendement'] = df_zones['id'].apply(lambda x: calculateZone(x, hoofdDataSet))"
   ]
  },
  {
   "cell_type": "code",
   "execution_count": 46,
   "metadata": {
    "collapsed": false
   },
   "outputs": [
    {
     "data": {
      "text/html": [
       "<div>\n",
       "<table border=\"1\" class=\"dataframe\">\n",
       "  <thead>\n",
       "    <tr style=\"text-align: right;\">\n",
       "      <th></th>\n",
       "      <th>id</th>\n",
       "      <th>zones</th>\n",
       "      <th>zonesList</th>\n",
       "      <th>zonesCount</th>\n",
       "      <th>vanZone1</th>\n",
       "      <th>vanZone2</th>\n",
       "      <th>vanZone3</th>\n",
       "      <th>vanZone4</th>\n",
       "      <th>naarZone1</th>\n",
       "      <th>naarZone2</th>\n",
       "      <th>naarZone3</th>\n",
       "      <th>naarZone4</th>\n",
       "      <th>rendement</th>\n",
       "    </tr>\n",
       "  </thead>\n",
       "  <tbody>\n",
       "    <tr>\n",
       "      <th>0</th>\n",
       "      <td>20.0</td>\n",
       "      <td>L3,R2,M3</td>\n",
       "      <td>[L3, R2, M3]</td>\n",
       "      <td>3</td>\n",
       "      <td>false</td>\n",
       "      <td>false</td>\n",
       "      <td>true</td>\n",
       "      <td>false</td>\n",
       "      <td>false</td>\n",
       "      <td>false</td>\n",
       "      <td>true</td>\n",
       "      <td>false</td>\n",
       "      <td>BOP</td>\n",
       "    </tr>\n",
       "    <tr>\n",
       "      <th>1</th>\n",
       "      <td>22.0</td>\n",
       "      <td>R2</td>\n",
       "      <td>[R2]</td>\n",
       "      <td>1</td>\n",
       "      <td>false</td>\n",
       "      <td>false</td>\n",
       "      <td>false</td>\n",
       "      <td>false</td>\n",
       "      <td>false</td>\n",
       "      <td>false</td>\n",
       "      <td>false</td>\n",
       "      <td>false</td>\n",
       "      <td>NaN</td>\n",
       "    </tr>\n",
       "    <tr>\n",
       "      <th>2</th>\n",
       "      <td>23.0</td>\n",
       "      <td>L3,R2,M3</td>\n",
       "      <td>[L3, R2, M3]</td>\n",
       "      <td>3</td>\n",
       "      <td>false</td>\n",
       "      <td>false</td>\n",
       "      <td>true</td>\n",
       "      <td>false</td>\n",
       "      <td>false</td>\n",
       "      <td>false</td>\n",
       "      <td>true</td>\n",
       "      <td>false</td>\n",
       "      <td>BOP</td>\n",
       "    </tr>\n",
       "    <tr>\n",
       "      <th>3</th>\n",
       "      <td>27.0</td>\n",
       "      <td>R2,M3</td>\n",
       "      <td>[R2, M3]</td>\n",
       "      <td>2</td>\n",
       "      <td>false</td>\n",
       "      <td>true</td>\n",
       "      <td>false</td>\n",
       "      <td>false</td>\n",
       "      <td>false</td>\n",
       "      <td>false</td>\n",
       "      <td>true</td>\n",
       "      <td>false</td>\n",
       "      <td>NaN</td>\n",
       "    </tr>\n",
       "    <tr>\n",
       "      <th>4</th>\n",
       "      <td>28.0</td>\n",
       "      <td>M3</td>\n",
       "      <td>[M3]</td>\n",
       "      <td>1</td>\n",
       "      <td>false</td>\n",
       "      <td>false</td>\n",
       "      <td>false</td>\n",
       "      <td>false</td>\n",
       "      <td>false</td>\n",
       "      <td>false</td>\n",
       "      <td>false</td>\n",
       "      <td>false</td>\n",
       "      <td>NaN</td>\n",
       "    </tr>\n",
       "    <tr>\n",
       "      <th>5</th>\n",
       "      <td>29.0</td>\n",
       "      <td>M3</td>\n",
       "      <td>[M3]</td>\n",
       "      <td>1</td>\n",
       "      <td>false</td>\n",
       "      <td>false</td>\n",
       "      <td>false</td>\n",
       "      <td>false</td>\n",
       "      <td>false</td>\n",
       "      <td>false</td>\n",
       "      <td>false</td>\n",
       "      <td>false</td>\n",
       "      <td>NaN</td>\n",
       "    </tr>\n",
       "    <tr>\n",
       "      <th>6</th>\n",
       "      <td>32.0</td>\n",
       "      <td>R4</td>\n",
       "      <td>[R4]</td>\n",
       "      <td>1</td>\n",
       "      <td>false</td>\n",
       "      <td>false</td>\n",
       "      <td>false</td>\n",
       "      <td>false</td>\n",
       "      <td>false</td>\n",
       "      <td>false</td>\n",
       "      <td>false</td>\n",
       "      <td>false</td>\n",
       "      <td>NaN</td>\n",
       "    </tr>\n",
       "    <tr>\n",
       "      <th>7</th>\n",
       "      <td>34.0</td>\n",
       "      <td>R4</td>\n",
       "      <td>[R4]</td>\n",
       "      <td>1</td>\n",
       "      <td>false</td>\n",
       "      <td>false</td>\n",
       "      <td>false</td>\n",
       "      <td>false</td>\n",
       "      <td>false</td>\n",
       "      <td>false</td>\n",
       "      <td>false</td>\n",
       "      <td>false</td>\n",
       "      <td>BOP</td>\n",
       "    </tr>\n",
       "    <tr>\n",
       "      <th>8</th>\n",
       "      <td>35.0</td>\n",
       "      <td>R4,R4</td>\n",
       "      <td>[R4, R4]</td>\n",
       "      <td>2</td>\n",
       "      <td>false</td>\n",
       "      <td>false</td>\n",
       "      <td>false</td>\n",
       "      <td>true</td>\n",
       "      <td>false</td>\n",
       "      <td>false</td>\n",
       "      <td>false</td>\n",
       "      <td>true</td>\n",
       "      <td>BOP</td>\n",
       "    </tr>\n",
       "    <tr>\n",
       "      <th>9</th>\n",
       "      <td>36.0</td>\n",
       "      <td>R4</td>\n",
       "      <td>[R4]</td>\n",
       "      <td>1</td>\n",
       "      <td>false</td>\n",
       "      <td>false</td>\n",
       "      <td>false</td>\n",
       "      <td>false</td>\n",
       "      <td>false</td>\n",
       "      <td>false</td>\n",
       "      <td>false</td>\n",
       "      <td>false</td>\n",
       "      <td>BOP</td>\n",
       "    </tr>\n",
       "  </tbody>\n",
       "</table>\n",
       "</div>"
      ],
      "text/plain": [
       "     id     zones     zonesList  zonesCount vanZone1 vanZone2 vanZone3  \\\n",
       "0  20.0  L3,R2,M3  [L3, R2, M3]           3    false    false     true   \n",
       "1  22.0        R2          [R2]           1    false    false    false   \n",
       "2  23.0  L3,R2,M3  [L3, R2, M3]           3    false    false     true   \n",
       "3  27.0     R2,M3      [R2, M3]           2    false     true    false   \n",
       "4  28.0        M3          [M3]           1    false    false    false   \n",
       "5  29.0        M3          [M3]           1    false    false    false   \n",
       "6  32.0        R4          [R4]           1    false    false    false   \n",
       "7  34.0        R4          [R4]           1    false    false    false   \n",
       "8  35.0     R4,R4      [R4, R4]           2    false    false    false   \n",
       "9  36.0        R4          [R4]           1    false    false    false   \n",
       "\n",
       "  vanZone4 naarZone1 naarZone2 naarZone3 naarZone4 rendement  \n",
       "0    false     false     false      true     false       BOP  \n",
       "1    false     false     false     false     false       NaN  \n",
       "2    false     false     false      true     false       BOP  \n",
       "3    false     false     false      true     false       NaN  \n",
       "4    false     false     false     false     false       NaN  \n",
       "5    false     false     false     false     false       NaN  \n",
       "6    false     false     false     false     false       NaN  \n",
       "7    false     false     false     false     false       BOP  \n",
       "8     true     false     false     false      true       BOP  \n",
       "9    false     false     false     false     false       BOP  "
      ]
     },
     "execution_count": 46,
     "metadata": {},
     "output_type": "execute_result"
    }
   ],
   "source": [
    "df_zones.head(10)"
   ]
  },
  {
   "cell_type": "markdown",
   "metadata": {},
   "source": [
    "### 2.3 Zone procentage links, midden en rechts"
   ]
  },
  {
   "cell_type": "markdown",
   "metadata": {},
   "source": [
    "Ook is het interesant om te weten hoeveel procent van de actie aan welke kant van het veld heeft plaatsgevonden. Hiervoor is het onderverdeeld in een linker, midden en rechter deel. De onderstaande functie berekent voor elke actie per gebruikte zone waar deze heeft plaatsgevonden:"
   ]
  },
  {
   "cell_type": "code",
   "execution_count": 47,
   "metadata": {
    "collapsed": false
   },
   "outputs": [
    {
     "data": {
      "text/plain": [
       "[33.33333333333333, 33.33333333333333, 33.33333333333333]"
      ]
     },
     "execution_count": 47,
     "metadata": {},
     "output_type": "execute_result"
    }
   ],
   "source": [
    "def zonePercentage(zoneList):\n",
    "    result = []\n",
    "    l = 0\n",
    "    m = 0\n",
    "    r = 0\n",
    "    \n",
    "    if (zoneList == None):\n",
    "        return [0,0,0]\n",
    "    \n",
    "    for x in zoneList:  \n",
    "        if (str(x[0]) == 'L'):\n",
    "            l += 1\n",
    "        elif (str(x[0]) == 'M'):\n",
    "            m += 1\n",
    "        elif(str(x[0]) == 'R'):\n",
    "            r += 1\n",
    "    \n",
    "    result.append(l / len(zoneList) * 100)\n",
    "    result.append(m / len(zoneList) * 100)\n",
    "    result.append(r / len(zoneList) * 100)\n",
    "    \n",
    "    return result\n",
    "    \n",
    "zonePercentage(['L3', 'R2', 'M3'])"
   ]
  },
  {
   "cell_type": "markdown",
   "metadata": {},
   "source": [
    "Hier boven zie je in een voorbeeld dat de zones L3, R2 en M3 berekent worden als 33% links midden en rechts."
   ]
  },
  {
   "cell_type": "code",
   "execution_count": 48,
   "metadata": {
    "collapsed": false
   },
   "outputs": [],
   "source": [
    "df_zones['lPercentage'] = df_zones['zonesList'].apply(lambda x: zonePercentage(x)[0])\n",
    "df_zones['mPercentage'] = df_zones['zonesList'].apply(lambda x: zonePercentage(x)[1])\n",
    "df_zones['rPercentage'] = df_zones['zonesList'].apply(lambda x: zonePercentage(x)[2])"
   ]
  },
  {
   "cell_type": "code",
   "execution_count": 49,
   "metadata": {
    "collapsed": false
   },
   "outputs": [
    {
     "data": {
      "text/html": [
       "<div>\n",
       "<table border=\"1\" class=\"dataframe\">\n",
       "  <thead>\n",
       "    <tr style=\"text-align: right;\">\n",
       "      <th></th>\n",
       "      <th>id</th>\n",
       "      <th>zones</th>\n",
       "      <th>zonesList</th>\n",
       "      <th>zonesCount</th>\n",
       "      <th>vanZone1</th>\n",
       "      <th>vanZone2</th>\n",
       "      <th>vanZone3</th>\n",
       "      <th>vanZone4</th>\n",
       "      <th>naarZone1</th>\n",
       "      <th>naarZone2</th>\n",
       "      <th>naarZone3</th>\n",
       "      <th>naarZone4</th>\n",
       "      <th>rendement</th>\n",
       "      <th>lPercentage</th>\n",
       "      <th>mPercentage</th>\n",
       "      <th>rPercentage</th>\n",
       "    </tr>\n",
       "  </thead>\n",
       "  <tbody>\n",
       "    <tr>\n",
       "      <th>0</th>\n",
       "      <td>20.0</td>\n",
       "      <td>L3,R2,M3</td>\n",
       "      <td>[L3, R2, M3]</td>\n",
       "      <td>3</td>\n",
       "      <td>false</td>\n",
       "      <td>false</td>\n",
       "      <td>true</td>\n",
       "      <td>false</td>\n",
       "      <td>false</td>\n",
       "      <td>false</td>\n",
       "      <td>true</td>\n",
       "      <td>false</td>\n",
       "      <td>BOP</td>\n",
       "      <td>33.333333</td>\n",
       "      <td>33.333333</td>\n",
       "      <td>33.333333</td>\n",
       "    </tr>\n",
       "    <tr>\n",
       "      <th>1</th>\n",
       "      <td>22.0</td>\n",
       "      <td>R2</td>\n",
       "      <td>[R2]</td>\n",
       "      <td>1</td>\n",
       "      <td>false</td>\n",
       "      <td>false</td>\n",
       "      <td>false</td>\n",
       "      <td>false</td>\n",
       "      <td>false</td>\n",
       "      <td>false</td>\n",
       "      <td>false</td>\n",
       "      <td>false</td>\n",
       "      <td>NaN</td>\n",
       "      <td>0.000000</td>\n",
       "      <td>0.000000</td>\n",
       "      <td>100.000000</td>\n",
       "    </tr>\n",
       "    <tr>\n",
       "      <th>2</th>\n",
       "      <td>23.0</td>\n",
       "      <td>L3,R2,M3</td>\n",
       "      <td>[L3, R2, M3]</td>\n",
       "      <td>3</td>\n",
       "      <td>false</td>\n",
       "      <td>false</td>\n",
       "      <td>true</td>\n",
       "      <td>false</td>\n",
       "      <td>false</td>\n",
       "      <td>false</td>\n",
       "      <td>true</td>\n",
       "      <td>false</td>\n",
       "      <td>BOP</td>\n",
       "      <td>33.333333</td>\n",
       "      <td>33.333333</td>\n",
       "      <td>33.333333</td>\n",
       "    </tr>\n",
       "    <tr>\n",
       "      <th>3</th>\n",
       "      <td>27.0</td>\n",
       "      <td>R2,M3</td>\n",
       "      <td>[R2, M3]</td>\n",
       "      <td>2</td>\n",
       "      <td>false</td>\n",
       "      <td>true</td>\n",
       "      <td>false</td>\n",
       "      <td>false</td>\n",
       "      <td>false</td>\n",
       "      <td>false</td>\n",
       "      <td>true</td>\n",
       "      <td>false</td>\n",
       "      <td>NaN</td>\n",
       "      <td>0.000000</td>\n",
       "      <td>50.000000</td>\n",
       "      <td>50.000000</td>\n",
       "    </tr>\n",
       "    <tr>\n",
       "      <th>4</th>\n",
       "      <td>28.0</td>\n",
       "      <td>M3</td>\n",
       "      <td>[M3]</td>\n",
       "      <td>1</td>\n",
       "      <td>false</td>\n",
       "      <td>false</td>\n",
       "      <td>false</td>\n",
       "      <td>false</td>\n",
       "      <td>false</td>\n",
       "      <td>false</td>\n",
       "      <td>false</td>\n",
       "      <td>false</td>\n",
       "      <td>NaN</td>\n",
       "      <td>0.000000</td>\n",
       "      <td>100.000000</td>\n",
       "      <td>0.000000</td>\n",
       "    </tr>\n",
       "  </tbody>\n",
       "</table>\n",
       "</div>"
      ],
      "text/plain": [
       "     id     zones     zonesList  zonesCount vanZone1 vanZone2 vanZone3  \\\n",
       "0  20.0  L3,R2,M3  [L3, R2, M3]           3    false    false     true   \n",
       "1  22.0        R2          [R2]           1    false    false    false   \n",
       "2  23.0  L3,R2,M3  [L3, R2, M3]           3    false    false     true   \n",
       "3  27.0     R2,M3      [R2, M3]           2    false     true    false   \n",
       "4  28.0        M3          [M3]           1    false    false    false   \n",
       "\n",
       "  vanZone4 naarZone1 naarZone2 naarZone3 naarZone4 rendement  lPercentage  \\\n",
       "0    false     false     false      true     false       BOP    33.333333   \n",
       "1    false     false     false     false     false       NaN     0.000000   \n",
       "2    false     false     false      true     false       BOP    33.333333   \n",
       "3    false     false     false      true     false       NaN     0.000000   \n",
       "4    false     false     false     false     false       NaN     0.000000   \n",
       "\n",
       "   mPercentage  rPercentage  \n",
       "0    33.333333    33.333333  \n",
       "1     0.000000   100.000000  \n",
       "2    33.333333    33.333333  \n",
       "3    50.000000    50.000000  \n",
       "4   100.000000     0.000000  "
      ]
     },
     "execution_count": 49,
     "metadata": {},
     "output_type": "execute_result"
    }
   ],
   "source": [
    "df_zones.head(5)"
   ]
  },
  {
   "cell_type": "markdown",
   "metadata": {},
   "source": [
    "### 2.4 Rendement per speler per wedstrijd"
   ]
  },
  {
   "cell_type": "code",
   "execution_count": 50,
   "metadata": {
    "collapsed": false
   },
   "outputs": [
    {
     "name": "stdout",
     "output_type": "stream",
     "text": [
      "   count                            player   rendement\n",
      "0      1  753a52e5fb8f4331a765c721b6b1271f    Foul TEG\n",
      "0      1  9c22deb258fa4a55bb736b89a40004d5         BOP\n",
      "1      2  9c22deb258fa4a55bb736b89a40004d5  Balverlies\n",
      "2      1  9c22deb258fa4a55bb736b89a40004d5    Foul NEC\n",
      "3      1  9c22deb258fa4a55bb736b89a40004d5    Foul TEG\n"
     ]
    }
   ],
   "source": [
    "Rendamento = []\n",
    "for i in playerDict:\n",
    "    match = i[\"match\"]\n",
    "    players = i[\"players\"]\n",
    "    df = i[\"dataframe\"]\n",
    "    dfs = []\n",
    "    for x in players:\n",
    "        if (len(df[df[\"code\"] == x]) > 0):\n",
    "            c = df[df[\"code\"] == x][df[\"group\"] == 'Rendement']\n",
    "            d = c.groupby(['text']).text.count()\n",
    "            dff = pd.DataFrame({'player':x, 'count':d.values, 'rendement':d.index})\n",
    "            dfs.append(dff)\n",
    "    zoneplays = pd.concat(dfs)\n",
    "    Rendamento.append({'match':match, 'plays':zoneplays})\n",
    "print(Rendamento[0]['plays'].head())"
   ]
  },
  {
   "cell_type": "markdown",
   "metadata": {},
   "source": [
    "### 2.5 Zone gespeelt per speler per wedstrijd"
   ]
  },
  {
   "cell_type": "code",
   "execution_count": 51,
   "metadata": {
    "collapsed": false
   },
   "outputs": [
    {
     "name": "stdout",
     "output_type": "stream",
     "text": [
      "   count                            player    zone\n",
      "0      1  753a52e5fb8f4331a765c721b6b1271f  M3 NEC\n",
      "0      4  9c22deb258fa4a55bb736b89a40004d5  L2 NEC\n",
      "1      2  9c22deb258fa4a55bb736b89a40004d5  L3 NEC\n",
      "2      1  9c22deb258fa4a55bb736b89a40004d5  L4 NEC\n",
      "3      1  9c22deb258fa4a55bb736b89a40004d5  M1 NEC\n"
     ]
    }
   ],
   "source": [
    "zoneplayspMatch = []\n",
    "for i in playerDict:\n",
    "    match = i[\"match\"]\n",
    "    players = i[\"players\"]\n",
    "    df = i[\"dataframe\"]\n",
    "    dfs = []\n",
    "    for x in players:\n",
    "        if (len(df[df[\"code\"] == x]) > 0):\n",
    "            c = df[df[\"code\"] == x][df[\"group\"] == 'Naar zone']\n",
    "            d = c.groupby(['text']).text.count()\n",
    "            dff = pd.DataFrame({'player':x, 'count':d.values, 'zone':d.index})\n",
    "            dfs.append(dff)\n",
    "    zoneplays = pd.concat(dfs)\n",
    "    zoneplayspMatch.append({'match':match, 'plays':zoneplays})\n",
    "print(zoneplayspMatch[0]['plays'].head())"
   ]
  },
  {
   "cell_type": "code",
   "execution_count": 52,
   "metadata": {
    "collapsed": false
   },
   "outputs": [
    {
     "name": "stdout",
     "output_type": "stream",
     "text": [
      "   count                            player zone group\n",
      "0      1  753a52e5fb8f4331a765c721b6b1271f   M3     M\n",
      "0      4  9c22deb258fa4a55bb736b89a40004d5   L2     L\n",
      "   count                            player zone group\n",
      "0      1  5eda168ff3524254a76be741e3bb650e   M2     M\n",
      "1      1  5eda168ff3524254a76be741e3bb650e   R2     R\n",
      "   count                            player zone group\n",
      "0      1  17d904e1c0cf4cb6bd7e3613675d443d   L1     L\n",
      "1      6  17d904e1c0cf4cb6bd7e3613675d443d   L2     L\n",
      "   count                            player zone group\n",
      "0      1  107f47d289c64a9a9364cbc10df21aaf   L3     L\n",
      "1      1  107f47d289c64a9a9364cbc10df21aaf   M2     M\n"
     ]
    }
   ],
   "source": [
    "#fixing the 'NEC' tag in zone column and adding a new column with the zonegroup\n",
    "for i in zoneplayspMatch:\n",
    "    play = i[\"plays\"]\n",
    "    group = play['zone'].astype(str).str[0]\n",
    "    i[\"plays\"]['zone'] = play['zone'].astype(str).str[:2]\n",
    "    i[\"plays\"]['group'] = group\n",
    "    print(i[\"plays\"].head(2))"
   ]
  },
  {
   "cell_type": "markdown",
   "metadata": {},
   "source": [
    "## 3. Data Visualization"
   ]
  },
  {
   "cell_type": "code",
   "execution_count": 53,
   "metadata": {
    "collapsed": false
   },
   "outputs": [
    {
     "data": {
      "text/html": [
       "\n",
       "    <div class=\"bk-root\">\n",
       "        <a href=\"http://bokeh.pydata.org\" target=\"_blank\" class=\"bk-logo bk-logo-small bk-logo-notebook\"></a>\n",
       "        <span id=\"a16d333f-1a31-4d12-b47c-5c9226a92819\">Loading BokehJS ...</span>\n",
       "    </div>"
      ]
     },
     "metadata": {},
     "output_type": "display_data"
    },
    {
     "data": {
      "application/javascript": [
       "\n",
       "(function(global) {\n",
       "  function now() {\n",
       "    return new Date();\n",
       "  }\n",
       "\n",
       "  var force = true;\n",
       "\n",
       "  if (typeof (window._bokeh_onload_callbacks) === \"undefined\" || force === true) {\n",
       "    window._bokeh_onload_callbacks = [];\n",
       "    window._bokeh_is_loading = undefined;\n",
       "  }\n",
       "\n",
       "\n",
       "  \n",
       "  if (typeof (window._bokeh_timeout) === \"undefined\" || force === true) {\n",
       "    window._bokeh_timeout = Date.now() + 5000;\n",
       "    window._bokeh_failed_load = false;\n",
       "  }\n",
       "\n",
       "  var NB_LOAD_WARNING = {'data': {'text/html':\n",
       "     \"<div style='background-color: #fdd'>\\n\"+\n",
       "     \"<p>\\n\"+\n",
       "     \"BokehJS does not appear to have successfully loaded. If loading BokehJS from CDN, this \\n\"+\n",
       "     \"may be due to a slow or bad network connection. Possible fixes:\\n\"+\n",
       "     \"</p>\\n\"+\n",
       "     \"<ul>\\n\"+\n",
       "     \"<li>re-rerun `output_notebook()` to attempt to load from CDN again, or</li>\\n\"+\n",
       "     \"<li>use INLINE resources instead, as so:</li>\\n\"+\n",
       "     \"</ul>\\n\"+\n",
       "     \"<code>\\n\"+\n",
       "     \"from bokeh.resources import INLINE\\n\"+\n",
       "     \"output_notebook(resources=INLINE)\\n\"+\n",
       "     \"</code>\\n\"+\n",
       "     \"</div>\"}};\n",
       "\n",
       "  function display_loaded() {\n",
       "    if (window.Bokeh !== undefined) {\n",
       "      document.getElementById(\"a16d333f-1a31-4d12-b47c-5c9226a92819\").textContent = \"BokehJS successfully loaded.\";\n",
       "    } else if (Date.now() < window._bokeh_timeout) {\n",
       "      setTimeout(display_loaded, 100)\n",
       "    }\n",
       "  }\n",
       "\n",
       "  function run_callbacks() {\n",
       "    window._bokeh_onload_callbacks.forEach(function(callback) { callback() });\n",
       "    delete window._bokeh_onload_callbacks\n",
       "    console.info(\"Bokeh: all callbacks have finished\");\n",
       "  }\n",
       "\n",
       "  function load_libs(js_urls, callback) {\n",
       "    window._bokeh_onload_callbacks.push(callback);\n",
       "    if (window._bokeh_is_loading > 0) {\n",
       "      console.log(\"Bokeh: BokehJS is being loaded, scheduling callback at\", now());\n",
       "      return null;\n",
       "    }\n",
       "    if (js_urls == null || js_urls.length === 0) {\n",
       "      run_callbacks();\n",
       "      return null;\n",
       "    }\n",
       "    console.log(\"Bokeh: BokehJS not loaded, scheduling load and callback at\", now());\n",
       "    window._bokeh_is_loading = js_urls.length;\n",
       "    for (var i = 0; i < js_urls.length; i++) {\n",
       "      var url = js_urls[i];\n",
       "      var s = document.createElement('script');\n",
       "      s.src = url;\n",
       "      s.async = false;\n",
       "      s.onreadystatechange = s.onload = function() {\n",
       "        window._bokeh_is_loading--;\n",
       "        if (window._bokeh_is_loading === 0) {\n",
       "          console.log(\"Bokeh: all BokehJS libraries loaded\");\n",
       "          run_callbacks()\n",
       "        }\n",
       "      };\n",
       "      s.onerror = function() {\n",
       "        console.warn(\"failed to load library \" + url);\n",
       "      };\n",
       "      console.log(\"Bokeh: injecting script tag for BokehJS library: \", url);\n",
       "      document.getElementsByTagName(\"head\")[0].appendChild(s);\n",
       "    }\n",
       "  };var element = document.getElementById(\"a16d333f-1a31-4d12-b47c-5c9226a92819\");\n",
       "  if (element == null) {\n",
       "    console.log(\"Bokeh: ERROR: autoload.js configured with elementid 'a16d333f-1a31-4d12-b47c-5c9226a92819' but no matching script tag was found. \")\n",
       "    return false;\n",
       "  }\n",
       "\n",
       "  var js_urls = [\"https://cdn.pydata.org/bokeh/release/bokeh-0.12.4.min.js\", \"https://cdn.pydata.org/bokeh/release/bokeh-widgets-0.12.4.min.js\"];\n",
       "\n",
       "  var inline_js = [\n",
       "    function(Bokeh) {\n",
       "      Bokeh.set_log_level(\"info\");\n",
       "    },\n",
       "    \n",
       "    function(Bokeh) {\n",
       "      \n",
       "      document.getElementById(\"a16d333f-1a31-4d12-b47c-5c9226a92819\").textContent = \"BokehJS is loading...\";\n",
       "    },\n",
       "    function(Bokeh) {\n",
       "      console.log(\"Bokeh: injecting CSS: https://cdn.pydata.org/bokeh/release/bokeh-0.12.4.min.css\");\n",
       "      Bokeh.embed.inject_css(\"https://cdn.pydata.org/bokeh/release/bokeh-0.12.4.min.css\");\n",
       "      console.log(\"Bokeh: injecting CSS: https://cdn.pydata.org/bokeh/release/bokeh-widgets-0.12.4.min.css\");\n",
       "      Bokeh.embed.inject_css(\"https://cdn.pydata.org/bokeh/release/bokeh-widgets-0.12.4.min.css\");\n",
       "    }\n",
       "  ];\n",
       "\n",
       "  function run_inline_js() {\n",
       "    \n",
       "    if ((window.Bokeh !== undefined) || (force === true)) {\n",
       "      for (var i = 0; i < inline_js.length; i++) {\n",
       "        inline_js[i](window.Bokeh);\n",
       "      }if (force === true) {\n",
       "        display_loaded();\n",
       "      }} else if (Date.now() < window._bokeh_timeout) {\n",
       "      setTimeout(run_inline_js, 100);\n",
       "    } else if (!window._bokeh_failed_load) {\n",
       "      console.log(\"Bokeh: BokehJS failed to load within specified timeout.\");\n",
       "      window._bokeh_failed_load = true;\n",
       "    } else if (force !== true) {\n",
       "      var cell = $(document.getElementById(\"a16d333f-1a31-4d12-b47c-5c9226a92819\")).parents('.cell').data().cell;\n",
       "      cell.output_area.append_execute_result(NB_LOAD_WARNING)\n",
       "    }\n",
       "\n",
       "  }\n",
       "\n",
       "  if (window._bokeh_is_loading === 0) {\n",
       "    console.log(\"Bokeh: BokehJS loaded, going straight to plotting\");\n",
       "    run_inline_js();\n",
       "  } else {\n",
       "    load_libs(js_urls, function() {\n",
       "      console.log(\"Bokeh: BokehJS plotting callback run at\", now());\n",
       "      run_inline_js();\n",
       "    });\n",
       "  }\n",
       "}(this));"
      ]
     },
     "metadata": {},
     "output_type": "display_data"
    }
   ],
   "source": [
    "output_notebook()"
   ]
  },
  {
   "cell_type": "markdown",
   "metadata": {},
   "source": [
    "#### Welke zone combinaties leveren kansen op?"
   ]
  },
  {
   "cell_type": "markdown",
   "metadata": {},
   "source": [
    "Hieronder staat een visualisatie van de zones waarin gespeeld is die uiteindelijk in een actie de vierde zone hebben bereikt. Uiteraard kunnen hier ook andere zones worden geselcteerd om hier een visueel overzicht van te krijgen. Wijzig hiervoor de <i>df_zone4</i>."
   ]
  },
  {
   "cell_type": "code",
   "execution_count": 54,
   "metadata": {
    "collapsed": false
   },
   "outputs": [
    {
     "data": {
      "text/html": [
       "\n",
       "\n",
       "    <div class=\"bk-root\">\n",
       "        <div class=\"bk-plotdiv\" id=\"63499b51-1e58-457a-81c6-b210c57752f8\"></div>\n",
       "    </div>\n",
       "<script type=\"text/javascript\">\n",
       "  \n",
       "  (function(global) {\n",
       "    function now() {\n",
       "      return new Date();\n",
       "    }\n",
       "  \n",
       "    var force = false;\n",
       "  \n",
       "    if (typeof (window._bokeh_onload_callbacks) === \"undefined\" || force === true) {\n",
       "      window._bokeh_onload_callbacks = [];\n",
       "      window._bokeh_is_loading = undefined;\n",
       "    }\n",
       "  \n",
       "  \n",
       "    \n",
       "    if (typeof (window._bokeh_timeout) === \"undefined\" || force === true) {\n",
       "      window._bokeh_timeout = Date.now() + 0;\n",
       "      window._bokeh_failed_load = false;\n",
       "    }\n",
       "  \n",
       "    var NB_LOAD_WARNING = {'data': {'text/html':\n",
       "       \"<div style='background-color: #fdd'>\\n\"+\n",
       "       \"<p>\\n\"+\n",
       "       \"BokehJS does not appear to have successfully loaded. If loading BokehJS from CDN, this \\n\"+\n",
       "       \"may be due to a slow or bad network connection. Possible fixes:\\n\"+\n",
       "       \"</p>\\n\"+\n",
       "       \"<ul>\\n\"+\n",
       "       \"<li>re-rerun `output_notebook()` to attempt to load from CDN again, or</li>\\n\"+\n",
       "       \"<li>use INLINE resources instead, as so:</li>\\n\"+\n",
       "       \"</ul>\\n\"+\n",
       "       \"<code>\\n\"+\n",
       "       \"from bokeh.resources import INLINE\\n\"+\n",
       "       \"output_notebook(resources=INLINE)\\n\"+\n",
       "       \"</code>\\n\"+\n",
       "       \"</div>\"}};\n",
       "  \n",
       "    function display_loaded() {\n",
       "      if (window.Bokeh !== undefined) {\n",
       "        document.getElementById(\"63499b51-1e58-457a-81c6-b210c57752f8\").textContent = \"BokehJS successfully loaded.\";\n",
       "      } else if (Date.now() < window._bokeh_timeout) {\n",
       "        setTimeout(display_loaded, 100)\n",
       "      }\n",
       "    }\n",
       "  \n",
       "    function run_callbacks() {\n",
       "      window._bokeh_onload_callbacks.forEach(function(callback) { callback() });\n",
       "      delete window._bokeh_onload_callbacks\n",
       "      console.info(\"Bokeh: all callbacks have finished\");\n",
       "    }\n",
       "  \n",
       "    function load_libs(js_urls, callback) {\n",
       "      window._bokeh_onload_callbacks.push(callback);\n",
       "      if (window._bokeh_is_loading > 0) {\n",
       "        console.log(\"Bokeh: BokehJS is being loaded, scheduling callback at\", now());\n",
       "        return null;\n",
       "      }\n",
       "      if (js_urls == null || js_urls.length === 0) {\n",
       "        run_callbacks();\n",
       "        return null;\n",
       "      }\n",
       "      console.log(\"Bokeh: BokehJS not loaded, scheduling load and callback at\", now());\n",
       "      window._bokeh_is_loading = js_urls.length;\n",
       "      for (var i = 0; i < js_urls.length; i++) {\n",
       "        var url = js_urls[i];\n",
       "        var s = document.createElement('script');\n",
       "        s.src = url;\n",
       "        s.async = false;\n",
       "        s.onreadystatechange = s.onload = function() {\n",
       "          window._bokeh_is_loading--;\n",
       "          if (window._bokeh_is_loading === 0) {\n",
       "            console.log(\"Bokeh: all BokehJS libraries loaded\");\n",
       "            run_callbacks()\n",
       "          }\n",
       "        };\n",
       "        s.onerror = function() {\n",
       "          console.warn(\"failed to load library \" + url);\n",
       "        };\n",
       "        console.log(\"Bokeh: injecting script tag for BokehJS library: \", url);\n",
       "        document.getElementsByTagName(\"head\")[0].appendChild(s);\n",
       "      }\n",
       "    };var element = document.getElementById(\"63499b51-1e58-457a-81c6-b210c57752f8\");\n",
       "    if (element == null) {\n",
       "      console.log(\"Bokeh: ERROR: autoload.js configured with elementid '63499b51-1e58-457a-81c6-b210c57752f8' but no matching script tag was found. \")\n",
       "      return false;\n",
       "    }\n",
       "  \n",
       "    var js_urls = [];\n",
       "  \n",
       "    var inline_js = [\n",
       "      function(Bokeh) {\n",
       "        (function() {\n",
       "          var fn = function() {\n",
       "            var docs_json = {\"f61c3dd1-64b7-4fb7-8421-0f778ea353e8\":{\"roots\":{\"references\":[{\"attributes\":{\"data_source\":{\"id\":\"86748e6a-7be6-4393-a2e7-443580188074\",\"type\":\"ColumnDataSource\"},\"glyph\":{\"id\":\"25d603e6-c05a-43b1-8dd0-49658edcce38\",\"type\":\"Rect\"},\"hover_glyph\":null,\"nonselection_glyph\":null,\"selection_glyph\":null},\"id\":\"fac6e855-716e-4335-87ce-02795a7cd0f2\",\"type\":\"GlyphRenderer\"},{\"attributes\":{\"fill_alpha\":{\"field\":\"fill_alpha\"},\"fill_color\":{\"field\":\"color\"},\"height\":{\"field\":\"height\",\"units\":\"data\"},\"line_color\":{\"field\":\"line_color\"},\"width\":{\"field\":\"width\",\"units\":\"data\"},\"x\":{\"field\":\"x\"},\"y\":{\"field\":\"y\"}},\"id\":\"71aed251-6f68-4cf4-8b6e-7f81e2b09f0c\",\"type\":\"Rect\"},{\"attributes\":{\"fill_alpha\":{\"field\":\"fill_alpha\"},\"fill_color\":{\"field\":\"color\"},\"height\":{\"field\":\"height\",\"units\":\"data\"},\"line_color\":{\"field\":\"line_color\"},\"width\":{\"field\":\"width\",\"units\":\"data\"},\"x\":{\"field\":\"x\"},\"y\":{\"field\":\"y\"}},\"id\":\"0582fce6-0603-4908-8a4d-590ed3d460fd\",\"type\":\"Rect\"},{\"attributes\":{\"callback\":null,\"column_names\":[\"x\",\"y\",\"width\",\"height\",\"color\",\"fill_alpha\",\"line_color\",\"line_alpha\",\"label\"],\"data\":{\"chart_index\":[{\"index\":\"M1,M3,M4,L4,M4\"}],\"color\":[\"#f22c40\"],\"fill_alpha\":[0.8],\"height\":[2.0],\"index\":[\"M1,M3,M4,L4,M4\"],\"label\":[{\"index\":\"M1,M3,M4,L4,M4\"}],\"line_alpha\":[1.0],\"line_color\":[\"white\"],\"width\":[0.8],\"x\":[\"M1,M3,M4,L4,M4\"],\"y\":[1.0]}},\"id\":\"35cda393-f04e-4d30-9e32-8c726012efcc\",\"type\":\"ColumnDataSource\"},{\"attributes\":{\"fill_alpha\":{\"field\":\"fill_alpha\"},\"fill_color\":{\"field\":\"color\"},\"height\":{\"field\":\"height\",\"units\":\"data\"},\"line_color\":{\"field\":\"line_color\"},\"width\":{\"field\":\"width\",\"units\":\"data\"},\"x\":{\"field\":\"x\"},\"y\":{\"field\":\"y\"}},\"id\":\"666cb7ac-1ca7-46ef-9a9f-d4c8d7f7bac9\",\"type\":\"Rect\"},{\"attributes\":{\"data_source\":{\"id\":\"33f8aee3-49b3-46ef-9e16-e9b5922a4ac8\",\"type\":\"ColumnDataSource\"},\"glyph\":{\"id\":\"5368a4b9-a675-478e-9d96-d532e8dfec96\",\"type\":\"Rect\"},\"hover_glyph\":null,\"nonselection_glyph\":null,\"selection_glyph\":null},\"id\":\"cb91443e-ee20-454b-94e3-af19dda67451\",\"type\":\"GlyphRenderer\"},{\"attributes\":{\"callback\":null,\"column_names\":[\"x\",\"y\",\"width\",\"height\",\"color\",\"fill_alpha\",\"line_color\",\"line_alpha\",\"label\"],\"data\":{\"chart_index\":[{\"index\":\"M2,L4\"}],\"color\":[\"#f22c40\"],\"fill_alpha\":[0.8],\"height\":[2.0],\"index\":[\"M2,L4\"],\"label\":[{\"index\":\"M2,L4\"}],\"line_alpha\":[1.0],\"line_color\":[\"white\"],\"width\":[0.8],\"x\":[\"M2,L4\"],\"y\":[1.0]}},\"id\":\"328c9c42-3d69-44dd-b063-6d441bf8cdf6\",\"type\":\"ColumnDataSource\"},{\"attributes\":{\"fill_alpha\":{\"field\":\"fill_alpha\"},\"fill_color\":{\"field\":\"color\"},\"height\":{\"field\":\"height\",\"units\":\"data\"},\"line_color\":{\"field\":\"line_color\"},\"width\":{\"field\":\"width\",\"units\":\"data\"},\"x\":{\"field\":\"x\"},\"y\":{\"field\":\"y\"}},\"id\":\"5368a4b9-a675-478e-9d96-d532e8dfec96\",\"type\":\"Rect\"},{\"attributes\":{\"fill_alpha\":{\"field\":\"fill_alpha\"},\"fill_color\":{\"field\":\"color\"},\"height\":{\"field\":\"height\",\"units\":\"data\"},\"line_color\":{\"field\":\"line_color\"},\"width\":{\"field\":\"width\",\"units\":\"data\"},\"x\":{\"field\":\"x\"},\"y\":{\"field\":\"y\"}},\"id\":\"d98b41c9-4ed2-4382-a0ba-72e237115b2a\",\"type\":\"Rect\"},{\"attributes\":{\"fill_alpha\":{\"field\":\"fill_alpha\"},\"fill_color\":{\"field\":\"color\"},\"height\":{\"field\":\"height\",\"units\":\"data\"},\"line_color\":{\"field\":\"line_color\"},\"width\":{\"field\":\"width\",\"units\":\"data\"},\"x\":{\"field\":\"x\"},\"y\":{\"field\":\"y\"}},\"id\":\"46a1dbaa-7d47-4327-9104-64dd06ad6d41\",\"type\":\"Rect\"},{\"attributes\":{},\"id\":\"e496da05-a937-42eb-be70-6feae0110c17\",\"type\":\"BasicTickFormatter\"},{\"attributes\":{\"data_source\":{\"id\":\"f392a4a5-7012-4294-abb3-0b5516fe4da4\",\"type\":\"ColumnDataSource\"},\"glyph\":{\"id\":\"3cbedbd1-0fab-412a-8e7f-0ef0b3fa9923\",\"type\":\"Rect\"},\"hover_glyph\":null,\"nonselection_glyph\":null,\"selection_glyph\":null},\"id\":\"7f029b9e-c72c-4afd-9a75-92464fcab6e3\",\"type\":\"GlyphRenderer\"},{\"attributes\":{},\"id\":\"335f9c94-6686-4d98-86b1-09e5b56ba6af\",\"type\":\"CategoricalTickFormatter\"},{\"attributes\":{\"callback\":null,\"column_names\":[\"x\",\"y\",\"width\",\"height\",\"color\",\"fill_alpha\",\"line_color\",\"line_alpha\",\"label\"],\"data\":{\"chart_index\":[{\"index\":\"L3,M2,R3,M4,L4,M4,L4,M4,M3,L3,L4,R4,M4\"}],\"color\":[\"#f22c40\"],\"fill_alpha\":[0.8],\"height\":[2.0],\"index\":[\"L3,M2,R3,M4,L4,M4,L4,M4,M3,L3,L4,R4,M4\"],\"label\":[{\"index\":\"L3,M2,R3,M4,L4,M4,L4,M4,M3,L3,L4,R4,M4\"}],\"line_alpha\":[1.0],\"line_color\":[\"white\"],\"width\":[0.8],\"x\":[\"L3,M2,R3,M4,L4,M4,L4,M4,M3,L3,L4,R4,M4\"],\"y\":[1.0]}},\"id\":\"cc844976-2101-4b25-9c69-57f277352aed\",\"type\":\"ColumnDataSource\"},{\"attributes\":{\"fill_alpha\":{\"field\":\"fill_alpha\"},\"fill_color\":{\"field\":\"color\"},\"height\":{\"field\":\"height\",\"units\":\"data\"},\"line_color\":{\"field\":\"line_color\"},\"width\":{\"field\":\"width\",\"units\":\"data\"},\"x\":{\"field\":\"x\"},\"y\":{\"field\":\"y\"}},\"id\":\"25d603e6-c05a-43b1-8dd0-49658edcce38\",\"type\":\"Rect\"},{\"attributes\":{\"fill_alpha\":{\"field\":\"fill_alpha\"},\"fill_color\":{\"field\":\"color\"},\"height\":{\"field\":\"height\",\"units\":\"data\"},\"line_color\":{\"field\":\"line_color\"},\"width\":{\"field\":\"width\",\"units\":\"data\"},\"x\":{\"field\":\"x\"},\"y\":{\"field\":\"y\"}},\"id\":\"25e93eec-fdd0-46bb-a7e9-33e2ddbbe375\",\"type\":\"Rect\"},{\"attributes\":{\"callback\":null,\"column_names\":[\"x\",\"y\",\"width\",\"height\",\"color\",\"fill_alpha\",\"line_color\",\"line_alpha\",\"label\"],\"data\":{\"chart_index\":[{\"index\":\"L2,M4\"}],\"color\":[\"#f22c40\"],\"fill_alpha\":[0.8],\"height\":[1.0],\"index\":[\"L2,M4\"],\"label\":[{\"index\":\"L2,M4\"}],\"line_alpha\":[1.0],\"line_color\":[\"white\"],\"width\":[0.8],\"x\":[\"L2,M4\"],\"y\":[0.5]}},\"id\":\"1fbeb833-b97f-4b33-8300-3932ccaa1fbc\",\"type\":\"ColumnDataSource\"},{\"attributes\":{},\"id\":\"ba7e1fc0-4afe-4a7c-b432-fe7198acbb8f\",\"type\":\"CategoricalTicker\"},{\"attributes\":{\"data_source\":{\"id\":\"1fbeb833-b97f-4b33-8300-3932ccaa1fbc\",\"type\":\"ColumnDataSource\"},\"glyph\":{\"id\":\"403f6fe1-83aa-4618-accf-8618e29d81fb\",\"type\":\"Rect\"},\"hover_glyph\":null,\"nonselection_glyph\":null,\"selection_glyph\":null},\"id\":\"390199f5-d2a3-4a92-93e6-faeb12541294\",\"type\":\"GlyphRenderer\"},{\"attributes\":{\"fill_alpha\":{\"field\":\"fill_alpha\"},\"fill_color\":{\"field\":\"color\"},\"height\":{\"field\":\"height\",\"units\":\"data\"},\"line_color\":{\"field\":\"line_color\"},\"width\":{\"field\":\"width\",\"units\":\"data\"},\"x\":{\"field\":\"x\"},\"y\":{\"field\":\"y\"}},\"id\":\"403f6fe1-83aa-4618-accf-8618e29d81fb\",\"type\":\"Rect\"},{\"attributes\":{\"data_source\":{\"id\":\"4d073000-f3a6-4425-ac4c-ad2f32349213\",\"type\":\"ColumnDataSource\"},\"glyph\":{\"id\":\"25e93eec-fdd0-46bb-a7e9-33e2ddbbe375\",\"type\":\"Rect\"},\"hover_glyph\":null,\"nonselection_glyph\":null,\"selection_glyph\":null},\"id\":\"e0e55b5b-c60a-43fc-bdaf-44715575e754\",\"type\":\"GlyphRenderer\"},{\"attributes\":{\"data_source\":{\"id\":\"f58e0aab-c52c-4232-962c-565d5857db37\",\"type\":\"ColumnDataSource\"},\"glyph\":{\"id\":\"71aed251-6f68-4cf4-8b6e-7f81e2b09f0c\",\"type\":\"Rect\"},\"hover_glyph\":null,\"nonselection_glyph\":null,\"selection_glyph\":null},\"id\":\"2f444995-4a98-4f71-ab92-36a288e2a7a4\",\"type\":\"GlyphRenderer\"},{\"attributes\":{\"fill_alpha\":{\"field\":\"fill_alpha\"},\"fill_color\":{\"field\":\"color\"},\"height\":{\"field\":\"height\",\"units\":\"data\"},\"line_color\":{\"field\":\"line_color\"},\"width\":{\"field\":\"width\",\"units\":\"data\"},\"x\":{\"field\":\"x\"},\"y\":{\"field\":\"y\"}},\"id\":\"ef1018dd-5759-4d87-8d73-a355bd245134\",\"type\":\"Rect\"},{\"attributes\":{\"axis_label\":\"Sum( Zones )\",\"formatter\":{\"id\":\"e496da05-a937-42eb-be70-6feae0110c17\",\"type\":\"BasicTickFormatter\"},\"plot\":{\"id\":\"7c36cad2-aeef-4994-a29e-442e72a218a6\",\"subtype\":\"Chart\",\"type\":\"Plot\"},\"ticker\":{\"id\":\"8e1d7bac-bfc4-4850-90e1-244c3360c1be\",\"type\":\"BasicTicker\"}},\"id\":\"a588d442-cd09-4e3e-a452-95189cc0d19a\",\"type\":\"LinearAxis\"},{\"attributes\":{\"callback\":null,\"column_names\":[\"x\",\"y\",\"width\",\"height\",\"color\",\"fill_alpha\",\"line_color\",\"line_alpha\",\"label\"],\"data\":{\"chart_index\":[{\"index\":\"L4,M4,M2,L3,L2,M2,M3,R3,R2,L2,L3,M2,R2,M4\"}],\"color\":[\"#f22c40\"],\"fill_alpha\":[0.8],\"height\":[2.0],\"index\":[\"L4,M4,M2,L3,L2,M2,M3,R3,R2,L2,L3,M2,R2,M4\"],\"label\":[{\"index\":\"L4,M4,M2,L3,L2,M2,M3,R3,R2,L2,L3,M2,R2,M4\"}],\"line_alpha\":[1.0],\"line_color\":[\"white\"],\"width\":[0.8],\"x\":[\"L4,M4,M2,L3,L2,M2,M3,R3,R2,L2,L3,M2,R2,M4\"],\"y\":[1.0]}},\"id\":\"ed86bd22-3c33-433b-8a61-cbca6dc67c1c\",\"type\":\"ColumnDataSource\"},{\"attributes\":{\"callback\":null,\"column_names\":[\"x\",\"y\",\"width\",\"height\",\"color\",\"fill_alpha\",\"line_color\",\"line_alpha\",\"label\"],\"data\":{\"chart_index\":[{\"index\":\"M1,L2,M2,R2,M3,R4,M4\"}],\"color\":[\"#f22c40\"],\"fill_alpha\":[0.8],\"height\":[2.0],\"index\":[\"M1,L2,M2,R2,M3,R4,M4\"],\"label\":[{\"index\":\"M1,L2,M2,R2,M3,R4,M4\"}],\"line_alpha\":[1.0],\"line_color\":[\"white\"],\"width\":[0.8],\"x\":[\"M1,L2,M2,R2,M3,R4,M4\"],\"y\":[1.0]}},\"id\":\"86748e6a-7be6-4393-a2e7-443580188074\",\"type\":\"ColumnDataSource\"},{\"attributes\":{\"fill_alpha\":{\"field\":\"fill_alpha\"},\"fill_color\":{\"field\":\"color\"},\"height\":{\"field\":\"height\",\"units\":\"data\"},\"line_color\":{\"field\":\"line_color\"},\"width\":{\"field\":\"width\",\"units\":\"data\"},\"x\":{\"field\":\"x\"},\"y\":{\"field\":\"y\"}},\"id\":\"3cbedbd1-0fab-412a-8e7f-0ef0b3fa9923\",\"type\":\"Rect\"},{\"attributes\":{\"fill_alpha\":{\"field\":\"fill_alpha\"},\"fill_color\":{\"field\":\"color\"},\"height\":{\"field\":\"height\",\"units\":\"data\"},\"line_color\":{\"field\":\"line_color\"},\"width\":{\"field\":\"width\",\"units\":\"data\"},\"x\":{\"field\":\"x\"},\"y\":{\"field\":\"y\"}},\"id\":\"0a8f6227-ffc5-4a91-a83e-dff6632ae157\",\"type\":\"Rect\"},{\"attributes\":{\"callback\":null,\"column_names\":[\"x\",\"y\",\"width\",\"height\",\"color\",\"fill_alpha\",\"line_color\",\"line_alpha\",\"label\"],\"data\":{\"chart_index\":[{\"index\":\"M3,M4,L4\"}],\"color\":[\"#f22c40\"],\"fill_alpha\":[0.8],\"height\":[1.0],\"index\":[\"M3,M4,L4\"],\"label\":[{\"index\":\"M3,M4,L4\"}],\"line_alpha\":[1.0],\"line_color\":[\"white\"],\"width\":[0.8],\"x\":[\"M3,M4,L4\"],\"y\":[0.5]}},\"id\":\"33f8aee3-49b3-46ef-9e16-e9b5922a4ac8\",\"type\":\"ColumnDataSource\"},{\"attributes\":{\"data_source\":{\"id\":\"cc844976-2101-4b25-9c69-57f277352aed\",\"type\":\"ColumnDataSource\"},\"glyph\":{\"id\":\"666cb7ac-1ca7-46ef-9a9f-d4c8d7f7bac9\",\"type\":\"Rect\"},\"hover_glyph\":null,\"nonselection_glyph\":null,\"selection_glyph\":null},\"id\":\"c9e6ef60-0804-4ecc-bdd3-b398928120e3\",\"type\":\"GlyphRenderer\"},{\"attributes\":{\"formatter\":{\"id\":\"335f9c94-6686-4d98-86b1-09e5b56ba6af\",\"type\":\"CategoricalTickFormatter\"},\"major_label_orientation\":0.7853981633974483,\"plot\":{\"id\":\"7c36cad2-aeef-4994-a29e-442e72a218a6\",\"subtype\":\"Chart\",\"type\":\"Plot\"},\"ticker\":{\"id\":\"ba7e1fc0-4afe-4a7c-b432-fe7198acbb8f\",\"type\":\"CategoricalTicker\"}},\"id\":\"ff8df069-7964-4eec-9939-94c06a2e8b0d\",\"type\":\"CategoricalAxis\"},{\"attributes\":{\"data_source\":{\"id\":\"9d10c63c-e4c6-41fb-86a8-d2bc0dbdb669\",\"type\":\"ColumnDataSource\"},\"glyph\":{\"id\":\"d60f7392-cbc8-4cc5-8732-c86f899d6ba4\",\"type\":\"Rect\"},\"hover_glyph\":null,\"nonselection_glyph\":null,\"selection_glyph\":null},\"id\":\"6cca3c28-8915-4ee5-90ef-c40c49975460\",\"type\":\"GlyphRenderer\"},{\"attributes\":{\"callback\":null,\"column_names\":[\"x\",\"y\",\"width\",\"height\",\"color\",\"fill_alpha\",\"line_color\",\"line_alpha\",\"label\"],\"data\":{\"chart_index\":[{\"index\":\"L2,M2,R3,M4\"}],\"color\":[\"#f22c40\"],\"fill_alpha\":[0.8],\"height\":[1.0],\"index\":[\"L2,M2,R3,M4\"],\"label\":[{\"index\":\"L2,M2,R3,M4\"}],\"line_alpha\":[1.0],\"line_color\":[\"white\"],\"width\":[0.8],\"x\":[\"L2,M2,R3,M4\"],\"y\":[0.5]}},\"id\":\"4d073000-f3a6-4425-ac4c-ad2f32349213\",\"type\":\"ColumnDataSource\"},{\"attributes\":{\"callback\":null,\"column_names\":[\"x\",\"y\",\"width\",\"height\",\"color\",\"fill_alpha\",\"line_color\",\"line_alpha\",\"label\"],\"data\":{\"chart_index\":[{\"index\":\"M4,L4,M4\"}],\"color\":[\"#f22c40\"],\"fill_alpha\":[0.8],\"height\":[1.0],\"index\":[\"M4,L4,M4\"],\"label\":[{\"index\":\"M4,L4,M4\"}],\"line_alpha\":[1.0],\"line_color\":[\"white\"],\"width\":[0.8],\"x\":[\"M4,L4,M4\"],\"y\":[0.5]}},\"id\":\"71fdbb64-d978-415d-90a6-bcd0ed1ff10c\",\"type\":\"ColumnDataSource\"},{\"attributes\":{\"data_source\":{\"id\":\"71fdbb64-d978-415d-90a6-bcd0ed1ff10c\",\"type\":\"ColumnDataSource\"},\"glyph\":{\"id\":\"ef1018dd-5759-4d87-8d73-a355bd245134\",\"type\":\"Rect\"},\"hover_glyph\":null,\"nonselection_glyph\":null,\"selection_glyph\":null},\"id\":\"6b074131-d259-4968-b05c-43e80f50c3d5\",\"type\":\"GlyphRenderer\"},{\"attributes\":{\"callback\":null,\"column_names\":[\"x\",\"y\",\"width\",\"height\",\"color\",\"fill_alpha\",\"line_color\",\"line_alpha\",\"label\"],\"data\":{\"chart_index\":[{\"index\":\"M3,M4\"}],\"color\":[\"#f22c40\"],\"fill_alpha\":[0.8],\"height\":[6.0],\"index\":[\"M3,M4\"],\"label\":[{\"index\":\"M3,M4\"}],\"line_alpha\":[1.0],\"line_color\":[\"white\"],\"width\":[0.8],\"x\":[\"M3,M4\"],\"y\":[3.0]}},\"id\":\"f392a4a5-7012-4294-abb3-0b5516fe4da4\",\"type\":\"ColumnDataSource\"},{\"attributes\":{},\"id\":\"8e1d7bac-bfc4-4850-90e1-244c3360c1be\",\"type\":\"BasicTicker\"},{\"attributes\":{\"dimension\":1,\"plot\":{\"id\":\"7c36cad2-aeef-4994-a29e-442e72a218a6\",\"subtype\":\"Chart\",\"type\":\"Plot\"},\"ticker\":{\"id\":\"8e1d7bac-bfc4-4850-90e1-244c3360c1be\",\"type\":\"BasicTicker\"}},\"id\":\"31acb600-543e-4f05-bd12-d52d12f21dba\",\"type\":\"Grid\"},{\"attributes\":{\"data_source\":{\"id\":\"ed86bd22-3c33-433b-8a61-cbca6dc67c1c\",\"type\":\"ColumnDataSource\"},\"glyph\":{\"id\":\"0a8f6227-ffc5-4a91-a83e-dff6632ae157\",\"type\":\"Rect\"},\"hover_glyph\":null,\"nonselection_glyph\":null,\"selection_glyph\":null},\"id\":\"29096527-e8dd-496e-bbc1-46a8552796f5\",\"type\":\"GlyphRenderer\"},{\"attributes\":{\"fill_alpha\":{\"field\":\"fill_alpha\"},\"fill_color\":{\"field\":\"color\"},\"height\":{\"field\":\"height\",\"units\":\"data\"},\"line_color\":{\"field\":\"line_color\"},\"width\":{\"field\":\"width\",\"units\":\"data\"},\"x\":{\"field\":\"x\"},\"y\":{\"field\":\"y\"}},\"id\":\"d60f7392-cbc8-4cc5-8732-c86f899d6ba4\",\"type\":\"Rect\"},{\"attributes\":{\"callback\":null,\"column_names\":[\"x\",\"y\",\"width\",\"height\",\"color\",\"fill_alpha\",\"line_color\",\"line_alpha\",\"label\"],\"data\":{\"chart_index\":[{\"index\":\"L4,M4\"}],\"color\":[\"#f22c40\"],\"fill_alpha\":[0.8],\"height\":[6.0],\"index\":[\"L4,M4\"],\"label\":[{\"index\":\"L4,M4\"}],\"line_alpha\":[1.0],\"line_color\":[\"white\"],\"width\":[0.8],\"x\":[\"L4,M4\"],\"y\":[3.0]}},\"id\":\"f58e0aab-c52c-4232-962c-565d5857db37\",\"type\":\"ColumnDataSource\"},{\"attributes\":{\"callback\":null,\"column_names\":[\"x\",\"y\",\"width\",\"height\",\"color\",\"fill_alpha\",\"line_color\",\"line_alpha\",\"label\"],\"data\":{\"chart_index\":[{\"index\":\"M3,L3,M2,L2,L3,M4\"}],\"color\":[\"#f22c40\"],\"fill_alpha\":[0.8],\"height\":[2.0],\"index\":[\"M3,L3,M2,L2,L3,M4\"],\"label\":[{\"index\":\"M3,L3,M2,L2,L3,M4\"}],\"line_alpha\":[1.0],\"line_color\":[\"white\"],\"width\":[0.8],\"x\":[\"M3,L3,M2,L2,L3,M4\"],\"y\":[1.0]}},\"id\":\"9d10c63c-e4c6-41fb-86a8-d2bc0dbdb669\",\"type\":\"ColumnDataSource\"},{\"attributes\":{\"below\":[{\"id\":\"ff8df069-7964-4eec-9939-94c06a2e8b0d\",\"type\":\"CategoricalAxis\"}],\"css_classes\":null,\"left\":[{\"id\":\"a588d442-cd09-4e3e-a452-95189cc0d19a\",\"type\":\"LinearAxis\"}],\"renderers\":[{\"id\":\"c525fd58-23f4-4568-bd59-efeec4a3f792\",\"type\":\"BoxAnnotation\"},{\"id\":\"e0f6c920-0fd6-43e2-9898-659a2176daf1\",\"type\":\"GlyphRenderer\"},{\"id\":\"e0e55b5b-c60a-43fc-bdaf-44715575e754\",\"type\":\"GlyphRenderer\"},{\"id\":\"390199f5-d2a3-4a92-93e6-faeb12541294\",\"type\":\"GlyphRenderer\"},{\"id\":\"c9e6ef60-0804-4ecc-bdd3-b398928120e3\",\"type\":\"GlyphRenderer\"},{\"id\":\"cc8bd3b1-5736-4488-b3c6-6590aece573a\",\"type\":\"GlyphRenderer\"},{\"id\":\"2f444995-4a98-4f71-ab92-36a288e2a7a4\",\"type\":\"GlyphRenderer\"},{\"id\":\"29096527-e8dd-496e-bbc1-46a8552796f5\",\"type\":\"GlyphRenderer\"},{\"id\":\"fac6e855-716e-4335-87ce-02795a7cd0f2\",\"type\":\"GlyphRenderer\"},{\"id\":\"ee54504c-711b-46bc-9e3d-5e8a8a29d89f\",\"type\":\"GlyphRenderer\"},{\"id\":\"c7cb202a-955c-4678-92c2-07b5d07d60f9\",\"type\":\"GlyphRenderer\"},{\"id\":\"dc46b673-a19f-4503-8a31-814fb3e30bdb\",\"type\":\"GlyphRenderer\"},{\"id\":\"22436c4c-52ff-4dcd-80f8-4230d1274e79\",\"type\":\"GlyphRenderer\"},{\"id\":\"a26ac4b2-e1e3-4ea5-80c4-cb7a4fcd1112\",\"type\":\"GlyphRenderer\"},{\"id\":\"6cca3c28-8915-4ee5-90ef-c40c49975460\",\"type\":\"GlyphRenderer\"},{\"id\":\"7f029b9e-c72c-4afd-9a75-92464fcab6e3\",\"type\":\"GlyphRenderer\"},{\"id\":\"cb91443e-ee20-454b-94e3-af19dda67451\",\"type\":\"GlyphRenderer\"},{\"id\":\"34fa736b-f668-4627-8b02-4451664ae219\",\"type\":\"GlyphRenderer\"},{\"id\":\"6b074131-d259-4968-b05c-43e80f50c3d5\",\"type\":\"GlyphRenderer\"},{\"id\":\"4824518e-4534-4f1d-a9ca-87f591a8e073\",\"type\":\"GlyphRenderer\"},{\"id\":\"8033dbe6-08f1-45a4-81e7-b3314790519f\",\"type\":\"GlyphRenderer\"},{\"id\":\"f15bd4ae-57e3-4073-ac9c-13a6be02a85b\",\"type\":\"GlyphRenderer\"},{\"id\":\"bee37c29-d9be-4375-9c83-bfbdfa3556c7\",\"type\":\"GlyphRenderer\"},{\"id\":\"c91874d3-05a4-4c4b-81e4-dbacfe66b001\",\"type\":\"GlyphRenderer\"},{\"id\":\"5bb13ea7-934b-4787-aeb5-16d9265ca278\",\"type\":\"GlyphRenderer\"},{\"id\":\"e3bf339e-1de5-4aef-80bb-e9a16d2e0d49\",\"type\":\"GlyphRenderer\"},{\"id\":\"ff8df069-7964-4eec-9939-94c06a2e8b0d\",\"type\":\"CategoricalAxis\"},{\"id\":\"a588d442-cd09-4e3e-a452-95189cc0d19a\",\"type\":\"LinearAxis\"},{\"id\":\"31acb600-543e-4f05-bd12-d52d12f21dba\",\"type\":\"Grid\"}],\"title\":{\"id\":\"9bbb4fb9-4ee8-4ccb-be74-21ba382cf103\",\"type\":\"Title\"},\"tool_events\":{\"id\":\"a5c5e044-bfe5-418e-b4c2-848b86f6f3e1\",\"type\":\"ToolEvents\"},\"toolbar\":{\"id\":\"2b0be573-0fc8-41c7-9e4c-c2dbb8666367\",\"type\":\"Toolbar\"},\"x_mapper_type\":\"auto\",\"x_range\":{\"id\":\"61559ae9-dc60-4770-b07c-f7a0fead569b\",\"type\":\"FactorRange\"},\"y_mapper_type\":\"auto\",\"y_range\":{\"id\":\"6579bed7-6639-4e9a-8da9-d2a336b985d5\",\"type\":\"Range1d\"}},\"id\":\"7c36cad2-aeef-4994-a29e-442e72a218a6\",\"subtype\":\"Chart\",\"type\":\"Plot\"},{\"attributes\":{\"callback\":null,\"column_names\":[\"x\",\"y\",\"width\",\"height\",\"color\",\"fill_alpha\",\"line_color\",\"line_alpha\",\"label\"],\"data\":{\"chart_index\":[{\"index\":\"M2,R2,M3,R4,M4\"}],\"color\":[\"#f22c40\"],\"fill_alpha\":[0.8],\"height\":[1.0],\"index\":[\"M2,R2,M3,R4,M4\"],\"label\":[{\"index\":\"M2,R2,M3,R4,M4\"}],\"line_alpha\":[1.0],\"line_color\":[\"white\"],\"width\":[0.8],\"x\":[\"M2,R2,M3,R4,M4\"],\"y\":[0.5]}},\"id\":\"24a114ae-4029-4472-ba2c-772aed4b5699\",\"type\":\"ColumnDataSource\"},{\"attributes\":{\"callback\":null,\"column_names\":[\"x\",\"y\",\"width\",\"height\",\"color\",\"fill_alpha\",\"line_color\",\"line_alpha\",\"label\"],\"data\":{\"chart_index\":[{\"index\":\"R4,M4\"}],\"color\":[\"#f22c40\"],\"fill_alpha\":[0.8],\"height\":[4.0],\"index\":[\"R4,M4\"],\"label\":[{\"index\":\"R4,M4\"}],\"line_alpha\":[1.0],\"line_color\":[\"white\"],\"width\":[0.8],\"x\":[\"R4,M4\"],\"y\":[2.0]}},\"id\":\"1cfa8f18-952a-4f25-890f-080706849c4c\",\"type\":\"ColumnDataSource\"},{\"attributes\":{\"active_drag\":\"auto\",\"active_scroll\":\"auto\",\"active_tap\":\"auto\",\"tools\":[{\"id\":\"b75c7bc8-1e6a-46ce-8958-e8360f133d31\",\"type\":\"PanTool\"},{\"id\":\"ef2530f3-67cf-4331-9b91-0ad668cebe5e\",\"type\":\"WheelZoomTool\"},{\"id\":\"a576bc7b-686b-4ab9-81bf-20a537613616\",\"type\":\"BoxZoomTool\"},{\"id\":\"b1944a8b-46e4-480c-8a53-e452aa32b032\",\"type\":\"SaveTool\"},{\"id\":\"5f250631-bedb-49bc-8dba-eb38e2db072e\",\"type\":\"ResetTool\"},{\"id\":\"1ff5755b-69f4-4ffd-8415-fdb1ca7e4dba\",\"type\":\"HelpTool\"}]},\"id\":\"2b0be573-0fc8-41c7-9e4c-c2dbb8666367\",\"type\":\"Toolbar\"},{\"attributes\":{\"callback\":null,\"column_names\":[\"x\",\"y\",\"width\",\"height\",\"color\",\"fill_alpha\",\"line_color\",\"line_alpha\",\"label\"],\"data\":{\"chart_index\":[{\"index\":\"L3,M4\"}],\"color\":[\"#f22c40\"],\"fill_alpha\":[0.8],\"height\":[1.0],\"index\":[\"L3,M4\"],\"label\":[{\"index\":\"L3,M4\"}],\"line_alpha\":[1.0],\"line_color\":[\"white\"],\"width\":[0.8],\"x\":[\"L3,M4\"],\"y\":[0.5]}},\"id\":\"7ca521e0-2099-44d2-a91c-2827ee86a13c\",\"type\":\"ColumnDataSource\"},{\"attributes\":{\"callback\":null,\"column_names\":[\"x\",\"y\",\"width\",\"height\",\"color\",\"fill_alpha\",\"line_color\",\"line_alpha\",\"label\"],\"data\":{\"chart_index\":[{\"index\":\"R2,M2,L3,M4\"}],\"color\":[\"#f22c40\"],\"fill_alpha\":[0.8],\"height\":[2.0],\"index\":[\"R2,M2,L3,M4\"],\"label\":[{\"index\":\"R2,M2,L3,M4\"}],\"line_alpha\":[1.0],\"line_color\":[\"white\"],\"width\":[0.8],\"x\":[\"R2,M2,L3,M4\"],\"y\":[1.0]}},\"id\":\"10ccad01-044b-4dc2-b117-8ad8384e0071\",\"type\":\"ColumnDataSource\"},{\"attributes\":{\"data_source\":{\"id\":\"24a114ae-4029-4472-ba2c-772aed4b5699\",\"type\":\"ColumnDataSource\"},\"glyph\":{\"id\":\"1d0c5477-b966-4eef-b762-bd70daebf75a\",\"type\":\"Rect\"},\"hover_glyph\":null,\"nonselection_glyph\":null,\"selection_glyph\":null},\"id\":\"a26ac4b2-e1e3-4ea5-80c4-cb7a4fcd1112\",\"type\":\"GlyphRenderer\"},{\"attributes\":{\"plot\":null,\"text\":\"(Kans) zone 4 bereikt / per zone volgorde\"},\"id\":\"9bbb4fb9-4ee8-4ccb-be74-21ba382cf103\",\"type\":\"Title\"},{\"attributes\":{\"data_source\":{\"id\":\"5db208d9-7031-484d-a2e6-08093acce7a9\",\"type\":\"ColumnDataSource\"},\"glyph\":{\"id\":\"89a7dcf7-e274-4026-b838-23ae57c9330e\",\"type\":\"Rect\"},\"hover_glyph\":null,\"nonselection_glyph\":null,\"selection_glyph\":null},\"id\":\"8033dbe6-08f1-45a4-81e7-b3314790519f\",\"type\":\"GlyphRenderer\"},{\"attributes\":{\"fill_alpha\":{\"field\":\"fill_alpha\"},\"fill_color\":{\"field\":\"color\"},\"height\":{\"field\":\"height\",\"units\":\"data\"},\"line_color\":{\"field\":\"line_color\"},\"width\":{\"field\":\"width\",\"units\":\"data\"},\"x\":{\"field\":\"x\"},\"y\":{\"field\":\"y\"}},\"id\":\"a2c6b956-c3c8-49f4-bff4-b39628ade812\",\"type\":\"Rect\"},{\"attributes\":{\"data_source\":{\"id\":\"1cfa8f18-952a-4f25-890f-080706849c4c\",\"type\":\"ColumnDataSource\"},\"glyph\":{\"id\":\"ced53be5-04a1-49f7-8ad1-197304a6385c\",\"type\":\"Rect\"},\"hover_glyph\":null,\"nonselection_glyph\":null,\"selection_glyph\":null},\"id\":\"5bb13ea7-934b-4787-aeb5-16d9265ca278\",\"type\":\"GlyphRenderer\"},{\"attributes\":{\"data_source\":{\"id\":\"328c9c42-3d69-44dd-b063-6d441bf8cdf6\",\"type\":\"ColumnDataSource\"},\"glyph\":{\"id\":\"3a24bda3-3924-4f6e-ad4f-3a2897089af0\",\"type\":\"Rect\"},\"hover_glyph\":null,\"nonselection_glyph\":null,\"selection_glyph\":null},\"id\":\"dc46b673-a19f-4503-8a31-814fb3e30bdb\",\"type\":\"GlyphRenderer\"},{\"attributes\":{\"data_source\":{\"id\":\"5971f501-d830-4d59-b6c1-0e1310564841\",\"type\":\"ColumnDataSource\"},\"glyph\":{\"id\":\"a9ab1a82-59ff-4d4d-b1a4-18dacc957f5a\",\"type\":\"Rect\"},\"hover_glyph\":null,\"nonselection_glyph\":null,\"selection_glyph\":null},\"id\":\"c91874d3-05a4-4c4b-81e4-dbacfe66b001\",\"type\":\"GlyphRenderer\"},{\"attributes\":{\"callback\":null,\"column_names\":[\"x\",\"y\",\"width\",\"height\",\"color\",\"fill_alpha\",\"line_color\",\"line_alpha\",\"label\"],\"data\":{\"chart_index\":[{\"index\":\"R2,M2,L2,M2,R3,M4\"}],\"color\":[\"#f22c40\"],\"fill_alpha\":[0.8],\"height\":[2.0],\"index\":[\"R2,M2,L2,M2,R3,M4\"],\"label\":[{\"index\":\"R2,M2,L2,M2,R3,M4\"}],\"line_alpha\":[1.0],\"line_color\":[\"white\"],\"width\":[0.8],\"x\":[\"R2,M2,L2,M2,R3,M4\"],\"y\":[1.0]}},\"id\":\"5db208d9-7031-484d-a2e6-08093acce7a9\",\"type\":\"ColumnDataSource\"},{\"attributes\":{\"bottom_units\":\"screen\",\"fill_alpha\":{\"value\":0.5},\"fill_color\":{\"value\":\"lightgrey\"},\"left_units\":\"screen\",\"level\":\"overlay\",\"line_alpha\":{\"value\":1.0},\"line_color\":{\"value\":\"black\"},\"line_dash\":[4,4],\"line_width\":{\"value\":2},\"plot\":null,\"render_mode\":\"css\",\"right_units\":\"screen\",\"top_units\":\"screen\"},\"id\":\"c525fd58-23f4-4568-bd59-efeec4a3f792\",\"type\":\"BoxAnnotation\"},{\"attributes\":{\"fill_alpha\":{\"field\":\"fill_alpha\"},\"fill_color\":{\"field\":\"color\"},\"height\":{\"field\":\"height\",\"units\":\"data\"},\"line_color\":{\"field\":\"line_color\"},\"width\":{\"field\":\"width\",\"units\":\"data\"},\"x\":{\"field\":\"x\"},\"y\":{\"field\":\"y\"}},\"id\":\"89a7dcf7-e274-4026-b838-23ae57c9330e\",\"type\":\"Rect\"},{\"attributes\":{\"plot\":{\"id\":\"7c36cad2-aeef-4994-a29e-442e72a218a6\",\"subtype\":\"Chart\",\"type\":\"Plot\"}},\"id\":\"1ff5755b-69f4-4ffd-8415-fdb1ca7e4dba\",\"type\":\"HelpTool\"},{\"attributes\":{\"data_source\":{\"id\":\"7f6619e3-902f-4f7b-9dee-b4b1713812ee\",\"type\":\"ColumnDataSource\"},\"glyph\":{\"id\":\"ea161394-758d-4b6b-aa89-3d69367999dc\",\"type\":\"Rect\"},\"hover_glyph\":null,\"nonselection_glyph\":null,\"selection_glyph\":null},\"id\":\"22436c4c-52ff-4dcd-80f8-4230d1274e79\",\"type\":\"GlyphRenderer\"},{\"attributes\":{\"callback\":null,\"column_names\":[\"x\",\"y\",\"width\",\"height\",\"color\",\"fill_alpha\",\"line_color\",\"line_alpha\",\"label\"],\"data\":{\"chart_index\":[{\"index\":\"L2,M2,L2,M4\"}],\"color\":[\"#f22c40\"],\"fill_alpha\":[0.8],\"height\":[2.0],\"index\":[\"L2,M2,L2,M4\"],\"label\":[{\"index\":\"L2,M2,L2,M4\"}],\"line_alpha\":[1.0],\"line_color\":[\"white\"],\"width\":[0.8],\"x\":[\"L2,M2,L2,M4\"],\"y\":[1.0]}},\"id\":\"49e19418-016a-4044-bdcc-f8bf5eb6fbb3\",\"type\":\"ColumnDataSource\"},{\"attributes\":{\"callback\":null,\"column_names\":[\"x\",\"y\",\"width\",\"height\",\"color\",\"fill_alpha\",\"line_color\",\"line_alpha\",\"label\"],\"data\":{\"chart_index\":[{\"index\":\"R4,R4\"}],\"color\":[\"#f22c40\"],\"fill_alpha\":[0.8],\"height\":[1.0],\"index\":[\"R4,R4\"],\"label\":[{\"index\":\"R4,R4\"}],\"line_alpha\":[1.0],\"line_color\":[\"white\"],\"width\":[0.8],\"x\":[\"R4,R4\"],\"y\":[0.5]}},\"id\":\"85c052e4-a57a-4337-a71e-9168c20770ac\",\"type\":\"ColumnDataSource\"},{\"attributes\":{\"data_source\":{\"id\":\"cb39eaf0-6c13-4304-90e6-f5f1b41d859f\",\"type\":\"ColumnDataSource\"},\"glyph\":{\"id\":\"a2c6b956-c3c8-49f4-bff4-b39628ade812\",\"type\":\"Rect\"},\"hover_glyph\":null,\"nonselection_glyph\":null,\"selection_glyph\":null},\"id\":\"4824518e-4534-4f1d-a9ca-87f591a8e073\",\"type\":\"GlyphRenderer\"},{\"attributes\":{\"plot\":{\"id\":\"7c36cad2-aeef-4994-a29e-442e72a218a6\",\"subtype\":\"Chart\",\"type\":\"Plot\"}},\"id\":\"ef2530f3-67cf-4331-9b91-0ad668cebe5e\",\"type\":\"WheelZoomTool\"},{\"attributes\":{\"fill_alpha\":{\"field\":\"fill_alpha\"},\"fill_color\":{\"field\":\"color\"},\"height\":{\"field\":\"height\",\"units\":\"data\"},\"line_color\":{\"field\":\"line_color\"},\"width\":{\"field\":\"width\",\"units\":\"data\"},\"x\":{\"field\":\"x\"},\"y\":{\"field\":\"y\"}},\"id\":\"3a24bda3-3924-4f6e-ad4f-3a2897089af0\",\"type\":\"Rect\"},{\"attributes\":{\"data_source\":{\"id\":\"7ca521e0-2099-44d2-a91c-2827ee86a13c\",\"type\":\"ColumnDataSource\"},\"glyph\":{\"id\":\"0582fce6-0603-4908-8a4d-590ed3d460fd\",\"type\":\"Rect\"},\"hover_glyph\":null,\"nonselection_glyph\":null,\"selection_glyph\":null},\"id\":\"cc8bd3b1-5736-4488-b3c6-6590aece573a\",\"type\":\"GlyphRenderer\"},{\"attributes\":{\"fill_alpha\":{\"field\":\"fill_alpha\"},\"fill_color\":{\"field\":\"color\"},\"height\":{\"field\":\"height\",\"units\":\"data\"},\"line_color\":{\"field\":\"line_color\"},\"width\":{\"field\":\"width\",\"units\":\"data\"},\"x\":{\"field\":\"x\"},\"y\":{\"field\":\"y\"}},\"id\":\"a54c8415-91a0-4400-8d74-0f93919e077a\",\"type\":\"Rect\"},{\"attributes\":{\"fill_alpha\":{\"field\":\"fill_alpha\"},\"fill_color\":{\"field\":\"color\"},\"height\":{\"field\":\"height\",\"units\":\"data\"},\"line_color\":{\"field\":\"line_color\"},\"width\":{\"field\":\"width\",\"units\":\"data\"},\"x\":{\"field\":\"x\"},\"y\":{\"field\":\"y\"}},\"id\":\"a9ab1a82-59ff-4d4d-b1a4-18dacc957f5a\",\"type\":\"Rect\"},{\"attributes\":{\"overlay\":{\"id\":\"c525fd58-23f4-4568-bd59-efeec4a3f792\",\"type\":\"BoxAnnotation\"},\"plot\":{\"id\":\"7c36cad2-aeef-4994-a29e-442e72a218a6\",\"subtype\":\"Chart\",\"type\":\"Plot\"}},\"id\":\"a576bc7b-686b-4ab9-81bf-20a537613616\",\"type\":\"BoxZoomTool\"},{\"attributes\":{\"fill_alpha\":{\"field\":\"fill_alpha\"},\"fill_color\":{\"field\":\"color\"},\"height\":{\"field\":\"height\",\"units\":\"data\"},\"line_color\":{\"field\":\"line_color\"},\"width\":{\"field\":\"width\",\"units\":\"data\"},\"x\":{\"field\":\"x\"},\"y\":{\"field\":\"y\"}},\"id\":\"ced53be5-04a1-49f7-8ad1-197304a6385c\",\"type\":\"Rect\"},{\"attributes\":{\"plot\":{\"id\":\"7c36cad2-aeef-4994-a29e-442e72a218a6\",\"subtype\":\"Chart\",\"type\":\"Plot\"}},\"id\":\"b75c7bc8-1e6a-46ce-8958-e8360f133d31\",\"type\":\"PanTool\"},{\"attributes\":{\"data_source\":{\"id\":\"78cae5c6-d9ff-4cb0-8310-0628ad0404ac\",\"type\":\"ColumnDataSource\"},\"glyph\":{\"id\":\"ed732bd2-ecc7-4037-ae1b-7b07df7e5e44\",\"type\":\"Rect\"},\"hover_glyph\":null,\"nonselection_glyph\":null,\"selection_glyph\":null},\"id\":\"c7cb202a-955c-4678-92c2-07b5d07d60f9\",\"type\":\"GlyphRenderer\"},{\"attributes\":{\"fill_alpha\":{\"field\":\"fill_alpha\"},\"fill_color\":{\"field\":\"color\"},\"height\":{\"field\":\"height\",\"units\":\"data\"},\"line_color\":{\"field\":\"line_color\"},\"width\":{\"field\":\"width\",\"units\":\"data\"},\"x\":{\"field\":\"x\"},\"y\":{\"field\":\"y\"}},\"id\":\"ea161394-758d-4b6b-aa89-3d69367999dc\",\"type\":\"Rect\"},{\"attributes\":{\"data_source\":{\"id\":\"a991ca30-af37-4a09-9284-5e2023dd8e26\",\"type\":\"ColumnDataSource\"},\"glyph\":{\"id\":\"d7af34c7-a764-4404-8a5e-874f4466ed6b\",\"type\":\"Rect\"},\"hover_glyph\":null,\"nonselection_glyph\":null,\"selection_glyph\":null},\"id\":\"bee37c29-d9be-4375-9c83-bfbdfa3556c7\",\"type\":\"GlyphRenderer\"},{\"attributes\":{\"data_source\":{\"id\":\"49e19418-016a-4044-bdcc-f8bf5eb6fbb3\",\"type\":\"ColumnDataSource\"},\"glyph\":{\"id\":\"0976008e-f83b-401d-9a7e-187f5787f257\",\"type\":\"Rect\"},\"hover_glyph\":null,\"nonselection_glyph\":null,\"selection_glyph\":null},\"id\":\"e0f6c920-0fd6-43e2-9898-659a2176daf1\",\"type\":\"GlyphRenderer\"},{\"attributes\":{\"callback\":null,\"column_names\":[\"x\",\"y\",\"width\",\"height\",\"color\",\"fill_alpha\",\"line_color\",\"line_alpha\",\"label\"],\"data\":{\"chart_index\":[{\"index\":\"M4,L4\"}],\"color\":[\"#f22c40\"],\"fill_alpha\":[0.8],\"height\":[2.0],\"index\":[\"M4,L4\"],\"label\":[{\"index\":\"M4,L4\"}],\"line_alpha\":[1.0],\"line_color\":[\"white\"],\"width\":[0.8],\"x\":[\"M4,L4\"],\"y\":[1.0]}},\"id\":\"9b33b8b1-3681-436f-b651-2d6359cbcb9b\",\"type\":\"ColumnDataSource\"},{\"attributes\":{\"fill_alpha\":{\"field\":\"fill_alpha\"},\"fill_color\":{\"field\":\"color\"},\"height\":{\"field\":\"height\",\"units\":\"data\"},\"line_color\":{\"field\":\"line_color\"},\"width\":{\"field\":\"width\",\"units\":\"data\"},\"x\":{\"field\":\"x\"},\"y\":{\"field\":\"y\"}},\"id\":\"d7af34c7-a764-4404-8a5e-874f4466ed6b\",\"type\":\"Rect\"},{\"attributes\":{\"fill_alpha\":{\"field\":\"fill_alpha\"},\"fill_color\":{\"field\":\"color\"},\"height\":{\"field\":\"height\",\"units\":\"data\"},\"line_color\":{\"field\":\"line_color\"},\"width\":{\"field\":\"width\",\"units\":\"data\"},\"x\":{\"field\":\"x\"},\"y\":{\"field\":\"y\"}},\"id\":\"f53ed2c6-2aef-40b8-a462-de1a9a51f674\",\"type\":\"Rect\"},{\"attributes\":{\"data_source\":{\"id\":\"85c052e4-a57a-4337-a71e-9168c20770ac\",\"type\":\"ColumnDataSource\"},\"glyph\":{\"id\":\"f53ed2c6-2aef-40b8-a462-de1a9a51f674\",\"type\":\"Rect\"},\"hover_glyph\":null,\"nonselection_glyph\":null,\"selection_glyph\":null},\"id\":\"e3bf339e-1de5-4aef-80bb-e9a16d2e0d49\",\"type\":\"GlyphRenderer\"},{\"attributes\":{\"fill_alpha\":{\"field\":\"fill_alpha\"},\"fill_color\":{\"field\":\"color\"},\"height\":{\"field\":\"height\",\"units\":\"data\"},\"line_color\":{\"field\":\"line_color\"},\"width\":{\"field\":\"width\",\"units\":\"data\"},\"x\":{\"field\":\"x\"},\"y\":{\"field\":\"y\"}},\"id\":\"1d0c5477-b966-4eef-b762-bd70daebf75a\",\"type\":\"Rect\"},{\"attributes\":{\"callback\":null,\"factors\":[\"L2,M2,L2,M4\",\"L2,M2,R3,M4\",\"L2,M4\",\"L3,M2,R3,M4,L4,M4,L4,M4,M3,L3,L4,R4,M4\",\"L3,M4\",\"L4,M4\",\"L4,M4,M2,L3,L2,M2,M3,R3,R2,L2,L3,M2,R2,M4\",\"M1,L2,M2,R2,M3,R4,M4\",\"M1,M3,M4,L4,M4\",\"M2,L2,L3,R3,M3,M4\",\"M2,L4\",\"M2,M2,L2,M2,L3,M3,R3,M3,R3,M2,R3,R2,M3,M2,L3,L2,R3,R4\",\"M2,R2,M3,R4,M4\",\"M3,L3,M2,L2,L3,M4\",\"M3,M4\",\"M3,M4,L4\",\"M4,L4\",\"M4,L4,M4\",\"R1,M1,M2,R2,R3,R2,R3,M3,M4\",\"R2,M2,L2,M2,R3,M4\",\"R2,M2,L3,M4\",\"R3,M4\",\"R3,R4\",\"R4,M4\",\"R4,R4\"]},\"id\":\"61559ae9-dc60-4770-b07c-f7a0fead569b\",\"type\":\"FactorRange\"},{\"attributes\":{\"fill_alpha\":{\"field\":\"fill_alpha\"},\"fill_color\":{\"field\":\"color\"},\"height\":{\"field\":\"height\",\"units\":\"data\"},\"line_color\":{\"field\":\"line_color\"},\"width\":{\"field\":\"width\",\"units\":\"data\"},\"x\":{\"field\":\"x\"},\"y\":{\"field\":\"y\"}},\"id\":\"0976008e-f83b-401d-9a7e-187f5787f257\",\"type\":\"Rect\"},{\"attributes\":{\"callback\":null,\"column_names\":[\"x\",\"y\",\"width\",\"height\",\"color\",\"fill_alpha\",\"line_color\",\"line_alpha\",\"label\"],\"data\":{\"chart_index\":[{\"index\":\"M2,M2,L2,M2,L3,M3,R3,M3,R3,M2,R3,R2,M3,M2,L3,L2,R3,R4\"}],\"color\":[\"#f22c40\"],\"fill_alpha\":[0.8],\"height\":[2.0],\"index\":[\"M2,M2,L2,M2,L3,M3,R3,M3,R3,M2,R3,R2,M3,M2,L3,L2,R3,R4\"],\"label\":[{\"index\":\"M2,M2,L2,M2,L3,M3,R3,M3,R3,M2,R3,R2,M3,M2,L3,L2,R3,R4\"}],\"line_alpha\":[1.0],\"line_color\":[\"white\"],\"width\":[0.8],\"x\":[\"M2,M2,L2,M2,L3,M3,R3,M3,R3,M2,R3,R2,M3,M2,L3,L2,R3,R4\"],\"y\":[1.0]}},\"id\":\"7f6619e3-902f-4f7b-9dee-b4b1713812ee\",\"type\":\"ColumnDataSource\"},{\"attributes\":{\"data_source\":{\"id\":\"9b33b8b1-3681-436f-b651-2d6359cbcb9b\",\"type\":\"ColumnDataSource\"},\"glyph\":{\"id\":\"d98b41c9-4ed2-4382-a0ba-72e237115b2a\",\"type\":\"Rect\"},\"hover_glyph\":null,\"nonselection_glyph\":null,\"selection_glyph\":null},\"id\":\"34fa736b-f668-4627-8b02-4451664ae219\",\"type\":\"GlyphRenderer\"},{\"attributes\":{\"callback\":null,\"column_names\":[\"x\",\"y\",\"width\",\"height\",\"color\",\"fill_alpha\",\"line_color\",\"line_alpha\",\"label\"],\"data\":{\"chart_index\":[{\"index\":\"R3,R4\"}],\"color\":[\"#f22c40\"],\"fill_alpha\":[0.8],\"height\":[1.0],\"index\":[\"R3,R4\"],\"label\":[{\"index\":\"R3,R4\"}],\"line_alpha\":[1.0],\"line_color\":[\"white\"],\"width\":[0.8],\"x\":[\"R3,R4\"],\"y\":[0.5]}},\"id\":\"5971f501-d830-4d59-b6c1-0e1310564841\",\"type\":\"ColumnDataSource\"},{\"attributes\":{\"data_source\":{\"id\":\"35cda393-f04e-4d30-9e32-8c726012efcc\",\"type\":\"ColumnDataSource\"},\"glyph\":{\"id\":\"46a1dbaa-7d47-4327-9104-64dd06ad6d41\",\"type\":\"Rect\"},\"hover_glyph\":null,\"nonselection_glyph\":null,\"selection_glyph\":null},\"id\":\"ee54504c-711b-46bc-9e3d-5e8a8a29d89f\",\"type\":\"GlyphRenderer\"},{\"attributes\":{},\"id\":\"a5c5e044-bfe5-418e-b4c2-848b86f6f3e1\",\"type\":\"ToolEvents\"},{\"attributes\":{\"callback\":null,\"column_names\":[\"x\",\"y\",\"width\",\"height\",\"color\",\"fill_alpha\",\"line_color\",\"line_alpha\",\"label\"],\"data\":{\"chart_index\":[{\"index\":\"M2,L2,L3,R3,M3,M4\"}],\"color\":[\"#f22c40\"],\"fill_alpha\":[0.8],\"height\":[2.0],\"index\":[\"M2,L2,L3,R3,M3,M4\"],\"label\":[{\"index\":\"M2,L2,L3,R3,M3,M4\"}],\"line_alpha\":[1.0],\"line_color\":[\"white\"],\"width\":[0.8],\"x\":[\"M2,L2,L3,R3,M3,M4\"],\"y\":[1.0]}},\"id\":\"78cae5c6-d9ff-4cb0-8310-0628ad0404ac\",\"type\":\"ColumnDataSource\"},{\"attributes\":{\"data_source\":{\"id\":\"10ccad01-044b-4dc2-b117-8ad8384e0071\",\"type\":\"ColumnDataSource\"},\"glyph\":{\"id\":\"a54c8415-91a0-4400-8d74-0f93919e077a\",\"type\":\"Rect\"},\"hover_glyph\":null,\"nonselection_glyph\":null,\"selection_glyph\":null},\"id\":\"f15bd4ae-57e3-4073-ac9c-13a6be02a85b\",\"type\":\"GlyphRenderer\"},{\"attributes\":{\"fill_alpha\":{\"field\":\"fill_alpha\"},\"fill_color\":{\"field\":\"color\"},\"height\":{\"field\":\"height\",\"units\":\"data\"},\"line_color\":{\"field\":\"line_color\"},\"width\":{\"field\":\"width\",\"units\":\"data\"},\"x\":{\"field\":\"x\"},\"y\":{\"field\":\"y\"}},\"id\":\"ed732bd2-ecc7-4037-ae1b-7b07df7e5e44\",\"type\":\"Rect\"},{\"attributes\":{\"callback\":null,\"end\":6.3},\"id\":\"6579bed7-6639-4e9a-8da9-d2a336b985d5\",\"type\":\"Range1d\"},{\"attributes\":{\"callback\":null,\"column_names\":[\"x\",\"y\",\"width\",\"height\",\"color\",\"fill_alpha\",\"line_color\",\"line_alpha\",\"label\"],\"data\":{\"chart_index\":[{\"index\":\"R1,M1,M2,R2,R3,R2,R3,M3,M4\"}],\"color\":[\"#f22c40\"],\"fill_alpha\":[0.8],\"height\":[2.0],\"index\":[\"R1,M1,M2,R2,R3,R2,R3,M3,M4\"],\"label\":[{\"index\":\"R1,M1,M2,R2,R3,R2,R3,M3,M4\"}],\"line_alpha\":[1.0],\"line_color\":[\"white\"],\"width\":[0.8],\"x\":[\"R1,M1,M2,R2,R3,R2,R3,M3,M4\"],\"y\":[1.0]}},\"id\":\"cb39eaf0-6c13-4304-90e6-f5f1b41d859f\",\"type\":\"ColumnDataSource\"},{\"attributes\":{\"callback\":null,\"column_names\":[\"x\",\"y\",\"width\",\"height\",\"color\",\"fill_alpha\",\"line_color\",\"line_alpha\",\"label\"],\"data\":{\"chart_index\":[{\"index\":\"R3,M4\"}],\"color\":[\"#f22c40\"],\"fill_alpha\":[0.8],\"height\":[4.0],\"index\":[\"R3,M4\"],\"label\":[{\"index\":\"R3,M4\"}],\"line_alpha\":[1.0],\"line_color\":[\"white\"],\"width\":[0.8],\"x\":[\"R3,M4\"],\"y\":[2.0]}},\"id\":\"a991ca30-af37-4a09-9284-5e2023dd8e26\",\"type\":\"ColumnDataSource\"},{\"attributes\":{\"plot\":{\"id\":\"7c36cad2-aeef-4994-a29e-442e72a218a6\",\"subtype\":\"Chart\",\"type\":\"Plot\"}},\"id\":\"b1944a8b-46e4-480c-8a53-e452aa32b032\",\"type\":\"SaveTool\"},{\"attributes\":{\"plot\":{\"id\":\"7c36cad2-aeef-4994-a29e-442e72a218a6\",\"subtype\":\"Chart\",\"type\":\"Plot\"}},\"id\":\"5f250631-bedb-49bc-8dba-eb38e2db072e\",\"type\":\"ResetTool\"}],\"root_ids\":[\"7c36cad2-aeef-4994-a29e-442e72a218a6\"]},\"title\":\"Bokeh Application\",\"version\":\"0.12.4\"}};\n",
       "            var render_items = [{\"docid\":\"f61c3dd1-64b7-4fb7-8421-0f778ea353e8\",\"elementid\":\"63499b51-1e58-457a-81c6-b210c57752f8\",\"modelid\":\"7c36cad2-aeef-4994-a29e-442e72a218a6\"}];\n",
       "            \n",
       "            Bokeh.embed.embed_items(docs_json, render_items);\n",
       "          };\n",
       "          if (document.readyState != \"loading\") fn();\n",
       "          else document.addEventListener(\"DOMContentLoaded\", fn);\n",
       "        })();\n",
       "      },\n",
       "      function(Bokeh) {\n",
       "      }\n",
       "    ];\n",
       "  \n",
       "    function run_inline_js() {\n",
       "      \n",
       "      if ((window.Bokeh !== undefined) || (force === true)) {\n",
       "        for (var i = 0; i < inline_js.length; i++) {\n",
       "          inline_js[i](window.Bokeh);\n",
       "        }if (force === true) {\n",
       "          display_loaded();\n",
       "        }} else if (Date.now() < window._bokeh_timeout) {\n",
       "        setTimeout(run_inline_js, 100);\n",
       "      } else if (!window._bokeh_failed_load) {\n",
       "        console.log(\"Bokeh: BokehJS failed to load within specified timeout.\");\n",
       "        window._bokeh_failed_load = true;\n",
       "      } else if (force !== true) {\n",
       "        var cell = $(document.getElementById(\"63499b51-1e58-457a-81c6-b210c57752f8\")).parents('.cell').data().cell;\n",
       "        cell.output_area.append_execute_result(NB_LOAD_WARNING)\n",
       "      }\n",
       "  \n",
       "    }\n",
       "  \n",
       "    if (window._bokeh_is_loading === 0) {\n",
       "      console.log(\"Bokeh: BokehJS loaded, going straight to plotting\");\n",
       "      run_inline_js();\n",
       "    } else {\n",
       "      load_libs(js_urls, function() {\n",
       "        console.log(\"Bokeh: BokehJS plotting callback run at\", now());\n",
       "        run_inline_js();\n",
       "      });\n",
       "    }\n",
       "  }(this));\n",
       "</script>"
      ]
     },
     "metadata": {},
     "output_type": "display_data"
    }
   ],
   "source": [
    "df_zone4 = df_zones[df_zones['naarZone4'] == 'true'].groupby('zones').zones.count()\n",
    "\n",
    "p = Bar(df_zone4, title=\"(Kans) zone 4 bereikt / per zone volgorde\", legend=False)\n",
    "show(p)"
   ]
  },
  {
   "cell_type": "markdown",
   "metadata": {},
   "source": [
    "#### Waar wordt veel gespeeld?"
   ]
  },
  {
   "cell_type": "markdown",
   "metadata": {},
   "source": [
    "Acties die uiteindelijk zone 4 bereiken zijn meegenomen in deze visualisatie."
   ]
  },
  {
   "cell_type": "code",
   "execution_count": 55,
   "metadata": {
    "collapsed": true
   },
   "outputs": [],
   "source": [
    "df_zone4_percentage = df_zones[df_zones['naarZone4'] == 'true'][['lPercentage', 'mPercentage', 'rPercentage']].mean()"
   ]
  },
  {
   "cell_type": "code",
   "execution_count": 56,
   "metadata": {
    "collapsed": false
   },
   "outputs": [
    {
     "data": {
      "image/png": "[encoded data removed]",
      "text/plain": [
       "<matplotlib.figure.Figure at 0xbb0f971470>"
      ]
     },
     "metadata": {},
     "output_type": "display_data"
    }
   ],
   "source": [
    "df_zone4_perc_labels = [r'Linker zone', r'Middelste zone', r'Rechter zone']\n",
    "df_zone4_perc_sizes = df_zone4_percentage\n",
    "df_zone4_perc_colors = ['yellowgreen', 'gold', 'lightskyblue']\n",
    "df_zone4_perc_patches, texts = plt.pie(df_zone4_perc_sizes, colors=df_zone4_perc_colors, labels=df_zone4_percentage)\n",
    "plt.legend(df_zone4_perc_patches, df_zone4_perc_labels, loc=\"right\")\n",
    "\n",
    "plt.axis('equal')\n",
    "plt.tight_layout()\n",
    "plt.suptitle('Verdeling zones')\n",
    "plt.show()"
   ]
  },
  {
   "cell_type": "markdown",
   "metadata": {},
   "source": [
    "#### Is er spraken van een normaalverdeling?"
   ]
  },
  {
   "cell_type": "markdown",
   "metadata": {},
   "source": [
    "Een normaal verdeling heeft te maken met skewness & kurtosis van de data. Een manier om snel te kunnen zien of data normaal verdeeld is door een probability plot toe te passen."
   ]
  },
  {
   "cell_type": "markdown",
   "metadata": {},
   "source": [
    "##### zonesCount"
   ]
  },
  {
   "cell_type": "code",
   "execution_count": 57,
   "metadata": {
    "collapsed": false
   },
   "outputs": [
    {
     "data": {
      "image/png": "[encoded data removed]",
      "text/plain": [
       "<matplotlib.figure.Figure at 0xbb0f971a20>"
      ]
     },
     "metadata": {},
     "output_type": "display_data"
    }
   ],
   "source": [
    "fig = plt.figure()\n",
    "x = df_zones['zonesCount'].values\n",
    "stats.probplot(x, plot=plt)\n",
    "plt.show()"
   ]
  },
  {
   "cell_type": "markdown",
   "metadata": {},
   "source": [
    "De bovenstaande plot heeft een rodelijn die de normaal verdeling voorsteld. De blauwe elementen zijn de waarden van de 'zonesCount' van de dataset. Deze werkt sterk af en is dus niet normaal verdeeld."
   ]
  },
  {
   "cell_type": "markdown",
   "metadata": {},
   "source": [
    "##### lPercentage"
   ]
  },
  {
   "cell_type": "markdown",
   "metadata": {},
   "source": [
    "Hieronder zien we een visualisatie van de probability van de LPercentage (Hoeveel procent in acties voorkomen aan de linker kant van het veld)"
   ]
  },
  {
   "cell_type": "markdown",
   "metadata": {},
   "source": [
    "Op de y as bij 0 en 100 zijn er veel waarden af te lezen. Zoals de data er nu uitziet is deze dus niet normaal verdeeld."
   ]
  },
  {
   "cell_type": "code",
   "execution_count": 58,
   "metadata": {
    "collapsed": false
   },
   "outputs": [
    {
     "data": {
      "image/png": "[encoded data removed]",
      "text/plain": [
       "<matplotlib.figure.Figure at 0xbb0fbb4400>"
      ]
     },
     "metadata": {},
     "output_type": "display_data"
    }
   ],
   "source": [
    "fig = plt.figure()\n",
    "x = df_zones['mPercentage'].values\n",
    "stats.probplot(x, plot=plt)\n",
    "\n",
    "plt.show()"
   ]
  },
  {
   "cell_type": "markdown",
   "metadata": {},
   "source": [
    "Als we nou die 0 en 100 waarden uitfilteren en concentreren op de waarden in het midden krijgen we een heel ander beeld. Dit lijkt eerder wel weer normaalverdeeld te zijn. "
   ]
  },
  {
   "cell_type": "code",
   "execution_count": 59,
   "metadata": {
    "collapsed": false
   },
   "outputs": [
    {
     "data": {
      "image/png": "[encoded data removed]",
      "text/plain": [
       "<matplotlib.figure.Figure at 0xbb100b3b70>"
      ]
     },
     "metadata": {},
     "output_type": "display_data"
    }
   ],
   "source": [
    "fig = plt.figure()\n",
    "x = df_zones[(df_zones['lPercentage'] != 100) & (df_zones['lPercentage'] > 0)]['lPercentage'].values\n",
    "stats.probplot(x, plot=plt)\n",
    "\n",
    "plt.show()"
   ]
  },
  {
   "cell_type": "markdown",
   "metadata": {},
   "source": [
    "Soortgelijke resultaten zullen plaatsvinden bij de mPercentage en de rPercentage."
   ]
  },
  {
   "cell_type": "markdown",
   "metadata": {},
   "source": [
    "#### Correlatie:"
   ]
  },
  {
   "cell_type": "markdown",
   "metadata": {},
   "source": [
    "Zijn er dan nog verbanden te leggen tussen de columns in de dataset?"
   ]
  },
  {
   "cell_type": "code",
   "execution_count": 60,
   "metadata": {
    "collapsed": false,
    "scrolled": true
   },
   "outputs": [
    {
     "data": {
      "text/html": [
       "<div>\n",
       "<table border=\"1\" class=\"dataframe\">\n",
       "  <thead>\n",
       "    <tr style=\"text-align: right;\">\n",
       "      <th></th>\n",
       "      <th>id</th>\n",
       "      <th>zonesCount</th>\n",
       "      <th>lPercentage</th>\n",
       "      <th>mPercentage</th>\n",
       "      <th>rPercentage</th>\n",
       "    </tr>\n",
       "  </thead>\n",
       "  <tbody>\n",
       "    <tr>\n",
       "      <th>id</th>\n",
       "      <td>1.000000</td>\n",
       "      <td>-0.067749</td>\n",
       "      <td>-0.032414</td>\n",
       "      <td>0.099755</td>\n",
       "      <td>-0.079361</td>\n",
       "    </tr>\n",
       "    <tr>\n",
       "      <th>zonesCount</th>\n",
       "      <td>-0.067749</td>\n",
       "      <td>1.000000</td>\n",
       "      <td>-0.012600</td>\n",
       "      <td>0.006305</td>\n",
       "      <td>0.005813</td>\n",
       "    </tr>\n",
       "    <tr>\n",
       "      <th>lPercentage</th>\n",
       "      <td>-0.032414</td>\n",
       "      <td>-0.012600</td>\n",
       "      <td>1.000000</td>\n",
       "      <td>-0.573041</td>\n",
       "      <td>-0.379306</td>\n",
       "    </tr>\n",
       "    <tr>\n",
       "      <th>mPercentage</th>\n",
       "      <td>0.099755</td>\n",
       "      <td>0.006305</td>\n",
       "      <td>-0.573041</td>\n",
       "      <td>1.000000</td>\n",
       "      <td>-0.540926</td>\n",
       "    </tr>\n",
       "    <tr>\n",
       "      <th>rPercentage</th>\n",
       "      <td>-0.079361</td>\n",
       "      <td>0.005813</td>\n",
       "      <td>-0.379306</td>\n",
       "      <td>-0.540926</td>\n",
       "      <td>1.000000</td>\n",
       "    </tr>\n",
       "  </tbody>\n",
       "</table>\n",
       "</div>"
      ],
      "text/plain": [
       "                   id  zonesCount  lPercentage  mPercentage  rPercentage\n",
       "id           1.000000   -0.067749    -0.032414     0.099755    -0.079361\n",
       "zonesCount  -0.067749    1.000000    -0.012600     0.006305     0.005813\n",
       "lPercentage -0.032414   -0.012600     1.000000    -0.573041    -0.379306\n",
       "mPercentage  0.099755    0.006305    -0.573041     1.000000    -0.540926\n",
       "rPercentage -0.079361    0.005813    -0.379306    -0.540926     1.000000"
      ]
     },
     "execution_count": 60,
     "metadata": {},
     "output_type": "execute_result"
    }
   ],
   "source": [
    "df_zones.corr()"
   ]
  },
  {
   "cell_type": "markdown",
   "metadata": {},
   "source": [
    "Hierboven zijn enkele negatieve correlaties te zien en vrijwel geen positieve. Mogelijk verschilt dit weer per wedstrijd als er dan oppeens meer aan een andere kant wordt gespeeld."
   ]
  },
  {
   "cell_type": "markdown",
   "metadata": {},
   "source": [
    "#### Totale rendement per speler per wedstrijd:"
   ]
  },
  {
   "cell_type": "code",
   "execution_count": 61,
   "metadata": {
    "collapsed": false
   },
   "outputs": [
    {
     "data": {
      "text/html": [
       "\n",
       "    <div class=\"bk-root\">\n",
       "        <a href=\"http://bokeh.pydata.org\" target=\"_blank\" class=\"bk-logo bk-logo-small bk-logo-notebook\"></a>\n",
       "        <span id=\"f642ae52-9667-46cc-b3eb-dab3067e4314\">Loading BokehJS ...</span>\n",
       "    </div>"
      ]
     },
     "metadata": {},
     "output_type": "display_data"
    },
    {
     "data": {
      "application/javascript": [
       "\n",
       "(function(global) {\n",
       "  function now() {\n",
       "    return new Date();\n",
       "  }\n",
       "\n",
       "  var force = true;\n",
       "\n",
       "  if (typeof (window._bokeh_onload_callbacks) === \"undefined\" || force === true) {\n",
       "    window._bokeh_onload_callbacks = [];\n",
       "    window._bokeh_is_loading = undefined;\n",
       "  }\n",
       "\n",
       "\n",
       "  \n",
       "  if (typeof (window._bokeh_timeout) === \"undefined\" || force === true) {\n",
       "    window._bokeh_timeout = Date.now() + 5000;\n",
       "    window._bokeh_failed_load = false;\n",
       "  }\n",
       "\n",
       "  var NB_LOAD_WARNING = {'data': {'text/html':\n",
       "     \"<div style='background-color: #fdd'>\\n\"+\n",
       "     \"<p>\\n\"+\n",
       "     \"BokehJS does not appear to have successfully loaded. If loading BokehJS from CDN, this \\n\"+\n",
       "     \"may be due to a slow or bad network connection. Possible fixes:\\n\"+\n",
       "     \"</p>\\n\"+\n",
       "     \"<ul>\\n\"+\n",
       "     \"<li>re-rerun `output_notebook()` to attempt to load from CDN again, or</li>\\n\"+\n",
       "     \"<li>use INLINE resources instead, as so:</li>\\n\"+\n",
       "     \"</ul>\\n\"+\n",
       "     \"<code>\\n\"+\n",
       "     \"from bokeh.resources import INLINE\\n\"+\n",
       "     \"output_notebook(resources=INLINE)\\n\"+\n",
       "     \"</code>\\n\"+\n",
       "     \"</div>\"}};\n",
       "\n",
       "  function display_loaded() {\n",
       "    if (window.Bokeh !== undefined) {\n",
       "      document.getElementById(\"f642ae52-9667-46cc-b3eb-dab3067e4314\").textContent = \"BokehJS successfully loaded.\";\n",
       "    } else if (Date.now() < window._bokeh_timeout) {\n",
       "      setTimeout(display_loaded, 100)\n",
       "    }\n",
       "  }\n",
       "\n",
       "  function run_callbacks() {\n",
       "    window._bokeh_onload_callbacks.forEach(function(callback) { callback() });\n",
       "    delete window._bokeh_onload_callbacks\n",
       "    console.info(\"Bokeh: all callbacks have finished\");\n",
       "  }\n",
       "\n",
       "  function load_libs(js_urls, callback) {\n",
       "    window._bokeh_onload_callbacks.push(callback);\n",
       "    if (window._bokeh_is_loading > 0) {\n",
       "      console.log(\"Bokeh: BokehJS is being loaded, scheduling callback at\", now());\n",
       "      return null;\n",
       "    }\n",
       "    if (js_urls == null || js_urls.length === 0) {\n",
       "      run_callbacks();\n",
       "      return null;\n",
       "    }\n",
       "    console.log(\"Bokeh: BokehJS not loaded, scheduling load and callback at\", now());\n",
       "    window._bokeh_is_loading = js_urls.length;\n",
       "    for (var i = 0; i < js_urls.length; i++) {\n",
       "      var url = js_urls[i];\n",
       "      var s = document.createElement('script');\n",
       "      s.src = url;\n",
       "      s.async = false;\n",
       "      s.onreadystatechange = s.onload = function() {\n",
       "        window._bokeh_is_loading--;\n",
       "        if (window._bokeh_is_loading === 0) {\n",
       "          console.log(\"Bokeh: all BokehJS libraries loaded\");\n",
       "          run_callbacks()\n",
       "        }\n",
       "      };\n",
       "      s.onerror = function() {\n",
       "        console.warn(\"failed to load library \" + url);\n",
       "      };\n",
       "      console.log(\"Bokeh: injecting script tag for BokehJS library: \", url);\n",
       "      document.getElementsByTagName(\"head\")[0].appendChild(s);\n",
       "    }\n",
       "  };var element = document.getElementById(\"f642ae52-9667-46cc-b3eb-dab3067e4314\");\n",
       "  if (element == null) {\n",
       "    console.log(\"Bokeh: ERROR: autoload.js configured with elementid 'f642ae52-9667-46cc-b3eb-dab3067e4314' but no matching script tag was found. \")\n",
       "    return false;\n",
       "  }\n",
       "\n",
       "  var js_urls = [\"https://cdn.pydata.org/bokeh/release/bokeh-0.12.4.min.js\", \"https://cdn.pydata.org/bokeh/release/bokeh-widgets-0.12.4.min.js\"];\n",
       "\n",
       "  var inline_js = [\n",
       "    function(Bokeh) {\n",
       "      Bokeh.set_log_level(\"info\");\n",
       "    },\n",
       "    \n",
       "    function(Bokeh) {\n",
       "      \n",
       "      document.getElementById(\"f642ae52-9667-46cc-b3eb-dab3067e4314\").textContent = \"BokehJS is loading...\";\n",
       "    },\n",
       "    function(Bokeh) {\n",
       "      console.log(\"Bokeh: injecting CSS: https://cdn.pydata.org/bokeh/release/bokeh-0.12.4.min.css\");\n",
       "      Bokeh.embed.inject_css(\"https://cdn.pydata.org/bokeh/release/bokeh-0.12.4.min.css\");\n",
       "      console.log(\"Bokeh: injecting CSS: https://cdn.pydata.org/bokeh/release/bokeh-widgets-0.12.4.min.css\");\n",
       "      Bokeh.embed.inject_css(\"https://cdn.pydata.org/bokeh/release/bokeh-widgets-0.12.4.min.css\");\n",
       "    }\n",
       "  ];\n",
       "\n",
       "  function run_inline_js() {\n",
       "    \n",
       "    if ((window.Bokeh !== undefined) || (force === true)) {\n",
       "      for (var i = 0; i < inline_js.length; i++) {\n",
       "        inline_js[i](window.Bokeh);\n",
       "      }if (force === true) {\n",
       "        display_loaded();\n",
       "      }} else if (Date.now() < window._bokeh_timeout) {\n",
       "      setTimeout(run_inline_js, 100);\n",
       "    } else if (!window._bokeh_failed_load) {\n",
       "      console.log(\"Bokeh: BokehJS failed to load within specified timeout.\");\n",
       "      window._bokeh_failed_load = true;\n",
       "    } else if (force !== true) {\n",
       "      var cell = $(document.getElementById(\"f642ae52-9667-46cc-b3eb-dab3067e4314\")).parents('.cell').data().cell;\n",
       "      cell.output_area.append_execute_result(NB_LOAD_WARNING)\n",
       "    }\n",
       "\n",
       "  }\n",
       "\n",
       "  if (window._bokeh_is_loading === 0) {\n",
       "    console.log(\"Bokeh: BokehJS loaded, going straight to plotting\");\n",
       "    run_inline_js();\n",
       "  } else {\n",
       "    load_libs(js_urls, function() {\n",
       "      console.log(\"Bokeh: BokehJS plotting callback run at\", now());\n",
       "      run_inline_js();\n",
       "    });\n",
       "  }\n",
       "}(this));"
      ]
     },
     "metadata": {},
     "output_type": "display_data"
    },
    {
     "data": {
      "text/html": [
       "\n",
       "\n",
       "    <div class=\"bk-root\">\n",
       "        <div class=\"bk-plotdiv\" id=\"c68d5d86-b74d-4b49-8446-572893c635bc\"></div>\n",
       "    </div>\n",
       "<script type=\"text/javascript\">\n",
       "  \n",
       "  (function(global) {\n",
       "    function now() {\n",
       "      return new Date();\n",
       "    }\n",
       "  \n",
       "    var force = false;\n",
       "  \n",
       "    if (typeof (window._bokeh_onload_callbacks) === \"undefined\" || force === true) {\n",
       "      window._bokeh_onload_callbacks = [];\n",
       "      window._bokeh_is_loading = undefined;\n",
       "    }\n",
       "  \n",
       "  \n",
       "    \n",
       "    if (typeof (window._bokeh_timeout) === \"undefined\" || force === true) {\n",
       "      window._bokeh_timeout = Date.now() + 0;\n",
       "      window._bokeh_failed_load = false;\n",
       "    }\n",
       "  \n",
       "    var NB_LOAD_WARNING = {'data': {'text/html':\n",
       "       \"<div style='background-color: #fdd'>\\n\"+\n",
       "       \"<p>\\n\"+\n",
       "       \"BokehJS does not appear to have successfully loaded. If loading BokehJS from CDN, this \\n\"+\n",
       "       \"may be due to a slow or bad network connection. Possible fixes:\\n\"+\n",
       "       \"</p>\\n\"+\n",
       "       \"<ul>\\n\"+\n",
       "       \"<li>re-rerun `output_notebook()` to attempt to load from CDN again, or</li>\\n\"+\n",
       "       \"<li>use INLINE resources instead, as so:</li>\\n\"+\n",
       "       \"</ul>\\n\"+\n",
       "       \"<code>\\n\"+\n",
       "       \"from bokeh.resources import INLINE\\n\"+\n",
       "       \"output_notebook(resources=INLINE)\\n\"+\n",
       "       \"</code>\\n\"+\n",
       "       \"</div>\"}};\n",
       "  \n",
       "    function display_loaded() {\n",
       "      if (window.Bokeh !== undefined) {\n",
       "        document.getElementById(\"c68d5d86-b74d-4b49-8446-572893c635bc\").textContent = \"BokehJS successfully loaded.\";\n",
       "      } else if (Date.now() < window._bokeh_timeout) {\n",
       "        setTimeout(display_loaded, 100)\n",
       "      }\n",
       "    }\n",
       "  \n",
       "    function run_callbacks() {\n",
       "      window._bokeh_onload_callbacks.forEach(function(callback) { callback() });\n",
       "      delete window._bokeh_onload_callbacks\n",
       "      console.info(\"Bokeh: all callbacks have finished\");\n",
       "    }\n",
       "  \n",
       "    function load_libs(js_urls, callback) {\n",
       "      window._bokeh_onload_callbacks.push(callback);\n",
       "      if (window._bokeh_is_loading > 0) {\n",
       "        console.log(\"Bokeh: BokehJS is being loaded, scheduling callback at\", now());\n",
       "        return null;\n",
       "      }\n",
       "      if (js_urls == null || js_urls.length === 0) {\n",
       "        run_callbacks();\n",
       "        return null;\n",
       "      }\n",
       "      console.log(\"Bokeh: BokehJS not loaded, scheduling load and callback at\", now());\n",
       "      window._bokeh_is_loading = js_urls.length;\n",
       "      for (var i = 0; i < js_urls.length; i++) {\n",
       "        var url = js_urls[i];\n",
       "        var s = document.createElement('script');\n",
       "        s.src = url;\n",
       "        s.async = false;\n",
       "        s.onreadystatechange = s.onload = function() {\n",
       "          window._bokeh_is_loading--;\n",
       "          if (window._bokeh_is_loading === 0) {\n",
       "            console.log(\"Bokeh: all BokehJS libraries loaded\");\n",
       "            run_callbacks()\n",
       "          }\n",
       "        };\n",
       "        s.onerror = function() {\n",
       "          console.warn(\"failed to load library \" + url);\n",
       "        };\n",
       "        console.log(\"Bokeh: injecting script tag for BokehJS library: \", url);\n",
       "        document.getElementsByTagName(\"head\")[0].appendChild(s);\n",
       "      }\n",
       "    };var element = document.getElementById(\"c68d5d86-b74d-4b49-8446-572893c635bc\");\n",
       "    if (element == null) {\n",
       "      console.log(\"Bokeh: ERROR: autoload.js configured with elementid 'c68d5d86-b74d-4b49-8446-572893c635bc' but no matching script tag was found. \")\n",
       "      return false;\n",
       "    }\n",
       "  \n",
       "    var js_urls = [];\n",
       "  \n",
       "    var inline_js = [\n",
       "      function(Bokeh) {\n",
       "        (function() {\n",
       "          var fn = function() {\n",
       "            var docs_json = {\"223cb832-61ee-4da4-b505-ffed82301379\":{\"roots\":{\"references\":[{\"attributes\":{\"label\":{\"value\":\"Foul NEC\"},\"renderers\":[{\"id\":\"396110b9-c6d6-4981-a90f-ad3792e00e80\",\"type\":\"GlyphRenderer\"}]},\"id\":\"b87b5fa7-4413-4c72-9483-e7fe855de0b5\",\"type\":\"LegendItem\"},{\"attributes\":{\"plot\":{\"id\":\"02b40969-870e-4f6c-b227-8e96505890dc\",\"subtype\":\"Chart\",\"type\":\"Plot\"}},\"id\":\"01bd8c0c-64cc-4674-8dde-aa3044309229\",\"type\":\"ResetTool\"},{\"attributes\":{\"plot\":{\"id\":\"02b40969-870e-4f6c-b227-8e96505890dc\",\"subtype\":\"Chart\",\"type\":\"Plot\"}},\"id\":\"7bc05374-5800-453d-b3be-202866fcb294\",\"type\":\"WheelZoomTool\"},{\"attributes\":{\"overlay\":{\"id\":\"c6e9beb8-728d-4a74-b04f-39023077cca6\",\"type\":\"BoxAnnotation\"},\"plot\":{\"id\":\"02b40969-870e-4f6c-b227-8e96505890dc\",\"subtype\":\"Chart\",\"type\":\"Plot\"}},\"id\":\"a21974b5-7f88-4f3e-8f43-932eea05ff67\",\"type\":\"BoxZoomTool\"},{\"attributes\":{\"fill_alpha\":{\"field\":\"fill_alpha\"},\"fill_color\":{\"field\":\"color\"},\"height\":{\"field\":\"height\",\"units\":\"data\"},\"line_color\":{\"field\":\"line_color\"},\"width\":{\"field\":\"width\",\"units\":\"data\"},\"x\":{\"field\":\"x\"},\"y\":{\"field\":\"y\"}},\"id\":\"6b4e4eaf-ea58-43b0-9ddd-65c109fce166\",\"type\":\"Rect\"},{\"attributes\":{\"plot\":{\"id\":\"02b40969-870e-4f6c-b227-8e96505890dc\",\"subtype\":\"Chart\",\"type\":\"Plot\"}},\"id\":\"69355b13-f9b0-4ab6-b57c-ce606420c931\",\"type\":\"SaveTool\"},{\"attributes\":{\"callback\":null,\"end\":18.9},\"id\":\"42d3c2e4-1fdb-4aaf-a559-eb3ab668993a\",\"type\":\"Range1d\"},{\"attributes\":{\"active_drag\":\"auto\",\"active_scroll\":\"auto\",\"active_tap\":\"auto\",\"tools\":[{\"id\":\"54858191-e948-46d7-985c-20658d49b03c\",\"type\":\"PanTool\"},{\"id\":\"98a984b0-dfc8-4f38-9ceb-d379bf0d12c0\",\"type\":\"WheelZoomTool\"},{\"id\":\"70b9bc4b-4fd1-4e1f-8025-2109feb300d8\",\"type\":\"BoxZoomTool\"},{\"id\":\"9befe780-03d8-4fb7-bbed-34bcac838eba\",\"type\":\"SaveTool\"},{\"id\":\"f6b170e3-eb9e-4622-a0ce-2db2c308a4c7\",\"type\":\"ResetTool\"},{\"id\":\"70e96b5d-2f09-4459-8334-3d42c90865f2\",\"type\":\"HelpTool\"}]},\"id\":\"83448670-b247-4ab9-a450-65abcd0d3e25\",\"type\":\"Toolbar\"},{\"attributes\":{\"plot\":null,\"text\":\"PEC - NEC\"},\"id\":\"f69d553c-857b-4d8f-ab91-fbcf20bb3b79\",\"type\":\"Title\"},{\"attributes\":{\"plot\":null,\"text\":\"NEC - Cambuur\"},\"id\":\"adf55693-329a-487f-a136-8f9503d0b5b8\",\"type\":\"Title\"},{\"attributes\":{\"bottom_units\":\"screen\",\"fill_alpha\":{\"value\":0.5},\"fill_color\":{\"value\":\"lightgrey\"},\"left_units\":\"screen\",\"level\":\"overlay\",\"line_alpha\":{\"value\":1.0},\"line_color\":{\"value\":\"black\"},\"line_dash\":[4,4],\"line_width\":{\"value\":2},\"plot\":null,\"render_mode\":\"css\",\"right_units\":\"screen\",\"top_units\":\"screen\"},\"id\":\"c6e9beb8-728d-4a74-b04f-39023077cca6\",\"type\":\"BoxAnnotation\"},{\"attributes\":{\"data_source\":{\"id\":\"61f0da24-9008-4e0d-818d-dc2b1884ff55\",\"type\":\"ColumnDataSource\"},\"glyph\":{\"id\":\"f2957f4c-f7ce-496e-afaa-63dae99f4dea\",\"type\":\"Rect\"},\"hover_glyph\":null,\"nonselection_glyph\":null,\"selection_glyph\":null},\"id\":\"afaa01e2-efca-45f4-a0a9-140850b12d62\",\"type\":\"GlyphRenderer\"},{\"attributes\":{\"callback\":null,\"column_names\":[\"x\",\"y\",\"width\",\"height\",\"color\",\"fill_alpha\",\"line_color\",\"line_alpha\",\"label\"],\"data\":{\"chart_index\":[{\"rendement\":\"Foul NEC\"}],\"color\":[\"#f22c40\"],\"fill_alpha\":[0.8],\"height\":[1.0],\"label\":[{\"rendement\":\"Foul NEC\"}],\"line_alpha\":[1.0],\"line_color\":[\"white\"],\"rendement\":[\"Foul NEC\"],\"width\":[0.8],\"x\":[\"Foul NEC\"],\"y\":[0.5]}},\"id\":\"0aeba2fd-716d-45f1-9468-4a9a0a16f1f7\",\"type\":\"ColumnDataSource\"},{\"attributes\":{\"axis_label\":\"Rendement\",\"formatter\":{\"id\":\"c6612e78-dcd6-43fb-b012-655d8a49a947\",\"type\":\"CategoricalTickFormatter\"},\"major_label_orientation\":0.7853981633974483,\"plot\":{\"id\":\"2a9e3900-3f84-44da-bbe3-e2082f8082b4\",\"subtype\":\"Chart\",\"type\":\"Plot\"},\"ticker\":{\"id\":\"4c47223f-226d-4b71-9cf3-4f845f233764\",\"type\":\"CategoricalTicker\"}},\"id\":\"6fedd298-adb6-4260-ab31-b6635112bb6d\",\"type\":\"CategoricalAxis\"},{\"attributes\":{\"plot\":{\"id\":\"02b40969-870e-4f6c-b227-8e96505890dc\",\"subtype\":\"Chart\",\"type\":\"Plot\"}},\"id\":\"4c94bdf2-1f25-4f0d-abf7-198e317f79ba\",\"type\":\"PanTool\"},{\"attributes\":{\"label\":{\"value\":\"Balverlies\"},\"renderers\":[{\"id\":\"60ed10bc-f213-4a3c-bee4-241b3b415b07\",\"type\":\"GlyphRenderer\"}]},\"id\":\"12946020-f19a-490c-8be2-191764a34239\",\"type\":\"LegendItem\"},{\"attributes\":{\"callback\":null,\"end\":27.3},\"id\":\"0d9b4b27-fe84-4805-bc58-f87f30d965a4\",\"type\":\"Range1d\"},{\"attributes\":{\"plot\":{\"id\":\"2a9e3900-3f84-44da-bbe3-e2082f8082b4\",\"subtype\":\"Chart\",\"type\":\"Plot\"}},\"id\":\"0c0ae23c-ec61-43d9-91d1-e4e949c44d25\",\"type\":\"PanTool\"},{\"attributes\":{\"overlay\":{\"id\":\"8b641fff-7bd7-446d-a36d-599fcd391566\",\"type\":\"BoxAnnotation\"},\"plot\":{\"id\":\"2a9e3900-3f84-44da-bbe3-e2082f8082b4\",\"subtype\":\"Chart\",\"type\":\"Plot\"}},\"id\":\"9041fa6a-387c-4fb9-831d-970dd5ca89bf\",\"type\":\"BoxZoomTool\"},{\"attributes\":{\"items\":[{\"id\":\"a54011d3-e35c-49d2-8ae5-d5cb35213fe1\",\"type\":\"LegendItem\"},{\"id\":\"86bbcf18-6613-4bfb-b410-c654f03c1f0e\",\"type\":\"LegendItem\"},{\"id\":\"e85a3be6-9925-45fb-ade1-d0c3a3dcfba0\",\"type\":\"LegendItem\"},{\"id\":\"ba563a0d-497f-4037-8782-13da4226e0cb\",\"type\":\"LegendItem\"},{\"id\":\"d685be88-505c-462f-af7c-826ee009515c\",\"type\":\"LegendItem\"},{\"id\":\"9d5787b9-6c3f-413e-acd1-ba06739af7bb\",\"type\":\"LegendItem\"},{\"id\":\"344bb07a-b02a-457d-998e-f50172640aaa\",\"type\":\"LegendItem\"}],\"location\":\"top_left\",\"plot\":{\"id\":\"68d8f5c0-aa42-4c87-93e7-b234565ba8fd\",\"subtype\":\"Chart\",\"type\":\"Plot\"}},\"id\":\"91eb528e-668f-43da-a504-8fa5b42e1d3e\",\"type\":\"Legend\"},{\"attributes\":{\"data_source\":{\"id\":\"7b338a2f-185c-4809-bd27-fdb582d9e387\",\"type\":\"ColumnDataSource\"},\"glyph\":{\"id\":\"90f46b12-0efc-400f-a69d-ecfa54d4eef3\",\"type\":\"Rect\"},\"hover_glyph\":null,\"nonselection_glyph\":null,\"selection_glyph\":null},\"id\":\"d73caf44-0ce9-4527-b8a5-a8cfac59a86c\",\"type\":\"GlyphRenderer\"},{\"attributes\":{\"plot\":{\"id\":\"02b40969-870e-4f6c-b227-8e96505890dc\",\"subtype\":\"Chart\",\"type\":\"Plot\"}},\"id\":\"6d218629-309c-43ef-b1b7-9d452d4d657e\",\"type\":\"HelpTool\"},{\"attributes\":{\"plot\":{\"id\":\"2a9e3900-3f84-44da-bbe3-e2082f8082b4\",\"subtype\":\"Chart\",\"type\":\"Plot\"}},\"id\":\"9015cb48-432d-4640-883b-d29445db513d\",\"type\":\"SaveTool\"},{\"attributes\":{\"callback\":null,\"factors\":[\"BOP\",\"Balverlies\",\"Balwinst\",\"Corner\",\"Foul NEC\",\"Foul TEG\"]},\"id\":\"eacce26d-e381-4018-9f19-b9f3880bcd30\",\"type\":\"FactorRange\"},{\"attributes\":{\"bottom_units\":\"screen\",\"fill_alpha\":{\"value\":0.5},\"fill_color\":{\"value\":\"lightgrey\"},\"left_units\":\"screen\",\"level\":\"overlay\",\"line_alpha\":{\"value\":1.0},\"line_color\":{\"value\":\"black\"},\"line_dash\":[4,4],\"line_width\":{\"value\":2},\"plot\":null,\"render_mode\":\"css\",\"right_units\":\"screen\",\"top_units\":\"screen\"},\"id\":\"8b641fff-7bd7-446d-a36d-599fcd391566\",\"type\":\"BoxAnnotation\"},{\"attributes\":{\"plot\":{\"id\":\"2a9e3900-3f84-44da-bbe3-e2082f8082b4\",\"subtype\":\"Chart\",\"type\":\"Plot\"}},\"id\":\"d205dedd-c771-4174-9cc5-8467669e3ea8\",\"type\":\"WheelZoomTool\"},{\"attributes\":{\"callback\":null,\"factors\":[\"BOP\",\"Balverlies\",\"Doelpoging\",\"Foul NEC\",\"Foul TEG\",\"Voorzet\"]},\"id\":\"0cd81ca3-4803-47b0-900f-338ba340e7cc\",\"type\":\"FactorRange\"},{\"attributes\":{\"plot\":{\"id\":\"2a9e3900-3f84-44da-bbe3-e2082f8082b4\",\"subtype\":\"Chart\",\"type\":\"Plot\"}},\"id\":\"2b9cc254-f3e0-4978-a374-6bfe6a66ff0c\",\"type\":\"ResetTool\"},{\"attributes\":{\"active_drag\":\"auto\",\"active_scroll\":\"auto\",\"active_tap\":\"auto\",\"tools\":[{\"id\":\"4c94bdf2-1f25-4f0d-abf7-198e317f79ba\",\"type\":\"PanTool\"},{\"id\":\"7bc05374-5800-453d-b3be-202866fcb294\",\"type\":\"WheelZoomTool\"},{\"id\":\"a21974b5-7f88-4f3e-8f43-932eea05ff67\",\"type\":\"BoxZoomTool\"},{\"id\":\"69355b13-f9b0-4ab6-b57c-ce606420c931\",\"type\":\"SaveTool\"},{\"id\":\"01bd8c0c-64cc-4674-8dde-aa3044309229\",\"type\":\"ResetTool\"},{\"id\":\"6d218629-309c-43ef-b1b7-9d452d4d657e\",\"type\":\"HelpTool\"}]},\"id\":\"3f989a01-2dc8-4a78-abc0-5143800a397d\",\"type\":\"Toolbar\"},{\"attributes\":{\"plot\":{\"id\":\"2a9e3900-3f84-44da-bbe3-e2082f8082b4\",\"subtype\":\"Chart\",\"type\":\"Plot\"}},\"id\":\"e8c27711-2534-4863-a817-5dda5349ec1e\",\"type\":\"HelpTool\"},{\"attributes\":{\"data_source\":{\"id\":\"0e886676-35f0-4d21-bd29-e26509aba9c5\",\"type\":\"ColumnDataSource\"},\"glyph\":{\"id\":\"7dc9b63b-a468-4f2c-8272-8351b3637404\",\"type\":\"Rect\"},\"hover_glyph\":null,\"nonselection_glyph\":null,\"selection_glyph\":null},\"id\":\"fac43a1f-88db-4e54-867c-0f04234884d5\",\"type\":\"GlyphRenderer\"},{\"attributes\":{\"label\":{\"value\":\"Voorzet\"},\"renderers\":[{\"id\":\"45912a41-6e59-4d8e-b2cf-1fec8c046c35\",\"type\":\"GlyphRenderer\"}]},\"id\":\"894ecd3e-9696-4ed1-8a63-0a7f01f6d5ec\",\"type\":\"LegendItem\"},{\"attributes\":{\"label\":{\"value\":\"Balwinst\"},\"renderers\":[{\"id\":\"0f58b10c-d5df-406d-94b4-cd8dd202451e\",\"type\":\"GlyphRenderer\"}]},\"id\":\"35511b81-5cb5-4f79-93d8-8ecfa2ba8222\",\"type\":\"LegendItem\"},{\"attributes\":{\"data_source\":{\"id\":\"3add2728-4970-4ffd-9eda-5ceb7727950e\",\"type\":\"ColumnDataSource\"},\"glyph\":{\"id\":\"6b4e4eaf-ea58-43b0-9ddd-65c109fce166\",\"type\":\"Rect\"},\"hover_glyph\":null,\"nonselection_glyph\":null,\"selection_glyph\":null},\"id\":\"bd83e642-adcd-466e-bcd3-d295e9bf4be1\",\"type\":\"GlyphRenderer\"},{\"attributes\":{\"callback\":null,\"column_names\":[\"x\",\"y\",\"width\",\"height\",\"color\",\"fill_alpha\",\"line_color\",\"line_alpha\",\"label\"],\"data\":{\"chart_index\":[{\"rendement\":\"Balwinst\"}],\"color\":[\"#f22c40\"],\"fill_alpha\":[0.8],\"height\":[2.0],\"label\":[{\"rendement\":\"Balwinst\"}],\"line_alpha\":[1.0],\"line_color\":[\"white\"],\"rendement\":[\"Balwinst\"],\"width\":[0.8],\"x\":[\"Balwinst\"],\"y\":[1.0]}},\"id\":\"4406806f-eefa-4f89-b6cc-7883d5cb321d\",\"type\":\"ColumnDataSource\"},{\"attributes\":{\"label\":{\"value\":\"Balverlies\"},\"renderers\":[{\"id\":\"e13b0a39-5a01-4d09-8544-52e69b55b60d\",\"type\":\"GlyphRenderer\"}]},\"id\":\"338536b3-6fc6-46c4-9275-49cd765ae7e5\",\"type\":\"LegendItem\"},{\"attributes\":{\"label\":{\"value\":\"Balverlies\"},\"renderers\":[{\"id\":\"fac43a1f-88db-4e54-867c-0f04234884d5\",\"type\":\"GlyphRenderer\"}]},\"id\":\"a54011d3-e35c-49d2-8ae5-d5cb35213fe1\",\"type\":\"LegendItem\"},{\"attributes\":{\"label\":{\"value\":\"Corner\"},\"renderers\":[{\"id\":\"afaa01e2-efca-45f4-a0a9-140850b12d62\",\"type\":\"GlyphRenderer\"}]},\"id\":\"74ef0c7f-8e80-4f25-b9b8-8cff84b37cab\",\"type\":\"LegendItem\"},{\"attributes\":{\"plot\":null,\"text\":\"FC Utrecht - NEC\"},\"id\":\"51e0da14-3b47-4047-95e5-4fa1e4914843\",\"type\":\"Title\"},{\"attributes\":{\"label\":{\"value\":\"Doelpoging\"},\"renderers\":[{\"id\":\"c90b0ea9-eb40-4653-aa4f-8cf0bcc2f4e9\",\"type\":\"GlyphRenderer\"}]},\"id\":\"052a0549-5eb9-4e91-84b1-88e5ff5a0f9c\",\"type\":\"LegendItem\"},{\"attributes\":{\"label\":{\"value\":\"BOP\"},\"renderers\":[{\"id\":\"89d83fa1-7519-4f24-9d4a-e7b44ee5440f\",\"type\":\"GlyphRenderer\"}]},\"id\":\"d685be88-505c-462f-af7c-826ee009515c\",\"type\":\"LegendItem\"},{\"attributes\":{\"fill_alpha\":{\"field\":\"fill_alpha\"},\"fill_color\":{\"field\":\"color\"},\"height\":{\"field\":\"height\",\"units\":\"data\"},\"line_color\":{\"field\":\"line_color\"},\"width\":{\"field\":\"width\",\"units\":\"data\"},\"x\":{\"field\":\"x\"},\"y\":{\"field\":\"y\"}},\"id\":\"7306ef7a-5217-45c5-a2e9-5d6ef5523146\",\"type\":\"Rect\"},{\"attributes\":{\"active_drag\":\"auto\",\"active_scroll\":\"auto\",\"active_tap\":\"auto\",\"tools\":[{\"id\":\"0c0ae23c-ec61-43d9-91d1-e4e949c44d25\",\"type\":\"PanTool\"},{\"id\":\"d205dedd-c771-4174-9cc5-8467669e3ea8\",\"type\":\"WheelZoomTool\"},{\"id\":\"9041fa6a-387c-4fb9-831d-970dd5ca89bf\",\"type\":\"BoxZoomTool\"},{\"id\":\"9015cb48-432d-4640-883b-d29445db513d\",\"type\":\"SaveTool\"},{\"id\":\"2b9cc254-f3e0-4978-a374-6bfe6a66ff0c\",\"type\":\"ResetTool\"},{\"id\":\"e8c27711-2534-4863-a817-5dda5349ec1e\",\"type\":\"HelpTool\"}]},\"id\":\"e55e0324-84ea-48c3-abd1-724f28e7b7d4\",\"type\":\"Toolbar\"},{\"attributes\":{\"fill_alpha\":{\"field\":\"fill_alpha\"},\"fill_color\":{\"field\":\"color\"},\"height\":{\"field\":\"height\",\"units\":\"data\"},\"line_color\":{\"field\":\"line_color\"},\"width\":{\"field\":\"width\",\"units\":\"data\"},\"x\":{\"field\":\"x\"},\"y\":{\"field\":\"y\"}},\"id\":\"7dc9b63b-a468-4f2c-8272-8351b3637404\",\"type\":\"Rect\"},{\"attributes\":{\"below\":[{\"id\":\"6fedd298-adb6-4260-ab31-b6635112bb6d\",\"type\":\"CategoricalAxis\"}],\"css_classes\":null,\"left\":[{\"id\":\"276f5742-3c52-44af-82a2-a52fde85bfa3\",\"type\":\"LinearAxis\"}],\"renderers\":[{\"id\":\"8b641fff-7bd7-446d-a36d-599fcd391566\",\"type\":\"BoxAnnotation\"},{\"id\":\"d73caf44-0ce9-4527-b8a5-a8cfac59a86c\",\"type\":\"GlyphRenderer\"},{\"id\":\"bd83e642-adcd-466e-bcd3-d295e9bf4be1\",\"type\":\"GlyphRenderer\"},{\"id\":\"60ed10bc-f213-4a3c-bee4-241b3b415b07\",\"type\":\"GlyphRenderer\"},{\"id\":\"396110b9-c6d6-4981-a90f-ad3792e00e80\",\"type\":\"GlyphRenderer\"},{\"id\":\"45912a41-6e59-4d8e-b2cf-1fec8c046c35\",\"type\":\"GlyphRenderer\"},{\"id\":\"c90b0ea9-eb40-4653-aa4f-8cf0bcc2f4e9\",\"type\":\"GlyphRenderer\"},{\"id\":\"35a6c619-a5c8-4a10-b126-2f7ce00e600f\",\"type\":\"Legend\"},{\"id\":\"6fedd298-adb6-4260-ab31-b6635112bb6d\",\"type\":\"CategoricalAxis\"},{\"id\":\"276f5742-3c52-44af-82a2-a52fde85bfa3\",\"type\":\"LinearAxis\"},{\"id\":\"443971ac-cf9f-48af-ac7e-76661cab41bd\",\"type\":\"Grid\"}],\"title\":{\"id\":\"51e0da14-3b47-4047-95e5-4fa1e4914843\",\"type\":\"Title\"},\"tool_events\":{\"id\":\"6445485a-315f-4182-81d6-5d67a90baafa\",\"type\":\"ToolEvents\"},\"toolbar\":{\"id\":\"e55e0324-84ea-48c3-abd1-724f28e7b7d4\",\"type\":\"Toolbar\"},\"x_mapper_type\":\"auto\",\"x_range\":{\"id\":\"0cd81ca3-4803-47b0-900f-338ba340e7cc\",\"type\":\"FactorRange\"},\"y_mapper_type\":\"auto\",\"y_range\":{\"id\":\"42d3c2e4-1fdb-4aaf-a559-eb3ab668993a\",\"type\":\"Range1d\"}},\"id\":\"2a9e3900-3f84-44da-bbe3-e2082f8082b4\",\"subtype\":\"Chart\",\"type\":\"Plot\"},{\"attributes\":{\"fill_alpha\":{\"field\":\"fill_alpha\"},\"fill_color\":{\"field\":\"color\"},\"height\":{\"field\":\"height\",\"units\":\"data\"},\"line_color\":{\"field\":\"line_color\"},\"width\":{\"field\":\"width\",\"units\":\"data\"},\"x\":{\"field\":\"x\"},\"y\":{\"field\":\"y\"}},\"id\":\"d85c0a18-37de-4d76-a75f-3bb740494186\",\"type\":\"Rect\"},{\"attributes\":{\"data_source\":{\"id\":\"a4930afd-ff13-4137-8726-bc6def45e72c\",\"type\":\"ColumnDataSource\"},\"glyph\":{\"id\":\"7a19b9dd-233d-4de0-9d24-0ad2b40ce2e9\",\"type\":\"Rect\"},\"hover_glyph\":null,\"nonselection_glyph\":null,\"selection_glyph\":null},\"id\":\"6bf49c92-c02f-434e-aa90-3fcb7ea0952f\",\"type\":\"GlyphRenderer\"},{\"attributes\":{\"dimension\":1,\"plot\":{\"id\":\"02b40969-870e-4f6c-b227-8e96505890dc\",\"subtype\":\"Chart\",\"type\":\"Plot\"},\"ticker\":{\"id\":\"e36d0fd1-a0e1-4b1a-a74d-3537293370c6\",\"type\":\"BasicTicker\"}},\"id\":\"1d4e6b76-5093-49f2-97a1-9c0bb42f97d1\",\"type\":\"Grid\"},{\"attributes\":{},\"id\":\"e36d0fd1-a0e1-4b1a-a74d-3537293370c6\",\"type\":\"BasicTicker\"},{\"attributes\":{\"fill_alpha\":{\"field\":\"fill_alpha\"},\"fill_color\":{\"field\":\"color\"},\"height\":{\"field\":\"height\",\"units\":\"data\"},\"line_color\":{\"field\":\"line_color\"},\"width\":{\"field\":\"width\",\"units\":\"data\"},\"x\":{\"field\":\"x\"},\"y\":{\"field\":\"y\"}},\"id\":\"958a3ba7-410f-4b5e-9d7b-e0717f9242ae\",\"type\":\"Rect\"},{\"attributes\":{\"callback\":null,\"column_names\":[\"x\",\"y\",\"width\",\"height\",\"color\",\"fill_alpha\",\"line_color\",\"line_alpha\",\"label\"],\"data\":{\"chart_index\":[{\"rendement\":\"Voorzet\"}],\"color\":[\"#f22c40\"],\"fill_alpha\":[0.8],\"height\":[2.0],\"label\":[{\"rendement\":\"Voorzet\"}],\"line_alpha\":[1.0],\"line_color\":[\"white\"],\"rendement\":[\"Voorzet\"],\"width\":[0.8],\"x\":[\"Voorzet\"],\"y\":[1.0]}},\"id\":\"d6174827-7ed5-4c0d-a57f-a286ae3333e5\",\"type\":\"ColumnDataSource\"},{\"attributes\":{\"data_source\":{\"id\":\"23ee8114-521c-4843-96ca-f8caddc74f9b\",\"type\":\"ColumnDataSource\"},\"glyph\":{\"id\":\"d7a9b10f-6ea0-41fd-bad7-5249ef195ab3\",\"type\":\"Rect\"},\"hover_glyph\":null,\"nonselection_glyph\":null,\"selection_glyph\":null},\"id\":\"5c6047ba-69eb-4a29-8793-462976dab3a2\",\"type\":\"GlyphRenderer\"},{\"attributes\":{\"callback\":null,\"column_names\":[\"x\",\"y\",\"width\",\"height\",\"color\",\"fill_alpha\",\"line_color\",\"line_alpha\",\"label\"],\"data\":{\"chart_index\":[{\"rendement\":\"Foul TEG\"}],\"color\":[\"#f22c40\"],\"fill_alpha\":[0.8],\"height\":[5.0],\"label\":[{\"rendement\":\"Foul TEG\"}],\"line_alpha\":[1.0],\"line_color\":[\"white\"],\"rendement\":[\"Foul TEG\"],\"width\":[0.8],\"x\":[\"Foul TEG\"],\"y\":[2.5]}},\"id\":\"c85381f9-8bd8-421e-a033-304a8ddeda8b\",\"type\":\"ColumnDataSource\"},{\"attributes\":{\"data_source\":{\"id\":\"ae1ef77a-6f22-4220-b986-b0587d02eee5\",\"type\":\"ColumnDataSource\"},\"glyph\":{\"id\":\"7306ef7a-5217-45c5-a2e9-5d6ef5523146\",\"type\":\"Rect\"},\"hover_glyph\":null,\"nonselection_glyph\":null,\"selection_glyph\":null},\"id\":\"f67a539b-538c-468a-89a5-3c7839604312\",\"type\":\"GlyphRenderer\"},{\"attributes\":{\"data_source\":{\"id\":\"c42a49d9-b7fb-498d-ba7d-314923f6e1f0\",\"type\":\"ColumnDataSource\"},\"glyph\":{\"id\":\"24bfa6cc-e5ec-4746-b2a3-f4564edeea94\",\"type\":\"Rect\"},\"hover_glyph\":null,\"nonselection_glyph\":null,\"selection_glyph\":null},\"id\":\"60ed10bc-f213-4a3c-bee4-241b3b415b07\",\"type\":\"GlyphRenderer\"},{\"attributes\":{\"data_source\":{\"id\":\"62dbf509-6660-482c-b477-5d36abea3475\",\"type\":\"ColumnDataSource\"},\"glyph\":{\"id\":\"958a3ba7-410f-4b5e-9d7b-e0717f9242ae\",\"type\":\"Rect\"},\"hover_glyph\":null,\"nonselection_glyph\":null,\"selection_glyph\":null},\"id\":\"ce7b0892-0fb1-472c-ade1-dfaa55d256f5\",\"type\":\"GlyphRenderer\"},{\"attributes\":{\"below\":[{\"id\":\"c5d10e73-c358-4caa-9764-df9b1b8fc6b8\",\"type\":\"CategoricalAxis\"}],\"css_classes\":null,\"left\":[{\"id\":\"b2fcaa00-5098-4fe0-8bfc-855c2a0dcb97\",\"type\":\"LinearAxis\"}],\"renderers\":[{\"id\":\"bdad7b2c-9b2d-4303-977d-ac92c3f91f69\",\"type\":\"BoxAnnotation\"},{\"id\":\"fac43a1f-88db-4e54-867c-0f04234884d5\",\"type\":\"GlyphRenderer\"},{\"id\":\"d28858af-5f83-4e83-8d02-7fa4696cc7b3\",\"type\":\"GlyphRenderer\"},{\"id\":\"33513f62-d88d-46be-b084-16bd83023cf9\",\"type\":\"GlyphRenderer\"},{\"id\":\"00c8f1a1-a249-41c0-86ff-d405b82ec553\",\"type\":\"GlyphRenderer\"},{\"id\":\"89d83fa1-7519-4f24-9d4a-e7b44ee5440f\",\"type\":\"GlyphRenderer\"},{\"id\":\"0b0f5c12-b78c-42bc-8db7-c765360c7ac3\",\"type\":\"GlyphRenderer\"},{\"id\":\"5884f3cc-b733-4680-87b2-589ccbea04a9\",\"type\":\"GlyphRenderer\"},{\"id\":\"91eb528e-668f-43da-a504-8fa5b42e1d3e\",\"type\":\"Legend\"},{\"id\":\"c5d10e73-c358-4caa-9764-df9b1b8fc6b8\",\"type\":\"CategoricalAxis\"},{\"id\":\"b2fcaa00-5098-4fe0-8bfc-855c2a0dcb97\",\"type\":\"LinearAxis\"},{\"id\":\"fbfa5958-9e8f-4699-884b-78ff9a7a038f\",\"type\":\"Grid\"}],\"title\":{\"id\":\"f69d553c-857b-4d8f-ab91-fbcf20bb3b79\",\"type\":\"Title\"},\"tool_events\":{\"id\":\"9d9346f9-534f-4f06-bbc9-2b9ca67891c3\",\"type\":\"ToolEvents\"},\"toolbar\":{\"id\":\"83448670-b247-4ab9-a450-65abcd0d3e25\",\"type\":\"Toolbar\"},\"x_mapper_type\":\"auto\",\"x_range\":{\"id\":\"83dca62f-826e-4061-88a1-777fe532a4d8\",\"type\":\"FactorRange\"},\"y_mapper_type\":\"auto\",\"y_range\":{\"id\":\"0d9b4b27-fe84-4805-bc58-f87f30d965a4\",\"type\":\"Range1d\"}},\"id\":\"68d8f5c0-aa42-4c87-93e7-b234565ba8fd\",\"subtype\":\"Chart\",\"type\":\"Plot\"},{\"attributes\":{\"fill_alpha\":{\"field\":\"fill_alpha\"},\"fill_color\":{\"field\":\"color\"},\"height\":{\"field\":\"height\",\"units\":\"data\"},\"line_color\":{\"field\":\"line_color\"},\"width\":{\"field\":\"width\",\"units\":\"data\"},\"x\":{\"field\":\"x\"},\"y\":{\"field\":\"y\"}},\"id\":\"199781ba-0490-4797-a552-a97b761436bb\",\"type\":\"Rect\"},{\"attributes\":{\"fill_alpha\":{\"field\":\"fill_alpha\"},\"fill_color\":{\"field\":\"color\"},\"height\":{\"field\":\"height\",\"units\":\"data\"},\"line_color\":{\"field\":\"line_color\"},\"width\":{\"field\":\"width\",\"units\":\"data\"},\"x\":{\"field\":\"x\"},\"y\":{\"field\":\"y\"}},\"id\":\"34d4a9c2-3f48-4c6e-9352-824b9d876da1\",\"type\":\"Rect\"},{\"attributes\":{\"callback\":null,\"column_names\":[\"x\",\"y\",\"width\",\"height\",\"color\",\"fill_alpha\",\"line_color\",\"line_alpha\",\"label\"],\"data\":{\"chart_index\":[{\"rendement\":\"BOP\"}],\"color\":[\"#f22c40\"],\"fill_alpha\":[0.8],\"height\":[1.0],\"label\":[{\"rendement\":\"BOP\"}],\"line_alpha\":[1.0],\"line_color\":[\"white\"],\"rendement\":[\"BOP\"],\"width\":[0.8],\"x\":[\"BOP\"],\"y\":[0.5]}},\"id\":\"f28403c8-88e2-400d-9f56-6da40830adcd\",\"type\":\"ColumnDataSource\"},{\"attributes\":{},\"id\":\"8ab3e4f9-88d6-47b6-8d69-727a2835c02d\",\"type\":\"BasicTicker\"},{\"attributes\":{\"dimension\":1,\"plot\":{\"id\":\"2a9e3900-3f84-44da-bbe3-e2082f8082b4\",\"subtype\":\"Chart\",\"type\":\"Plot\"},\"ticker\":{\"id\":\"cbe295c9-a52c-4133-ab5f-0301d5b75f8c\",\"type\":\"BasicTicker\"}},\"id\":\"443971ac-cf9f-48af-ac7e-76661cab41bd\",\"type\":\"Grid\"},{\"attributes\":{\"data_source\":{\"id\":\"068bd800-4510-461b-938b-81c2e828e0bf\",\"type\":\"ColumnDataSource\"},\"glyph\":{\"id\":\"199781ba-0490-4797-a552-a97b761436bb\",\"type\":\"Rect\"},\"hover_glyph\":null,\"nonselection_glyph\":null,\"selection_glyph\":null},\"id\":\"471fdf18-3526-45a1-8b56-8aa0b67dbca1\",\"type\":\"GlyphRenderer\"},{\"attributes\":{\"data_source\":{\"id\":\"4406806f-eefa-4f89-b6cc-7883d5cb321d\",\"type\":\"ColumnDataSource\"},\"glyph\":{\"id\":\"d85c0a18-37de-4d76-a75f-3bb740494186\",\"type\":\"Rect\"},\"hover_glyph\":null,\"nonselection_glyph\":null,\"selection_glyph\":null},\"id\":\"0f58b10c-d5df-406d-94b4-cd8dd202451e\",\"type\":\"GlyphRenderer\"},{\"attributes\":{\"fill_alpha\":{\"field\":\"fill_alpha\"},\"fill_color\":{\"field\":\"color\"},\"height\":{\"field\":\"height\",\"units\":\"data\"},\"line_color\":{\"field\":\"line_color\"},\"width\":{\"field\":\"width\",\"units\":\"data\"},\"x\":{\"field\":\"x\"},\"y\":{\"field\":\"y\"}},\"id\":\"8cf64f59-a911-48d5-9fab-c9b3901aba0d\",\"type\":\"Rect\"},{\"attributes\":{\"callback\":null,\"column_names\":[\"x\",\"y\",\"width\",\"height\",\"color\",\"fill_alpha\",\"line_color\",\"line_alpha\",\"label\"],\"data\":{\"chart_index\":[{\"rendement\":\"Foul NEC\"}],\"color\":[\"#f22c40\"],\"fill_alpha\":[0.8],\"height\":[2.0],\"label\":[{\"rendement\":\"Foul NEC\"}],\"line_alpha\":[1.0],\"line_color\":[\"white\"],\"rendement\":[\"Foul NEC\"],\"width\":[0.8],\"x\":[\"Foul NEC\"],\"y\":[1.0]}},\"id\":\"068bd800-4510-461b-938b-81c2e828e0bf\",\"type\":\"ColumnDataSource\"},{\"attributes\":{\"callback\":null,\"column_names\":[\"x\",\"y\",\"width\",\"height\",\"color\",\"fill_alpha\",\"line_color\",\"line_alpha\",\"label\"],\"data\":{\"chart_index\":[{\"rendement\":\"Balverlies\"}],\"color\":[\"#f22c40\"],\"fill_alpha\":[0.8],\"height\":[18.0],\"label\":[{\"rendement\":\"Balverlies\"}],\"line_alpha\":[1.0],\"line_color\":[\"white\"],\"rendement\":[\"Balverlies\"],\"width\":[0.8],\"x\":[\"Balverlies\"],\"y\":[9.0]}},\"id\":\"c42a49d9-b7fb-498d-ba7d-314923f6e1f0\",\"type\":\"ColumnDataSource\"},{\"attributes\":{\"fill_alpha\":{\"field\":\"fill_alpha\"},\"fill_color\":{\"field\":\"color\"},\"height\":{\"field\":\"height\",\"units\":\"data\"},\"line_color\":{\"field\":\"line_color\"},\"width\":{\"field\":\"width\",\"units\":\"data\"},\"x\":{\"field\":\"x\"},\"y\":{\"field\":\"y\"}},\"id\":\"cd61b7b8-2dc5-4d38-93ad-c09c08ab0ee2\",\"type\":\"Rect\"},{\"attributes\":{},\"id\":\"c6612e78-dcd6-43fb-b012-655d8a49a947\",\"type\":\"CategoricalTickFormatter\"},{\"attributes\":{\"children\":[{\"id\":\"2a9e3900-3f84-44da-bbe3-e2082f8082b4\",\"subtype\":\"Chart\",\"type\":\"Plot\"},{\"id\":\"02b40969-870e-4f6c-b227-8e96505890dc\",\"subtype\":\"Chart\",\"type\":\"Plot\"},{\"id\":\"68d8f5c0-aa42-4c87-93e7-b234565ba8fd\",\"subtype\":\"Chart\",\"type\":\"Plot\"},{\"id\":\"60c83f9b-12d6-4e63-8431-c3680185de43\",\"subtype\":\"Chart\",\"type\":\"Plot\"}]},\"id\":\"ff341ee2-95fa-489d-98eb-34522ec156df\",\"type\":\"Column\"},{\"attributes\":{\"data_source\":{\"id\":\"d6174827-7ed5-4c0d-a57f-a286ae3333e5\",\"type\":\"ColumnDataSource\"},\"glyph\":{\"id\":\"cd61b7b8-2dc5-4d38-93ad-c09c08ab0ee2\",\"type\":\"Rect\"},\"hover_glyph\":null,\"nonselection_glyph\":null,\"selection_glyph\":null},\"id\":\"e1b450f8-f773-431c-814d-fefa9d16075c\",\"type\":\"GlyphRenderer\"},{\"attributes\":{\"fill_alpha\":{\"field\":\"fill_alpha\"},\"fill_color\":{\"field\":\"color\"},\"height\":{\"field\":\"height\",\"units\":\"data\"},\"line_color\":{\"field\":\"line_color\"},\"width\":{\"field\":\"width\",\"units\":\"data\"},\"x\":{\"field\":\"x\"},\"y\":{\"field\":\"y\"}},\"id\":\"35fd3189-7037-47cb-920a-54e19075b99a\",\"type\":\"Rect\"},{\"attributes\":{\"data_source\":{\"id\":\"c85381f9-8bd8-421e-a033-304a8ddeda8b\",\"type\":\"ColumnDataSource\"},\"glyph\":{\"id\":\"35fd3189-7037-47cb-920a-54e19075b99a\",\"type\":\"Rect\"},\"hover_glyph\":null,\"nonselection_glyph\":null,\"selection_glyph\":null},\"id\":\"1c164daf-e730-4b83-9a3e-fdb4b5683d83\",\"type\":\"GlyphRenderer\"},{\"attributes\":{\"data_source\":{\"id\":\"0c972011-b490-4248-b33a-201e7d601bea\",\"type\":\"ColumnDataSource\"},\"glyph\":{\"id\":\"96a9dc6d-2180-4c14-8cd2-783fd4b4404e\",\"type\":\"Rect\"},\"hover_glyph\":null,\"nonselection_glyph\":null,\"selection_glyph\":null},\"id\":\"e13b0a39-5a01-4d09-8544-52e69b55b60d\",\"type\":\"GlyphRenderer\"},{\"attributes\":{},\"id\":\"676c2873-a3be-4baf-8d4f-f98b4418dc4f\",\"type\":\"CategoricalTickFormatter\"},{\"attributes\":{\"callback\":null,\"column_names\":[\"x\",\"y\",\"width\",\"height\",\"color\",\"fill_alpha\",\"line_color\",\"line_alpha\",\"label\"],\"data\":{\"chart_index\":[{\"rendement\":\"Balverlies\"}],\"color\":[\"#f22c40\"],\"fill_alpha\":[0.8],\"height\":[23.0],\"label\":[{\"rendement\":\"Balverlies\"}],\"line_alpha\":[1.0],\"line_color\":[\"white\"],\"rendement\":[\"Balverlies\"],\"width\":[0.8],\"x\":[\"Balverlies\"],\"y\":[11.5]}},\"id\":\"0c972011-b490-4248-b33a-201e7d601bea\",\"type\":\"ColumnDataSource\"},{\"attributes\":{\"fill_alpha\":{\"field\":\"fill_alpha\"},\"fill_color\":{\"field\":\"color\"},\"height\":{\"field\":\"height\",\"units\":\"data\"},\"line_color\":{\"field\":\"line_color\"},\"width\":{\"field\":\"width\",\"units\":\"data\"},\"x\":{\"field\":\"x\"},\"y\":{\"field\":\"y\"}},\"id\":\"de969ad1-fc34-46e9-822a-161178ed1350\",\"type\":\"Rect\"},{\"attributes\":{},\"id\":\"eb8406af-f3ac-4aa2-9d3e-554bbe7a2198\",\"type\":\"BasicTickFormatter\"},{\"attributes\":{},\"id\":\"68a50aed-b9ac-4ec7-98cd-0c8ad699567c\",\"type\":\"CategoricalTicker\"},{\"attributes\":{\"label\":{\"value\":\"BOP\"},\"renderers\":[{\"id\":\"20fd9da0-b695-4890-b47e-05b0ae0f5e11\",\"type\":\"GlyphRenderer\"}]},\"id\":\"eb684a03-3ec3-4162-984c-ae09d90730ee\",\"type\":\"LegendItem\"},{\"attributes\":{},\"id\":\"867195dd-86c9-42f2-9494-22d7e74bd0ec\",\"type\":\"BasicTickFormatter\"},{\"attributes\":{},\"id\":\"cb3e8b67-5e88-4a50-be0f-1acdc4b363c7\",\"type\":\"BasicTicker\"},{\"attributes\":{\"axis_label\":\"Rendement\",\"formatter\":{\"id\":\"ab1abaa4-4e3a-4784-aac4-c459bbdf9cd7\",\"type\":\"CategoricalTickFormatter\"},\"major_label_orientation\":0.7853981633974483,\"plot\":{\"id\":\"60c83f9b-12d6-4e63-8431-c3680185de43\",\"subtype\":\"Chart\",\"type\":\"Plot\"},\"ticker\":{\"id\":\"17ed90ce-f139-4142-8d88-f448d1e6cb42\",\"type\":\"CategoricalTicker\"}},\"id\":\"2b000295-bd9d-4f2f-a9b6-2346dcd70d79\",\"type\":\"CategoricalAxis\"},{\"attributes\":{\"fill_alpha\":{\"field\":\"fill_alpha\"},\"fill_color\":{\"field\":\"color\"},\"height\":{\"field\":\"height\",\"units\":\"data\"},\"line_color\":{\"field\":\"line_color\"},\"width\":{\"field\":\"width\",\"units\":\"data\"},\"x\":{\"field\":\"x\"},\"y\":{\"field\":\"y\"}},\"id\":\"de892e08-ce47-43c8-8e1f-1ace6244086c\",\"type\":\"Rect\"},{\"attributes\":{\"data_source\":{\"id\":\"0aeba2fd-716d-45f1-9468-4a9a0a16f1f7\",\"type\":\"ColumnDataSource\"},\"glyph\":{\"id\":\"34d4a9c2-3f48-4c6e-9352-824b9d876da1\",\"type\":\"Rect\"},\"hover_glyph\":null,\"nonselection_glyph\":null,\"selection_glyph\":null},\"id\":\"396110b9-c6d6-4981-a90f-ad3792e00e80\",\"type\":\"GlyphRenderer\"},{\"attributes\":{\"axis_label\":\"Sum( Count )\",\"formatter\":{\"id\":\"ad300fc9-6aac-4098-bd2f-798f4578dafa\",\"type\":\"BasicTickFormatter\"},\"plot\":{\"id\":\"68d8f5c0-aa42-4c87-93e7-b234565ba8fd\",\"subtype\":\"Chart\",\"type\":\"Plot\"},\"ticker\":{\"id\":\"8ab3e4f9-88d6-47b6-8d69-727a2835c02d\",\"type\":\"BasicTicker\"}},\"id\":\"b2fcaa00-5098-4fe0-8bfc-855c2a0dcb97\",\"type\":\"LinearAxis\"},{\"attributes\":{},\"id\":\"cbe295c9-a52c-4133-ab5f-0301d5b75f8c\",\"type\":\"BasicTicker\"},{\"attributes\":{\"data_source\":{\"id\":\"f28403c8-88e2-400d-9f56-6da40830adcd\",\"type\":\"ColumnDataSource\"},\"glyph\":{\"id\":\"de969ad1-fc34-46e9-822a-161178ed1350\",\"type\":\"Rect\"},\"hover_glyph\":null,\"nonselection_glyph\":null,\"selection_glyph\":null},\"id\":\"20fd9da0-b695-4890-b47e-05b0ae0f5e11\",\"type\":\"GlyphRenderer\"},{\"attributes\":{\"callback\":null,\"column_names\":[\"x\",\"y\",\"width\",\"height\",\"color\",\"fill_alpha\",\"line_color\",\"line_alpha\",\"label\"],\"data\":{\"chart_index\":[{\"rendement\":\"Balverlies\"}],\"color\":[\"#f22c40\"],\"fill_alpha\":[0.8],\"height\":[26.0],\"label\":[{\"rendement\":\"Balverlies\"}],\"line_alpha\":[1.0],\"line_color\":[\"white\"],\"rendement\":[\"Balverlies\"],\"width\":[0.8],\"x\":[\"Balverlies\"],\"y\":[13.0]}},\"id\":\"0e886676-35f0-4d21-bd29-e26509aba9c5\",\"type\":\"ColumnDataSource\"},{\"attributes\":{\"axis_label\":\"Sum( Count )\",\"formatter\":{\"id\":\"eb8406af-f3ac-4aa2-9d3e-554bbe7a2198\",\"type\":\"BasicTickFormatter\"},\"plot\":{\"id\":\"60c83f9b-12d6-4e63-8431-c3680185de43\",\"subtype\":\"Chart\",\"type\":\"Plot\"},\"ticker\":{\"id\":\"cb3e8b67-5e88-4a50-be0f-1acdc4b363c7\",\"type\":\"BasicTicker\"}},\"id\":\"d0810ba4-2d65-4e20-a1c5-462d2f892e8e\",\"type\":\"LinearAxis\"},{\"attributes\":{\"axis_label\":\"Sum( Count )\",\"formatter\":{\"id\":\"f09fff9f-f5ca-466b-a140-19aef06e7675\",\"type\":\"BasicTickFormatter\"},\"plot\":{\"id\":\"2a9e3900-3f84-44da-bbe3-e2082f8082b4\",\"subtype\":\"Chart\",\"type\":\"Plot\"},\"ticker\":{\"id\":\"cbe295c9-a52c-4133-ab5f-0301d5b75f8c\",\"type\":\"BasicTicker\"}},\"id\":\"276f5742-3c52-44af-82a2-a52fde85bfa3\",\"type\":\"LinearAxis\"},{\"attributes\":{\"dimension\":1,\"plot\":{\"id\":\"60c83f9b-12d6-4e63-8431-c3680185de43\",\"subtype\":\"Chart\",\"type\":\"Plot\"},\"ticker\":{\"id\":\"cb3e8b67-5e88-4a50-be0f-1acdc4b363c7\",\"type\":\"BasicTicker\"}},\"id\":\"aab77c7a-d0bb-4e03-a6d9-07e9380c02d8\",\"type\":\"Grid\"},{\"attributes\":{},\"id\":\"4c47223f-226d-4b71-9cf3-4f845f233764\",\"type\":\"CategoricalTicker\"},{\"attributes\":{\"dimension\":1,\"plot\":{\"id\":\"68d8f5c0-aa42-4c87-93e7-b234565ba8fd\",\"subtype\":\"Chart\",\"type\":\"Plot\"},\"ticker\":{\"id\":\"8ab3e4f9-88d6-47b6-8d69-727a2835c02d\",\"type\":\"BasicTicker\"}},\"id\":\"fbfa5958-9e8f-4699-884b-78ff9a7a038f\",\"type\":\"Grid\"},{\"attributes\":{},\"id\":\"babe6994-0c7b-410c-ab64-6c23f04134f7\",\"type\":\"CategoricalTicker\"},{\"attributes\":{},\"id\":\"f09fff9f-f5ca-466b-a140-19aef06e7675\",\"type\":\"BasicTickFormatter\"},{\"attributes\":{},\"id\":\"9d9346f9-534f-4f06-bbc9-2b9ca67891c3\",\"type\":\"ToolEvents\"},{\"attributes\":{},\"id\":\"642ffaab-a21f-469e-83dc-942e4259b3c1\",\"type\":\"CategoricalTickFormatter\"},{\"attributes\":{\"fill_alpha\":{\"field\":\"fill_alpha\"},\"fill_color\":{\"field\":\"color\"},\"height\":{\"field\":\"height\",\"units\":\"data\"},\"line_color\":{\"field\":\"line_color\"},\"width\":{\"field\":\"width\",\"units\":\"data\"},\"x\":{\"field\":\"x\"},\"y\":{\"field\":\"y\"}},\"id\":\"24bfa6cc-e5ec-4746-b2a3-f4564edeea94\",\"type\":\"Rect\"},{\"attributes\":{\"bottom_units\":\"screen\",\"fill_alpha\":{\"value\":0.5},\"fill_color\":{\"value\":\"lightgrey\"},\"left_units\":\"screen\",\"level\":\"overlay\",\"line_alpha\":{\"value\":1.0},\"line_color\":{\"value\":\"black\"},\"line_dash\":[4,4],\"line_width\":{\"value\":2},\"plot\":null,\"render_mode\":\"css\",\"right_units\":\"screen\",\"top_units\":\"screen\"},\"id\":\"bdad7b2c-9b2d-4303-977d-ac92c3f91f69\",\"type\":\"BoxAnnotation\"},{\"attributes\":{\"plot\":{\"id\":\"68d8f5c0-aa42-4c87-93e7-b234565ba8fd\",\"subtype\":\"Chart\",\"type\":\"Plot\"}},\"id\":\"9befe780-03d8-4fb7-bbed-34bcac838eba\",\"type\":\"SaveTool\"},{\"attributes\":{\"callback\":null,\"column_names\":[\"x\",\"y\",\"width\",\"height\",\"color\",\"fill_alpha\",\"line_color\",\"line_alpha\",\"label\"],\"data\":{\"chart_index\":[{\"rendement\":\"BOP\"}],\"color\":[\"#f22c40\"],\"fill_alpha\":[0.8],\"height\":[1.0],\"label\":[{\"rendement\":\"BOP\"}],\"line_alpha\":[1.0],\"line_color\":[\"white\"],\"rendement\":[\"BOP\"],\"width\":[0.8],\"x\":[\"BOP\"],\"y\":[0.5]}},\"id\":\"ae1ef77a-6f22-4220-b986-b0587d02eee5\",\"type\":\"ColumnDataSource\"},{\"attributes\":{\"axis_label\":\"Sum( Count )\",\"formatter\":{\"id\":\"867195dd-86c9-42f2-9494-22d7e74bd0ec\",\"type\":\"BasicTickFormatter\"},\"plot\":{\"id\":\"02b40969-870e-4f6c-b227-8e96505890dc\",\"subtype\":\"Chart\",\"type\":\"Plot\"},\"ticker\":{\"id\":\"e36d0fd1-a0e1-4b1a-a74d-3537293370c6\",\"type\":\"BasicTicker\"}},\"id\":\"46198795-9780-4f21-99dd-37a3f0d8e3ca\",\"type\":\"LinearAxis\"},{\"attributes\":{\"overlay\":{\"id\":\"bdad7b2c-9b2d-4303-977d-ac92c3f91f69\",\"type\":\"BoxAnnotation\"},\"plot\":{\"id\":\"68d8f5c0-aa42-4c87-93e7-b234565ba8fd\",\"subtype\":\"Chart\",\"type\":\"Plot\"}},\"id\":\"70b9bc4b-4fd1-4e1f-8025-2109feb300d8\",\"type\":\"BoxZoomTool\"},{\"attributes\":{\"plot\":{\"id\":\"68d8f5c0-aa42-4c87-93e7-b234565ba8fd\",\"subtype\":\"Chart\",\"type\":\"Plot\"}},\"id\":\"f6b170e3-eb9e-4622-a0ce-2db2c308a4c7\",\"type\":\"ResetTool\"},{\"attributes\":{\"plot\":{\"id\":\"68d8f5c0-aa42-4c87-93e7-b234565ba8fd\",\"subtype\":\"Chart\",\"type\":\"Plot\"}},\"id\":\"98a984b0-dfc8-4f38-9ceb-d379bf0d12c0\",\"type\":\"WheelZoomTool\"},{\"attributes\":{\"plot\":{\"id\":\"68d8f5c0-aa42-4c87-93e7-b234565ba8fd\",\"subtype\":\"Chart\",\"type\":\"Plot\"}},\"id\":\"54858191-e948-46d7-985c-20658d49b03c\",\"type\":\"PanTool\"},{\"attributes\":{\"callback\":null,\"column_names\":[\"x\",\"y\",\"width\",\"height\",\"color\",\"fill_alpha\",\"line_color\",\"line_alpha\",\"label\"],\"data\":{\"chart_index\":[{\"rendement\":\"Foul NEC\"}],\"color\":[\"#f22c40\"],\"fill_alpha\":[0.8],\"height\":[2.0],\"label\":[{\"rendement\":\"Foul NEC\"}],\"line_alpha\":[1.0],\"line_color\":[\"white\"],\"rendement\":[\"Foul NEC\"],\"width\":[0.8],\"x\":[\"Foul NEC\"],\"y\":[1.0]}},\"id\":\"69d23ce4-f328-4d25-82d9-199486a5d500\",\"type\":\"ColumnDataSource\"},{\"attributes\":{\"label\":{\"value\":\"Corner\"},\"renderers\":[{\"id\":\"0b0f5c12-b78c-42bc-8db7-c765360c7ac3\",\"type\":\"GlyphRenderer\"}]},\"id\":\"9d5787b9-6c3f-413e-acd1-ba06739af7bb\",\"type\":\"LegendItem\"},{\"attributes\":{\"label\":{\"value\":\"Doelpoging\"},\"renderers\":[{\"id\":\"d28858af-5f83-4e83-8d02-7fa4696cc7b3\",\"type\":\"GlyphRenderer\"}]},\"id\":\"86bbcf18-6613-4bfb-b410-c654f03c1f0e\",\"type\":\"LegendItem\"},{\"attributes\":{\"plot\":{\"id\":\"68d8f5c0-aa42-4c87-93e7-b234565ba8fd\",\"subtype\":\"Chart\",\"type\":\"Plot\"}},\"id\":\"70e96b5d-2f09-4459-8334-3d42c90865f2\",\"type\":\"HelpTool\"},{\"attributes\":{\"label\":{\"value\":\"Foul NEC\"},\"renderers\":[{\"id\":\"5884f3cc-b733-4680-87b2-589ccbea04a9\",\"type\":\"GlyphRenderer\"}]},\"id\":\"344bb07a-b02a-457d-998e-f50172640aaa\",\"type\":\"LegendItem\"},{\"attributes\":{\"label\":{\"value\":\"Foul TEG\"},\"renderers\":[{\"id\":\"33513f62-d88d-46be-b084-16bd83023cf9\",\"type\":\"GlyphRenderer\"}]},\"id\":\"e85a3be6-9925-45fb-ade1-d0c3a3dcfba0\",\"type\":\"LegendItem\"},{\"attributes\":{\"callback\":null,\"column_names\":[\"x\",\"y\",\"width\",\"height\",\"color\",\"fill_alpha\",\"line_color\",\"line_alpha\",\"label\"],\"data\":{\"chart_index\":[{\"rendement\":\"Foul NEC\"}],\"color\":[\"#f22c40\"],\"fill_alpha\":[0.8],\"height\":[4.0],\"label\":[{\"rendement\":\"Foul NEC\"}],\"line_alpha\":[1.0],\"line_color\":[\"white\"],\"rendement\":[\"Foul NEC\"],\"width\":[0.8],\"x\":[\"Foul NEC\"],\"y\":[2.0]}},\"id\":\"5da26a1b-6816-4cb1-80e6-f3a2fa28cefc\",\"type\":\"ColumnDataSource\"},{\"attributes\":{\"fill_alpha\":{\"field\":\"fill_alpha\"},\"fill_color\":{\"field\":\"color\"},\"height\":{\"field\":\"height\",\"units\":\"data\"},\"line_color\":{\"field\":\"line_color\"},\"width\":{\"field\":\"width\",\"units\":\"data\"},\"x\":{\"field\":\"x\"},\"y\":{\"field\":\"y\"}},\"id\":\"cfeb30cb-f13a-4219-9462-92920bb043f3\",\"type\":\"Rect\"},{\"attributes\":{\"callback\":null,\"factors\":[\"BOP\",\"Balverlies\",\"Corner\",\"Doelpoging\",\"Foul NEC\",\"Foul TEG\",\"Voorzet\"]},\"id\":\"b55fd6ea-72a6-42bc-b771-3cd57bcc04dd\",\"type\":\"FactorRange\"},{\"attributes\":{\"callback\":null,\"column_names\":[\"x\",\"y\",\"width\",\"height\",\"color\",\"fill_alpha\",\"line_color\",\"line_alpha\",\"label\"],\"data\":{\"chart_index\":[{\"rendement\":\"Doelpoging\"}],\"color\":[\"#f22c40\"],\"fill_alpha\":[0.8],\"height\":[2.0],\"label\":[{\"rendement\":\"Doelpoging\"}],\"line_alpha\":[1.0],\"line_color\":[\"white\"],\"rendement\":[\"Doelpoging\"],\"width\":[0.8],\"x\":[\"Doelpoging\"],\"y\":[1.0]}},\"id\":\"2fd49d06-bfd0-4f7c-8b98-f56bf2d3556a\",\"type\":\"ColumnDataSource\"},{\"attributes\":{\"data_source\":{\"id\":\"c425671f-f787-482c-a38a-345b032245da\",\"type\":\"ColumnDataSource\"},\"glyph\":{\"id\":\"1a282b0d-17e5-40b6-a755-cb8a94cbe134\",\"type\":\"Rect\"},\"hover_glyph\":null,\"nonselection_glyph\":null,\"selection_glyph\":null},\"id\":\"6a06825c-9a05-4ad1-9d83-3e277533cdc6\",\"type\":\"GlyphRenderer\"},{\"attributes\":{\"callback\":null,\"column_names\":[\"x\",\"y\",\"width\",\"height\",\"color\",\"fill_alpha\",\"line_color\",\"line_alpha\",\"label\"],\"data\":{\"chart_index\":[{\"rendement\":\"Foul TEG\"}],\"color\":[\"#f22c40\"],\"fill_alpha\":[0.8],\"height\":[3.0],\"label\":[{\"rendement\":\"Foul TEG\"}],\"line_alpha\":[1.0],\"line_color\":[\"white\"],\"rendement\":[\"Foul TEG\"],\"width\":[0.8],\"x\":[\"Foul TEG\"],\"y\":[1.5]}},\"id\":\"7b338a2f-185c-4809-bd27-fdb582d9e387\",\"type\":\"ColumnDataSource\"},{\"attributes\":{\"data_source\":{\"id\":\"5da26a1b-6816-4cb1-80e6-f3a2fa28cefc\",\"type\":\"ColumnDataSource\"},\"glyph\":{\"id\":\"de892e08-ce47-43c8-8e1f-1ace6244086c\",\"type\":\"Rect\"},\"hover_glyph\":null,\"nonselection_glyph\":null,\"selection_glyph\":null},\"id\":\"f1f7585b-777f-4497-88f4-cf9a943e4cd6\",\"type\":\"GlyphRenderer\"},{\"attributes\":{\"label\":{\"value\":\"Voorzet\"},\"renderers\":[{\"id\":\"00c8f1a1-a249-41c0-86ff-d405b82ec553\",\"type\":\"GlyphRenderer\"}]},\"id\":\"ba563a0d-497f-4037-8782-13da4226e0cb\",\"type\":\"LegendItem\"},{\"attributes\":{\"data_source\":{\"id\":\"69d23ce4-f328-4d25-82d9-199486a5d500\",\"type\":\"ColumnDataSource\"},\"glyph\":{\"id\":\"a8655496-22d0-4055-b84f-fb52cb714f79\",\"type\":\"Rect\"},\"hover_glyph\":null,\"nonselection_glyph\":null,\"selection_glyph\":null},\"id\":\"5884f3cc-b733-4680-87b2-589ccbea04a9\",\"type\":\"GlyphRenderer\"},{\"attributes\":{\"callback\":null,\"column_names\":[\"x\",\"y\",\"width\",\"height\",\"color\",\"fill_alpha\",\"line_color\",\"line_alpha\",\"label\"],\"data\":{\"chart_index\":[{\"rendement\":\"Voorzet\"}],\"color\":[\"#f22c40\"],\"fill_alpha\":[0.8],\"height\":[4.0],\"label\":[{\"rendement\":\"Voorzet\"}],\"line_alpha\":[1.0],\"line_color\":[\"white\"],\"rendement\":[\"Voorzet\"],\"width\":[0.8],\"x\":[\"Voorzet\"],\"y\":[2.0]}},\"id\":\"9462a9dc-fed0-4c59-b35c-58b46d4051dd\",\"type\":\"ColumnDataSource\"},{\"attributes\":{\"data_source\":{\"id\":\"2fd49d06-bfd0-4f7c-8b98-f56bf2d3556a\",\"type\":\"ColumnDataSource\"},\"glyph\":{\"id\":\"cfeb30cb-f13a-4219-9462-92920bb043f3\",\"type\":\"Rect\"},\"hover_glyph\":null,\"nonselection_glyph\":null,\"selection_glyph\":null},\"id\":\"d28858af-5f83-4e83-8d02-7fa4696cc7b3\",\"type\":\"GlyphRenderer\"},{\"attributes\":{\"fill_alpha\":{\"field\":\"fill_alpha\"},\"fill_color\":{\"field\":\"color\"},\"height\":{\"field\":\"height\",\"units\":\"data\"},\"line_color\":{\"field\":\"line_color\"},\"width\":{\"field\":\"width\",\"units\":\"data\"},\"x\":{\"field\":\"x\"},\"y\":{\"field\":\"y\"}},\"id\":\"0592c191-748a-4fb6-9656-afacea70803d\",\"type\":\"Rect\"},{\"attributes\":{\"callback\":null,\"column_names\":[\"x\",\"y\",\"width\",\"height\",\"color\",\"fill_alpha\",\"line_color\",\"line_alpha\",\"label\"],\"data\":{\"chart_index\":[{\"rendement\":\"BOP\"}],\"color\":[\"#f22c40\"],\"fill_alpha\":[0.8],\"height\":[5.0],\"label\":[{\"rendement\":\"BOP\"}],\"line_alpha\":[1.0],\"line_color\":[\"white\"],\"rendement\":[\"BOP\"],\"width\":[0.8],\"x\":[\"BOP\"],\"y\":[2.5]}},\"id\":\"a97c3ff2-a18c-4ed4-9e82-69b55e690626\",\"type\":\"ColumnDataSource\"},{\"attributes\":{\"callback\":null,\"factors\":[\"BOP\",\"Balverlies\",\"Corner\",\"Doelpoging\",\"Foul NEC\",\"Foul TEG\",\"Voorzet\"]},\"id\":\"83dca62f-826e-4061-88a1-777fe532a4d8\",\"type\":\"FactorRange\"},{\"attributes\":{\"callback\":null,\"column_names\":[\"x\",\"y\",\"width\",\"height\",\"color\",\"fill_alpha\",\"line_color\",\"line_alpha\",\"label\"],\"data\":{\"chart_index\":[{\"rendement\":\"Foul TEG\"}],\"color\":[\"#f22c40\"],\"fill_alpha\":[0.8],\"height\":[4.0],\"label\":[{\"rendement\":\"Foul TEG\"}],\"line_alpha\":[1.0],\"line_color\":[\"white\"],\"rendement\":[\"Foul TEG\"],\"width\":[0.8],\"x\":[\"Foul TEG\"],\"y\":[2.0]}},\"id\":\"c425671f-f787-482c-a38a-345b032245da\",\"type\":\"ColumnDataSource\"},{\"attributes\":{\"data_source\":{\"id\":\"6e0e8b1d-64aa-4b05-bfa1-aa034d99a871\",\"type\":\"ColumnDataSource\"},\"glyph\":{\"id\":\"0592c191-748a-4fb6-9656-afacea70803d\",\"type\":\"Rect\"},\"hover_glyph\":null,\"nonselection_glyph\":null,\"selection_glyph\":null},\"id\":\"33513f62-d88d-46be-b084-16bd83023cf9\",\"type\":\"GlyphRenderer\"},{\"attributes\":{\"callback\":null,\"column_names\":[\"x\",\"y\",\"width\",\"height\",\"color\",\"fill_alpha\",\"line_color\",\"line_alpha\",\"label\"],\"data\":{\"chart_index\":[{\"rendement\":\"Foul TEG\"}],\"color\":[\"#f22c40\"],\"fill_alpha\":[0.8],\"height\":[4.0],\"label\":[{\"rendement\":\"Foul TEG\"}],\"line_alpha\":[1.0],\"line_color\":[\"white\"],\"rendement\":[\"Foul TEG\"],\"width\":[0.8],\"x\":[\"Foul TEG\"],\"y\":[2.0]}},\"id\":\"6e0e8b1d-64aa-4b05-bfa1-aa034d99a871\",\"type\":\"ColumnDataSource\"},{\"attributes\":{\"axis_label\":\"Rendement\",\"formatter\":{\"id\":\"676c2873-a3be-4baf-8d4f-f98b4418dc4f\",\"type\":\"CategoricalTickFormatter\"},\"major_label_orientation\":0.7853981633974483,\"plot\":{\"id\":\"02b40969-870e-4f6c-b227-8e96505890dc\",\"subtype\":\"Chart\",\"type\":\"Plot\"},\"ticker\":{\"id\":\"babe6994-0c7b-410c-ab64-6c23f04134f7\",\"type\":\"CategoricalTicker\"}},\"id\":\"f783ea30-ab26-458b-a626-5235dfa720b7\",\"type\":\"CategoricalAxis\"},{\"attributes\":{},\"id\":\"ad300fc9-6aac-4098-bd2f-798f4578dafa\",\"type\":\"BasicTickFormatter\"},{\"attributes\":{\"fill_alpha\":{\"field\":\"fill_alpha\"},\"fill_color\":{\"field\":\"color\"},\"height\":{\"field\":\"height\",\"units\":\"data\"},\"line_color\":{\"field\":\"line_color\"},\"width\":{\"field\":\"width\",\"units\":\"data\"},\"x\":{\"field\":\"x\"},\"y\":{\"field\":\"y\"}},\"id\":\"d714b178-7348-4fc9-8d13-44939a94b755\",\"type\":\"Rect\"},{\"attributes\":{\"data_source\":{\"id\":\"a97c3ff2-a18c-4ed4-9e82-69b55e690626\",\"type\":\"ColumnDataSource\"},\"glyph\":{\"id\":\"4ea94086-b0bd-405d-8122-be80d7f3c220\",\"type\":\"Rect\"},\"hover_glyph\":null,\"nonselection_glyph\":null,\"selection_glyph\":null},\"id\":\"89d83fa1-7519-4f24-9d4a-e7b44ee5440f\",\"type\":\"GlyphRenderer\"},{\"attributes\":{\"callback\":null,\"end\":24.15},\"id\":\"865379c1-7f16-4ab3-ac7e-5091b50b8650\",\"type\":\"Range1d\"},{\"attributes\":{\"axis_label\":\"Rendement\",\"formatter\":{\"id\":\"642ffaab-a21f-469e-83dc-942e4259b3c1\",\"type\":\"CategoricalTickFormatter\"},\"major_label_orientation\":0.7853981633974483,\"plot\":{\"id\":\"68d8f5c0-aa42-4c87-93e7-b234565ba8fd\",\"subtype\":\"Chart\",\"type\":\"Plot\"},\"ticker\":{\"id\":\"68a50aed-b9ac-4ec7-98cd-0c8ad699567c\",\"type\":\"CategoricalTicker\"}},\"id\":\"c5d10e73-c358-4caa-9764-df9b1b8fc6b8\",\"type\":\"CategoricalAxis\"},{\"attributes\":{\"items\":[{\"id\":\"338536b3-6fc6-46c4-9275-49cd765ae7e5\",\"type\":\"LegendItem\"},{\"id\":\"74ef0c7f-8e80-4f25-b9b8-8cff84b37cab\",\"type\":\"LegendItem\"},{\"id\":\"0e5af476-ce85-47b0-b0a1-4ba540c59b54\",\"type\":\"LegendItem\"},{\"id\":\"35511b81-5cb5-4f79-93d8-8ecfa2ba8222\",\"type\":\"LegendItem\"},{\"id\":\"4a84b582-68ae-4903-b2a5-4e756a3d11d3\",\"type\":\"LegendItem\"},{\"id\":\"b4853a95-79ed-48d9-971b-69d1556a7599\",\"type\":\"LegendItem\"}],\"location\":\"top_left\",\"plot\":{\"id\":\"02b40969-870e-4f6c-b227-8e96505890dc\",\"subtype\":\"Chart\",\"type\":\"Plot\"}},\"id\":\"9c61f5e6-4c4b-4ae4-9c10-1c15fe0a6f38\",\"type\":\"Legend\"},{\"attributes\":{\"data_source\":{\"id\":\"9462a9dc-fed0-4c59-b35c-58b46d4051dd\",\"type\":\"ColumnDataSource\"},\"glyph\":{\"id\":\"d714b178-7348-4fc9-8d13-44939a94b755\",\"type\":\"Rect\"},\"hover_glyph\":null,\"nonselection_glyph\":null,\"selection_glyph\":null},\"id\":\"00c8f1a1-a249-41c0-86ff-d405b82ec553\",\"type\":\"GlyphRenderer\"},{\"attributes\":{\"fill_alpha\":{\"field\":\"fill_alpha\"},\"fill_color\":{\"field\":\"color\"},\"height\":{\"field\":\"height\",\"units\":\"data\"},\"line_color\":{\"field\":\"line_color\"},\"width\":{\"field\":\"width\",\"units\":\"data\"},\"x\":{\"field\":\"x\"},\"y\":{\"field\":\"y\"}},\"id\":\"4ea94086-b0bd-405d-8122-be80d7f3c220\",\"type\":\"Rect\"},{\"attributes\":{\"fill_alpha\":{\"field\":\"fill_alpha\"},\"fill_color\":{\"field\":\"color\"},\"height\":{\"field\":\"height\",\"units\":\"data\"},\"line_color\":{\"field\":\"line_color\"},\"width\":{\"field\":\"width\",\"units\":\"data\"},\"x\":{\"field\":\"x\"},\"y\":{\"field\":\"y\"}},\"id\":\"a8655496-22d0-4055-b84f-fb52cb714f79\",\"type\":\"Rect\"},{\"attributes\":{\"callback\":null,\"column_names\":[\"x\",\"y\",\"width\",\"height\",\"color\",\"fill_alpha\",\"line_color\",\"line_alpha\",\"label\"],\"data\":{\"chart_index\":[{\"rendement\":\"Voorzet\"}],\"color\":[\"#f22c40\"],\"fill_alpha\":[0.8],\"height\":[2.0],\"label\":[{\"rendement\":\"Voorzet\"}],\"line_alpha\":[1.0],\"line_color\":[\"white\"],\"rendement\":[\"Voorzet\"],\"width\":[0.8],\"x\":[\"Voorzet\"],\"y\":[1.0]}},\"id\":\"67a314e9-fef0-4bdd-8ca3-fea96c1706af\",\"type\":\"ColumnDataSource\"},{\"attributes\":{},\"id\":\"8f05a003-974f-446e-89f9-ab28b3bab081\",\"type\":\"ToolEvents\"},{\"attributes\":{\"items\":[{\"id\":\"f7b3f503-ea23-4c1f-ae2d-00b393a09d0d\",\"type\":\"LegendItem\"},{\"id\":\"85533566-24a7-4cd4-95f5-46581dcb9c36\",\"type\":\"LegendItem\"},{\"id\":\"12946020-f19a-490c-8be2-191764a34239\",\"type\":\"LegendItem\"},{\"id\":\"b87b5fa7-4413-4c72-9483-e7fe855de0b5\",\"type\":\"LegendItem\"},{\"id\":\"894ecd3e-9696-4ed1-8a63-0a7f01f6d5ec\",\"type\":\"LegendItem\"},{\"id\":\"052a0549-5eb9-4e91-84b1-88e5ff5a0f9c\",\"type\":\"LegendItem\"}],\"location\":\"top_left\",\"plot\":{\"id\":\"2a9e3900-3f84-44da-bbe3-e2082f8082b4\",\"subtype\":\"Chart\",\"type\":\"Plot\"}},\"id\":\"35a6c619-a5c8-4a10-b126-2f7ce00e600f\",\"type\":\"Legend\"},{\"attributes\":{\"label\":{\"value\":\"Foul NEC\"},\"renderers\":[{\"id\":\"f1f7585b-777f-4497-88f4-cf9a943e4cd6\",\"type\":\"GlyphRenderer\"}]},\"id\":\"0e5af476-ce85-47b0-b0a1-4ba540c59b54\",\"type\":\"LegendItem\"},{\"attributes\":{\"fill_alpha\":{\"field\":\"fill_alpha\"},\"fill_color\":{\"field\":\"color\"},\"height\":{\"field\":\"height\",\"units\":\"data\"},\"line_color\":{\"field\":\"line_color\"},\"width\":{\"field\":\"width\",\"units\":\"data\"},\"x\":{\"field\":\"x\"},\"y\":{\"field\":\"y\"}},\"id\":\"d7a9b10f-6ea0-41fd-bad7-5249ef195ab3\",\"type\":\"Rect\"},{\"attributes\":{\"fill_alpha\":{\"field\":\"fill_alpha\"},\"fill_color\":{\"field\":\"color\"},\"height\":{\"field\":\"height\",\"units\":\"data\"},\"line_color\":{\"field\":\"line_color\"},\"width\":{\"field\":\"width\",\"units\":\"data\"},\"x\":{\"field\":\"x\"},\"y\":{\"field\":\"y\"}},\"id\":\"69d85a79-2439-49ad-bda5-3253a516912a\",\"type\":\"Rect\"},{\"attributes\":{\"callback\":null,\"column_names\":[\"x\",\"y\",\"width\",\"height\",\"color\",\"fill_alpha\",\"line_color\",\"line_alpha\",\"label\"],\"data\":{\"chart_index\":[{\"rendement\":\"Corner\"}],\"color\":[\"#f22c40\"],\"fill_alpha\":[0.8],\"height\":[2.0],\"label\":[{\"rendement\":\"Corner\"}],\"line_alpha\":[1.0],\"line_color\":[\"white\"],\"rendement\":[\"Corner\"],\"width\":[0.8],\"x\":[\"Corner\"],\"y\":[1.0]}},\"id\":\"15cfb35f-3717-4701-beea-90771c2c1292\",\"type\":\"ColumnDataSource\"},{\"attributes\":{},\"id\":\"6445485a-315f-4182-81d6-5d67a90baafa\",\"type\":\"ToolEvents\"},{\"attributes\":{\"label\":{\"value\":\"Balverlies\"},\"renderers\":[{\"id\":\"6bf49c92-c02f-434e-aa90-3fcb7ea0952f\",\"type\":\"GlyphRenderer\"}]},\"id\":\"496fb891-1eae-4c92-96a9-477105e69b65\",\"type\":\"LegendItem\"},{\"attributes\":{\"data_source\":{\"id\":\"15cfb35f-3717-4701-beea-90771c2c1292\",\"type\":\"ColumnDataSource\"},\"glyph\":{\"id\":\"69d85a79-2439-49ad-bda5-3253a516912a\",\"type\":\"Rect\"},\"hover_glyph\":null,\"nonselection_glyph\":null,\"selection_glyph\":null},\"id\":\"0b0f5c12-b78c-42bc-8db7-c765360c7ac3\",\"type\":\"GlyphRenderer\"},{\"attributes\":{\"callback\":null,\"column_names\":[\"x\",\"y\",\"width\",\"height\",\"color\",\"fill_alpha\",\"line_color\",\"line_alpha\",\"label\"],\"data\":{\"chart_index\":[{\"rendement\":\"Doelpoging\"}],\"color\":[\"#f22c40\"],\"fill_alpha\":[0.8],\"height\":[1.0],\"label\":[{\"rendement\":\"Doelpoging\"}],\"line_alpha\":[1.0],\"line_color\":[\"white\"],\"rendement\":[\"Doelpoging\"],\"width\":[0.8],\"x\":[\"Doelpoging\"],\"y\":[0.5]}},\"id\":\"23ee8114-521c-4843-96ca-f8caddc74f9b\",\"type\":\"ColumnDataSource\"},{\"attributes\":{\"fill_alpha\":{\"field\":\"fill_alpha\"},\"fill_color\":{\"field\":\"color\"},\"height\":{\"field\":\"height\",\"units\":\"data\"},\"line_color\":{\"field\":\"line_color\"},\"width\":{\"field\":\"width\",\"units\":\"data\"},\"x\":{\"field\":\"x\"},\"y\":{\"field\":\"y\"}},\"id\":\"90f46b12-0efc-400f-a69d-ecfa54d4eef3\",\"type\":\"Rect\"},{\"attributes\":{\"label\":{\"value\":\"Foul TEG\"},\"renderers\":[{\"id\":\"1c164daf-e730-4b83-9a3e-fdb4b5683d83\",\"type\":\"GlyphRenderer\"}]},\"id\":\"e431698a-a3ca-4185-a1e0-0bc84addb9db\",\"type\":\"LegendItem\"},{\"attributes\":{\"below\":[{\"id\":\"f783ea30-ab26-458b-a626-5235dfa720b7\",\"type\":\"CategoricalAxis\"}],\"css_classes\":null,\"left\":[{\"id\":\"46198795-9780-4f21-99dd-37a3f0d8e3ca\",\"type\":\"LinearAxis\"}],\"renderers\":[{\"id\":\"c6e9beb8-728d-4a74-b04f-39023077cca6\",\"type\":\"BoxAnnotation\"},{\"id\":\"e13b0a39-5a01-4d09-8544-52e69b55b60d\",\"type\":\"GlyphRenderer\"},{\"id\":\"afaa01e2-efca-45f4-a0a9-140850b12d62\",\"type\":\"GlyphRenderer\"},{\"id\":\"f1f7585b-777f-4497-88f4-cf9a943e4cd6\",\"type\":\"GlyphRenderer\"},{\"id\":\"0f58b10c-d5df-406d-94b4-cd8dd202451e\",\"type\":\"GlyphRenderer\"},{\"id\":\"6a06825c-9a05-4ad1-9d83-3e277533cdc6\",\"type\":\"GlyphRenderer\"},{\"id\":\"f67a539b-538c-468a-89a5-3c7839604312\",\"type\":\"GlyphRenderer\"},{\"id\":\"9c61f5e6-4c4b-4ae4-9c10-1c15fe0a6f38\",\"type\":\"Legend\"},{\"id\":\"f783ea30-ab26-458b-a626-5235dfa720b7\",\"type\":\"CategoricalAxis\"},{\"id\":\"46198795-9780-4f21-99dd-37a3f0d8e3ca\",\"type\":\"LinearAxis\"},{\"id\":\"1d4e6b76-5093-49f2-97a1-9c0bb42f97d1\",\"type\":\"Grid\"}],\"title\":{\"id\":\"adf55693-329a-487f-a136-8f9503d0b5b8\",\"type\":\"Title\"},\"tool_events\":{\"id\":\"8f05a003-974f-446e-89f9-ab28b3bab081\",\"type\":\"ToolEvents\"},\"toolbar\":{\"id\":\"3f989a01-2dc8-4a78-abc0-5143800a397d\",\"type\":\"Toolbar\"},\"x_mapper_type\":\"auto\",\"x_range\":{\"id\":\"eacce26d-e381-4018-9f19-b9f3880bcd30\",\"type\":\"FactorRange\"},\"y_mapper_type\":\"auto\",\"y_range\":{\"id\":\"865379c1-7f16-4ab3-ac7e-5091b50b8650\",\"type\":\"Range1d\"}},\"id\":\"02b40969-870e-4f6c-b227-8e96505890dc\",\"subtype\":\"Chart\",\"type\":\"Plot\"},{\"attributes\":{\"label\":{\"value\":\"BOP\"},\"renderers\":[{\"id\":\"bd83e642-adcd-466e-bcd3-d295e9bf4be1\",\"type\":\"GlyphRenderer\"}]},\"id\":\"85533566-24a7-4cd4-95f5-46581dcb9c36\",\"type\":\"LegendItem\"},{\"attributes\":{},\"id\":\"ab1abaa4-4e3a-4784-aac4-c459bbdf9cd7\",\"type\":\"CategoricalTickFormatter\"},{\"attributes\":{\"callback\":null,\"column_names\":[\"x\",\"y\",\"width\",\"height\",\"color\",\"fill_alpha\",\"line_color\",\"line_alpha\",\"label\"],\"data\":{\"chart_index\":[{\"rendement\":\"BOP\"}],\"color\":[\"#f22c40\"],\"fill_alpha\":[0.8],\"height\":[1.0],\"label\":[{\"rendement\":\"BOP\"}],\"line_alpha\":[1.0],\"line_color\":[\"white\"],\"rendement\":[\"BOP\"],\"width\":[0.8],\"x\":[\"BOP\"],\"y\":[0.5]}},\"id\":\"3add2728-4970-4ffd-9eda-5ceb7727950e\",\"type\":\"ColumnDataSource\"},{\"attributes\":{},\"id\":\"c8813674-d18d-4d5b-be40-215e37fcb636\",\"type\":\"ToolEvents\"},{\"attributes\":{\"items\":[{\"id\":\"496fb891-1eae-4c92-96a9-477105e69b65\",\"type\":\"LegendItem\"},{\"id\":\"7d5025d2-1493-4d89-ae0c-d43fbd830994\",\"type\":\"LegendItem\"},{\"id\":\"0fac67d5-19cf-44bd-a4e7-423779ae85d0\",\"type\":\"LegendItem\"},{\"id\":\"a93e736d-1d1b-42b5-828b-ef93d7c96ff8\",\"type\":\"LegendItem\"},{\"id\":\"514b3ffb-f8f1-4f68-afa8-67569bde0852\",\"type\":\"LegendItem\"},{\"id\":\"e431698a-a3ca-4185-a1e0-0bc84addb9db\",\"type\":\"LegendItem\"},{\"id\":\"eb684a03-3ec3-4162-984c-ae09d90730ee\",\"type\":\"LegendItem\"}],\"location\":\"top_left\",\"plot\":{\"id\":\"60c83f9b-12d6-4e63-8431-c3680185de43\",\"subtype\":\"Chart\",\"type\":\"Plot\"}},\"id\":\"a4fad824-fb2a-49a9-8b28-76d5bc7d577f\",\"type\":\"Legend\"},{\"attributes\":{\"fill_alpha\":{\"field\":\"fill_alpha\"},\"fill_color\":{\"field\":\"color\"},\"height\":{\"field\":\"height\",\"units\":\"data\"},\"line_color\":{\"field\":\"line_color\"},\"width\":{\"field\":\"width\",\"units\":\"data\"},\"x\":{\"field\":\"x\"},\"y\":{\"field\":\"y\"}},\"id\":\"f2957f4c-f7ce-496e-afaa-63dae99f4dea\",\"type\":\"Rect\"},{\"attributes\":{\"below\":[{\"id\":\"2b000295-bd9d-4f2f-a9b6-2346dcd70d79\",\"type\":\"CategoricalAxis\"}],\"css_classes\":null,\"left\":[{\"id\":\"d0810ba4-2d65-4e20-a1c5-462d2f892e8e\",\"type\":\"LinearAxis\"}],\"renderers\":[{\"id\":\"128b1f84-8dfd-486e-886f-73993997c702\",\"type\":\"BoxAnnotation\"},{\"id\":\"6bf49c92-c02f-434e-aa90-3fcb7ea0952f\",\"type\":\"GlyphRenderer\"},{\"id\":\"ce7b0892-0fb1-472c-ade1-dfaa55d256f5\",\"type\":\"GlyphRenderer\"},{\"id\":\"5c6047ba-69eb-4a29-8793-462976dab3a2\",\"type\":\"GlyphRenderer\"},{\"id\":\"471fdf18-3526-45a1-8b56-8aa0b67dbca1\",\"type\":\"GlyphRenderer\"},{\"id\":\"e1b450f8-f773-431c-814d-fefa9d16075c\",\"type\":\"GlyphRenderer\"},{\"id\":\"1c164daf-e730-4b83-9a3e-fdb4b5683d83\",\"type\":\"GlyphRenderer\"},{\"id\":\"20fd9da0-b695-4890-b47e-05b0ae0f5e11\",\"type\":\"GlyphRenderer\"},{\"id\":\"a4fad824-fb2a-49a9-8b28-76d5bc7d577f\",\"type\":\"Legend\"},{\"id\":\"2b000295-bd9d-4f2f-a9b6-2346dcd70d79\",\"type\":\"CategoricalAxis\"},{\"id\":\"d0810ba4-2d65-4e20-a1c5-462d2f892e8e\",\"type\":\"LinearAxis\"},{\"id\":\"aab77c7a-d0bb-4e03-a6d9-07e9380c02d8\",\"type\":\"Grid\"}],\"title\":{\"id\":\"153c467c-d795-4340-8d27-fb8d68259b57\",\"type\":\"Title\"},\"tool_events\":{\"id\":\"c8813674-d18d-4d5b-be40-215e37fcb636\",\"type\":\"ToolEvents\"},\"toolbar\":{\"id\":\"62664f27-fb9c-45d7-88ad-df855a769bd0\",\"type\":\"Toolbar\"},\"x_mapper_type\":\"auto\",\"x_range\":{\"id\":\"b55fd6ea-72a6-42bc-b771-3cd57bcc04dd\",\"type\":\"FactorRange\"},\"y_mapper_type\":\"auto\",\"y_range\":{\"id\":\"4cb7d888-4651-475d-939c-cc979bed28eb\",\"type\":\"Range1d\"}},\"id\":\"60c83f9b-12d6-4e63-8431-c3680185de43\",\"subtype\":\"Chart\",\"type\":\"Plot\"},{\"attributes\":{\"data_source\":{\"id\":\"67a314e9-fef0-4bdd-8ca3-fea96c1706af\",\"type\":\"ColumnDataSource\"},\"glyph\":{\"id\":\"8cf64f59-a911-48d5-9fab-c9b3901aba0d\",\"type\":\"Rect\"},\"hover_glyph\":null,\"nonselection_glyph\":null,\"selection_glyph\":null},\"id\":\"45912a41-6e59-4d8e-b2cf-1fec8c046c35\",\"type\":\"GlyphRenderer\"},{\"attributes\":{\"fill_alpha\":{\"field\":\"fill_alpha\"},\"fill_color\":{\"field\":\"color\"},\"height\":{\"field\":\"height\",\"units\":\"data\"},\"line_color\":{\"field\":\"line_color\"},\"width\":{\"field\":\"width\",\"units\":\"data\"},\"x\":{\"field\":\"x\"},\"y\":{\"field\":\"y\"}},\"id\":\"0b9a1258-6d42-40ff-99a7-b97a17e69f7d\",\"type\":\"Rect\"},{\"attributes\":{\"fill_alpha\":{\"field\":\"fill_alpha\"},\"fill_color\":{\"field\":\"color\"},\"height\":{\"field\":\"height\",\"units\":\"data\"},\"line_color\":{\"field\":\"line_color\"},\"width\":{\"field\":\"width\",\"units\":\"data\"},\"x\":{\"field\":\"x\"},\"y\":{\"field\":\"y\"}},\"id\":\"1a282b0d-17e5-40b6-a755-cb8a94cbe134\",\"type\":\"Rect\"},{\"attributes\":{\"data_source\":{\"id\":\"13b4e227-ead5-4076-ac96-3bfc31db477a\",\"type\":\"ColumnDataSource\"},\"glyph\":{\"id\":\"0b9a1258-6d42-40ff-99a7-b97a17e69f7d\",\"type\":\"Rect\"},\"hover_glyph\":null,\"nonselection_glyph\":null,\"selection_glyph\":null},\"id\":\"c90b0ea9-eb40-4653-aa4f-8cf0bcc2f4e9\",\"type\":\"GlyphRenderer\"},{\"attributes\":{\"callback\":null,\"end\":22.05},\"id\":\"4cb7d888-4651-475d-939c-cc979bed28eb\",\"type\":\"Range1d\"},{\"attributes\":{\"callback\":null,\"column_names\":[\"x\",\"y\",\"width\",\"height\",\"color\",\"fill_alpha\",\"line_color\",\"line_alpha\",\"label\"],\"data\":{\"chart_index\":[{\"rendement\":\"Doelpoging\"}],\"color\":[\"#f22c40\"],\"fill_alpha\":[0.8],\"height\":[1.0],\"label\":[{\"rendement\":\"Doelpoging\"}],\"line_alpha\":[1.0],\"line_color\":[\"white\"],\"rendement\":[\"Doelpoging\"],\"width\":[0.8],\"x\":[\"Doelpoging\"],\"y\":[0.5]}},\"id\":\"13b4e227-ead5-4076-ac96-3bfc31db477a\",\"type\":\"ColumnDataSource\"},{\"attributes\":{\"fill_alpha\":{\"field\":\"fill_alpha\"},\"fill_color\":{\"field\":\"color\"},\"height\":{\"field\":\"height\",\"units\":\"data\"},\"line_color\":{\"field\":\"line_color\"},\"width\":{\"field\":\"width\",\"units\":\"data\"},\"x\":{\"field\":\"x\"},\"y\":{\"field\":\"y\"}},\"id\":\"96a9dc6d-2180-4c14-8cd2-783fd4b4404e\",\"type\":\"Rect\"},{\"attributes\":{\"label\":{\"value\":\"Voorzet\"},\"renderers\":[{\"id\":\"e1b450f8-f773-431c-814d-fefa9d16075c\",\"type\":\"GlyphRenderer\"}]},\"id\":\"514b3ffb-f8f1-4f68-afa8-67569bde0852\",\"type\":\"LegendItem\"},{\"attributes\":{\"active_drag\":\"auto\",\"active_scroll\":\"auto\",\"active_tap\":\"auto\",\"tools\":[{\"id\":\"5b91dd45-6f1a-4564-9e30-4efe1547377e\",\"type\":\"PanTool\"},{\"id\":\"8856cce3-48fe-4809-8843-e8bb60f2775c\",\"type\":\"WheelZoomTool\"},{\"id\":\"726820ab-bd3f-4819-becb-f88aa88567e7\",\"type\":\"BoxZoomTool\"},{\"id\":\"661483cb-1a5c-46f3-b41d-b322b151a114\",\"type\":\"SaveTool\"},{\"id\":\"79ca5675-f2dd-4068-81ab-8f1ad6b1c6dc\",\"type\":\"ResetTool\"},{\"id\":\"7f2499ba-037c-4e22-9458-42721d74e2e2\",\"type\":\"HelpTool\"}]},\"id\":\"62664f27-fb9c-45d7-88ad-df855a769bd0\",\"type\":\"Toolbar\"},{\"attributes\":{\"bottom_units\":\"screen\",\"fill_alpha\":{\"value\":0.5},\"fill_color\":{\"value\":\"lightgrey\"},\"left_units\":\"screen\",\"level\":\"overlay\",\"line_alpha\":{\"value\":1.0},\"line_color\":{\"value\":\"black\"},\"line_dash\":[4,4],\"line_width\":{\"value\":2},\"plot\":null,\"render_mode\":\"css\",\"right_units\":\"screen\",\"top_units\":\"screen\"},\"id\":\"128b1f84-8dfd-486e-886f-73993997c702\",\"type\":\"BoxAnnotation\"},{\"attributes\":{\"label\":{\"value\":\"Corner\"},\"renderers\":[{\"id\":\"ce7b0892-0fb1-472c-ade1-dfaa55d256f5\",\"type\":\"GlyphRenderer\"}]},\"id\":\"7d5025d2-1493-4d89-ae0c-d43fbd830994\",\"type\":\"LegendItem\"},{\"attributes\":{\"plot\":null,\"text\":\"NEC - Roda JC\"},\"id\":\"153c467c-d795-4340-8d27-fb8d68259b57\",\"type\":\"Title\"},{\"attributes\":{\"label\":{\"value\":\"Foul TEG\"},\"renderers\":[{\"id\":\"6a06825c-9a05-4ad1-9d83-3e277533cdc6\",\"type\":\"GlyphRenderer\"}]},\"id\":\"4a84b582-68ae-4903-b2a5-4e756a3d11d3\",\"type\":\"LegendItem\"},{\"attributes\":{\"plot\":{\"id\":\"60c83f9b-12d6-4e63-8431-c3680185de43\",\"subtype\":\"Chart\",\"type\":\"Plot\"}},\"id\":\"5b91dd45-6f1a-4564-9e30-4efe1547377e\",\"type\":\"PanTool\"},{\"attributes\":{\"label\":{\"value\":\"Foul TEG\"},\"renderers\":[{\"id\":\"d73caf44-0ce9-4527-b8a5-a8cfac59a86c\",\"type\":\"GlyphRenderer\"}]},\"id\":\"f7b3f503-ea23-4c1f-ae2d-00b393a09d0d\",\"type\":\"LegendItem\"},{\"attributes\":{\"plot\":{\"id\":\"60c83f9b-12d6-4e63-8431-c3680185de43\",\"subtype\":\"Chart\",\"type\":\"Plot\"}},\"id\":\"8856cce3-48fe-4809-8843-e8bb60f2775c\",\"type\":\"WheelZoomTool\"},{\"attributes\":{\"overlay\":{\"id\":\"128b1f84-8dfd-486e-886f-73993997c702\",\"type\":\"BoxAnnotation\"},\"plot\":{\"id\":\"60c83f9b-12d6-4e63-8431-c3680185de43\",\"subtype\":\"Chart\",\"type\":\"Plot\"}},\"id\":\"726820ab-bd3f-4819-becb-f88aa88567e7\",\"type\":\"BoxZoomTool\"},{\"attributes\":{\"plot\":{\"id\":\"60c83f9b-12d6-4e63-8431-c3680185de43\",\"subtype\":\"Chart\",\"type\":\"Plot\"}},\"id\":\"661483cb-1a5c-46f3-b41d-b322b151a114\",\"type\":\"SaveTool\"},{\"attributes\":{\"plot\":{\"id\":\"60c83f9b-12d6-4e63-8431-c3680185de43\",\"subtype\":\"Chart\",\"type\":\"Plot\"}},\"id\":\"79ca5675-f2dd-4068-81ab-8f1ad6b1c6dc\",\"type\":\"ResetTool\"},{\"attributes\":{\"plot\":{\"id\":\"60c83f9b-12d6-4e63-8431-c3680185de43\",\"subtype\":\"Chart\",\"type\":\"Plot\"}},\"id\":\"7f2499ba-037c-4e22-9458-42721d74e2e2\",\"type\":\"HelpTool\"},{\"attributes\":{\"label\":{\"value\":\"Doelpoging\"},\"renderers\":[{\"id\":\"5c6047ba-69eb-4a29-8793-462976dab3a2\",\"type\":\"GlyphRenderer\"}]},\"id\":\"0fac67d5-19cf-44bd-a4e7-423779ae85d0\",\"type\":\"LegendItem\"},{\"attributes\":{\"label\":{\"value\":\"Foul NEC\"},\"renderers\":[{\"id\":\"471fdf18-3526-45a1-8b56-8aa0b67dbca1\",\"type\":\"GlyphRenderer\"}]},\"id\":\"a93e736d-1d1b-42b5-828b-ef93d7c96ff8\",\"type\":\"LegendItem\"},{\"attributes\":{\"callback\":null,\"column_names\":[\"x\",\"y\",\"width\",\"height\",\"color\",\"fill_alpha\",\"line_color\",\"line_alpha\",\"label\"],\"data\":{\"chart_index\":[{\"rendement\":\"Corner\"}],\"color\":[\"#f22c40\"],\"fill_alpha\":[0.8],\"height\":[1.0],\"label\":[{\"rendement\":\"Corner\"}],\"line_alpha\":[1.0],\"line_color\":[\"white\"],\"rendement\":[\"Corner\"],\"width\":[0.8],\"x\":[\"Corner\"],\"y\":[0.5]}},\"id\":\"61f0da24-9008-4e0d-818d-dc2b1884ff55\",\"type\":\"ColumnDataSource\"},{\"attributes\":{\"label\":{\"value\":\"BOP\"},\"renderers\":[{\"id\":\"f67a539b-538c-468a-89a5-3c7839604312\",\"type\":\"GlyphRenderer\"}]},\"id\":\"b4853a95-79ed-48d9-971b-69d1556a7599\",\"type\":\"LegendItem\"},{\"attributes\":{\"fill_alpha\":{\"field\":\"fill_alpha\"},\"fill_color\":{\"field\":\"color\"},\"height\":{\"field\":\"height\",\"units\":\"data\"},\"line_color\":{\"field\":\"line_color\"},\"width\":{\"field\":\"width\",\"units\":\"data\"},\"x\":{\"field\":\"x\"},\"y\":{\"field\":\"y\"}},\"id\":\"7a19b9dd-233d-4de0-9d24-0ad2b40ce2e9\",\"type\":\"Rect\"},{\"attributes\":{\"callback\":null,\"column_names\":[\"x\",\"y\",\"width\",\"height\",\"color\",\"fill_alpha\",\"line_color\",\"line_alpha\",\"label\"],\"data\":{\"chart_index\":[{\"rendement\":\"Balverlies\"}],\"color\":[\"#f22c40\"],\"fill_alpha\":[0.8],\"height\":[21.0],\"label\":[{\"rendement\":\"Balverlies\"}],\"line_alpha\":[1.0],\"line_color\":[\"white\"],\"rendement\":[\"Balverlies\"],\"width\":[0.8],\"x\":[\"Balverlies\"],\"y\":[10.5]}},\"id\":\"a4930afd-ff13-4137-8726-bc6def45e72c\",\"type\":\"ColumnDataSource\"},{\"attributes\":{\"callback\":null,\"column_names\":[\"x\",\"y\",\"width\",\"height\",\"color\",\"fill_alpha\",\"line_color\",\"line_alpha\",\"label\"],\"data\":{\"chart_index\":[{\"rendement\":\"Corner\"}],\"color\":[\"#f22c40\"],\"fill_alpha\":[0.8],\"height\":[1.0],\"label\":[{\"rendement\":\"Corner\"}],\"line_alpha\":[1.0],\"line_color\":[\"white\"],\"rendement\":[\"Corner\"],\"width\":[0.8],\"x\":[\"Corner\"],\"y\":[0.5]}},\"id\":\"62dbf509-6660-482c-b477-5d36abea3475\",\"type\":\"ColumnDataSource\"},{\"attributes\":{},\"id\":\"17ed90ce-f139-4142-8d88-f448d1e6cb42\",\"type\":\"CategoricalTicker\"}],\"root_ids\":[\"ff341ee2-95fa-489d-98eb-34522ec156df\"]},\"title\":\"Bokeh Application\",\"version\":\"0.12.4\"}};\n",
       "            var render_items = [{\"docid\":\"223cb832-61ee-4da4-b505-ffed82301379\",\"elementid\":\"c68d5d86-b74d-4b49-8446-572893c635bc\",\"modelid\":\"ff341ee2-95fa-489d-98eb-34522ec156df\"}];\n",
       "            \n",
       "            Bokeh.embed.embed_items(docs_json, render_items);\n",
       "          };\n",
       "          if (document.readyState != \"loading\") fn();\n",
       "          else document.addEventListener(\"DOMContentLoaded\", fn);\n",
       "        })();\n",
       "      },\n",
       "      function(Bokeh) {\n",
       "      }\n",
       "    ];\n",
       "  \n",
       "    function run_inline_js() {\n",
       "      \n",
       "      if ((window.Bokeh !== undefined) || (force === true)) {\n",
       "        for (var i = 0; i < inline_js.length; i++) {\n",
       "          inline_js[i](window.Bokeh);\n",
       "        }if (force === true) {\n",
       "          display_loaded();\n",
       "        }} else if (Date.now() < window._bokeh_timeout) {\n",
       "        setTimeout(run_inline_js, 100);\n",
       "      } else if (!window._bokeh_failed_load) {\n",
       "        console.log(\"Bokeh: BokehJS failed to load within specified timeout.\");\n",
       "        window._bokeh_failed_load = true;\n",
       "      } else if (force !== true) {\n",
       "        var cell = $(document.getElementById(\"c68d5d86-b74d-4b49-8446-572893c635bc\")).parents('.cell').data().cell;\n",
       "        cell.output_area.append_execute_result(NB_LOAD_WARNING)\n",
       "      }\n",
       "  \n",
       "    }\n",
       "  \n",
       "    if (window._bokeh_is_loading === 0) {\n",
       "      console.log(\"Bokeh: BokehJS loaded, going straight to plotting\");\n",
       "      run_inline_js();\n",
       "    } else {\n",
       "      load_libs(js_urls, function() {\n",
       "        console.log(\"Bokeh: BokehJS plotting callback run at\", now());\n",
       "        run_inline_js();\n",
       "      });\n",
       "    }\n",
       "  }(this));\n",
       "</script>"
      ]
     },
     "metadata": {},
     "output_type": "display_data"
    }
   ],
   "source": [
    "from bokeh.charts import Bar, show, output_notebook, Donut\n",
    "from bokeh.layouts import column\n",
    "from bokeh.palettes import Spectral10\n",
    "\n",
    "listy = []\n",
    "for i in Rendamento:\n",
    "    bor = Bar(i[\"plays\"], values='count', label='rendement', palette=Spectral10, title=i['match'])\n",
    "    listy.append(bor)\n",
    "output_notebook()\n",
    "show(column(listy))"
   ]
  },
  {
   "cell_type": "markdown",
   "metadata": {},
   "source": [
    "#### gemiddelt aantal keer gespeelt per speler per zone per wedstrijd:"
   ]
  },
  {
   "cell_type": "code",
   "execution_count": 62,
   "metadata": {
    "collapsed": false
   },
   "outputs": [
    {
     "data": {
      "text/html": [
       "\n",
       "\n",
       "    <div class=\"bk-root\">\n",
       "        <div class=\"bk-plotdiv\" id=\"3785109f-6684-418b-849e-66a5527e858d\"></div>\n",
       "    </div>\n",
       "<script type=\"text/javascript\">\n",
       "  \n",
       "  (function(global) {\n",
       "    function now() {\n",
       "      return new Date();\n",
       "    }\n",
       "  \n",
       "    var force = false;\n",
       "  \n",
       "    if (typeof (window._bokeh_onload_callbacks) === \"undefined\" || force === true) {\n",
       "      window._bokeh_onload_callbacks = [];\n",
       "      window._bokeh_is_loading = undefined;\n",
       "    }\n",
       "  \n",
       "  \n",
       "    \n",
       "    if (typeof (window._bokeh_timeout) === \"undefined\" || force === true) {\n",
       "      window._bokeh_timeout = Date.now() + 0;\n",
       "      window._bokeh_failed_load = false;\n",
       "    }\n",
       "  \n",
       "    var NB_LOAD_WARNING = {'data': {'text/html':\n",
       "       \"<div style='background-color: #fdd'>\\n\"+\n",
       "       \"<p>\\n\"+\n",
       "       \"BokehJS does not appear to have successfully loaded. If loading BokehJS from CDN, this \\n\"+\n",
       "       \"may be due to a slow or bad network connection. Possible fixes:\\n\"+\n",
       "       \"</p>\\n\"+\n",
       "       \"<ul>\\n\"+\n",
       "       \"<li>re-rerun `output_notebook()` to attempt to load from CDN again, or</li>\\n\"+\n",
       "       \"<li>use INLINE resources instead, as so:</li>\\n\"+\n",
       "       \"</ul>\\n\"+\n",
       "       \"<code>\\n\"+\n",
       "       \"from bokeh.resources import INLINE\\n\"+\n",
       "       \"output_notebook(resources=INLINE)\\n\"+\n",
       "       \"</code>\\n\"+\n",
       "       \"</div>\"}};\n",
       "  \n",
       "    function display_loaded() {\n",
       "      if (window.Bokeh !== undefined) {\n",
       "        document.getElementById(\"3785109f-6684-418b-849e-66a5527e858d\").textContent = \"BokehJS successfully loaded.\";\n",
       "      } else if (Date.now() < window._bokeh_timeout) {\n",
       "        setTimeout(display_loaded, 100)\n",
       "      }\n",
       "    }\n",
       "  \n",
       "    function run_callbacks() {\n",
       "      window._bokeh_onload_callbacks.forEach(function(callback) { callback() });\n",
       "      delete window._bokeh_onload_callbacks\n",
       "      console.info(\"Bokeh: all callbacks have finished\");\n",
       "    }\n",
       "  \n",
       "    function load_libs(js_urls, callback) {\n",
       "      window._bokeh_onload_callbacks.push(callback);\n",
       "      if (window._bokeh_is_loading > 0) {\n",
       "        console.log(\"Bokeh: BokehJS is being loaded, scheduling callback at\", now());\n",
       "        return null;\n",
       "      }\n",
       "      if (js_urls == null || js_urls.length === 0) {\n",
       "        run_callbacks();\n",
       "        return null;\n",
       "      }\n",
       "      console.log(\"Bokeh: BokehJS not loaded, scheduling load and callback at\", now());\n",
       "      window._bokeh_is_loading = js_urls.length;\n",
       "      for (var i = 0; i < js_urls.length; i++) {\n",
       "        var url = js_urls[i];\n",
       "        var s = document.createElement('script');\n",
       "        s.src = url;\n",
       "        s.async = false;\n",
       "        s.onreadystatechange = s.onload = function() {\n",
       "          window._bokeh_is_loading--;\n",
       "          if (window._bokeh_is_loading === 0) {\n",
       "            console.log(\"Bokeh: all BokehJS libraries loaded\");\n",
       "            run_callbacks()\n",
       "          }\n",
       "        };\n",
       "        s.onerror = function() {\n",
       "          console.warn(\"failed to load library \" + url);\n",
       "        };\n",
       "        console.log(\"Bokeh: injecting script tag for BokehJS library: \", url);\n",
       "        document.getElementsByTagName(\"head\")[0].appendChild(s);\n",
       "      }\n",
       "    };var element = document.getElementById(\"3785109f-6684-418b-849e-66a5527e858d\");\n",
       "    if (element == null) {\n",
       "      console.log(\"Bokeh: ERROR: autoload.js configured with elementid '3785109f-6684-418b-849e-66a5527e858d' but no matching script tag was found. \")\n",
       "      return false;\n",
       "    }\n",
       "  \n",
       "    var js_urls = [];\n",
       "  \n",
       "    var inline_js = [\n",
       "      function(Bokeh) {\n",
       "        (function() {\n",
       "          var fn = function() {\n",
       "            var docs_json = {\"395dbe85-6f9d-4a05-a022-bcdb539e3ce5\":{\"roots\":{\"references\":[{\"attributes\":{\"dimension\":1,\"plot\":{\"id\":\"d21712ed-1c1d-4899-9046-99481edfb065\",\"subtype\":\"Chart\",\"type\":\"Plot\"},\"ticker\":{\"id\":\"36a49142-eaa8-4475-b2db-ba51861366f2\",\"type\":\"BasicTicker\"}},\"id\":\"5679a588-fe96-4558-a218-337222e2ac05\",\"type\":\"Grid\"},{\"attributes\":{\"axis_label\":\"Mean( Count )\",\"formatter\":{\"id\":\"5cfaa7dc-173d-47ab-bbee-44770da9d7d3\",\"type\":\"BasicTickFormatter\"},\"plot\":{\"id\":\"d21712ed-1c1d-4899-9046-99481edfb065\",\"subtype\":\"Chart\",\"type\":\"Plot\"},\"ticker\":{\"id\":\"36a49142-eaa8-4475-b2db-ba51861366f2\",\"type\":\"BasicTicker\"}},\"id\":\"0c59b779-78a6-4f94-b12e-761a04cbc501\",\"type\":\"LinearAxis\"},{\"attributes\":{\"data_source\":{\"id\":\"d020649b-7928-4734-8a96-7d4dce3221b0\",\"type\":\"ColumnDataSource\"},\"glyph\":{\"id\":\"7824d11d-4b01-41fb-a1f3-2bc1e7c20dab\",\"type\":\"Rect\"},\"hover_glyph\":null,\"nonselection_glyph\":null,\"selection_glyph\":null},\"id\":\"d3320bb3-deb3-4899-bc85-ed14b03b7f33\",\"type\":\"GlyphRenderer\"},{\"attributes\":{\"fill_alpha\":{\"field\":\"fill_alpha\"},\"fill_color\":{\"field\":\"color\"},\"height\":{\"field\":\"height\",\"units\":\"data\"},\"line_color\":{\"field\":\"line_color\"},\"width\":{\"field\":\"width\",\"units\":\"data\"},\"x\":{\"field\":\"x\"},\"y\":{\"field\":\"y\"}},\"id\":\"be6144fd-661e-4603-a70a-b49491f4ff33\",\"type\":\"Rect\"},{\"attributes\":{\"fill_alpha\":{\"field\":\"fill_alpha\"},\"fill_color\":{\"field\":\"color\"},\"height\":{\"field\":\"height\",\"units\":\"data\"},\"line_color\":{\"field\":\"line_color\"},\"width\":{\"field\":\"width\",\"units\":\"data\"},\"x\":{\"field\":\"x\"},\"y\":{\"field\":\"y\"}},\"id\":\"77aa2117-1a1d-4ad9-a31d-aaae6d417d34\",\"type\":\"Rect\"},{\"attributes\":{\"below\":[{\"id\":\"88caabe8-5f13-4efa-9205-36f7611e9a1f\",\"type\":\"CategoricalAxis\"}],\"css_classes\":null,\"left\":[{\"id\":\"0c59b779-78a6-4f94-b12e-761a04cbc501\",\"type\":\"LinearAxis\"}],\"renderers\":[{\"id\":\"680e0a24-ea6a-473b-bb86-3e1e9820a3c1\",\"type\":\"BoxAnnotation\"},{\"id\":\"6a2c9b06-bfe7-4ecb-af99-4f173f248d27\",\"type\":\"GlyphRenderer\"},{\"id\":\"2bf0b904-af48-4f25-b53d-7ce9f2da4d2c\",\"type\":\"GlyphRenderer\"},{\"id\":\"09ffb211-a10a-4fe4-a55b-ff995a62a062\",\"type\":\"GlyphRenderer\"},{\"id\":\"12b1906b-8ddd-4bc7-a2bb-8472429af1d9\",\"type\":\"GlyphRenderer\"},{\"id\":\"35ca29d6-ae80-4934-95dd-7c27185ca722\",\"type\":\"GlyphRenderer\"},{\"id\":\"393b0da0-68f1-416f-b695-b18487c5d7c7\",\"type\":\"GlyphRenderer\"},{\"id\":\"f5d3c3e5-a558-4499-b43d-d35c6fefd464\",\"type\":\"GlyphRenderer\"},{\"id\":\"6281d6a3-895e-4db7-906a-32bab6417961\",\"type\":\"GlyphRenderer\"},{\"id\":\"4d763f58-8bca-4455-96cf-b7cb93ee6f24\",\"type\":\"GlyphRenderer\"},{\"id\":\"d3320bb3-deb3-4899-bc85-ed14b03b7f33\",\"type\":\"GlyphRenderer\"},{\"id\":\"a9d8e319-7dfd-4125-afe5-39cdd03132f5\",\"type\":\"GlyphRenderer\"},{\"id\":\"1ace74dc-ac72-4e51-be8c-c52736583558\",\"type\":\"GlyphRenderer\"},{\"id\":\"a12e9bac-60db-4686-9057-db1c95a47812\",\"type\":\"Legend\"},{\"id\":\"88caabe8-5f13-4efa-9205-36f7611e9a1f\",\"type\":\"CategoricalAxis\"},{\"id\":\"0c59b779-78a6-4f94-b12e-761a04cbc501\",\"type\":\"LinearAxis\"},{\"id\":\"5679a588-fe96-4558-a218-337222e2ac05\",\"type\":\"Grid\"}],\"title\":{\"id\":\"2cc3b556-6de4-4995-9793-a0b211cc8a00\",\"type\":\"Title\"},\"tool_events\":{\"id\":\"ccc8b726-def7-404b-84d8-36fda09aae5e\",\"type\":\"ToolEvents\"},\"toolbar\":{\"id\":\"61da249b-ffd0-4f1c-9c79-7125da645c4a\",\"type\":\"Toolbar\"},\"x_mapper_type\":\"auto\",\"x_range\":{\"id\":\"4e611181-a4a6-4f2e-9d4e-54a10658d834\",\"type\":\"FactorRange\"},\"y_mapper_type\":\"auto\",\"y_range\":{\"id\":\"ad948853-7f47-4dd7-8278-e147d12864b7\",\"type\":\"Range1d\"}},\"id\":\"d21712ed-1c1d-4899-9046-99481edfb065\",\"subtype\":\"Chart\",\"type\":\"Plot\"},{\"attributes\":{\"data_source\":{\"id\":\"85286430-c455-420a-ba2a-0dc921a26eec\",\"type\":\"ColumnDataSource\"},\"glyph\":{\"id\":\"be6144fd-661e-4603-a70a-b49491f4ff33\",\"type\":\"Rect\"},\"hover_glyph\":null,\"nonselection_glyph\":null,\"selection_glyph\":null},\"id\":\"a9d8e319-7dfd-4125-afe5-39cdd03132f5\",\"type\":\"GlyphRenderer\"},{\"attributes\":{\"fill_alpha\":{\"field\":\"fill_alpha\"},\"fill_color\":{\"field\":\"color\"},\"height\":{\"field\":\"height\",\"units\":\"data\"},\"line_color\":{\"field\":\"line_color\"},\"width\":{\"field\":\"width\",\"units\":\"data\"},\"x\":{\"field\":\"x\"},\"y\":{\"field\":\"y\"}},\"id\":\"3de3ab1f-4259-406c-ac60-35f2916e4b97\",\"type\":\"Rect\"},{\"attributes\":{\"callback\":null,\"column_names\":[\"x\",\"y\",\"width\",\"height\",\"color\",\"fill_alpha\",\"line_color\",\"line_alpha\",\"label\"],\"data\":{\"chart_index\":[{\"group\":\"M\",\"zone\":\"M1\"}],\"color\":[\"#5ab738\"],\"fill_alpha\":[0.8],\"group\":[\"M\"],\"height\":[2.0],\"label\":[{\"group\":\"M\",\"zone\":\"M1\"}],\"line_alpha\":[1.0],\"line_color\":[\"white\"],\"width\":[0.2],\"x\":[\"M1:0.25\"],\"y\":[1.0],\"zone\":[\"M1\"]}},\"id\":\"d020649b-7928-4734-8a96-7d4dce3221b0\",\"type\":\"ColumnDataSource\"},{\"attributes\":{\"callback\":null,\"column_names\":[\"x\",\"y\",\"width\",\"height\",\"color\",\"fill_alpha\",\"line_color\",\"line_alpha\",\"label\"],\"data\":{\"chart_index\":[{\"group\":\"R\",\"zone\":\"R1\"}],\"color\":[\"#407ee7\"],\"fill_alpha\":[0.8],\"group\":[\"R\"],\"height\":[1.0],\"label\":[{\"group\":\"R\",\"zone\":\"R1\"}],\"line_alpha\":[1.0],\"line_color\":[\"white\"],\"width\":[0.2],\"x\":[\"R1:0.5\"],\"y\":[0.5],\"zone\":[\"R1\"]}},\"id\":\"d811a168-419e-4ee7-8f6a-2af52daef6ca\",\"type\":\"ColumnDataSource\"},{\"attributes\":{\"callback\":null,\"column_names\":[\"x\",\"y\",\"width\",\"height\",\"color\",\"fill_alpha\",\"line_color\",\"line_alpha\",\"label\"],\"data\":{\"chart_index\":[{\"group\":\"R\",\"zone\":\"R3\"}],\"color\":[\"#407ee7\"],\"fill_alpha\":[0.8],\"group\":[\"R\"],\"height\":[2.25],\"label\":[{\"group\":\"R\",\"zone\":\"R3\"}],\"line_alpha\":[1.0],\"line_color\":[\"white\"],\"width\":[0.2],\"x\":[\"R3:0.5\"],\"y\":[1.125],\"zone\":[\"R3\"]}},\"id\":\"4e7543f8-660e-4f6e-b481-1be28bff6b7b\",\"type\":\"ColumnDataSource\"},{\"attributes\":{\"data_source\":{\"id\":\"d811a168-419e-4ee7-8f6a-2af52daef6ca\",\"type\":\"ColumnDataSource\"},\"glyph\":{\"id\":\"3de3ab1f-4259-406c-ac60-35f2916e4b97\",\"type\":\"Rect\"},\"hover_glyph\":null,\"nonselection_glyph\":null,\"selection_glyph\":null},\"id\":\"1ace74dc-ac72-4e51-be8c-c52736583558\",\"type\":\"GlyphRenderer\"},{\"attributes\":{\"callback\":null,\"column_names\":[\"x\",\"y\",\"width\",\"height\",\"color\",\"fill_alpha\",\"line_color\",\"line_alpha\",\"label\"],\"data\":{\"chart_index\":[{\"group\":\"M\",\"zone\":\"M4\"}],\"color\":[\"#5ab738\"],\"fill_alpha\":[0.8],\"group\":[\"M\"],\"height\":[1.0],\"label\":[{\"group\":\"M\",\"zone\":\"M4\"}],\"line_alpha\":[1.0],\"line_color\":[\"white\"],\"width\":[0.2],\"x\":[\"M4:0.25\"],\"y\":[0.5],\"zone\":[\"M4\"]}},\"id\":\"85286430-c455-420a-ba2a-0dc921a26eec\",\"type\":\"ColumnDataSource\"},{\"attributes\":{\"callback\":null,\"column_names\":[\"x\",\"y\",\"width\",\"height\",\"color\",\"fill_alpha\",\"line_color\",\"line_alpha\",\"label\"],\"data\":{\"chart_index\":[{\"group\":\"R\",\"zone\":\"R4\"}],\"color\":[\"#407ee7\"],\"fill_alpha\":[0.8],\"group\":[\"R\"],\"height\":[1.0],\"label\":[{\"group\":\"R\",\"zone\":\"R4\"}],\"line_alpha\":[1.0],\"line_color\":[\"white\"],\"width\":[0.2],\"x\":[\"R4:0.5\"],\"y\":[0.5],\"zone\":[\"R4\"]}},\"id\":\"472ca483-533b-41af-af41-28e68dd6f14a\",\"type\":\"ColumnDataSource\"},{\"attributes\":{},\"id\":\"36a49142-eaa8-4475-b2db-ba51861366f2\",\"type\":\"BasicTicker\"},{\"attributes\":{\"callback\":null,\"column_names\":[\"x\",\"y\",\"width\",\"height\",\"color\",\"fill_alpha\",\"line_color\",\"line_alpha\",\"label\"],\"data\":{\"chart_index\":[{\"group\":\"R\",\"zone\":\"R2\"}],\"color\":[\"#407ee7\"],\"fill_alpha\":[0.8],\"group\":[\"R\"],\"height\":[3.0],\"label\":[{\"group\":\"R\",\"zone\":\"R2\"}],\"line_alpha\":[1.0],\"line_color\":[\"white\"],\"width\":[0.2],\"x\":[\"R2:0.5\"],\"y\":[1.5],\"zone\":[\"R2\"]}},\"id\":\"b951fecc-6e52-4564-8d5b-d014ed74d87c\",\"type\":\"ColumnDataSource\"},{\"attributes\":{\"items\":[{\"id\":\"9df402c9-02f3-47fa-9d02-b473bc0dd964\",\"type\":\"LegendItem\"},{\"id\":\"3e0f5c2a-ab1c-4b45-84ba-86a391b9eb7f\",\"type\":\"LegendItem\"},{\"id\":\"50d500a2-7c95-4928-8818-60518a9ed701\",\"type\":\"LegendItem\"}],\"location\":\"top_left\",\"plot\":{\"id\":\"d21712ed-1c1d-4899-9046-99481edfb065\",\"subtype\":\"Chart\",\"type\":\"Plot\"}},\"id\":\"a12e9bac-60db-4686-9057-db1c95a47812\",\"type\":\"Legend\"},{\"attributes\":{\"callback\":null,\"column_names\":[\"x\",\"y\",\"width\",\"height\",\"color\",\"fill_alpha\",\"line_color\",\"line_alpha\",\"label\"],\"data\":{\"chart_index\":[{\"group\":\"L\",\"zone\":\"L2\"}],\"color\":[\"#f22c40\"],\"fill_alpha\":[0.8],\"group\":[\"L\"],\"height\":[4.8],\"label\":[{\"group\":\"L\",\"zone\":\"L2\"}],\"line_alpha\":[1.0],\"line_color\":[\"white\"],\"width\":[0.2],\"x\":[\"L2:0.75\"],\"y\":[2.4],\"zone\":[\"L2\"]}},\"id\":\"76a9f942-aaf3-42bb-9201-e7896a083a7a\",\"type\":\"ColumnDataSource\"},{\"attributes\":{\"axis_label\":\"Zone\",\"formatter\":{\"id\":\"15bd2d3c-eded-4920-bfbe-e55ef0a983b2\",\"type\":\"CategoricalTickFormatter\"},\"major_label_orientation\":0.7853981633974483,\"plot\":{\"id\":\"d21712ed-1c1d-4899-9046-99481edfb065\",\"subtype\":\"Chart\",\"type\":\"Plot\"},\"ticker\":{\"id\":\"4d4b1197-5ff4-4836-b6e6-54e41f77dfac\",\"type\":\"CategoricalTicker\"}},\"id\":\"88caabe8-5f13-4efa-9205-36f7611e9a1f\",\"type\":\"CategoricalAxis\"},{\"attributes\":{\"callback\":null,\"end\":5.425000000000001},\"id\":\"1a0dd59f-857c-44e1-9951-14b3d5623dd5\",\"type\":\"Range1d\"},{\"attributes\":{\"fill_alpha\":{\"field\":\"fill_alpha\"},\"fill_color\":{\"field\":\"color\"},\"height\":{\"field\":\"height\",\"units\":\"data\"},\"line_color\":{\"field\":\"line_color\"},\"width\":{\"field\":\"width\",\"units\":\"data\"},\"x\":{\"field\":\"x\"},\"y\":{\"field\":\"y\"}},\"id\":\"a37a726e-dcd4-46f7-b042-940187aa64b4\",\"type\":\"Rect\"},{\"attributes\":{\"callback\":null,\"column_names\":[\"x\",\"y\",\"width\",\"height\",\"color\",\"fill_alpha\",\"line_color\",\"line_alpha\",\"label\"],\"data\":{\"chart_index\":[{\"group\":\"M\",\"zone\":\"M2\"}],\"color\":[\"#5ab738\"],\"fill_alpha\":[0.8],\"group\":[\"M\"],\"height\":[8.4],\"label\":[{\"group\":\"M\",\"zone\":\"M2\"}],\"line_alpha\":[1.0],\"line_color\":[\"white\"],\"width\":[0.2],\"x\":[\"M2:0.25\"],\"y\":[4.2],\"zone\":[\"M2\"]}},\"id\":\"13da0dbf-afd6-48ac-86b2-43d70d78483b\",\"type\":\"ColumnDataSource\"},{\"attributes\":{\"callback\":null,\"factors\":[\"L1\",\"L2\",\"L3\",\"L4\",\"M1\",\"M2\",\"M3\",\"M4\",\"R1\",\"R2\",\"R3\",\"R4\"]},\"id\":\"93fa20e2-ff29-4c45-a202-a69f0214d4e1\",\"type\":\"FactorRange\"},{\"attributes\":{\"data_source\":{\"id\":\"7a0b2118-d8d1-4478-8069-b7d06ebad520\",\"type\":\"ColumnDataSource\"},\"glyph\":{\"id\":\"b4011c30-4c85-4000-a39d-8812aac51126\",\"type\":\"Rect\"},\"hover_glyph\":null,\"nonselection_glyph\":null,\"selection_glyph\":null},\"id\":\"e76345f3-cc6d-4e2c-8ea1-dfd6709f0a62\",\"type\":\"GlyphRenderer\"},{\"attributes\":{},\"id\":\"6ca58dbe-6f3c-47da-935e-c4997361bc6b\",\"type\":\"ToolEvents\"},{\"attributes\":{},\"id\":\"ccc8b726-def7-404b-84d8-36fda09aae5e\",\"type\":\"ToolEvents\"},{\"attributes\":{\"fill_alpha\":{\"field\":\"fill_alpha\"},\"fill_color\":{\"field\":\"color\"},\"height\":{\"field\":\"height\",\"units\":\"data\"},\"line_color\":{\"field\":\"line_color\"},\"width\":{\"field\":\"width\",\"units\":\"data\"},\"x\":{\"field\":\"x\"},\"y\":{\"field\":\"y\"}},\"id\":\"e4ee5c7c-86ec-46f5-bfa2-2ce0b4f035b6\",\"type\":\"Rect\"},{\"attributes\":{\"fill_alpha\":{\"field\":\"fill_alpha\"},\"fill_color\":{\"field\":\"color\"},\"height\":{\"field\":\"height\",\"units\":\"data\"},\"line_color\":{\"field\":\"line_color\"},\"width\":{\"field\":\"width\",\"units\":\"data\"},\"x\":{\"field\":\"x\"},\"y\":{\"field\":\"y\"}},\"id\":\"b4011c30-4c85-4000-a39d-8812aac51126\",\"type\":\"Rect\"},{\"attributes\":{\"below\":[{\"id\":\"4857b818-9a3f-491e-8661-d6ebde9c7836\",\"type\":\"CategoricalAxis\"}],\"css_classes\":null,\"left\":[{\"id\":\"08a811cf-af94-49ab-a4d1-1a1795251dde\",\"type\":\"LinearAxis\"}],\"renderers\":[{\"id\":\"4560db9f-4d8e-47bc-bd33-9d44a7777a7c\",\"type\":\"BoxAnnotation\"},{\"id\":\"e76345f3-cc6d-4e2c-8ea1-dfd6709f0a62\",\"type\":\"GlyphRenderer\"},{\"id\":\"f6c1122b-653a-46db-98bc-9f0ad83116dc\",\"type\":\"GlyphRenderer\"},{\"id\":\"e7414218-3c51-474f-9ff7-f1749d712dae\",\"type\":\"GlyphRenderer\"},{\"id\":\"f6e81584-ae67-404d-b759-213a66d298fc\",\"type\":\"GlyphRenderer\"},{\"id\":\"122026b0-f342-4d21-a814-13c89226f831\",\"type\":\"GlyphRenderer\"},{\"id\":\"3fdbec7d-5f83-4e49-a0f3-e871b3bf0ae3\",\"type\":\"GlyphRenderer\"},{\"id\":\"8cfcade9-6be6-4337-a808-a32421edf0e2\",\"type\":\"GlyphRenderer\"},{\"id\":\"e535e4c8-0d00-41fd-a902-1551e541297a\",\"type\":\"GlyphRenderer\"},{\"id\":\"cc22f4bc-7cf3-4eb2-80c5-807c683caa07\",\"type\":\"GlyphRenderer\"},{\"id\":\"27b38127-5676-4cde-b39d-3cd354647c0c\",\"type\":\"GlyphRenderer\"},{\"id\":\"027f6da4-d903-4362-8e4b-71f580ab1fe3\",\"type\":\"GlyphRenderer\"},{\"id\":\"b7a04e96-0828-42b9-8d07-439c27efb25d\",\"type\":\"GlyphRenderer\"},{\"id\":\"8d7716bc-ae6e-431f-a0d4-d8fb9f024658\",\"type\":\"Legend\"},{\"id\":\"4857b818-9a3f-491e-8661-d6ebde9c7836\",\"type\":\"CategoricalAxis\"},{\"id\":\"08a811cf-af94-49ab-a4d1-1a1795251dde\",\"type\":\"LinearAxis\"},{\"id\":\"e9a6bf45-8d4f-4e42-85b7-973db6df18cb\",\"type\":\"Grid\"}],\"title\":{\"id\":\"368b328d-2b01-4572-ad2e-8745960de20a\",\"type\":\"Title\"},\"tool_events\":{\"id\":\"6ca58dbe-6f3c-47da-935e-c4997361bc6b\",\"type\":\"ToolEvents\"},\"toolbar\":{\"id\":\"8e3fd5c9-a945-4ec7-8c4b-9b58594587c3\",\"type\":\"Toolbar\"},\"x_mapper_type\":\"auto\",\"x_range\":{\"id\":\"93fa20e2-ff29-4c45-a202-a69f0214d4e1\",\"type\":\"FactorRange\"},\"y_mapper_type\":\"auto\",\"y_range\":{\"id\":\"1a0dd59f-857c-44e1-9951-14b3d5623dd5\",\"type\":\"Range1d\"}},\"id\":\"8ae379ee-00c4-4106-b9ae-a3cbffa46278\",\"subtype\":\"Chart\",\"type\":\"Plot\"},{\"attributes\":{\"label\":{\"value\":\"M\"},\"renderers\":[{\"id\":\"6a2c9b06-bfe7-4ecb-af99-4f173f248d27\",\"type\":\"GlyphRenderer\"}]},\"id\":\"9df402c9-02f3-47fa-9d02-b473bc0dd964\",\"type\":\"LegendItem\"},{\"attributes\":{\"callback\":null,\"column_names\":[\"x\",\"y\",\"width\",\"height\",\"color\",\"fill_alpha\",\"line_color\",\"line_alpha\",\"label\"],\"data\":{\"chart_index\":[{\"group\":\"R\",\"zone\":\"R1\"}],\"color\":[\"#407ee7\"],\"fill_alpha\":[0.8],\"group\":[\"R\"],\"height\":[2.0],\"label\":[{\"group\":\"R\",\"zone\":\"R1\"}],\"line_alpha\":[1.0],\"line_color\":[\"white\"],\"width\":[0.2],\"x\":[\"R1:0.75\"],\"y\":[1.0],\"zone\":[\"R1\"]}},\"id\":\"bf847d12-c28b-49a4-a474-2a5849f21017\",\"type\":\"ColumnDataSource\"},{\"attributes\":{\"data_source\":{\"id\":\"6090b507-8944-48db-90c8-0783445bd335\",\"type\":\"ColumnDataSource\"},\"glyph\":{\"id\":\"cd18490e-695f-48dc-81d6-207662a4f0bc\",\"type\":\"Rect\"},\"hover_glyph\":null,\"nonselection_glyph\":null,\"selection_glyph\":null},\"id\":\"52dcbad9-222c-49d8-8aeb-4647bab82443\",\"type\":\"GlyphRenderer\"},{\"attributes\":{\"fill_alpha\":{\"field\":\"fill_alpha\"},\"fill_color\":{\"field\":\"color\"},\"height\":{\"field\":\"height\",\"units\":\"data\"},\"line_color\":{\"field\":\"line_color\"},\"width\":{\"field\":\"width\",\"units\":\"data\"},\"x\":{\"field\":\"x\"},\"y\":{\"field\":\"y\"}},\"id\":\"0a57819e-cfae-47c0-8c76-147e2efa07f3\",\"type\":\"Rect\"},{\"attributes\":{},\"id\":\"8465292d-22bd-4af2-b5f3-f8346f16dcc6\",\"type\":\"BasicTicker\"},{\"attributes\":{},\"id\":\"15a026d0-d8dc-4abc-91c6-3b36ab857203\",\"type\":\"BasicTicker\"},{\"attributes\":{\"label\":{\"value\":\"R\"},\"renderers\":[{\"id\":\"3417bdb5-1197-48ef-b763-6f4c1c484c10\",\"type\":\"GlyphRenderer\"}]},\"id\":\"3cb44d29-69ad-4006-9b49-240e0655d93b\",\"type\":\"LegendItem\"},{\"attributes\":{\"data_source\":{\"id\":\"a271ad6c-4ccd-459c-ad6f-bba1473b00d5\",\"type\":\"ColumnDataSource\"},\"glyph\":{\"id\":\"a37a726e-dcd4-46f7-b042-940187aa64b4\",\"type\":\"Rect\"},\"hover_glyph\":null,\"nonselection_glyph\":null,\"selection_glyph\":null},\"id\":\"f6c1122b-653a-46db-98bc-9f0ad83116dc\",\"type\":\"GlyphRenderer\"},{\"attributes\":{\"axis_label\":\"Mean( Count )\",\"formatter\":{\"id\":\"04c1bbc5-1397-4ef6-8c86-aee4e0858dc6\",\"type\":\"BasicTickFormatter\"},\"plot\":{\"id\":\"3c9c9055-54a2-4838-8ad5-29401df6e910\",\"subtype\":\"Chart\",\"type\":\"Plot\"},\"ticker\":{\"id\":\"15a026d0-d8dc-4abc-91c6-3b36ab857203\",\"type\":\"BasicTicker\"}},\"id\":\"33db7e1a-1895-4c89-a1f0-8b1203761f01\",\"type\":\"LinearAxis\"},{\"attributes\":{\"active_drag\":\"auto\",\"active_scroll\":\"auto\",\"active_tap\":\"auto\",\"tools\":[{\"id\":\"5b3cc2af-e785-4109-a0f9-0a7400d79a5e\",\"type\":\"PanTool\"},{\"id\":\"4e33a6a7-bb95-404e-9fa5-cbe057606304\",\"type\":\"WheelZoomTool\"},{\"id\":\"b7221909-896a-4463-846c-4073f74d677c\",\"type\":\"BoxZoomTool\"},{\"id\":\"9adc6025-0b1e-4d53-a865-138fea7330de\",\"type\":\"SaveTool\"},{\"id\":\"2ad6d7c3-c183-481f-96b5-0c8a0b6121b7\",\"type\":\"ResetTool\"},{\"id\":\"3642ce03-ea4e-476f-bbc5-98d7dd5376aa\",\"type\":\"HelpTool\"}]},\"id\":\"8e3fd5c9-a945-4ec7-8c4b-9b58594587c3\",\"type\":\"Toolbar\"},{\"attributes\":{\"bottom_units\":\"screen\",\"fill_alpha\":{\"value\":0.5},\"fill_color\":{\"value\":\"lightgrey\"},\"left_units\":\"screen\",\"level\":\"overlay\",\"line_alpha\":{\"value\":1.0},\"line_color\":{\"value\":\"black\"},\"line_dash\":[4,4],\"line_width\":{\"value\":2},\"plot\":null,\"render_mode\":\"css\",\"right_units\":\"screen\",\"top_units\":\"screen\"},\"id\":\"4560db9f-4d8e-47bc-bd33-9d44a7777a7c\",\"type\":\"BoxAnnotation\"},{\"attributes\":{\"data_source\":{\"id\":\"599a88e3-b444-4266-af7a-a24ebb6af730\",\"type\":\"ColumnDataSource\"},\"glyph\":{\"id\":\"0a57819e-cfae-47c0-8c76-147e2efa07f3\",\"type\":\"Rect\"},\"hover_glyph\":null,\"nonselection_glyph\":null,\"selection_glyph\":null},\"id\":\"e9e4b925-a522-4171-9fb4-cb10d31bf906\",\"type\":\"GlyphRenderer\"},{\"attributes\":{\"fill_alpha\":{\"field\":\"fill_alpha\"},\"fill_color\":{\"field\":\"color\"},\"height\":{\"field\":\"height\",\"units\":\"data\"},\"line_color\":{\"field\":\"line_color\"},\"width\":{\"field\":\"width\",\"units\":\"data\"},\"x\":{\"field\":\"x\"},\"y\":{\"field\":\"y\"}},\"id\":\"722f9c30-b55d-4ced-8390-b0be19d1e0e6\",\"type\":\"Rect\"},{\"attributes\":{\"plot\":null,\"text\":\"PEC - NEC\"},\"id\":\"368b328d-2b01-4572-ad2e-8745960de20a\",\"type\":\"Title\"},{\"attributes\":{\"fill_alpha\":{\"field\":\"fill_alpha\"},\"fill_color\":{\"field\":\"color\"},\"height\":{\"field\":\"height\",\"units\":\"data\"},\"line_color\":{\"field\":\"line_color\"},\"width\":{\"field\":\"width\",\"units\":\"data\"},\"x\":{\"field\":\"x\"},\"y\":{\"field\":\"y\"}},\"id\":\"2bd25ed5-83e5-4f80-932a-7a8fc7641344\",\"type\":\"Rect\"},{\"attributes\":{\"fill_alpha\":{\"field\":\"fill_alpha\"},\"fill_color\":{\"field\":\"color\"},\"height\":{\"field\":\"height\",\"units\":\"data\"},\"line_color\":{\"field\":\"line_color\"},\"width\":{\"field\":\"width\",\"units\":\"data\"},\"x\":{\"field\":\"x\"},\"y\":{\"field\":\"y\"}},\"id\":\"f4555e89-616f-4206-b4d5-60765924fd35\",\"type\":\"Rect\"},{\"attributes\":{\"plot\":{\"id\":\"8ae379ee-00c4-4106-b9ae-a3cbffa46278\",\"subtype\":\"Chart\",\"type\":\"Plot\"}},\"id\":\"5b3cc2af-e785-4109-a0f9-0a7400d79a5e\",\"type\":\"PanTool\"},{\"attributes\":{\"plot\":{\"id\":\"8ae379ee-00c4-4106-b9ae-a3cbffa46278\",\"subtype\":\"Chart\",\"type\":\"Plot\"}},\"id\":\"4e33a6a7-bb95-404e-9fa5-cbe057606304\",\"type\":\"WheelZoomTool\"},{\"attributes\":{\"label\":{\"value\":\"M\"},\"renderers\":[{\"id\":\"c4aa5bf9-6072-459f-be74-97aad8facf7a\",\"type\":\"GlyphRenderer\"}]},\"id\":\"67cf1f01-b3c6-40b3-9624-7d7b7ec158a1\",\"type\":\"LegendItem\"},{\"attributes\":{\"overlay\":{\"id\":\"4560db9f-4d8e-47bc-bd33-9d44a7777a7c\",\"type\":\"BoxAnnotation\"},\"plot\":{\"id\":\"8ae379ee-00c4-4106-b9ae-a3cbffa46278\",\"subtype\":\"Chart\",\"type\":\"Plot\"}},\"id\":\"b7221909-896a-4463-846c-4073f74d677c\",\"type\":\"BoxZoomTool\"},{\"attributes\":{\"data_source\":{\"id\":\"4e7543f8-660e-4f6e-b481-1be28bff6b7b\",\"type\":\"ColumnDataSource\"},\"glyph\":{\"id\":\"40adfb3f-cf79-453c-8ec2-084c02116a83\",\"type\":\"Rect\"},\"hover_glyph\":null,\"nonselection_glyph\":null,\"selection_glyph\":null},\"id\":\"09ffb211-a10a-4fe4-a55b-ff995a62a062\",\"type\":\"GlyphRenderer\"},{\"attributes\":{\"plot\":{\"id\":\"8ae379ee-00c4-4106-b9ae-a3cbffa46278\",\"subtype\":\"Chart\",\"type\":\"Plot\"}},\"id\":\"9adc6025-0b1e-4d53-a865-138fea7330de\",\"type\":\"SaveTool\"},{\"attributes\":{\"plot\":{\"id\":\"8ae379ee-00c4-4106-b9ae-a3cbffa46278\",\"subtype\":\"Chart\",\"type\":\"Plot\"}},\"id\":\"2ad6d7c3-c183-481f-96b5-0c8a0b6121b7\",\"type\":\"ResetTool\"},{\"attributes\":{\"plot\":{\"id\":\"8ae379ee-00c4-4106-b9ae-a3cbffa46278\",\"subtype\":\"Chart\",\"type\":\"Plot\"}},\"id\":\"3642ce03-ea4e-476f-bbc5-98d7dd5376aa\",\"type\":\"HelpTool\"},{\"attributes\":{\"data_source\":{\"id\":\"0a601a1f-f5a5-4d70-a1a2-0e4c643b2b2b\",\"type\":\"ColumnDataSource\"},\"glyph\":{\"id\":\"5b7a4b5f-aacd-42f2-8554-221fdd486307\",\"type\":\"Rect\"},\"hover_glyph\":null,\"nonselection_glyph\":null,\"selection_glyph\":null},\"id\":\"35ca29d6-ae80-4934-95dd-7c27185ca722\",\"type\":\"GlyphRenderer\"},{\"attributes\":{\"data_source\":{\"id\":\"ccc6cc49-f3b6-4cc6-8497-ed298b6b19fc\",\"type\":\"ColumnDataSource\"},\"glyph\":{\"id\":\"2bd25ed5-83e5-4f80-932a-7a8fc7641344\",\"type\":\"Rect\"},\"hover_glyph\":null,\"nonselection_glyph\":null,\"selection_glyph\":null},\"id\":\"fcf5588b-187a-4e4e-ac4e-f7bc89473a92\",\"type\":\"GlyphRenderer\"},{\"attributes\":{},\"id\":\"fca90303-e49c-4c3e-bc27-b8a3a98ebd37\",\"type\":\"CategoricalTickFormatter\"},{\"attributes\":{\"fill_alpha\":{\"field\":\"fill_alpha\"},\"fill_color\":{\"field\":\"color\"},\"height\":{\"field\":\"height\",\"units\":\"data\"},\"line_color\":{\"field\":\"line_color\"},\"width\":{\"field\":\"width\",\"units\":\"data\"},\"x\":{\"field\":\"x\"},\"y\":{\"field\":\"y\"}},\"id\":\"80be529d-c63a-481c-bccc-040c999ba69c\",\"type\":\"Rect\"},{\"attributes\":{},\"id\":\"15bd2d3c-eded-4920-bfbe-e55ef0a983b2\",\"type\":\"CategoricalTickFormatter\"},{\"attributes\":{\"data_source\":{\"id\":\"76a9f942-aaf3-42bb-9201-e7896a083a7a\",\"type\":\"ColumnDataSource\"},\"glyph\":{\"id\":\"f4555e89-616f-4206-b4d5-60765924fd35\",\"type\":\"Rect\"},\"hover_glyph\":null,\"nonselection_glyph\":null,\"selection_glyph\":null},\"id\":\"12b1906b-8ddd-4bc7-a2bb-8472429af1d9\",\"type\":\"GlyphRenderer\"},{\"attributes\":{\"callback\":null,\"column_names\":[\"x\",\"y\",\"width\",\"height\",\"color\",\"fill_alpha\",\"line_color\",\"line_alpha\",\"label\"],\"data\":{\"chart_index\":[{\"group\":\"L\",\"zone\":\"L2\"}],\"color\":[\"#f22c40\"],\"fill_alpha\":[0.8],\"group\":[\"L\"],\"height\":[4.0],\"label\":[{\"group\":\"L\",\"zone\":\"L2\"}],\"line_alpha\":[1.0],\"line_color\":[\"white\"],\"width\":[0.2],\"x\":[\"L2:0.25\"],\"y\":[2.0],\"zone\":[\"L2\"]}},\"id\":\"a271ad6c-4ccd-459c-ad6f-bba1473b00d5\",\"type\":\"ColumnDataSource\"},{\"attributes\":{\"callback\":null,\"column_names\":[\"x\",\"y\",\"width\",\"height\",\"color\",\"fill_alpha\",\"line_color\",\"line_alpha\",\"label\"],\"data\":{\"chart_index\":[{\"group\":\"L\",\"zone\":\"L2\"}],\"color\":[\"#f22c40\"],\"fill_alpha\":[0.8],\"group\":[\"L\"],\"height\":[1.75],\"label\":[{\"group\":\"L\",\"zone\":\"L2\"}],\"line_alpha\":[1.0],\"line_color\":[\"white\"],\"width\":[0.2],\"x\":[\"L2:0.25\"],\"y\":[0.875],\"zone\":[\"L2\"]}},\"id\":\"efa32683-9711-4aa0-9f4d-f4a3819cbbe7\",\"type\":\"ColumnDataSource\"},{\"attributes\":{\"callback\":null,\"factors\":[\"L1\",\"L2\",\"L3\",\"L4\",\"M1\",\"M2\",\"M3\",\"M4\",\"R1\",\"R2\",\"R3\",\"R4\"]},\"id\":\"52d178e1-55c2-4a1e-bfc6-7fc363c97fa9\",\"type\":\"FactorRange\"},{\"attributes\":{\"fill_alpha\":{\"field\":\"fill_alpha\"},\"fill_color\":{\"field\":\"color\"},\"height\":{\"field\":\"height\",\"units\":\"data\"},\"line_color\":{\"field\":\"line_color\"},\"width\":{\"field\":\"width\",\"units\":\"data\"},\"x\":{\"field\":\"x\"},\"y\":{\"field\":\"y\"}},\"id\":\"5b7a4b5f-aacd-42f2-8554-221fdd486307\",\"type\":\"Rect\"},{\"attributes\":{\"callback\":null,\"column_names\":[\"x\",\"y\",\"width\",\"height\",\"color\",\"fill_alpha\",\"line_color\",\"line_alpha\",\"label\"],\"data\":{\"chart_index\":[{\"group\":\"M\",\"zone\":\"M1\"}],\"color\":[\"#5ab738\"],\"fill_alpha\":[0.8],\"group\":[\"M\"],\"height\":[2.5],\"label\":[{\"group\":\"M\",\"zone\":\"M1\"}],\"line_alpha\":[1.0],\"line_color\":[\"white\"],\"width\":[0.2],\"x\":[\"M1:0.5\"],\"y\":[1.25],\"zone\":[\"M1\"]}},\"id\":\"a3c708ae-4b5c-4f74-9970-662b23b1ce8e\",\"type\":\"ColumnDataSource\"},{\"attributes\":{\"callback\":null,\"column_names\":[\"x\",\"y\",\"width\",\"height\",\"color\",\"fill_alpha\",\"line_color\",\"line_alpha\",\"label\"],\"data\":{\"chart_index\":[{\"group\":\"M\",\"zone\":\"M3\"}],\"color\":[\"#5ab738\"],\"fill_alpha\":[0.8],\"group\":[\"M\"],\"height\":[2.75],\"label\":[{\"group\":\"M\",\"zone\":\"M3\"}],\"line_alpha\":[1.0],\"line_color\":[\"white\"],\"width\":[0.2],\"x\":[\"M3:0.5\"],\"y\":[1.375],\"zone\":[\"M3\"]}},\"id\":\"aa54df74-484b-46a5-af31-76599f35ed7e\",\"type\":\"ColumnDataSource\"},{\"attributes\":{\"data_source\":{\"id\":\"bf847d12-c28b-49a4-a474-2a5849f21017\",\"type\":\"ColumnDataSource\"},\"glyph\":{\"id\":\"80be529d-c63a-481c-bccc-040c999ba69c\",\"type\":\"Rect\"},\"hover_glyph\":null,\"nonselection_glyph\":null,\"selection_glyph\":null},\"id\":\"90a228ed-8240-48d2-9eb7-79f9912efc89\",\"type\":\"GlyphRenderer\"},{\"attributes\":{\"callback\":null,\"column_names\":[\"x\",\"y\",\"width\",\"height\",\"color\",\"fill_alpha\",\"line_color\",\"line_alpha\",\"label\"],\"data\":{\"chart_index\":[{\"group\":\"L\",\"zone\":\"L4\"}],\"color\":[\"#f22c40\"],\"fill_alpha\":[0.8],\"group\":[\"L\"],\"height\":[2.25],\"label\":[{\"group\":\"L\",\"zone\":\"L4\"}],\"line_alpha\":[1.0],\"line_color\":[\"white\"],\"width\":[0.2],\"x\":[\"L4:0.25\"],\"y\":[1.125],\"zone\":[\"L4\"]}},\"id\":\"3880f2c2-80b2-4f5a-949f-e7e9441c43b3\",\"type\":\"ColumnDataSource\"},{\"attributes\":{\"callback\":null,\"column_names\":[\"x\",\"y\",\"width\",\"height\",\"color\",\"fill_alpha\",\"line_color\",\"line_alpha\",\"label\"],\"data\":{\"chart_index\":[{\"group\":\"L\",\"zone\":\"L3\"}],\"color\":[\"#f22c40\"],\"fill_alpha\":[0.8],\"group\":[\"L\"],\"height\":[3.0],\"label\":[{\"group\":\"L\",\"zone\":\"L3\"}],\"line_alpha\":[1.0],\"line_color\":[\"white\"],\"width\":[0.2],\"x\":[\"L3:0.25\"],\"y\":[1.5],\"zone\":[\"L3\"]}},\"id\":\"3539a553-530b-49e9-8789-d54cec4b1e18\",\"type\":\"ColumnDataSource\"},{\"attributes\":{\"callback\":null,\"column_names\":[\"x\",\"y\",\"width\",\"height\",\"color\",\"fill_alpha\",\"line_color\",\"line_alpha\",\"label\"],\"data\":{\"chart_index\":[{\"group\":\"L\",\"zone\":\"L4\"}],\"color\":[\"#f22c40\"],\"fill_alpha\":[0.8],\"group\":[\"L\"],\"height\":[2.0],\"label\":[{\"group\":\"L\",\"zone\":\"L4\"}],\"line_alpha\":[1.0],\"line_color\":[\"white\"],\"width\":[0.2],\"x\":[\"L4:0.25\"],\"y\":[1.0],\"zone\":[\"L4\"]}},\"id\":\"ccc6cc49-f3b6-4cc6-8497-ed298b6b19fc\",\"type\":\"ColumnDataSource\"},{\"attributes\":{\"dimension\":1,\"plot\":{\"id\":\"3c9c9055-54a2-4838-8ad5-29401df6e910\",\"subtype\":\"Chart\",\"type\":\"Plot\"},\"ticker\":{\"id\":\"15a026d0-d8dc-4abc-91c6-3b36ab857203\",\"type\":\"BasicTicker\"}},\"id\":\"e978ecbd-cd3f-4707-b3d9-a8da6c33d417\",\"type\":\"Grid\"},{\"attributes\":{\"callback\":null,\"column_names\":[\"x\",\"y\",\"width\",\"height\",\"color\",\"fill_alpha\",\"line_color\",\"line_alpha\",\"label\"],\"data\":{\"chart_index\":[{\"group\":\"M\",\"zone\":\"M1\"}],\"color\":[\"#5ab738\"],\"fill_alpha\":[0.8],\"group\":[\"M\"],\"height\":[2.0],\"label\":[{\"group\":\"M\",\"zone\":\"M1\"}],\"line_alpha\":[1.0],\"line_color\":[\"white\"],\"width\":[0.2],\"x\":[\"M1:0.5\"],\"y\":[1.0],\"zone\":[\"M1\"]}},\"id\":\"ccc7809b-a639-4cfc-8c93-613c4bc7fa5c\",\"type\":\"ColumnDataSource\"},{\"attributes\":{\"callback\":null,\"factors\":[\"L2\",\"L3\",\"L4\",\"M1\",\"M2\",\"M3\",\"M4\",\"R1\",\"R2\",\"R3\"]},\"id\":\"44e5e42b-2649-4de2-98fd-895c7a767d43\",\"type\":\"FactorRange\"},{\"attributes\":{\"axis_label\":\"Zone\",\"formatter\":{\"id\":\"fdae5482-d5c5-4622-aae7-b6ab1253abe6\",\"type\":\"CategoricalTickFormatter\"},\"major_label_orientation\":0.7853981633974483,\"plot\":{\"id\":\"3c9c9055-54a2-4838-8ad5-29401df6e910\",\"subtype\":\"Chart\",\"type\":\"Plot\"},\"ticker\":{\"id\":\"002483dc-a913-4c98-a767-3d275fa72c4e\",\"type\":\"CategoricalTicker\"}},\"id\":\"f7da67a3-7519-4938-a2eb-9af8fcae0b3a\",\"type\":\"CategoricalAxis\"},{\"attributes\":{\"label\":{\"value\":\"L\"},\"renderers\":[{\"id\":\"12b1906b-8ddd-4bc7-a2bb-8472429af1d9\",\"type\":\"GlyphRenderer\"}]},\"id\":\"50d500a2-7c95-4928-8818-60518a9ed701\",\"type\":\"LegendItem\"},{\"attributes\":{\"callback\":null,\"column_names\":[\"x\",\"y\",\"width\",\"height\",\"color\",\"fill_alpha\",\"line_color\",\"line_alpha\",\"label\"],\"data\":{\"chart_index\":[{\"group\":\"M\",\"zone\":\"M2\"}],\"color\":[\"#5ab738\"],\"fill_alpha\":[0.8],\"group\":[\"M\"],\"height\":[2.6666666666666665],\"label\":[{\"group\":\"M\",\"zone\":\"M2\"}],\"line_alpha\":[1.0],\"line_color\":[\"white\"],\"width\":[0.2],\"x\":[\"M2:0.5\"],\"y\":[1.3333333333333333],\"zone\":[\"M2\"]}},\"id\":\"2e86767c-777c-4d5b-aefd-1eeefbeb267f\",\"type\":\"ColumnDataSource\"},{\"attributes\":{\"fill_alpha\":{\"field\":\"fill_alpha\"},\"fill_color\":{\"field\":\"color\"},\"height\":{\"field\":\"height\",\"units\":\"data\"},\"line_color\":{\"field\":\"line_color\"},\"width\":{\"field\":\"width\",\"units\":\"data\"},\"x\":{\"field\":\"x\"},\"y\":{\"field\":\"y\"}},\"id\":\"83820bdf-9cfe-438f-9687-f588ebf54735\",\"type\":\"Rect\"},{\"attributes\":{},\"id\":\"f5c27ce0-d718-4252-a511-d76971de0b64\",\"type\":\"CategoricalTicker\"},{\"attributes\":{\"callback\":null,\"column_names\":[\"x\",\"y\",\"width\",\"height\",\"color\",\"fill_alpha\",\"line_color\",\"line_alpha\",\"label\"],\"data\":{\"chart_index\":[{\"group\":\"L\",\"zone\":\"L4\"}],\"color\":[\"#f22c40\"],\"fill_alpha\":[0.8],\"group\":[\"L\"],\"height\":[2.0],\"label\":[{\"group\":\"L\",\"zone\":\"L4\"}],\"line_alpha\":[1.0],\"line_color\":[\"white\"],\"width\":[0.2],\"x\":[\"L4:0.75\"],\"y\":[1.0],\"zone\":[\"L4\"]}},\"id\":\"93792434-d7ca-4dd1-9f15-5103fee61d35\",\"type\":\"ColumnDataSource\"},{\"attributes\":{},\"id\":\"11cb3911-8e99-4cba-8eb2-04c5a8645729\",\"type\":\"BasicTickFormatter\"},{\"attributes\":{\"fill_alpha\":{\"field\":\"fill_alpha\"},\"fill_color\":{\"field\":\"color\"},\"height\":{\"field\":\"height\",\"units\":\"data\"},\"line_color\":{\"field\":\"line_color\"},\"width\":{\"field\":\"width\",\"units\":\"data\"},\"x\":{\"field\":\"x\"},\"y\":{\"field\":\"y\"}},\"id\":\"4899d8e5-b324-435d-94cc-e616343db15b\",\"type\":\"Rect\"},{\"attributes\":{},\"id\":\"4d4b1197-5ff4-4836-b6e6-54e41f77dfac\",\"type\":\"CategoricalTicker\"},{\"attributes\":{\"data_source\":{\"id\":\"472ca483-533b-41af-af41-28e68dd6f14a\",\"type\":\"ColumnDataSource\"},\"glyph\":{\"id\":\"83820bdf-9cfe-438f-9687-f588ebf54735\",\"type\":\"Rect\"},\"hover_glyph\":null,\"nonselection_glyph\":null,\"selection_glyph\":null},\"id\":\"393b0da0-68f1-416f-b695-b18487c5d7c7\",\"type\":\"GlyphRenderer\"},{\"attributes\":{},\"id\":\"0a1437e7-e12f-43cf-89c4-40037d5e812f\",\"type\":\"CategoricalTicker\"},{\"attributes\":{},\"id\":\"1aad32a9-723c-4983-a092-34bea2e205be\",\"type\":\"CategoricalTickFormatter\"},{\"attributes\":{\"fill_alpha\":{\"field\":\"fill_alpha\"},\"fill_color\":{\"field\":\"color\"},\"height\":{\"field\":\"height\",\"units\":\"data\"},\"line_color\":{\"field\":\"line_color\"},\"width\":{\"field\":\"width\",\"units\":\"data\"},\"x\":{\"field\":\"x\"},\"y\":{\"field\":\"y\"}},\"id\":\"8d1e5bc8-ffd6-4edd-a30c-1f5d14d8e1d2\",\"type\":\"Rect\"},{\"attributes\":{},\"id\":\"5cfaa7dc-173d-47ab-bbee-44770da9d7d3\",\"type\":\"BasicTickFormatter\"},{\"attributes\":{\"fill_alpha\":{\"field\":\"fill_alpha\"},\"fill_color\":{\"field\":\"color\"},\"height\":{\"field\":\"height\",\"units\":\"data\"},\"line_color\":{\"field\":\"line_color\"},\"width\":{\"field\":\"width\",\"units\":\"data\"},\"x\":{\"field\":\"x\"},\"y\":{\"field\":\"y\"}},\"id\":\"85e26890-4a0e-40a1-941d-5d52b7715492\",\"type\":\"Rect\"},{\"attributes\":{},\"id\":\"002483dc-a913-4c98-a767-3d275fa72c4e\",\"type\":\"CategoricalTicker\"},{\"attributes\":{},\"id\":\"fdae5482-d5c5-4622-aae7-b6ab1253abe6\",\"type\":\"CategoricalTickFormatter\"},{\"attributes\":{},\"id\":\"b8699792-30b9-4208-a26d-f8ab34658e79\",\"type\":\"BasicTickFormatter\"},{\"attributes\":{\"data_source\":{\"id\":\"3539a553-530b-49e9-8789-d54cec4b1e18\",\"type\":\"ColumnDataSource\"},\"glyph\":{\"id\":\"722f9c30-b55d-4ced-8390-b0be19d1e0e6\",\"type\":\"Rect\"},\"hover_glyph\":null,\"nonselection_glyph\":null,\"selection_glyph\":null},\"id\":\"e7414218-3c51-474f-9ff7-f1749d712dae\",\"type\":\"GlyphRenderer\"},{\"attributes\":{\"data_source\":{\"id\":\"0ea10533-2d7f-4b36-a6f4-2e0df897a7e1\",\"type\":\"ColumnDataSource\"},\"glyph\":{\"id\":\"4899d8e5-b324-435d-94cc-e616343db15b\",\"type\":\"Rect\"},\"hover_glyph\":null,\"nonselection_glyph\":null,\"selection_glyph\":null},\"id\":\"6281d6a3-895e-4db7-906a-32bab6417961\",\"type\":\"GlyphRenderer\"},{\"attributes\":{\"data_source\":{\"id\":\"cb72a19b-3438-434b-b905-b81426f48be0\",\"type\":\"ColumnDataSource\"},\"glyph\":{\"id\":\"8d1e5bc8-ffd6-4edd-a30c-1f5d14d8e1d2\",\"type\":\"Rect\"},\"hover_glyph\":null,\"nonselection_glyph\":null,\"selection_glyph\":null},\"id\":\"f5d3c3e5-a558-4499-b43d-d35c6fefd464\",\"type\":\"GlyphRenderer\"},{\"attributes\":{},\"id\":\"04c1bbc5-1397-4ef6-8c86-aee4e0858dc6\",\"type\":\"BasicTickFormatter\"},{\"attributes\":{\"fill_alpha\":{\"field\":\"fill_alpha\"},\"fill_color\":{\"field\":\"color\"},\"height\":{\"field\":\"height\",\"units\":\"data\"},\"line_color\":{\"field\":\"line_color\"},\"width\":{\"field\":\"width\",\"units\":\"data\"},\"x\":{\"field\":\"x\"},\"y\":{\"field\":\"y\"}},\"id\":\"7824d11d-4b01-41fb-a1f3-2bc1e7c20dab\",\"type\":\"Rect\"},{\"attributes\":{\"fill_alpha\":{\"field\":\"fill_alpha\"},\"fill_color\":{\"field\":\"color\"},\"height\":{\"field\":\"height\",\"units\":\"data\"},\"line_color\":{\"field\":\"line_color\"},\"width\":{\"field\":\"width\",\"units\":\"data\"},\"x\":{\"field\":\"x\"},\"y\":{\"field\":\"y\"}},\"id\":\"77adced0-170a-46bc-ac0f-be6325e3e11f\",\"type\":\"Rect\"},{\"attributes\":{\"dimension\":1,\"plot\":{\"id\":\"8ae379ee-00c4-4106-b9ae-a3cbffa46278\",\"subtype\":\"Chart\",\"type\":\"Plot\"},\"ticker\":{\"id\":\"8465292d-22bd-4af2-b5f3-f8346f16dcc6\",\"type\":\"BasicTicker\"}},\"id\":\"e9a6bf45-8d4f-4e42-85b7-973db6df18cb\",\"type\":\"Grid\"},{\"attributes\":{\"data_source\":{\"id\":\"3880f2c2-80b2-4f5a-949f-e7e9441c43b3\",\"type\":\"ColumnDataSource\"},\"glyph\":{\"id\":\"77adced0-170a-46bc-ac0f-be6325e3e11f\",\"type\":\"Rect\"},\"hover_glyph\":null,\"nonselection_glyph\":null,\"selection_glyph\":null},\"id\":\"f6e81584-ae67-404d-b759-213a66d298fc\",\"type\":\"GlyphRenderer\"},{\"attributes\":{\"fill_alpha\":{\"field\":\"fill_alpha\"},\"fill_color\":{\"field\":\"color\"},\"height\":{\"field\":\"height\",\"units\":\"data\"},\"line_color\":{\"field\":\"line_color\"},\"width\":{\"field\":\"width\",\"units\":\"data\"},\"x\":{\"field\":\"x\"},\"y\":{\"field\":\"y\"}},\"id\":\"0347353d-451d-4747-b7bc-6f274940cfdc\",\"type\":\"Rect\"},{\"attributes\":{\"label\":{\"value\":\"R\"},\"renderers\":[{\"id\":\"2bf0b904-af48-4f25-b53d-7ce9f2da4d2c\",\"type\":\"GlyphRenderer\"}]},\"id\":\"3e0f5c2a-ab1c-4b45-84ba-86a391b9eb7f\",\"type\":\"LegendItem\"},{\"attributes\":{\"callback\":null,\"column_names\":[\"x\",\"y\",\"width\",\"height\",\"color\",\"fill_alpha\",\"line_color\",\"line_alpha\",\"label\"],\"data\":{\"chart_index\":[{\"group\":\"L\",\"zone\":\"L3\"}],\"color\":[\"#f22c40\"],\"fill_alpha\":[0.8],\"group\":[\"L\"],\"height\":[4.666666666666667],\"label\":[{\"group\":\"L\",\"zone\":\"L3\"}],\"line_alpha\":[1.0],\"line_color\":[\"white\"],\"width\":[0.2],\"x\":[\"L3:0.75\"],\"y\":[2.3333333333333335],\"zone\":[\"L3\"]}},\"id\":\"0ea10533-2d7f-4b36-a6f4-2e0df897a7e1\",\"type\":\"ColumnDataSource\"},{\"attributes\":{\"axis_label\":\"Mean( Count )\",\"formatter\":{\"id\":\"b8699792-30b9-4208-a26d-f8ab34658e79\",\"type\":\"BasicTickFormatter\"},\"plot\":{\"id\":\"8ae379ee-00c4-4106-b9ae-a3cbffa46278\",\"subtype\":\"Chart\",\"type\":\"Plot\"},\"ticker\":{\"id\":\"8465292d-22bd-4af2-b5f3-f8346f16dcc6\",\"type\":\"BasicTicker\"}},\"id\":\"08a811cf-af94-49ab-a4d1-1a1795251dde\",\"type\":\"LinearAxis\"},{\"attributes\":{\"data_source\":{\"id\":\"93792434-d7ca-4dd1-9f15-5103fee61d35\",\"type\":\"ColumnDataSource\"},\"glyph\":{\"id\":\"0347353d-451d-4747-b7bc-6f274940cfdc\",\"type\":\"Rect\"},\"hover_glyph\":null,\"nonselection_glyph\":null,\"selection_glyph\":null},\"id\":\"4d763f58-8bca-4455-96cf-b7cb93ee6f24\",\"type\":\"GlyphRenderer\"},{\"attributes\":{\"callback\":null,\"column_names\":[\"x\",\"y\",\"width\",\"height\",\"color\",\"fill_alpha\",\"line_color\",\"line_alpha\",\"label\"],\"data\":{\"chart_index\":[{\"group\":\"L\",\"zone\":\"L1\"}],\"color\":[\"#f22c40\"],\"fill_alpha\":[0.8],\"group\":[\"L\"],\"height\":[1.0],\"label\":[{\"group\":\"L\",\"zone\":\"L1\"}],\"line_alpha\":[1.0],\"line_color\":[\"white\"],\"width\":[0.2],\"x\":[\"L1:0.25\"],\"y\":[0.5],\"zone\":[\"L1\"]}},\"id\":\"a9f0b1e4-125d-464d-b99c-50c896686690\",\"type\":\"ColumnDataSource\"},{\"attributes\":{\"fill_alpha\":{\"field\":\"fill_alpha\"},\"fill_color\":{\"field\":\"color\"},\"height\":{\"field\":\"height\",\"units\":\"data\"},\"line_color\":{\"field\":\"line_color\"},\"width\":{\"field\":\"width\",\"units\":\"data\"},\"x\":{\"field\":\"x\"},\"y\":{\"field\":\"y\"}},\"id\":\"ee98e917-dcc3-430d-b207-f109d7c0ee7d\",\"type\":\"Rect\"},{\"attributes\":{\"data_source\":{\"id\":\"18674c42-6167-4a9c-81aa-88aa92de4e48\",\"type\":\"ColumnDataSource\"},\"glyph\":{\"id\":\"69948cda-efd4-4a8f-851d-e9404a5442a8\",\"type\":\"Rect\"},\"hover_glyph\":null,\"nonselection_glyph\":null,\"selection_glyph\":null},\"id\":\"09d4212f-09cc-40c1-b4c8-cb46df5b54d6\",\"type\":\"GlyphRenderer\"},{\"attributes\":{\"items\":[{\"id\":\"c6816978-0f62-4c98-87ef-397bbba95878\",\"type\":\"LegendItem\"},{\"id\":\"aba1cef6-feb3-408f-a46b-49c94bd67db3\",\"type\":\"LegendItem\"},{\"id\":\"c1974905-cf91-4bd5-a005-4bb50a1de6c7\",\"type\":\"LegendItem\"}],\"location\":\"top_left\",\"plot\":{\"id\":\"e898c93b-d9b2-449f-b07c-18a3e29e42ef\",\"subtype\":\"Chart\",\"type\":\"Plot\"}},\"id\":\"1e35cbb9-aa46-4edf-a104-646890cc6fe4\",\"type\":\"Legend\"},{\"attributes\":{\"fill_alpha\":{\"field\":\"fill_alpha\"},\"fill_color\":{\"field\":\"color\"},\"height\":{\"field\":\"height\",\"units\":\"data\"},\"line_color\":{\"field\":\"line_color\"},\"width\":{\"field\":\"width\",\"units\":\"data\"},\"x\":{\"field\":\"x\"},\"y\":{\"field\":\"y\"}},\"id\":\"464028a9-9875-43e6-b955-3d5be964e04c\",\"type\":\"Rect\"},{\"attributes\":{\"label\":{\"value\":\"R\"},\"renderers\":[{\"id\":\"15478fc3-d723-4767-b449-86c59785ed88\",\"type\":\"GlyphRenderer\"}]},\"id\":\"c1974905-cf91-4bd5-a005-4bb50a1de6c7\",\"type\":\"LegendItem\"},{\"attributes\":{\"axis_label\":\"Zone\",\"formatter\":{\"id\":\"fca90303-e49c-4c3e-bc27-b8a3a98ebd37\",\"type\":\"CategoricalTickFormatter\"},\"major_label_orientation\":0.7853981633974483,\"plot\":{\"id\":\"e898c93b-d9b2-449f-b07c-18a3e29e42ef\",\"subtype\":\"Chart\",\"type\":\"Plot\"},\"ticker\":{\"id\":\"f5c27ce0-d718-4252-a511-d76971de0b64\",\"type\":\"CategoricalTicker\"}},\"id\":\"3bd67f38-b421-4413-beee-5ad60ed33db8\",\"type\":\"CategoricalAxis\"},{\"attributes\":{\"data_source\":{\"id\":\"60fd9220-9622-4de7-89e0-361bfbee9944\",\"type\":\"ColumnDataSource\"},\"glyph\":{\"id\":\"464028a9-9875-43e6-b955-3d5be964e04c\",\"type\":\"Rect\"},\"hover_glyph\":null,\"nonselection_glyph\":null,\"selection_glyph\":null},\"id\":\"c97be6b2-c6c5-4893-a667-df0ad6b9b1ce\",\"type\":\"GlyphRenderer\"},{\"attributes\":{\"data_source\":{\"id\":\"aa54df74-484b-46a5-af31-76599f35ed7e\",\"type\":\"ColumnDataSource\"},\"glyph\":{\"id\":\"ee98e917-dcc3-430d-b207-f109d7c0ee7d\",\"type\":\"Rect\"},\"hover_glyph\":null,\"nonselection_glyph\":null,\"selection_glyph\":null},\"id\":\"751b4299-072d-4f66-9d04-ef4a9f0729b1\",\"type\":\"GlyphRenderer\"},{\"attributes\":{\"fill_alpha\":{\"field\":\"fill_alpha\"},\"fill_color\":{\"field\":\"color\"},\"height\":{\"field\":\"height\",\"units\":\"data\"},\"line_color\":{\"field\":\"line_color\"},\"width\":{\"field\":\"width\",\"units\":\"data\"},\"x\":{\"field\":\"x\"},\"y\":{\"field\":\"y\"}},\"id\":\"f259a31d-00d1-40f6-b47b-9facbbd391cf\",\"type\":\"Rect\"},{\"attributes\":{\"callback\":null,\"factors\":[\"L1\",\"L2\",\"L3\",\"L4\",\"M1\",\"M2\",\"M3\",\"M4\",\"R1\",\"R2\",\"R3\",\"R4\"]},\"id\":\"4e611181-a4a6-4f2e-9d4e-54a10658d834\",\"type\":\"FactorRange\"},{\"attributes\":{\"items\":[{\"id\":\"81917297-72a0-41bc-a289-1e8a38b03328\",\"type\":\"LegendItem\"},{\"id\":\"67cf1f01-b3c6-40b3-9624-7d7b7ec158a1\",\"type\":\"LegendItem\"},{\"id\":\"3cb44d29-69ad-4006-9b49-240e0655d93b\",\"type\":\"LegendItem\"}],\"location\":\"top_left\",\"plot\":{\"id\":\"3c9c9055-54a2-4838-8ad5-29401df6e910\",\"subtype\":\"Chart\",\"type\":\"Plot\"}},\"id\":\"4390e958-7564-4af0-a82c-6bfa44156be4\",\"type\":\"Legend\"},{\"attributes\":{\"fill_alpha\":{\"field\":\"fill_alpha\"},\"fill_color\":{\"field\":\"color\"},\"height\":{\"field\":\"height\",\"units\":\"data\"},\"line_color\":{\"field\":\"line_color\"},\"width\":{\"field\":\"width\",\"units\":\"data\"},\"x\":{\"field\":\"x\"},\"y\":{\"field\":\"y\"}},\"id\":\"a25f1932-3679-4bd8-86ec-4753a8e0ff1d\",\"type\":\"Rect\"},{\"attributes\":{\"label\":{\"value\":\"L\"},\"renderers\":[{\"id\":\"c97be6b2-c6c5-4893-a667-df0ad6b9b1ce\",\"type\":\"GlyphRenderer\"}]},\"id\":\"aba1cef6-feb3-408f-a46b-49c94bd67db3\",\"type\":\"LegendItem\"},{\"attributes\":{\"data_source\":{\"id\":\"8159a585-4498-45c0-8567-1f64b998f97c\",\"type\":\"ColumnDataSource\"},\"glyph\":{\"id\":\"f259a31d-00d1-40f6-b47b-9facbbd391cf\",\"type\":\"Rect\"},\"hover_glyph\":null,\"nonselection_glyph\":null,\"selection_glyph\":null},\"id\":\"c45e1bcf-4825-43e4-85de-d9a8ddb66bfd\",\"type\":\"GlyphRenderer\"},{\"attributes\":{\"fill_alpha\":{\"field\":\"fill_alpha\"},\"fill_color\":{\"field\":\"color\"},\"height\":{\"field\":\"height\",\"units\":\"data\"},\"line_color\":{\"field\":\"line_color\"},\"width\":{\"field\":\"width\",\"units\":\"data\"},\"x\":{\"field\":\"x\"},\"y\":{\"field\":\"y\"}},\"id\":\"346bf937-42d0-4cb5-bc37-a384783a4399\",\"type\":\"Rect\"},{\"attributes\":{\"data_source\":{\"id\":\"0abc183c-2dd2-4c18-b48a-dce934e3aad8\",\"type\":\"ColumnDataSource\"},\"glyph\":{\"id\":\"a25f1932-3679-4bd8-86ec-4753a8e0ff1d\",\"type\":\"Rect\"},\"hover_glyph\":null,\"nonselection_glyph\":null,\"selection_glyph\":null},\"id\":\"3417bdb5-1197-48ef-b763-6f4c1c484c10\",\"type\":\"GlyphRenderer\"},{\"attributes\":{\"fill_alpha\":{\"field\":\"fill_alpha\"},\"fill_color\":{\"field\":\"color\"},\"height\":{\"field\":\"height\",\"units\":\"data\"},\"line_color\":{\"field\":\"line_color\"},\"width\":{\"field\":\"width\",\"units\":\"data\"},\"x\":{\"field\":\"x\"},\"y\":{\"field\":\"y\"}},\"id\":\"2d604d0c-b6a6-4131-94bd-3de7f67a5d8f\",\"type\":\"Rect\"},{\"attributes\":{\"data_source\":{\"id\":\"a9f0b1e4-125d-464d-b99c-50c896686690\",\"type\":\"ColumnDataSource\"},\"glyph\":{\"id\":\"346bf937-42d0-4cb5-bc37-a384783a4399\",\"type\":\"Rect\"},\"hover_glyph\":null,\"nonselection_glyph\":null,\"selection_glyph\":null},\"id\":\"d987c065-2b75-437e-a462-c765a97b1f5e\",\"type\":\"GlyphRenderer\"},{\"attributes\":{\"callback\":null,\"column_names\":[\"x\",\"y\",\"width\",\"height\",\"color\",\"fill_alpha\",\"line_color\",\"line_alpha\",\"label\"],\"data\":{\"chart_index\":[{\"group\":\"R\",\"zone\":\"R2\"}],\"color\":[\"#407ee7\"],\"fill_alpha\":[0.8],\"group\":[\"R\"],\"height\":[3.25],\"label\":[{\"group\":\"R\",\"zone\":\"R2\"}],\"line_alpha\":[1.0],\"line_color\":[\"white\"],\"width\":[0.2],\"x\":[\"R2:0.75\"],\"y\":[1.625],\"zone\":[\"R2\"]}},\"id\":\"f0cc7231-6c0c-49d4-8665-7991da68998a\",\"type\":\"ColumnDataSource\"},{\"attributes\":{\"data_source\":{\"id\":\"f3707e06-cdcd-4dc7-93f0-d7928675d2d2\",\"type\":\"ColumnDataSource\"},\"glyph\":{\"id\":\"2d604d0c-b6a6-4131-94bd-3de7f67a5d8f\",\"type\":\"Rect\"},\"hover_glyph\":null,\"nonselection_glyph\":null,\"selection_glyph\":null},\"id\":\"642adf43-9c79-4d2e-b0c2-a79499117711\",\"type\":\"GlyphRenderer\"},{\"attributes\":{\"fill_alpha\":{\"field\":\"fill_alpha\"},\"fill_color\":{\"field\":\"color\"},\"height\":{\"field\":\"height\",\"units\":\"data\"},\"line_color\":{\"field\":\"line_color\"},\"width\":{\"field\":\"width\",\"units\":\"data\"},\"x\":{\"field\":\"x\"},\"y\":{\"field\":\"y\"}},\"id\":\"c1081613-890b-4e84-a094-b67fd73e1a7d\",\"type\":\"Rect\"},{\"attributes\":{\"fill_alpha\":{\"field\":\"fill_alpha\"},\"fill_color\":{\"field\":\"color\"},\"height\":{\"field\":\"height\",\"units\":\"data\"},\"line_color\":{\"field\":\"line_color\"},\"width\":{\"field\":\"width\",\"units\":\"data\"},\"x\":{\"field\":\"x\"},\"y\":{\"field\":\"y\"}},\"id\":\"5a39c338-f13c-4d4a-ad30-b27d49cdff5b\",\"type\":\"Rect\"},{\"attributes\":{\"callback\":null,\"column_names\":[\"x\",\"y\",\"width\",\"height\",\"color\",\"fill_alpha\",\"line_color\",\"line_alpha\",\"label\"],\"data\":{\"chart_index\":[{\"group\":\"R\",\"zone\":\"R3\"}],\"color\":[\"#407ee7\"],\"fill_alpha\":[0.8],\"group\":[\"R\"],\"height\":[2.5],\"label\":[{\"group\":\"R\",\"zone\":\"R3\"}],\"line_alpha\":[1.0],\"line_color\":[\"white\"],\"width\":[0.2],\"x\":[\"R3:0.75\"],\"y\":[1.25],\"zone\":[\"R3\"]}},\"id\":\"7d560fd6-afb1-4cbb-a286-eedf9edea829\",\"type\":\"ColumnDataSource\"},{\"attributes\":{\"fill_alpha\":{\"field\":\"fill_alpha\"},\"fill_color\":{\"field\":\"color\"},\"height\":{\"field\":\"height\",\"units\":\"data\"},\"line_color\":{\"field\":\"line_color\"},\"width\":{\"field\":\"width\",\"units\":\"data\"},\"x\":{\"field\":\"x\"},\"y\":{\"field\":\"y\"}},\"id\":\"cd18490e-695f-48dc-81d6-207662a4f0bc\",\"type\":\"Rect\"},{\"attributes\":{\"data_source\":{\"id\":\"aba2a760-db36-4797-88ef-9cb0a3e5ae74\",\"type\":\"ColumnDataSource\"},\"glyph\":{\"id\":\"c1081613-890b-4e84-a094-b67fd73e1a7d\",\"type\":\"Rect\"},\"hover_glyph\":null,\"nonselection_glyph\":null,\"selection_glyph\":null},\"id\":\"20944a9b-8085-47a3-b196-d4378403e1d9\",\"type\":\"GlyphRenderer\"},{\"attributes\":{\"data_source\":{\"id\":\"efa32683-9711-4aa0-9f4d-f4a3819cbbe7\",\"type\":\"ColumnDataSource\"},\"glyph\":{\"id\":\"5a39c338-f13c-4d4a-ad30-b27d49cdff5b\",\"type\":\"Rect\"},\"hover_glyph\":null,\"nonselection_glyph\":null,\"selection_glyph\":null},\"id\":\"ccd27f5f-156b-4653-b9ee-20074819baa7\",\"type\":\"GlyphRenderer\"},{\"attributes\":{\"data_source\":{\"id\":\"6c279c35-bbe1-4f58-bba6-9ed01df5467a\",\"type\":\"ColumnDataSource\"},\"glyph\":{\"id\":\"9e8210e8-141a-45c8-9298-95cca61db54a\",\"type\":\"Rect\"},\"hover_glyph\":null,\"nonselection_glyph\":null,\"selection_glyph\":null},\"id\":\"2abce8a4-269d-4390-9363-d49bcaaf4f9c\",\"type\":\"GlyphRenderer\"},{\"attributes\":{\"fill_alpha\":{\"field\":\"fill_alpha\"},\"fill_color\":{\"field\":\"color\"},\"height\":{\"field\":\"height\",\"units\":\"data\"},\"line_color\":{\"field\":\"line_color\"},\"width\":{\"field\":\"width\",\"units\":\"data\"},\"x\":{\"field\":\"x\"},\"y\":{\"field\":\"y\"}},\"id\":\"5844971b-601a-4ae0-b47d-24e766f80247\",\"type\":\"Rect\"},{\"attributes\":{\"fill_alpha\":{\"field\":\"fill_alpha\"},\"fill_color\":{\"field\":\"color\"},\"height\":{\"field\":\"height\",\"units\":\"data\"},\"line_color\":{\"field\":\"line_color\"},\"width\":{\"field\":\"width\",\"units\":\"data\"},\"x\":{\"field\":\"x\"},\"y\":{\"field\":\"y\"}},\"id\":\"9e8210e8-141a-45c8-9298-95cca61db54a\",\"type\":\"Rect\"},{\"attributes\":{\"callback\":null,\"end\":10.2375},\"id\":\"12d26526-7c17-44ec-82aa-31e02b9fb8ae\",\"type\":\"Range1d\"},{\"attributes\":{\"label\":{\"value\":\"M\"},\"renderers\":[{\"id\":\"09d4212f-09cc-40c1-b4c8-cb46df5b54d6\",\"type\":\"GlyphRenderer\"}]},\"id\":\"c6816978-0f62-4c98-87ef-397bbba95878\",\"type\":\"LegendItem\"},{\"attributes\":{\"fill_alpha\":{\"field\":\"fill_alpha\"},\"fill_color\":{\"field\":\"color\"},\"height\":{\"field\":\"height\",\"units\":\"data\"},\"line_color\":{\"field\":\"line_color\"},\"width\":{\"field\":\"width\",\"units\":\"data\"},\"x\":{\"field\":\"x\"},\"y\":{\"field\":\"y\"}},\"id\":\"5331e2b6-44ee-470b-b204-ad79b6b48a83\",\"type\":\"Rect\"},{\"attributes\":{\"data_source\":{\"id\":\"b1540c86-2daf-4199-b8a1-ed8ca881b083\",\"type\":\"ColumnDataSource\"},\"glyph\":{\"id\":\"5844971b-601a-4ae0-b47d-24e766f80247\",\"type\":\"Rect\"},\"hover_glyph\":null,\"nonselection_glyph\":null,\"selection_glyph\":null},\"id\":\"910a6191-35bd-4797-bb74-0a69c8ce872c\",\"type\":\"GlyphRenderer\"},{\"attributes\":{\"fill_alpha\":{\"field\":\"fill_alpha\"},\"fill_color\":{\"field\":\"color\"},\"height\":{\"field\":\"height\",\"units\":\"data\"},\"line_color\":{\"field\":\"line_color\"},\"width\":{\"field\":\"width\",\"units\":\"data\"},\"x\":{\"field\":\"x\"},\"y\":{\"field\":\"y\"}},\"id\":\"1336cb27-a0dd-47d3-babb-5f2621cf636d\",\"type\":\"Rect\"},{\"attributes\":{\"callback\":null,\"column_names\":[\"x\",\"y\",\"width\",\"height\",\"color\",\"fill_alpha\",\"line_color\",\"line_alpha\",\"label\"],\"data\":{\"chart_index\":[{\"group\":\"M\",\"zone\":\"M4\"}],\"color\":[\"#5ab738\"],\"fill_alpha\":[0.8],\"group\":[\"M\"],\"height\":[2.0],\"label\":[{\"group\":\"M\",\"zone\":\"M4\"}],\"line_alpha\":[1.0],\"line_color\":[\"white\"],\"width\":[0.2],\"x\":[\"M4:0.5\"],\"y\":[1.0],\"zone\":[\"M4\"]}},\"id\":\"b1540c86-2daf-4199-b8a1-ed8ca881b083\",\"type\":\"ColumnDataSource\"},{\"attributes\":{\"label\":{\"value\":\"L\"},\"renderers\":[{\"id\":\"632e6dea-98b6-4400-a596-80563d041390\",\"type\":\"GlyphRenderer\"}]},\"id\":\"81917297-72a0-41bc-a289-1e8a38b03328\",\"type\":\"LegendItem\"},{\"attributes\":{\"data_source\":{\"id\":\"397a6bfa-b54b-4273-8e8b-38febc5dc876\",\"type\":\"ColumnDataSource\"},\"glyph\":{\"id\":\"1336cb27-a0dd-47d3-babb-5f2621cf636d\",\"type\":\"Rect\"},\"hover_glyph\":null,\"nonselection_glyph\":null,\"selection_glyph\":null},\"id\":\"15478fc3-d723-4767-b449-86c59785ed88\",\"type\":\"GlyphRenderer\"},{\"attributes\":{\"callback\":null,\"column_names\":[\"x\",\"y\",\"width\",\"height\",\"color\",\"fill_alpha\",\"line_color\",\"line_alpha\",\"label\"],\"data\":{\"chart_index\":[{\"group\":\"R\",\"zone\":\"R1\"}],\"color\":[\"#407ee7\"],\"fill_alpha\":[0.8],\"group\":[\"R\"],\"height\":[1.0],\"label\":[{\"group\":\"R\",\"zone\":\"R1\"}],\"line_alpha\":[1.0],\"line_color\":[\"white\"],\"width\":[0.2],\"x\":[\"R1:0.75\"],\"y\":[0.5],\"zone\":[\"R1\"]}},\"id\":\"397a6bfa-b54b-4273-8e8b-38febc5dc876\",\"type\":\"ColumnDataSource\"},{\"attributes\":{\"callback\":null,\"column_names\":[\"x\",\"y\",\"width\",\"height\",\"color\",\"fill_alpha\",\"line_color\",\"line_alpha\",\"label\"],\"data\":{\"chart_index\":[{\"group\":\"R\",\"zone\":\"R4\"}],\"color\":[\"#407ee7\"],\"fill_alpha\":[0.8],\"group\":[\"R\"],\"height\":[1.0],\"label\":[{\"group\":\"R\",\"zone\":\"R4\"}],\"line_alpha\":[1.0],\"line_color\":[\"white\"],\"width\":[0.2],\"x\":[\"R4:0.75\"],\"y\":[0.5],\"zone\":[\"R4\"]}},\"id\":\"0abc183c-2dd2-4c18-b48a-dce934e3aad8\",\"type\":\"ColumnDataSource\"},{\"attributes\":{\"callback\":null,\"column_names\":[\"x\",\"y\",\"width\",\"height\",\"color\",\"fill_alpha\",\"line_color\",\"line_alpha\",\"label\"],\"data\":{\"chart_index\":[{\"group\":\"R\",\"zone\":\"R2\"}],\"color\":[\"#407ee7\"],\"fill_alpha\":[0.8],\"group\":[\"R\"],\"height\":[4.5],\"label\":[{\"group\":\"R\",\"zone\":\"R2\"}],\"line_alpha\":[1.0],\"line_color\":[\"white\"],\"width\":[0.2],\"x\":[\"R2:0.75\"],\"y\":[2.25],\"zone\":[\"R2\"]}},\"id\":\"988cb8f6-19d9-454c-a2df-4010a224f4e6\",\"type\":\"ColumnDataSource\"},{\"attributes\":{\"data_source\":{\"id\":\"a3c708ae-4b5c-4f74-9970-662b23b1ce8e\",\"type\":\"ColumnDataSource\"},\"glyph\":{\"id\":\"85e26890-4a0e-40a1-941d-5d52b7715492\",\"type\":\"Rect\"},\"hover_glyph\":null,\"nonselection_glyph\":null,\"selection_glyph\":null},\"id\":\"122026b0-f342-4d21-a814-13c89226f831\",\"type\":\"GlyphRenderer\"},{\"attributes\":{\"callback\":null,\"column_names\":[\"x\",\"y\",\"width\",\"height\",\"color\",\"fill_alpha\",\"line_color\",\"line_alpha\",\"label\"],\"data\":{\"chart_index\":[{\"group\":\"M\",\"zone\":\"M2\"}],\"color\":[\"#5ab738\"],\"fill_alpha\":[0.8],\"group\":[\"M\"],\"height\":[5.166666666666667],\"label\":[{\"group\":\"M\",\"zone\":\"M2\"}],\"line_alpha\":[1.0],\"line_color\":[\"white\"],\"width\":[0.2],\"x\":[\"M2:0.5\"],\"y\":[2.5833333333333335],\"zone\":[\"M2\"]}},\"id\":\"94135a6d-d92b-47d3-a4f6-3204a2dbfcb9\",\"type\":\"ColumnDataSource\"},{\"attributes\":{\"data_source\":{\"id\":\"f0cc7231-6c0c-49d4-8665-7991da68998a\",\"type\":\"ColumnDataSource\"},\"glyph\":{\"id\":\"5331e2b6-44ee-470b-b204-ad79b6b48a83\",\"type\":\"Rect\"},\"hover_glyph\":null,\"nonselection_glyph\":null,\"selection_glyph\":null},\"id\":\"a6400d02-5bcb-4645-a5ed-819e216277a7\",\"type\":\"GlyphRenderer\"},{\"attributes\":{\"fill_alpha\":{\"field\":\"fill_alpha\"},\"fill_color\":{\"field\":\"color\"},\"height\":{\"field\":\"height\",\"units\":\"data\"},\"line_color\":{\"field\":\"line_color\"},\"width\":{\"field\":\"width\",\"units\":\"data\"},\"x\":{\"field\":\"x\"},\"y\":{\"field\":\"y\"}},\"id\":\"02ff5bcd-1ef6-4c63-ae27-4cbfc6021e14\",\"type\":\"Rect\"},{\"attributes\":{\"callback\":null,\"column_names\":[\"x\",\"y\",\"width\",\"height\",\"color\",\"fill_alpha\",\"line_color\",\"line_alpha\",\"label\"],\"data\":{\"chart_index\":[{\"group\":\"M\",\"zone\":\"M3\"}],\"color\":[\"#5ab738\"],\"fill_alpha\":[0.8],\"group\":[\"M\"],\"height\":[4.2],\"label\":[{\"group\":\"M\",\"zone\":\"M3\"}],\"line_alpha\":[1.0],\"line_color\":[\"white\"],\"width\":[0.2],\"x\":[\"M3:0.5\"],\"y\":[2.1],\"zone\":[\"M3\"]}},\"id\":\"4da6308a-c430-42b6-8937-5ff027768d41\",\"type\":\"ColumnDataSource\"},{\"attributes\":{\"fill_alpha\":{\"field\":\"fill_alpha\"},\"fill_color\":{\"field\":\"color\"},\"height\":{\"field\":\"height\",\"units\":\"data\"},\"line_color\":{\"field\":\"line_color\"},\"width\":{\"field\":\"width\",\"units\":\"data\"},\"x\":{\"field\":\"x\"},\"y\":{\"field\":\"y\"}},\"id\":\"255b5f0f-5eef-45b4-8422-252585774e61\",\"type\":\"Rect\"},{\"attributes\":{\"callback\":null,\"column_names\":[\"x\",\"y\",\"width\",\"height\",\"color\",\"fill_alpha\",\"line_color\",\"line_alpha\",\"label\"],\"data\":{\"chart_index\":[{\"group\":\"M\",\"zone\":\"M4\"}],\"color\":[\"#5ab738\"],\"fill_alpha\":[0.8],\"group\":[\"M\"],\"height\":[2.25],\"label\":[{\"group\":\"M\",\"zone\":\"M4\"}],\"line_alpha\":[1.0],\"line_color\":[\"white\"],\"width\":[0.2],\"x\":[\"M4:0.5\"],\"y\":[1.125],\"zone\":[\"M4\"]}},\"id\":\"46cea6dd-4887-4d3e-b1ad-f4a4b0410be5\",\"type\":\"ColumnDataSource\"},{\"attributes\":{\"children\":[{\"id\":\"e898c93b-d9b2-449f-b07c-18a3e29e42ef\",\"subtype\":\"Chart\",\"type\":\"Plot\"},{\"id\":\"d21712ed-1c1d-4899-9046-99481edfb065\",\"subtype\":\"Chart\",\"type\":\"Plot\"},{\"id\":\"8ae379ee-00c4-4106-b9ae-a3cbffa46278\",\"subtype\":\"Chart\",\"type\":\"Plot\"},{\"id\":\"3c9c9055-54a2-4838-8ad5-29401df6e910\",\"subtype\":\"Chart\",\"type\":\"Plot\"}]},\"id\":\"6e91abe3-0c94-4b49-b0d0-1e45a885f769\",\"type\":\"Column\"},{\"attributes\":{\"data_source\":{\"id\":\"94135a6d-d92b-47d3-a4f6-3204a2dbfcb9\",\"type\":\"ColumnDataSource\"},\"glyph\":{\"id\":\"02ff5bcd-1ef6-4c63-ae27-4cbfc6021e14\",\"type\":\"Rect\"},\"hover_glyph\":null,\"nonselection_glyph\":null,\"selection_glyph\":null},\"id\":\"3fdbec7d-5f83-4e49-a0f3-e871b3bf0ae3\",\"type\":\"GlyphRenderer\"},{\"attributes\":{\"data_source\":{\"id\":\"7d560fd6-afb1-4cbb-a286-eedf9edea829\",\"type\":\"ColumnDataSource\"},\"glyph\":{\"id\":\"255b5f0f-5eef-45b4-8422-252585774e61\",\"type\":\"Rect\"},\"hover_glyph\":null,\"nonselection_glyph\":null,\"selection_glyph\":null},\"id\":\"dfed760f-6c81-46bb-825d-722960afa04f\",\"type\":\"GlyphRenderer\"},{\"attributes\":{\"data_source\":{\"id\":\"b951fecc-6e52-4564-8d5b-d014ed74d87c\",\"type\":\"ColumnDataSource\"},\"glyph\":{\"id\":\"77aa2117-1a1d-4ad9-a31d-aaae6d417d34\",\"type\":\"Rect\"},\"hover_glyph\":null,\"nonselection_glyph\":null,\"selection_glyph\":null},\"id\":\"2bf0b904-af48-4f25-b53d-7ce9f2da4d2c\",\"type\":\"GlyphRenderer\"},{\"attributes\":{\"callback\":null,\"column_names\":[\"x\",\"y\",\"width\",\"height\",\"color\",\"fill_alpha\",\"line_color\",\"line_alpha\",\"label\"],\"data\":{\"chart_index\":[{\"group\":\"M\",\"zone\":\"M2\"}],\"color\":[\"#5ab738\"],\"fill_alpha\":[0.8],\"group\":[\"M\"],\"height\":[9.75],\"label\":[{\"group\":\"M\",\"zone\":\"M2\"}],\"line_alpha\":[1.0],\"line_color\":[\"white\"],\"width\":[0.2],\"x\":[\"M2:0.25\"],\"y\":[4.875],\"zone\":[\"M2\"]}},\"id\":\"6c279c35-bbe1-4f58-bba6-9ed01df5467a\",\"type\":\"ColumnDataSource\"},{\"attributes\":{\"fill_alpha\":{\"field\":\"fill_alpha\"},\"fill_color\":{\"field\":\"color\"},\"height\":{\"field\":\"height\",\"units\":\"data\"},\"line_color\":{\"field\":\"line_color\"},\"width\":{\"field\":\"width\",\"units\":\"data\"},\"x\":{\"field\":\"x\"},\"y\":{\"field\":\"y\"}},\"id\":\"1939ea26-8cc5-4f2d-b365-f26551c161f1\",\"type\":\"Rect\"},{\"attributes\":{\"fill_alpha\":{\"field\":\"fill_alpha\"},\"fill_color\":{\"field\":\"color\"},\"height\":{\"field\":\"height\",\"units\":\"data\"},\"line_color\":{\"field\":\"line_color\"},\"width\":{\"field\":\"width\",\"units\":\"data\"},\"x\":{\"field\":\"x\"},\"y\":{\"field\":\"y\"}},\"id\":\"c7527b2c-0528-43cb-bb76-97aa63861595\",\"type\":\"Rect\"},{\"attributes\":{\"callback\":null,\"column_names\":[\"x\",\"y\",\"width\",\"height\",\"color\",\"fill_alpha\",\"line_color\",\"line_alpha\",\"label\"],\"data\":{\"chart_index\":[{\"group\":\"R\",\"zone\":\"R3\"}],\"color\":[\"#407ee7\"],\"fill_alpha\":[0.8],\"group\":[\"R\"],\"height\":[2.75],\"label\":[{\"group\":\"R\",\"zone\":\"R3\"}],\"line_alpha\":[1.0],\"line_color\":[\"white\"],\"width\":[0.2],\"x\":[\"R3:0.75\"],\"y\":[1.375],\"zone\":[\"R3\"]}},\"id\":\"ace62a09-0791-4560-a6da-e1b6dfc4299a\",\"type\":\"ColumnDataSource\"},{\"attributes\":{\"data_source\":{\"id\":\"2e86767c-777c-4d5b-aefd-1eeefbeb267f\",\"type\":\"ColumnDataSource\"},\"glyph\":{\"id\":\"8d8915b4-29ee-4d0c-a2f7-6761be27ff7c\",\"type\":\"Rect\"},\"hover_glyph\":null,\"nonselection_glyph\":null,\"selection_glyph\":null},\"id\":\"c4aa5bf9-6072-459f-be74-97aad8facf7a\",\"type\":\"GlyphRenderer\"},{\"attributes\":{\"data_source\":{\"id\":\"7711b171-331c-4788-85fa-135bceabed42\",\"type\":\"ColumnDataSource\"},\"glyph\":{\"id\":\"fccc6021-6fe5-4283-8ad2-436c21914511\",\"type\":\"Rect\"},\"hover_glyph\":null,\"nonselection_glyph\":null,\"selection_glyph\":null},\"id\":\"b7a04e96-0828-42b9-8d07-439c27efb25d\",\"type\":\"GlyphRenderer\"},{\"attributes\":{\"fill_alpha\":{\"field\":\"fill_alpha\"},\"fill_color\":{\"field\":\"color\"},\"height\":{\"field\":\"height\",\"units\":\"data\"},\"line_color\":{\"field\":\"line_color\"},\"width\":{\"field\":\"width\",\"units\":\"data\"},\"x\":{\"field\":\"x\"},\"y\":{\"field\":\"y\"}},\"id\":\"40adfb3f-cf79-453c-8ec2-084c02116a83\",\"type\":\"Rect\"},{\"attributes\":{\"fill_alpha\":{\"field\":\"fill_alpha\"},\"fill_color\":{\"field\":\"color\"},\"height\":{\"field\":\"height\",\"units\":\"data\"},\"line_color\":{\"field\":\"line_color\"},\"width\":{\"field\":\"width\",\"units\":\"data\"},\"x\":{\"field\":\"x\"},\"y\":{\"field\":\"y\"}},\"id\":\"074df295-c3be-4577-b966-b68458264394\",\"type\":\"Rect\"},{\"attributes\":{\"data_source\":{\"id\":\"4da6308a-c430-42b6-8937-5ff027768d41\",\"type\":\"ColumnDataSource\"},\"glyph\":{\"id\":\"1939ea26-8cc5-4f2d-b365-f26551c161f1\",\"type\":\"Rect\"},\"hover_glyph\":null,\"nonselection_glyph\":null,\"selection_glyph\":null},\"id\":\"8cfcade9-6be6-4337-a808-a32421edf0e2\",\"type\":\"GlyphRenderer\"},{\"attributes\":{\"callback\":null,\"column_names\":[\"x\",\"y\",\"width\",\"height\",\"color\",\"fill_alpha\",\"line_color\",\"line_alpha\",\"label\"],\"data\":{\"chart_index\":[{\"group\":\"L\",\"zone\":\"L3\"}],\"color\":[\"#f22c40\"],\"fill_alpha\":[0.8],\"group\":[\"L\"],\"height\":[3.0],\"label\":[{\"group\":\"L\",\"zone\":\"L3\"}],\"line_alpha\":[1.0],\"line_color\":[\"white\"],\"width\":[0.2],\"x\":[\"L3:0.5\"],\"y\":[1.5],\"zone\":[\"L3\"]}},\"id\":\"8159a585-4498-45c0-8567-1f64b998f97c\",\"type\":\"ColumnDataSource\"},{\"attributes\":{\"data_source\":{\"id\":\"46cea6dd-4887-4d3e-b1ad-f4a4b0410be5\",\"type\":\"ColumnDataSource\"},\"glyph\":{\"id\":\"e4ee5c7c-86ec-46f5-bfa2-2ce0b4f035b6\",\"type\":\"Rect\"},\"hover_glyph\":null,\"nonselection_glyph\":null,\"selection_glyph\":null},\"id\":\"e535e4c8-0d00-41fd-a902-1551e541297a\",\"type\":\"GlyphRenderer\"},{\"attributes\":{\"data_source\":{\"id\":\"46c076bf-d7b2-4fa6-a181-ecb3a22c0916\",\"type\":\"ColumnDataSource\"},\"glyph\":{\"id\":\"c7527b2c-0528-43cb-bb76-97aa63861595\",\"type\":\"Rect\"},\"hover_glyph\":null,\"nonselection_glyph\":null,\"selection_glyph\":null},\"id\":\"4a784298-2c38-4fa8-8404-0eeae78a4628\",\"type\":\"GlyphRenderer\"},{\"attributes\":{\"axis_label\":\"Zone\",\"formatter\":{\"id\":\"1aad32a9-723c-4983-a092-34bea2e205be\",\"type\":\"CategoricalTickFormatter\"},\"major_label_orientation\":0.7853981633974483,\"plot\":{\"id\":\"8ae379ee-00c4-4106-b9ae-a3cbffa46278\",\"subtype\":\"Chart\",\"type\":\"Plot\"},\"ticker\":{\"id\":\"0a1437e7-e12f-43cf-89c4-40037d5e812f\",\"type\":\"CategoricalTicker\"}},\"id\":\"4857b818-9a3f-491e-8661-d6ebde9c7836\",\"type\":\"CategoricalAxis\"},{\"attributes\":{\"callback\":null,\"column_names\":[\"x\",\"y\",\"width\",\"height\",\"color\",\"fill_alpha\",\"line_color\",\"line_alpha\",\"label\"],\"data\":{\"chart_index\":[{\"group\":\"M\",\"zone\":\"M4\"}],\"color\":[\"#5ab738\"],\"fill_alpha\":[0.8],\"group\":[\"M\"],\"height\":[2.0],\"label\":[{\"group\":\"M\",\"zone\":\"M4\"}],\"line_alpha\":[1.0],\"line_color\":[\"white\"],\"width\":[0.2],\"x\":[\"M4:0.25\"],\"y\":[1.0],\"zone\":[\"M4\"]}},\"id\":\"46c076bf-d7b2-4fa6-a181-ecb3a22c0916\",\"type\":\"ColumnDataSource\"},{\"attributes\":{},\"id\":\"87aacc14-02d9-4244-98a0-907ea24d1578\",\"type\":\"ToolEvents\"},{\"attributes\":{\"fill_alpha\":{\"field\":\"fill_alpha\"},\"fill_color\":{\"field\":\"color\"},\"height\":{\"field\":\"height\",\"units\":\"data\"},\"line_color\":{\"field\":\"line_color\"},\"width\":{\"field\":\"width\",\"units\":\"data\"},\"x\":{\"field\":\"x\"},\"y\":{\"field\":\"y\"}},\"id\":\"69948cda-efd4-4a8f-851d-e9404a5442a8\",\"type\":\"Rect\"},{\"attributes\":{\"callback\":null,\"column_names\":[\"x\",\"y\",\"width\",\"height\",\"color\",\"fill_alpha\",\"line_color\",\"line_alpha\",\"label\"],\"data\":{\"chart_index\":[{\"group\":\"L\",\"zone\":\"L4\"}],\"color\":[\"#f22c40\"],\"fill_alpha\":[0.8],\"group\":[\"L\"],\"height\":[1.0],\"label\":[{\"group\":\"L\",\"zone\":\"L4\"}],\"line_alpha\":[1.0],\"line_color\":[\"white\"],\"width\":[0.2],\"x\":[\"L4:0.5\"],\"y\":[0.5],\"zone\":[\"L4\"]}},\"id\":\"f3707e06-cdcd-4dc7-93f0-d7928675d2d2\",\"type\":\"ColumnDataSource\"},{\"attributes\":{\"fill_alpha\":{\"field\":\"fill_alpha\"},\"fill_color\":{\"field\":\"color\"},\"height\":{\"field\":\"height\",\"units\":\"data\"},\"line_color\":{\"field\":\"line_color\"},\"width\":{\"field\":\"width\",\"units\":\"data\"},\"x\":{\"field\":\"x\"},\"y\":{\"field\":\"y\"}},\"id\":\"9de67248-7afe-4de5-80e2-f69ffb759c9a\",\"type\":\"Rect\"},{\"attributes\":{\"callback\":null,\"column_names\":[\"x\",\"y\",\"width\",\"height\",\"color\",\"fill_alpha\",\"line_color\",\"line_alpha\",\"label\"],\"data\":{\"chart_index\":[{\"group\":\"R\",\"zone\":\"R4\"}],\"color\":[\"#407ee7\"],\"fill_alpha\":[0.8],\"group\":[\"R\"],\"height\":[1.0],\"label\":[{\"group\":\"R\",\"zone\":\"R4\"}],\"line_alpha\":[1.0],\"line_color\":[\"white\"],\"width\":[0.2],\"x\":[\"R4:0.75\"],\"y\":[0.5],\"zone\":[\"R4\"]}},\"id\":\"7711b171-331c-4788-85fa-135bceabed42\",\"type\":\"ColumnDataSource\"},{\"attributes\":{\"callback\":null,\"column_names\":[\"x\",\"y\",\"width\",\"height\",\"color\",\"fill_alpha\",\"line_color\",\"line_alpha\",\"label\"],\"data\":{\"chart_index\":[{\"group\":\"L\",\"zone\":\"L1\"}],\"color\":[\"#f22c40\"],\"fill_alpha\":[0.8],\"group\":[\"L\"],\"height\":[1.0],\"label\":[{\"group\":\"L\",\"zone\":\"L1\"}],\"line_alpha\":[1.0],\"line_color\":[\"white\"],\"width\":[0.2],\"x\":[\"L1:0.75\"],\"y\":[0.5],\"zone\":[\"L1\"]}},\"id\":\"cb72a19b-3438-434b-b905-b81426f48be0\",\"type\":\"ColumnDataSource\"},{\"attributes\":{\"callback\":null,\"column_names\":[\"x\",\"y\",\"width\",\"height\",\"color\",\"fill_alpha\",\"line_color\",\"line_alpha\",\"label\"],\"data\":{\"chart_index\":[{\"group\":\"R\",\"zone\":\"R2\"}],\"color\":[\"#407ee7\"],\"fill_alpha\":[0.8],\"group\":[\"R\"],\"height\":[3.5],\"label\":[{\"group\":\"R\",\"zone\":\"R2\"}],\"line_alpha\":[1.0],\"line_color\":[\"white\"],\"width\":[0.2],\"x\":[\"R2:0.75\"],\"y\":[1.75],\"zone\":[\"R2\"]}},\"id\":\"6090b507-8944-48db-90c8-0783445bd335\",\"type\":\"ColumnDataSource\"},{\"attributes\":{\"callback\":null,\"end\":3.675},\"id\":\"998cbdce-28c3-49dd-9bf8-395c4d5ded52\",\"type\":\"Range1d\"},{\"attributes\":{\"callback\":null,\"column_names\":[\"x\",\"y\",\"width\",\"height\",\"color\",\"fill_alpha\",\"line_color\",\"line_alpha\",\"label\"],\"data\":{\"chart_index\":[{\"group\":\"L\",\"zone\":\"L2\"}],\"color\":[\"#f22c40\"],\"fill_alpha\":[0.8],\"group\":[\"L\"],\"height\":[6.0],\"label\":[{\"group\":\"L\",\"zone\":\"L2\"}],\"line_alpha\":[1.0],\"line_color\":[\"white\"],\"width\":[0.2],\"x\":[\"L2:0.5\"],\"y\":[3.0],\"zone\":[\"L2\"]}},\"id\":\"60fd9220-9622-4de7-89e0-361bfbee9944\",\"type\":\"ColumnDataSource\"},{\"attributes\":{\"fill_alpha\":{\"field\":\"fill_alpha\"},\"fill_color\":{\"field\":\"color\"},\"height\":{\"field\":\"height\",\"units\":\"data\"},\"line_color\":{\"field\":\"line_color\"},\"width\":{\"field\":\"width\",\"units\":\"data\"},\"x\":{\"field\":\"x\"},\"y\":{\"field\":\"y\"}},\"id\":\"8d8915b4-29ee-4d0c-a2f7-6761be27ff7c\",\"type\":\"Rect\"},{\"attributes\":{\"data_source\":{\"id\":\"315e1ae2-592b-4d20-8474-f3be26560fb6\",\"type\":\"ColumnDataSource\"},\"glyph\":{\"id\":\"9de67248-7afe-4de5-80e2-f69ffb759c9a\",\"type\":\"Rect\"},\"hover_glyph\":null,\"nonselection_glyph\":null,\"selection_glyph\":null},\"id\":\"cc22f4bc-7cf3-4eb2-80c5-807c683caa07\",\"type\":\"GlyphRenderer\"},{\"attributes\":{\"callback\":null,\"column_names\":[\"x\",\"y\",\"width\",\"height\",\"color\",\"fill_alpha\",\"line_color\",\"line_alpha\",\"label\"],\"data\":{\"chart_index\":[{\"group\":\"M\",\"zone\":\"M3\"}],\"color\":[\"#5ab738\"],\"fill_alpha\":[0.8],\"group\":[\"M\"],\"height\":[3.25],\"label\":[{\"group\":\"M\",\"zone\":\"M3\"}],\"line_alpha\":[1.0],\"line_color\":[\"white\"],\"width\":[0.2],\"x\":[\"M3:0.25\"],\"y\":[1.625],\"zone\":[\"M3\"]}},\"id\":\"18674c42-6167-4a9c-81aa-88aa92de4e48\",\"type\":\"ColumnDataSource\"},{\"attributes\":{\"below\":[{\"id\":\"f7da67a3-7519-4938-a2eb-9af8fcae0b3a\",\"type\":\"CategoricalAxis\"}],\"css_classes\":null,\"left\":[{\"id\":\"33db7e1a-1895-4c89-a1f0-8b1203761f01\",\"type\":\"LinearAxis\"}],\"renderers\":[{\"id\":\"f57ce265-a357-4d9a-9f20-86ccd9bb0190\",\"type\":\"BoxAnnotation\"},{\"id\":\"632e6dea-98b6-4400-a596-80563d041390\",\"type\":\"GlyphRenderer\"},{\"id\":\"c4aa5bf9-6072-459f-be74-97aad8facf7a\",\"type\":\"GlyphRenderer\"},{\"id\":\"751b4299-072d-4f66-9d04-ef4a9f0729b1\",\"type\":\"GlyphRenderer\"},{\"id\":\"3417bdb5-1197-48ef-b763-6f4c1c484c10\",\"type\":\"GlyphRenderer\"},{\"id\":\"d987c065-2b75-437e-a462-c765a97b1f5e\",\"type\":\"GlyphRenderer\"},{\"id\":\"ccd27f5f-156b-4653-b9ee-20074819baa7\",\"type\":\"GlyphRenderer\"},{\"id\":\"7ee2739f-2995-45d5-9ca8-c8574b4dd6c2\",\"type\":\"GlyphRenderer\"},{\"id\":\"910a6191-35bd-4797-bb74-0a69c8ce872c\",\"type\":\"GlyphRenderer\"},{\"id\":\"52dcbad9-222c-49d8-8aeb-4647bab82443\",\"type\":\"GlyphRenderer\"},{\"id\":\"e9e4b925-a522-4171-9fb4-cb10d31bf906\",\"type\":\"GlyphRenderer\"},{\"id\":\"fcf5588b-187a-4e4e-ac4e-f7bc89473a92\",\"type\":\"GlyphRenderer\"},{\"id\":\"90a228ed-8240-48d2-9eb7-79f9912efc89\",\"type\":\"GlyphRenderer\"},{\"id\":\"4390e958-7564-4af0-a82c-6bfa44156be4\",\"type\":\"Legend\"},{\"id\":\"f7da67a3-7519-4938-a2eb-9af8fcae0b3a\",\"type\":\"CategoricalAxis\"},{\"id\":\"33db7e1a-1895-4c89-a1f0-8b1203761f01\",\"type\":\"LinearAxis\"},{\"id\":\"e978ecbd-cd3f-4707-b3d9-a8da6c33d417\",\"type\":\"Grid\"}],\"title\":{\"id\":\"31779f8d-b9c2-4015-9346-eef296f31b2c\",\"type\":\"Title\"},\"tool_events\":{\"id\":\"87aacc14-02d9-4244-98a0-907ea24d1578\",\"type\":\"ToolEvents\"},\"toolbar\":{\"id\":\"3f34beee-f7ad-4513-872b-5fb2e908f9cb\",\"type\":\"Toolbar\"},\"x_mapper_type\":\"auto\",\"x_range\":{\"id\":\"52d178e1-55c2-4a1e-bfc6-7fc363c97fa9\",\"type\":\"FactorRange\"},\"y_mapper_type\":\"auto\",\"y_range\":{\"id\":\"998cbdce-28c3-49dd-9bf8-395c4d5ded52\",\"type\":\"Range1d\"}},\"id\":\"3c9c9055-54a2-4838-8ad5-29401df6e910\",\"subtype\":\"Chart\",\"type\":\"Plot\"},{\"attributes\":{},\"id\":\"fdfae8c2-acad-46ba-9db1-5d3c6754ff46\",\"type\":\"ToolEvents\"},{\"attributes\":{\"fill_alpha\":{\"field\":\"fill_alpha\"},\"fill_color\":{\"field\":\"color\"},\"height\":{\"field\":\"height\",\"units\":\"data\"},\"line_color\":{\"field\":\"line_color\"},\"width\":{\"field\":\"width\",\"units\":\"data\"},\"x\":{\"field\":\"x\"},\"y\":{\"field\":\"y\"}},\"id\":\"ca10eff6-1370-46f6-aceb-3e0181728c24\",\"type\":\"Rect\"},{\"attributes\":{\"callback\":null,\"column_names\":[\"x\",\"y\",\"width\",\"height\",\"color\",\"fill_alpha\",\"line_color\",\"line_alpha\",\"label\"],\"data\":{\"chart_index\":[{\"group\":\"R\",\"zone\":\"R1\"}],\"color\":[\"#407ee7\"],\"fill_alpha\":[0.8],\"group\":[\"R\"],\"height\":[1.0],\"label\":[{\"group\":\"R\",\"zone\":\"R1\"}],\"line_alpha\":[1.0],\"line_color\":[\"white\"],\"width\":[0.2],\"x\":[\"R1:0.75\"],\"y\":[0.5],\"zone\":[\"R1\"]}},\"id\":\"315e1ae2-592b-4d20-8474-f3be26560fb6\",\"type\":\"ColumnDataSource\"},{\"attributes\":{\"data_source\":{\"id\":\"13da0dbf-afd6-48ac-86b2-43d70d78483b\",\"type\":\"ColumnDataSource\"},\"glyph\":{\"id\":\"228e8dec-3477-4b8f-a3f6-a7cb39aeb458\",\"type\":\"Rect\"},\"hover_glyph\":null,\"nonselection_glyph\":null,\"selection_glyph\":null},\"id\":\"6a2c9b06-bfe7-4ecb-af99-4f173f248d27\",\"type\":\"GlyphRenderer\"},{\"attributes\":{\"below\":[{\"id\":\"3bd67f38-b421-4413-beee-5ad60ed33db8\",\"type\":\"CategoricalAxis\"}],\"css_classes\":null,\"left\":[{\"id\":\"f735a774-9de9-4731-b673-71fda1a3aeaa\",\"type\":\"LinearAxis\"}],\"renderers\":[{\"id\":\"fb1fe28f-ffc1-41f3-a8b7-55d251968868\",\"type\":\"BoxAnnotation\"},{\"id\":\"09d4212f-09cc-40c1-b4c8-cb46df5b54d6\",\"type\":\"GlyphRenderer\"},{\"id\":\"c97be6b2-c6c5-4893-a667-df0ad6b9b1ce\",\"type\":\"GlyphRenderer\"},{\"id\":\"c45e1bcf-4825-43e4-85de-d9a8ddb66bfd\",\"type\":\"GlyphRenderer\"},{\"id\":\"642adf43-9c79-4d2e-b0c2-a79499117711\",\"type\":\"GlyphRenderer\"},{\"id\":\"20944a9b-8085-47a3-b196-d4378403e1d9\",\"type\":\"GlyphRenderer\"},{\"id\":\"2abce8a4-269d-4390-9363-d49bcaaf4f9c\",\"type\":\"GlyphRenderer\"},{\"id\":\"15478fc3-d723-4767-b449-86c59785ed88\",\"type\":\"GlyphRenderer\"},{\"id\":\"a6400d02-5bcb-4645-a5ed-819e216277a7\",\"type\":\"GlyphRenderer\"},{\"id\":\"dfed760f-6c81-46bb-825d-722960afa04f\",\"type\":\"GlyphRenderer\"},{\"id\":\"4a784298-2c38-4fa8-8404-0eeae78a4628\",\"type\":\"GlyphRenderer\"},{\"id\":\"1e35cbb9-aa46-4edf-a104-646890cc6fe4\",\"type\":\"Legend\"},{\"id\":\"3bd67f38-b421-4413-beee-5ad60ed33db8\",\"type\":\"CategoricalAxis\"},{\"id\":\"f735a774-9de9-4731-b673-71fda1a3aeaa\",\"type\":\"LinearAxis\"},{\"id\":\"77386064-d488-4921-a548-3ae800be4861\",\"type\":\"Grid\"}],\"title\":{\"id\":\"d18e5687-f1e4-4279-ac30-3a2d1bb3ebb0\",\"type\":\"Title\"},\"tool_events\":{\"id\":\"fdfae8c2-acad-46ba-9db1-5d3c6754ff46\",\"type\":\"ToolEvents\"},\"toolbar\":{\"id\":\"c4687515-58a3-4496-9ec2-775a1cd2ab55\",\"type\":\"Toolbar\"},\"x_mapper_type\":\"auto\",\"x_range\":{\"id\":\"44e5e42b-2649-4de2-98fd-895c7a767d43\",\"type\":\"FactorRange\"},\"y_mapper_type\":\"auto\",\"y_range\":{\"id\":\"12d26526-7c17-44ec-82aa-31e02b9fb8ae\",\"type\":\"Range1d\"}},\"id\":\"e898c93b-d9b2-449f-b07c-18a3e29e42ef\",\"subtype\":\"Chart\",\"type\":\"Plot\"},{\"attributes\":{\"axis_label\":\"Mean( Count )\",\"formatter\":{\"id\":\"11cb3911-8e99-4cba-8eb2-04c5a8645729\",\"type\":\"BasicTickFormatter\"},\"plot\":{\"id\":\"e898c93b-d9b2-449f-b07c-18a3e29e42ef\",\"subtype\":\"Chart\",\"type\":\"Plot\"},\"ticker\":{\"id\":\"2893e5d8-097a-4deb-ac56-e632089f8ad4\",\"type\":\"BasicTicker\"}},\"id\":\"f735a774-9de9-4731-b673-71fda1a3aeaa\",\"type\":\"LinearAxis\"},{\"attributes\":{\"data_source\":{\"id\":\"988cb8f6-19d9-454c-a2df-4010a224f4e6\",\"type\":\"ColumnDataSource\"},\"glyph\":{\"id\":\"ca10eff6-1370-46f6-aceb-3e0181728c24\",\"type\":\"Rect\"},\"hover_glyph\":null,\"nonselection_glyph\":null,\"selection_glyph\":null},\"id\":\"27b38127-5676-4cde-b39d-3cd354647c0c\",\"type\":\"GlyphRenderer\"},{\"attributes\":{\"dimension\":1,\"plot\":{\"id\":\"e898c93b-d9b2-449f-b07c-18a3e29e42ef\",\"subtype\":\"Chart\",\"type\":\"Plot\"},\"ticker\":{\"id\":\"2893e5d8-097a-4deb-ac56-e632089f8ad4\",\"type\":\"BasicTicker\"}},\"id\":\"77386064-d488-4921-a548-3ae800be4861\",\"type\":\"Grid\"},{\"attributes\":{\"data_source\":{\"id\":\"ccc7809b-a639-4cfc-8c93-613c4bc7fa5c\",\"type\":\"ColumnDataSource\"},\"glyph\":{\"id\":\"d88d0559-f01b-45f1-b288-4b3bd6ff8c9e\",\"type\":\"Rect\"},\"hover_glyph\":null,\"nonselection_glyph\":null,\"selection_glyph\":null},\"id\":\"7ee2739f-2995-45d5-9ca8-c8574b4dd6c2\",\"type\":\"GlyphRenderer\"},{\"attributes\":{\"active_drag\":\"auto\",\"active_scroll\":\"auto\",\"active_tap\":\"auto\",\"tools\":[{\"id\":\"a6cbd925-bb7c-4df8-a3d2-11328513eb14\",\"type\":\"PanTool\"},{\"id\":\"925b1e4a-4310-474c-acb1-a054f5ec5eda\",\"type\":\"WheelZoomTool\"},{\"id\":\"88e2a4d3-f2e7-4874-9ed6-c3d55e08c0c2\",\"type\":\"BoxZoomTool\"},{\"id\":\"b3d634cf-d166-4d15-9e1b-b89f6498f1ee\",\"type\":\"SaveTool\"},{\"id\":\"b8a74316-4bfa-4a1c-b772-366638092eee\",\"type\":\"ResetTool\"},{\"id\":\"f6261ab9-5f26-4c3c-8ec2-c1bd24177d40\",\"type\":\"HelpTool\"}]},\"id\":\"61da249b-ffd0-4f1c-9c79-7125da645c4a\",\"type\":\"Toolbar\"},{\"attributes\":{\"data_source\":{\"id\":\"143954a6-234d-4de9-aeda-3d111a7e1d8c\",\"type\":\"ColumnDataSource\"},\"glyph\":{\"id\":\"074df295-c3be-4577-b966-b68458264394\",\"type\":\"Rect\"},\"hover_glyph\":null,\"nonselection_glyph\":null,\"selection_glyph\":null},\"id\":\"632e6dea-98b6-4400-a596-80563d041390\",\"type\":\"GlyphRenderer\"},{\"attributes\":{\"bottom_units\":\"screen\",\"fill_alpha\":{\"value\":0.5},\"fill_color\":{\"value\":\"lightgrey\"},\"left_units\":\"screen\",\"level\":\"overlay\",\"line_alpha\":{\"value\":1.0},\"line_color\":{\"value\":\"black\"},\"line_dash\":[4,4],\"line_width\":{\"value\":2},\"plot\":null,\"render_mode\":\"css\",\"right_units\":\"screen\",\"top_units\":\"screen\"},\"id\":\"680e0a24-ea6a-473b-bb86-3e1e9820a3c1\",\"type\":\"BoxAnnotation\"},{\"attributes\":{},\"id\":\"2893e5d8-097a-4deb-ac56-e632089f8ad4\",\"type\":\"BasicTicker\"},{\"attributes\":{\"fill_alpha\":{\"field\":\"fill_alpha\"},\"fill_color\":{\"field\":\"color\"},\"height\":{\"field\":\"height\",\"units\":\"data\"},\"line_color\":{\"field\":\"line_color\"},\"width\":{\"field\":\"width\",\"units\":\"data\"},\"x\":{\"field\":\"x\"},\"y\":{\"field\":\"y\"}},\"id\":\"228e8dec-3477-4b8f-a3f6-a7cb39aeb458\",\"type\":\"Rect\"},{\"attributes\":{\"fill_alpha\":{\"field\":\"fill_alpha\"},\"fill_color\":{\"field\":\"color\"},\"height\":{\"field\":\"height\",\"units\":\"data\"},\"line_color\":{\"field\":\"line_color\"},\"width\":{\"field\":\"width\",\"units\":\"data\"},\"x\":{\"field\":\"x\"},\"y\":{\"field\":\"y\"}},\"id\":\"ab4cd2a7-f082-4bce-9f51-9dac06d1454a\",\"type\":\"Rect\"},{\"attributes\":{\"plot\":null,\"text\":\"NEC - Cambuur\"},\"id\":\"2cc3b556-6de4-4995-9793-a0b211cc8a00\",\"type\":\"Title\"},{\"attributes\":{\"callback\":null,\"column_names\":[\"x\",\"y\",\"width\",\"height\",\"color\",\"fill_alpha\",\"line_color\",\"line_alpha\",\"label\"],\"data\":{\"chart_index\":[{\"group\":\"R\",\"zone\":\"R3\"}],\"color\":[\"#407ee7\"],\"fill_alpha\":[0.8],\"group\":[\"R\"],\"height\":[3.3333333333333335],\"label\":[{\"group\":\"R\",\"zone\":\"R3\"}],\"line_alpha\":[1.0],\"line_color\":[\"white\"],\"width\":[0.2],\"x\":[\"R3:0.75\"],\"y\":[1.6666666666666667],\"zone\":[\"R3\"]}},\"id\":\"599a88e3-b444-4266-af7a-a24ebb6af730\",\"type\":\"ColumnDataSource\"},{\"attributes\":{\"active_drag\":\"auto\",\"active_scroll\":\"auto\",\"active_tap\":\"auto\",\"tools\":[{\"id\":\"1fd72898-129d-4e0f-a9d9-71a8e35c03a5\",\"type\":\"PanTool\"},{\"id\":\"8e5f711c-68d5-4392-818c-61088618d169\",\"type\":\"WheelZoomTool\"},{\"id\":\"939a81c4-2802-488b-989f-4b1ee26d222b\",\"type\":\"BoxZoomTool\"},{\"id\":\"2d9bd5eb-bdc6-41ae-81df-6f18aa94a97b\",\"type\":\"SaveTool\"},{\"id\":\"ed6cb9b3-6af1-405a-a841-dc2c907f1167\",\"type\":\"ResetTool\"},{\"id\":\"32490c47-ea9d-488f-a008-234dfbff8dc1\",\"type\":\"HelpTool\"}]},\"id\":\"3f34beee-f7ad-4513-872b-5fb2e908f9cb\",\"type\":\"Toolbar\"},{\"attributes\":{\"callback\":null,\"column_names\":[\"x\",\"y\",\"width\",\"height\",\"color\",\"fill_alpha\",\"line_color\",\"line_alpha\",\"label\"],\"data\":{\"chart_index\":[{\"group\":\"M\",\"zone\":\"M1\"}],\"color\":[\"#5ab738\"],\"fill_alpha\":[0.8],\"group\":[\"M\"],\"height\":[2.3333333333333335],\"label\":[{\"group\":\"M\",\"zone\":\"M1\"}],\"line_alpha\":[1.0],\"line_color\":[\"white\"],\"width\":[0.2],\"x\":[\"M1:0.25\"],\"y\":[1.1666666666666667],\"zone\":[\"M1\"]}},\"id\":\"aba2a760-db36-4797-88ef-9cb0a3e5ae74\",\"type\":\"ColumnDataSource\"},{\"attributes\":{\"bottom_units\":\"screen\",\"fill_alpha\":{\"value\":0.5},\"fill_color\":{\"value\":\"lightgrey\"},\"left_units\":\"screen\",\"level\":\"overlay\",\"line_alpha\":{\"value\":1.0},\"line_color\":{\"value\":\"black\"},\"line_dash\":[4,4],\"line_width\":{\"value\":2},\"plot\":null,\"render_mode\":\"css\",\"right_units\":\"screen\",\"top_units\":\"screen\"},\"id\":\"f57ce265-a357-4d9a-9f20-86ccd9bb0190\",\"type\":\"BoxAnnotation\"},{\"attributes\":{\"plot\":{\"id\":\"d21712ed-1c1d-4899-9046-99481edfb065\",\"subtype\":\"Chart\",\"type\":\"Plot\"}},\"id\":\"a6cbd925-bb7c-4df8-a3d2-11328513eb14\",\"type\":\"PanTool\"},{\"attributes\":{\"plot\":null,\"text\":\"NEC - Roda JC\"},\"id\":\"31779f8d-b9c2-4015-9346-eef296f31b2c\",\"type\":\"Title\"},{\"attributes\":{\"plot\":{\"id\":\"d21712ed-1c1d-4899-9046-99481edfb065\",\"subtype\":\"Chart\",\"type\":\"Plot\"}},\"id\":\"925b1e4a-4310-474c-acb1-a054f5ec5eda\",\"type\":\"WheelZoomTool\"},{\"attributes\":{\"overlay\":{\"id\":\"680e0a24-ea6a-473b-bb86-3e1e9820a3c1\",\"type\":\"BoxAnnotation\"},\"plot\":{\"id\":\"d21712ed-1c1d-4899-9046-99481edfb065\",\"subtype\":\"Chart\",\"type\":\"Plot\"}},\"id\":\"88e2a4d3-f2e7-4874-9ed6-c3d55e08c0c2\",\"type\":\"BoxZoomTool\"},{\"attributes\":{\"label\":{\"value\":\"M\"},\"renderers\":[{\"id\":\"122026b0-f342-4d21-a814-13c89226f831\",\"type\":\"GlyphRenderer\"}]},\"id\":\"ccbdd937-bbe1-45f8-b54a-17a8b123931f\",\"type\":\"LegendItem\"},{\"attributes\":{\"plot\":{\"id\":\"3c9c9055-54a2-4838-8ad5-29401df6e910\",\"subtype\":\"Chart\",\"type\":\"Plot\"}},\"id\":\"1fd72898-129d-4e0f-a9d9-71a8e35c03a5\",\"type\":\"PanTool\"},{\"attributes\":{\"data_source\":{\"id\":\"ace62a09-0791-4560-a6da-e1b6dfc4299a\",\"type\":\"ColumnDataSource\"},\"glyph\":{\"id\":\"ab4cd2a7-f082-4bce-9f51-9dac06d1454a\",\"type\":\"Rect\"},\"hover_glyph\":null,\"nonselection_glyph\":null,\"selection_glyph\":null},\"id\":\"027f6da4-d903-4362-8e4b-71f580ab1fe3\",\"type\":\"GlyphRenderer\"},{\"attributes\":{\"plot\":{\"id\":\"d21712ed-1c1d-4899-9046-99481edfb065\",\"subtype\":\"Chart\",\"type\":\"Plot\"}},\"id\":\"b3d634cf-d166-4d15-9e1b-b89f6498f1ee\",\"type\":\"SaveTool\"},{\"attributes\":{\"active_drag\":\"auto\",\"active_scroll\":\"auto\",\"active_tap\":\"auto\",\"tools\":[{\"id\":\"22102e8b-0963-40d5-a945-6cf44ced1879\",\"type\":\"PanTool\"},{\"id\":\"14cb43f0-d6b8-4bd0-a103-18b86e9ca6ec\",\"type\":\"WheelZoomTool\"},{\"id\":\"77741c2b-0bda-45e3-9f59-733b1cec09eb\",\"type\":\"BoxZoomTool\"},{\"id\":\"38405cd2-bccd-48bb-a46f-8380e50d56ea\",\"type\":\"SaveTool\"},{\"id\":\"78de3a8d-66f5-4da9-83ef-a3f4780cd9da\",\"type\":\"ResetTool\"},{\"id\":\"e66c7909-d936-4c74-b0db-152b237c79f5\",\"type\":\"HelpTool\"}]},\"id\":\"c4687515-58a3-4496-9ec2-775a1cd2ab55\",\"type\":\"Toolbar\"},{\"attributes\":{\"items\":[{\"id\":\"00546b9b-3c88-4ef6-8818-6c73d9210495\",\"type\":\"LegendItem\"},{\"id\":\"ccbdd937-bbe1-45f8-b54a-17a8b123931f\",\"type\":\"LegendItem\"},{\"id\":\"c456b755-c1fa-4b8c-8855-ee1cee6cd8cc\",\"type\":\"LegendItem\"}],\"location\":\"top_left\",\"plot\":{\"id\":\"8ae379ee-00c4-4106-b9ae-a3cbffa46278\",\"subtype\":\"Chart\",\"type\":\"Plot\"}},\"id\":\"8d7716bc-ae6e-431f-a0d4-d8fb9f024658\",\"type\":\"Legend\"},{\"attributes\":{\"plot\":{\"id\":\"d21712ed-1c1d-4899-9046-99481edfb065\",\"subtype\":\"Chart\",\"type\":\"Plot\"}},\"id\":\"b8a74316-4bfa-4a1c-b772-366638092eee\",\"type\":\"ResetTool\"},{\"attributes\":{\"bottom_units\":\"screen\",\"fill_alpha\":{\"value\":0.5},\"fill_color\":{\"value\":\"lightgrey\"},\"left_units\":\"screen\",\"level\":\"overlay\",\"line_alpha\":{\"value\":1.0},\"line_color\":{\"value\":\"black\"},\"line_dash\":[4,4],\"line_width\":{\"value\":2},\"plot\":null,\"render_mode\":\"css\",\"right_units\":\"screen\",\"top_units\":\"screen\"},\"id\":\"fb1fe28f-ffc1-41f3-a8b7-55d251968868\",\"type\":\"BoxAnnotation\"},{\"attributes\":{\"plot\":{\"id\":\"d21712ed-1c1d-4899-9046-99481edfb065\",\"subtype\":\"Chart\",\"type\":\"Plot\"}},\"id\":\"f6261ab9-5f26-4c3c-8ec2-c1bd24177d40\",\"type\":\"HelpTool\"},{\"attributes\":{\"label\":{\"value\":\"L\"},\"renderers\":[{\"id\":\"e76345f3-cc6d-4e2c-8ea1-dfd6709f0a62\",\"type\":\"GlyphRenderer\"}]},\"id\":\"00546b9b-3c88-4ef6-8818-6c73d9210495\",\"type\":\"LegendItem\"},{\"attributes\":{\"plot\":{\"id\":\"3c9c9055-54a2-4838-8ad5-29401df6e910\",\"subtype\":\"Chart\",\"type\":\"Plot\"}},\"id\":\"8e5f711c-68d5-4392-818c-61088618d169\",\"type\":\"WheelZoomTool\"},{\"attributes\":{\"overlay\":{\"id\":\"f57ce265-a357-4d9a-9f20-86ccd9bb0190\",\"type\":\"BoxAnnotation\"},\"plot\":{\"id\":\"3c9c9055-54a2-4838-8ad5-29401df6e910\",\"subtype\":\"Chart\",\"type\":\"Plot\"}},\"id\":\"939a81c4-2802-488b-989f-4b1ee26d222b\",\"type\":\"BoxZoomTool\"},{\"attributes\":{\"plot\":null,\"text\":\"FC Utrecht - NEC\"},\"id\":\"d18e5687-f1e4-4279-ac30-3a2d1bb3ebb0\",\"type\":\"Title\"},{\"attributes\":{\"plot\":{\"id\":\"3c9c9055-54a2-4838-8ad5-29401df6e910\",\"subtype\":\"Chart\",\"type\":\"Plot\"}},\"id\":\"2d9bd5eb-bdc6-41ae-81df-6f18aa94a97b\",\"type\":\"SaveTool\"},{\"attributes\":{\"plot\":{\"id\":\"3c9c9055-54a2-4838-8ad5-29401df6e910\",\"subtype\":\"Chart\",\"type\":\"Plot\"}},\"id\":\"ed6cb9b3-6af1-405a-a841-dc2c907f1167\",\"type\":\"ResetTool\"},{\"attributes\":{\"plot\":{\"id\":\"e898c93b-d9b2-449f-b07c-18a3e29e42ef\",\"subtype\":\"Chart\",\"type\":\"Plot\"}},\"id\":\"22102e8b-0963-40d5-a945-6cf44ced1879\",\"type\":\"PanTool\"},{\"attributes\":{\"fill_alpha\":{\"field\":\"fill_alpha\"},\"fill_color\":{\"field\":\"color\"},\"height\":{\"field\":\"height\",\"units\":\"data\"},\"line_color\":{\"field\":\"line_color\"},\"width\":{\"field\":\"width\",\"units\":\"data\"},\"x\":{\"field\":\"x\"},\"y\":{\"field\":\"y\"}},\"id\":\"fccc6021-6fe5-4283-8ad2-436c21914511\",\"type\":\"Rect\"},{\"attributes\":{\"plot\":{\"id\":\"3c9c9055-54a2-4838-8ad5-29401df6e910\",\"subtype\":\"Chart\",\"type\":\"Plot\"}},\"id\":\"32490c47-ea9d-488f-a008-234dfbff8dc1\",\"type\":\"HelpTool\"},{\"attributes\":{\"callback\":null,\"end\":8.82},\"id\":\"ad948853-7f47-4dd7-8278-e147d12864b7\",\"type\":\"Range1d\"},{\"attributes\":{\"plot\":{\"id\":\"e898c93b-d9b2-449f-b07c-18a3e29e42ef\",\"subtype\":\"Chart\",\"type\":\"Plot\"}},\"id\":\"14cb43f0-d6b8-4bd0-a103-18b86e9ca6ec\",\"type\":\"WheelZoomTool\"},{\"attributes\":{\"callback\":null,\"column_names\":[\"x\",\"y\",\"width\",\"height\",\"color\",\"fill_alpha\",\"line_color\",\"line_alpha\",\"label\"],\"data\":{\"chart_index\":[{\"group\":\"M\",\"zone\":\"M3\"}],\"color\":[\"#5ab738\"],\"fill_alpha\":[0.8],\"group\":[\"M\"],\"height\":[2.6],\"label\":[{\"group\":\"M\",\"zone\":\"M3\"}],\"line_alpha\":[1.0],\"line_color\":[\"white\"],\"width\":[0.2],\"x\":[\"M3:0.25\"],\"y\":[1.3],\"zone\":[\"M3\"]}},\"id\":\"0a601a1f-f5a5-4d70-a1a2-0e4c643b2b2b\",\"type\":\"ColumnDataSource\"},{\"attributes\":{\"overlay\":{\"id\":\"fb1fe28f-ffc1-41f3-a8b7-55d251968868\",\"type\":\"BoxAnnotation\"},\"plot\":{\"id\":\"e898c93b-d9b2-449f-b07c-18a3e29e42ef\",\"subtype\":\"Chart\",\"type\":\"Plot\"}},\"id\":\"77741c2b-0bda-45e3-9f59-733b1cec09eb\",\"type\":\"BoxZoomTool\"},{\"attributes\":{\"fill_alpha\":{\"field\":\"fill_alpha\"},\"fill_color\":{\"field\":\"color\"},\"height\":{\"field\":\"height\",\"units\":\"data\"},\"line_color\":{\"field\":\"line_color\"},\"width\":{\"field\":\"width\",\"units\":\"data\"},\"x\":{\"field\":\"x\"},\"y\":{\"field\":\"y\"}},\"id\":\"d88d0559-f01b-45f1-b288-4b3bd6ff8c9e\",\"type\":\"Rect\"},{\"attributes\":{\"plot\":{\"id\":\"e898c93b-d9b2-449f-b07c-18a3e29e42ef\",\"subtype\":\"Chart\",\"type\":\"Plot\"}},\"id\":\"38405cd2-bccd-48bb-a46f-8380e50d56ea\",\"type\":\"SaveTool\"},{\"attributes\":{\"label\":{\"value\":\"R\"},\"renderers\":[{\"id\":\"cc22f4bc-7cf3-4eb2-80c5-807c683caa07\",\"type\":\"GlyphRenderer\"}]},\"id\":\"c456b755-c1fa-4b8c-8855-ee1cee6cd8cc\",\"type\":\"LegendItem\"},{\"attributes\":{\"plot\":{\"id\":\"e898c93b-d9b2-449f-b07c-18a3e29e42ef\",\"subtype\":\"Chart\",\"type\":\"Plot\"}},\"id\":\"78de3a8d-66f5-4da9-83ef-a3f4780cd9da\",\"type\":\"ResetTool\"},{\"attributes\":{\"plot\":{\"id\":\"e898c93b-d9b2-449f-b07c-18a3e29e42ef\",\"subtype\":\"Chart\",\"type\":\"Plot\"}},\"id\":\"e66c7909-d936-4c74-b0db-152b237c79f5\",\"type\":\"HelpTool\"},{\"attributes\":{\"callback\":null,\"column_names\":[\"x\",\"y\",\"width\",\"height\",\"color\",\"fill_alpha\",\"line_color\",\"line_alpha\",\"label\"],\"data\":{\"chart_index\":[{\"group\":\"L\",\"zone\":\"L1\"}],\"color\":[\"#f22c40\"],\"fill_alpha\":[0.8],\"group\":[\"L\"],\"height\":[1.0],\"label\":[{\"group\":\"L\",\"zone\":\"L1\"}],\"line_alpha\":[1.0],\"line_color\":[\"white\"],\"width\":[0.2],\"x\":[\"L1:0.25\"],\"y\":[0.5],\"zone\":[\"L1\"]}},\"id\":\"7a0b2118-d8d1-4478-8069-b7d06ebad520\",\"type\":\"ColumnDataSource\"},{\"attributes\":{\"callback\":null,\"column_names\":[\"x\",\"y\",\"width\",\"height\",\"color\",\"fill_alpha\",\"line_color\",\"line_alpha\",\"label\"],\"data\":{\"chart_index\":[{\"group\":\"L\",\"zone\":\"L3\"}],\"color\":[\"#f22c40\"],\"fill_alpha\":[0.8],\"group\":[\"L\"],\"height\":[3.3333333333333335],\"label\":[{\"group\":\"L\",\"zone\":\"L3\"}],\"line_alpha\":[1.0],\"line_color\":[\"white\"],\"width\":[0.2],\"x\":[\"L3:0.25\"],\"y\":[1.6666666666666667],\"zone\":[\"L3\"]}},\"id\":\"143954a6-234d-4de9-aeda-3d111a7e1d8c\",\"type\":\"ColumnDataSource\"}],\"root_ids\":[\"6e91abe3-0c94-4b49-b0d0-1e45a885f769\"]},\"title\":\"Bokeh Application\",\"version\":\"0.12.4\"}};\n",
       "            var render_items = [{\"docid\":\"395dbe85-6f9d-4a05-a022-bcdb539e3ce5\",\"elementid\":\"3785109f-6684-418b-849e-66a5527e858d\",\"modelid\":\"6e91abe3-0c94-4b49-b0d0-1e45a885f769\"}];\n",
       "            \n",
       "            Bokeh.embed.embed_items(docs_json, render_items);\n",
       "          };\n",
       "          if (document.readyState != \"loading\") fn();\n",
       "          else document.addEventListener(\"DOMContentLoaded\", fn);\n",
       "        })();\n",
       "      },\n",
       "      function(Bokeh) {\n",
       "      }\n",
       "    ];\n",
       "  \n",
       "    function run_inline_js() {\n",
       "      \n",
       "      if ((window.Bokeh !== undefined) || (force === true)) {\n",
       "        for (var i = 0; i < inline_js.length; i++) {\n",
       "          inline_js[i](window.Bokeh);\n",
       "        }if (force === true) {\n",
       "          display_loaded();\n",
       "        }} else if (Date.now() < window._bokeh_timeout) {\n",
       "        setTimeout(run_inline_js, 100);\n",
       "      } else if (!window._bokeh_failed_load) {\n",
       "        console.log(\"Bokeh: BokehJS failed to load within specified timeout.\");\n",
       "        window._bokeh_failed_load = true;\n",
       "      } else if (force !== true) {\n",
       "        var cell = $(document.getElementById(\"3785109f-6684-418b-849e-66a5527e858d\")).parents('.cell').data().cell;\n",
       "        cell.output_area.append_execute_result(NB_LOAD_WARNING)\n",
       "      }\n",
       "  \n",
       "    }\n",
       "  \n",
       "    if (window._bokeh_is_loading === 0) {\n",
       "      console.log(\"Bokeh: BokehJS loaded, going straight to plotting\");\n",
       "      run_inline_js();\n",
       "    } else {\n",
       "      load_libs(js_urls, function() {\n",
       "        console.log(\"Bokeh: BokehJS plotting callback run at\", now());\n",
       "        run_inline_js();\n",
       "      });\n",
       "    }\n",
       "  }(this));\n",
       "</script>"
      ]
     },
     "metadata": {},
     "output_type": "display_data"
    }
   ],
   "source": [
    "listo = []\n",
    "for i in zoneplayspMatch:\n",
    "    a = i['plays']\n",
    "    d = Bar(a, label='zone', values='count', group='group', agg='mean', title=i['match'])\n",
    "    listo.append(d)\n",
    "show(column(listo))"
   ]
  }
 ],
 "metadata": {
  "kernelspec": {
   "display_name": "Python 3",
   "language": "python",
   "name": "python3"
  },
  "language_info": {
   "codemirror_mode": {
    "name": "ipython",
    "version": 3
   },
   "file_extension": ".py",
   "mimetype": "text/x-python",
   "name": "python",
   "nbconvert_exporter": "python",
   "pygments_lexer": "ipython3",
   "version": "3.6.0"
  }
 },
 "nbformat": 4,
 "nbformat_minor": 2
}
