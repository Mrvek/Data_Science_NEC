{
 "cells": [
  {
   "cell_type": "code",
   "execution_count": 109,
   "metadata": {
    "collapsed": false
   },
   "outputs": [],
   "source": [
    "import pandas as pd\n",
    "import numpy as np\n",
    "\n",
    "from bokeh.io import output_notebook, show\n",
    "from bokeh.layouts import row, gridplot, widgetbox, column\n",
    "from bokeh.charts import Histogram, BoxPlot, Scatter, Line, Bar, Donut\n",
    "\n",
    "from scipy import stats\n",
    "import matplotlib.pyplot as plt\n",
    "\n",
    "import os"
   ]
  },
  {
   "cell_type": "markdown",
   "metadata": {},
   "source": [
    "#### Data Acquisition"
   ]
  },
  {
   "cell_type": "markdown",
   "metadata": {},
   "source": [
    "De XML bestanden zijn hier omgezet naar een CSV bestand via één van de volgende professionele tools:\n",
    "- Excel\n",
    "- Gnumeric\n",
    "- LibreOffice\n",
    "\n",
    "De laatste 2 zijn gratis te gebruiken."
   ]
  },
  {
   "cell_type": "markdown",
   "metadata": {},
   "source": [
    "De <b>hoofdDataSet</b> kan worden geassigned aan een andere dataset. De resulaten in deze notebook zullen daarop aanpassen."
   ]
  },
  {
   "cell_type": "code",
   "execution_count": 110,
   "metadata": {
    "collapsed": false
   },
   "outputs": [],
   "source": [
    "df_FC_Utrecht_NEC = pd.read_csv('games/20160410_FC_Utrecht_NEC.csv', sep=';')\n",
    "df_NEC_Cambuur = pd.read_csv('games/20160417_NEC_Cambuur.csv', sep=';')\n",
    "df_PEC_NEC = pd.read_csv('games/20160420_PEC_NEC.csv', sep=';')\n",
    "df_NEC_Roda_JC = pd.read_csv('games/20160501_NEC_Roda_JC.csv', sep=';')\n",
    "\n",
    "hoofdDataSet = df_FC_Utrecht_NEC;"
   ]
  },
  {
   "cell_type": "code",
   "execution_count": 111,
   "metadata": {
    "collapsed": false
   },
   "outputs": [
    {
     "data": {
      "text/plain": [
       "['20160410', '20160417', '20160420', '20160501']"
      ]
     },
     "execution_count": 111,
     "metadata": {},
     "output_type": "execute_result"
    }
   ],
   "source": [
    "games = os.listdir(\"games\")\n",
    "matchIDs = []\n",
    "for i in games:\n",
    "    matchIDs.append(i.split(\"_\")[0])\n",
    "matchIDs"
   ]
  },
  {
   "cell_type": "code",
   "execution_count": 112,
   "metadata": {
    "collapsed": true
   },
   "outputs": [],
   "source": [
    "playerDict = []\n",
    "for id in matchIDs:\n",
    "    for folder in os.listdir(\"gps\"):\n",
    "        if(folder.startswith(id)):\n",
    "            files = os.listdir(\"gps/\" + folder)\n",
    "            match = folder[9:]\n",
    "            players = []\n",
    "            for i in files:\n",
    "                players.append(i[:-4])\n",
    "            playerDict.append({\"ID\":id,\n",
    "                          \"match\":match,\n",
    "                          \"players\":players\n",
    "            })"
   ]
  },
  {
   "cell_type": "markdown",
   "metadata": {},
   "source": [
    "# 1. Exploratie & Data wrangling"
   ]
  },
  {
   "cell_type": "raw",
   "metadata": {},
   "source": [
    "Hieronder staan een paar basis methodes waardoor we de dataset hebben onderzocht. Veel met de .unique() methode om alleen enkele exemplaren in het resultaat terug te vinden."
   ]
  },
  {
   "cell_type": "code",
   "execution_count": 113,
   "metadata": {
    "collapsed": false,
    "scrolled": true
   },
   "outputs": [
    {
     "data": {
      "text/html": [
       "<div>\n",
       "<table border=\"1\" class=\"dataframe\">\n",
       "  <thead>\n",
       "    <tr style=\"text-align: right;\">\n",
       "      <th></th>\n",
       "      <th>start_time</th>\n",
       "      <th>ID</th>\n",
       "      <th>start</th>\n",
       "      <th>end</th>\n",
       "      <th>code</th>\n",
       "      <th>group</th>\n",
       "      <th>text</th>\n",
       "      <th>code2</th>\n",
       "      <th>R</th>\n",
       "      <th>G</th>\n",
       "      <th>B</th>\n",
       "    </tr>\n",
       "  </thead>\n",
       "  <tbody>\n",
       "    <tr>\n",
       "      <th>0</th>\n",
       "      <td>2016-04-10 14:24:38.93 +0200</td>\n",
       "      <td>1.0</td>\n",
       "      <td>4,311042897</td>\n",
       "      <td>40,97118767</td>\n",
       "      <td>TEG</td>\n",
       "      <td>Naar zone</td>\n",
       "      <td>M2 TEG</td>\n",
       "      <td>NaN</td>\n",
       "      <td>NaN</td>\n",
       "      <td>NaN</td>\n",
       "      <td>NaN</td>\n",
       "    </tr>\n",
       "    <tr>\n",
       "      <th>1</th>\n",
       "      <td>2016-04-10 14:24:38.93 +0200</td>\n",
       "      <td>1.0</td>\n",
       "      <td>4,311042897</td>\n",
       "      <td>40,97118767</td>\n",
       "      <td>TEG</td>\n",
       "      <td>Naar zone</td>\n",
       "      <td>L2 TEG</td>\n",
       "      <td>NaN</td>\n",
       "      <td>NaN</td>\n",
       "      <td>NaN</td>\n",
       "      <td>NaN</td>\n",
       "    </tr>\n",
       "    <tr>\n",
       "      <th>2</th>\n",
       "      <td>2016-04-10 14:24:38.93 +0200</td>\n",
       "      <td>1.0</td>\n",
       "      <td>4,311042897</td>\n",
       "      <td>40,97118767</td>\n",
       "      <td>TEG</td>\n",
       "      <td>Naar zone</td>\n",
       "      <td>M1 TEG</td>\n",
       "      <td>NaN</td>\n",
       "      <td>NaN</td>\n",
       "      <td>NaN</td>\n",
       "      <td>NaN</td>\n",
       "    </tr>\n",
       "    <tr>\n",
       "      <th>3</th>\n",
       "      <td>2016-04-10 14:24:38.93 +0200</td>\n",
       "      <td>1.0</td>\n",
       "      <td>4,311042897</td>\n",
       "      <td>40,97118767</td>\n",
       "      <td>TEG</td>\n",
       "      <td>Storen NEC</td>\n",
       "      <td>Compact</td>\n",
       "      <td>NaN</td>\n",
       "      <td>NaN</td>\n",
       "      <td>NaN</td>\n",
       "      <td>NaN</td>\n",
       "    </tr>\n",
       "    <tr>\n",
       "      <th>4</th>\n",
       "      <td>2016-04-10 14:24:38.93 +0200</td>\n",
       "      <td>1.0</td>\n",
       "      <td>4,311042897</td>\n",
       "      <td>40,97118767</td>\n",
       "      <td>TEG</td>\n",
       "      <td>Storen NEC</td>\n",
       "      <td>Druk</td>\n",
       "      <td>NaN</td>\n",
       "      <td>NaN</td>\n",
       "      <td>NaN</td>\n",
       "      <td>NaN</td>\n",
       "    </tr>\n",
       "    <tr>\n",
       "      <th>5</th>\n",
       "      <td>2016-04-10 14:24:38.93 +0200</td>\n",
       "      <td>1.0</td>\n",
       "      <td>4,311042897</td>\n",
       "      <td>40,97118767</td>\n",
       "      <td>TEG</td>\n",
       "      <td>Naar zone</td>\n",
       "      <td>R1 TEG</td>\n",
       "      <td>NaN</td>\n",
       "      <td>NaN</td>\n",
       "      <td>NaN</td>\n",
       "      <td>NaN</td>\n",
       "    </tr>\n",
       "    <tr>\n",
       "      <th>6</th>\n",
       "      <td>2016-04-10 14:24:38.93 +0200</td>\n",
       "      <td>1.0</td>\n",
       "      <td>4,311042897</td>\n",
       "      <td>40,97118767</td>\n",
       "      <td>TEG</td>\n",
       "      <td>Naar zone</td>\n",
       "      <td>R2 TEG</td>\n",
       "      <td>NaN</td>\n",
       "      <td>NaN</td>\n",
       "      <td>NaN</td>\n",
       "      <td>NaN</td>\n",
       "    </tr>\n",
       "    <tr>\n",
       "      <th>7</th>\n",
       "      <td>2016-04-10 14:24:38.93 +0200</td>\n",
       "      <td>1.0</td>\n",
       "      <td>4,311042897</td>\n",
       "      <td>40,97118767</td>\n",
       "      <td>TEG</td>\n",
       "      <td>Naar zone</td>\n",
       "      <td>M1 TEG</td>\n",
       "      <td>NaN</td>\n",
       "      <td>NaN</td>\n",
       "      <td>NaN</td>\n",
       "      <td>NaN</td>\n",
       "    </tr>\n",
       "    <tr>\n",
       "      <th>8</th>\n",
       "      <td>2016-04-10 14:24:38.93 +0200</td>\n",
       "      <td>1.0</td>\n",
       "      <td>4,311042897</td>\n",
       "      <td>40,97118767</td>\n",
       "      <td>TEG</td>\n",
       "      <td>Naar zone</td>\n",
       "      <td>R1 TEG</td>\n",
       "      <td>NaN</td>\n",
       "      <td>NaN</td>\n",
       "      <td>NaN</td>\n",
       "      <td>NaN</td>\n",
       "    </tr>\n",
       "    <tr>\n",
       "      <th>9</th>\n",
       "      <td>2016-04-10 14:24:38.93 +0200</td>\n",
       "      <td>1.0</td>\n",
       "      <td>4,311042897</td>\n",
       "      <td>40,97118767</td>\n",
       "      <td>TEG</td>\n",
       "      <td>Aanvallen TEG</td>\n",
       "      <td>Lange pass</td>\n",
       "      <td>NaN</td>\n",
       "      <td>NaN</td>\n",
       "      <td>NaN</td>\n",
       "      <td>NaN</td>\n",
       "    </tr>\n",
       "  </tbody>\n",
       "</table>\n",
       "</div>"
      ],
      "text/plain": [
       "                     start_time   ID        start          end code  \\\n",
       "0  2016-04-10 14:24:38.93 +0200  1.0  4,311042897  40,97118767  TEG   \n",
       "1  2016-04-10 14:24:38.93 +0200  1.0  4,311042897  40,97118767  TEG   \n",
       "2  2016-04-10 14:24:38.93 +0200  1.0  4,311042897  40,97118767  TEG   \n",
       "3  2016-04-10 14:24:38.93 +0200  1.0  4,311042897  40,97118767  TEG   \n",
       "4  2016-04-10 14:24:38.93 +0200  1.0  4,311042897  40,97118767  TEG   \n",
       "5  2016-04-10 14:24:38.93 +0200  1.0  4,311042897  40,97118767  TEG   \n",
       "6  2016-04-10 14:24:38.93 +0200  1.0  4,311042897  40,97118767  TEG   \n",
       "7  2016-04-10 14:24:38.93 +0200  1.0  4,311042897  40,97118767  TEG   \n",
       "8  2016-04-10 14:24:38.93 +0200  1.0  4,311042897  40,97118767  TEG   \n",
       "9  2016-04-10 14:24:38.93 +0200  1.0  4,311042897  40,97118767  TEG   \n",
       "\n",
       "           group        text code2   R   G   B  \n",
       "0      Naar zone      M2 TEG   NaN NaN NaN NaN  \n",
       "1      Naar zone      L2 TEG   NaN NaN NaN NaN  \n",
       "2      Naar zone      M1 TEG   NaN NaN NaN NaN  \n",
       "3     Storen NEC     Compact   NaN NaN NaN NaN  \n",
       "4     Storen NEC        Druk   NaN NaN NaN NaN  \n",
       "5      Naar zone      R1 TEG   NaN NaN NaN NaN  \n",
       "6      Naar zone      R2 TEG   NaN NaN NaN NaN  \n",
       "7      Naar zone      M1 TEG   NaN NaN NaN NaN  \n",
       "8      Naar zone      R1 TEG   NaN NaN NaN NaN  \n",
       "9  Aanvallen TEG  Lange pass   NaN NaN NaN NaN  "
      ]
     },
     "execution_count": 113,
     "metadata": {},
     "output_type": "execute_result"
    }
   ],
   "source": [
    "hoofdDataSet.head(10)"
   ]
  },
  {
   "cell_type": "code",
   "execution_count": 114,
   "metadata": {
    "collapsed": false
   },
   "outputs": [
    {
     "data": {
      "text/plain": [
       "array(['TEG', 'M2 TEG', 'Start Jaimy', 'Verdedigen', 'AFTRAP WB', 'L2 TEG',\n",
       "       'M1 TEG', 'VERD. Compact NEC', 'VERD. Druk NEC', 'R1 TEG', 'R2 TEG',\n",
       "       'OPB. Lange pass TEG', 'NEC', 'OMSCH aanvallen', 'Balwinst',\n",
       "       'Start',\n",
       "       'gAAAAABYrzOUx70t7JKQR_R_qB_fAsAQ_kssPG0dUdL65VwJwkYRyU-pgO2G2z352X3ke-Lnug_HD8rZu7oi0TLSthtXJAkAEQ==',\n",
       "       'Inworp NEC', 'L3 NEC', 'Aanvallen',\n",
       "       'b6a6aeaf67e640fe9eb72d888ba046f9',\n",
       "       'feaf75270e9c46178b6b36507d9576da',\n",
       "       'gAAAAABYrzOViQ5bQbZkXvcGYeCP26pkycVHvEX9hKy1nUCyuefXEY9HKEgCE7wXFXjf7_XrzdP3SyJaK61nxal6w4a9NkFz9w==',\n",
       "       'R2 NEC', 'OPB. Lange pass NEC',\n",
       "       'gAAAAABYrzOUOTRugGK4u8cjcl60I8vjDVJstq7eg1TC3R8eeT4TKcubEQWcFxEppjQ7AvbZhcdnr1yLTAHw184kNAHQ1Vr2rw==',\n",
       "       'M3 NEC',\n",
       "       'gAAAAABYrzOU_m3cv0-Mq0cAMfKcJ6PZ09fQgxq6iILsRdDLnA2dMrbRoZyMYM5lMtX3tZLG_Svn5vlJG4wwwhUHT-dJt4yblA==',\n",
       "       'gAAAAABYrzOUCFm6Bomi2VGE_iRXHdIQjqXIfnAuYWfxtFhYV9CpD2JvtQcJqYfC2yxRxrBX_m13f_z9_L-YqSrSJRdSuUFYpQ==',\n",
       "       'R4 NEC', 'OMSCH verdedigen', 'Balverlies', 'L1 TEG', 'R3 TEG',\n",
       "       'Voorzet NEC', 'M3 TEG', 'L3 TEG', 'M4 TEG', 'L1 NEC', 'L2 NEC',\n",
       "       'gAAAAABYrzOUMgnciHmdSQ6RCk1EYJoHRHp1Now5y4xL0VSlIuCHvlcyCVikh8HmS6qWQ1XYt1z525pODwIazSW5Vfop24cpYA==',\n",
       "       'TERUGSPEELBAL keeper',\n",
       "       'gAAAAABYrzOUxpK7Ty_lFmmkplhGe7plHNBAeJhfYd3JY4Mj5sBwCIA0KMn23NWG9HLgJcN8Wm1ALShGKEWMLpmgc3FnQAk1mw==',\n",
       "       'M1 NEC', 'Voorzet TEG', 'Kans TEG', 'Goal TEG', 'R4 TEG',\n",
       "       '1v1 keeper', '9c22deb258fa4a55bb736b89a40004d5', 'M2 NEC',\n",
       "       'VERD. Vast zetten NEC', 'VOORZETTEN keeper', 'Foul TEG',\n",
       "       'OPBOUW keeper', 'Inworp TEG', 'CORNER keeper', 'Corner TEG',\n",
       "       'R1 NEC', 'f41f32eee9ae420eabc459c560e75678', 'Doelpoging NEC',\n",
       "       'R3 NEC', 'Foul NEC', 'Vrije trap NEC', 'M4 NEC', 'L4 TEG',\n",
       "       'L4 NEC', 'Corner NEC', 'DIEPTEBALLEN keeper', 'VERD. Compact TEG',\n",
       "       'OPB. Cross pass TEG', 'Doelpoging TEG', 'Kans NEC',\n",
       "       'OPB. Cross pass NEC', 'VERD. Druk TEG',\n",
       "       'OPB. Spelverplaatsing TEG', 'INWORP 16 keeper', 'Goal NEC',\n",
       "       'SCHOTEN keeper', 'Start Jaimy 2', 'VERD. Vast zetten TEG',\n",
       "       'OPB. Indribbelen TEG', 'EXT Buitenspel',\n",
       "       '753a52e5fb8f4331a765c721b6b1271f', 'VRIJE TRAP keeper',\n",
       "       'Vrije trap TEG', 'EXT kaart', nan], dtype=object)"
      ]
     },
     "execution_count": 114,
     "metadata": {},
     "output_type": "execute_result"
    }
   ],
   "source": [
    "hoofdDataSet.code.unique()"
   ]
  },
  {
   "cell_type": "code",
   "execution_count": 115,
   "metadata": {
    "collapsed": false
   },
   "outputs": [
    {
     "data": {
      "text/plain": [
       "array(['Naar zone', 'Storen NEC', 'Aanvallen TEG', 'Rendement', nan,\n",
       "       'Startzone NEC', 'Naar speler', 'Start', 'Van speler',\n",
       "       'Aanvallen NEC', 'Startzone TEG', 'Betrokken', 'Storen TEG'], dtype=object)"
      ]
     },
     "execution_count": 115,
     "metadata": {},
     "output_type": "execute_result"
    }
   ],
   "source": [
    "hoofdDataSet.group.unique()"
   ]
  },
  {
   "cell_type": "code",
   "execution_count": 116,
   "metadata": {
    "collapsed": false
   },
   "outputs": [
    {
     "data": {
      "text/plain": [
       "array(['M2 TEG', 'L2 TEG', 'M1 TEG', 'R1 TEG', 'R2 TEG', 'L3 NEC',\n",
       "       'R2 NEC', 'M3 NEC', 'R4 NEC', 'L1 TEG', 'R3 TEG', 'M3 TEG',\n",
       "       'L3 TEG', 'M4 TEG', 'L1 NEC', 'L2 NEC', 'M1 NEC', 'R4 TEG',\n",
       "       'M2 NEC', 'R1 NEC', 'R3 NEC', 'M4 NEC', 'L4 TEG', 'L4 NEC'], dtype=object)"
      ]
     },
     "execution_count": 116,
     "metadata": {},
     "output_type": "execute_result"
    }
   ],
   "source": [
    "hoofdDataSet[hoofdDataSet['group'] == 'Naar zone'].text.unique()"
   ]
  },
  {
   "cell_type": "markdown",
   "metadata": {},
   "source": [
    "## 1.1. Rendement groepen per dataset:"
   ]
  },
  {
   "cell_type": "code",
   "execution_count": 117,
   "metadata": {
    "collapsed": false
   },
   "outputs": [
    {
     "data": {
      "text/plain": [
       "array(['Balwinst', 'BOP', 'Balverlies', 'Voorzet', 'Foul TEG', 'Corner',\n",
       "       'Doelpoging', 'Foul NEC'], dtype=object)"
      ]
     },
     "execution_count": 117,
     "metadata": {},
     "output_type": "execute_result"
    }
   ],
   "source": [
    "df_FC_Utrecht_NEC[df_FC_Utrecht_NEC['group'] == 'Rendement'].text.unique()"
   ]
  },
  {
   "cell_type": "code",
   "execution_count": 118,
   "metadata": {
    "collapsed": false
   },
   "outputs": [
    {
     "data": {
      "text/plain": [
       "array(['Balwinst', 'Balverlies', 'Corner', 'BOP', 'Foul NEC', 'Voorzet',\n",
       "       'Doelpoging', 'Foul TEG'], dtype=object)"
      ]
     },
     "execution_count": 118,
     "metadata": {},
     "output_type": "execute_result"
    }
   ],
   "source": [
    "df_NEC_Cambuur[df_NEC_Cambuur['group'] == 'Rendement'].text.unique()"
   ]
  },
  {
   "cell_type": "code",
   "execution_count": 119,
   "metadata": {
    "collapsed": false
   },
   "outputs": [
    {
     "data": {
      "text/plain": [
       "array(['Balwinst', 'Corner', 'Voorzet', 'Balverlies', 'BOP', 'Foul NEC',\n",
       "       'Foul TEG', 'Doelpoging', 'Balbezit'], dtype=object)"
      ]
     },
     "execution_count": 119,
     "metadata": {},
     "output_type": "execute_result"
    }
   ],
   "source": [
    "df_PEC_NEC[df_PEC_NEC['group'] == 'Rendement'].text.unique()"
   ]
  },
  {
   "cell_type": "code",
   "execution_count": 120,
   "metadata": {
    "collapsed": false
   },
   "outputs": [
    {
     "data": {
      "text/plain": [
       "array(['BOP', 'Balverlies', 'Balwinst', 'Voorzet', 'Corner', 'Balbezit',\n",
       "       'Foul NEC', 'Doelpoging', 'Foul TEG'], dtype=object)"
      ]
     },
     "execution_count": 120,
     "metadata": {},
     "output_type": "execute_result"
    }
   ],
   "source": [
    "df_NEC_Roda_JC[df_NEC_Roda_JC['group'] == 'Rendement'].text.unique()"
   ]
  },
  {
   "cell_type": "markdown",
   "metadata": {},
   "source": [
    "## 1.2. Goals per dataset:"
   ]
  },
  {
   "cell_type": "markdown",
   "metadata": {},
   "source": [
    "Een functie om de eindstand te berekenen op basis van de codes: <i>Goal NEC</i> en <i>Goal TEG</i>."
   ]
  },
  {
   "cell_type": "code",
   "execution_count": 121,
   "metadata": {
    "collapsed": true
   },
   "outputs": [],
   "source": [
    "def eindstand(df):\n",
    "    nec = len(df[df['code'] == 'Goal NEC'].ID.unique())\n",
    "    teg = len(df[df['code'] == 'Goal TEG'].ID.unique())\n",
    "    return (str(nec) + ' - ' + str(teg))"
   ]
  },
  {
   "cell_type": "markdown",
   "metadata": {},
   "source": [
    "#### Eindstand hoofdDataSet"
   ]
  },
  {
   "cell_type": "markdown",
   "metadata": {},
   "source": [
    "Deze eindstand kan mogelijk hieronder nogmaals voorkomen als de hoofdDataSet niet afwijkt van de standaard meegeleverde datasets."
   ]
  },
  {
   "cell_type": "code",
   "execution_count": 122,
   "metadata": {
    "collapsed": false
   },
   "outputs": [
    {
     "data": {
      "text/plain": [
       "array([ 1182.])"
      ]
     },
     "execution_count": 122,
     "metadata": {},
     "output_type": "execute_result"
    }
   ],
   "source": [
    "hoofdDataSet[hoofdDataSet['code'] == 'Goal NEC'].ID.unique()"
   ]
  },
  {
   "cell_type": "code",
   "execution_count": 123,
   "metadata": {
    "collapsed": false
   },
   "outputs": [
    {
     "data": {
      "text/plain": [
       "array([  100.,  1931.,  2001.])"
      ]
     },
     "execution_count": 123,
     "metadata": {},
     "output_type": "execute_result"
    }
   ],
   "source": [
    "hoofdDataSet[hoofdDataSet['code'] == 'Goal TEG'].ID.unique()"
   ]
  },
  {
   "cell_type": "markdown",
   "metadata": {},
   "source": [
    "Eindstand:"
   ]
  },
  {
   "cell_type": "code",
   "execution_count": 124,
   "metadata": {
    "collapsed": false
   },
   "outputs": [
    {
     "data": {
      "text/plain": [
       "'1 - 3'"
      ]
     },
     "execution_count": 124,
     "metadata": {},
     "output_type": "execute_result"
    }
   ],
   "source": [
    "eindstand(hoofdDataSet)"
   ]
  },
  {
   "cell_type": "markdown",
   "metadata": {},
   "source": [
    "#### df_FC_Utrecht_NEC"
   ]
  },
  {
   "cell_type": "code",
   "execution_count": 125,
   "metadata": {
    "collapsed": false
   },
   "outputs": [
    {
     "data": {
      "text/plain": [
       "array([ 1182.])"
      ]
     },
     "execution_count": 125,
     "metadata": {},
     "output_type": "execute_result"
    }
   ],
   "source": [
    "df_FC_Utrecht_NEC[df_FC_Utrecht_NEC['code'] == 'Goal NEC'].ID.unique()"
   ]
  },
  {
   "cell_type": "code",
   "execution_count": 126,
   "metadata": {
    "collapsed": false
   },
   "outputs": [
    {
     "data": {
      "text/plain": [
       "array([  100.,  1931.,  2001.])"
      ]
     },
     "execution_count": 126,
     "metadata": {},
     "output_type": "execute_result"
    }
   ],
   "source": [
    "df_FC_Utrecht_NEC[df_FC_Utrecht_NEC['code'] == 'Goal TEG'].ID.unique()"
   ]
  },
  {
   "cell_type": "markdown",
   "metadata": {},
   "source": [
    "Eindstand:"
   ]
  },
  {
   "cell_type": "code",
   "execution_count": 127,
   "metadata": {
    "collapsed": false
   },
   "outputs": [
    {
     "data": {
      "text/plain": [
       "'1 - 3'"
      ]
     },
     "execution_count": 127,
     "metadata": {},
     "output_type": "execute_result"
    }
   ],
   "source": [
    "eindstand(df_FC_Utrecht_NEC)"
   ]
  },
  {
   "cell_type": "markdown",
   "metadata": {},
   "source": [
    "#### df_NEC_Cambuur"
   ]
  },
  {
   "cell_type": "code",
   "execution_count": 128,
   "metadata": {
    "collapsed": false
   },
   "outputs": [
    {
     "data": {
      "text/plain": [
       "array([ 1524.,  1900.])"
      ]
     },
     "execution_count": 128,
     "metadata": {},
     "output_type": "execute_result"
    }
   ],
   "source": [
    "df_NEC_Cambuur[df_NEC_Cambuur['code'] == 'Goal NEC'].ID.unique()"
   ]
  },
  {
   "cell_type": "code",
   "execution_count": 129,
   "metadata": {
    "collapsed": false
   },
   "outputs": [
    {
     "data": {
      "text/plain": [
       "array([ 2054.])"
      ]
     },
     "execution_count": 129,
     "metadata": {},
     "output_type": "execute_result"
    }
   ],
   "source": [
    "df_NEC_Cambuur[df_NEC_Cambuur['code'] == 'Goal TEG'].ID.unique()"
   ]
  },
  {
   "cell_type": "markdown",
   "metadata": {},
   "source": [
    "Eindstand:"
   ]
  },
  {
   "cell_type": "code",
   "execution_count": 130,
   "metadata": {
    "collapsed": false
   },
   "outputs": [
    {
     "data": {
      "text/plain": [
       "'2 - 1'"
      ]
     },
     "execution_count": 130,
     "metadata": {},
     "output_type": "execute_result"
    }
   ],
   "source": [
    "eindstand(df_NEC_Cambuur)"
   ]
  },
  {
   "cell_type": "markdown",
   "metadata": {},
   "source": [
    "#### df_PEC_NEC"
   ]
  },
  {
   "cell_type": "code",
   "execution_count": 131,
   "metadata": {
    "collapsed": false
   },
   "outputs": [
    {
     "data": {
      "text/plain": [
       "array([], dtype=float64)"
      ]
     },
     "execution_count": 131,
     "metadata": {},
     "output_type": "execute_result"
    }
   ],
   "source": [
    "df_PEC_NEC[df_PEC_NEC['code'] == 'Goal NEC'].ID.unique()"
   ]
  },
  {
   "cell_type": "code",
   "execution_count": 132,
   "metadata": {
    "collapsed": false
   },
   "outputs": [
    {
     "data": {
      "text/plain": [
       "array([ 467.,  757.])"
      ]
     },
     "execution_count": 132,
     "metadata": {},
     "output_type": "execute_result"
    }
   ],
   "source": [
    "df_PEC_NEC[df_PEC_NEC['code'] == 'Goal TEG'].ID.unique()"
   ]
  },
  {
   "cell_type": "markdown",
   "metadata": {},
   "source": [
    "Eindstand:"
   ]
  },
  {
   "cell_type": "code",
   "execution_count": 133,
   "metadata": {
    "collapsed": false
   },
   "outputs": [
    {
     "data": {
      "text/plain": [
       "'0 - 2'"
      ]
     },
     "execution_count": 133,
     "metadata": {},
     "output_type": "execute_result"
    }
   ],
   "source": [
    "eindstand(df_PEC_NEC)"
   ]
  },
  {
   "cell_type": "markdown",
   "metadata": {},
   "source": [
    "#### df_NEC_Roda_JC"
   ]
  },
  {
   "cell_type": "code",
   "execution_count": 134,
   "metadata": {
    "collapsed": false
   },
   "outputs": [
    {
     "data": {
      "text/plain": [
       "array([ 688.])"
      ]
     },
     "execution_count": 134,
     "metadata": {},
     "output_type": "execute_result"
    }
   ],
   "source": [
    "df_NEC_Roda_JC[df_NEC_Roda_JC['code'] == 'Goal NEC'].ID.unique()"
   ]
  },
  {
   "cell_type": "code",
   "execution_count": 135,
   "metadata": {
    "collapsed": false
   },
   "outputs": [
    {
     "data": {
      "text/plain": [
       "array([ 1187.,  1245.])"
      ]
     },
     "execution_count": 135,
     "metadata": {},
     "output_type": "execute_result"
    }
   ],
   "source": [
    "df_NEC_Roda_JC[df_NEC_Roda_JC['code'] == 'Goal TEG'].ID.unique()"
   ]
  },
  {
   "cell_type": "markdown",
   "metadata": {},
   "source": [
    "Eindstand:"
   ]
  },
  {
   "cell_type": "code",
   "execution_count": 136,
   "metadata": {
    "collapsed": false
   },
   "outputs": [
    {
     "data": {
      "text/plain": [
       "'1 - 2'"
      ]
     },
     "execution_count": 136,
     "metadata": {},
     "output_type": "execute_result"
    }
   ],
   "source": [
    "eindstand(df_NEC_Roda_JC)"
   ]
  },
  {
   "cell_type": "markdown",
   "metadata": {
    "collapsed": true
   },
   "source": [
    "## 1.3. Aanval exploratie"
   ]
  },
  {
   "cell_type": "code",
   "execution_count": 137,
   "metadata": {
    "collapsed": false
   },
   "outputs": [],
   "source": [
    "def aanvalNecGroepCount(df):\n",
    "    aanval_list = df[df['group'] == 'Aanvallen NEC'].ID.unique().tolist()\n",
    "    return df[(df['ID'].isin(aanval_list)) & (df['group'] == 'Rendement')].groupby('text').text.count()\n",
    "\n",
    "def aanvalTegGroepCount(df):\n",
    "    aanval_list = df[df['group'] == 'Aanvallen TEG'].ID.unique().tolist()\n",
    "    return df[(df['ID'].isin(aanval_list)) & (df['group'] == 'Rendement')].groupby('text').text.count()"
   ]
  },
  {
   "cell_type": "code",
   "execution_count": 138,
   "metadata": {
    "collapsed": false
   },
   "outputs": [
    {
     "data": {
      "text/plain": [
       "text\n",
       "BOP            13\n",
       "Balverlies    119\n",
       "Balwinst        1\n",
       "Foul TEG        4\n",
       "Voorzet         7\n",
       "Name: text, dtype: int64"
      ]
     },
     "execution_count": 138,
     "metadata": {},
     "output_type": "execute_result"
    }
   ],
   "source": [
    "aanvalNecGroepCount(hoofdDataSet)"
   ]
  },
  {
   "cell_type": "code",
   "execution_count": 139,
   "metadata": {
    "collapsed": false
   },
   "outputs": [
    {
     "data": {
      "text/plain": [
       "text\n",
       "BOP            2\n",
       "Balwinst      90\n",
       "Corner         2\n",
       "Doelpoging     1\n",
       "Voorzet        6\n",
       "Name: text, dtype: int64"
      ]
     },
     "execution_count": 139,
     "metadata": {},
     "output_type": "execute_result"
    }
   ],
   "source": [
    "aanvalTegGroepCount(hoofdDataSet)"
   ]
  },
  {
   "cell_type": "markdown",
   "metadata": {},
   "source": [
    "## 1.4. Zones"
   ]
  },
  {
   "cell_type": "markdown",
   "metadata": {},
   "source": [
    "### 1.4.1 Exploratie van de zones"
   ]
  },
  {
   "cell_type": "markdown",
   "metadata": {},
   "source": [
    "#### Alle verschillende (gebruikte) zones:"
   ]
  },
  {
   "cell_type": "code",
   "execution_count": 140,
   "metadata": {
    "collapsed": false
   },
   "outputs": [
    {
     "data": {
      "text/plain": [
       "array(['M2 TEG', 'L2 TEG', 'M1 TEG', 'R1 TEG', 'R2 TEG', 'L3 NEC',\n",
       "       'R2 NEC', 'M3 NEC', 'R4 NEC', 'L1 TEG', 'R3 TEG', 'M3 TEG',\n",
       "       'L3 TEG', 'M4 TEG', 'L1 NEC', 'L2 NEC', 'M1 NEC', 'R4 TEG',\n",
       "       'M2 NEC', 'R1 NEC', 'R3 NEC', 'M4 NEC', 'L4 TEG', 'L4 NEC'], dtype=object)"
      ]
     },
     "execution_count": 140,
     "metadata": {},
     "output_type": "execute_result"
    }
   ],
   "source": [
    "hoofdDataSet[hoofdDataSet['group'] == 'Naar zone'].text.unique()"
   ]
  },
  {
   "cell_type": "markdown",
   "metadata": {},
   "source": [
    "#### In welke zones speelt NEC & de tegestanders:"
   ]
  },
  {
   "cell_type": "code",
   "execution_count": 141,
   "metadata": {
    "collapsed": false
   },
   "outputs": [
    {
     "data": {
      "text/plain": [
       "text\n",
       "L1 NEC     15\n",
       "L1 TEG     28\n",
       "L2 NEC    174\n",
       "L2 TEG    116\n",
       "L3 NEC    125\n",
       "L3 TEG    121\n",
       "L4 NEC     47\n",
       "L4 TEG     36\n",
       "M1 NEC    109\n",
       "M1 TEG    105\n",
       "M2 NEC    294\n",
       "M2 TEG    197\n",
       "M3 NEC    157\n",
       "M3 TEG    208\n",
       "M4 NEC    115\n",
       "M4 TEG    132\n",
       "R1 NEC     20\n",
       "R1 TEG     27\n",
       "R2 NEC    182\n",
       "R2 TEG    103\n",
       "R3 NEC    110\n",
       "R3 TEG    106\n",
       "R4 NEC     30\n",
       "R4 TEG     43\n",
       "Name: text, dtype: int64"
      ]
     },
     "execution_count": 141,
     "metadata": {},
     "output_type": "execute_result"
    }
   ],
   "source": [
    "hoofdDataSet[hoofdDataSet['group'] == 'Naar zone'].groupby('text').text.count()"
   ]
  },
  {
   "cell_type": "markdown",
   "metadata": {},
   "source": [
    "#### Zone volgorde per actie (verwerken in een dataset)"
   ]
  },
  {
   "cell_type": "code",
   "execution_count": 142,
   "metadata": {
    "collapsed": false
   },
   "outputs": [],
   "source": [
    "import warnings\n",
    "warnings.simplefilter(action = \"ignore\")\n",
    "\n",
    "df_1 = hoofdDataSet[(hoofdDataSet['group'] == 'Naar zone') & (hoofdDataSet['text'].str.contains('NEC'))]\n",
    "\n",
    "df_1.text = df_1.text.apply(lambda x: x.rstrip(' NEC').rstrip(' TEG'))\n",
    "s_1 = df_1.groupby('ID').text.apply(lambda x: \"%s\" % ','.join(x))"
   ]
  },
  {
   "cell_type": "code",
   "execution_count": 143,
   "metadata": {
    "collapsed": false
   },
   "outputs": [],
   "source": [
    "df_zones = pd.DataFrame({'id':s_1.index, 'zones':s_1.values})\n",
    "df_zones['zonesList'] = df_zones['zones'].str.split(',').tolist()\n",
    "df_zones['zonesCount'] = df_zones['zonesList'].str.len()"
   ]
  },
  {
   "cell_type": "code",
   "execution_count": 144,
   "metadata": {
    "collapsed": false
   },
   "outputs": [
    {
     "data": {
      "text/html": [
       "<div>\n",
       "<table border=\"1\" class=\"dataframe\">\n",
       "  <thead>\n",
       "    <tr style=\"text-align: right;\">\n",
       "      <th></th>\n",
       "      <th>id</th>\n",
       "      <th>zones</th>\n",
       "      <th>zonesList</th>\n",
       "      <th>zonesCount</th>\n",
       "    </tr>\n",
       "  </thead>\n",
       "  <tbody>\n",
       "    <tr>\n",
       "      <th>0</th>\n",
       "      <td>20.0</td>\n",
       "      <td>L3,R2,M3</td>\n",
       "      <td>[L3, R2, M3]</td>\n",
       "      <td>3</td>\n",
       "    </tr>\n",
       "    <tr>\n",
       "      <th>1</th>\n",
       "      <td>22.0</td>\n",
       "      <td>R2</td>\n",
       "      <td>[R2]</td>\n",
       "      <td>1</td>\n",
       "    </tr>\n",
       "    <tr>\n",
       "      <th>2</th>\n",
       "      <td>23.0</td>\n",
       "      <td>L3,R2,M3</td>\n",
       "      <td>[L3, R2, M3]</td>\n",
       "      <td>3</td>\n",
       "    </tr>\n",
       "    <tr>\n",
       "      <th>3</th>\n",
       "      <td>27.0</td>\n",
       "      <td>R2,M3</td>\n",
       "      <td>[R2, M3]</td>\n",
       "      <td>2</td>\n",
       "    </tr>\n",
       "    <tr>\n",
       "      <th>4</th>\n",
       "      <td>28.0</td>\n",
       "      <td>M3</td>\n",
       "      <td>[M3]</td>\n",
       "      <td>1</td>\n",
       "    </tr>\n",
       "  </tbody>\n",
       "</table>\n",
       "</div>"
      ],
      "text/plain": [
       "     id     zones     zonesList  zonesCount\n",
       "0  20.0  L3,R2,M3  [L3, R2, M3]           3\n",
       "1  22.0        R2          [R2]           1\n",
       "2  23.0  L3,R2,M3  [L3, R2, M3]           3\n",
       "3  27.0     R2,M3      [R2, M3]           2\n",
       "4  28.0        M3          [M3]           1"
      ]
     },
     "execution_count": 144,
     "metadata": {},
     "output_type": "execute_result"
    }
   ],
   "source": [
    "df_zones.head(5)"
   ]
  },
  {
   "cell_type": "markdown",
   "metadata": {},
   "source": [
    "### 1.4.2 Exploratie van de groepen en bijbehorende teksten"
   ]
  },
  {
   "cell_type": "markdown",
   "metadata": {},
   "source": [
    "#### Kunnen de spelers aan de dataset gekoppeld worden?"
   ]
  },
  {
   "cell_type": "markdown",
   "metadata": {},
   "source": [
    "<i>(IDs corresponderen met de dataset: df_FC_Utrecht_NEC, andere sets hebben mogelijk andere IDs die niet het zelfde resultaat opleveren)</i>"
   ]
  },
  {
   "cell_type": "code",
   "execution_count": 145,
   "metadata": {
    "collapsed": false
   },
   "outputs": [
    {
     "data": {
      "text/plain": [
       "text\n",
       "feaf75270e9c46178b6b36507d9576da                                                                        1\n",
       "gAAAAABYrzOUMgnciHmdSQ6RCk1EYJoHRHp1Now5y4xL0VSlIuCHvlcyCVikh8HmS6qWQ1XYt1z525pODwIazSW5Vfop24cpYA==    1\n",
       "gAAAAABYrzOU_m3cv0-Mq0cAMfKcJ6PZ09fQgxq6iILsRdDLnA2dMrbRoZyMYM5lMtX3tZLG_Svn5vlJG4wwwhUHT-dJt4yblA==    1\n",
       "Name: text, dtype: int64"
      ]
     },
     "execution_count": 145,
     "metadata": {},
     "output_type": "execute_result"
    }
   ],
   "source": [
    "hoofdDataSet[(hoofdDataSet['ID'] == 83) & (hoofdDataSet['group'] == 'Van speler')].groupby('text').text.count()"
   ]
  },
  {
   "cell_type": "code",
   "execution_count": 146,
   "metadata": {
    "collapsed": false
   },
   "outputs": [
    {
     "data": {
      "text/plain": [
       "text\n",
       "feaf75270e9c46178b6b36507d9576da                                                                        1\n",
       "gAAAAABYrzOUMgnciHmdSQ6RCk1EYJoHRHp1Now5y4xL0VSlIuCHvlcyCVikh8HmS6qWQ1XYt1z525pODwIazSW5Vfop24cpYA==    1\n",
       "gAAAAABYrzOU_m3cv0-Mq0cAMfKcJ6PZ09fQgxq6iILsRdDLnA2dMrbRoZyMYM5lMtX3tZLG_Svn5vlJG4wwwhUHT-dJt4yblA==    1\n",
       "gAAAAABYrzOUxpK7Ty_lFmmkplhGe7plHNBAeJhfYd3JY4Mj5sBwCIA0KMn23NWG9HLgJcN8Wm1ALShGKEWMLpmgc3FnQAk1mw==    1\n",
       "gAAAAABYrzOViQ5bQbZkXvcGYeCP26pkycVHvEX9hKy1nUCyuefXEY9HKEgCE7wXFXjf7_XrzdP3SyJaK61nxal6w4a9NkFz9w==    1\n",
       "Name: text, dtype: int64"
      ]
     },
     "execution_count": 146,
     "metadata": {},
     "output_type": "execute_result"
    }
   ],
   "source": [
    "hoofdDataSet[(hoofdDataSet['ID'] == 83) & (hoofdDataSet['group'] == 'Naar speler')].groupby('text').text.count()"
   ]
  },
  {
   "cell_type": "markdown",
   "metadata": {},
   "source": [
    "#### Het rendement van een actie:"
   ]
  },
  {
   "cell_type": "code",
   "execution_count": 147,
   "metadata": {
    "collapsed": false
   },
   "outputs": [
    {
     "data": {
      "text/plain": [
       "text\n",
       "BOP    1\n",
       "Name: text, dtype: int64"
      ]
     },
     "execution_count": 147,
     "metadata": {},
     "output_type": "execute_result"
    }
   ],
   "source": [
    "hoofdDataSet[(hoofdDataSet['ID'] == 35) & (hoofdDataSet['group'] == 'Rendement')].groupby('text').text.count()"
   ]
  },
  {
   "cell_type": "markdown",
   "metadata": {},
   "source": [
    "## 1.5 Wedstijd koppel aan speler exploratie"
   ]
  },
  {
   "cell_type": "code",
   "execution_count": 148,
   "metadata": {
    "collapsed": true
   },
   "outputs": [],
   "source": [
    "def toFloat(df):\n",
    "    df_result = df\n",
    "    if (df_result['start'].dtype == object):\n",
    "        df_result['start'] = df_result['start'].str.replace(\",\", \".\")\n",
    "        df_result['start'] = df_result['start'].astype(float).fillna(0.0)\n",
    "    \n",
    "    if (df_result['end'].dtype == object):\n",
    "        df_result['end'] = df_result['end'].str.replace(\",\", \".\")\n",
    "        df_result['end'] = df_result['end'].astype(float).fillna(0.0)\n",
    "    return df"
   ]
  },
  {
   "cell_type": "code",
   "execution_count": 149,
   "metadata": {
    "collapsed": false,
    "scrolled": true
   },
   "outputs": [],
   "source": [
    "for dicty in playerDict:\n",
    "    for game in os.listdir(\"games\"):\n",
    "        if game.startswith(dicty[\"ID\"]):\n",
    "            df_test = pd.read_csv(\"games/\" + game, sep=';')\n",
    "            df_test = toFloat(df_test)\n",
    "            df_test = df_test[[\"ID\", \"start\", \"end\", \"code\", \"text\", \"group\"]]\n",
    "            dicty[\"dataframe\"] = df_test"
   ]
  },
  {
   "cell_type": "markdown",
   "metadata": {},
   "source": [
    "# 2. Analyse"
   ]
  },
  {
   "cell_type": "markdown",
   "metadata": {},
   "source": [
    "### 2.1 Zone Matrix aan de dataset toevoegen"
   ]
  },
  {
   "cell_type": "code",
   "execution_count": 150,
   "metadata": {
    "collapsed": false
   },
   "outputs": [],
   "source": [
    "def calculateZone(df, zone, last=False):\n",
    "    if (last == True):\n",
    "        last = -1\n",
    "    else:\n",
    "        last = 0\n",
    "        \n",
    "    if (int(df['zonesCount']) >= 2) & (str(df.zonesList[last][-1:]) == str(zone)):\n",
    "        return 'true'\n",
    "    else:\n",
    "        return 'false'\n",
    "\n",
    "df_zones['vanZone1'] = df_zones[['zonesCount', 'zonesList']].apply(lambda df: calculateZone(df, 1), axis=1)\n",
    "df_zones['vanZone2'] = df_zones[['zonesCount', 'zonesList']].apply(lambda df: calculateZone(df, 2), axis=1)\n",
    "df_zones['vanZone3'] = df_zones[['zonesCount', 'zonesList']].apply(lambda df: calculateZone(df, 3), axis=1)\n",
    "df_zones['vanZone4'] = df_zones[['zonesCount', 'zonesList']].apply(lambda df: calculateZone(df, 4), axis=1)\n",
    "\n",
    "df_zones['naarZone1'] = df_zones[['zonesCount', 'zonesList']].apply(lambda df: calculateZone(df, 1, True), axis=1)\n",
    "df_zones['naarZone2'] = df_zones[['zonesCount', 'zonesList']].apply(lambda df: calculateZone(df, 2, True), axis=1)\n",
    "df_zones['naarZone3'] = df_zones[['zonesCount', 'zonesList']].apply(lambda df: calculateZone(df, 3, True), axis=1)\n",
    "df_zones['naarZone4'] = df_zones[['zonesCount', 'zonesList']].apply(lambda df: calculateZone(df, 4, True), axis=1)"
   ]
  },
  {
   "cell_type": "markdown",
   "metadata": {},
   "source": [
    "Een functie om vast te leggen vanuit welke zone een actie heeft plaatsgevonden en waar deze is geëindigd. Acties die minder dan twee zones bevatten worden uberhaupt op false gezet. Deze acties zijn namelijk minder interesant voor de latere analyses omdat het doel is om de verschillende zones binnen een actie te analyseren."
   ]
  },
  {
   "cell_type": "markdown",
   "metadata": {},
   "source": [
    "#### Resultaat:"
   ]
  },
  {
   "cell_type": "markdown",
   "metadata": {},
   "source": [
    "Er zijn nu 8 columns bijgekomen die met een boolean waarde aangeeft of in die zone de actie is begonnen of is geëindigd."
   ]
  },
  {
   "cell_type": "code",
   "execution_count": 151,
   "metadata": {
    "collapsed": false
   },
   "outputs": [
    {
     "data": {
      "text/html": [
       "<div>\n",
       "<table border=\"1\" class=\"dataframe\">\n",
       "  <thead>\n",
       "    <tr style=\"text-align: right;\">\n",
       "      <th></th>\n",
       "      <th>id</th>\n",
       "      <th>zones</th>\n",
       "      <th>zonesList</th>\n",
       "      <th>zonesCount</th>\n",
       "      <th>vanZone1</th>\n",
       "      <th>vanZone2</th>\n",
       "      <th>vanZone3</th>\n",
       "      <th>vanZone4</th>\n",
       "      <th>naarZone1</th>\n",
       "      <th>naarZone2</th>\n",
       "      <th>naarZone3</th>\n",
       "      <th>naarZone4</th>\n",
       "    </tr>\n",
       "  </thead>\n",
       "  <tbody>\n",
       "    <tr>\n",
       "      <th>0</th>\n",
       "      <td>20.0</td>\n",
       "      <td>L3,R2,M3</td>\n",
       "      <td>[L3, R2, M3]</td>\n",
       "      <td>3</td>\n",
       "      <td>false</td>\n",
       "      <td>false</td>\n",
       "      <td>true</td>\n",
       "      <td>false</td>\n",
       "      <td>false</td>\n",
       "      <td>false</td>\n",
       "      <td>true</td>\n",
       "      <td>false</td>\n",
       "    </tr>\n",
       "    <tr>\n",
       "      <th>1</th>\n",
       "      <td>22.0</td>\n",
       "      <td>R2</td>\n",
       "      <td>[R2]</td>\n",
       "      <td>1</td>\n",
       "      <td>false</td>\n",
       "      <td>false</td>\n",
       "      <td>false</td>\n",
       "      <td>false</td>\n",
       "      <td>false</td>\n",
       "      <td>false</td>\n",
       "      <td>false</td>\n",
       "      <td>false</td>\n",
       "    </tr>\n",
       "    <tr>\n",
       "      <th>2</th>\n",
       "      <td>23.0</td>\n",
       "      <td>L3,R2,M3</td>\n",
       "      <td>[L3, R2, M3]</td>\n",
       "      <td>3</td>\n",
       "      <td>false</td>\n",
       "      <td>false</td>\n",
       "      <td>true</td>\n",
       "      <td>false</td>\n",
       "      <td>false</td>\n",
       "      <td>false</td>\n",
       "      <td>true</td>\n",
       "      <td>false</td>\n",
       "    </tr>\n",
       "    <tr>\n",
       "      <th>3</th>\n",
       "      <td>27.0</td>\n",
       "      <td>R2,M3</td>\n",
       "      <td>[R2, M3]</td>\n",
       "      <td>2</td>\n",
       "      <td>false</td>\n",
       "      <td>true</td>\n",
       "      <td>false</td>\n",
       "      <td>false</td>\n",
       "      <td>false</td>\n",
       "      <td>false</td>\n",
       "      <td>true</td>\n",
       "      <td>false</td>\n",
       "    </tr>\n",
       "    <tr>\n",
       "      <th>4</th>\n",
       "      <td>28.0</td>\n",
       "      <td>M3</td>\n",
       "      <td>[M3]</td>\n",
       "      <td>1</td>\n",
       "      <td>false</td>\n",
       "      <td>false</td>\n",
       "      <td>false</td>\n",
       "      <td>false</td>\n",
       "      <td>false</td>\n",
       "      <td>false</td>\n",
       "      <td>false</td>\n",
       "      <td>false</td>\n",
       "    </tr>\n",
       "  </tbody>\n",
       "</table>\n",
       "</div>"
      ],
      "text/plain": [
       "     id     zones     zonesList  zonesCount vanZone1 vanZone2 vanZone3  \\\n",
       "0  20.0  L3,R2,M3  [L3, R2, M3]           3    false    false     true   \n",
       "1  22.0        R2          [R2]           1    false    false    false   \n",
       "2  23.0  L3,R2,M3  [L3, R2, M3]           3    false    false     true   \n",
       "3  27.0     R2,M3      [R2, M3]           2    false     true    false   \n",
       "4  28.0        M3          [M3]           1    false    false    false   \n",
       "\n",
       "  vanZone4 naarZone1 naarZone2 naarZone3 naarZone4  \n",
       "0    false     false     false      true     false  \n",
       "1    false     false     false     false     false  \n",
       "2    false     false     false      true     false  \n",
       "3    false     false     false      true     false  \n",
       "4    false     false     false     false     false  "
      ]
     },
     "execution_count": 151,
     "metadata": {},
     "output_type": "execute_result"
    }
   ],
   "source": [
    "df_zones.head(5)"
   ]
  },
  {
   "cell_type": "markdown",
   "metadata": {},
   "source": [
    "Nu kan er bijvoorbeeld worden bekeken welke zones er worden gebruikt (per actie) om uiteindelijk zone 4 te bereiken. Hieronder staan de zelfde acties ook nog eens gecount zodat dit wat meer ovezicht geeft."
   ]
  },
  {
   "cell_type": "code",
   "execution_count": 152,
   "metadata": {
    "collapsed": false
   },
   "outputs": [
    {
     "data": {
      "text/plain": [
       "zones\n",
       "M3,M4                                                    6\n",
       "L4,M4                                                    6\n",
       "R3,M4                                                    4\n",
       "R4,M4                                                    4\n",
       "M3,L3,M2,L2,L3,M4                                        2\n",
       "L4,M4,M2,L3,L2,M2,M3,R3,R2,L2,L3,M2,R2,M4                2\n",
       "M1,L2,M2,R2,M3,R4,M4                                     2\n",
       "M1,M3,M4,L4,M4                                           2\n",
       "M2,L2,L3,R3,M3,M4                                        2\n",
       "M2,L4                                                    2\n",
       "M2,M2,L2,M2,L3,M3,R3,M3,R3,M2,R3,R2,M3,M2,L3,L2,R3,R4    2\n",
       "L2,M2,L2,M4                                              2\n",
       "L3,M2,R3,M4,L4,M4,L4,M4,M3,L3,L4,R4,M4                   2\n",
       "M4,L4                                                    2\n",
       "R1,M1,M2,R2,R3,R2,R3,M3,M4                               2\n",
       "R2,M2,L2,M2,R3,M4                                        2\n",
       "R2,M2,L3,M4                                              2\n",
       "L3,M4                                                    1\n",
       "L2,M4                                                    1\n",
       "L2,M2,R3,M4                                              1\n",
       "R4,R4                                                    1\n",
       "M3,M4,L4                                                 1\n",
       "M4,L4,M4                                                 1\n",
       "R3,R4                                                    1\n",
       "M2,R2,M3,R4,M4                                           1\n",
       "Name: zones, dtype: int64"
      ]
     },
     "execution_count": 152,
     "metadata": {},
     "output_type": "execute_result"
    }
   ],
   "source": [
    "df_zones[df_zones['naarZone4'] == 'true'].groupby('zones').zones.count().order(ascending=False)"
   ]
  },
  {
   "cell_type": "markdown",
   "metadata": {
    "collapsed": true
   },
   "source": [
    "### 2.2 Koppleing met het rendement"
   ]
  },
  {
   "cell_type": "markdown",
   "metadata": {},
   "source": [
    "Een column zal worden toegevoegd met daarin (indien beschikbaar) het meegegeven rendement voor die specifieke actie:"
   ]
  },
  {
   "cell_type": "code",
   "execution_count": 153,
   "metadata": {
    "collapsed": false
   },
   "outputs": [],
   "source": [
    "df_zones['rendement'] = None\n",
    "def calculateZone(df_zones, df_xml):\n",
    "    return df_xml[(df_xml['ID'] == df_zones) & (df_xml['group'] == 'Rendement')].groupby('text').text.first()\n",
    "\n",
    "df_zones['rendement'] = df_zones['id'].apply(lambda x: calculateZone(x, hoofdDataSet))"
   ]
  },
  {
   "cell_type": "code",
   "execution_count": 154,
   "metadata": {
    "collapsed": false
   },
   "outputs": [
    {
     "data": {
      "text/html": [
       "<div>\n",
       "<table border=\"1\" class=\"dataframe\">\n",
       "  <thead>\n",
       "    <tr style=\"text-align: right;\">\n",
       "      <th></th>\n",
       "      <th>id</th>\n",
       "      <th>zones</th>\n",
       "      <th>zonesList</th>\n",
       "      <th>zonesCount</th>\n",
       "      <th>vanZone1</th>\n",
       "      <th>vanZone2</th>\n",
       "      <th>vanZone3</th>\n",
       "      <th>vanZone4</th>\n",
       "      <th>naarZone1</th>\n",
       "      <th>naarZone2</th>\n",
       "      <th>naarZone3</th>\n",
       "      <th>naarZone4</th>\n",
       "      <th>rendement</th>\n",
       "    </tr>\n",
       "  </thead>\n",
       "  <tbody>\n",
       "    <tr>\n",
       "      <th>0</th>\n",
       "      <td>20.0</td>\n",
       "      <td>L3,R2,M3</td>\n",
       "      <td>[L3, R2, M3]</td>\n",
       "      <td>3</td>\n",
       "      <td>false</td>\n",
       "      <td>false</td>\n",
       "      <td>true</td>\n",
       "      <td>false</td>\n",
       "      <td>false</td>\n",
       "      <td>false</td>\n",
       "      <td>true</td>\n",
       "      <td>false</td>\n",
       "      <td>BOP</td>\n",
       "    </tr>\n",
       "    <tr>\n",
       "      <th>1</th>\n",
       "      <td>22.0</td>\n",
       "      <td>R2</td>\n",
       "      <td>[R2]</td>\n",
       "      <td>1</td>\n",
       "      <td>false</td>\n",
       "      <td>false</td>\n",
       "      <td>false</td>\n",
       "      <td>false</td>\n",
       "      <td>false</td>\n",
       "      <td>false</td>\n",
       "      <td>false</td>\n",
       "      <td>false</td>\n",
       "      <td>NaN</td>\n",
       "    </tr>\n",
       "    <tr>\n",
       "      <th>2</th>\n",
       "      <td>23.0</td>\n",
       "      <td>L3,R2,M3</td>\n",
       "      <td>[L3, R2, M3]</td>\n",
       "      <td>3</td>\n",
       "      <td>false</td>\n",
       "      <td>false</td>\n",
       "      <td>true</td>\n",
       "      <td>false</td>\n",
       "      <td>false</td>\n",
       "      <td>false</td>\n",
       "      <td>true</td>\n",
       "      <td>false</td>\n",
       "      <td>BOP</td>\n",
       "    </tr>\n",
       "    <tr>\n",
       "      <th>3</th>\n",
       "      <td>27.0</td>\n",
       "      <td>R2,M3</td>\n",
       "      <td>[R2, M3]</td>\n",
       "      <td>2</td>\n",
       "      <td>false</td>\n",
       "      <td>true</td>\n",
       "      <td>false</td>\n",
       "      <td>false</td>\n",
       "      <td>false</td>\n",
       "      <td>false</td>\n",
       "      <td>true</td>\n",
       "      <td>false</td>\n",
       "      <td>NaN</td>\n",
       "    </tr>\n",
       "    <tr>\n",
       "      <th>4</th>\n",
       "      <td>28.0</td>\n",
       "      <td>M3</td>\n",
       "      <td>[M3]</td>\n",
       "      <td>1</td>\n",
       "      <td>false</td>\n",
       "      <td>false</td>\n",
       "      <td>false</td>\n",
       "      <td>false</td>\n",
       "      <td>false</td>\n",
       "      <td>false</td>\n",
       "      <td>false</td>\n",
       "      <td>false</td>\n",
       "      <td>NaN</td>\n",
       "    </tr>\n",
       "    <tr>\n",
       "      <th>5</th>\n",
       "      <td>29.0</td>\n",
       "      <td>M3</td>\n",
       "      <td>[M3]</td>\n",
       "      <td>1</td>\n",
       "      <td>false</td>\n",
       "      <td>false</td>\n",
       "      <td>false</td>\n",
       "      <td>false</td>\n",
       "      <td>false</td>\n",
       "      <td>false</td>\n",
       "      <td>false</td>\n",
       "      <td>false</td>\n",
       "      <td>NaN</td>\n",
       "    </tr>\n",
       "    <tr>\n",
       "      <th>6</th>\n",
       "      <td>32.0</td>\n",
       "      <td>R4</td>\n",
       "      <td>[R4]</td>\n",
       "      <td>1</td>\n",
       "      <td>false</td>\n",
       "      <td>false</td>\n",
       "      <td>false</td>\n",
       "      <td>false</td>\n",
       "      <td>false</td>\n",
       "      <td>false</td>\n",
       "      <td>false</td>\n",
       "      <td>false</td>\n",
       "      <td>NaN</td>\n",
       "    </tr>\n",
       "    <tr>\n",
       "      <th>7</th>\n",
       "      <td>34.0</td>\n",
       "      <td>R4</td>\n",
       "      <td>[R4]</td>\n",
       "      <td>1</td>\n",
       "      <td>false</td>\n",
       "      <td>false</td>\n",
       "      <td>false</td>\n",
       "      <td>false</td>\n",
       "      <td>false</td>\n",
       "      <td>false</td>\n",
       "      <td>false</td>\n",
       "      <td>false</td>\n",
       "      <td>BOP</td>\n",
       "    </tr>\n",
       "    <tr>\n",
       "      <th>8</th>\n",
       "      <td>35.0</td>\n",
       "      <td>R4,R4</td>\n",
       "      <td>[R4, R4]</td>\n",
       "      <td>2</td>\n",
       "      <td>false</td>\n",
       "      <td>false</td>\n",
       "      <td>false</td>\n",
       "      <td>true</td>\n",
       "      <td>false</td>\n",
       "      <td>false</td>\n",
       "      <td>false</td>\n",
       "      <td>true</td>\n",
       "      <td>BOP</td>\n",
       "    </tr>\n",
       "    <tr>\n",
       "      <th>9</th>\n",
       "      <td>36.0</td>\n",
       "      <td>R4</td>\n",
       "      <td>[R4]</td>\n",
       "      <td>1</td>\n",
       "      <td>false</td>\n",
       "      <td>false</td>\n",
       "      <td>false</td>\n",
       "      <td>false</td>\n",
       "      <td>false</td>\n",
       "      <td>false</td>\n",
       "      <td>false</td>\n",
       "      <td>false</td>\n",
       "      <td>BOP</td>\n",
       "    </tr>\n",
       "  </tbody>\n",
       "</table>\n",
       "</div>"
      ],
      "text/plain": [
       "     id     zones     zonesList  zonesCount vanZone1 vanZone2 vanZone3  \\\n",
       "0  20.0  L3,R2,M3  [L3, R2, M3]           3    false    false     true   \n",
       "1  22.0        R2          [R2]           1    false    false    false   \n",
       "2  23.0  L3,R2,M3  [L3, R2, M3]           3    false    false     true   \n",
       "3  27.0     R2,M3      [R2, M3]           2    false     true    false   \n",
       "4  28.0        M3          [M3]           1    false    false    false   \n",
       "5  29.0        M3          [M3]           1    false    false    false   \n",
       "6  32.0        R4          [R4]           1    false    false    false   \n",
       "7  34.0        R4          [R4]           1    false    false    false   \n",
       "8  35.0     R4,R4      [R4, R4]           2    false    false    false   \n",
       "9  36.0        R4          [R4]           1    false    false    false   \n",
       "\n",
       "  vanZone4 naarZone1 naarZone2 naarZone3 naarZone4 rendement  \n",
       "0    false     false     false      true     false       BOP  \n",
       "1    false     false     false     false     false       NaN  \n",
       "2    false     false     false      true     false       BOP  \n",
       "3    false     false     false      true     false       NaN  \n",
       "4    false     false     false     false     false       NaN  \n",
       "5    false     false     false     false     false       NaN  \n",
       "6    false     false     false     false     false       NaN  \n",
       "7    false     false     false     false     false       BOP  \n",
       "8     true     false     false     false      true       BOP  \n",
       "9    false     false     false     false     false       BOP  "
      ]
     },
     "execution_count": 154,
     "metadata": {},
     "output_type": "execute_result"
    }
   ],
   "source": [
    "df_zones.head(10)"
   ]
  },
  {
   "cell_type": "markdown",
   "metadata": {},
   "source": [
    "### 2.3 Zone procentage links, midden en rechts"
   ]
  },
  {
   "cell_type": "markdown",
   "metadata": {},
   "source": [
    "Ook is het interesant om te weten hoeveel procent van de actie aan welke kant van het veld heeft plaatsgevonden. Hiervoor is het onderverdeeld in een linker, midden en rechter deel. De onderstaande functie berekent voor elke actie per gebruikte zone waar deze heeft plaatsgevonden:"
   ]
  },
  {
   "cell_type": "code",
   "execution_count": 155,
   "metadata": {
    "collapsed": false
   },
   "outputs": [
    {
     "data": {
      "text/plain": [
       "[33.33333333333333, 33.33333333333333, 33.33333333333333]"
      ]
     },
     "execution_count": 155,
     "metadata": {},
     "output_type": "execute_result"
    }
   ],
   "source": [
    "def zonePercentage(zoneList):\n",
    "    result = []\n",
    "    l = 0\n",
    "    m = 0\n",
    "    r = 0\n",
    "    \n",
    "    if (zoneList == None):\n",
    "        return [0,0,0]\n",
    "    \n",
    "    for x in zoneList:  \n",
    "        if (str(x[0]) == 'L'):\n",
    "            l += 1\n",
    "        elif (str(x[0]) == 'M'):\n",
    "            m += 1\n",
    "        elif(str(x[0]) == 'R'):\n",
    "            r += 1\n",
    "    \n",
    "    result.append(l / len(zoneList) * 100)\n",
    "    result.append(m / len(zoneList) * 100)\n",
    "    result.append(r / len(zoneList) * 100)\n",
    "    \n",
    "    return result\n",
    "    \n",
    "zonePercentage(['L3', 'R2', 'M3'])"
   ]
  },
  {
   "cell_type": "markdown",
   "metadata": {},
   "source": [
    "Hier boven zie je in een voorbeeld dat de zones L3, R2 en M3 berekent worden als 33% links midden en rechts."
   ]
  },
  {
   "cell_type": "code",
   "execution_count": 156,
   "metadata": {
    "collapsed": false
   },
   "outputs": [],
   "source": [
    "df_zones['lPercentage'] = df_zones['zonesList'].apply(lambda x: zonePercentage(x)[0])\n",
    "df_zones['mPercentage'] = df_zones['zonesList'].apply(lambda x: zonePercentage(x)[1])\n",
    "df_zones['rPercentage'] = df_zones['zonesList'].apply(lambda x: zonePercentage(x)[2])"
   ]
  },
  {
   "cell_type": "code",
   "execution_count": 157,
   "metadata": {
    "collapsed": false
   },
   "outputs": [
    {
     "data": {
      "text/html": [
       "<div>\n",
       "<table border=\"1\" class=\"dataframe\">\n",
       "  <thead>\n",
       "    <tr style=\"text-align: right;\">\n",
       "      <th></th>\n",
       "      <th>id</th>\n",
       "      <th>zones</th>\n",
       "      <th>zonesList</th>\n",
       "      <th>zonesCount</th>\n",
       "      <th>vanZone1</th>\n",
       "      <th>vanZone2</th>\n",
       "      <th>vanZone3</th>\n",
       "      <th>vanZone4</th>\n",
       "      <th>naarZone1</th>\n",
       "      <th>naarZone2</th>\n",
       "      <th>naarZone3</th>\n",
       "      <th>naarZone4</th>\n",
       "      <th>rendement</th>\n",
       "      <th>lPercentage</th>\n",
       "      <th>mPercentage</th>\n",
       "      <th>rPercentage</th>\n",
       "    </tr>\n",
       "  </thead>\n",
       "  <tbody>\n",
       "    <tr>\n",
       "      <th>0</th>\n",
       "      <td>20.0</td>\n",
       "      <td>L3,R2,M3</td>\n",
       "      <td>[L3, R2, M3]</td>\n",
       "      <td>3</td>\n",
       "      <td>false</td>\n",
       "      <td>false</td>\n",
       "      <td>true</td>\n",
       "      <td>false</td>\n",
       "      <td>false</td>\n",
       "      <td>false</td>\n",
       "      <td>true</td>\n",
       "      <td>false</td>\n",
       "      <td>BOP</td>\n",
       "      <td>33.333333</td>\n",
       "      <td>33.333333</td>\n",
       "      <td>33.333333</td>\n",
       "    </tr>\n",
       "    <tr>\n",
       "      <th>1</th>\n",
       "      <td>22.0</td>\n",
       "      <td>R2</td>\n",
       "      <td>[R2]</td>\n",
       "      <td>1</td>\n",
       "      <td>false</td>\n",
       "      <td>false</td>\n",
       "      <td>false</td>\n",
       "      <td>false</td>\n",
       "      <td>false</td>\n",
       "      <td>false</td>\n",
       "      <td>false</td>\n",
       "      <td>false</td>\n",
       "      <td>NaN</td>\n",
       "      <td>0.000000</td>\n",
       "      <td>0.000000</td>\n",
       "      <td>100.000000</td>\n",
       "    </tr>\n",
       "    <tr>\n",
       "      <th>2</th>\n",
       "      <td>23.0</td>\n",
       "      <td>L3,R2,M3</td>\n",
       "      <td>[L3, R2, M3]</td>\n",
       "      <td>3</td>\n",
       "      <td>false</td>\n",
       "      <td>false</td>\n",
       "      <td>true</td>\n",
       "      <td>false</td>\n",
       "      <td>false</td>\n",
       "      <td>false</td>\n",
       "      <td>true</td>\n",
       "      <td>false</td>\n",
       "      <td>BOP</td>\n",
       "      <td>33.333333</td>\n",
       "      <td>33.333333</td>\n",
       "      <td>33.333333</td>\n",
       "    </tr>\n",
       "    <tr>\n",
       "      <th>3</th>\n",
       "      <td>27.0</td>\n",
       "      <td>R2,M3</td>\n",
       "      <td>[R2, M3]</td>\n",
       "      <td>2</td>\n",
       "      <td>false</td>\n",
       "      <td>true</td>\n",
       "      <td>false</td>\n",
       "      <td>false</td>\n",
       "      <td>false</td>\n",
       "      <td>false</td>\n",
       "      <td>true</td>\n",
       "      <td>false</td>\n",
       "      <td>NaN</td>\n",
       "      <td>0.000000</td>\n",
       "      <td>50.000000</td>\n",
       "      <td>50.000000</td>\n",
       "    </tr>\n",
       "    <tr>\n",
       "      <th>4</th>\n",
       "      <td>28.0</td>\n",
       "      <td>M3</td>\n",
       "      <td>[M3]</td>\n",
       "      <td>1</td>\n",
       "      <td>false</td>\n",
       "      <td>false</td>\n",
       "      <td>false</td>\n",
       "      <td>false</td>\n",
       "      <td>false</td>\n",
       "      <td>false</td>\n",
       "      <td>false</td>\n",
       "      <td>false</td>\n",
       "      <td>NaN</td>\n",
       "      <td>0.000000</td>\n",
       "      <td>100.000000</td>\n",
       "      <td>0.000000</td>\n",
       "    </tr>\n",
       "  </tbody>\n",
       "</table>\n",
       "</div>"
      ],
      "text/plain": [
       "     id     zones     zonesList  zonesCount vanZone1 vanZone2 vanZone3  \\\n",
       "0  20.0  L3,R2,M3  [L3, R2, M3]           3    false    false     true   \n",
       "1  22.0        R2          [R2]           1    false    false    false   \n",
       "2  23.0  L3,R2,M3  [L3, R2, M3]           3    false    false     true   \n",
       "3  27.0     R2,M3      [R2, M3]           2    false     true    false   \n",
       "4  28.0        M3          [M3]           1    false    false    false   \n",
       "\n",
       "  vanZone4 naarZone1 naarZone2 naarZone3 naarZone4 rendement  lPercentage  \\\n",
       "0    false     false     false      true     false       BOP    33.333333   \n",
       "1    false     false     false     false     false       NaN     0.000000   \n",
       "2    false     false     false      true     false       BOP    33.333333   \n",
       "3    false     false     false      true     false       NaN     0.000000   \n",
       "4    false     false     false     false     false       NaN     0.000000   \n",
       "\n",
       "   mPercentage  rPercentage  \n",
       "0    33.333333    33.333333  \n",
       "1     0.000000   100.000000  \n",
       "2    33.333333    33.333333  \n",
       "3    50.000000    50.000000  \n",
       "4   100.000000     0.000000  "
      ]
     },
     "execution_count": 157,
     "metadata": {},
     "output_type": "execute_result"
    }
   ],
   "source": [
    "df_zones.head(5)"
   ]
  },
  {
   "cell_type": "markdown",
   "metadata": {},
   "source": [
    "### 2.4 Rendement per speler per wedstrijd"
   ]
  },
  {
   "cell_type": "code",
   "execution_count": 158,
   "metadata": {
    "collapsed": false
   },
   "outputs": [
    {
     "name": "stdout",
     "output_type": "stream",
     "text": [
      "   count                            player   rendement\n",
      "0      1  753a52e5fb8f4331a765c721b6b1271f    Foul TEG\n",
      "0      1  9c22deb258fa4a55bb736b89a40004d5         BOP\n",
      "1      2  9c22deb258fa4a55bb736b89a40004d5  Balverlies\n",
      "2      1  9c22deb258fa4a55bb736b89a40004d5    Foul NEC\n",
      "3      1  9c22deb258fa4a55bb736b89a40004d5    Foul TEG\n"
     ]
    }
   ],
   "source": [
    "Rendamento = []\n",
    "for i in playerDict:\n",
    "    match = i[\"match\"]\n",
    "    players = i[\"players\"]\n",
    "    df = i[\"dataframe\"]\n",
    "    dfs = []\n",
    "    for x in players:\n",
    "        if (len(df[df[\"code\"] == x]) > 0):\n",
    "            c = df[df[\"code\"] == x][df[\"group\"] == 'Rendement']\n",
    "            d = c.groupby(['text']).text.count()\n",
    "            dff = pd.DataFrame({'player':x, 'count':d.values, 'rendement':d.index})\n",
    "            dfs.append(dff)\n",
    "    zoneplays = pd.concat(dfs)\n",
    "    Rendamento.append({'match':match, 'plays':zoneplays})\n",
    "print(Rendamento[0]['plays'].head())"
   ]
  },
  {
   "cell_type": "markdown",
   "metadata": {},
   "source": [
    "### 2.5 Zone gespeelt per speler per wedstrijd"
   ]
  },
  {
   "cell_type": "code",
   "execution_count": 159,
   "metadata": {
    "collapsed": false
   },
   "outputs": [
    {
     "name": "stdout",
     "output_type": "stream",
     "text": [
      "   count                            player    zone\n",
      "0      1  753a52e5fb8f4331a765c721b6b1271f  M3 NEC\n",
      "0      4  9c22deb258fa4a55bb736b89a40004d5  L2 NEC\n",
      "1      2  9c22deb258fa4a55bb736b89a40004d5  L3 NEC\n",
      "2      1  9c22deb258fa4a55bb736b89a40004d5  L4 NEC\n",
      "3      1  9c22deb258fa4a55bb736b89a40004d5  M1 NEC\n"
     ]
    }
   ],
   "source": [
    "zoneplayspMatch = []\n",
    "for i in playerDict:\n",
    "    match = i[\"match\"]\n",
    "    players = i[\"players\"]\n",
    "    df = i[\"dataframe\"]\n",
    "    dfs = []\n",
    "    for x in players:\n",
    "        if (len(df[df[\"code\"] == x]) > 0):\n",
    "            c = df[df[\"code\"] == x][df[\"group\"] == 'Naar zone']\n",
    "            d = c.groupby(['text']).text.count()\n",
    "            dff = pd.DataFrame({'player':x, 'count':d.values, 'zone':d.index})\n",
    "            dfs.append(dff)\n",
    "    zoneplays = pd.concat(dfs)\n",
    "    zoneplayspMatch.append({'match':match, 'plays':zoneplays})\n",
    "print(zoneplayspMatch[0]['plays'].head())"
   ]
  },
  {
   "cell_type": "code",
   "execution_count": 160,
   "metadata": {
    "collapsed": false
   },
   "outputs": [
    {
     "name": "stdout",
     "output_type": "stream",
     "text": [
      "   count                            player zone group\n",
      "0      1  753a52e5fb8f4331a765c721b6b1271f   M3     M\n",
      "0      4  9c22deb258fa4a55bb736b89a40004d5   L2     L\n",
      "   count                            player zone group\n",
      "0      1  5eda168ff3524254a76be741e3bb650e   M2     M\n",
      "1      1  5eda168ff3524254a76be741e3bb650e   R2     R\n",
      "   count                            player zone group\n",
      "0      1  17d904e1c0cf4cb6bd7e3613675d443d   L1     L\n",
      "1      6  17d904e1c0cf4cb6bd7e3613675d443d   L2     L\n",
      "   count                            player zone group\n",
      "0      1  107f47d289c64a9a9364cbc10df21aaf   L3     L\n",
      "1      1  107f47d289c64a9a9364cbc10df21aaf   M2     M\n"
     ]
    }
   ],
   "source": [
    "#fixing the 'NEC' tag in zone column and adding a new column with the zonegroup\n",
    "for i in zoneplayspMatch:\n",
    "    play = i[\"plays\"]\n",
    "    group = play['zone'].astype(str).str[0]\n",
    "    i[\"plays\"]['zone'] = play['zone'].astype(str).str[:2]\n",
    "    i[\"plays\"]['group'] = group\n",
    "    print(i[\"plays\"].head(2))"
   ]
  },
  {
   "cell_type": "markdown",
   "metadata": {},
   "source": [
    "## 3. Data Visualization"
   ]
  },
  {
   "cell_type": "code",
   "execution_count": 161,
   "metadata": {
    "collapsed": false
   },
   "outputs": [
    {
     "data": {
      "text/html": [
       "\n",
       "    <div class=\"bk-root\">\n",
       "        <a href=\"http://bokeh.pydata.org\" target=\"_blank\" class=\"bk-logo bk-logo-small bk-logo-notebook\"></a>\n",
       "        <span id=\"3a966728-8a80-410e-9bd7-e16f619076b6\">Loading BokehJS ...</span>\n",
       "    </div>"
      ]
     },
     "metadata": {},
     "output_type": "display_data"
    },
    {
     "data": {
      "application/javascript": [
       "\n",
       "(function(global) {\n",
       "  function now() {\n",
       "    return new Date();\n",
       "  }\n",
       "\n",
       "  var force = true;\n",
       "\n",
       "  if (typeof (window._bokeh_onload_callbacks) === \"undefined\" || force === true) {\n",
       "    window._bokeh_onload_callbacks = [];\n",
       "    window._bokeh_is_loading = undefined;\n",
       "  }\n",
       "\n",
       "\n",
       "  \n",
       "  if (typeof (window._bokeh_timeout) === \"undefined\" || force === true) {\n",
       "    window._bokeh_timeout = Date.now() + 5000;\n",
       "    window._bokeh_failed_load = false;\n",
       "  }\n",
       "\n",
       "  var NB_LOAD_WARNING = {'data': {'text/html':\n",
       "     \"<div style='background-color: #fdd'>\\n\"+\n",
       "     \"<p>\\n\"+\n",
       "     \"BokehJS does not appear to have successfully loaded. If loading BokehJS from CDN, this \\n\"+\n",
       "     \"may be due to a slow or bad network connection. Possible fixes:\\n\"+\n",
       "     \"</p>\\n\"+\n",
       "     \"<ul>\\n\"+\n",
       "     \"<li>re-rerun `output_notebook()` to attempt to load from CDN again, or</li>\\n\"+\n",
       "     \"<li>use INLINE resources instead, as so:</li>\\n\"+\n",
       "     \"</ul>\\n\"+\n",
       "     \"<code>\\n\"+\n",
       "     \"from bokeh.resources import INLINE\\n\"+\n",
       "     \"output_notebook(resources=INLINE)\\n\"+\n",
       "     \"</code>\\n\"+\n",
       "     \"</div>\"}};\n",
       "\n",
       "  function display_loaded() {\n",
       "    if (window.Bokeh !== undefined) {\n",
       "      document.getElementById(\"3a966728-8a80-410e-9bd7-e16f619076b6\").textContent = \"BokehJS successfully loaded.\";\n",
       "    } else if (Date.now() < window._bokeh_timeout) {\n",
       "      setTimeout(display_loaded, 100)\n",
       "    }\n",
       "  }\n",
       "\n",
       "  function run_callbacks() {\n",
       "    window._bokeh_onload_callbacks.forEach(function(callback) { callback() });\n",
       "    delete window._bokeh_onload_callbacks\n",
       "    console.info(\"Bokeh: all callbacks have finished\");\n",
       "  }\n",
       "\n",
       "  function load_libs(js_urls, callback) {\n",
       "    window._bokeh_onload_callbacks.push(callback);\n",
       "    if (window._bokeh_is_loading > 0) {\n",
       "      console.log(\"Bokeh: BokehJS is being loaded, scheduling callback at\", now());\n",
       "      return null;\n",
       "    }\n",
       "    if (js_urls == null || js_urls.length === 0) {\n",
       "      run_callbacks();\n",
       "      return null;\n",
       "    }\n",
       "    console.log(\"Bokeh: BokehJS not loaded, scheduling load and callback at\", now());\n",
       "    window._bokeh_is_loading = js_urls.length;\n",
       "    for (var i = 0; i < js_urls.length; i++) {\n",
       "      var url = js_urls[i];\n",
       "      var s = document.createElement('script');\n",
       "      s.src = url;\n",
       "      s.async = false;\n",
       "      s.onreadystatechange = s.onload = function() {\n",
       "        window._bokeh_is_loading--;\n",
       "        if (window._bokeh_is_loading === 0) {\n",
       "          console.log(\"Bokeh: all BokehJS libraries loaded\");\n",
       "          run_callbacks()\n",
       "        }\n",
       "      };\n",
       "      s.onerror = function() {\n",
       "        console.warn(\"failed to load library \" + url);\n",
       "      };\n",
       "      console.log(\"Bokeh: injecting script tag for BokehJS library: \", url);\n",
       "      document.getElementsByTagName(\"head\")[0].appendChild(s);\n",
       "    }\n",
       "  };var element = document.getElementById(\"3a966728-8a80-410e-9bd7-e16f619076b6\");\n",
       "  if (element == null) {\n",
       "    console.log(\"Bokeh: ERROR: autoload.js configured with elementid '3a966728-8a80-410e-9bd7-e16f619076b6' but no matching script tag was found. \")\n",
       "    return false;\n",
       "  }\n",
       "\n",
       "  var js_urls = [\"https://cdn.pydata.org/bokeh/release/bokeh-0.12.4.min.js\", \"https://cdn.pydata.org/bokeh/release/bokeh-widgets-0.12.4.min.js\"];\n",
       "\n",
       "  var inline_js = [\n",
       "    function(Bokeh) {\n",
       "      Bokeh.set_log_level(\"info\");\n",
       "    },\n",
       "    \n",
       "    function(Bokeh) {\n",
       "      \n",
       "      document.getElementById(\"3a966728-8a80-410e-9bd7-e16f619076b6\").textContent = \"BokehJS is loading...\";\n",
       "    },\n",
       "    function(Bokeh) {\n",
       "      console.log(\"Bokeh: injecting CSS: https://cdn.pydata.org/bokeh/release/bokeh-0.12.4.min.css\");\n",
       "      Bokeh.embed.inject_css(\"https://cdn.pydata.org/bokeh/release/bokeh-0.12.4.min.css\");\n",
       "      console.log(\"Bokeh: injecting CSS: https://cdn.pydata.org/bokeh/release/bokeh-widgets-0.12.4.min.css\");\n",
       "      Bokeh.embed.inject_css(\"https://cdn.pydata.org/bokeh/release/bokeh-widgets-0.12.4.min.css\");\n",
       "    }\n",
       "  ];\n",
       "\n",
       "  function run_inline_js() {\n",
       "    \n",
       "    if ((window.Bokeh !== undefined) || (force === true)) {\n",
       "      for (var i = 0; i < inline_js.length; i++) {\n",
       "        inline_js[i](window.Bokeh);\n",
       "      }if (force === true) {\n",
       "        display_loaded();\n",
       "      }} else if (Date.now() < window._bokeh_timeout) {\n",
       "      setTimeout(run_inline_js, 100);\n",
       "    } else if (!window._bokeh_failed_load) {\n",
       "      console.log(\"Bokeh: BokehJS failed to load within specified timeout.\");\n",
       "      window._bokeh_failed_load = true;\n",
       "    } else if (force !== true) {\n",
       "      var cell = $(document.getElementById(\"3a966728-8a80-410e-9bd7-e16f619076b6\")).parents('.cell').data().cell;\n",
       "      cell.output_area.append_execute_result(NB_LOAD_WARNING)\n",
       "    }\n",
       "\n",
       "  }\n",
       "\n",
       "  if (window._bokeh_is_loading === 0) {\n",
       "    console.log(\"Bokeh: BokehJS loaded, going straight to plotting\");\n",
       "    run_inline_js();\n",
       "  } else {\n",
       "    load_libs(js_urls, function() {\n",
       "      console.log(\"Bokeh: BokehJS plotting callback run at\", now());\n",
       "      run_inline_js();\n",
       "    });\n",
       "  }\n",
       "}(this));"
      ]
     },
     "metadata": {},
     "output_type": "display_data"
    }
   ],
   "source": [
    "output_notebook()"
   ]
  },
  {
   "cell_type": "markdown",
   "metadata": {},
   "source": [
    "#### Welke zone combinaties leveren kansen op?"
   ]
  },
  {
   "cell_type": "markdown",
   "metadata": {},
   "source": [
    "Hieronder staat een visualisatie van de zones waarin gespeeld is die uiteindelijk in een actie de vierde zone hebben bereikt. Uiteraard kunnen hier ook andere zones worden geselcteerd om hier een visueel overzicht van te krijgen. Wijzig hiervoor de <i>df_zone4</i>."
   ]
  },
  {
   "cell_type": "code",
   "execution_count": 162,
   "metadata": {
    "collapsed": false
   },
   "outputs": [
    {
     "data": {
      "text/html": [
       "\n",
       "\n",
       "    <div class=\"bk-root\">\n",
       "        <div class=\"bk-plotdiv\" id=\"498df4a5-c23a-4bee-9111-9d88dbbbbf02\"></div>\n",
       "    </div>\n",
       "<script type=\"text/javascript\">\n",
       "  \n",
       "  (function(global) {\n",
       "    function now() {\n",
       "      return new Date();\n",
       "    }\n",
       "  \n",
       "    var force = false;\n",
       "  \n",
       "    if (typeof (window._bokeh_onload_callbacks) === \"undefined\" || force === true) {\n",
       "      window._bokeh_onload_callbacks = [];\n",
       "      window._bokeh_is_loading = undefined;\n",
       "    }\n",
       "  \n",
       "  \n",
       "    \n",
       "    if (typeof (window._bokeh_timeout) === \"undefined\" || force === true) {\n",
       "      window._bokeh_timeout = Date.now() + 0;\n",
       "      window._bokeh_failed_load = false;\n",
       "    }\n",
       "  \n",
       "    var NB_LOAD_WARNING = {'data': {'text/html':\n",
       "       \"<div style='background-color: #fdd'>\\n\"+\n",
       "       \"<p>\\n\"+\n",
       "       \"BokehJS does not appear to have successfully loaded. If loading BokehJS from CDN, this \\n\"+\n",
       "       \"may be due to a slow or bad network connection. Possible fixes:\\n\"+\n",
       "       \"</p>\\n\"+\n",
       "       \"<ul>\\n\"+\n",
       "       \"<li>re-rerun `output_notebook()` to attempt to load from CDN again, or</li>\\n\"+\n",
       "       \"<li>use INLINE resources instead, as so:</li>\\n\"+\n",
       "       \"</ul>\\n\"+\n",
       "       \"<code>\\n\"+\n",
       "       \"from bokeh.resources import INLINE\\n\"+\n",
       "       \"output_notebook(resources=INLINE)\\n\"+\n",
       "       \"</code>\\n\"+\n",
       "       \"</div>\"}};\n",
       "  \n",
       "    function display_loaded() {\n",
       "      if (window.Bokeh !== undefined) {\n",
       "        document.getElementById(\"498df4a5-c23a-4bee-9111-9d88dbbbbf02\").textContent = \"BokehJS successfully loaded.\";\n",
       "      } else if (Date.now() < window._bokeh_timeout) {\n",
       "        setTimeout(display_loaded, 100)\n",
       "      }\n",
       "    }\n",
       "  \n",
       "    function run_callbacks() {\n",
       "      window._bokeh_onload_callbacks.forEach(function(callback) { callback() });\n",
       "      delete window._bokeh_onload_callbacks\n",
       "      console.info(\"Bokeh: all callbacks have finished\");\n",
       "    }\n",
       "  \n",
       "    function load_libs(js_urls, callback) {\n",
       "      window._bokeh_onload_callbacks.push(callback);\n",
       "      if (window._bokeh_is_loading > 0) {\n",
       "        console.log(\"Bokeh: BokehJS is being loaded, scheduling callback at\", now());\n",
       "        return null;\n",
       "      }\n",
       "      if (js_urls == null || js_urls.length === 0) {\n",
       "        run_callbacks();\n",
       "        return null;\n",
       "      }\n",
       "      console.log(\"Bokeh: BokehJS not loaded, scheduling load and callback at\", now());\n",
       "      window._bokeh_is_loading = js_urls.length;\n",
       "      for (var i = 0; i < js_urls.length; i++) {\n",
       "        var url = js_urls[i];\n",
       "        var s = document.createElement('script');\n",
       "        s.src = url;\n",
       "        s.async = false;\n",
       "        s.onreadystatechange = s.onload = function() {\n",
       "          window._bokeh_is_loading--;\n",
       "          if (window._bokeh_is_loading === 0) {\n",
       "            console.log(\"Bokeh: all BokehJS libraries loaded\");\n",
       "            run_callbacks()\n",
       "          }\n",
       "        };\n",
       "        s.onerror = function() {\n",
       "          console.warn(\"failed to load library \" + url);\n",
       "        };\n",
       "        console.log(\"Bokeh: injecting script tag for BokehJS library: \", url);\n",
       "        document.getElementsByTagName(\"head\")[0].appendChild(s);\n",
       "      }\n",
       "    };var element = document.getElementById(\"498df4a5-c23a-4bee-9111-9d88dbbbbf02\");\n",
       "    if (element == null) {\n",
       "      console.log(\"Bokeh: ERROR: autoload.js configured with elementid '498df4a5-c23a-4bee-9111-9d88dbbbbf02' but no matching script tag was found. \")\n",
       "      return false;\n",
       "    }\n",
       "  \n",
       "    var js_urls = [];\n",
       "  \n",
       "    var inline_js = [\n",
       "      function(Bokeh) {\n",
       "        (function() {\n",
       "          var fn = function() {\n",
       "            var docs_json = {\"a19ec3de-36eb-4ec6-a86b-474de068aaa9\":{\"roots\":{\"references\":[{\"attributes\":{\"callback\":null,\"factors\":[\"L2,M2,L2,M4\",\"L2,M2,R3,M4\",\"L2,M4\",\"L3,M2,R3,M4,L4,M4,L4,M4,M3,L3,L4,R4,M4\",\"L3,M4\",\"L4,M4\",\"L4,M4,M2,L3,L2,M2,M3,R3,R2,L2,L3,M2,R2,M4\",\"M1,L2,M2,R2,M3,R4,M4\",\"M1,M3,M4,L4,M4\",\"M2,L2,L3,R3,M3,M4\",\"M2,L4\",\"M2,M2,L2,M2,L3,M3,R3,M3,R3,M2,R3,R2,M3,M2,L3,L2,R3,R4\",\"M2,R2,M3,R4,M4\",\"M3,L3,M2,L2,L3,M4\",\"M3,M4\",\"M3,M4,L4\",\"M4,L4\",\"M4,L4,M4\",\"R1,M1,M2,R2,R3,R2,R3,M3,M4\",\"R2,M2,L2,M2,R3,M4\",\"R2,M2,L3,M4\",\"R3,M4\",\"R3,R4\",\"R4,M4\",\"R4,R4\"]},\"id\":\"5b650a4e-73b4-495c-b39e-f1227ce60903\",\"type\":\"FactorRange\"},{\"attributes\":{\"fill_alpha\":{\"field\":\"fill_alpha\"},\"fill_color\":{\"field\":\"color\"},\"height\":{\"field\":\"height\",\"units\":\"data\"},\"line_color\":{\"field\":\"line_color\"},\"width\":{\"field\":\"width\",\"units\":\"data\"},\"x\":{\"field\":\"x\"},\"y\":{\"field\":\"y\"}},\"id\":\"7e2522cd-f01d-4389-9062-60fe4f696dac\",\"type\":\"Rect\"},{\"attributes\":{\"data_source\":{\"id\":\"c7a159ab-7f8b-4d7d-a956-bb8d46528de4\",\"type\":\"ColumnDataSource\"},\"glyph\":{\"id\":\"b98ab45b-07f5-4f91-b971-06681bbc05fc\",\"type\":\"Rect\"},\"hover_glyph\":null,\"nonselection_glyph\":null,\"selection_glyph\":null},\"id\":\"d26d49d0-ab4f-4d27-a314-d6f23b77ef6f\",\"type\":\"GlyphRenderer\"},{\"attributes\":{\"fill_alpha\":{\"field\":\"fill_alpha\"},\"fill_color\":{\"field\":\"color\"},\"height\":{\"field\":\"height\",\"units\":\"data\"},\"line_color\":{\"field\":\"line_color\"},\"width\":{\"field\":\"width\",\"units\":\"data\"},\"x\":{\"field\":\"x\"},\"y\":{\"field\":\"y\"}},\"id\":\"541205c3-9ee3-4ed6-8476-98063e308496\",\"type\":\"Rect\"},{\"attributes\":{\"fill_alpha\":{\"field\":\"fill_alpha\"},\"fill_color\":{\"field\":\"color\"},\"height\":{\"field\":\"height\",\"units\":\"data\"},\"line_color\":{\"field\":\"line_color\"},\"width\":{\"field\":\"width\",\"units\":\"data\"},\"x\":{\"field\":\"x\"},\"y\":{\"field\":\"y\"}},\"id\":\"6db4c78e-e321-4d2f-88ec-2d493d4e63c8\",\"type\":\"Rect\"},{\"attributes\":{\"data_source\":{\"id\":\"bb3d4e29-920c-4343-98c4-06f5ef194613\",\"type\":\"ColumnDataSource\"},\"glyph\":{\"id\":\"51d88663-f28e-4b03-8489-0aaa3af45121\",\"type\":\"Rect\"},\"hover_glyph\":null,\"nonselection_glyph\":null,\"selection_glyph\":null},\"id\":\"1f2032ac-c5f9-4253-8279-2e068f611f43\",\"type\":\"GlyphRenderer\"},{\"attributes\":{\"fill_alpha\":{\"field\":\"fill_alpha\"},\"fill_color\":{\"field\":\"color\"},\"height\":{\"field\":\"height\",\"units\":\"data\"},\"line_color\":{\"field\":\"line_color\"},\"width\":{\"field\":\"width\",\"units\":\"data\"},\"x\":{\"field\":\"x\"},\"y\":{\"field\":\"y\"}},\"id\":\"51d88663-f28e-4b03-8489-0aaa3af45121\",\"type\":\"Rect\"},{\"attributes\":{\"fill_alpha\":{\"field\":\"fill_alpha\"},\"fill_color\":{\"field\":\"color\"},\"height\":{\"field\":\"height\",\"units\":\"data\"},\"line_color\":{\"field\":\"line_color\"},\"width\":{\"field\":\"width\",\"units\":\"data\"},\"x\":{\"field\":\"x\"},\"y\":{\"field\":\"y\"}},\"id\":\"860c6c25-e695-4c34-9a48-22488135a97f\",\"type\":\"Rect\"},{\"attributes\":{\"callback\":null,\"column_names\":[\"x\",\"y\",\"width\",\"height\",\"color\",\"fill_alpha\",\"line_color\",\"line_alpha\",\"label\"],\"data\":{\"chart_index\":[{\"index\":\"R2,M2,L2,M2,R3,M4\"}],\"color\":[\"#f22c40\"],\"fill_alpha\":[0.8],\"height\":[2.0],\"index\":[\"R2,M2,L2,M2,R3,M4\"],\"label\":[{\"index\":\"R2,M2,L2,M2,R3,M4\"}],\"line_alpha\":[1.0],\"line_color\":[\"white\"],\"width\":[0.8],\"x\":[\"R2,M2,L2,M2,R3,M4\"],\"y\":[1.0]}},\"id\":\"c073769d-3319-4577-b8fe-b112e4913340\",\"type\":\"ColumnDataSource\"},{\"attributes\":{\"data_source\":{\"id\":\"bcbee8eb-109a-4eb1-a2d9-7d92abf5e783\",\"type\":\"ColumnDataSource\"},\"glyph\":{\"id\":\"13d2010d-6e71-4f10-8a84-88c534a5506e\",\"type\":\"Rect\"},\"hover_glyph\":null,\"nonselection_glyph\":null,\"selection_glyph\":null},\"id\":\"20299fdd-42dd-43b1-9e51-e0885400fd89\",\"type\":\"GlyphRenderer\"},{\"attributes\":{\"callback\":null,\"column_names\":[\"x\",\"y\",\"width\",\"height\",\"color\",\"fill_alpha\",\"line_color\",\"line_alpha\",\"label\"],\"data\":{\"chart_index\":[{\"index\":\"M3,M4,L4\"}],\"color\":[\"#f22c40\"],\"fill_alpha\":[0.8],\"height\":[1.0],\"index\":[\"M3,M4,L4\"],\"label\":[{\"index\":\"M3,M4,L4\"}],\"line_alpha\":[1.0],\"line_color\":[\"white\"],\"width\":[0.8],\"x\":[\"M3,M4,L4\"],\"y\":[0.5]}},\"id\":\"ed82e97b-5d82-4f31-ac3d-e9a8595a57f6\",\"type\":\"ColumnDataSource\"},{\"attributes\":{\"fill_alpha\":{\"field\":\"fill_alpha\"},\"fill_color\":{\"field\":\"color\"},\"height\":{\"field\":\"height\",\"units\":\"data\"},\"line_color\":{\"field\":\"line_color\"},\"width\":{\"field\":\"width\",\"units\":\"data\"},\"x\":{\"field\":\"x\"},\"y\":{\"field\":\"y\"}},\"id\":\"efb92064-2da9-4106-9831-b82c01cba727\",\"type\":\"Rect\"},{\"attributes\":{\"data_source\":{\"id\":\"ed82e97b-5d82-4f31-ac3d-e9a8595a57f6\",\"type\":\"ColumnDataSource\"},\"glyph\":{\"id\":\"7e2522cd-f01d-4389-9062-60fe4f696dac\",\"type\":\"Rect\"},\"hover_glyph\":null,\"nonselection_glyph\":null,\"selection_glyph\":null},\"id\":\"1ff01048-391b-4a0a-89c8-fe54c1520706\",\"type\":\"GlyphRenderer\"},{\"attributes\":{\"callback\":null,\"column_names\":[\"x\",\"y\",\"width\",\"height\",\"color\",\"fill_alpha\",\"line_color\",\"line_alpha\",\"label\"],\"data\":{\"chart_index\":[{\"index\":\"R1,M1,M2,R2,R3,R2,R3,M3,M4\"}],\"color\":[\"#f22c40\"],\"fill_alpha\":[0.8],\"height\":[2.0],\"index\":[\"R1,M1,M2,R2,R3,R2,R3,M3,M4\"],\"label\":[{\"index\":\"R1,M1,M2,R2,R3,R2,R3,M3,M4\"}],\"line_alpha\":[1.0],\"line_color\":[\"white\"],\"width\":[0.8],\"x\":[\"R1,M1,M2,R2,R3,R2,R3,M3,M4\"],\"y\":[1.0]}},\"id\":\"bcbee8eb-109a-4eb1-a2d9-7d92abf5e783\",\"type\":\"ColumnDataSource\"},{\"attributes\":{\"callback\":null,\"column_names\":[\"x\",\"y\",\"width\",\"height\",\"color\",\"fill_alpha\",\"line_color\",\"line_alpha\",\"label\"],\"data\":{\"chart_index\":[{\"index\":\"L2,M2,R3,M4\"}],\"color\":[\"#f22c40\"],\"fill_alpha\":[0.8],\"height\":[1.0],\"index\":[\"L2,M2,R3,M4\"],\"label\":[{\"index\":\"L2,M2,R3,M4\"}],\"line_alpha\":[1.0],\"line_color\":[\"white\"],\"width\":[0.8],\"x\":[\"L2,M2,R3,M4\"],\"y\":[0.5]}},\"id\":\"3577cdc1-a1cd-4fe0-b111-7830f4efa208\",\"type\":\"ColumnDataSource\"},{\"attributes\":{\"data_source\":{\"id\":\"c544ecae-5b38-4840-b1c0-1080b8b0ae05\",\"type\":\"ColumnDataSource\"},\"glyph\":{\"id\":\"541205c3-9ee3-4ed6-8476-98063e308496\",\"type\":\"Rect\"},\"hover_glyph\":null,\"nonselection_glyph\":null,\"selection_glyph\":null},\"id\":\"826a25af-7b66-4c88-bf63-6d8b8c29b6bd\",\"type\":\"GlyphRenderer\"},{\"attributes\":{\"data_source\":{\"id\":\"dc089048-61d5-44e9-bbe7-455f6aa538f6\",\"type\":\"ColumnDataSource\"},\"glyph\":{\"id\":\"6db4c78e-e321-4d2f-88ec-2d493d4e63c8\",\"type\":\"Rect\"},\"hover_glyph\":null,\"nonselection_glyph\":null,\"selection_glyph\":null},\"id\":\"6c13cde2-6607-4013-b923-c3ee36df1ea3\",\"type\":\"GlyphRenderer\"},{\"attributes\":{\"callback\":null,\"end\":6.3},\"id\":\"6fbfc4fd-e687-4388-90e7-60d43999be7c\",\"type\":\"Range1d\"},{\"attributes\":{\"callback\":null,\"column_names\":[\"x\",\"y\",\"width\",\"height\",\"color\",\"fill_alpha\",\"line_color\",\"line_alpha\",\"label\"],\"data\":{\"chart_index\":[{\"index\":\"M2,L4\"}],\"color\":[\"#f22c40\"],\"fill_alpha\":[0.8],\"height\":[2.0],\"index\":[\"M2,L4\"],\"label\":[{\"index\":\"M2,L4\"}],\"line_alpha\":[1.0],\"line_color\":[\"white\"],\"width\":[0.8],\"x\":[\"M2,L4\"],\"y\":[1.0]}},\"id\":\"5d861067-76be-4bb7-9295-213058ea7e60\",\"type\":\"ColumnDataSource\"},{\"attributes\":{},\"id\":\"c0b8d6b0-9d77-40cd-bea9-e49305c2985e\",\"type\":\"CategoricalTicker\"},{\"attributes\":{\"fill_alpha\":{\"field\":\"fill_alpha\"},\"fill_color\":{\"field\":\"color\"},\"height\":{\"field\":\"height\",\"units\":\"data\"},\"line_color\":{\"field\":\"line_color\"},\"width\":{\"field\":\"width\",\"units\":\"data\"},\"x\":{\"field\":\"x\"},\"y\":{\"field\":\"y\"}},\"id\":\"62e2c8e4-b081-4213-bc75-262977f4ce44\",\"type\":\"Rect\"},{\"attributes\":{\"callback\":null,\"column_names\":[\"x\",\"y\",\"width\",\"height\",\"color\",\"fill_alpha\",\"line_color\",\"line_alpha\",\"label\"],\"data\":{\"chart_index\":[{\"index\":\"M4,L4\"}],\"color\":[\"#f22c40\"],\"fill_alpha\":[0.8],\"height\":[2.0],\"index\":[\"M4,L4\"],\"label\":[{\"index\":\"M4,L4\"}],\"line_alpha\":[1.0],\"line_color\":[\"white\"],\"width\":[0.8],\"x\":[\"M4,L4\"],\"y\":[1.0]}},\"id\":\"c7a159ab-7f8b-4d7d-a956-bb8d46528de4\",\"type\":\"ColumnDataSource\"},{\"attributes\":{\"data_source\":{\"id\":\"57d27d1f-8342-43bf-81fe-8f6a8fd7f688\",\"type\":\"ColumnDataSource\"},\"glyph\":{\"id\":\"e7a2ace2-29d4-4a17-82f1-f32b22151ddd\",\"type\":\"Rect\"},\"hover_glyph\":null,\"nonselection_glyph\":null,\"selection_glyph\":null},\"id\":\"723d9877-65b1-43d0-996d-e0b05ba60698\",\"type\":\"GlyphRenderer\"},{\"attributes\":{},\"id\":\"50120b9e-fe4a-439f-9463-b1df53374e0d\",\"type\":\"BasicTickFormatter\"},{\"attributes\":{\"data_source\":{\"id\":\"e4560756-eee3-49bd-aed4-74a049ccc99b\",\"type\":\"ColumnDataSource\"},\"glyph\":{\"id\":\"9a1c193a-2d7d-4dc7-85c7-227d71ea2350\",\"type\":\"Rect\"},\"hover_glyph\":null,\"nonselection_glyph\":null,\"selection_glyph\":null},\"id\":\"74d516ce-8c2e-4807-97be-4e0736e8a1d4\",\"type\":\"GlyphRenderer\"},{\"attributes\":{\"fill_alpha\":{\"field\":\"fill_alpha\"},\"fill_color\":{\"field\":\"color\"},\"height\":{\"field\":\"height\",\"units\":\"data\"},\"line_color\":{\"field\":\"line_color\"},\"width\":{\"field\":\"width\",\"units\":\"data\"},\"x\":{\"field\":\"x\"},\"y\":{\"field\":\"y\"}},\"id\":\"87c949d8-6866-4b4f-8e97-e7dde72d5943\",\"type\":\"Rect\"},{\"attributes\":{\"data_source\":{\"id\":\"1d640677-7446-4db0-b132-de162f38ef38\",\"type\":\"ColumnDataSource\"},\"glyph\":{\"id\":\"412b4947-370d-4598-b8a2-4ffa5dc12be4\",\"type\":\"Rect\"},\"hover_glyph\":null,\"nonselection_glyph\":null,\"selection_glyph\":null},\"id\":\"bd9d9a45-9558-4427-b219-0e865cc128cb\",\"type\":\"GlyphRenderer\"},{\"attributes\":{\"callback\":null,\"column_names\":[\"x\",\"y\",\"width\",\"height\",\"color\",\"fill_alpha\",\"line_color\",\"line_alpha\",\"label\"],\"data\":{\"chart_index\":[{\"index\":\"M4,L4,M4\"}],\"color\":[\"#f22c40\"],\"fill_alpha\":[0.8],\"height\":[1.0],\"index\":[\"M4,L4,M4\"],\"label\":[{\"index\":\"M4,L4,M4\"}],\"line_alpha\":[1.0],\"line_color\":[\"white\"],\"width\":[0.8],\"x\":[\"M4,L4,M4\"],\"y\":[0.5]}},\"id\":\"e4560756-eee3-49bd-aed4-74a049ccc99b\",\"type\":\"ColumnDataSource\"},{\"attributes\":{\"callback\":null,\"column_names\":[\"x\",\"y\",\"width\",\"height\",\"color\",\"fill_alpha\",\"line_color\",\"line_alpha\",\"label\"],\"data\":{\"chart_index\":[{\"index\":\"M2,L2,L3,R3,M3,M4\"}],\"color\":[\"#f22c40\"],\"fill_alpha\":[0.8],\"height\":[2.0],\"index\":[\"M2,L2,L3,R3,M3,M4\"],\"label\":[{\"index\":\"M2,L2,L3,R3,M3,M4\"}],\"line_alpha\":[1.0],\"line_color\":[\"white\"],\"width\":[0.8],\"x\":[\"M2,L2,L3,R3,M3,M4\"],\"y\":[1.0]}},\"id\":\"dc089048-61d5-44e9-bbe7-455f6aa538f6\",\"type\":\"ColumnDataSource\"},{\"attributes\":{\"fill_alpha\":{\"field\":\"fill_alpha\"},\"fill_color\":{\"field\":\"color\"},\"height\":{\"field\":\"height\",\"units\":\"data\"},\"line_color\":{\"field\":\"line_color\"},\"width\":{\"field\":\"width\",\"units\":\"data\"},\"x\":{\"field\":\"x\"},\"y\":{\"field\":\"y\"}},\"id\":\"b98ab45b-07f5-4f91-b971-06681bbc05fc\",\"type\":\"Rect\"},{\"attributes\":{\"callback\":null,\"column_names\":[\"x\",\"y\",\"width\",\"height\",\"color\",\"fill_alpha\",\"line_color\",\"line_alpha\",\"label\"],\"data\":{\"chart_index\":[{\"index\":\"M3,L3,M2,L2,L3,M4\"}],\"color\":[\"#f22c40\"],\"fill_alpha\":[0.8],\"height\":[2.0],\"index\":[\"M3,L3,M2,L2,L3,M4\"],\"label\":[{\"index\":\"M3,L3,M2,L2,L3,M4\"}],\"line_alpha\":[1.0],\"line_color\":[\"white\"],\"width\":[0.8],\"x\":[\"M3,L3,M2,L2,L3,M4\"],\"y\":[1.0]}},\"id\":\"1d640677-7446-4db0-b132-de162f38ef38\",\"type\":\"ColumnDataSource\"},{\"attributes\":{\"fill_alpha\":{\"field\":\"fill_alpha\"},\"fill_color\":{\"field\":\"color\"},\"height\":{\"field\":\"height\",\"units\":\"data\"},\"line_color\":{\"field\":\"line_color\"},\"width\":{\"field\":\"width\",\"units\":\"data\"},\"x\":{\"field\":\"x\"},\"y\":{\"field\":\"y\"}},\"id\":\"5f5ea67e-a546-4d3c-b771-9e80a26389b3\",\"type\":\"Rect\"},{\"attributes\":{\"fill_alpha\":{\"field\":\"fill_alpha\"},\"fill_color\":{\"field\":\"color\"},\"height\":{\"field\":\"height\",\"units\":\"data\"},\"line_color\":{\"field\":\"line_color\"},\"width\":{\"field\":\"width\",\"units\":\"data\"},\"x\":{\"field\":\"x\"},\"y\":{\"field\":\"y\"}},\"id\":\"9a1c193a-2d7d-4dc7-85c7-227d71ea2350\",\"type\":\"Rect\"},{\"attributes\":{\"callback\":null,\"column_names\":[\"x\",\"y\",\"width\",\"height\",\"color\",\"fill_alpha\",\"line_color\",\"line_alpha\",\"label\"],\"data\":{\"chart_index\":[{\"index\":\"M1,M3,M4,L4,M4\"}],\"color\":[\"#f22c40\"],\"fill_alpha\":[0.8],\"height\":[2.0],\"index\":[\"M1,M3,M4,L4,M4\"],\"label\":[{\"index\":\"M1,M3,M4,L4,M4\"}],\"line_alpha\":[1.0],\"line_color\":[\"white\"],\"width\":[0.8],\"x\":[\"M1,M3,M4,L4,M4\"],\"y\":[1.0]}},\"id\":\"05c8e179-64ba-462d-86c6-fdb9ece048a0\",\"type\":\"ColumnDataSource\"},{\"attributes\":{\"fill_alpha\":{\"field\":\"fill_alpha\"},\"fill_color\":{\"field\":\"color\"},\"height\":{\"field\":\"height\",\"units\":\"data\"},\"line_color\":{\"field\":\"line_color\"},\"width\":{\"field\":\"width\",\"units\":\"data\"},\"x\":{\"field\":\"x\"},\"y\":{\"field\":\"y\"}},\"id\":\"13d2010d-6e71-4f10-8a84-88c534a5506e\",\"type\":\"Rect\"},{\"attributes\":{\"data_source\":{\"id\":\"05c8e179-64ba-462d-86c6-fdb9ece048a0\",\"type\":\"ColumnDataSource\"},\"glyph\":{\"id\":\"87c949d8-6866-4b4f-8e97-e7dde72d5943\",\"type\":\"Rect\"},\"hover_glyph\":null,\"nonselection_glyph\":null,\"selection_glyph\":null},\"id\":\"c7f4a503-4e37-4ffa-9098-ae4da9e5f36a\",\"type\":\"GlyphRenderer\"},{\"attributes\":{\"callback\":null,\"column_names\":[\"x\",\"y\",\"width\",\"height\",\"color\",\"fill_alpha\",\"line_color\",\"line_alpha\",\"label\"],\"data\":{\"chart_index\":[{\"index\":\"M3,M4\"}],\"color\":[\"#f22c40\"],\"fill_alpha\":[0.8],\"height\":[6.0],\"index\":[\"M3,M4\"],\"label\":[{\"index\":\"M3,M4\"}],\"line_alpha\":[1.0],\"line_color\":[\"white\"],\"width\":[0.8],\"x\":[\"M3,M4\"],\"y\":[3.0]}},\"id\":\"c544ecae-5b38-4840-b1c0-1080b8b0ae05\",\"type\":\"ColumnDataSource\"},{\"attributes\":{\"plot\":{\"id\":\"9845e9ac-b371-494a-a0c8-7bf0faf34633\",\"subtype\":\"Chart\",\"type\":\"Plot\"}},\"id\":\"4e5f9d28-4aea-4de8-96ca-616f50407140\",\"type\":\"HelpTool\"},{\"attributes\":{\"fill_alpha\":{\"field\":\"fill_alpha\"},\"fill_color\":{\"field\":\"color\"},\"height\":{\"field\":\"height\",\"units\":\"data\"},\"line_color\":{\"field\":\"line_color\"},\"width\":{\"field\":\"width\",\"units\":\"data\"},\"x\":{\"field\":\"x\"},\"y\":{\"field\":\"y\"}},\"id\":\"968af572-f423-4cba-984a-7175059d392b\",\"type\":\"Rect\"},{\"attributes\":{\"plot\":{\"id\":\"9845e9ac-b371-494a-a0c8-7bf0faf34633\",\"subtype\":\"Chart\",\"type\":\"Plot\"}},\"id\":\"2236bbd2-6a39-43e1-a517-124d913abe33\",\"type\":\"WheelZoomTool\"},{\"attributes\":{\"fill_alpha\":{\"field\":\"fill_alpha\"},\"fill_color\":{\"field\":\"color\"},\"height\":{\"field\":\"height\",\"units\":\"data\"},\"line_color\":{\"field\":\"line_color\"},\"width\":{\"field\":\"width\",\"units\":\"data\"},\"x\":{\"field\":\"x\"},\"y\":{\"field\":\"y\"}},\"id\":\"f5eedbbf-b620-4c32-982c-c4bfc045aff1\",\"type\":\"Rect\"},{\"attributes\":{\"data_source\":{\"id\":\"bf9dc473-7223-49c6-9740-c43c81837d0a\",\"type\":\"ColumnDataSource\"},\"glyph\":{\"id\":\"3ff1b0db-ba16-44b8-aecd-cc2bab463d21\",\"type\":\"Rect\"},\"hover_glyph\":null,\"nonselection_glyph\":null,\"selection_glyph\":null},\"id\":\"8efba71e-bbfa-4482-9a92-aaf3caab4700\",\"type\":\"GlyphRenderer\"},{\"attributes\":{\"data_source\":{\"id\":\"81cec075-7ed0-43bd-b95e-9c13abfae10b\",\"type\":\"ColumnDataSource\"},\"glyph\":{\"id\":\"3dd1eb9e-9c14-45ce-b03d-5f304acd1acc\",\"type\":\"Rect\"},\"hover_glyph\":null,\"nonselection_glyph\":null,\"selection_glyph\":null},\"id\":\"ab64f844-d1af-4470-8e34-5eeaaed293da\",\"type\":\"GlyphRenderer\"},{\"attributes\":{\"fill_alpha\":{\"field\":\"fill_alpha\"},\"fill_color\":{\"field\":\"color\"},\"height\":{\"field\":\"height\",\"units\":\"data\"},\"line_color\":{\"field\":\"line_color\"},\"width\":{\"field\":\"width\",\"units\":\"data\"},\"x\":{\"field\":\"x\"},\"y\":{\"field\":\"y\"}},\"id\":\"412b4947-370d-4598-b8a2-4ffa5dc12be4\",\"type\":\"Rect\"},{\"attributes\":{\"plot\":{\"id\":\"9845e9ac-b371-494a-a0c8-7bf0faf34633\",\"subtype\":\"Chart\",\"type\":\"Plot\"}},\"id\":\"c7cd9e45-bce2-4519-92d5-1be2c9417423\",\"type\":\"ResetTool\"},{\"attributes\":{\"fill_alpha\":{\"field\":\"fill_alpha\"},\"fill_color\":{\"field\":\"color\"},\"height\":{\"field\":\"height\",\"units\":\"data\"},\"line_color\":{\"field\":\"line_color\"},\"width\":{\"field\":\"width\",\"units\":\"data\"},\"x\":{\"field\":\"x\"},\"y\":{\"field\":\"y\"}},\"id\":\"5cc44035-6ce1-4029-904e-3e343d9739b2\",\"type\":\"Rect\"},{\"attributes\":{\"fill_alpha\":{\"field\":\"fill_alpha\"},\"fill_color\":{\"field\":\"color\"},\"height\":{\"field\":\"height\",\"units\":\"data\"},\"line_color\":{\"field\":\"line_color\"},\"width\":{\"field\":\"width\",\"units\":\"data\"},\"x\":{\"field\":\"x\"},\"y\":{\"field\":\"y\"}},\"id\":\"ce2e7e5e-318a-4368-8a60-2161c4128a05\",\"type\":\"Rect\"},{\"attributes\":{\"plot\":{\"id\":\"9845e9ac-b371-494a-a0c8-7bf0faf34633\",\"subtype\":\"Chart\",\"type\":\"Plot\"}},\"id\":\"a48574d9-2163-4827-8f2f-f16f123a9ef8\",\"type\":\"PanTool\"},{\"attributes\":{},\"id\":\"e2abc447-ea16-4c31-8711-ee2b0bcc1499\",\"type\":\"CategoricalTickFormatter\"},{\"attributes\":{\"callback\":null,\"column_names\":[\"x\",\"y\",\"width\",\"height\",\"color\",\"fill_alpha\",\"line_color\",\"line_alpha\",\"label\"],\"data\":{\"chart_index\":[{\"index\":\"R3,M4\"}],\"color\":[\"#f22c40\"],\"fill_alpha\":[0.8],\"height\":[4.0],\"index\":[\"R3,M4\"],\"label\":[{\"index\":\"R3,M4\"}],\"line_alpha\":[1.0],\"line_color\":[\"white\"],\"width\":[0.8],\"x\":[\"R3,M4\"],\"y\":[2.0]}},\"id\":\"bf9dc473-7223-49c6-9740-c43c81837d0a\",\"type\":\"ColumnDataSource\"},{\"attributes\":{\"overlay\":{\"id\":\"3b18098a-bb76-421b-b11d-e83c419ae703\",\"type\":\"BoxAnnotation\"},\"plot\":{\"id\":\"9845e9ac-b371-494a-a0c8-7bf0faf34633\",\"subtype\":\"Chart\",\"type\":\"Plot\"}},\"id\":\"e0c85eac-9862-497d-adfb-55e0845f1654\",\"type\":\"BoxZoomTool\"},{\"attributes\":{\"fill_alpha\":{\"field\":\"fill_alpha\"},\"fill_color\":{\"field\":\"color\"},\"height\":{\"field\":\"height\",\"units\":\"data\"},\"line_color\":{\"field\":\"line_color\"},\"width\":{\"field\":\"width\",\"units\":\"data\"},\"x\":{\"field\":\"x\"},\"y\":{\"field\":\"y\"}},\"id\":\"0ec932ed-c0b1-47a4-88a5-1e2cada221df\",\"type\":\"Rect\"},{\"attributes\":{\"active_drag\":\"auto\",\"active_scroll\":\"auto\",\"active_tap\":\"auto\",\"tools\":[{\"id\":\"a48574d9-2163-4827-8f2f-f16f123a9ef8\",\"type\":\"PanTool\"},{\"id\":\"2236bbd2-6a39-43e1-a517-124d913abe33\",\"type\":\"WheelZoomTool\"},{\"id\":\"e0c85eac-9862-497d-adfb-55e0845f1654\",\"type\":\"BoxZoomTool\"},{\"id\":\"22bde3a8-a484-48b3-97ec-8b9dd87c044c\",\"type\":\"SaveTool\"},{\"id\":\"c7cd9e45-bce2-4519-92d5-1be2c9417423\",\"type\":\"ResetTool\"},{\"id\":\"4e5f9d28-4aea-4de8-96ca-616f50407140\",\"type\":\"HelpTool\"}]},\"id\":\"296d6222-0082-4503-90e6-c3ccb0441ba8\",\"type\":\"Toolbar\"},{\"attributes\":{\"callback\":null,\"column_names\":[\"x\",\"y\",\"width\",\"height\",\"color\",\"fill_alpha\",\"line_color\",\"line_alpha\",\"label\"],\"data\":{\"chart_index\":[{\"index\":\"L2,M4\"}],\"color\":[\"#f22c40\"],\"fill_alpha\":[0.8],\"height\":[1.0],\"index\":[\"L2,M4\"],\"label\":[{\"index\":\"L2,M4\"}],\"line_alpha\":[1.0],\"line_color\":[\"white\"],\"width\":[0.8],\"x\":[\"L2,M4\"],\"y\":[0.5]}},\"id\":\"4ff36b94-49f8-48f4-b738-9770a0de7121\",\"type\":\"ColumnDataSource\"},{\"attributes\":{\"axis_label\":\"Sum( Zones )\",\"formatter\":{\"id\":\"50120b9e-fe4a-439f-9463-b1df53374e0d\",\"type\":\"BasicTickFormatter\"},\"plot\":{\"id\":\"9845e9ac-b371-494a-a0c8-7bf0faf34633\",\"subtype\":\"Chart\",\"type\":\"Plot\"},\"ticker\":{\"id\":\"b3e55a7e-3ec8-4650-a366-37a68fffd67c\",\"type\":\"BasicTicker\"}},\"id\":\"68573590-512c-4844-869a-2b458b55daf1\",\"type\":\"LinearAxis\"},{\"attributes\":{\"data_source\":{\"id\":\"10e63694-03f2-47ae-8a50-ba106c7e921d\",\"type\":\"ColumnDataSource\"},\"glyph\":{\"id\":\"968af572-f423-4cba-984a-7175059d392b\",\"type\":\"Rect\"},\"hover_glyph\":null,\"nonselection_glyph\":null,\"selection_glyph\":null},\"id\":\"90bb2194-e422-431f-87f0-decfe9ff1691\",\"type\":\"GlyphRenderer\"},{\"attributes\":{\"callback\":null,\"column_names\":[\"x\",\"y\",\"width\",\"height\",\"color\",\"fill_alpha\",\"line_color\",\"line_alpha\",\"label\"],\"data\":{\"chart_index\":[{\"index\":\"L3,M2,R3,M4,L4,M4,L4,M4,M3,L3,L4,R4,M4\"}],\"color\":[\"#f22c40\"],\"fill_alpha\":[0.8],\"height\":[2.0],\"index\":[\"L3,M2,R3,M4,L4,M4,L4,M4,M3,L3,L4,R4,M4\"],\"label\":[{\"index\":\"L3,M2,R3,M4,L4,M4,L4,M4,M3,L3,L4,R4,M4\"}],\"line_alpha\":[1.0],\"line_color\":[\"white\"],\"width\":[0.8],\"x\":[\"L3,M2,R3,M4,L4,M4,L4,M4,M3,L3,L4,R4,M4\"],\"y\":[1.0]}},\"id\":\"8f8fadf3-ed6b-4c28-b16f-eb60f57f21d1\",\"type\":\"ColumnDataSource\"},{\"attributes\":{\"data_source\":{\"id\":\"3577cdc1-a1cd-4fe0-b111-7830f4efa208\",\"type\":\"ColumnDataSource\"},\"glyph\":{\"id\":\"5f5ea67e-a546-4d3c-b771-9e80a26389b3\",\"type\":\"Rect\"},\"hover_glyph\":null,\"nonselection_glyph\":null,\"selection_glyph\":null},\"id\":\"ac960c74-4cd3-42b4-8d8f-f56be878e5f2\",\"type\":\"GlyphRenderer\"},{\"attributes\":{\"data_source\":{\"id\":\"dfa0647e-b52e-414e-83c2-30431a1c923d\",\"type\":\"ColumnDataSource\"},\"glyph\":{\"id\":\"f5eedbbf-b620-4c32-982c-c4bfc045aff1\",\"type\":\"Rect\"},\"hover_glyph\":null,\"nonselection_glyph\":null,\"selection_glyph\":null},\"id\":\"6dabc0ef-3321-4c63-b0da-ddbf37a0028d\",\"type\":\"GlyphRenderer\"},{\"attributes\":{\"data_source\":{\"id\":\"5d861067-76be-4bb7-9295-213058ea7e60\",\"type\":\"ColumnDataSource\"},\"glyph\":{\"id\":\"860c6c25-e695-4c34-9a48-22488135a97f\",\"type\":\"Rect\"},\"hover_glyph\":null,\"nonselection_glyph\":null,\"selection_glyph\":null},\"id\":\"90aa534f-3e82-4dbb-b9b1-93e9cbc3170c\",\"type\":\"GlyphRenderer\"},{\"attributes\":{\"bottom_units\":\"screen\",\"fill_alpha\":{\"value\":0.5},\"fill_color\":{\"value\":\"lightgrey\"},\"left_units\":\"screen\",\"level\":\"overlay\",\"line_alpha\":{\"value\":1.0},\"line_color\":{\"value\":\"black\"},\"line_dash\":[4,4],\"line_width\":{\"value\":2},\"plot\":null,\"render_mode\":\"css\",\"right_units\":\"screen\",\"top_units\":\"screen\"},\"id\":\"3b18098a-bb76-421b-b11d-e83c419ae703\",\"type\":\"BoxAnnotation\"},{\"attributes\":{\"fill_alpha\":{\"field\":\"fill_alpha\"},\"fill_color\":{\"field\":\"color\"},\"height\":{\"field\":\"height\",\"units\":\"data\"},\"line_color\":{\"field\":\"line_color\"},\"width\":{\"field\":\"width\",\"units\":\"data\"},\"x\":{\"field\":\"x\"},\"y\":{\"field\":\"y\"}},\"id\":\"4eb516da-7508-41dd-a51e-4eba032f0f2c\",\"type\":\"Rect\"},{\"attributes\":{\"fill_alpha\":{\"field\":\"fill_alpha\"},\"fill_color\":{\"field\":\"color\"},\"height\":{\"field\":\"height\",\"units\":\"data\"},\"line_color\":{\"field\":\"line_color\"},\"width\":{\"field\":\"width\",\"units\":\"data\"},\"x\":{\"field\":\"x\"},\"y\":{\"field\":\"y\"}},\"id\":\"b3281746-0e0d-446c-972d-0f461693df29\",\"type\":\"Rect\"},{\"attributes\":{\"data_source\":{\"id\":\"4ff36b94-49f8-48f4-b738-9770a0de7121\",\"type\":\"ColumnDataSource\"},\"glyph\":{\"id\":\"62e2c8e4-b081-4213-bc75-262977f4ce44\",\"type\":\"Rect\"},\"hover_glyph\":null,\"nonselection_glyph\":null,\"selection_glyph\":null},\"id\":\"d913806f-3bd4-453d-b02a-a028d2c374d2\",\"type\":\"GlyphRenderer\"},{\"attributes\":{\"fill_alpha\":{\"field\":\"fill_alpha\"},\"fill_color\":{\"field\":\"color\"},\"height\":{\"field\":\"height\",\"units\":\"data\"},\"line_color\":{\"field\":\"line_color\"},\"width\":{\"field\":\"width\",\"units\":\"data\"},\"x\":{\"field\":\"x\"},\"y\":{\"field\":\"y\"}},\"id\":\"3ff1b0db-ba16-44b8-aecd-cc2bab463d21\",\"type\":\"Rect\"},{\"attributes\":{\"callback\":null,\"column_names\":[\"x\",\"y\",\"width\",\"height\",\"color\",\"fill_alpha\",\"line_color\",\"line_alpha\",\"label\"],\"data\":{\"chart_index\":[{\"index\":\"L3,M4\"}],\"color\":[\"#f22c40\"],\"fill_alpha\":[0.8],\"height\":[1.0],\"index\":[\"L3,M4\"],\"label\":[{\"index\":\"L3,M4\"}],\"line_alpha\":[1.0],\"line_color\":[\"white\"],\"width\":[0.8],\"x\":[\"L3,M4\"],\"y\":[0.5]}},\"id\":\"dfa0647e-b52e-414e-83c2-30431a1c923d\",\"type\":\"ColumnDataSource\"},{\"attributes\":{\"callback\":null,\"column_names\":[\"x\",\"y\",\"width\",\"height\",\"color\",\"fill_alpha\",\"line_color\",\"line_alpha\",\"label\"],\"data\":{\"chart_index\":[{\"index\":\"M2,M2,L2,M2,L3,M3,R3,M3,R3,M2,R3,R2,M3,M2,L3,L2,R3,R4\"}],\"color\":[\"#f22c40\"],\"fill_alpha\":[0.8],\"height\":[2.0],\"index\":[\"M2,M2,L2,M2,L3,M3,R3,M3,R3,M2,R3,R2,M3,M2,L3,L2,R3,R4\"],\"label\":[{\"index\":\"M2,M2,L2,M2,L3,M3,R3,M3,R3,M2,R3,R2,M3,M2,L3,L2,R3,R4\"}],\"line_alpha\":[1.0],\"line_color\":[\"white\"],\"width\":[0.8],\"x\":[\"M2,M2,L2,M2,L3,M3,R3,M3,R3,M2,R3,R2,M3,M2,L3,L2,R3,R4\"],\"y\":[1.0]}},\"id\":\"bb3d4e29-920c-4343-98c4-06f5ef194613\",\"type\":\"ColumnDataSource\"},{\"attributes\":{},\"id\":\"b3e55a7e-3ec8-4650-a366-37a68fffd67c\",\"type\":\"BasicTicker\"},{\"attributes\":{\"fill_alpha\":{\"field\":\"fill_alpha\"},\"fill_color\":{\"field\":\"color\"},\"height\":{\"field\":\"height\",\"units\":\"data\"},\"line_color\":{\"field\":\"line_color\"},\"width\":{\"field\":\"width\",\"units\":\"data\"},\"x\":{\"field\":\"x\"},\"y\":{\"field\":\"y\"}},\"id\":\"88b90fb7-e60a-4e08-9d94-55804cf0c333\",\"type\":\"Rect\"},{\"attributes\":{\"fill_alpha\":{\"field\":\"fill_alpha\"},\"fill_color\":{\"field\":\"color\"},\"height\":{\"field\":\"height\",\"units\":\"data\"},\"line_color\":{\"field\":\"line_color\"},\"width\":{\"field\":\"width\",\"units\":\"data\"},\"x\":{\"field\":\"x\"},\"y\":{\"field\":\"y\"}},\"id\":\"e7a2ace2-29d4-4a17-82f1-f32b22151ddd\",\"type\":\"Rect\"},{\"attributes\":{\"callback\":null,\"column_names\":[\"x\",\"y\",\"width\",\"height\",\"color\",\"fill_alpha\",\"line_color\",\"line_alpha\",\"label\"],\"data\":{\"chart_index\":[{\"index\":\"L4,M4\"}],\"color\":[\"#f22c40\"],\"fill_alpha\":[0.8],\"height\":[6.0],\"index\":[\"L4,M4\"],\"label\":[{\"index\":\"L4,M4\"}],\"line_alpha\":[1.0],\"line_color\":[\"white\"],\"width\":[0.8],\"x\":[\"L4,M4\"],\"y\":[3.0]}},\"id\":\"10e63694-03f2-47ae-8a50-ba106c7e921d\",\"type\":\"ColumnDataSource\"},{\"attributes\":{\"data_source\":{\"id\":\"630a8b9e-7fc8-473f-a6cb-3c3bf2630c81\",\"type\":\"ColumnDataSource\"},\"glyph\":{\"id\":\"0ec932ed-c0b1-47a4-88a5-1e2cada221df\",\"type\":\"Rect\"},\"hover_glyph\":null,\"nonselection_glyph\":null,\"selection_glyph\":null},\"id\":\"97fb56de-8867-442b-914c-fd416734a290\",\"type\":\"GlyphRenderer\"},{\"attributes\":{\"callback\":null,\"column_names\":[\"x\",\"y\",\"width\",\"height\",\"color\",\"fill_alpha\",\"line_color\",\"line_alpha\",\"label\"],\"data\":{\"chart_index\":[{\"index\":\"R2,M2,L3,M4\"}],\"color\":[\"#f22c40\"],\"fill_alpha\":[0.8],\"height\":[2.0],\"index\":[\"R2,M2,L3,M4\"],\"label\":[{\"index\":\"R2,M2,L3,M4\"}],\"line_alpha\":[1.0],\"line_color\":[\"white\"],\"width\":[0.8],\"x\":[\"R2,M2,L3,M4\"],\"y\":[1.0]}},\"id\":\"f43e3789-ce0b-4474-8825-78ebdf72e977\",\"type\":\"ColumnDataSource\"},{\"attributes\":{\"plot\":null,\"text\":\"(Kans) zone 4 bereikt / per zone volgorde\"},\"id\":\"cc8f4a7d-0caa-486f-a4c2-e83a67ef3eb8\",\"type\":\"Title\"},{\"attributes\":{\"dimension\":1,\"plot\":{\"id\":\"9845e9ac-b371-494a-a0c8-7bf0faf34633\",\"subtype\":\"Chart\",\"type\":\"Plot\"},\"ticker\":{\"id\":\"b3e55a7e-3ec8-4650-a366-37a68fffd67c\",\"type\":\"BasicTicker\"}},\"id\":\"8f1a46fa-8e3b-4b9a-9362-aa8a5f3ab44f\",\"type\":\"Grid\"},{\"attributes\":{},\"id\":\"212d387b-1cb6-4009-b4e5-7f8d51b31577\",\"type\":\"ToolEvents\"},{\"attributes\":{\"fill_alpha\":{\"field\":\"fill_alpha\"},\"fill_color\":{\"field\":\"color\"},\"height\":{\"field\":\"height\",\"units\":\"data\"},\"line_color\":{\"field\":\"line_color\"},\"width\":{\"field\":\"width\",\"units\":\"data\"},\"x\":{\"field\":\"x\"},\"y\":{\"field\":\"y\"}},\"id\":\"973cedd4-7e6d-41a0-be14-77cc7c2a2903\",\"type\":\"Rect\"},{\"attributes\":{\"data_source\":{\"id\":\"4cfdb86d-a095-43f5-aa23-226ebeddb33d\",\"type\":\"ColumnDataSource\"},\"glyph\":{\"id\":\"b3281746-0e0d-446c-972d-0f461693df29\",\"type\":\"Rect\"},\"hover_glyph\":null,\"nonselection_glyph\":null,\"selection_glyph\":null},\"id\":\"cb96ed54-8c7c-4bb2-8d5b-e80a499befdd\",\"type\":\"GlyphRenderer\"},{\"attributes\":{\"data_source\":{\"id\":\"73a335f0-2a6b-4fa1-8af2-054699c5ca28\",\"type\":\"ColumnDataSource\"},\"glyph\":{\"id\":\"efb92064-2da9-4106-9831-b82c01cba727\",\"type\":\"Rect\"},\"hover_glyph\":null,\"nonselection_glyph\":null,\"selection_glyph\":null},\"id\":\"0e87a977-5416-4f8e-9521-87255bc31d71\",\"type\":\"GlyphRenderer\"},{\"attributes\":{\"data_source\":{\"id\":\"24899d33-95e2-4d5b-9b64-3e9133612619\",\"type\":\"ColumnDataSource\"},\"glyph\":{\"id\":\"4eb516da-7508-41dd-a51e-4eba032f0f2c\",\"type\":\"Rect\"},\"hover_glyph\":null,\"nonselection_glyph\":null,\"selection_glyph\":null},\"id\":\"d7f2659b-9784-4466-91a7-f86dfbd279e5\",\"type\":\"GlyphRenderer\"},{\"attributes\":{\"callback\":null,\"column_names\":[\"x\",\"y\",\"width\",\"height\",\"color\",\"fill_alpha\",\"line_color\",\"line_alpha\",\"label\"],\"data\":{\"chart_index\":[{\"index\":\"M1,L2,M2,R2,M3,R4,M4\"}],\"color\":[\"#f22c40\"],\"fill_alpha\":[0.8],\"height\":[2.0],\"index\":[\"M1,L2,M2,R2,M3,R4,M4\"],\"label\":[{\"index\":\"M1,L2,M2,R2,M3,R4,M4\"}],\"line_alpha\":[1.0],\"line_color\":[\"white\"],\"width\":[0.8],\"x\":[\"M1,L2,M2,R2,M3,R4,M4\"],\"y\":[1.0]}},\"id\":\"57d27d1f-8342-43bf-81fe-8f6a8fd7f688\",\"type\":\"ColumnDataSource\"},{\"attributes\":{\"plot\":{\"id\":\"9845e9ac-b371-494a-a0c8-7bf0faf34633\",\"subtype\":\"Chart\",\"type\":\"Plot\"}},\"id\":\"22bde3a8-a484-48b3-97ec-8b9dd87c044c\",\"type\":\"SaveTool\"},{\"attributes\":{\"data_source\":{\"id\":\"9fcf1e87-20bb-42f4-af84-e806168cac50\",\"type\":\"ColumnDataSource\"},\"glyph\":{\"id\":\"ce2e7e5e-318a-4368-8a60-2161c4128a05\",\"type\":\"Rect\"},\"hover_glyph\":null,\"nonselection_glyph\":null,\"selection_glyph\":null},\"id\":\"26c099c0-bee3-4c4b-890f-4d18fe18f2b9\",\"type\":\"GlyphRenderer\"},{\"attributes\":{\"callback\":null,\"column_names\":[\"x\",\"y\",\"width\",\"height\",\"color\",\"fill_alpha\",\"line_color\",\"line_alpha\",\"label\"],\"data\":{\"chart_index\":[{\"index\":\"L2,M2,L2,M4\"}],\"color\":[\"#f22c40\"],\"fill_alpha\":[0.8],\"height\":[2.0],\"index\":[\"L2,M2,L2,M4\"],\"label\":[{\"index\":\"L2,M2,L2,M4\"}],\"line_alpha\":[1.0],\"line_color\":[\"white\"],\"width\":[0.8],\"x\":[\"L2,M2,L2,M4\"],\"y\":[1.0]}},\"id\":\"24899d33-95e2-4d5b-9b64-3e9133612619\",\"type\":\"ColumnDataSource\"},{\"attributes\":{\"callback\":null,\"column_names\":[\"x\",\"y\",\"width\",\"height\",\"color\",\"fill_alpha\",\"line_color\",\"line_alpha\",\"label\"],\"data\":{\"chart_index\":[{\"index\":\"R3,R4\"}],\"color\":[\"#f22c40\"],\"fill_alpha\":[0.8],\"height\":[1.0],\"index\":[\"R3,R4\"],\"label\":[{\"index\":\"R3,R4\"}],\"line_alpha\":[1.0],\"line_color\":[\"white\"],\"width\":[0.8],\"x\":[\"R3,R4\"],\"y\":[0.5]}},\"id\":\"4cfdb86d-a095-43f5-aa23-226ebeddb33d\",\"type\":\"ColumnDataSource\"},{\"attributes\":{\"callback\":null,\"column_names\":[\"x\",\"y\",\"width\",\"height\",\"color\",\"fill_alpha\",\"line_color\",\"line_alpha\",\"label\"],\"data\":{\"chart_index\":[{\"index\":\"L4,M4,M2,L3,L2,M2,M3,R3,R2,L2,L3,M2,R2,M4\"}],\"color\":[\"#f22c40\"],\"fill_alpha\":[0.8],\"height\":[2.0],\"index\":[\"L4,M4,M2,L3,L2,M2,M3,R3,R2,L2,L3,M2,R2,M4\"],\"label\":[{\"index\":\"L4,M4,M2,L3,L2,M2,M3,R3,R2,L2,L3,M2,R2,M4\"}],\"line_alpha\":[1.0],\"line_color\":[\"white\"],\"width\":[0.8],\"x\":[\"L4,M4,M2,L3,L2,M2,M3,R3,R2,L2,L3,M2,R2,M4\"],\"y\":[1.0]}},\"id\":\"9fcf1e87-20bb-42f4-af84-e806168cac50\",\"type\":\"ColumnDataSource\"},{\"attributes\":{\"data_source\":{\"id\":\"c073769d-3319-4577-b8fe-b112e4913340\",\"type\":\"ColumnDataSource\"},\"glyph\":{\"id\":\"973cedd4-7e6d-41a0-be14-77cc7c2a2903\",\"type\":\"Rect\"},\"hover_glyph\":null,\"nonselection_glyph\":null,\"selection_glyph\":null},\"id\":\"a5fa90ec-a730-458e-bfc3-42ec9e44d8ca\",\"type\":\"GlyphRenderer\"},{\"attributes\":{\"formatter\":{\"id\":\"e2abc447-ea16-4c31-8711-ee2b0bcc1499\",\"type\":\"CategoricalTickFormatter\"},\"major_label_orientation\":0.7853981633974483,\"plot\":{\"id\":\"9845e9ac-b371-494a-a0c8-7bf0faf34633\",\"subtype\":\"Chart\",\"type\":\"Plot\"},\"ticker\":{\"id\":\"c0b8d6b0-9d77-40cd-bea9-e49305c2985e\",\"type\":\"CategoricalTicker\"}},\"id\":\"54e4da12-d971-45f2-bbaf-a2cce0cabc4a\",\"type\":\"CategoricalAxis\"},{\"attributes\":{\"data_source\":{\"id\":\"f43e3789-ce0b-4474-8825-78ebdf72e977\",\"type\":\"ColumnDataSource\"},\"glyph\":{\"id\":\"88b90fb7-e60a-4e08-9d94-55804cf0c333\",\"type\":\"Rect\"},\"hover_glyph\":null,\"nonselection_glyph\":null,\"selection_glyph\":null},\"id\":\"cc763fca-ad47-4885-b478-16786f18e6f7\",\"type\":\"GlyphRenderer\"},{\"attributes\":{\"fill_alpha\":{\"field\":\"fill_alpha\"},\"fill_color\":{\"field\":\"color\"},\"height\":{\"field\":\"height\",\"units\":\"data\"},\"line_color\":{\"field\":\"line_color\"},\"width\":{\"field\":\"width\",\"units\":\"data\"},\"x\":{\"field\":\"x\"},\"y\":{\"field\":\"y\"}},\"id\":\"3dd1eb9e-9c14-45ce-b03d-5f304acd1acc\",\"type\":\"Rect\"},{\"attributes\":{\"below\":[{\"id\":\"54e4da12-d971-45f2-bbaf-a2cce0cabc4a\",\"type\":\"CategoricalAxis\"}],\"css_classes\":null,\"left\":[{\"id\":\"68573590-512c-4844-869a-2b458b55daf1\",\"type\":\"LinearAxis\"}],\"renderers\":[{\"id\":\"3b18098a-bb76-421b-b11d-e83c419ae703\",\"type\":\"BoxAnnotation\"},{\"id\":\"d7f2659b-9784-4466-91a7-f86dfbd279e5\",\"type\":\"GlyphRenderer\"},{\"id\":\"ac960c74-4cd3-42b4-8d8f-f56be878e5f2\",\"type\":\"GlyphRenderer\"},{\"id\":\"d913806f-3bd4-453d-b02a-a028d2c374d2\",\"type\":\"GlyphRenderer\"},{\"id\":\"96ff965d-2f58-4d25-80eb-066d8d8c8e54\",\"type\":\"GlyphRenderer\"},{\"id\":\"6dabc0ef-3321-4c63-b0da-ddbf37a0028d\",\"type\":\"GlyphRenderer\"},{\"id\":\"90bb2194-e422-431f-87f0-decfe9ff1691\",\"type\":\"GlyphRenderer\"},{\"id\":\"26c099c0-bee3-4c4b-890f-4d18fe18f2b9\",\"type\":\"GlyphRenderer\"},{\"id\":\"723d9877-65b1-43d0-996d-e0b05ba60698\",\"type\":\"GlyphRenderer\"},{\"id\":\"c7f4a503-4e37-4ffa-9098-ae4da9e5f36a\",\"type\":\"GlyphRenderer\"},{\"id\":\"6c13cde2-6607-4013-b923-c3ee36df1ea3\",\"type\":\"GlyphRenderer\"},{\"id\":\"90aa534f-3e82-4dbb-b9b1-93e9cbc3170c\",\"type\":\"GlyphRenderer\"},{\"id\":\"1f2032ac-c5f9-4253-8279-2e068f611f43\",\"type\":\"GlyphRenderer\"},{\"id\":\"0e87a977-5416-4f8e-9521-87255bc31d71\",\"type\":\"GlyphRenderer\"},{\"id\":\"bd9d9a45-9558-4427-b219-0e865cc128cb\",\"type\":\"GlyphRenderer\"},{\"id\":\"826a25af-7b66-4c88-bf63-6d8b8c29b6bd\",\"type\":\"GlyphRenderer\"},{\"id\":\"1ff01048-391b-4a0a-89c8-fe54c1520706\",\"type\":\"GlyphRenderer\"},{\"id\":\"d26d49d0-ab4f-4d27-a314-d6f23b77ef6f\",\"type\":\"GlyphRenderer\"},{\"id\":\"74d516ce-8c2e-4807-97be-4e0736e8a1d4\",\"type\":\"GlyphRenderer\"},{\"id\":\"20299fdd-42dd-43b1-9e51-e0885400fd89\",\"type\":\"GlyphRenderer\"},{\"id\":\"a5fa90ec-a730-458e-bfc3-42ec9e44d8ca\",\"type\":\"GlyphRenderer\"},{\"id\":\"cc763fca-ad47-4885-b478-16786f18e6f7\",\"type\":\"GlyphRenderer\"},{\"id\":\"8efba71e-bbfa-4482-9a92-aaf3caab4700\",\"type\":\"GlyphRenderer\"},{\"id\":\"cb96ed54-8c7c-4bb2-8d5b-e80a499befdd\",\"type\":\"GlyphRenderer\"},{\"id\":\"ab64f844-d1af-4470-8e34-5eeaaed293da\",\"type\":\"GlyphRenderer\"},{\"id\":\"97fb56de-8867-442b-914c-fd416734a290\",\"type\":\"GlyphRenderer\"},{\"id\":\"54e4da12-d971-45f2-bbaf-a2cce0cabc4a\",\"type\":\"CategoricalAxis\"},{\"id\":\"68573590-512c-4844-869a-2b458b55daf1\",\"type\":\"LinearAxis\"},{\"id\":\"8f1a46fa-8e3b-4b9a-9362-aa8a5f3ab44f\",\"type\":\"Grid\"}],\"title\":{\"id\":\"cc8f4a7d-0caa-486f-a4c2-e83a67ef3eb8\",\"type\":\"Title\"},\"tool_events\":{\"id\":\"212d387b-1cb6-4009-b4e5-7f8d51b31577\",\"type\":\"ToolEvents\"},\"toolbar\":{\"id\":\"296d6222-0082-4503-90e6-c3ccb0441ba8\",\"type\":\"Toolbar\"},\"x_mapper_type\":\"auto\",\"x_range\":{\"id\":\"5b650a4e-73b4-495c-b39e-f1227ce60903\",\"type\":\"FactorRange\"},\"y_mapper_type\":\"auto\",\"y_range\":{\"id\":\"6fbfc4fd-e687-4388-90e7-60d43999be7c\",\"type\":\"Range1d\"}},\"id\":\"9845e9ac-b371-494a-a0c8-7bf0faf34633\",\"subtype\":\"Chart\",\"type\":\"Plot\"},{\"attributes\":{\"callback\":null,\"column_names\":[\"x\",\"y\",\"width\",\"height\",\"color\",\"fill_alpha\",\"line_color\",\"line_alpha\",\"label\"],\"data\":{\"chart_index\":[{\"index\":\"R4,R4\"}],\"color\":[\"#f22c40\"],\"fill_alpha\":[0.8],\"height\":[1.0],\"index\":[\"R4,R4\"],\"label\":[{\"index\":\"R4,R4\"}],\"line_alpha\":[1.0],\"line_color\":[\"white\"],\"width\":[0.8],\"x\":[\"R4,R4\"],\"y\":[0.5]}},\"id\":\"630a8b9e-7fc8-473f-a6cb-3c3bf2630c81\",\"type\":\"ColumnDataSource\"},{\"attributes\":{\"callback\":null,\"column_names\":[\"x\",\"y\",\"width\",\"height\",\"color\",\"fill_alpha\",\"line_color\",\"line_alpha\",\"label\"],\"data\":{\"chart_index\":[{\"index\":\"M2,R2,M3,R4,M4\"}],\"color\":[\"#f22c40\"],\"fill_alpha\":[0.8],\"height\":[1.0],\"index\":[\"M2,R2,M3,R4,M4\"],\"label\":[{\"index\":\"M2,R2,M3,R4,M4\"}],\"line_alpha\":[1.0],\"line_color\":[\"white\"],\"width\":[0.8],\"x\":[\"M2,R2,M3,R4,M4\"],\"y\":[0.5]}},\"id\":\"73a335f0-2a6b-4fa1-8af2-054699c5ca28\",\"type\":\"ColumnDataSource\"},{\"attributes\":{\"data_source\":{\"id\":\"8f8fadf3-ed6b-4c28-b16f-eb60f57f21d1\",\"type\":\"ColumnDataSource\"},\"glyph\":{\"id\":\"5cc44035-6ce1-4029-904e-3e343d9739b2\",\"type\":\"Rect\"},\"hover_glyph\":null,\"nonselection_glyph\":null,\"selection_glyph\":null},\"id\":\"96ff965d-2f58-4d25-80eb-066d8d8c8e54\",\"type\":\"GlyphRenderer\"},{\"attributes\":{\"callback\":null,\"column_names\":[\"x\",\"y\",\"width\",\"height\",\"color\",\"fill_alpha\",\"line_color\",\"line_alpha\",\"label\"],\"data\":{\"chart_index\":[{\"index\":\"R4,M4\"}],\"color\":[\"#f22c40\"],\"fill_alpha\":[0.8],\"height\":[4.0],\"index\":[\"R4,M4\"],\"label\":[{\"index\":\"R4,M4\"}],\"line_alpha\":[1.0],\"line_color\":[\"white\"],\"width\":[0.8],\"x\":[\"R4,M4\"],\"y\":[2.0]}},\"id\":\"81cec075-7ed0-43bd-b95e-9c13abfae10b\",\"type\":\"ColumnDataSource\"}],\"root_ids\":[\"9845e9ac-b371-494a-a0c8-7bf0faf34633\"]},\"title\":\"Bokeh Application\",\"version\":\"0.12.4\"}};\n",
       "            var render_items = [{\"docid\":\"a19ec3de-36eb-4ec6-a86b-474de068aaa9\",\"elementid\":\"498df4a5-c23a-4bee-9111-9d88dbbbbf02\",\"modelid\":\"9845e9ac-b371-494a-a0c8-7bf0faf34633\"}];\n",
       "            \n",
       "            Bokeh.embed.embed_items(docs_json, render_items);\n",
       "          };\n",
       "          if (document.readyState != \"loading\") fn();\n",
       "          else document.addEventListener(\"DOMContentLoaded\", fn);\n",
       "        })();\n",
       "      },\n",
       "      function(Bokeh) {\n",
       "      }\n",
       "    ];\n",
       "  \n",
       "    function run_inline_js() {\n",
       "      \n",
       "      if ((window.Bokeh !== undefined) || (force === true)) {\n",
       "        for (var i = 0; i < inline_js.length; i++) {\n",
       "          inline_js[i](window.Bokeh);\n",
       "        }if (force === true) {\n",
       "          display_loaded();\n",
       "        }} else if (Date.now() < window._bokeh_timeout) {\n",
       "        setTimeout(run_inline_js, 100);\n",
       "      } else if (!window._bokeh_failed_load) {\n",
       "        console.log(\"Bokeh: BokehJS failed to load within specified timeout.\");\n",
       "        window._bokeh_failed_load = true;\n",
       "      } else if (force !== true) {\n",
       "        var cell = $(document.getElementById(\"498df4a5-c23a-4bee-9111-9d88dbbbbf02\")).parents('.cell').data().cell;\n",
       "        cell.output_area.append_execute_result(NB_LOAD_WARNING)\n",
       "      }\n",
       "  \n",
       "    }\n",
       "  \n",
       "    if (window._bokeh_is_loading === 0) {\n",
       "      console.log(\"Bokeh: BokehJS loaded, going straight to plotting\");\n",
       "      run_inline_js();\n",
       "    } else {\n",
       "      load_libs(js_urls, function() {\n",
       "        console.log(\"Bokeh: BokehJS plotting callback run at\", now());\n",
       "        run_inline_js();\n",
       "      });\n",
       "    }\n",
       "  }(this));\n",
       "</script>"
      ]
     },
     "metadata": {},
     "output_type": "display_data"
    }
   ],
   "source": [
    "df_zone4 = df_zones[df_zones['naarZone4'] == 'true'].groupby('zones').zones.count()\n",
    "\n",
    "p = Bar(df_zone4, title=\"(Kans) zone 4 bereikt / per zone volgorde\", legend=False)\n",
    "show(p)"
   ]
  },
  {
   "cell_type": "markdown",
   "metadata": {},
   "source": [
    "#### Waar wordt veel gespeeld?"
   ]
  },
  {
   "cell_type": "markdown",
   "metadata": {},
   "source": [
    "Acties die uiteindelijk zone 4 bereiken zijn meegenomen in deze visualisatie."
   ]
  },
  {
   "cell_type": "code",
   "execution_count": 163,
   "metadata": {
    "collapsed": true
   },
   "outputs": [],
   "source": [
    "df_zone4_percentage = df_zones[df_zones['naarZone4'] == 'true'][['lPercentage', 'mPercentage', 'rPercentage']].mean()"
   ]
  },
  {
   "cell_type": "code",
   "execution_count": 164,
   "metadata": {
    "collapsed": false
   },
   "outputs": [
    {
     "data": {
      "image/png": "[encoded data removed]",
      "text/plain": [
       "<matplotlib.figure.Figure at 0x24857276208>"
      ]
     },
     "metadata": {},
     "output_type": "display_data"
    }
   ],
   "source": [
    "df_zone4_perc_labels = [r'Linker zone', r'Middelste zone', r'Rechter zone']\n",
    "df_zone4_perc_sizes = df_zone4_percentage\n",
    "df_zone4_perc_colors = ['yellowgreen', 'gold', 'lightskyblue']\n",
    "df_zone4_perc_patches, texts = plt.pie(df_zone4_perc_sizes, colors=df_zone4_perc_colors, labels=df_zone4_percentage)\n",
    "plt.legend(df_zone4_perc_patches, df_zone4_perc_labels, loc=\"right\")\n",
    "\n",
    "plt.axis('equal')\n",
    "plt.tight_layout()\n",
    "plt.suptitle('Verdeling zones')\n",
    "plt.show()"
   ]
  },
  {
   "cell_type": "markdown",
   "metadata": {},
   "source": [
    "#### Is er spraken van een normaalverdeling?"
   ]
  },
  {
   "cell_type": "markdown",
   "metadata": {},
   "source": [
    "Een normaal verdeling heeft te maken met skewness & kurtosis van de data. Een manier om snel te kunnen zien of data normaal verdeeld is door een probability plot toe te passen."
   ]
  },
  {
   "cell_type": "markdown",
   "metadata": {},
   "source": [
    "##### zonesCount"
   ]
  },
  {
   "cell_type": "code",
   "execution_count": 165,
   "metadata": {
    "collapsed": false
   },
   "outputs": [
    {
     "data": {
      "image/png": "[encoded data removed]",
      "text/plain": [
       "<matplotlib.figure.Figure at 0x24853271b70>"
      ]
     },
     "metadata": {},
     "output_type": "display_data"
    }
   ],
   "source": [
    "fig = plt.figure()\n",
    "x = df_zones['zonesCount'].values\n",
    "stats.probplot(x, plot=plt)\n",
    "plt.show()"
   ]
  },
  {
   "cell_type": "markdown",
   "metadata": {},
   "source": [
    "De bovenstaande plot heeft een rodelijn die de normaal verdeling voorsteld. De blauwe elementen zijn de waarden van de 'zonesCount' van de dataset. Deze werkt sterk af en is dus niet normaal verdeeld."
   ]
  },
  {
   "cell_type": "markdown",
   "metadata": {},
   "source": [
    "##### lPercentage"
   ]
  },
  {
   "cell_type": "markdown",
   "metadata": {},
   "source": [
    "Hieronder zien we een visualisatie van de probability van de LPercentage (Hoeveel procent in acties voorkomen aan de linker kant van het veld)"
   ]
  },
  {
   "cell_type": "markdown",
   "metadata": {},
   "source": [
    "Op de y as bij 0 en 100 zijn er veel waarden af te lezen. Zoals de data er nu uitziet is deze dus niet normaal verdeeld."
   ]
  },
  {
   "cell_type": "code",
   "execution_count": 166,
   "metadata": {
    "collapsed": false
   },
   "outputs": [
    {
     "data": {
      "image/png": "[encoded data removed]",
      "text/plain": [
       "<matplotlib.figure.Figure at 0x24857839e80>"
      ]
     },
     "metadata": {},
     "output_type": "display_data"
    }
   ],
   "source": [
    "fig = plt.figure()\n",
    "x = df_zones['mPercentage'].values\n",
    "stats.probplot(x, plot=plt)\n",
    "\n",
    "plt.show()"
   ]
  },
  {
   "cell_type": "markdown",
   "metadata": {},
   "source": [
    "Als we nou die 0 en 100 waarden uitfilteren en concentreren op de waarden in het midden krijgen we een heel ander beeld. Dit lijkt eerder wel weer normaalverdeeld te zijn. "
   ]
  },
  {
   "cell_type": "code",
   "execution_count": 167,
   "metadata": {
    "collapsed": false
   },
   "outputs": [
    {
     "data": {
      "image/png": "[encoded data removed]",
      "text/plain": [
       "<matplotlib.figure.Figure at 0x24858fde860>"
      ]
     },
     "metadata": {},
     "output_type": "display_data"
    }
   ],
   "source": [
    "fig = plt.figure()\n",
    "x = df_zones[(df_zones['lPercentage'] != 100) & (df_zones['lPercentage'] > 0)]['lPercentage'].values\n",
    "stats.probplot(x, plot=plt)\n",
    "\n",
    "plt.show()"
   ]
  },
  {
   "cell_type": "markdown",
   "metadata": {},
   "source": [
    "Soortgelijke resultaten zullen plaatsvinden bij de mPercentage en de rPercentage."
   ]
  },
  {
   "cell_type": "markdown",
   "metadata": {},
   "source": [
    "#### Correlatie:"
   ]
  },
  {
   "cell_type": "markdown",
   "metadata": {},
   "source": [
    "Zijn er dan nog verbanden te leggen tussen de columns in de dataset?"
   ]
  },
  {
   "cell_type": "code",
   "execution_count": 168,
   "metadata": {
    "collapsed": false,
    "scrolled": true
   },
   "outputs": [
    {
     "data": {
      "text/html": [
       "<div>\n",
       "<table border=\"1\" class=\"dataframe\">\n",
       "  <thead>\n",
       "    <tr style=\"text-align: right;\">\n",
       "      <th></th>\n",
       "      <th>id</th>\n",
       "      <th>zonesCount</th>\n",
       "      <th>lPercentage</th>\n",
       "      <th>mPercentage</th>\n",
       "      <th>rPercentage</th>\n",
       "    </tr>\n",
       "  </thead>\n",
       "  <tbody>\n",
       "    <tr>\n",
       "      <th>id</th>\n",
       "      <td>1.000000</td>\n",
       "      <td>-0.067749</td>\n",
       "      <td>-0.032414</td>\n",
       "      <td>0.099755</td>\n",
       "      <td>-0.079361</td>\n",
       "    </tr>\n",
       "    <tr>\n",
       "      <th>zonesCount</th>\n",
       "      <td>-0.067749</td>\n",
       "      <td>1.000000</td>\n",
       "      <td>-0.012600</td>\n",
       "      <td>0.006305</td>\n",
       "      <td>0.005813</td>\n",
       "    </tr>\n",
       "    <tr>\n",
       "      <th>lPercentage</th>\n",
       "      <td>-0.032414</td>\n",
       "      <td>-0.012600</td>\n",
       "      <td>1.000000</td>\n",
       "      <td>-0.573041</td>\n",
       "      <td>-0.379306</td>\n",
       "    </tr>\n",
       "    <tr>\n",
       "      <th>mPercentage</th>\n",
       "      <td>0.099755</td>\n",
       "      <td>0.006305</td>\n",
       "      <td>-0.573041</td>\n",
       "      <td>1.000000</td>\n",
       "      <td>-0.540926</td>\n",
       "    </tr>\n",
       "    <tr>\n",
       "      <th>rPercentage</th>\n",
       "      <td>-0.079361</td>\n",
       "      <td>0.005813</td>\n",
       "      <td>-0.379306</td>\n",
       "      <td>-0.540926</td>\n",
       "      <td>1.000000</td>\n",
       "    </tr>\n",
       "  </tbody>\n",
       "</table>\n",
       "</div>"
      ],
      "text/plain": [
       "                   id  zonesCount  lPercentage  mPercentage  rPercentage\n",
       "id           1.000000   -0.067749    -0.032414     0.099755    -0.079361\n",
       "zonesCount  -0.067749    1.000000    -0.012600     0.006305     0.005813\n",
       "lPercentage -0.032414   -0.012600     1.000000    -0.573041    -0.379306\n",
       "mPercentage  0.099755    0.006305    -0.573041     1.000000    -0.540926\n",
       "rPercentage -0.079361    0.005813    -0.379306    -0.540926     1.000000"
      ]
     },
     "execution_count": 168,
     "metadata": {},
     "output_type": "execute_result"
    }
   ],
   "source": [
    "df_zones.corr()"
   ]
  },
  {
   "cell_type": "markdown",
   "metadata": {},
   "source": [
    "Hierboven zijn enkele negatieve correlaties te zien en vrijwel geen positieve. Mogelijk verschilt dit weer per wedstrijd als er dan oppeens meer aan een andere kant wordt gespeeld."
   ]
  },
  {
   "cell_type": "markdown",
   "metadata": {},
   "source": [
    "#### Totale rendement per speler per wedstrijd:"
   ]
  },
  {
   "cell_type": "code",
   "execution_count": 169,
   "metadata": {
    "collapsed": false
   },
   "outputs": [
    {
     "data": {
      "text/html": [
       "\n",
       "    <div class=\"bk-root\">\n",
       "        <a href=\"http://bokeh.pydata.org\" target=\"_blank\" class=\"bk-logo bk-logo-small bk-logo-notebook\"></a>\n",
       "        <span id=\"59bd66b5-4f5f-43ce-bbe8-8aa953897011\">Loading BokehJS ...</span>\n",
       "    </div>"
      ]
     },
     "metadata": {},
     "output_type": "display_data"
    },
    {
     "data": {
      "application/javascript": [
       "\n",
       "(function(global) {\n",
       "  function now() {\n",
       "    return new Date();\n",
       "  }\n",
       "\n",
       "  var force = true;\n",
       "\n",
       "  if (typeof (window._bokeh_onload_callbacks) === \"undefined\" || force === true) {\n",
       "    window._bokeh_onload_callbacks = [];\n",
       "    window._bokeh_is_loading = undefined;\n",
       "  }\n",
       "\n",
       "\n",
       "  \n",
       "  if (typeof (window._bokeh_timeout) === \"undefined\" || force === true) {\n",
       "    window._bokeh_timeout = Date.now() + 5000;\n",
       "    window._bokeh_failed_load = false;\n",
       "  }\n",
       "\n",
       "  var NB_LOAD_WARNING = {'data': {'text/html':\n",
       "     \"<div style='background-color: #fdd'>\\n\"+\n",
       "     \"<p>\\n\"+\n",
       "     \"BokehJS does not appear to have successfully loaded. If loading BokehJS from CDN, this \\n\"+\n",
       "     \"may be due to a slow or bad network connection. Possible fixes:\\n\"+\n",
       "     \"</p>\\n\"+\n",
       "     \"<ul>\\n\"+\n",
       "     \"<li>re-rerun `output_notebook()` to attempt to load from CDN again, or</li>\\n\"+\n",
       "     \"<li>use INLINE resources instead, as so:</li>\\n\"+\n",
       "     \"</ul>\\n\"+\n",
       "     \"<code>\\n\"+\n",
       "     \"from bokeh.resources import INLINE\\n\"+\n",
       "     \"output_notebook(resources=INLINE)\\n\"+\n",
       "     \"</code>\\n\"+\n",
       "     \"</div>\"}};\n",
       "\n",
       "  function display_loaded() {\n",
       "    if (window.Bokeh !== undefined) {\n",
       "      document.getElementById(\"59bd66b5-4f5f-43ce-bbe8-8aa953897011\").textContent = \"BokehJS successfully loaded.\";\n",
       "    } else if (Date.now() < window._bokeh_timeout) {\n",
       "      setTimeout(display_loaded, 100)\n",
       "    }\n",
       "  }\n",
       "\n",
       "  function run_callbacks() {\n",
       "    window._bokeh_onload_callbacks.forEach(function(callback) { callback() });\n",
       "    delete window._bokeh_onload_callbacks\n",
       "    console.info(\"Bokeh: all callbacks have finished\");\n",
       "  }\n",
       "\n",
       "  function load_libs(js_urls, callback) {\n",
       "    window._bokeh_onload_callbacks.push(callback);\n",
       "    if (window._bokeh_is_loading > 0) {\n",
       "      console.log(\"Bokeh: BokehJS is being loaded, scheduling callback at\", now());\n",
       "      return null;\n",
       "    }\n",
       "    if (js_urls == null || js_urls.length === 0) {\n",
       "      run_callbacks();\n",
       "      return null;\n",
       "    }\n",
       "    console.log(\"Bokeh: BokehJS not loaded, scheduling load and callback at\", now());\n",
       "    window._bokeh_is_loading = js_urls.length;\n",
       "    for (var i = 0; i < js_urls.length; i++) {\n",
       "      var url = js_urls[i];\n",
       "      var s = document.createElement('script');\n",
       "      s.src = url;\n",
       "      s.async = false;\n",
       "      s.onreadystatechange = s.onload = function() {\n",
       "        window._bokeh_is_loading--;\n",
       "        if (window._bokeh_is_loading === 0) {\n",
       "          console.log(\"Bokeh: all BokehJS libraries loaded\");\n",
       "          run_callbacks()\n",
       "        }\n",
       "      };\n",
       "      s.onerror = function() {\n",
       "        console.warn(\"failed to load library \" + url);\n",
       "      };\n",
       "      console.log(\"Bokeh: injecting script tag for BokehJS library: \", url);\n",
       "      document.getElementsByTagName(\"head\")[0].appendChild(s);\n",
       "    }\n",
       "  };var element = document.getElementById(\"59bd66b5-4f5f-43ce-bbe8-8aa953897011\");\n",
       "  if (element == null) {\n",
       "    console.log(\"Bokeh: ERROR: autoload.js configured with elementid '59bd66b5-4f5f-43ce-bbe8-8aa953897011' but no matching script tag was found. \")\n",
       "    return false;\n",
       "  }\n",
       "\n",
       "  var js_urls = [\"https://cdn.pydata.org/bokeh/release/bokeh-0.12.4.min.js\", \"https://cdn.pydata.org/bokeh/release/bokeh-widgets-0.12.4.min.js\"];\n",
       "\n",
       "  var inline_js = [\n",
       "    function(Bokeh) {\n",
       "      Bokeh.set_log_level(\"info\");\n",
       "    },\n",
       "    \n",
       "    function(Bokeh) {\n",
       "      \n",
       "      document.getElementById(\"59bd66b5-4f5f-43ce-bbe8-8aa953897011\").textContent = \"BokehJS is loading...\";\n",
       "    },\n",
       "    function(Bokeh) {\n",
       "      console.log(\"Bokeh: injecting CSS: https://cdn.pydata.org/bokeh/release/bokeh-0.12.4.min.css\");\n",
       "      Bokeh.embed.inject_css(\"https://cdn.pydata.org/bokeh/release/bokeh-0.12.4.min.css\");\n",
       "      console.log(\"Bokeh: injecting CSS: https://cdn.pydata.org/bokeh/release/bokeh-widgets-0.12.4.min.css\");\n",
       "      Bokeh.embed.inject_css(\"https://cdn.pydata.org/bokeh/release/bokeh-widgets-0.12.4.min.css\");\n",
       "    }\n",
       "  ];\n",
       "\n",
       "  function run_inline_js() {\n",
       "    \n",
       "    if ((window.Bokeh !== undefined) || (force === true)) {\n",
       "      for (var i = 0; i < inline_js.length; i++) {\n",
       "        inline_js[i](window.Bokeh);\n",
       "      }if (force === true) {\n",
       "        display_loaded();\n",
       "      }} else if (Date.now() < window._bokeh_timeout) {\n",
       "      setTimeout(run_inline_js, 100);\n",
       "    } else if (!window._bokeh_failed_load) {\n",
       "      console.log(\"Bokeh: BokehJS failed to load within specified timeout.\");\n",
       "      window._bokeh_failed_load = true;\n",
       "    } else if (force !== true) {\n",
       "      var cell = $(document.getElementById(\"59bd66b5-4f5f-43ce-bbe8-8aa953897011\")).parents('.cell').data().cell;\n",
       "      cell.output_area.append_execute_result(NB_LOAD_WARNING)\n",
       "    }\n",
       "\n",
       "  }\n",
       "\n",
       "  if (window._bokeh_is_loading === 0) {\n",
       "    console.log(\"Bokeh: BokehJS loaded, going straight to plotting\");\n",
       "    run_inline_js();\n",
       "  } else {\n",
       "    load_libs(js_urls, function() {\n",
       "      console.log(\"Bokeh: BokehJS plotting callback run at\", now());\n",
       "      run_inline_js();\n",
       "    });\n",
       "  }\n",
       "}(this));"
      ]
     },
     "metadata": {},
     "output_type": "display_data"
    },
    {
     "data": {
      "text/html": [
       "\n",
       "\n",
       "    <div class=\"bk-root\">\n",
       "        <div class=\"bk-plotdiv\" id=\"c709c70e-b28c-4e93-b2f2-fa96a1c54fb6\"></div>\n",
       "    </div>\n",
       "<script type=\"text/javascript\">\n",
       "  \n",
       "  (function(global) {\n",
       "    function now() {\n",
       "      return new Date();\n",
       "    }\n",
       "  \n",
       "    var force = false;\n",
       "  \n",
       "    if (typeof (window._bokeh_onload_callbacks) === \"undefined\" || force === true) {\n",
       "      window._bokeh_onload_callbacks = [];\n",
       "      window._bokeh_is_loading = undefined;\n",
       "    }\n",
       "  \n",
       "  \n",
       "    \n",
       "    if (typeof (window._bokeh_timeout) === \"undefined\" || force === true) {\n",
       "      window._bokeh_timeout = Date.now() + 0;\n",
       "      window._bokeh_failed_load = false;\n",
       "    }\n",
       "  \n",
       "    var NB_LOAD_WARNING = {'data': {'text/html':\n",
       "       \"<div style='background-color: #fdd'>\\n\"+\n",
       "       \"<p>\\n\"+\n",
       "       \"BokehJS does not appear to have successfully loaded. If loading BokehJS from CDN, this \\n\"+\n",
       "       \"may be due to a slow or bad network connection. Possible fixes:\\n\"+\n",
       "       \"</p>\\n\"+\n",
       "       \"<ul>\\n\"+\n",
       "       \"<li>re-rerun `output_notebook()` to attempt to load from CDN again, or</li>\\n\"+\n",
       "       \"<li>use INLINE resources instead, as so:</li>\\n\"+\n",
       "       \"</ul>\\n\"+\n",
       "       \"<code>\\n\"+\n",
       "       \"from bokeh.resources import INLINE\\n\"+\n",
       "       \"output_notebook(resources=INLINE)\\n\"+\n",
       "       \"</code>\\n\"+\n",
       "       \"</div>\"}};\n",
       "  \n",
       "    function display_loaded() {\n",
       "      if (window.Bokeh !== undefined) {\n",
       "        document.getElementById(\"c709c70e-b28c-4e93-b2f2-fa96a1c54fb6\").textContent = \"BokehJS successfully loaded.\";\n",
       "      } else if (Date.now() < window._bokeh_timeout) {\n",
       "        setTimeout(display_loaded, 100)\n",
       "      }\n",
       "    }\n",
       "  \n",
       "    function run_callbacks() {\n",
       "      window._bokeh_onload_callbacks.forEach(function(callback) { callback() });\n",
       "      delete window._bokeh_onload_callbacks\n",
       "      console.info(\"Bokeh: all callbacks have finished\");\n",
       "    }\n",
       "  \n",
       "    function load_libs(js_urls, callback) {\n",
       "      window._bokeh_onload_callbacks.push(callback);\n",
       "      if (window._bokeh_is_loading > 0) {\n",
       "        console.log(\"Bokeh: BokehJS is being loaded, scheduling callback at\", now());\n",
       "        return null;\n",
       "      }\n",
       "      if (js_urls == null || js_urls.length === 0) {\n",
       "        run_callbacks();\n",
       "        return null;\n",
       "      }\n",
       "      console.log(\"Bokeh: BokehJS not loaded, scheduling load and callback at\", now());\n",
       "      window._bokeh_is_loading = js_urls.length;\n",
       "      for (var i = 0; i < js_urls.length; i++) {\n",
       "        var url = js_urls[i];\n",
       "        var s = document.createElement('script');\n",
       "        s.src = url;\n",
       "        s.async = false;\n",
       "        s.onreadystatechange = s.onload = function() {\n",
       "          window._bokeh_is_loading--;\n",
       "          if (window._bokeh_is_loading === 0) {\n",
       "            console.log(\"Bokeh: all BokehJS libraries loaded\");\n",
       "            run_callbacks()\n",
       "          }\n",
       "        };\n",
       "        s.onerror = function() {\n",
       "          console.warn(\"failed to load library \" + url);\n",
       "        };\n",
       "        console.log(\"Bokeh: injecting script tag for BokehJS library: \", url);\n",
       "        document.getElementsByTagName(\"head\")[0].appendChild(s);\n",
       "      }\n",
       "    };var element = document.getElementById(\"c709c70e-b28c-4e93-b2f2-fa96a1c54fb6\");\n",
       "    if (element == null) {\n",
       "      console.log(\"Bokeh: ERROR: autoload.js configured with elementid 'c709c70e-b28c-4e93-b2f2-fa96a1c54fb6' but no matching script tag was found. \")\n",
       "      return false;\n",
       "    }\n",
       "  \n",
       "    var js_urls = [];\n",
       "  \n",
       "    var inline_js = [\n",
       "      function(Bokeh) {\n",
       "        (function() {\n",
       "          var fn = function() {\n",
       "            var docs_json = {\"e467d3f4-9a1a-4295-9fc1-d96ac1876e0c\":{\"roots\":{\"references\":[{\"attributes\":{\"callback\":null,\"column_names\":[\"x\",\"y\",\"width\",\"height\",\"color\",\"fill_alpha\",\"line_color\",\"line_alpha\",\"label\"],\"data\":{\"chart_index\":[{\"rendement\":\"BOP\"}],\"color\":[\"#f22c40\"],\"fill_alpha\":[0.8],\"height\":[1.0],\"label\":[{\"rendement\":\"BOP\"}],\"line_alpha\":[1.0],\"line_color\":[\"white\"],\"rendement\":[\"BOP\"],\"width\":[0.8],\"x\":[\"BOP\"],\"y\":[0.5]}},\"id\":\"a1f6e213-46b5-4fee-812b-1113ee6a6785\",\"type\":\"ColumnDataSource\"},{\"attributes\":{},\"id\":\"416ccbf7-5fa7-4e77-933c-7c74923f59dd\",\"type\":\"ToolEvents\"},{\"attributes\":{\"plot\":{\"id\":\"2fd32b82-db44-41c5-bddf-2924cd87e1c6\",\"subtype\":\"Chart\",\"type\":\"Plot\"}},\"id\":\"ef71aa57-104c-4d98-9328-3ea405cd28c8\",\"type\":\"PanTool\"},{\"attributes\":{\"data_source\":{\"id\":\"8db78dac-3079-4235-9772-1c2806b6cbef\",\"type\":\"ColumnDataSource\"},\"glyph\":{\"id\":\"260bdee7-e2ab-433d-96c4-d5e31b93d2b1\",\"type\":\"Rect\"},\"hover_glyph\":null,\"nonselection_glyph\":null,\"selection_glyph\":null},\"id\":\"7026074b-0686-4925-ab9d-5059b1cb3bc5\",\"type\":\"GlyphRenderer\"},{\"attributes\":{\"label\":{\"value\":\"Foul TEG\"},\"renderers\":[{\"id\":\"ebe8ca5b-eaa2-4776-81b2-68d6d545edf3\",\"type\":\"GlyphRenderer\"}]},\"id\":\"d293a29b-5d4e-47b6-8a53-f8a797d39ee7\",\"type\":\"LegendItem\"},{\"attributes\":{},\"id\":\"8f5ac118-318a-424d-bd48-a38402437449\",\"type\":\"BasicTickFormatter\"},{\"attributes\":{\"items\":[{\"id\":\"7f6b6ea7-bfd6-4b08-aeb5-83a190a674b2\",\"type\":\"LegendItem\"},{\"id\":\"e9d2897c-d423-45b4-8b4f-af85a1939c9b\",\"type\":\"LegendItem\"},{\"id\":\"8bc9f071-8ca4-42dc-bb9a-ffb7a6313b23\",\"type\":\"LegendItem\"},{\"id\":\"47da4d6b-0f51-4d63-ab05-1f5125ffc744\",\"type\":\"LegendItem\"},{\"id\":\"c1717223-e578-475e-9e9a-574a6277f361\",\"type\":\"LegendItem\"},{\"id\":\"d293a29b-5d4e-47b6-8a53-f8a797d39ee7\",\"type\":\"LegendItem\"},{\"id\":\"e134238b-ec44-40cf-b922-50c10b56500a\",\"type\":\"LegendItem\"}],\"location\":\"top_left\",\"plot\":{\"id\":\"248209b9-8e1e-4ce9-812a-cfb2049789ae\",\"subtype\":\"Chart\",\"type\":\"Plot\"}},\"id\":\"8ca22bb4-c220-48c9-b7b9-8315c337f1a3\",\"type\":\"Legend\"},{\"attributes\":{},\"id\":\"32012252-27df-4486-8a34-22be4786b6cd\",\"type\":\"CategoricalTickFormatter\"},{\"attributes\":{\"fill_alpha\":{\"field\":\"fill_alpha\"},\"fill_color\":{\"field\":\"color\"},\"height\":{\"field\":\"height\",\"units\":\"data\"},\"line_color\":{\"field\":\"line_color\"},\"width\":{\"field\":\"width\",\"units\":\"data\"},\"x\":{\"field\":\"x\"},\"y\":{\"field\":\"y\"}},\"id\":\"593ebef1-5afd-4a7c-b39c-7af7493c55fd\",\"type\":\"Rect\"},{\"attributes\":{\"bottom_units\":\"screen\",\"fill_alpha\":{\"value\":0.5},\"fill_color\":{\"value\":\"lightgrey\"},\"left_units\":\"screen\",\"level\":\"overlay\",\"line_alpha\":{\"value\":1.0},\"line_color\":{\"value\":\"black\"},\"line_dash\":[4,4],\"line_width\":{\"value\":2},\"plot\":null,\"render_mode\":\"css\",\"right_units\":\"screen\",\"top_units\":\"screen\"},\"id\":\"f6aa811a-7e9a-4c64-92db-a5ffa911c24a\",\"type\":\"BoxAnnotation\"},{\"attributes\":{\"plot\":{\"id\":\"07ba9e0d-dcc2-4362-8ee4-23cb65162871\",\"subtype\":\"Chart\",\"type\":\"Plot\"}},\"id\":\"4d8ddeec-59e2-4f14-92b7-79af62d0f096\",\"type\":\"SaveTool\"},{\"attributes\":{\"plot\":{\"id\":\"2fd32b82-db44-41c5-bddf-2924cd87e1c6\",\"subtype\":\"Chart\",\"type\":\"Plot\"}},\"id\":\"5f255c4c-077d-4fa7-b08d-b5381baa95bf\",\"type\":\"WheelZoomTool\"},{\"attributes\":{\"label\":{\"value\":\"Voorzet\"},\"renderers\":[{\"id\":\"7026074b-0686-4925-ab9d-5059b1cb3bc5\",\"type\":\"GlyphRenderer\"}]},\"id\":\"c1717223-e578-475e-9e9a-574a6277f361\",\"type\":\"LegendItem\"},{\"attributes\":{\"active_drag\":\"auto\",\"active_scroll\":\"auto\",\"active_tap\":\"auto\",\"tools\":[{\"id\":\"27810ee4-5d7a-4314-a4b0-26d8f5674e84\",\"type\":\"PanTool\"},{\"id\":\"8bdaede7-3905-4f85-9b0d-d9522f29c4ba\",\"type\":\"WheelZoomTool\"},{\"id\":\"4f200a54-21be-4c59-b522-3d6bffc02fd1\",\"type\":\"BoxZoomTool\"},{\"id\":\"b91344bb-0eed-4dfe-b0bf-0db168a4a390\",\"type\":\"SaveTool\"},{\"id\":\"b8461d86-9ae4-4018-b736-373df2ca27a7\",\"type\":\"ResetTool\"},{\"id\":\"a881df0e-df61-460c-ab5b-53c6139acc40\",\"type\":\"HelpTool\"}]},\"id\":\"161f50de-b26b-4082-81d0-f3470941a1d2\",\"type\":\"Toolbar\"},{\"attributes\":{\"data_source\":{\"id\":\"cbf3d6f3-d184-4cdc-b486-d2eafc20ec27\",\"type\":\"ColumnDataSource\"},\"glyph\":{\"id\":\"593ebef1-5afd-4a7c-b39c-7af7493c55fd\",\"type\":\"Rect\"},\"hover_glyph\":null,\"nonselection_glyph\":null,\"selection_glyph\":null},\"id\":\"ebe8ca5b-eaa2-4776-81b2-68d6d545edf3\",\"type\":\"GlyphRenderer\"},{\"attributes\":{\"plot\":{\"id\":\"248209b9-8e1e-4ce9-812a-cfb2049789ae\",\"subtype\":\"Chart\",\"type\":\"Plot\"}},\"id\":\"27810ee4-5d7a-4314-a4b0-26d8f5674e84\",\"type\":\"PanTool\"},{\"attributes\":{\"callback\":null,\"column_names\":[\"x\",\"y\",\"width\",\"height\",\"color\",\"fill_alpha\",\"line_color\",\"line_alpha\",\"label\"],\"data\":{\"chart_index\":[{\"rendement\":\"Foul TEG\"}],\"color\":[\"#f22c40\"],\"fill_alpha\":[0.8],\"height\":[5.0],\"label\":[{\"rendement\":\"Foul TEG\"}],\"line_alpha\":[1.0],\"line_color\":[\"white\"],\"rendement\":[\"Foul TEG\"],\"width\":[0.8],\"x\":[\"Foul TEG\"],\"y\":[2.5]}},\"id\":\"cbf3d6f3-d184-4cdc-b486-d2eafc20ec27\",\"type\":\"ColumnDataSource\"},{\"attributes\":{\"label\":{\"value\":\"Corner\"},\"renderers\":[{\"id\":\"a1995a85-ba33-4e2b-b9b8-30e91998e628\",\"type\":\"GlyphRenderer\"}]},\"id\":\"e9d2897c-d423-45b4-8b4f-af85a1939c9b\",\"type\":\"LegendItem\"},{\"attributes\":{\"plot\":null,\"text\":\"NEC - Roda JC\"},\"id\":\"ccbe3f7e-902d-4497-8353-b25bdac26d45\",\"type\":\"Title\"},{\"attributes\":{\"label\":{\"value\":\"Foul NEC\"},\"renderers\":[{\"id\":\"0f460edb-a950-4022-9df4-ddf17e152f62\",\"type\":\"GlyphRenderer\"}]},\"id\":\"6c341a87-5f4c-4b80-81f7-a1d087c3c4aa\",\"type\":\"LegendItem\"},{\"attributes\":{\"fill_alpha\":{\"field\":\"fill_alpha\"},\"fill_color\":{\"field\":\"color\"},\"height\":{\"field\":\"height\",\"units\":\"data\"},\"line_color\":{\"field\":\"line_color\"},\"width\":{\"field\":\"width\",\"units\":\"data\"},\"x\":{\"field\":\"x\"},\"y\":{\"field\":\"y\"}},\"id\":\"3a5094bc-f68f-43ab-b8e8-294f712793d6\",\"type\":\"Rect\"},{\"attributes\":{\"fill_alpha\":{\"field\":\"fill_alpha\"},\"fill_color\":{\"field\":\"color\"},\"height\":{\"field\":\"height\",\"units\":\"data\"},\"line_color\":{\"field\":\"line_color\"},\"width\":{\"field\":\"width\",\"units\":\"data\"},\"x\":{\"field\":\"x\"},\"y\":{\"field\":\"y\"}},\"id\":\"ea9c88f9-835c-4a46-8a19-e7dfda01a524\",\"type\":\"Rect\"},{\"attributes\":{\"plot\":{\"id\":\"248209b9-8e1e-4ce9-812a-cfb2049789ae\",\"subtype\":\"Chart\",\"type\":\"Plot\"}},\"id\":\"8bdaede7-3905-4f85-9b0d-d9522f29c4ba\",\"type\":\"WheelZoomTool\"},{\"attributes\":{\"overlay\":{\"id\":\"f6aa811a-7e9a-4c64-92db-a5ffa911c24a\",\"type\":\"BoxAnnotation\"},\"plot\":{\"id\":\"248209b9-8e1e-4ce9-812a-cfb2049789ae\",\"subtype\":\"Chart\",\"type\":\"Plot\"}},\"id\":\"4f200a54-21be-4c59-b522-3d6bffc02fd1\",\"type\":\"BoxZoomTool\"},{\"attributes\":{\"plot\":{\"id\":\"248209b9-8e1e-4ce9-812a-cfb2049789ae\",\"subtype\":\"Chart\",\"type\":\"Plot\"}},\"id\":\"b91344bb-0eed-4dfe-b0bf-0db168a4a390\",\"type\":\"SaveTool\"},{\"attributes\":{\"label\":{\"value\":\"BOP\"},\"renderers\":[{\"id\":\"580972d0-59a3-426e-af15-6a18da38604c\",\"type\":\"GlyphRenderer\"}]},\"id\":\"e134238b-ec44-40cf-b922-50c10b56500a\",\"type\":\"LegendItem\"},{\"attributes\":{},\"id\":\"fd543e2c-75eb-49dc-9ea2-0805d25d6d13\",\"type\":\"CategoricalTicker\"},{\"attributes\":{\"plot\":{\"id\":\"248209b9-8e1e-4ce9-812a-cfb2049789ae\",\"subtype\":\"Chart\",\"type\":\"Plot\"}},\"id\":\"b8461d86-9ae4-4018-b736-373df2ca27a7\",\"type\":\"ResetTool\"},{\"attributes\":{},\"id\":\"9bd86938-550b-4723-91d8-22d109e321e5\",\"type\":\"BasicTicker\"},{\"attributes\":{\"plot\":{\"id\":\"248209b9-8e1e-4ce9-812a-cfb2049789ae\",\"subtype\":\"Chart\",\"type\":\"Plot\"}},\"id\":\"a881df0e-df61-460c-ab5b-53c6139acc40\",\"type\":\"HelpTool\"},{\"attributes\":{\"bottom_units\":\"screen\",\"fill_alpha\":{\"value\":0.5},\"fill_color\":{\"value\":\"lightgrey\"},\"left_units\":\"screen\",\"level\":\"overlay\",\"line_alpha\":{\"value\":1.0},\"line_color\":{\"value\":\"black\"},\"line_dash\":[4,4],\"line_width\":{\"value\":2},\"plot\":null,\"render_mode\":\"css\",\"right_units\":\"screen\",\"top_units\":\"screen\"},\"id\":\"88a46859-80ed-43b8-b51b-063bb6031326\",\"type\":\"BoxAnnotation\"},{\"attributes\":{\"axis_label\":\"Rendement\",\"formatter\":{\"id\":\"8efcace5-24c7-4317-8c71-bd37b247c4ed\",\"type\":\"CategoricalTickFormatter\"},\"major_label_orientation\":0.7853981633974483,\"plot\":{\"id\":\"248209b9-8e1e-4ce9-812a-cfb2049789ae\",\"subtype\":\"Chart\",\"type\":\"Plot\"},\"ticker\":{\"id\":\"39833fbb-d526-4a91-b6b8-e7324f195363\",\"type\":\"CategoricalTicker\"}},\"id\":\"a680c8e8-7428-4563-a89d-2a041a041c30\",\"type\":\"CategoricalAxis\"},{\"attributes\":{\"fill_alpha\":{\"field\":\"fill_alpha\"},\"fill_color\":{\"field\":\"color\"},\"height\":{\"field\":\"height\",\"units\":\"data\"},\"line_color\":{\"field\":\"line_color\"},\"width\":{\"field\":\"width\",\"units\":\"data\"},\"x\":{\"field\":\"x\"},\"y\":{\"field\":\"y\"}},\"id\":\"db0ec7a8-c010-400d-8b1e-b284c78450d3\",\"type\":\"Rect\"},{\"attributes\":{\"axis_label\":\"Rendement\",\"formatter\":{\"id\":\"32012252-27df-4486-8a34-22be4786b6cd\",\"type\":\"CategoricalTickFormatter\"},\"major_label_orientation\":0.7853981633974483,\"plot\":{\"id\":\"2fd32b82-db44-41c5-bddf-2924cd87e1c6\",\"subtype\":\"Chart\",\"type\":\"Plot\"},\"ticker\":{\"id\":\"af335efc-89ba-48a3-b7c4-6bb320ee1d89\",\"type\":\"CategoricalTicker\"}},\"id\":\"c690055c-69ea-4c7d-99d7-4a09dc623f73\",\"type\":\"CategoricalAxis\"},{\"attributes\":{\"label\":{\"value\":\"Doelpoging\"},\"renderers\":[{\"id\":\"c794773f-d685-4436-8a85-a47f903eb35a\",\"type\":\"GlyphRenderer\"}]},\"id\":\"8bc9f071-8ca4-42dc-bb9a-ffb7a6313b23\",\"type\":\"LegendItem\"},{\"attributes\":{\"label\":{\"value\":\"Foul NEC\"},\"renderers\":[{\"id\":\"02458076-2056-4426-b0b6-6afb9cbe2285\",\"type\":\"GlyphRenderer\"}]},\"id\":\"47da4d6b-0f51-4d63-ab05-1f5125ffc744\",\"type\":\"LegendItem\"},{\"attributes\":{\"data_source\":{\"id\":\"a1f6e213-46b5-4fee-812b-1113ee6a6785\",\"type\":\"ColumnDataSource\"},\"glyph\":{\"id\":\"ea9c88f9-835c-4a46-8a19-e7dfda01a524\",\"type\":\"Rect\"},\"hover_glyph\":null,\"nonselection_glyph\":null,\"selection_glyph\":null},\"id\":\"580972d0-59a3-426e-af15-6a18da38604c\",\"type\":\"GlyphRenderer\"},{\"attributes\":{\"axis_label\":\"Sum( Count )\",\"formatter\":{\"id\":\"91fc008a-f983-4ba0-817d-5c41929924d7\",\"type\":\"BasicTickFormatter\"},\"plot\":{\"id\":\"248209b9-8e1e-4ce9-812a-cfb2049789ae\",\"subtype\":\"Chart\",\"type\":\"Plot\"},\"ticker\":{\"id\":\"9bd86938-550b-4723-91d8-22d109e321e5\",\"type\":\"BasicTicker\"}},\"id\":\"846e7043-a812-4e67-9e88-cd2e321ade75\",\"type\":\"LinearAxis\"},{\"attributes\":{\"fill_alpha\":{\"field\":\"fill_alpha\"},\"fill_color\":{\"field\":\"color\"},\"height\":{\"field\":\"height\",\"units\":\"data\"},\"line_color\":{\"field\":\"line_color\"},\"width\":{\"field\":\"width\",\"units\":\"data\"},\"x\":{\"field\":\"x\"},\"y\":{\"field\":\"y\"}},\"id\":\"5fe7b802-ced7-48a8-9d3e-c51b7140a7dc\",\"type\":\"Rect\"},{\"attributes\":{\"dimension\":1,\"plot\":{\"id\":\"248209b9-8e1e-4ce9-812a-cfb2049789ae\",\"subtype\":\"Chart\",\"type\":\"Plot\"},\"ticker\":{\"id\":\"9bd86938-550b-4723-91d8-22d109e321e5\",\"type\":\"BasicTicker\"}},\"id\":\"370f9c9b-c071-4317-b358-37c8c394939d\",\"type\":\"Grid\"},{\"attributes\":{\"callback\":null,\"column_names\":[\"x\",\"y\",\"width\",\"height\",\"color\",\"fill_alpha\",\"line_color\",\"line_alpha\",\"label\"],\"data\":{\"chart_index\":[{\"rendement\":\"Corner\"}],\"color\":[\"#f22c40\"],\"fill_alpha\":[0.8],\"height\":[1.0],\"label\":[{\"rendement\":\"Corner\"}],\"line_alpha\":[1.0],\"line_color\":[\"white\"],\"rendement\":[\"Corner\"],\"width\":[0.8],\"x\":[\"Corner\"],\"y\":[0.5]}},\"id\":\"05854327-dbc4-4d00-b35a-a0724f0dfa1f\",\"type\":\"ColumnDataSource\"},{\"attributes\":{\"items\":[{\"id\":\"58fce5d9-5cbc-4d68-a1ed-3abd0e8c537a\",\"type\":\"LegendItem\"},{\"id\":\"2f00c928-5146-452b-8fbd-067222ef7c77\",\"type\":\"LegendItem\"},{\"id\":\"6e9ef62f-f97d-4efa-958a-0dc0abb2e8fa\",\"type\":\"LegendItem\"},{\"id\":\"6c341a87-5f4c-4b80-81f7-a1d087c3c4aa\",\"type\":\"LegendItem\"},{\"id\":\"ea07d67e-67a5-42c3-936c-07800187b06a\",\"type\":\"LegendItem\"},{\"id\":\"53cdd2a8-8947-42f2-b7b7-0544b4faca29\",\"type\":\"LegendItem\"}],\"location\":\"top_left\",\"plot\":{\"id\":\"2fd32b82-db44-41c5-bddf-2924cd87e1c6\",\"subtype\":\"Chart\",\"type\":\"Plot\"}},\"id\":\"2109a3e9-3843-4699-9a59-8096e33fdfab\",\"type\":\"Legend\"},{\"attributes\":{\"bottom_units\":\"screen\",\"fill_alpha\":{\"value\":0.5},\"fill_color\":{\"value\":\"lightgrey\"},\"left_units\":\"screen\",\"level\":\"overlay\",\"line_alpha\":{\"value\":1.0},\"line_color\":{\"value\":\"black\"},\"line_dash\":[4,4],\"line_width\":{\"value\":2},\"plot\":null,\"render_mode\":\"css\",\"right_units\":\"screen\",\"top_units\":\"screen\"},\"id\":\"7bd12ab0-1ac1-4b97-822a-d0cab2b45204\",\"type\":\"BoxAnnotation\"},{\"attributes\":{\"callback\":null,\"column_names\":[\"x\",\"y\",\"width\",\"height\",\"color\",\"fill_alpha\",\"line_color\",\"line_alpha\",\"label\"],\"data\":{\"chart_index\":[{\"rendement\":\"Balverlies\"}],\"color\":[\"#f22c40\"],\"fill_alpha\":[0.8],\"height\":[21.0],\"label\":[{\"rendement\":\"Balverlies\"}],\"line_alpha\":[1.0],\"line_color\":[\"white\"],\"rendement\":[\"Balverlies\"],\"width\":[0.8],\"x\":[\"Balverlies\"],\"y\":[10.5]}},\"id\":\"4e6b7322-b6a8-40e5-a6d9-3e1eda2c3386\",\"type\":\"ColumnDataSource\"},{\"attributes\":{},\"id\":\"af335efc-89ba-48a3-b7c4-6bb320ee1d89\",\"type\":\"CategoricalTicker\"},{\"attributes\":{},\"id\":\"043ac83d-eb1a-4642-998a-1ca5c317166b\",\"type\":\"CategoricalTickFormatter\"},{\"attributes\":{\"fill_alpha\":{\"field\":\"fill_alpha\"},\"fill_color\":{\"field\":\"color\"},\"height\":{\"field\":\"height\",\"units\":\"data\"},\"line_color\":{\"field\":\"line_color\"},\"width\":{\"field\":\"width\",\"units\":\"data\"},\"x\":{\"field\":\"x\"},\"y\":{\"field\":\"y\"}},\"id\":\"8f7de61d-34fe-4847-b2af-747614058049\",\"type\":\"Rect\"},{\"attributes\":{\"data_source\":{\"id\":\"9e202336-8cc6-45ed-888c-1e6e5c91f683\",\"type\":\"ColumnDataSource\"},\"glyph\":{\"id\":\"fada33b6-9533-4a39-ae20-09e6d5da9cf6\",\"type\":\"Rect\"},\"hover_glyph\":null,\"nonselection_glyph\":null,\"selection_glyph\":null},\"id\":\"bc9c8bb0-d4cd-4711-b81a-cb3d347e739a\",\"type\":\"GlyphRenderer\"},{\"attributes\":{},\"id\":\"65eea681-ed73-4f06-a500-cba1a73ec3dc\",\"type\":\"BasicTickFormatter\"},{\"attributes\":{\"callback\":null,\"column_names\":[\"x\",\"y\",\"width\",\"height\",\"color\",\"fill_alpha\",\"line_color\",\"line_alpha\",\"label\"],\"data\":{\"chart_index\":[{\"rendement\":\"Balverlies\"}],\"color\":[\"#f22c40\"],\"fill_alpha\":[0.8],\"height\":[23.0],\"label\":[{\"rendement\":\"Balverlies\"}],\"line_alpha\":[1.0],\"line_color\":[\"white\"],\"rendement\":[\"Balverlies\"],\"width\":[0.8],\"x\":[\"Balverlies\"],\"y\":[11.5]}},\"id\":\"2ca8b8af-bceb-4ba2-9da3-53e9f577f5e1\",\"type\":\"ColumnDataSource\"},{\"attributes\":{},\"id\":\"ce620fa0-a84f-4836-96a0-fdf03b82825c\",\"type\":\"CategoricalTicker\"},{\"attributes\":{\"label\":{\"value\":\"Foul TEG\"},\"renderers\":[{\"id\":\"a969ac95-909e-46d6-b20f-92287b0b64af\",\"type\":\"GlyphRenderer\"}]},\"id\":\"58fce5d9-5cbc-4d68-a1ed-3abd0e8c537a\",\"type\":\"LegendItem\"},{\"attributes\":{},\"id\":\"9c20a728-d61d-4a31-8d90-b21ce637a719\",\"type\":\"CategoricalTickFormatter\"},{\"attributes\":{\"plot\":{\"id\":\"2fd32b82-db44-41c5-bddf-2924cd87e1c6\",\"subtype\":\"Chart\",\"type\":\"Plot\"}},\"id\":\"bd5eb3f4-5f16-4aad-a448-da560986afe7\",\"type\":\"HelpTool\"},{\"attributes\":{\"fill_alpha\":{\"field\":\"fill_alpha\"},\"fill_color\":{\"field\":\"color\"},\"height\":{\"field\":\"height\",\"units\":\"data\"},\"line_color\":{\"field\":\"line_color\"},\"width\":{\"field\":\"width\",\"units\":\"data\"},\"x\":{\"field\":\"x\"},\"y\":{\"field\":\"y\"}},\"id\":\"f71e08f0-85e3-444f-9669-ae330ac24830\",\"type\":\"Rect\"},{\"attributes\":{},\"id\":\"861b9c03-cdca-4e73-8458-8f87c9128502\",\"type\":\"BasicTickFormatter\"},{\"attributes\":{\"data_source\":{\"id\":\"51bc4e6c-4c5f-47c8-a2d0-6a8ea22a5319\",\"type\":\"ColumnDataSource\"},\"glyph\":{\"id\":\"f71e08f0-85e3-444f-9669-ae330ac24830\",\"type\":\"Rect\"},\"hover_glyph\":null,\"nonselection_glyph\":null,\"selection_glyph\":null},\"id\":\"8aca9b46-1ba5-4a24-ae01-68701a22919a\",\"type\":\"GlyphRenderer\"},{\"attributes\":{},\"id\":\"39833fbb-d526-4a91-b6b8-e7324f195363\",\"type\":\"CategoricalTicker\"},{\"attributes\":{},\"id\":\"8efcace5-24c7-4317-8c71-bd37b247c4ed\",\"type\":\"CategoricalTickFormatter\"},{\"attributes\":{},\"id\":\"91fc008a-f983-4ba0-817d-5c41929924d7\",\"type\":\"BasicTickFormatter\"},{\"attributes\":{\"data_source\":{\"id\":\"4e6b7322-b6a8-40e5-a6d9-3e1eda2c3386\",\"type\":\"ColumnDataSource\"},\"glyph\":{\"id\":\"8f7de61d-34fe-4847-b2af-747614058049\",\"type\":\"Rect\"},\"hover_glyph\":null,\"nonselection_glyph\":null,\"selection_glyph\":null},\"id\":\"d4cc1f6b-8029-428f-9310-d7e42aa154a6\",\"type\":\"GlyphRenderer\"},{\"attributes\":{\"callback\":null,\"column_names\":[\"x\",\"y\",\"width\",\"height\",\"color\",\"fill_alpha\",\"line_color\",\"line_alpha\",\"label\"],\"data\":{\"chart_index\":[{\"rendement\":\"Balwinst\"}],\"color\":[\"#f22c40\"],\"fill_alpha\":[0.8],\"height\":[2.0],\"label\":[{\"rendement\":\"Balwinst\"}],\"line_alpha\":[1.0],\"line_color\":[\"white\"],\"rendement\":[\"Balwinst\"],\"width\":[0.8],\"x\":[\"Balwinst\"],\"y\":[1.0]}},\"id\":\"25b7f899-f034-41ac-b11b-2c756b017de3\",\"type\":\"ColumnDataSource\"},{\"attributes\":{\"plot\":{\"id\":\"07ba9e0d-dcc2-4362-8ee4-23cb65162871\",\"subtype\":\"Chart\",\"type\":\"Plot\"}},\"id\":\"1281411a-f78a-4e50-813c-0882bd31cd19\",\"type\":\"WheelZoomTool\"},{\"attributes\":{\"plot\":{\"id\":\"2fd32b82-db44-41c5-bddf-2924cd87e1c6\",\"subtype\":\"Chart\",\"type\":\"Plot\"}},\"id\":\"f0eb130c-7892-41a4-87dd-498395759397\",\"type\":\"SaveTool\"},{\"attributes\":{\"overlay\":{\"id\":\"88a46859-80ed-43b8-b51b-063bb6031326\",\"type\":\"BoxAnnotation\"},\"plot\":{\"id\":\"2fd32b82-db44-41c5-bddf-2924cd87e1c6\",\"subtype\":\"Chart\",\"type\":\"Plot\"}},\"id\":\"a5bcdcd8-35ad-4fdb-b9b1-b1b5dc689dea\",\"type\":\"BoxZoomTool\"},{\"attributes\":{\"data_source\":{\"id\":\"2ca8b8af-bceb-4ba2-9da3-53e9f577f5e1\",\"type\":\"ColumnDataSource\"},\"glyph\":{\"id\":\"7e252120-6e4e-4541-93d9-afe32e584180\",\"type\":\"Rect\"},\"hover_glyph\":null,\"nonselection_glyph\":null,\"selection_glyph\":null},\"id\":\"2160ed23-f2d3-4d2f-8750-a62e5f4811f3\",\"type\":\"GlyphRenderer\"},{\"attributes\":{\"active_drag\":\"auto\",\"active_scroll\":\"auto\",\"active_tap\":\"auto\",\"tools\":[{\"id\":\"ef71aa57-104c-4d98-9328-3ea405cd28c8\",\"type\":\"PanTool\"},{\"id\":\"5f255c4c-077d-4fa7-b08d-b5381baa95bf\",\"type\":\"WheelZoomTool\"},{\"id\":\"a5bcdcd8-35ad-4fdb-b9b1-b1b5dc689dea\",\"type\":\"BoxZoomTool\"},{\"id\":\"f0eb130c-7892-41a4-87dd-498395759397\",\"type\":\"SaveTool\"},{\"id\":\"840e6df4-03d1-4241-98a2-ac47bd6b4990\",\"type\":\"ResetTool\"},{\"id\":\"bd5eb3f4-5f16-4aad-a448-da560986afe7\",\"type\":\"HelpTool\"}]},\"id\":\"db097269-6331-41a1-9cb6-71b5c2f92cfd\",\"type\":\"Toolbar\"},{\"attributes\":{\"callback\":null,\"column_names\":[\"x\",\"y\",\"width\",\"height\",\"color\",\"fill_alpha\",\"line_color\",\"line_alpha\",\"label\"],\"data\":{\"chart_index\":[{\"rendement\":\"Corner\"}],\"color\":[\"#f22c40\"],\"fill_alpha\":[0.8],\"height\":[1.0],\"label\":[{\"rendement\":\"Corner\"}],\"line_alpha\":[1.0],\"line_color\":[\"white\"],\"rendement\":[\"Corner\"],\"width\":[0.8],\"x\":[\"Corner\"],\"y\":[0.5]}},\"id\":\"51bc4e6c-4c5f-47c8-a2d0-6a8ea22a5319\",\"type\":\"ColumnDataSource\"},{\"attributes\":{\"fill_alpha\":{\"field\":\"fill_alpha\"},\"fill_color\":{\"field\":\"color\"},\"height\":{\"field\":\"height\",\"units\":\"data\"},\"line_color\":{\"field\":\"line_color\"},\"width\":{\"field\":\"width\",\"units\":\"data\"},\"x\":{\"field\":\"x\"},\"y\":{\"field\":\"y\"}},\"id\":\"ff6141f7-b45d-4269-85a8-16b8fa409f01\",\"type\":\"Rect\"},{\"attributes\":{\"label\":{\"value\":\"Corner\"},\"renderers\":[{\"id\":\"8aca9b46-1ba5-4a24-ae01-68701a22919a\",\"type\":\"GlyphRenderer\"}]},\"id\":\"8ee9f2d8-8d72-4530-9b00-8034bfe95209\",\"type\":\"LegendItem\"},{\"attributes\":{\"label\":{\"value\":\"Voorzet\"},\"renderers\":[{\"id\":\"3d741ae9-30f6-40bc-b171-52d9bf07d58c\",\"type\":\"GlyphRenderer\"}]},\"id\":\"ea07d67e-67a5-42c3-936c-07800187b06a\",\"type\":\"LegendItem\"},{\"attributes\":{\"callback\":null,\"column_names\":[\"x\",\"y\",\"width\",\"height\",\"color\",\"fill_alpha\",\"line_color\",\"line_alpha\",\"label\"],\"data\":{\"chart_index\":[{\"rendement\":\"Foul NEC\"}],\"color\":[\"#f22c40\"],\"fill_alpha\":[0.8],\"height\":[2.0],\"label\":[{\"rendement\":\"Foul NEC\"}],\"line_alpha\":[1.0],\"line_color\":[\"white\"],\"rendement\":[\"Foul NEC\"],\"width\":[0.8],\"x\":[\"Foul NEC\"],\"y\":[1.0]}},\"id\":\"4471a668-11f1-49c9-9831-1c7e69185746\",\"type\":\"ColumnDataSource\"},{\"attributes\":{\"data_source\":{\"id\":\"05854327-dbc4-4d00-b35a-a0724f0dfa1f\",\"type\":\"ColumnDataSource\"},\"glyph\":{\"id\":\"ff6141f7-b45d-4269-85a8-16b8fa409f01\",\"type\":\"Rect\"},\"hover_glyph\":null,\"nonselection_glyph\":null,\"selection_glyph\":null},\"id\":\"a1995a85-ba33-4e2b-b9b8-30e91998e628\",\"type\":\"GlyphRenderer\"},{\"attributes\":{\"callback\":null,\"column_names\":[\"x\",\"y\",\"width\",\"height\",\"color\",\"fill_alpha\",\"line_color\",\"line_alpha\",\"label\"],\"data\":{\"chart_index\":[{\"rendement\":\"Balverlies\"}],\"color\":[\"#f22c40\"],\"fill_alpha\":[0.8],\"height\":[18.0],\"label\":[{\"rendement\":\"Balverlies\"}],\"line_alpha\":[1.0],\"line_color\":[\"white\"],\"rendement\":[\"Balverlies\"],\"width\":[0.8],\"x\":[\"Balverlies\"],\"y\":[9.0]}},\"id\":\"9e202336-8cc6-45ed-888c-1e6e5c91f683\",\"type\":\"ColumnDataSource\"},{\"attributes\":{\"label\":{\"value\":\"Doelpoging\"},\"renderers\":[{\"id\":\"b0437c6f-f9c3-4e76-88e3-8756298a69a1\",\"type\":\"GlyphRenderer\"}]},\"id\":\"53cdd2a8-8947-42f2-b7b7-0544b4faca29\",\"type\":\"LegendItem\"},{\"attributes\":{\"plot\":null,\"text\":\"FC Utrecht - NEC\"},\"id\":\"a1b35c26-0951-4000-9e81-403f1de4f578\",\"type\":\"Title\"},{\"attributes\":{\"below\":[{\"id\":\"5d8fb4b6-5e82-4e5d-b481-8a92cc3908cd\",\"type\":\"CategoricalAxis\"}],\"css_classes\":null,\"left\":[{\"id\":\"c9abafd6-0073-4b6b-9995-e4c4663913e0\",\"type\":\"LinearAxis\"}],\"renderers\":[{\"id\":\"7bd12ab0-1ac1-4b97-822a-d0cab2b45204\",\"type\":\"BoxAnnotation\"},{\"id\":\"2160ed23-f2d3-4d2f-8750-a62e5f4811f3\",\"type\":\"GlyphRenderer\"},{\"id\":\"8aca9b46-1ba5-4a24-ae01-68701a22919a\",\"type\":\"GlyphRenderer\"},{\"id\":\"5533cc98-0e39-4af2-af35-ef14f5b6f726\",\"type\":\"GlyphRenderer\"},{\"id\":\"935401b1-f3fb-4715-a1ec-cc8327381841\",\"type\":\"GlyphRenderer\"},{\"id\":\"2ca74420-aba9-4246-bc20-d2e52fabd247\",\"type\":\"GlyphRenderer\"},{\"id\":\"97b2fb86-4859-4f99-9b47-75414b54447a\",\"type\":\"GlyphRenderer\"},{\"id\":\"94254729-506f-44e4-9527-b54d748437d3\",\"type\":\"Legend\"},{\"id\":\"5d8fb4b6-5e82-4e5d-b481-8a92cc3908cd\",\"type\":\"CategoricalAxis\"},{\"id\":\"c9abafd6-0073-4b6b-9995-e4c4663913e0\",\"type\":\"LinearAxis\"},{\"id\":\"7a57b9e5-9485-4e94-b1bd-1c4e5452be26\",\"type\":\"Grid\"}],\"title\":{\"id\":\"2bc5b70b-1640-4ce4-838f-e350ff789239\",\"type\":\"Title\"},\"tool_events\":{\"id\":\"76b16bbd-64ae-48d7-9f6c-38b2d85586e9\",\"type\":\"ToolEvents\"},\"toolbar\":{\"id\":\"7cc265e8-d652-4119-8489-3be4546169d2\",\"type\":\"Toolbar\"},\"x_mapper_type\":\"auto\",\"x_range\":{\"id\":\"c12de98e-05c7-418a-8782-99570682fc99\",\"type\":\"FactorRange\"},\"y_mapper_type\":\"auto\",\"y_range\":{\"id\":\"3e3dacb8-d498-4096-8aa2-daa195af5e01\",\"type\":\"Range1d\"}},\"id\":\"07ba9e0d-dcc2-4362-8ee4-23cb65162871\",\"subtype\":\"Chart\",\"type\":\"Plot\"},{\"attributes\":{\"axis_label\":\"Sum( Count )\",\"formatter\":{\"id\":\"65eea681-ed73-4f06-a500-cba1a73ec3dc\",\"type\":\"BasicTickFormatter\"},\"plot\":{\"id\":\"07ba9e0d-dcc2-4362-8ee4-23cb65162871\",\"subtype\":\"Chart\",\"type\":\"Plot\"},\"ticker\":{\"id\":\"29a57673-c0b0-475c-b6d2-2a331d9fafdd\",\"type\":\"BasicTicker\"}},\"id\":\"c9abafd6-0073-4b6b-9995-e4c4663913e0\",\"type\":\"LinearAxis\"},{\"attributes\":{\"axis_label\":\"Rendement\",\"formatter\":{\"id\":\"043ac83d-eb1a-4642-998a-1ca5c317166b\",\"type\":\"CategoricalTickFormatter\"},\"major_label_orientation\":0.7853981633974483,\"plot\":{\"id\":\"00ca007b-adb6-4c3c-a37d-8c827db9a6a8\",\"subtype\":\"Chart\",\"type\":\"Plot\"},\"ticker\":{\"id\":\"ce620fa0-a84f-4836-96a0-fdf03b82825c\",\"type\":\"CategoricalTicker\"}},\"id\":\"abe0f238-93f1-40e0-b8d9-c1d7fe8459f3\",\"type\":\"CategoricalAxis\"},{\"attributes\":{\"data_source\":{\"id\":\"25b7f899-f034-41ac-b11b-2c756b017de3\",\"type\":\"ColumnDataSource\"},\"glyph\":{\"id\":\"7387a593-5ccc-49ac-95a8-4a274a00cc5f\",\"type\":\"Rect\"},\"hover_glyph\":null,\"nonselection_glyph\":null,\"selection_glyph\":null},\"id\":\"935401b1-f3fb-4715-a1ec-cc8327381841\",\"type\":\"GlyphRenderer\"},{\"attributes\":{\"fill_alpha\":{\"field\":\"fill_alpha\"},\"fill_color\":{\"field\":\"color\"},\"height\":{\"field\":\"height\",\"units\":\"data\"},\"line_color\":{\"field\":\"line_color\"},\"width\":{\"field\":\"width\",\"units\":\"data\"},\"x\":{\"field\":\"x\"},\"y\":{\"field\":\"y\"}},\"id\":\"c88af547-f5db-488b-bd4d-c2b3354340b5\",\"type\":\"Rect\"},{\"attributes\":{\"label\":{\"value\":\"Balverlies\"},\"renderers\":[{\"id\":\"d4cc1f6b-8029-428f-9310-d7e42aa154a6\",\"type\":\"GlyphRenderer\"}]},\"id\":\"7f6b6ea7-bfd6-4b08-aeb5-83a190a674b2\",\"type\":\"LegendItem\"},{\"attributes\":{\"fill_alpha\":{\"field\":\"fill_alpha\"},\"fill_color\":{\"field\":\"color\"},\"height\":{\"field\":\"height\",\"units\":\"data\"},\"line_color\":{\"field\":\"line_color\"},\"width\":{\"field\":\"width\",\"units\":\"data\"},\"x\":{\"field\":\"x\"},\"y\":{\"field\":\"y\"}},\"id\":\"260bdee7-e2ab-433d-96c4-d5e31b93d2b1\",\"type\":\"Rect\"},{\"attributes\":{\"callback\":null,\"factors\":[\"BOP\",\"Balverlies\",\"Corner\",\"Doelpoging\",\"Foul NEC\",\"Foul TEG\",\"Voorzet\"]},\"id\":\"b89e7430-cca8-433d-aec0-87b1664c6bf3\",\"type\":\"FactorRange\"},{\"attributes\":{\"data_source\":{\"id\":\"4471a668-11f1-49c9-9831-1c7e69185746\",\"type\":\"ColumnDataSource\"},\"glyph\":{\"id\":\"c88af547-f5db-488b-bd4d-c2b3354340b5\",\"type\":\"Rect\"},\"hover_glyph\":null,\"nonselection_glyph\":null,\"selection_glyph\":null},\"id\":\"02458076-2056-4426-b0b6-6afb9cbe2285\",\"type\":\"GlyphRenderer\"},{\"attributes\":{\"plot\":{\"id\":\"2fd32b82-db44-41c5-bddf-2924cd87e1c6\",\"subtype\":\"Chart\",\"type\":\"Plot\"}},\"id\":\"840e6df4-03d1-4241-98a2-ac47bd6b4990\",\"type\":\"ResetTool\"},{\"attributes\":{\"callback\":null,\"end\":24.15},\"id\":\"3e3dacb8-d498-4096-8aa2-daa195af5e01\",\"type\":\"Range1d\"},{\"attributes\":{\"callback\":null,\"column_names\":[\"x\",\"y\",\"width\",\"height\",\"color\",\"fill_alpha\",\"line_color\",\"line_alpha\",\"label\"],\"data\":{\"chart_index\":[{\"rendement\":\"Voorzet\"}],\"color\":[\"#f22c40\"],\"fill_alpha\":[0.8],\"height\":[2.0],\"label\":[{\"rendement\":\"Voorzet\"}],\"line_alpha\":[1.0],\"line_color\":[\"white\"],\"rendement\":[\"Voorzet\"],\"width\":[0.8],\"x\":[\"Voorzet\"],\"y\":[1.0]}},\"id\":\"8db78dac-3079-4235-9772-1c2806b6cbef\",\"type\":\"ColumnDataSource\"},{\"attributes\":{\"fill_alpha\":{\"field\":\"fill_alpha\"},\"fill_color\":{\"field\":\"color\"},\"height\":{\"field\":\"height\",\"units\":\"data\"},\"line_color\":{\"field\":\"line_color\"},\"width\":{\"field\":\"width\",\"units\":\"data\"},\"x\":{\"field\":\"x\"},\"y\":{\"field\":\"y\"}},\"id\":\"3e1c3ba3-130e-48c9-a860-c81792b22202\",\"type\":\"Rect\"},{\"attributes\":{\"fill_alpha\":{\"field\":\"fill_alpha\"},\"fill_color\":{\"field\":\"color\"},\"height\":{\"field\":\"height\",\"units\":\"data\"},\"line_color\":{\"field\":\"line_color\"},\"width\":{\"field\":\"width\",\"units\":\"data\"},\"x\":{\"field\":\"x\"},\"y\":{\"field\":\"y\"}},\"id\":\"fada33b6-9533-4a39-ae20-09e6d5da9cf6\",\"type\":\"Rect\"},{\"attributes\":{\"data_source\":{\"id\":\"b8cacf19-b222-48b1-af02-ef2340a92d51\",\"type\":\"ColumnDataSource\"},\"glyph\":{\"id\":\"aa2f8e88-278f-4a6c-9401-5a00bc020003\",\"type\":\"Rect\"},\"hover_glyph\":null,\"nonselection_glyph\":null,\"selection_glyph\":null},\"id\":\"ae3696c8-69de-4176-958d-960dba85827d\",\"type\":\"GlyphRenderer\"},{\"attributes\":{},\"id\":\"49d9625d-d1e9-4366-b51d-347294ae7ce5\",\"type\":\"ToolEvents\"},{\"attributes\":{\"data_source\":{\"id\":\"3805fff3-4151-4199-a4ef-8bb314dbd217\",\"type\":\"ColumnDataSource\"},\"glyph\":{\"id\":\"0f48b3ef-3f65-47f0-9acc-fecd849aaea3\",\"type\":\"Rect\"},\"hover_glyph\":null,\"nonselection_glyph\":null,\"selection_glyph\":null},\"id\":\"97b2fb86-4859-4f99-9b47-75414b54447a\",\"type\":\"GlyphRenderer\"},{\"attributes\":{\"data_source\":{\"id\":\"c34aed04-f0a0-4265-a855-1bacd44d5e8d\",\"type\":\"ColumnDataSource\"},\"glyph\":{\"id\":\"3e1c3ba3-130e-48c9-a860-c81792b22202\",\"type\":\"Rect\"},\"hover_glyph\":null,\"nonselection_glyph\":null,\"selection_glyph\":null},\"id\":\"c0564cea-da12-4d65-85b9-df3bbc8d7945\",\"type\":\"GlyphRenderer\"},{\"attributes\":{\"label\":{\"value\":\"Balverlies\"},\"renderers\":[{\"id\":\"bc9c8bb0-d4cd-4711-b81a-cb3d347e739a\",\"type\":\"GlyphRenderer\"}]},\"id\":\"6e9ef62f-f97d-4efa-958a-0dc0abb2e8fa\",\"type\":\"LegendItem\"},{\"attributes\":{\"label\":{\"value\":\"BOP\"},\"renderers\":[{\"id\":\"87eeacda-fe92-422a-945b-e481c8cca15b\",\"type\":\"GlyphRenderer\"}]},\"id\":\"2f00c928-5146-452b-8fbd-067222ef7c77\",\"type\":\"LegendItem\"},{\"attributes\":{\"callback\":null,\"column_names\":[\"x\",\"y\",\"width\",\"height\",\"color\",\"fill_alpha\",\"line_color\",\"line_alpha\",\"label\"],\"data\":{\"chart_index\":[{\"rendement\":\"Foul TEG\"}],\"color\":[\"#f22c40\"],\"fill_alpha\":[0.8],\"height\":[4.0],\"label\":[{\"rendement\":\"Foul TEG\"}],\"line_alpha\":[1.0],\"line_color\":[\"white\"],\"rendement\":[\"Foul TEG\"],\"width\":[0.8],\"x\":[\"Foul TEG\"],\"y\":[2.0]}},\"id\":\"c34aed04-f0a0-4265-a855-1bacd44d5e8d\",\"type\":\"ColumnDataSource\"},{\"attributes\":{\"dimension\":1,\"plot\":{\"id\":\"07ba9e0d-dcc2-4362-8ee4-23cb65162871\",\"subtype\":\"Chart\",\"type\":\"Plot\"},\"ticker\":{\"id\":\"29a57673-c0b0-475c-b6d2-2a331d9fafdd\",\"type\":\"BasicTicker\"}},\"id\":\"7a57b9e5-9485-4e94-b1bd-1c4e5452be26\",\"type\":\"Grid\"},{\"attributes\":{},\"id\":\"29a57673-c0b0-475c-b6d2-2a331d9fafdd\",\"type\":\"BasicTicker\"},{\"attributes\":{\"callback\":null,\"column_names\":[\"x\",\"y\",\"width\",\"height\",\"color\",\"fill_alpha\",\"line_color\",\"line_alpha\",\"label\"],\"data\":{\"chart_index\":[{\"rendement\":\"Voorzet\"}],\"color\":[\"#f22c40\"],\"fill_alpha\":[0.8],\"height\":[4.0],\"label\":[{\"rendement\":\"Voorzet\"}],\"line_alpha\":[1.0],\"line_color\":[\"white\"],\"rendement\":[\"Voorzet\"],\"width\":[0.8],\"x\":[\"Voorzet\"],\"y\":[2.0]}},\"id\":\"4747b5e8-6f04-469f-9d66-43c5dcc878a7\",\"type\":\"ColumnDataSource\"},{\"attributes\":{\"fill_alpha\":{\"field\":\"fill_alpha\"},\"fill_color\":{\"field\":\"color\"},\"height\":{\"field\":\"height\",\"units\":\"data\"},\"line_color\":{\"field\":\"line_color\"},\"width\":{\"field\":\"width\",\"units\":\"data\"},\"x\":{\"field\":\"x\"},\"y\":{\"field\":\"y\"}},\"id\":\"e5b0c173-99fe-48aa-a8df-2737f198db3f\",\"type\":\"Rect\"},{\"attributes\":{\"callback\":null,\"column_names\":[\"x\",\"y\",\"width\",\"height\",\"color\",\"fill_alpha\",\"line_color\",\"line_alpha\",\"label\"],\"data\":{\"chart_index\":[{\"rendement\":\"BOP\"}],\"color\":[\"#f22c40\"],\"fill_alpha\":[0.8],\"height\":[5.0],\"label\":[{\"rendement\":\"BOP\"}],\"line_alpha\":[1.0],\"line_color\":[\"white\"],\"rendement\":[\"BOP\"],\"width\":[0.8],\"x\":[\"BOP\"],\"y\":[2.5]}},\"id\":\"ee40784b-34b5-43fa-891c-4ea2d6452d02\",\"type\":\"ColumnDataSource\"},{\"attributes\":{\"callback\":null,\"column_names\":[\"x\",\"y\",\"width\",\"height\",\"color\",\"fill_alpha\",\"line_color\",\"line_alpha\",\"label\"],\"data\":{\"chart_index\":[{\"rendement\":\"Corner\"}],\"color\":[\"#f22c40\"],\"fill_alpha\":[0.8],\"height\":[2.0],\"label\":[{\"rendement\":\"Corner\"}],\"line_alpha\":[1.0],\"line_color\":[\"white\"],\"rendement\":[\"Corner\"],\"width\":[0.8],\"x\":[\"Corner\"],\"y\":[1.0]}},\"id\":\"34c0735c-cb2b-42a3-a053-1f16d1d86d2b\",\"type\":\"ColumnDataSource\"},{\"attributes\":{\"data_source\":{\"id\":\"4747b5e8-6f04-469f-9d66-43c5dcc878a7\",\"type\":\"ColumnDataSource\"},\"glyph\":{\"id\":\"e5b0c173-99fe-48aa-a8df-2737f198db3f\",\"type\":\"Rect\"},\"hover_glyph\":null,\"nonselection_glyph\":null,\"selection_glyph\":null},\"id\":\"a96b195d-6ae4-40f5-9ef5-cf85fabc8614\",\"type\":\"GlyphRenderer\"},{\"attributes\":{\"fill_alpha\":{\"field\":\"fill_alpha\"},\"fill_color\":{\"field\":\"color\"},\"height\":{\"field\":\"height\",\"units\":\"data\"},\"line_color\":{\"field\":\"line_color\"},\"width\":{\"field\":\"width\",\"units\":\"data\"},\"x\":{\"field\":\"x\"},\"y\":{\"field\":\"y\"}},\"id\":\"8b580698-780f-4ef0-95bb-6cefcc13d21c\",\"type\":\"Rect\"},{\"attributes\":{\"data_source\":{\"id\":\"ee40784b-34b5-43fa-891c-4ea2d6452d02\",\"type\":\"ColumnDataSource\"},\"glyph\":{\"id\":\"8b580698-780f-4ef0-95bb-6cefcc13d21c\",\"type\":\"Rect\"},\"hover_glyph\":null,\"nonselection_glyph\":null,\"selection_glyph\":null},\"id\":\"57161b75-4b99-4d76-a13a-f25fc9227abb\",\"type\":\"GlyphRenderer\"},{\"attributes\":{\"fill_alpha\":{\"field\":\"fill_alpha\"},\"fill_color\":{\"field\":\"color\"},\"height\":{\"field\":\"height\",\"units\":\"data\"},\"line_color\":{\"field\":\"line_color\"},\"width\":{\"field\":\"width\",\"units\":\"data\"},\"x\":{\"field\":\"x\"},\"y\":{\"field\":\"y\"}},\"id\":\"b7ead701-6d6f-47a5-be05-4bebaa32363b\",\"type\":\"Rect\"},{\"attributes\":{\"callback\":null,\"column_names\":[\"x\",\"y\",\"width\",\"height\",\"color\",\"fill_alpha\",\"line_color\",\"line_alpha\",\"label\"],\"data\":{\"chart_index\":[{\"rendement\":\"Foul NEC\"}],\"color\":[\"#f22c40\"],\"fill_alpha\":[0.8],\"height\":[2.0],\"label\":[{\"rendement\":\"Foul NEC\"}],\"line_alpha\":[1.0],\"line_color\":[\"white\"],\"rendement\":[\"Foul NEC\"],\"width\":[0.8],\"x\":[\"Foul NEC\"],\"y\":[1.0]}},\"id\":\"acb218fe-9fd8-4c29-b73f-b3cc4a4527a9\",\"type\":\"ColumnDataSource\"},{\"attributes\":{\"callback\":null,\"end\":22.05},\"id\":\"daf9b928-14bc-43d3-be89-d788d142c5b9\",\"type\":\"Range1d\"},{\"attributes\":{\"data_source\":{\"id\":\"34c0735c-cb2b-42a3-a053-1f16d1d86d2b\",\"type\":\"ColumnDataSource\"},\"glyph\":{\"id\":\"b7ead701-6d6f-47a5-be05-4bebaa32363b\",\"type\":\"Rect\"},\"hover_glyph\":null,\"nonselection_glyph\":null,\"selection_glyph\":null},\"id\":\"4c70a650-3d64-4e11-8363-37fedd1fde65\",\"type\":\"GlyphRenderer\"},{\"attributes\":{\"fill_alpha\":{\"field\":\"fill_alpha\"},\"fill_color\":{\"field\":\"color\"},\"height\":{\"field\":\"height\",\"units\":\"data\"},\"line_color\":{\"field\":\"line_color\"},\"width\":{\"field\":\"width\",\"units\":\"data\"},\"x\":{\"field\":\"x\"},\"y\":{\"field\":\"y\"}},\"id\":\"7fbfdff5-ffb8-43ba-9b03-fd12e01f8d7a\",\"type\":\"Rect\"},{\"attributes\":{\"fill_alpha\":{\"field\":\"fill_alpha\"},\"fill_color\":{\"field\":\"color\"},\"height\":{\"field\":\"height\",\"units\":\"data\"},\"line_color\":{\"field\":\"line_color\"},\"width\":{\"field\":\"width\",\"units\":\"data\"},\"x\":{\"field\":\"x\"},\"y\":{\"field\":\"y\"}},\"id\":\"00e2e487-50f5-4e73-8f2e-b44cc39e7166\",\"type\":\"Rect\"},{\"attributes\":{\"callback\":null,\"column_names\":[\"x\",\"y\",\"width\",\"height\",\"color\",\"fill_alpha\",\"line_color\",\"line_alpha\",\"label\"],\"data\":{\"chart_index\":[{\"rendement\":\"Doelpoging\"}],\"color\":[\"#f22c40\"],\"fill_alpha\":[0.8],\"height\":[1.0],\"label\":[{\"rendement\":\"Doelpoging\"}],\"line_alpha\":[1.0],\"line_color\":[\"white\"],\"rendement\":[\"Doelpoging\"],\"width\":[0.8],\"x\":[\"Doelpoging\"],\"y\":[0.5]}},\"id\":\"9778a6ef-1573-4d46-acbe-7197a280b3a0\",\"type\":\"ColumnDataSource\"},{\"attributes\":{\"overlay\":{\"id\":\"7bd12ab0-1ac1-4b97-822a-d0cab2b45204\",\"type\":\"BoxAnnotation\"},\"plot\":{\"id\":\"07ba9e0d-dcc2-4362-8ee4-23cb65162871\",\"subtype\":\"Chart\",\"type\":\"Plot\"}},\"id\":\"befa5046-1884-46cc-a8b7-964c4690d4cb\",\"type\":\"BoxZoomTool\"},{\"attributes\":{\"label\":{\"value\":\"Foul NEC\"},\"renderers\":[{\"id\":\"c458c884-a86d-4f27-9863-c51b011c8e96\",\"type\":\"GlyphRenderer\"}]},\"id\":\"e9dda5cf-c1d2-46c6-98f4-61821aeb705c\",\"type\":\"LegendItem\"},{\"attributes\":{\"data_source\":{\"id\":\"cf018098-72bd-4821-9cde-f6085dcf1dc3\",\"type\":\"ColumnDataSource\"},\"glyph\":{\"id\":\"12c7c6be-3852-4ab1-97f5-dc79d7c4eb73\",\"type\":\"Rect\"},\"hover_glyph\":null,\"nonselection_glyph\":null,\"selection_glyph\":null},\"id\":\"2ca74420-aba9-4246-bc20-d2e52fabd247\",\"type\":\"GlyphRenderer\"},{\"attributes\":{\"dimension\":1,\"plot\":{\"id\":\"00ca007b-adb6-4c3c-a37d-8c827db9a6a8\",\"subtype\":\"Chart\",\"type\":\"Plot\"},\"ticker\":{\"id\":\"46bf4403-dbcc-4924-ab61-7b5e79422f56\",\"type\":\"BasicTicker\"}},\"id\":\"de64b809-7871-4f59-8c36-258d20257818\",\"type\":\"Grid\"},{\"attributes\":{},\"id\":\"46bf4403-dbcc-4924-ab61-7b5e79422f56\",\"type\":\"BasicTicker\"},{\"attributes\":{\"data_source\":{\"id\":\"acb218fe-9fd8-4c29-b73f-b3cc4a4527a9\",\"type\":\"ColumnDataSource\"},\"glyph\":{\"id\":\"00e2e487-50f5-4e73-8f2e-b44cc39e7166\",\"type\":\"Rect\"},\"hover_glyph\":null,\"nonselection_glyph\":null,\"selection_glyph\":null},\"id\":\"c458c884-a86d-4f27-9863-c51b011c8e96\",\"type\":\"GlyphRenderer\"},{\"attributes\":{\"below\":[{\"id\":\"a680c8e8-7428-4563-a89d-2a041a041c30\",\"type\":\"CategoricalAxis\"}],\"css_classes\":null,\"left\":[{\"id\":\"846e7043-a812-4e67-9e88-cd2e321ade75\",\"type\":\"LinearAxis\"}],\"renderers\":[{\"id\":\"f6aa811a-7e9a-4c64-92db-a5ffa911c24a\",\"type\":\"BoxAnnotation\"},{\"id\":\"d4cc1f6b-8029-428f-9310-d7e42aa154a6\",\"type\":\"GlyphRenderer\"},{\"id\":\"a1995a85-ba33-4e2b-b9b8-30e91998e628\",\"type\":\"GlyphRenderer\"},{\"id\":\"c794773f-d685-4436-8a85-a47f903eb35a\",\"type\":\"GlyphRenderer\"},{\"id\":\"02458076-2056-4426-b0b6-6afb9cbe2285\",\"type\":\"GlyphRenderer\"},{\"id\":\"7026074b-0686-4925-ab9d-5059b1cb3bc5\",\"type\":\"GlyphRenderer\"},{\"id\":\"ebe8ca5b-eaa2-4776-81b2-68d6d545edf3\",\"type\":\"GlyphRenderer\"},{\"id\":\"580972d0-59a3-426e-af15-6a18da38604c\",\"type\":\"GlyphRenderer\"},{\"id\":\"8ca22bb4-c220-48c9-b7b9-8315c337f1a3\",\"type\":\"Legend\"},{\"id\":\"a680c8e8-7428-4563-a89d-2a041a041c30\",\"type\":\"CategoricalAxis\"},{\"id\":\"846e7043-a812-4e67-9e88-cd2e321ade75\",\"type\":\"LinearAxis\"},{\"id\":\"370f9c9b-c071-4317-b358-37c8c394939d\",\"type\":\"Grid\"}],\"title\":{\"id\":\"ccbe3f7e-902d-4497-8353-b25bdac26d45\",\"type\":\"Title\"},\"tool_events\":{\"id\":\"416ccbf7-5fa7-4e77-933c-7c74923f59dd\",\"type\":\"ToolEvents\"},\"toolbar\":{\"id\":\"161f50de-b26b-4082-81d0-f3470941a1d2\",\"type\":\"Toolbar\"},\"x_mapper_type\":\"auto\",\"x_range\":{\"id\":\"16b0c143-8086-4916-86db-de82328eb7fc\",\"type\":\"FactorRange\"},\"y_mapper_type\":\"auto\",\"y_range\":{\"id\":\"daf9b928-14bc-43d3-be89-d788d142c5b9\",\"type\":\"Range1d\"}},\"id\":\"248209b9-8e1e-4ce9-812a-cfb2049789ae\",\"subtype\":\"Chart\",\"type\":\"Plot\"},{\"attributes\":{\"data_source\":{\"id\":\"9778a6ef-1573-4d46-acbe-7197a280b3a0\",\"type\":\"ColumnDataSource\"},\"glyph\":{\"id\":\"7fbfdff5-ffb8-43ba-9b03-fd12e01f8d7a\",\"type\":\"Rect\"},\"hover_glyph\":null,\"nonselection_glyph\":null,\"selection_glyph\":null},\"id\":\"c794773f-d685-4436-8a85-a47f903eb35a\",\"type\":\"GlyphRenderer\"},{\"attributes\":{\"callback\":null,\"end\":18.9},\"id\":\"ad81b8b5-272f-4b08-8318-515ff8834ebf\",\"type\":\"Range1d\"},{\"attributes\":{\"fill_alpha\":{\"field\":\"fill_alpha\"},\"fill_color\":{\"field\":\"color\"},\"height\":{\"field\":\"height\",\"units\":\"data\"},\"line_color\":{\"field\":\"line_color\"},\"width\":{\"field\":\"width\",\"units\":\"data\"},\"x\":{\"field\":\"x\"},\"y\":{\"field\":\"y\"}},\"id\":\"7e252120-6e4e-4541-93d9-afe32e584180\",\"type\":\"Rect\"},{\"attributes\":{\"plot\":{\"id\":\"00ca007b-adb6-4c3c-a37d-8c827db9a6a8\",\"subtype\":\"Chart\",\"type\":\"Plot\"}},\"id\":\"14d4be9d-8928-455e-bba1-ca5f5a1725c3\",\"type\":\"SaveTool\"},{\"attributes\":{\"fill_alpha\":{\"field\":\"fill_alpha\"},\"fill_color\":{\"field\":\"color\"},\"height\":{\"field\":\"height\",\"units\":\"data\"},\"line_color\":{\"field\":\"line_color\"},\"width\":{\"field\":\"width\",\"units\":\"data\"},\"x\":{\"field\":\"x\"},\"y\":{\"field\":\"y\"}},\"id\":\"27bae77d-683c-495b-b21c-f0c7cb0acf14\",\"type\":\"Rect\"},{\"attributes\":{\"callback\":null,\"column_names\":[\"x\",\"y\",\"width\",\"height\",\"color\",\"fill_alpha\",\"line_color\",\"line_alpha\",\"label\"],\"data\":{\"chart_index\":[{\"rendement\":\"Doelpoging\"}],\"color\":[\"#f22c40\"],\"fill_alpha\":[0.8],\"height\":[2.0],\"label\":[{\"rendement\":\"Doelpoging\"}],\"line_alpha\":[1.0],\"line_color\":[\"white\"],\"rendement\":[\"Doelpoging\"],\"width\":[0.8],\"x\":[\"Doelpoging\"],\"y\":[1.0]}},\"id\":\"b8cacf19-b222-48b1-af02-ef2340a92d51\",\"type\":\"ColumnDataSource\"},{\"attributes\":{\"items\":[{\"id\":\"3e927846-763d-44ce-be4b-384ee427a1b1\",\"type\":\"LegendItem\"},{\"id\":\"8ee9f2d8-8d72-4530-9b00-8034bfe95209\",\"type\":\"LegendItem\"},{\"id\":\"a7d24c60-96ef-4083-927e-d13dcfaec503\",\"type\":\"LegendItem\"},{\"id\":\"f0e976ed-85d3-4a41-ac7f-40a12f5d9987\",\"type\":\"LegendItem\"},{\"id\":\"e6746896-db39-4ef5-9a53-1d961dcf538b\",\"type\":\"LegendItem\"},{\"id\":\"1ee3a487-66c1-41c4-9a0a-5999c76e3ed6\",\"type\":\"LegendItem\"}],\"location\":\"top_left\",\"plot\":{\"id\":\"07ba9e0d-dcc2-4362-8ee4-23cb65162871\",\"subtype\":\"Chart\",\"type\":\"Plot\"}},\"id\":\"94254729-506f-44e4-9527-b54d748437d3\",\"type\":\"Legend\"},{\"attributes\":{\"callback\":null,\"column_names\":[\"x\",\"y\",\"width\",\"height\",\"color\",\"fill_alpha\",\"line_color\",\"line_alpha\",\"label\"],\"data\":{\"chart_index\":[{\"rendement\":\"Foul TEG\"}],\"color\":[\"#f22c40\"],\"fill_alpha\":[0.8],\"height\":[4.0],\"label\":[{\"rendement\":\"Foul TEG\"}],\"line_alpha\":[1.0],\"line_color\":[\"white\"],\"rendement\":[\"Foul TEG\"],\"width\":[0.8],\"x\":[\"Foul TEG\"],\"y\":[2.0]}},\"id\":\"cf018098-72bd-4821-9cde-f6085dcf1dc3\",\"type\":\"ColumnDataSource\"},{\"attributes\":{\"callback\":null,\"column_names\":[\"x\",\"y\",\"width\",\"height\",\"color\",\"fill_alpha\",\"line_color\",\"line_alpha\",\"label\"],\"data\":{\"chart_index\":[{\"rendement\":\"Voorzet\"}],\"color\":[\"#f22c40\"],\"fill_alpha\":[0.8],\"height\":[2.0],\"label\":[{\"rendement\":\"Voorzet\"}],\"line_alpha\":[1.0],\"line_color\":[\"white\"],\"rendement\":[\"Voorzet\"],\"width\":[0.8],\"x\":[\"Voorzet\"],\"y\":[1.0]}},\"id\":\"cf29a732-6124-4eb8-a586-8416380bf133\",\"type\":\"ColumnDataSource\"},{\"attributes\":{\"label\":{\"value\":\"Balwinst\"},\"renderers\":[{\"id\":\"935401b1-f3fb-4715-a1ec-cc8327381841\",\"type\":\"GlyphRenderer\"}]},\"id\":\"f0e976ed-85d3-4a41-ac7f-40a12f5d9987\",\"type\":\"LegendItem\"},{\"attributes\":{\"overlay\":{\"id\":\"2a792432-b81c-4a2f-a061-7d6d467e38d6\",\"type\":\"BoxAnnotation\"},\"plot\":{\"id\":\"00ca007b-adb6-4c3c-a37d-8c827db9a6a8\",\"subtype\":\"Chart\",\"type\":\"Plot\"}},\"id\":\"e2d7bd1e-b23a-4b47-982c-2a05ff913266\",\"type\":\"BoxZoomTool\"},{\"attributes\":{\"active_drag\":\"auto\",\"active_scroll\":\"auto\",\"active_tap\":\"auto\",\"tools\":[{\"id\":\"75447317-cbc6-4846-a664-db0d6e0b6eb8\",\"type\":\"PanTool\"},{\"id\":\"1281411a-f78a-4e50-813c-0882bd31cd19\",\"type\":\"WheelZoomTool\"},{\"id\":\"befa5046-1884-46cc-a8b7-964c4690d4cb\",\"type\":\"BoxZoomTool\"},{\"id\":\"4d8ddeec-59e2-4f14-92b7-79af62d0f096\",\"type\":\"SaveTool\"},{\"id\":\"1844891c-72e8-4e77-b219-64fb47fe775d\",\"type\":\"ResetTool\"},{\"id\":\"642eee5b-ee2d-4180-9920-c905d038982d\",\"type\":\"HelpTool\"}]},\"id\":\"7cc265e8-d652-4119-8489-3be4546169d2\",\"type\":\"Toolbar\"},{\"attributes\":{\"fill_alpha\":{\"field\":\"fill_alpha\"},\"fill_color\":{\"field\":\"color\"},\"height\":{\"field\":\"height\",\"units\":\"data\"},\"line_color\":{\"field\":\"line_color\"},\"width\":{\"field\":\"width\",\"units\":\"data\"},\"x\":{\"field\":\"x\"},\"y\":{\"field\":\"y\"}},\"id\":\"655ea081-ca45-4e49-a8f7-24ff34136037\",\"type\":\"Rect\"},{\"attributes\":{\"data_source\":{\"id\":\"e9cf3659-7ace-43d3-a81a-61ed1ecfc136\",\"type\":\"ColumnDataSource\"},\"glyph\":{\"id\":\"3a5094bc-f68f-43ab-b8e8-294f712793d6\",\"type\":\"Rect\"},\"hover_glyph\":null,\"nonselection_glyph\":null,\"selection_glyph\":null},\"id\":\"87eeacda-fe92-422a-945b-e481c8cca15b\",\"type\":\"GlyphRenderer\"},{\"attributes\":{\"plot\":{\"id\":\"00ca007b-adb6-4c3c-a37d-8c827db9a6a8\",\"subtype\":\"Chart\",\"type\":\"Plot\"}},\"id\":\"7626ccfa-4b73-4324-8d5e-b041755b3bca\",\"type\":\"WheelZoomTool\"},{\"attributes\":{\"plot\":{\"id\":\"00ca007b-adb6-4c3c-a37d-8c827db9a6a8\",\"subtype\":\"Chart\",\"type\":\"Plot\"}},\"id\":\"389bb5fd-db10-4ebe-aedd-fbd4508fe8b3\",\"type\":\"HelpTool\"},{\"attributes\":{\"plot\":{\"id\":\"07ba9e0d-dcc2-4362-8ee4-23cb65162871\",\"subtype\":\"Chart\",\"type\":\"Plot\"}},\"id\":\"75447317-cbc6-4846-a664-db0d6e0b6eb8\",\"type\":\"PanTool\"},{\"attributes\":{\"axis_label\":\"Sum( Count )\",\"formatter\":{\"id\":\"861b9c03-cdca-4e73-8458-8f87c9128502\",\"type\":\"BasicTickFormatter\"},\"plot\":{\"id\":\"00ca007b-adb6-4c3c-a37d-8c827db9a6a8\",\"subtype\":\"Chart\",\"type\":\"Plot\"},\"ticker\":{\"id\":\"46bf4403-dbcc-4924-ab61-7b5e79422f56\",\"type\":\"BasicTicker\"}},\"id\":\"4f099fea-13c6-4fce-99a1-ef94df43be59\",\"type\":\"LinearAxis\"},{\"attributes\":{},\"id\":\"76b16bbd-64ae-48d7-9f6c-38b2d85586e9\",\"type\":\"ToolEvents\"},{\"attributes\":{},\"id\":\"73bb00af-3a0f-448d-9f9d-27ab73b3c872\",\"type\":\"BasicTicker\"},{\"attributes\":{\"fill_alpha\":{\"field\":\"fill_alpha\"},\"fill_color\":{\"field\":\"color\"},\"height\":{\"field\":\"height\",\"units\":\"data\"},\"line_color\":{\"field\":\"line_color\"},\"width\":{\"field\":\"width\",\"units\":\"data\"},\"x\":{\"field\":\"x\"},\"y\":{\"field\":\"y\"}},\"id\":\"17708c5d-b9c3-41db-9478-9b7cda55a4d9\",\"type\":\"Rect\"},{\"attributes\":{\"axis_label\":\"Sum( Count )\",\"formatter\":{\"id\":\"8f5ac118-318a-424d-bd48-a38402437449\",\"type\":\"BasicTickFormatter\"},\"plot\":{\"id\":\"2fd32b82-db44-41c5-bddf-2924cd87e1c6\",\"subtype\":\"Chart\",\"type\":\"Plot\"},\"ticker\":{\"id\":\"73bb00af-3a0f-448d-9f9d-27ab73b3c872\",\"type\":\"BasicTicker\"}},\"id\":\"d01a0fef-47ec-4806-9e3d-79c792f5c7c6\",\"type\":\"LinearAxis\"},{\"attributes\":{\"fill_alpha\":{\"field\":\"fill_alpha\"},\"fill_color\":{\"field\":\"color\"},\"height\":{\"field\":\"height\",\"units\":\"data\"},\"line_color\":{\"field\":\"line_color\"},\"width\":{\"field\":\"width\",\"units\":\"data\"},\"x\":{\"field\":\"x\"},\"y\":{\"field\":\"y\"}},\"id\":\"23bca667-f32f-434c-9ac9-3ceb7aee53f2\",\"type\":\"Rect\"},{\"attributes\":{\"callback\":null,\"column_names\":[\"x\",\"y\",\"width\",\"height\",\"color\",\"fill_alpha\",\"line_color\",\"line_alpha\",\"label\"],\"data\":{\"chart_index\":[{\"rendement\":\"Balverlies\"}],\"color\":[\"#f22c40\"],\"fill_alpha\":[0.8],\"height\":[26.0],\"label\":[{\"rendement\":\"Balverlies\"}],\"line_alpha\":[1.0],\"line_color\":[\"white\"],\"rendement\":[\"Balverlies\"],\"width\":[0.8],\"x\":[\"Balverlies\"],\"y\":[13.0]}},\"id\":\"ba3fc395-4cf5-4252-8745-62e7c1b637f8\",\"type\":\"ColumnDataSource\"},{\"attributes\":{\"data_source\":{\"id\":\"41ea03aa-88ae-41bb-b101-4d68916146da\",\"type\":\"ColumnDataSource\"},\"glyph\":{\"id\":\"17708c5d-b9c3-41db-9478-9b7cda55a4d9\",\"type\":\"Rect\"},\"hover_glyph\":null,\"nonselection_glyph\":null,\"selection_glyph\":null},\"id\":\"b0437c6f-f9c3-4e76-88e3-8756298a69a1\",\"type\":\"GlyphRenderer\"},{\"attributes\":{\"plot\":null,\"text\":\"NEC - Cambuur\"},\"id\":\"2bc5b70b-1640-4ce4-838f-e350ff789239\",\"type\":\"Title\"},{\"attributes\":{\"callback\":null,\"column_names\":[\"x\",\"y\",\"width\",\"height\",\"color\",\"fill_alpha\",\"line_color\",\"line_alpha\",\"label\"],\"data\":{\"chart_index\":[{\"rendement\":\"Foul TEG\"}],\"color\":[\"#f22c40\"],\"fill_alpha\":[0.8],\"height\":[3.0],\"label\":[{\"rendement\":\"Foul TEG\"}],\"line_alpha\":[1.0],\"line_color\":[\"white\"],\"rendement\":[\"Foul TEG\"],\"width\":[0.8],\"x\":[\"Foul TEG\"],\"y\":[1.5]}},\"id\":\"2b79c3eb-c7df-487e-959c-5bbf56ee19f7\",\"type\":\"ColumnDataSource\"},{\"attributes\":{\"label\":{\"value\":\"Foul TEG\"},\"renderers\":[{\"id\":\"2ca74420-aba9-4246-bc20-d2e52fabd247\",\"type\":\"GlyphRenderer\"}]},\"id\":\"e6746896-db39-4ef5-9a53-1d961dcf538b\",\"type\":\"LegendItem\"},{\"attributes\":{\"callback\":null,\"column_names\":[\"x\",\"y\",\"width\",\"height\",\"color\",\"fill_alpha\",\"line_color\",\"line_alpha\",\"label\"],\"data\":{\"chart_index\":[{\"rendement\":\"BOP\"}],\"color\":[\"#f22c40\"],\"fill_alpha\":[0.8],\"height\":[1.0],\"label\":[{\"rendement\":\"BOP\"}],\"line_alpha\":[1.0],\"line_color\":[\"white\"],\"rendement\":[\"BOP\"],\"width\":[0.8],\"x\":[\"BOP\"],\"y\":[0.5]}},\"id\":\"e9cf3659-7ace-43d3-a81a-61ed1ecfc136\",\"type\":\"ColumnDataSource\"},{\"attributes\":{\"dimension\":1,\"plot\":{\"id\":\"2fd32b82-db44-41c5-bddf-2924cd87e1c6\",\"subtype\":\"Chart\",\"type\":\"Plot\"},\"ticker\":{\"id\":\"73bb00af-3a0f-448d-9f9d-27ab73b3c872\",\"type\":\"BasicTicker\"}},\"id\":\"72955d6c-d7d2-4896-bd3c-0314e3ef4c28\",\"type\":\"Grid\"},{\"attributes\":{\"callback\":null,\"end\":27.3},\"id\":\"c2a043d4-ae40-4bd6-8fca-ab4e495ccfcd\",\"type\":\"Range1d\"},{\"attributes\":{\"data_source\":{\"id\":\"ba3fc395-4cf5-4252-8745-62e7c1b637f8\",\"type\":\"ColumnDataSource\"},\"glyph\":{\"id\":\"27bae77d-683c-495b-b21c-f0c7cb0acf14\",\"type\":\"Rect\"},\"hover_glyph\":null,\"nonselection_glyph\":null,\"selection_glyph\":null},\"id\":\"9fdb655e-bae4-4c4f-b800-fd1ab465b62d\",\"type\":\"GlyphRenderer\"},{\"attributes\":{},\"id\":\"e579f53c-2010-4b6c-a8fd-4781dc7fc7f8\",\"type\":\"ToolEvents\"},{\"attributes\":{\"items\":[{\"id\":\"561b46b9-e2cd-465e-8672-117eb08cff23\",\"type\":\"LegendItem\"},{\"id\":\"02b9a41d-dafd-4d3e-acec-7548c2770517\",\"type\":\"LegendItem\"},{\"id\":\"9e683dad-8345-4f56-a7dc-7afe5cbb5952\",\"type\":\"LegendItem\"},{\"id\":\"58f349e8-e555-45d4-aa33-8de588d6fe67\",\"type\":\"LegendItem\"},{\"id\":\"75796d31-3330-40ce-b594-9d98a94f3200\",\"type\":\"LegendItem\"},{\"id\":\"d4130c05-65ce-4656-91d8-11852406e6dc\",\"type\":\"LegendItem\"},{\"id\":\"e9dda5cf-c1d2-46c6-98f4-61821aeb705c\",\"type\":\"LegendItem\"}],\"location\":\"top_left\",\"plot\":{\"id\":\"00ca007b-adb6-4c3c-a37d-8c827db9a6a8\",\"subtype\":\"Chart\",\"type\":\"Plot\"}},\"id\":\"1575c6db-763f-4b70-b84f-120d183b0800\",\"type\":\"Legend\"},{\"attributes\":{\"fill_alpha\":{\"field\":\"fill_alpha\"},\"fill_color\":{\"field\":\"color\"},\"height\":{\"field\":\"height\",\"units\":\"data\"},\"line_color\":{\"field\":\"line_color\"},\"width\":{\"field\":\"width\",\"units\":\"data\"},\"x\":{\"field\":\"x\"},\"y\":{\"field\":\"y\"}},\"id\":\"7387a593-5ccc-49ac-95a8-4a274a00cc5f\",\"type\":\"Rect\"},{\"attributes\":{\"below\":[{\"id\":\"abe0f238-93f1-40e0-b8d9-c1d7fe8459f3\",\"type\":\"CategoricalAxis\"}],\"css_classes\":null,\"left\":[{\"id\":\"4f099fea-13c6-4fce-99a1-ef94df43be59\",\"type\":\"LinearAxis\"}],\"renderers\":[{\"id\":\"2a792432-b81c-4a2f-a061-7d6d467e38d6\",\"type\":\"BoxAnnotation\"},{\"id\":\"9fdb655e-bae4-4c4f-b800-fd1ab465b62d\",\"type\":\"GlyphRenderer\"},{\"id\":\"ae3696c8-69de-4176-958d-960dba85827d\",\"type\":\"GlyphRenderer\"},{\"id\":\"c0564cea-da12-4d65-85b9-df3bbc8d7945\",\"type\":\"GlyphRenderer\"},{\"id\":\"a96b195d-6ae4-40f5-9ef5-cf85fabc8614\",\"type\":\"GlyphRenderer\"},{\"id\":\"57161b75-4b99-4d76-a13a-f25fc9227abb\",\"type\":\"GlyphRenderer\"},{\"id\":\"4c70a650-3d64-4e11-8363-37fedd1fde65\",\"type\":\"GlyphRenderer\"},{\"id\":\"c458c884-a86d-4f27-9863-c51b011c8e96\",\"type\":\"GlyphRenderer\"},{\"id\":\"1575c6db-763f-4b70-b84f-120d183b0800\",\"type\":\"Legend\"},{\"id\":\"abe0f238-93f1-40e0-b8d9-c1d7fe8459f3\",\"type\":\"CategoricalAxis\"},{\"id\":\"4f099fea-13c6-4fce-99a1-ef94df43be59\",\"type\":\"LinearAxis\"},{\"id\":\"de64b809-7871-4f59-8c36-258d20257818\",\"type\":\"Grid\"}],\"title\":{\"id\":\"d2134b6f-8814-4586-8857-fef441aaea64\",\"type\":\"Title\"},\"tool_events\":{\"id\":\"e579f53c-2010-4b6c-a8fd-4781dc7fc7f8\",\"type\":\"ToolEvents\"},\"toolbar\":{\"id\":\"e0c0012f-f61f-4760-99cd-c9eca600b10b\",\"type\":\"Toolbar\"},\"x_mapper_type\":\"auto\",\"x_range\":{\"id\":\"b89e7430-cca8-433d-aec0-87b1664c6bf3\",\"type\":\"FactorRange\"},\"y_mapper_type\":\"auto\",\"y_range\":{\"id\":\"c2a043d4-ae40-4bd6-8fca-ab4e495ccfcd\",\"type\":\"Range1d\"}},\"id\":\"00ca007b-adb6-4c3c-a37d-8c827db9a6a8\",\"subtype\":\"Chart\",\"type\":\"Plot\"},{\"attributes\":{\"data_source\":{\"id\":\"2b79c3eb-c7df-487e-959c-5bbf56ee19f7\",\"type\":\"ColumnDataSource\"},\"glyph\":{\"id\":\"5fe7b802-ced7-48a8-9d3e-c51b7140a7dc\",\"type\":\"Rect\"},\"hover_glyph\":null,\"nonselection_glyph\":null,\"selection_glyph\":null},\"id\":\"a969ac95-909e-46d6-b20f-92287b0b64af\",\"type\":\"GlyphRenderer\"},{\"attributes\":{\"label\":{\"value\":\"BOP\"},\"renderers\":[{\"id\":\"57161b75-4b99-4d76-a13a-f25fc9227abb\",\"type\":\"GlyphRenderer\"}]},\"id\":\"75796d31-3330-40ce-b594-9d98a94f3200\",\"type\":\"LegendItem\"},{\"attributes\":{\"callback\":null,\"column_names\":[\"x\",\"y\",\"width\",\"height\",\"color\",\"fill_alpha\",\"line_color\",\"line_alpha\",\"label\"],\"data\":{\"chart_index\":[{\"rendement\":\"Foul NEC\"}],\"color\":[\"#f22c40\"],\"fill_alpha\":[0.8],\"height\":[4.0],\"label\":[{\"rendement\":\"Foul NEC\"}],\"line_alpha\":[1.0],\"line_color\":[\"white\"],\"rendement\":[\"Foul NEC\"],\"width\":[0.8],\"x\":[\"Foul NEC\"],\"y\":[2.0]}},\"id\":\"43d5f409-0919-45a8-8f7c-9d784fa7f658\",\"type\":\"ColumnDataSource\"},{\"attributes\":{\"bottom_units\":\"screen\",\"fill_alpha\":{\"value\":0.5},\"fill_color\":{\"value\":\"lightgrey\"},\"left_units\":\"screen\",\"level\":\"overlay\",\"line_alpha\":{\"value\":1.0},\"line_color\":{\"value\":\"black\"},\"line_dash\":[4,4],\"line_width\":{\"value\":2},\"plot\":null,\"render_mode\":\"css\",\"right_units\":\"screen\",\"top_units\":\"screen\"},\"id\":\"2a792432-b81c-4a2f-a061-7d6d467e38d6\",\"type\":\"BoxAnnotation\"},{\"attributes\":{\"label\":{\"value\":\"Corner\"},\"renderers\":[{\"id\":\"4c70a650-3d64-4e11-8363-37fedd1fde65\",\"type\":\"GlyphRenderer\"}]},\"id\":\"d4130c05-65ce-4656-91d8-11852406e6dc\",\"type\":\"LegendItem\"},{\"attributes\":{\"label\":{\"value\":\"Foul NEC\"},\"renderers\":[{\"id\":\"5533cc98-0e39-4af2-af35-ef14f5b6f726\",\"type\":\"GlyphRenderer\"}]},\"id\":\"a7d24c60-96ef-4083-927e-d13dcfaec503\",\"type\":\"LegendItem\"},{\"attributes\":{\"callback\":null,\"factors\":[\"BOP\",\"Balverlies\",\"Corner\",\"Doelpoging\",\"Foul NEC\",\"Foul TEG\",\"Voorzet\"]},\"id\":\"16b0c143-8086-4916-86db-de82328eb7fc\",\"type\":\"FactorRange\"},{\"attributes\":{\"below\":[{\"id\":\"c690055c-69ea-4c7d-99d7-4a09dc623f73\",\"type\":\"CategoricalAxis\"}],\"css_classes\":null,\"left\":[{\"id\":\"d01a0fef-47ec-4806-9e3d-79c792f5c7c6\",\"type\":\"LinearAxis\"}],\"renderers\":[{\"id\":\"88a46859-80ed-43b8-b51b-063bb6031326\",\"type\":\"BoxAnnotation\"},{\"id\":\"a969ac95-909e-46d6-b20f-92287b0b64af\",\"type\":\"GlyphRenderer\"},{\"id\":\"87eeacda-fe92-422a-945b-e481c8cca15b\",\"type\":\"GlyphRenderer\"},{\"id\":\"bc9c8bb0-d4cd-4711-b81a-cb3d347e739a\",\"type\":\"GlyphRenderer\"},{\"id\":\"0f460edb-a950-4022-9df4-ddf17e152f62\",\"type\":\"GlyphRenderer\"},{\"id\":\"3d741ae9-30f6-40bc-b171-52d9bf07d58c\",\"type\":\"GlyphRenderer\"},{\"id\":\"b0437c6f-f9c3-4e76-88e3-8756298a69a1\",\"type\":\"GlyphRenderer\"},{\"id\":\"2109a3e9-3843-4699-9a59-8096e33fdfab\",\"type\":\"Legend\"},{\"id\":\"c690055c-69ea-4c7d-99d7-4a09dc623f73\",\"type\":\"CategoricalAxis\"},{\"id\":\"d01a0fef-47ec-4806-9e3d-79c792f5c7c6\",\"type\":\"LinearAxis\"},{\"id\":\"72955d6c-d7d2-4896-bd3c-0314e3ef4c28\",\"type\":\"Grid\"}],\"title\":{\"id\":\"a1b35c26-0951-4000-9e81-403f1de4f578\",\"type\":\"Title\"},\"tool_events\":{\"id\":\"49d9625d-d1e9-4366-b51d-347294ae7ce5\",\"type\":\"ToolEvents\"},\"toolbar\":{\"id\":\"db097269-6331-41a1-9cb6-71b5c2f92cfd\",\"type\":\"Toolbar\"},\"x_mapper_type\":\"auto\",\"x_range\":{\"id\":\"5ac692e0-c314-46b5-844f-a951bc27666b\",\"type\":\"FactorRange\"},\"y_mapper_type\":\"auto\",\"y_range\":{\"id\":\"ad81b8b5-272f-4b08-8318-515ff8834ebf\",\"type\":\"Range1d\"}},\"id\":\"2fd32b82-db44-41c5-bddf-2924cd87e1c6\",\"subtype\":\"Chart\",\"type\":\"Plot\"},{\"attributes\":{\"label\":{\"value\":\"Doelpoging\"},\"renderers\":[{\"id\":\"ae3696c8-69de-4176-958d-960dba85827d\",\"type\":\"GlyphRenderer\"}]},\"id\":\"02b9a41d-dafd-4d3e-acec-7548c2770517\",\"type\":\"LegendItem\"},{\"attributes\":{\"plot\":null,\"text\":\"PEC - NEC\"},\"id\":\"d2134b6f-8814-4586-8857-fef441aaea64\",\"type\":\"Title\"},{\"attributes\":{\"active_drag\":\"auto\",\"active_scroll\":\"auto\",\"active_tap\":\"auto\",\"tools\":[{\"id\":\"7760d973-8bc0-4909-9dd0-deda67bf196b\",\"type\":\"PanTool\"},{\"id\":\"7626ccfa-4b73-4324-8d5e-b041755b3bca\",\"type\":\"WheelZoomTool\"},{\"id\":\"e2d7bd1e-b23a-4b47-982c-2a05ff913266\",\"type\":\"BoxZoomTool\"},{\"id\":\"14d4be9d-8928-455e-bba1-ca5f5a1725c3\",\"type\":\"SaveTool\"},{\"id\":\"8554136e-958c-4bc8-82ad-8f10c10a1034\",\"type\":\"ResetTool\"},{\"id\":\"389bb5fd-db10-4ebe-aedd-fbd4508fe8b3\",\"type\":\"HelpTool\"}]},\"id\":\"e0c0012f-f61f-4760-99cd-c9eca600b10b\",\"type\":\"Toolbar\"},{\"attributes\":{\"callback\":null,\"column_names\":[\"x\",\"y\",\"width\",\"height\",\"color\",\"fill_alpha\",\"line_color\",\"line_alpha\",\"label\"],\"data\":{\"chart_index\":[{\"rendement\":\"Doelpoging\"}],\"color\":[\"#f22c40\"],\"fill_alpha\":[0.8],\"height\":[1.0],\"label\":[{\"rendement\":\"Doelpoging\"}],\"line_alpha\":[1.0],\"line_color\":[\"white\"],\"rendement\":[\"Doelpoging\"],\"width\":[0.8],\"x\":[\"Doelpoging\"],\"y\":[0.5]}},\"id\":\"41ea03aa-88ae-41bb-b101-4d68916146da\",\"type\":\"ColumnDataSource\"},{\"attributes\":{\"data_source\":{\"id\":\"cf29a732-6124-4eb8-a586-8416380bf133\",\"type\":\"ColumnDataSource\"},\"glyph\":{\"id\":\"db0ec7a8-c010-400d-8b1e-b284c78450d3\",\"type\":\"Rect\"},\"hover_glyph\":null,\"nonselection_glyph\":null,\"selection_glyph\":null},\"id\":\"3d741ae9-30f6-40bc-b171-52d9bf07d58c\",\"type\":\"GlyphRenderer\"},{\"attributes\":{\"plot\":{\"id\":\"00ca007b-adb6-4c3c-a37d-8c827db9a6a8\",\"subtype\":\"Chart\",\"type\":\"Plot\"}},\"id\":\"7760d973-8bc0-4909-9dd0-deda67bf196b\",\"type\":\"PanTool\"},{\"attributes\":{\"data_source\":{\"id\":\"29da9d99-55c5-4823-914d-06e0432bd74e\",\"type\":\"ColumnDataSource\"},\"glyph\":{\"id\":\"655ea081-ca45-4e49-a8f7-24ff34136037\",\"type\":\"Rect\"},\"hover_glyph\":null,\"nonselection_glyph\":null,\"selection_glyph\":null},\"id\":\"0f460edb-a950-4022-9df4-ddf17e152f62\",\"type\":\"GlyphRenderer\"},{\"attributes\":{\"label\":{\"value\":\"Balverlies\"},\"renderers\":[{\"id\":\"2160ed23-f2d3-4d2f-8750-a62e5f4811f3\",\"type\":\"GlyphRenderer\"}]},\"id\":\"3e927846-763d-44ce-be4b-384ee427a1b1\",\"type\":\"LegendItem\"},{\"attributes\":{\"plot\":{\"id\":\"00ca007b-adb6-4c3c-a37d-8c827db9a6a8\",\"subtype\":\"Chart\",\"type\":\"Plot\"}},\"id\":\"8554136e-958c-4bc8-82ad-8f10c10a1034\",\"type\":\"ResetTool\"},{\"attributes\":{\"label\":{\"value\":\"Balverlies\"},\"renderers\":[{\"id\":\"9fdb655e-bae4-4c4f-b800-fd1ab465b62d\",\"type\":\"GlyphRenderer\"}]},\"id\":\"561b46b9-e2cd-465e-8672-117eb08cff23\",\"type\":\"LegendItem\"},{\"attributes\":{\"plot\":{\"id\":\"07ba9e0d-dcc2-4362-8ee4-23cb65162871\",\"subtype\":\"Chart\",\"type\":\"Plot\"}},\"id\":\"642eee5b-ee2d-4180-9920-c905d038982d\",\"type\":\"HelpTool\"},{\"attributes\":{\"callback\":null,\"factors\":[\"BOP\",\"Balverlies\",\"Doelpoging\",\"Foul NEC\",\"Foul TEG\",\"Voorzet\"]},\"id\":\"5ac692e0-c314-46b5-844f-a951bc27666b\",\"type\":\"FactorRange\"},{\"attributes\":{\"callback\":null,\"factors\":[\"BOP\",\"Balverlies\",\"Balwinst\",\"Corner\",\"Foul NEC\",\"Foul TEG\"]},\"id\":\"c12de98e-05c7-418a-8782-99570682fc99\",\"type\":\"FactorRange\"},{\"attributes\":{\"fill_alpha\":{\"field\":\"fill_alpha\"},\"fill_color\":{\"field\":\"color\"},\"height\":{\"field\":\"height\",\"units\":\"data\"},\"line_color\":{\"field\":\"line_color\"},\"width\":{\"field\":\"width\",\"units\":\"data\"},\"x\":{\"field\":\"x\"},\"y\":{\"field\":\"y\"}},\"id\":\"12c7c6be-3852-4ab1-97f5-dc79d7c4eb73\",\"type\":\"Rect\"},{\"attributes\":{\"axis_label\":\"Rendement\",\"formatter\":{\"id\":\"9c20a728-d61d-4a31-8d90-b21ce637a719\",\"type\":\"CategoricalTickFormatter\"},\"major_label_orientation\":0.7853981633974483,\"plot\":{\"id\":\"07ba9e0d-dcc2-4362-8ee4-23cb65162871\",\"subtype\":\"Chart\",\"type\":\"Plot\"},\"ticker\":{\"id\":\"fd543e2c-75eb-49dc-9ea2-0805d25d6d13\",\"type\":\"CategoricalTicker\"}},\"id\":\"5d8fb4b6-5e82-4e5d-b481-8a92cc3908cd\",\"type\":\"CategoricalAxis\"},{\"attributes\":{\"callback\":null,\"column_names\":[\"x\",\"y\",\"width\",\"height\",\"color\",\"fill_alpha\",\"line_color\",\"line_alpha\",\"label\"],\"data\":{\"chart_index\":[{\"rendement\":\"Foul NEC\"}],\"color\":[\"#f22c40\"],\"fill_alpha\":[0.8],\"height\":[1.0],\"label\":[{\"rendement\":\"Foul NEC\"}],\"line_alpha\":[1.0],\"line_color\":[\"white\"],\"rendement\":[\"Foul NEC\"],\"width\":[0.8],\"x\":[\"Foul NEC\"],\"y\":[0.5]}},\"id\":\"29da9d99-55c5-4823-914d-06e0432bd74e\",\"type\":\"ColumnDataSource\"},{\"attributes\":{\"label\":{\"value\":\"BOP\"},\"renderers\":[{\"id\":\"97b2fb86-4859-4f99-9b47-75414b54447a\",\"type\":\"GlyphRenderer\"}]},\"id\":\"1ee3a487-66c1-41c4-9a0a-5999c76e3ed6\",\"type\":\"LegendItem\"},{\"attributes\":{\"plot\":{\"id\":\"07ba9e0d-dcc2-4362-8ee4-23cb65162871\",\"subtype\":\"Chart\",\"type\":\"Plot\"}},\"id\":\"1844891c-72e8-4e77-b219-64fb47fe775d\",\"type\":\"ResetTool\"},{\"attributes\":{\"label\":{\"value\":\"Foul TEG\"},\"renderers\":[{\"id\":\"c0564cea-da12-4d65-85b9-df3bbc8d7945\",\"type\":\"GlyphRenderer\"}]},\"id\":\"9e683dad-8345-4f56-a7dc-7afe5cbb5952\",\"type\":\"LegendItem\"},{\"attributes\":{\"label\":{\"value\":\"Voorzet\"},\"renderers\":[{\"id\":\"a96b195d-6ae4-40f5-9ef5-cf85fabc8614\",\"type\":\"GlyphRenderer\"}]},\"id\":\"58f349e8-e555-45d4-aa33-8de588d6fe67\",\"type\":\"LegendItem\"},{\"attributes\":{\"callback\":null,\"column_names\":[\"x\",\"y\",\"width\",\"height\",\"color\",\"fill_alpha\",\"line_color\",\"line_alpha\",\"label\"],\"data\":{\"chart_index\":[{\"rendement\":\"BOP\"}],\"color\":[\"#f22c40\"],\"fill_alpha\":[0.8],\"height\":[1.0],\"label\":[{\"rendement\":\"BOP\"}],\"line_alpha\":[1.0],\"line_color\":[\"white\"],\"rendement\":[\"BOP\"],\"width\":[0.8],\"x\":[\"BOP\"],\"y\":[0.5]}},\"id\":\"3805fff3-4151-4199-a4ef-8bb314dbd217\",\"type\":\"ColumnDataSource\"},{\"attributes\":{\"data_source\":{\"id\":\"43d5f409-0919-45a8-8f7c-9d784fa7f658\",\"type\":\"ColumnDataSource\"},\"glyph\":{\"id\":\"23bca667-f32f-434c-9ac9-3ceb7aee53f2\",\"type\":\"Rect\"},\"hover_glyph\":null,\"nonselection_glyph\":null,\"selection_glyph\":null},\"id\":\"5533cc98-0e39-4af2-af35-ef14f5b6f726\",\"type\":\"GlyphRenderer\"},{\"attributes\":{\"fill_alpha\":{\"field\":\"fill_alpha\"},\"fill_color\":{\"field\":\"color\"},\"height\":{\"field\":\"height\",\"units\":\"data\"},\"line_color\":{\"field\":\"line_color\"},\"width\":{\"field\":\"width\",\"units\":\"data\"},\"x\":{\"field\":\"x\"},\"y\":{\"field\":\"y\"}},\"id\":\"aa2f8e88-278f-4a6c-9401-5a00bc020003\",\"type\":\"Rect\"},{\"attributes\":{\"children\":[{\"id\":\"2fd32b82-db44-41c5-bddf-2924cd87e1c6\",\"subtype\":\"Chart\",\"type\":\"Plot\"},{\"id\":\"07ba9e0d-dcc2-4362-8ee4-23cb65162871\",\"subtype\":\"Chart\",\"type\":\"Plot\"},{\"id\":\"00ca007b-adb6-4c3c-a37d-8c827db9a6a8\",\"subtype\":\"Chart\",\"type\":\"Plot\"},{\"id\":\"248209b9-8e1e-4ce9-812a-cfb2049789ae\",\"subtype\":\"Chart\",\"type\":\"Plot\"}]},\"id\":\"9701cc44-5c5d-49b3-a0bb-bc652014469b\",\"type\":\"Column\"},{\"attributes\":{\"fill_alpha\":{\"field\":\"fill_alpha\"},\"fill_color\":{\"field\":\"color\"},\"height\":{\"field\":\"height\",\"units\":\"data\"},\"line_color\":{\"field\":\"line_color\"},\"width\":{\"field\":\"width\",\"units\":\"data\"},\"x\":{\"field\":\"x\"},\"y\":{\"field\":\"y\"}},\"id\":\"0f48b3ef-3f65-47f0-9acc-fecd849aaea3\",\"type\":\"Rect\"}],\"root_ids\":[\"9701cc44-5c5d-49b3-a0bb-bc652014469b\"]},\"title\":\"Bokeh Application\",\"version\":\"0.12.4\"}};\n",
       "            var render_items = [{\"docid\":\"e467d3f4-9a1a-4295-9fc1-d96ac1876e0c\",\"elementid\":\"c709c70e-b28c-4e93-b2f2-fa96a1c54fb6\",\"modelid\":\"9701cc44-5c5d-49b3-a0bb-bc652014469b\"}];\n",
       "            \n",
       "            Bokeh.embed.embed_items(docs_json, render_items);\n",
       "          };\n",
       "          if (document.readyState != \"loading\") fn();\n",
       "          else document.addEventListener(\"DOMContentLoaded\", fn);\n",
       "        })();\n",
       "      },\n",
       "      function(Bokeh) {\n",
       "      }\n",
       "    ];\n",
       "  \n",
       "    function run_inline_js() {\n",
       "      \n",
       "      if ((window.Bokeh !== undefined) || (force === true)) {\n",
       "        for (var i = 0; i < inline_js.length; i++) {\n",
       "          inline_js[i](window.Bokeh);\n",
       "        }if (force === true) {\n",
       "          display_loaded();\n",
       "        }} else if (Date.now() < window._bokeh_timeout) {\n",
       "        setTimeout(run_inline_js, 100);\n",
       "      } else if (!window._bokeh_failed_load) {\n",
       "        console.log(\"Bokeh: BokehJS failed to load within specified timeout.\");\n",
       "        window._bokeh_failed_load = true;\n",
       "      } else if (force !== true) {\n",
       "        var cell = $(document.getElementById(\"c709c70e-b28c-4e93-b2f2-fa96a1c54fb6\")).parents('.cell').data().cell;\n",
       "        cell.output_area.append_execute_result(NB_LOAD_WARNING)\n",
       "      }\n",
       "  \n",
       "    }\n",
       "  \n",
       "    if (window._bokeh_is_loading === 0) {\n",
       "      console.log(\"Bokeh: BokehJS loaded, going straight to plotting\");\n",
       "      run_inline_js();\n",
       "    } else {\n",
       "      load_libs(js_urls, function() {\n",
       "        console.log(\"Bokeh: BokehJS plotting callback run at\", now());\n",
       "        run_inline_js();\n",
       "      });\n",
       "    }\n",
       "  }(this));\n",
       "</script>"
      ]
     },
     "metadata": {},
     "output_type": "display_data"
    }
   ],
   "source": [
    "from bokeh.charts import Bar, show, output_notebook, Donut\n",
    "from bokeh.layouts import column\n",
    "from bokeh.palettes import Spectral10\n",
    "\n",
    "listy = []\n",
    "for i in Rendamento:\n",
    "    bor = Bar(i[\"plays\"], values='count', label='rendement', palette=Spectral10, title=i['match'])\n",
    "    listy.append(bor)\n",
    "output_notebook()\n",
    "show(column(listy))"
   ]
  },
  {
   "cell_type": "markdown",
   "metadata": {},
   "source": [
    "#### gemiddelt aantal keer gespeelt per speler per zone per wedstrijd:"
   ]
  },
  {
   "cell_type": "code",
   "execution_count": 170,
   "metadata": {
    "collapsed": false
   },
   "outputs": [
    {
     "data": {
      "text/html": [
       "\n",
       "\n",
       "    <div class=\"bk-root\">\n",
       "        <div class=\"bk-plotdiv\" id=\"b907d710-600a-48da-9bb2-dc19ef75a056\"></div>\n",
       "    </div>\n",
       "<script type=\"text/javascript\">\n",
       "  \n",
       "  (function(global) {\n",
       "    function now() {\n",
       "      return new Date();\n",
       "    }\n",
       "  \n",
       "    var force = false;\n",
       "  \n",
       "    if (typeof (window._bokeh_onload_callbacks) === \"undefined\" || force === true) {\n",
       "      window._bokeh_onload_callbacks = [];\n",
       "      window._bokeh_is_loading = undefined;\n",
       "    }\n",
       "  \n",
       "  \n",
       "    \n",
       "    if (typeof (window._bokeh_timeout) === \"undefined\" || force === true) {\n",
       "      window._bokeh_timeout = Date.now() + 0;\n",
       "      window._bokeh_failed_load = false;\n",
       "    }\n",
       "  \n",
       "    var NB_LOAD_WARNING = {'data': {'text/html':\n",
       "       \"<div style='background-color: #fdd'>\\n\"+\n",
       "       \"<p>\\n\"+\n",
       "       \"BokehJS does not appear to have successfully loaded. If loading BokehJS from CDN, this \\n\"+\n",
       "       \"may be due to a slow or bad network connection. Possible fixes:\\n\"+\n",
       "       \"</p>\\n\"+\n",
       "       \"<ul>\\n\"+\n",
       "       \"<li>re-rerun `output_notebook()` to attempt to load from CDN again, or</li>\\n\"+\n",
       "       \"<li>use INLINE resources instead, as so:</li>\\n\"+\n",
       "       \"</ul>\\n\"+\n",
       "       \"<code>\\n\"+\n",
       "       \"from bokeh.resources import INLINE\\n\"+\n",
       "       \"output_notebook(resources=INLINE)\\n\"+\n",
       "       \"</code>\\n\"+\n",
       "       \"</div>\"}};\n",
       "  \n",
       "    function display_loaded() {\n",
       "      if (window.Bokeh !== undefined) {\n",
       "        document.getElementById(\"b907d710-600a-48da-9bb2-dc19ef75a056\").textContent = \"BokehJS successfully loaded.\";\n",
       "      } else if (Date.now() < window._bokeh_timeout) {\n",
       "        setTimeout(display_loaded, 100)\n",
       "      }\n",
       "    }\n",
       "  \n",
       "    function run_callbacks() {\n",
       "      window._bokeh_onload_callbacks.forEach(function(callback) { callback() });\n",
       "      delete window._bokeh_onload_callbacks\n",
       "      console.info(\"Bokeh: all callbacks have finished\");\n",
       "    }\n",
       "  \n",
       "    function load_libs(js_urls, callback) {\n",
       "      window._bokeh_onload_callbacks.push(callback);\n",
       "      if (window._bokeh_is_loading > 0) {\n",
       "        console.log(\"Bokeh: BokehJS is being loaded, scheduling callback at\", now());\n",
       "        return null;\n",
       "      }\n",
       "      if (js_urls == null || js_urls.length === 0) {\n",
       "        run_callbacks();\n",
       "        return null;\n",
       "      }\n",
       "      console.log(\"Bokeh: BokehJS not loaded, scheduling load and callback at\", now());\n",
       "      window._bokeh_is_loading = js_urls.length;\n",
       "      for (var i = 0; i < js_urls.length; i++) {\n",
       "        var url = js_urls[i];\n",
       "        var s = document.createElement('script');\n",
       "        s.src = url;\n",
       "        s.async = false;\n",
       "        s.onreadystatechange = s.onload = function() {\n",
       "          window._bokeh_is_loading--;\n",
       "          if (window._bokeh_is_loading === 0) {\n",
       "            console.log(\"Bokeh: all BokehJS libraries loaded\");\n",
       "            run_callbacks()\n",
       "          }\n",
       "        };\n",
       "        s.onerror = function() {\n",
       "          console.warn(\"failed to load library \" + url);\n",
       "        };\n",
       "        console.log(\"Bokeh: injecting script tag for BokehJS library: \", url);\n",
       "        document.getElementsByTagName(\"head\")[0].appendChild(s);\n",
       "      }\n",
       "    };var element = document.getElementById(\"b907d710-600a-48da-9bb2-dc19ef75a056\");\n",
       "    if (element == null) {\n",
       "      console.log(\"Bokeh: ERROR: autoload.js configured with elementid 'b907d710-600a-48da-9bb2-dc19ef75a056' but no matching script tag was found. \")\n",
       "      return false;\n",
       "    }\n",
       "  \n",
       "    var js_urls = [];\n",
       "  \n",
       "    var inline_js = [\n",
       "      function(Bokeh) {\n",
       "        (function() {\n",
       "          var fn = function() {\n",
       "            var docs_json = {\"d3fc553a-2d52-4f84-bcd5-293b9f20e774\":{\"roots\":{\"references\":[{\"attributes\":{\"callback\":null,\"column_names\":[\"x\",\"y\",\"width\",\"height\",\"color\",\"fill_alpha\",\"line_color\",\"line_alpha\",\"label\"],\"data\":{\"chart_index\":[{\"group\":\"M\",\"zone\":\"M3\"}],\"color\":[\"#5ab738\"],\"fill_alpha\":[0.8],\"group\":[\"M\"],\"height\":[2.75],\"label\":[{\"group\":\"M\",\"zone\":\"M3\"}],\"line_alpha\":[1.0],\"line_color\":[\"white\"],\"width\":[0.2],\"x\":[\"M3:0.5\"],\"y\":[1.375],\"zone\":[\"M3\"]}},\"id\":\"042b686a-4bfb-4bde-824e-cc9135499873\",\"type\":\"ColumnDataSource\"},{\"attributes\":{\"data_source\":{\"id\":\"2e0e9073-e932-44d3-be5c-104ac5f31ee7\",\"type\":\"ColumnDataSource\"},\"glyph\":{\"id\":\"8cba51d3-74aa-4c31-8fce-81d4975326d3\",\"type\":\"Rect\"},\"hover_glyph\":null,\"nonselection_glyph\":null,\"selection_glyph\":null},\"id\":\"c7e0635a-6972-4310-b0b8-8ae4769c379c\",\"type\":\"GlyphRenderer\"},{\"attributes\":{\"dimension\":1,\"plot\":{\"id\":\"6d54ffb6-ec3f-4180-903e-31c984c6b8e3\",\"subtype\":\"Chart\",\"type\":\"Plot\"},\"ticker\":{\"id\":\"2be48a94-ed51-4e55-a4c0-23494c1e3405\",\"type\":\"BasicTicker\"}},\"id\":\"792f9d2d-0ed5-42f3-ae9b-426d7dc64617\",\"type\":\"Grid\"},{\"attributes\":{\"fill_alpha\":{\"field\":\"fill_alpha\"},\"fill_color\":{\"field\":\"color\"},\"height\":{\"field\":\"height\",\"units\":\"data\"},\"line_color\":{\"field\":\"line_color\"},\"width\":{\"field\":\"width\",\"units\":\"data\"},\"x\":{\"field\":\"x\"},\"y\":{\"field\":\"y\"}},\"id\":\"dae6e195-ab6a-4bbc-ae4d-14c8164b1176\",\"type\":\"Rect\"},{\"attributes\":{\"callback\":null,\"column_names\":[\"x\",\"y\",\"width\",\"height\",\"color\",\"fill_alpha\",\"line_color\",\"line_alpha\",\"label\"],\"data\":{\"chart_index\":[{\"group\":\"L\",\"zone\":\"L4\"}],\"color\":[\"#f22c40\"],\"fill_alpha\":[0.8],\"group\":[\"L\"],\"height\":[2.0],\"label\":[{\"group\":\"L\",\"zone\":\"L4\"}],\"line_alpha\":[1.0],\"line_color\":[\"white\"],\"width\":[0.2],\"x\":[\"L4:0.25\"],\"y\":[1.0],\"zone\":[\"L4\"]}},\"id\":\"09dbc7f3-ce10-417e-844e-2631d25d22dc\",\"type\":\"ColumnDataSource\"},{\"attributes\":{\"callback\":null,\"column_names\":[\"x\",\"y\",\"width\",\"height\",\"color\",\"fill_alpha\",\"line_color\",\"line_alpha\",\"label\"],\"data\":{\"chart_index\":[{\"group\":\"M\",\"zone\":\"M2\"}],\"color\":[\"#5ab738\"],\"fill_alpha\":[0.8],\"group\":[\"M\"],\"height\":[2.6666666666666665],\"label\":[{\"group\":\"M\",\"zone\":\"M2\"}],\"line_alpha\":[1.0],\"line_color\":[\"white\"],\"width\":[0.2],\"x\":[\"M2:0.5\"],\"y\":[1.3333333333333333],\"zone\":[\"M2\"]}},\"id\":\"1964aa5e-9e58-4d43-bc45-07bcfbdb8b5e\",\"type\":\"ColumnDataSource\"},{\"attributes\":{\"callback\":null,\"column_names\":[\"x\",\"y\",\"width\",\"height\",\"color\",\"fill_alpha\",\"line_color\",\"line_alpha\",\"label\"],\"data\":{\"chart_index\":[{\"group\":\"L\",\"zone\":\"L2\"}],\"color\":[\"#f22c40\"],\"fill_alpha\":[0.8],\"group\":[\"L\"],\"height\":[1.75],\"label\":[{\"group\":\"L\",\"zone\":\"L2\"}],\"line_alpha\":[1.0],\"line_color\":[\"white\"],\"width\":[0.2],\"x\":[\"L2:0.25\"],\"y\":[0.875],\"zone\":[\"L2\"]}},\"id\":\"92dde85d-4e65-4c0b-b4a6-e629dbd3056d\",\"type\":\"ColumnDataSource\"},{\"attributes\":{\"callback\":null,\"column_names\":[\"x\",\"y\",\"width\",\"height\",\"color\",\"fill_alpha\",\"line_color\",\"line_alpha\",\"label\"],\"data\":{\"chart_index\":[{\"group\":\"M\",\"zone\":\"M1\"}],\"color\":[\"#5ab738\"],\"fill_alpha\":[0.8],\"group\":[\"M\"],\"height\":[2.0],\"label\":[{\"group\":\"M\",\"zone\":\"M1\"}],\"line_alpha\":[1.0],\"line_color\":[\"white\"],\"width\":[0.2],\"x\":[\"M1:0.5\"],\"y\":[1.0],\"zone\":[\"M1\"]}},\"id\":\"cdb229bc-b7a7-4322-ae52-b766a9038dbd\",\"type\":\"ColumnDataSource\"},{\"attributes\":{},\"id\":\"e4bf3e16-f221-4542-b4be-bfeecd010a08\",\"type\":\"BasicTickFormatter\"},{\"attributes\":{},\"id\":\"4ef8cb5a-40c2-495b-9d48-d87ad6dd2200\",\"type\":\"CategoricalTickFormatter\"},{\"attributes\":{},\"id\":\"93f0fde2-6bdb-401e-8bb7-8dac11914ad0\",\"type\":\"CategoricalTicker\"},{\"attributes\":{},\"id\":\"4332baae-1f8c-4547-a7b7-e7f9fe85c9ac\",\"type\":\"CategoricalTicker\"},{\"attributes\":{},\"id\":\"d3321df7-152a-4291-b3b9-050fa18b1222\",\"type\":\"CategoricalTickFormatter\"},{\"attributes\":{},\"id\":\"7fcb36a9-11be-4a9a-8caf-bb4f27c9f1a9\",\"type\":\"BasicTickFormatter\"},{\"attributes\":{},\"id\":\"c8c3ad2e-519f-4ee0-ae55-2b64bf46313a\",\"type\":\"CategoricalTicker\"},{\"attributes\":{},\"id\":\"7ebf1e28-d167-4594-9419-4a442f166677\",\"type\":\"CategoricalTickFormatter\"},{\"attributes\":{},\"id\":\"9cf512e4-17cd-4a7d-9de1-a343ba9df38d\",\"type\":\"ToolEvents\"},{\"attributes\":{},\"id\":\"41d0e396-1dea-449e-8bcd-5962e1019bf0\",\"type\":\"BasicTickFormatter\"},{\"attributes\":{},\"id\":\"fff9b978-f9f9-4324-8570-2fcbb10e0798\",\"type\":\"CategoricalTicker\"},{\"attributes\":{},\"id\":\"4af7f349-7175-4da2-ae49-a65a253c5b08\",\"type\":\"CategoricalTickFormatter\"},{\"attributes\":{},\"id\":\"d5cbe558-f475-4425-aadb-c374889cc134\",\"type\":\"BasicTickFormatter\"},{\"attributes\":{\"children\":[{\"id\":\"6880aa59-c068-40ce-9906-5723e4c953b5\",\"subtype\":\"Chart\",\"type\":\"Plot\"},{\"id\":\"2aaa4114-5c98-4800-9ccf-e0b575167836\",\"subtype\":\"Chart\",\"type\":\"Plot\"},{\"id\":\"a8ad9fd5-5a10-400c-b7b4-ca16c7eb65a2\",\"subtype\":\"Chart\",\"type\":\"Plot\"},{\"id\":\"6d54ffb6-ec3f-4180-903e-31c984c6b8e3\",\"subtype\":\"Chart\",\"type\":\"Plot\"}]},\"id\":\"20a9ba65-778b-4cb8-952c-63107198f15a\",\"type\":\"Column\"},{\"attributes\":{\"callback\":null,\"factors\":[\"L2\",\"L3\",\"L4\",\"M1\",\"M2\",\"M3\",\"M4\",\"R1\",\"R2\",\"R3\"]},\"id\":\"7bfb3e47-abad-44b8-be5a-8d9a8837b0e8\",\"type\":\"FactorRange\"},{\"attributes\":{\"callback\":null,\"factors\":[\"L1\",\"L2\",\"L3\",\"L4\",\"M1\",\"M2\",\"M3\",\"M4\",\"R1\",\"R2\",\"R3\",\"R4\"]},\"id\":\"4116a426-3216-41ee-9f42-21fe52cc85ab\",\"type\":\"FactorRange\"},{\"attributes\":{\"below\":[{\"id\":\"7c6750d7-6895-4e25-8cba-b9919817155b\",\"type\":\"CategoricalAxis\"}],\"css_classes\":null,\"left\":[{\"id\":\"930d8443-075d-4f2d-a7b8-c02be7cbceda\",\"type\":\"LinearAxis\"}],\"renderers\":[{\"id\":\"9c2746ec-7581-48ad-941d-ecf78736a86a\",\"type\":\"BoxAnnotation\"},{\"id\":\"86bc6282-9e93-4b9d-89ed-616a726af8b0\",\"type\":\"GlyphRenderer\"},{\"id\":\"012e19ab-e9ee-4c6d-ab1a-fb5fde5b3d15\",\"type\":\"GlyphRenderer\"},{\"id\":\"d1a431a5-e38c-4afa-9ea0-2a61e711ab7a\",\"type\":\"GlyphRenderer\"},{\"id\":\"bfb02599-312e-49ee-8251-b0296d27ffc2\",\"type\":\"GlyphRenderer\"},{\"id\":\"e7388e84-d877-45b7-a79a-c30742798598\",\"type\":\"GlyphRenderer\"},{\"id\":\"19105777-0b10-4640-83de-e8fdc089359b\",\"type\":\"GlyphRenderer\"},{\"id\":\"e92e11cb-3e0e-4a4e-a371-d46ea98eee52\",\"type\":\"GlyphRenderer\"},{\"id\":\"bc7f2d08-b30d-41c2-b4cd-326e23391815\",\"type\":\"GlyphRenderer\"},{\"id\":\"b3561110-df07-4af4-a9c3-a89fca50b790\",\"type\":\"GlyphRenderer\"},{\"id\":\"9bf931ee-0b7c-488e-8910-e39b658c5d39\",\"type\":\"GlyphRenderer\"},{\"id\":\"bd3480f2-19e5-4537-a664-5b5b2cc22eff\",\"type\":\"Legend\"},{\"id\":\"7c6750d7-6895-4e25-8cba-b9919817155b\",\"type\":\"CategoricalAxis\"},{\"id\":\"930d8443-075d-4f2d-a7b8-c02be7cbceda\",\"type\":\"LinearAxis\"},{\"id\":\"185ab7d0-ac46-4d9d-9a86-7a4311a751df\",\"type\":\"Grid\"}],\"title\":{\"id\":\"9f666cb9-60f2-4908-ac3a-c204427aacbf\",\"type\":\"Title\"},\"tool_events\":{\"id\":\"9b15ea7e-2d36-486d-b95d-61c35db54453\",\"type\":\"ToolEvents\"},\"toolbar\":{\"id\":\"ed921101-92b8-49d8-9b58-88cf3ae37b6d\",\"type\":\"Toolbar\"},\"x_mapper_type\":\"auto\",\"x_range\":{\"id\":\"7bfb3e47-abad-44b8-be5a-8d9a8837b0e8\",\"type\":\"FactorRange\"},\"y_mapper_type\":\"auto\",\"y_range\":{\"id\":\"cd198f08-bc98-4600-ab50-c8dfa66cc9bc\",\"type\":\"Range1d\"}},\"id\":\"6880aa59-c068-40ce-9906-5723e4c953b5\",\"subtype\":\"Chart\",\"type\":\"Plot\"},{\"attributes\":{\"fill_alpha\":{\"field\":\"fill_alpha\"},\"fill_color\":{\"field\":\"color\"},\"height\":{\"field\":\"height\",\"units\":\"data\"},\"line_color\":{\"field\":\"line_color\"},\"width\":{\"field\":\"width\",\"units\":\"data\"},\"x\":{\"field\":\"x\"},\"y\":{\"field\":\"y\"}},\"id\":\"7218d6e8-fe43-4dc7-96b0-8a8c03d4cc14\",\"type\":\"Rect\"},{\"attributes\":{},\"id\":\"9ebdd05a-e81a-4167-a365-377488e53aa9\",\"type\":\"BasicTicker\"},{\"attributes\":{\"fill_alpha\":{\"field\":\"fill_alpha\"},\"fill_color\":{\"field\":\"color\"},\"height\":{\"field\":\"height\",\"units\":\"data\"},\"line_color\":{\"field\":\"line_color\"},\"width\":{\"field\":\"width\",\"units\":\"data\"},\"x\":{\"field\":\"x\"},\"y\":{\"field\":\"y\"}},\"id\":\"9fc33353-a2bb-40f7-b0a3-437cfd943289\",\"type\":\"Rect\"},{\"attributes\":{\"dimension\":1,\"plot\":{\"id\":\"6880aa59-c068-40ce-9906-5723e4c953b5\",\"subtype\":\"Chart\",\"type\":\"Plot\"},\"ticker\":{\"id\":\"9ebdd05a-e81a-4167-a365-377488e53aa9\",\"type\":\"BasicTicker\"}},\"id\":\"185ab7d0-ac46-4d9d-9a86-7a4311a751df\",\"type\":\"Grid\"},{\"attributes\":{\"data_source\":{\"id\":\"5adb6ef1-bbca-47d1-a3ff-d236b9862600\",\"type\":\"ColumnDataSource\"},\"glyph\":{\"id\":\"bce5e1ea-968d-4fd9-88ba-1490b320598e\",\"type\":\"Rect\"},\"hover_glyph\":null,\"nonselection_glyph\":null,\"selection_glyph\":null},\"id\":\"9b13b155-bc20-4d20-9230-666adc216245\",\"type\":\"GlyphRenderer\"},{\"attributes\":{\"below\":[{\"id\":\"4162f09b-7fd1-4638-a8be-280cce1da405\",\"type\":\"CategoricalAxis\"}],\"css_classes\":null,\"left\":[{\"id\":\"1e23366b-aab9-42de-b1ac-46a83fe0e17e\",\"type\":\"LinearAxis\"}],\"renderers\":[{\"id\":\"8b225657-435a-4333-8025-a9a01d95cc7a\",\"type\":\"BoxAnnotation\"},{\"id\":\"080ccf8a-bd5e-45b2-b697-27fbda2bbe76\",\"type\":\"GlyphRenderer\"},{\"id\":\"48ff0731-3dd6-4878-bbe2-e3ddc51b8947\",\"type\":\"GlyphRenderer\"},{\"id\":\"ced67b9f-3bb3-4f3e-8b35-2cbe5db7ecb2\",\"type\":\"GlyphRenderer\"},{\"id\":\"4cbb12c6-8227-472f-a946-2603b3d30e09\",\"type\":\"GlyphRenderer\"},{\"id\":\"6db20e76-8a3e-4ad8-8c7a-0bc0e4dc0d11\",\"type\":\"GlyphRenderer\"},{\"id\":\"ee71fc8a-57e0-4380-9662-a35b8bf4cd27\",\"type\":\"GlyphRenderer\"},{\"id\":\"48ad0585-8d6c-4cb4-bb2f-b2b037d9fd5f\",\"type\":\"GlyphRenderer\"},{\"id\":\"1bdc8bd3-cad9-482c-8a4d-33ff7c3a787c\",\"type\":\"GlyphRenderer\"},{\"id\":\"16083bb0-dbbd-4aa2-9631-d41056de917f\",\"type\":\"GlyphRenderer\"},{\"id\":\"dfee4df1-be9b-48d9-b0a5-89155a878bcd\",\"type\":\"GlyphRenderer\"},{\"id\":\"65328386-5441-4eb9-8920-7cd68992f542\",\"type\":\"GlyphRenderer\"},{\"id\":\"cc48d9bd-b7f8-4010-b301-c7536c6a39dc\",\"type\":\"GlyphRenderer\"},{\"id\":\"5cb252d0-dac4-4288-93da-411162fde339\",\"type\":\"Legend\"},{\"id\":\"4162f09b-7fd1-4638-a8be-280cce1da405\",\"type\":\"CategoricalAxis\"},{\"id\":\"1e23366b-aab9-42de-b1ac-46a83fe0e17e\",\"type\":\"LinearAxis\"},{\"id\":\"ab16c69b-fff6-4e3b-8adf-c11a55512801\",\"type\":\"Grid\"}],\"title\":{\"id\":\"fc5cabc3-27a3-4fb4-b302-3c6830548d84\",\"type\":\"Title\"},\"tool_events\":{\"id\":\"9cf512e4-17cd-4a7d-9de1-a343ba9df38d\",\"type\":\"ToolEvents\"},\"toolbar\":{\"id\":\"14e5ee7b-736f-439d-aecc-4ea5a4ed2d10\",\"type\":\"Toolbar\"},\"x_mapper_type\":\"auto\",\"x_range\":{\"id\":\"4116a426-3216-41ee-9f42-21fe52cc85ab\",\"type\":\"FactorRange\"},\"y_mapper_type\":\"auto\",\"y_range\":{\"id\":\"38255f7a-a03d-4d63-9120-b1a1de978364\",\"type\":\"Range1d\"}},\"id\":\"2aaa4114-5c98-4800-9ccf-e0b575167836\",\"subtype\":\"Chart\",\"type\":\"Plot\"},{\"attributes\":{\"callback\":null,\"column_names\":[\"x\",\"y\",\"width\",\"height\",\"color\",\"fill_alpha\",\"line_color\",\"line_alpha\",\"label\"],\"data\":{\"chart_index\":[{\"group\":\"R\",\"zone\":\"R3\"}],\"color\":[\"#407ee7\"],\"fill_alpha\":[0.8],\"group\":[\"R\"],\"height\":[2.5],\"label\":[{\"group\":\"R\",\"zone\":\"R3\"}],\"line_alpha\":[1.0],\"line_color\":[\"white\"],\"width\":[0.2],\"x\":[\"R3:0.75\"],\"y\":[1.25],\"zone\":[\"R3\"]}},\"id\":\"392fabef-dfbf-475e-ab6b-412589338384\",\"type\":\"ColumnDataSource\"},{\"attributes\":{\"fill_alpha\":{\"field\":\"fill_alpha\"},\"fill_color\":{\"field\":\"color\"},\"height\":{\"field\":\"height\",\"units\":\"data\"},\"line_color\":{\"field\":\"line_color\"},\"width\":{\"field\":\"width\",\"units\":\"data\"},\"x\":{\"field\":\"x\"},\"y\":{\"field\":\"y\"}},\"id\":\"d9037977-9acf-4c18-bc7b-7f6f860b58a6\",\"type\":\"Rect\"},{\"attributes\":{\"data_source\":{\"id\":\"ac2543cb-1be9-4118-81d9-1dbe57105923\",\"type\":\"ColumnDataSource\"},\"glyph\":{\"id\":\"008a1b7a-90fd-4d51-9d95-a94753ec9bfa\",\"type\":\"Rect\"},\"hover_glyph\":null,\"nonselection_glyph\":null,\"selection_glyph\":null},\"id\":\"6db20e76-8a3e-4ad8-8c7a-0bc0e4dc0d11\",\"type\":\"GlyphRenderer\"},{\"attributes\":{\"dimension\":1,\"plot\":{\"id\":\"a8ad9fd5-5a10-400c-b7b4-ca16c7eb65a2\",\"subtype\":\"Chart\",\"type\":\"Plot\"},\"ticker\":{\"id\":\"ccefe258-2bf7-4d35-98c2-a762e0f29763\",\"type\":\"BasicTicker\"}},\"id\":\"3497295d-6f53-458b-b32f-1f6bc86e44d3\",\"type\":\"Grid\"},{\"attributes\":{\"fill_alpha\":{\"field\":\"fill_alpha\"},\"fill_color\":{\"field\":\"color\"},\"height\":{\"field\":\"height\",\"units\":\"data\"},\"line_color\":{\"field\":\"line_color\"},\"width\":{\"field\":\"width\",\"units\":\"data\"},\"x\":{\"field\":\"x\"},\"y\":{\"field\":\"y\"}},\"id\":\"55151866-c50c-4647-abea-52e0121dcce2\",\"type\":\"Rect\"},{\"attributes\":{},\"id\":\"ccefe258-2bf7-4d35-98c2-a762e0f29763\",\"type\":\"BasicTicker\"},{\"attributes\":{},\"id\":\"457e2c03-bf77-4d1c-b7e9-49ecb59a7bd1\",\"type\":\"BasicTicker\"},{\"attributes\":{\"data_source\":{\"id\":\"2c793bc1-bf5b-4deb-b2c0-4d6c9d53883b\",\"type\":\"ColumnDataSource\"},\"glyph\":{\"id\":\"9fc33353-a2bb-40f7-b0a3-437cfd943289\",\"type\":\"Rect\"},\"hover_glyph\":null,\"nonselection_glyph\":null,\"selection_glyph\":null},\"id\":\"bfb02599-312e-49ee-8251-b0296d27ffc2\",\"type\":\"GlyphRenderer\"},{\"attributes\":{\"data_source\":{\"id\":\"42459dd5-0e93-424b-bc10-fd60d464e587\",\"type\":\"ColumnDataSource\"},\"glyph\":{\"id\":\"d9037977-9acf-4c18-bc7b-7f6f860b58a6\",\"type\":\"Rect\"},\"hover_glyph\":null,\"nonselection_glyph\":null,\"selection_glyph\":null},\"id\":\"082509b8-ad86-48c5-a8e7-e837889857e8\",\"type\":\"GlyphRenderer\"},{\"attributes\":{\"fill_alpha\":{\"field\":\"fill_alpha\"},\"fill_color\":{\"field\":\"color\"},\"height\":{\"field\":\"height\",\"units\":\"data\"},\"line_color\":{\"field\":\"line_color\"},\"width\":{\"field\":\"width\",\"units\":\"data\"},\"x\":{\"field\":\"x\"},\"y\":{\"field\":\"y\"}},\"id\":\"142f6eec-7dce-42d6-b142-d5076e52fe3f\",\"type\":\"Rect\"},{\"attributes\":{\"axis_label\":\"Mean( Count )\",\"formatter\":{\"id\":\"e4bf3e16-f221-4542-b4be-bfeecd010a08\",\"type\":\"BasicTickFormatter\"},\"plot\":{\"id\":\"6880aa59-c068-40ce-9906-5723e4c953b5\",\"subtype\":\"Chart\",\"type\":\"Plot\"},\"ticker\":{\"id\":\"9ebdd05a-e81a-4167-a365-377488e53aa9\",\"type\":\"BasicTicker\"}},\"id\":\"930d8443-075d-4f2d-a7b8-c02be7cbceda\",\"type\":\"LinearAxis\"},{\"attributes\":{\"fill_alpha\":{\"field\":\"fill_alpha\"},\"fill_color\":{\"field\":\"color\"},\"height\":{\"field\":\"height\",\"units\":\"data\"},\"line_color\":{\"field\":\"line_color\"},\"width\":{\"field\":\"width\",\"units\":\"data\"},\"x\":{\"field\":\"x\"},\"y\":{\"field\":\"y\"}},\"id\":\"c99f779a-b4c6-4533-a149-d40bf61e22c9\",\"type\":\"Rect\"},{\"attributes\":{\"data_source\":{\"id\":\"0353b180-a2d3-4bdd-a441-4bc177b77e3f\",\"type\":\"ColumnDataSource\"},\"glyph\":{\"id\":\"55151866-c50c-4647-abea-52e0121dcce2\",\"type\":\"Rect\"},\"hover_glyph\":null,\"nonselection_glyph\":null,\"selection_glyph\":null},\"id\":\"ee71fc8a-57e0-4380-9662-a35b8bf4cd27\",\"type\":\"GlyphRenderer\"},{\"attributes\":{\"data_source\":{\"id\":\"4e6d8335-3091-4c89-8a1e-dc67eb4ac1c3\",\"type\":\"ColumnDataSource\"},\"glyph\":{\"id\":\"142f6eec-7dce-42d6-b142-d5076e52fe3f\",\"type\":\"Rect\"},\"hover_glyph\":null,\"nonselection_glyph\":null,\"selection_glyph\":null},\"id\":\"e7388e84-d877-45b7-a79a-c30742798598\",\"type\":\"GlyphRenderer\"},{\"attributes\":{\"fill_alpha\":{\"field\":\"fill_alpha\"},\"fill_color\":{\"field\":\"color\"},\"height\":{\"field\":\"height\",\"units\":\"data\"},\"line_color\":{\"field\":\"line_color\"},\"width\":{\"field\":\"width\",\"units\":\"data\"},\"x\":{\"field\":\"x\"},\"y\":{\"field\":\"y\"}},\"id\":\"dd7b7aee-35df-4548-9a4d-14be7f40a04b\",\"type\":\"Rect\"},{\"attributes\":{\"callback\":null,\"column_names\":[\"x\",\"y\",\"width\",\"height\",\"color\",\"fill_alpha\",\"line_color\",\"line_alpha\",\"label\"],\"data\":{\"chart_index\":[{\"group\":\"L\",\"zone\":\"L3\"}],\"color\":[\"#f22c40\"],\"fill_alpha\":[0.8],\"group\":[\"L\"],\"height\":[4.666666666666667],\"label\":[{\"group\":\"L\",\"zone\":\"L3\"}],\"line_alpha\":[1.0],\"line_color\":[\"white\"],\"width\":[0.2],\"x\":[\"L3:0.75\"],\"y\":[2.3333333333333335],\"zone\":[\"L3\"]}},\"id\":\"183ce832-a54a-4221-8441-83bfdb480303\",\"type\":\"ColumnDataSource\"},{\"attributes\":{\"data_source\":{\"id\":\"9458e3fd-8e84-4a74-838b-7bc5fdefa790\",\"type\":\"ColumnDataSource\"},\"glyph\":{\"id\":\"dbceae41-1457-425e-aae9-0504f7b24bd8\",\"type\":\"Rect\"},\"hover_glyph\":null,\"nonselection_glyph\":null,\"selection_glyph\":null},\"id\":\"19105777-0b10-4640-83de-e8fdc089359b\",\"type\":\"GlyphRenderer\"},{\"attributes\":{\"callback\":null,\"column_names\":[\"x\",\"y\",\"width\",\"height\",\"color\",\"fill_alpha\",\"line_color\",\"line_alpha\",\"label\"],\"data\":{\"chart_index\":[{\"group\":\"M\",\"zone\":\"M4\"}],\"color\":[\"#5ab738\"],\"fill_alpha\":[0.8],\"group\":[\"M\"],\"height\":[2.25],\"label\":[{\"group\":\"M\",\"zone\":\"M4\"}],\"line_alpha\":[1.0],\"line_color\":[\"white\"],\"width\":[0.2],\"x\":[\"M4:0.5\"],\"y\":[1.125],\"zone\":[\"M4\"]}},\"id\":\"dc843b4d-57f1-4634-be0f-0fe2c50ec4f9\",\"type\":\"ColumnDataSource\"},{\"attributes\":{\"data_source\":{\"id\":\"a941447f-e9c0-44c4-9e28-04d2a4a92bb1\",\"type\":\"ColumnDataSource\"},\"glyph\":{\"id\":\"c99f779a-b4c6-4533-a149-d40bf61e22c9\",\"type\":\"Rect\"},\"hover_glyph\":null,\"nonselection_glyph\":null,\"selection_glyph\":null},\"id\":\"41415f5e-319b-4a10-82b9-a2c6c38a9252\",\"type\":\"GlyphRenderer\"},{\"attributes\":{\"label\":{\"value\":\"M\"},\"renderers\":[{\"id\":\"99656a39-58c5-4b21-a414-db76557aa384\",\"type\":\"GlyphRenderer\"}]},\"id\":\"98ef559e-9d78-468b-8205-edbdeb99e050\",\"type\":\"LegendItem\"},{\"attributes\":{\"data_source\":{\"id\":\"5ec80338-25a9-4f6b-8fb1-25aa3c098bf3\",\"type\":\"ColumnDataSource\"},\"glyph\":{\"id\":\"dd7b7aee-35df-4548-9a4d-14be7f40a04b\",\"type\":\"Rect\"},\"hover_glyph\":null,\"nonselection_glyph\":null,\"selection_glyph\":null},\"id\":\"48ad0585-8d6c-4cb4-bb2f-b2b037d9fd5f\",\"type\":\"GlyphRenderer\"},{\"attributes\":{\"axis_label\":\"Zone\",\"formatter\":{\"id\":\"4ef8cb5a-40c2-495b-9d48-d87ad6dd2200\",\"type\":\"CategoricalTickFormatter\"},\"major_label_orientation\":0.7853981633974483,\"plot\":{\"id\":\"6880aa59-c068-40ce-9906-5723e4c953b5\",\"subtype\":\"Chart\",\"type\":\"Plot\"},\"ticker\":{\"id\":\"93f0fde2-6bdb-401e-8bb7-8dac11914ad0\",\"type\":\"CategoricalTicker\"}},\"id\":\"7c6750d7-6895-4e25-8cba-b9919817155b\",\"type\":\"CategoricalAxis\"},{\"attributes\":{\"axis_label\":\"Mean( Count )\",\"formatter\":{\"id\":\"41d0e396-1dea-449e-8bcd-5962e1019bf0\",\"type\":\"BasicTickFormatter\"},\"plot\":{\"id\":\"a8ad9fd5-5a10-400c-b7b4-ca16c7eb65a2\",\"subtype\":\"Chart\",\"type\":\"Plot\"},\"ticker\":{\"id\":\"ccefe258-2bf7-4d35-98c2-a762e0f29763\",\"type\":\"BasicTicker\"}},\"id\":\"69869a5e-42a1-4814-aaa3-8ea9c12f0853\",\"type\":\"LinearAxis\"},{\"attributes\":{\"callback\":null,\"column_names\":[\"x\",\"y\",\"width\",\"height\",\"color\",\"fill_alpha\",\"line_color\",\"line_alpha\",\"label\"],\"data\":{\"chart_index\":[{\"group\":\"R\",\"zone\":\"R2\"}],\"color\":[\"#407ee7\"],\"fill_alpha\":[0.8],\"group\":[\"R\"],\"height\":[3.25],\"label\":[{\"group\":\"R\",\"zone\":\"R2\"}],\"line_alpha\":[1.0],\"line_color\":[\"white\"],\"width\":[0.2],\"x\":[\"R2:0.75\"],\"y\":[1.625],\"zone\":[\"R2\"]}},\"id\":\"6e312b5d-7a76-43de-b2a3-b2770f1f97d0\",\"type\":\"ColumnDataSource\"},{\"attributes\":{\"label\":{\"value\":\"L\"},\"renderers\":[{\"id\":\"4cbb12c6-8227-472f-a946-2603b3d30e09\",\"type\":\"GlyphRenderer\"}]},\"id\":\"afb21ecf-fba9-4013-98aa-c1e4f6650e0c\",\"type\":\"LegendItem\"},{\"attributes\":{\"callback\":null,\"column_names\":[\"x\",\"y\",\"width\",\"height\",\"color\",\"fill_alpha\",\"line_color\",\"line_alpha\",\"label\"],\"data\":{\"chart_index\":[{\"group\":\"L\",\"zone\":\"L3\"}],\"color\":[\"#f22c40\"],\"fill_alpha\":[0.8],\"group\":[\"L\"],\"height\":[3.0],\"label\":[{\"group\":\"L\",\"zone\":\"L3\"}],\"line_alpha\":[1.0],\"line_color\":[\"white\"],\"width\":[0.2],\"x\":[\"L3:0.25\"],\"y\":[1.5],\"zone\":[\"L3\"]}},\"id\":\"aff73e17-90fd-449a-8e7b-ac79bcd4bd61\",\"type\":\"ColumnDataSource\"},{\"attributes\":{\"fill_alpha\":{\"field\":\"fill_alpha\"},\"fill_color\":{\"field\":\"color\"},\"height\":{\"field\":\"height\",\"units\":\"data\"},\"line_color\":{\"field\":\"line_color\"},\"width\":{\"field\":\"width\",\"units\":\"data\"},\"x\":{\"field\":\"x\"},\"y\":{\"field\":\"y\"}},\"id\":\"99c022cc-b17c-4f82-bfef-6d5dbd3b8765\",\"type\":\"Rect\"},{\"attributes\":{\"callback\":null,\"factors\":[\"L1\",\"L2\",\"L3\",\"L4\",\"M1\",\"M2\",\"M3\",\"M4\",\"R1\",\"R2\",\"R3\",\"R4\"]},\"id\":\"3c23b803-b8fd-474a-8246-830de24ab8f1\",\"type\":\"FactorRange\"},{\"attributes\":{\"fill_alpha\":{\"field\":\"fill_alpha\"},\"fill_color\":{\"field\":\"color\"},\"height\":{\"field\":\"height\",\"units\":\"data\"},\"line_color\":{\"field\":\"line_color\"},\"width\":{\"field\":\"width\",\"units\":\"data\"},\"x\":{\"field\":\"x\"},\"y\":{\"field\":\"y\"}},\"id\":\"ba6deb69-1172-4b8f-a77f-2544696d5988\",\"type\":\"Rect\"},{\"attributes\":{\"callback\":null,\"column_names\":[\"x\",\"y\",\"width\",\"height\",\"color\",\"fill_alpha\",\"line_color\",\"line_alpha\",\"label\"],\"data\":{\"chart_index\":[{\"group\":\"L\",\"zone\":\"L4\"}],\"color\":[\"#f22c40\"],\"fill_alpha\":[0.8],\"group\":[\"L\"],\"height\":[2.0],\"label\":[{\"group\":\"L\",\"zone\":\"L4\"}],\"line_alpha\":[1.0],\"line_color\":[\"white\"],\"width\":[0.2],\"x\":[\"L4:0.75\"],\"y\":[1.0],\"zone\":[\"L4\"]}},\"id\":\"c3e5239d-05e6-4dce-8d6b-945ad669ad7e\",\"type\":\"ColumnDataSource\"},{\"attributes\":{\"callback\":null,\"column_names\":[\"x\",\"y\",\"width\",\"height\",\"color\",\"fill_alpha\",\"line_color\",\"line_alpha\",\"label\"],\"data\":{\"chart_index\":[{\"group\":\"M\",\"zone\":\"M2\"}],\"color\":[\"#5ab738\"],\"fill_alpha\":[0.8],\"group\":[\"M\"],\"height\":[5.166666666666667],\"label\":[{\"group\":\"M\",\"zone\":\"M2\"}],\"line_alpha\":[1.0],\"line_color\":[\"white\"],\"width\":[0.2],\"x\":[\"M2:0.5\"],\"y\":[2.5833333333333335],\"zone\":[\"M2\"]}},\"id\":\"cc58210c-8d3a-472e-a66b-45145285cf8d\",\"type\":\"ColumnDataSource\"},{\"attributes\":{\"fill_alpha\":{\"field\":\"fill_alpha\"},\"fill_color\":{\"field\":\"color\"},\"height\":{\"field\":\"height\",\"units\":\"data\"},\"line_color\":{\"field\":\"line_color\"},\"width\":{\"field\":\"width\",\"units\":\"data\"},\"x\":{\"field\":\"x\"},\"y\":{\"field\":\"y\"}},\"id\":\"876e9c14-972e-4010-a991-405faabfd25e\",\"type\":\"Rect\"},{\"attributes\":{\"data_source\":{\"id\":\"ec38f394-b494-44b7-961b-41c4bb788a88\",\"type\":\"ColumnDataSource\"},\"glyph\":{\"id\":\"ba6deb69-1172-4b8f-a77f-2544696d5988\",\"type\":\"Rect\"},\"hover_glyph\":null,\"nonselection_glyph\":null,\"selection_glyph\":null},\"id\":\"e92e11cb-3e0e-4a4e-a371-d46ea98eee52\",\"type\":\"GlyphRenderer\"},{\"attributes\":{\"dimension\":1,\"plot\":{\"id\":\"2aaa4114-5c98-4800-9ccf-e0b575167836\",\"subtype\":\"Chart\",\"type\":\"Plot\"},\"ticker\":{\"id\":\"457e2c03-bf77-4d1c-b7e9-49ecb59a7bd1\",\"type\":\"BasicTicker\"}},\"id\":\"ab16c69b-fff6-4e3b-8adf-c11a55512801\",\"type\":\"Grid\"},{\"attributes\":{\"axis_label\":\"Zone\",\"formatter\":{\"id\":\"7ebf1e28-d167-4594-9419-4a442f166677\",\"type\":\"CategoricalTickFormatter\"},\"major_label_orientation\":0.7853981633974483,\"plot\":{\"id\":\"a8ad9fd5-5a10-400c-b7b4-ca16c7eb65a2\",\"subtype\":\"Chart\",\"type\":\"Plot\"},\"ticker\":{\"id\":\"c8c3ad2e-519f-4ee0-ae55-2b64bf46313a\",\"type\":\"CategoricalTicker\"}},\"id\":\"3435b470-901c-4b1f-9cdd-dbc0b17a30e7\",\"type\":\"CategoricalAxis\"},{\"attributes\":{\"data_source\":{\"id\":\"183ce832-a54a-4221-8441-83bfdb480303\",\"type\":\"ColumnDataSource\"},\"glyph\":{\"id\":\"f2a8ea56-eba5-409b-97b8-9a6a8a0b1878\",\"type\":\"Rect\"},\"hover_glyph\":null,\"nonselection_glyph\":null,\"selection_glyph\":null},\"id\":\"1bdc8bd3-cad9-482c-8a4d-33ff7c3a787c\",\"type\":\"GlyphRenderer\"},{\"attributes\":{\"data_source\":{\"id\":\"ae3955be-bbdf-40f1-a817-58e75d4ad26a\",\"type\":\"ColumnDataSource\"},\"glyph\":{\"id\":\"99c022cc-b17c-4f82-bfef-6d5dbd3b8765\",\"type\":\"Rect\"},\"hover_glyph\":null,\"nonselection_glyph\":null,\"selection_glyph\":null},\"id\":\"c53424fd-f428-4bbd-96a9-2ffd8f050a14\",\"type\":\"GlyphRenderer\"},{\"attributes\":{\"fill_alpha\":{\"field\":\"fill_alpha\"},\"fill_color\":{\"field\":\"color\"},\"height\":{\"field\":\"height\",\"units\":\"data\"},\"line_color\":{\"field\":\"line_color\"},\"width\":{\"field\":\"width\",\"units\":\"data\"},\"x\":{\"field\":\"x\"},\"y\":{\"field\":\"y\"}},\"id\":\"9662b68c-f172-4b0c-acf5-5205fdec8a01\",\"type\":\"Rect\"},{\"attributes\":{\"callback\":null,\"column_names\":[\"x\",\"y\",\"width\",\"height\",\"color\",\"fill_alpha\",\"line_color\",\"line_alpha\",\"label\"],\"data\":{\"chart_index\":[{\"group\":\"L\",\"zone\":\"L4\"}],\"color\":[\"#f22c40\"],\"fill_alpha\":[0.8],\"group\":[\"L\"],\"height\":[2.25],\"label\":[{\"group\":\"L\",\"zone\":\"L4\"}],\"line_alpha\":[1.0],\"line_color\":[\"white\"],\"width\":[0.2],\"x\":[\"L4:0.25\"],\"y\":[1.125],\"zone\":[\"L4\"]}},\"id\":\"ee239315-5c9e-4566-ab02-2f4e91d6e908\",\"type\":\"ColumnDataSource\"},{\"attributes\":{\"axis_label\":\"Mean( Count )\",\"formatter\":{\"id\":\"7fcb36a9-11be-4a9a-8caf-bb4f27c9f1a9\",\"type\":\"BasicTickFormatter\"},\"plot\":{\"id\":\"2aaa4114-5c98-4800-9ccf-e0b575167836\",\"subtype\":\"Chart\",\"type\":\"Plot\"},\"ticker\":{\"id\":\"457e2c03-bf77-4d1c-b7e9-49ecb59a7bd1\",\"type\":\"BasicTicker\"}},\"id\":\"1e23366b-aab9-42de-b1ac-46a83fe0e17e\",\"type\":\"LinearAxis\"},{\"attributes\":{\"callback\":null,\"column_names\":[\"x\",\"y\",\"width\",\"height\",\"color\",\"fill_alpha\",\"line_color\",\"line_alpha\",\"label\"],\"data\":{\"chart_index\":[{\"group\":\"M\",\"zone\":\"M3\"}],\"color\":[\"#5ab738\"],\"fill_alpha\":[0.8],\"group\":[\"M\"],\"height\":[4.2],\"label\":[{\"group\":\"M\",\"zone\":\"M3\"}],\"line_alpha\":[1.0],\"line_color\":[\"white\"],\"width\":[0.2],\"x\":[\"M3:0.5\"],\"y\":[2.1],\"zone\":[\"M3\"]}},\"id\":\"f30c07e3-dcf7-496a-a13f-06af9be38d8d\",\"type\":\"ColumnDataSource\"},{\"attributes\":{\"fill_alpha\":{\"field\":\"fill_alpha\"},\"fill_color\":{\"field\":\"color\"},\"height\":{\"field\":\"height\",\"units\":\"data\"},\"line_color\":{\"field\":\"line_color\"},\"width\":{\"field\":\"width\",\"units\":\"data\"},\"x\":{\"field\":\"x\"},\"y\":{\"field\":\"y\"}},\"id\":\"9d1ef6d6-021c-40ec-bbcd-0c7212d2e2a2\",\"type\":\"Rect\"},{\"attributes\":{\"label\":{\"value\":\"R\"},\"renderers\":[{\"id\":\"9b13b155-bc20-4d20-9230-666adc216245\",\"type\":\"GlyphRenderer\"}]},\"id\":\"a5becfb0-ae25-4788-a177-5b53b9786d4a\",\"type\":\"LegendItem\"},{\"attributes\":{\"data_source\":{\"id\":\"c3e5239d-05e6-4dce-8d6b-945ad669ad7e\",\"type\":\"ColumnDataSource\"},\"glyph\":{\"id\":\"876e9c14-972e-4010-a991-405faabfd25e\",\"type\":\"Rect\"},\"hover_glyph\":null,\"nonselection_glyph\":null,\"selection_glyph\":null},\"id\":\"16083bb0-dbbd-4aa2-9631-d41056de917f\",\"type\":\"GlyphRenderer\"},{\"attributes\":{\"callback\":null,\"column_names\":[\"x\",\"y\",\"width\",\"height\",\"color\",\"fill_alpha\",\"line_color\",\"line_alpha\",\"label\"],\"data\":{\"chart_index\":[{\"group\":\"M\",\"zone\":\"M1\"}],\"color\":[\"#5ab738\"],\"fill_alpha\":[0.8],\"group\":[\"M\"],\"height\":[2.5],\"label\":[{\"group\":\"M\",\"zone\":\"M1\"}],\"line_alpha\":[1.0],\"line_color\":[\"white\"],\"width\":[0.2],\"x\":[\"M1:0.5\"],\"y\":[1.25],\"zone\":[\"M1\"]}},\"id\":\"ca41bf7f-1f61-4513-a823-8128550b5a5e\",\"type\":\"ColumnDataSource\"},{\"attributes\":{\"data_source\":{\"id\":\"6e312b5d-7a76-43de-b2a3-b2770f1f97d0\",\"type\":\"ColumnDataSource\"},\"glyph\":{\"id\":\"9662b68c-f172-4b0c-acf5-5205fdec8a01\",\"type\":\"Rect\"},\"hover_glyph\":null,\"nonselection_glyph\":null,\"selection_glyph\":null},\"id\":\"bc7f2d08-b30d-41c2-b4cd-326e23391815\",\"type\":\"GlyphRenderer\"},{\"attributes\":{\"data_source\":{\"id\":\"ae5ed7ec-c697-4429-a7f7-a4ee5325fe9c\",\"type\":\"ColumnDataSource\"},\"glyph\":{\"id\":\"9d1ef6d6-021c-40ec-bbcd-0c7212d2e2a2\",\"type\":\"Rect\"},\"hover_glyph\":null,\"nonselection_glyph\":null,\"selection_glyph\":null},\"id\":\"dfee4df1-be9b-48d9-b0a5-89155a878bcd\",\"type\":\"GlyphRenderer\"},{\"attributes\":{\"label\":{\"value\":\"L\"},\"renderers\":[{\"id\":\"012e19ab-e9ee-4c6d-ab1a-fb5fde5b3d15\",\"type\":\"GlyphRenderer\"}]},\"id\":\"9bce316e-f9b5-41c9-a2e4-5cbe4fd2c98b\",\"type\":\"LegendItem\"},{\"attributes\":{\"fill_alpha\":{\"field\":\"fill_alpha\"},\"fill_color\":{\"field\":\"color\"},\"height\":{\"field\":\"height\",\"units\":\"data\"},\"line_color\":{\"field\":\"line_color\"},\"width\":{\"field\":\"width\",\"units\":\"data\"},\"x\":{\"field\":\"x\"},\"y\":{\"field\":\"y\"}},\"id\":\"2ac49083-c8e7-43f4-8aa0-59d82f0d18ff\",\"type\":\"Rect\"},{\"attributes\":{\"callback\":null,\"end\":10.2375},\"id\":\"cd198f08-bc98-4600-ab50-c8dfa66cc9bc\",\"type\":\"Range1d\"},{\"attributes\":{\"fill_alpha\":{\"field\":\"fill_alpha\"},\"fill_color\":{\"field\":\"color\"},\"height\":{\"field\":\"height\",\"units\":\"data\"},\"line_color\":{\"field\":\"line_color\"},\"width\":{\"field\":\"width\",\"units\":\"data\"},\"x\":{\"field\":\"x\"},\"y\":{\"field\":\"y\"}},\"id\":\"dd9c0956-3fee-4b17-b65b-c487da28867a\",\"type\":\"Rect\"},{\"attributes\":{\"axis_label\":\"Zone\",\"formatter\":{\"id\":\"d3321df7-152a-4291-b3b9-050fa18b1222\",\"type\":\"CategoricalTickFormatter\"},\"major_label_orientation\":0.7853981633974483,\"plot\":{\"id\":\"2aaa4114-5c98-4800-9ccf-e0b575167836\",\"subtype\":\"Chart\",\"type\":\"Plot\"},\"ticker\":{\"id\":\"4332baae-1f8c-4547-a7b7-e7f9fe85c9ac\",\"type\":\"CategoricalTicker\"}},\"id\":\"4162f09b-7fd1-4638-a8be-280cce1da405\",\"type\":\"CategoricalAxis\"},{\"attributes\":{\"data_source\":{\"id\":\"fee3a1fe-9d97-459e-ae00-982d0f3322bf\",\"type\":\"ColumnDataSource\"},\"glyph\":{\"id\":\"cfb19ec0-b43d-4ca6-9349-b3c2acb1cbc7\",\"type\":\"Rect\"},\"hover_glyph\":null,\"nonselection_glyph\":null,\"selection_glyph\":null},\"id\":\"cc48d9bd-b7f8-4010-b301-c7536c6a39dc\",\"type\":\"GlyphRenderer\"},{\"attributes\":{\"callback\":null,\"end\":8.82},\"id\":\"38255f7a-a03d-4d63-9120-b1a1de978364\",\"type\":\"Range1d\"},{\"attributes\":{\"data_source\":{\"id\":\"392fabef-dfbf-475e-ab6b-412589338384\",\"type\":\"ColumnDataSource\"},\"glyph\":{\"id\":\"2ac49083-c8e7-43f4-8aa0-59d82f0d18ff\",\"type\":\"Rect\"},\"hover_glyph\":null,\"nonselection_glyph\":null,\"selection_glyph\":null},\"id\":\"b3561110-df07-4af4-a9c3-a89fca50b790\",\"type\":\"GlyphRenderer\"},{\"attributes\":{\"callback\":null,\"column_names\":[\"x\",\"y\",\"width\",\"height\",\"color\",\"fill_alpha\",\"line_color\",\"line_alpha\",\"label\"],\"data\":{\"chart_index\":[{\"group\":\"L\",\"zone\":\"L1\"}],\"color\":[\"#f22c40\"],\"fill_alpha\":[0.8],\"group\":[\"L\"],\"height\":[1.0],\"label\":[{\"group\":\"L\",\"zone\":\"L1\"}],\"line_alpha\":[1.0],\"line_color\":[\"white\"],\"width\":[0.2],\"x\":[\"L1:0.75\"],\"y\":[0.5],\"zone\":[\"L1\"]}},\"id\":\"5ec80338-25a9-4f6b-8fb1-25aa3c098bf3\",\"type\":\"ColumnDataSource\"},{\"attributes\":{\"fill_alpha\":{\"field\":\"fill_alpha\"},\"fill_color\":{\"field\":\"color\"},\"height\":{\"field\":\"height\",\"units\":\"data\"},\"line_color\":{\"field\":\"line_color\"},\"width\":{\"field\":\"width\",\"units\":\"data\"},\"x\":{\"field\":\"x\"},\"y\":{\"field\":\"y\"}},\"id\":\"6dad0871-0349-44a8-bc38-a4f99b746f67\",\"type\":\"Rect\"},{\"attributes\":{\"callback\":null,\"column_names\":[\"x\",\"y\",\"width\",\"height\",\"color\",\"fill_alpha\",\"line_color\",\"line_alpha\",\"label\"],\"data\":{\"chart_index\":[{\"group\":\"M\",\"zone\":\"M1\"}],\"color\":[\"#5ab738\"],\"fill_alpha\":[0.8],\"group\":[\"M\"],\"height\":[2.3333333333333335],\"label\":[{\"group\":\"M\",\"zone\":\"M1\"}],\"line_alpha\":[1.0],\"line_color\":[\"white\"],\"width\":[0.2],\"x\":[\"M1:0.25\"],\"y\":[1.1666666666666667],\"zone\":[\"M1\"]}},\"id\":\"4e6d8335-3091-4c89-8a1e-dc67eb4ac1c3\",\"type\":\"ColumnDataSource\"},{\"attributes\":{\"items\":[{\"id\":\"2ab8603b-891e-40ff-b93c-e7b09792196c\",\"type\":\"LegendItem\"},{\"id\":\"3a81570d-6914-40aa-be44-61fafd459850\",\"type\":\"LegendItem\"},{\"id\":\"afb21ecf-fba9-4013-98aa-c1e4f6650e0c\",\"type\":\"LegendItem\"}],\"location\":\"top_left\",\"plot\":{\"id\":\"2aaa4114-5c98-4800-9ccf-e0b575167836\",\"subtype\":\"Chart\",\"type\":\"Plot\"}},\"id\":\"5cb252d0-dac4-4288-93da-411162fde339\",\"type\":\"Legend\"},{\"attributes\":{\"label\":{\"value\":\"M\"},\"renderers\":[{\"id\":\"86bc6282-9e93-4b9d-89ed-616a726af8b0\",\"type\":\"GlyphRenderer\"}]},\"id\":\"d106a44f-9ad7-459e-8935-58d7e731d128\",\"type\":\"LegendItem\"},{\"attributes\":{\"label\":{\"value\":\"R\"},\"renderers\":[{\"id\":\"e92e11cb-3e0e-4a4e-a371-d46ea98eee52\",\"type\":\"GlyphRenderer\"}]},\"id\":\"66cede77-d179-442a-8542-fca930b7840a\",\"type\":\"LegendItem\"},{\"attributes\":{\"data_source\":{\"id\":\"d74c5197-4ef4-4ed6-89e7-08ea7365e494\",\"type\":\"ColumnDataSource\"},\"glyph\":{\"id\":\"dd9c0956-3fee-4b17-b65b-c487da28867a\",\"type\":\"Rect\"},\"hover_glyph\":null,\"nonselection_glyph\":null,\"selection_glyph\":null},\"id\":\"65328386-5441-4eb9-8920-7cd68992f542\",\"type\":\"GlyphRenderer\"},{\"attributes\":{\"data_source\":{\"id\":\"ffad2453-9492-4829-8d27-785ad784c875\",\"type\":\"ColumnDataSource\"},\"glyph\":{\"id\":\"6dad0871-0349-44a8-bc38-a4f99b746f67\",\"type\":\"Rect\"},\"hover_glyph\":null,\"nonselection_glyph\":null,\"selection_glyph\":null},\"id\":\"7cf4bf37-bbe8-4ea5-9203-b2f301e2f71b\",\"type\":\"GlyphRenderer\"},{\"attributes\":{\"fill_alpha\":{\"field\":\"fill_alpha\"},\"fill_color\":{\"field\":\"color\"},\"height\":{\"field\":\"height\",\"units\":\"data\"},\"line_color\":{\"field\":\"line_color\"},\"width\":{\"field\":\"width\",\"units\":\"data\"},\"x\":{\"field\":\"x\"},\"y\":{\"field\":\"y\"}},\"id\":\"a674e940-b1bf-44bd-bf51-042a93760674\",\"type\":\"Rect\"},{\"attributes\":{\"items\":[{\"id\":\"d106a44f-9ad7-459e-8935-58d7e731d128\",\"type\":\"LegendItem\"},{\"id\":\"9bce316e-f9b5-41c9-a2e4-5cbe4fd2c98b\",\"type\":\"LegendItem\"},{\"id\":\"66cede77-d179-442a-8542-fca930b7840a\",\"type\":\"LegendItem\"}],\"location\":\"top_left\",\"plot\":{\"id\":\"6880aa59-c068-40ce-9906-5723e4c953b5\",\"subtype\":\"Chart\",\"type\":\"Plot\"}},\"id\":\"bd3480f2-19e5-4537-a664-5b5b2cc22eff\",\"type\":\"Legend\"},{\"attributes\":{\"label\":{\"value\":\"M\"},\"renderers\":[{\"id\":\"080ccf8a-bd5e-45b2-b697-27fbda2bbe76\",\"type\":\"GlyphRenderer\"}]},\"id\":\"2ab8603b-891e-40ff-b93c-e7b09792196c\",\"type\":\"LegendItem\"},{\"attributes\":{\"fill_alpha\":{\"field\":\"fill_alpha\"},\"fill_color\":{\"field\":\"color\"},\"height\":{\"field\":\"height\",\"units\":\"data\"},\"line_color\":{\"field\":\"line_color\"},\"width\":{\"field\":\"width\",\"units\":\"data\"},\"x\":{\"field\":\"x\"},\"y\":{\"field\":\"y\"}},\"id\":\"cfb19ec0-b43d-4ca6-9349-b3c2acb1cbc7\",\"type\":\"Rect\"},{\"attributes\":{\"callback\":null,\"factors\":[\"L1\",\"L2\",\"L3\",\"L4\",\"M1\",\"M2\",\"M3\",\"M4\",\"R1\",\"R2\",\"R3\",\"R4\"]},\"id\":\"58237c0f-0ea9-436b-913c-9759caf19ea3\",\"type\":\"FactorRange\"},{\"attributes\":{\"callback\":null,\"column_names\":[\"x\",\"y\",\"width\",\"height\",\"color\",\"fill_alpha\",\"line_color\",\"line_alpha\",\"label\"],\"data\":{\"chart_index\":[{\"group\":\"R\",\"zone\":\"R1\"}],\"color\":[\"#407ee7\"],\"fill_alpha\":[0.8],\"group\":[\"R\"],\"height\":[1.0],\"label\":[{\"group\":\"R\",\"zone\":\"R1\"}],\"line_alpha\":[1.0],\"line_color\":[\"white\"],\"width\":[0.2],\"x\":[\"R1:0.75\"],\"y\":[0.5],\"zone\":[\"R1\"]}},\"id\":\"ec38f394-b494-44b7-961b-41c4bb788a88\",\"type\":\"ColumnDataSource\"},{\"attributes\":{\"below\":[{\"id\":\"ebd09de6-8f34-4f7f-8bd9-d194672abe16\",\"type\":\"CategoricalAxis\"}],\"css_classes\":null,\"left\":[{\"id\":\"aac0d20e-22e9-4fc3-a8c9-8e7bbfd08305\",\"type\":\"LinearAxis\"}],\"renderers\":[{\"id\":\"209b0db4-ff7d-4317-aa74-3506416ce0d0\",\"type\":\"BoxAnnotation\"},{\"id\":\"7cf4bf37-bbe8-4ea5-9203-b2f301e2f71b\",\"type\":\"GlyphRenderer\"},{\"id\":\"d1a75df4-cc91-420e-b1ad-fe450cc5ceb8\",\"type\":\"GlyphRenderer\"},{\"id\":\"b23e2e00-895a-4ae9-95de-435a7d88b527\",\"type\":\"GlyphRenderer\"},{\"id\":\"6dc997ee-6573-4db4-93b6-815cc99c89e5\",\"type\":\"GlyphRenderer\"},{\"id\":\"1af0ab7b-f00f-45fd-b16d-8f7d55f5f9ed\",\"type\":\"GlyphRenderer\"},{\"id\":\"cbba6a1d-c271-4e0f-8efa-eda1cec1916f\",\"type\":\"GlyphRenderer\"},{\"id\":\"b7655da4-e55c-4a6b-bcc8-c15bb0ddb083\",\"type\":\"GlyphRenderer\"},{\"id\":\"3320df1e-04dd-4814-925a-44bb47f082a2\",\"type\":\"GlyphRenderer\"},{\"id\":\"600aceb0-4721-4373-a07e-2904ae688517\",\"type\":\"GlyphRenderer\"},{\"id\":\"62e19f21-f9e2-4e59-8fec-650022e60c40\",\"type\":\"GlyphRenderer\"},{\"id\":\"dfe881b3-8fde-45dd-b7ea-c983c45598a5\",\"type\":\"GlyphRenderer\"},{\"id\":\"c7e0635a-6972-4310-b0b8-8ae4769c379c\",\"type\":\"GlyphRenderer\"},{\"id\":\"aec0461b-1562-4a44-a30d-af19f10372a9\",\"type\":\"Legend\"},{\"id\":\"ebd09de6-8f34-4f7f-8bd9-d194672abe16\",\"type\":\"CategoricalAxis\"},{\"id\":\"aac0d20e-22e9-4fc3-a8c9-8e7bbfd08305\",\"type\":\"LinearAxis\"},{\"id\":\"792f9d2d-0ed5-42f3-ae9b-426d7dc64617\",\"type\":\"Grid\"}],\"title\":{\"id\":\"110b6fa7-7d6f-4cb3-9e99-ae22f179fc9b\",\"type\":\"Title\"},\"tool_events\":{\"id\":\"76683e32-b20a-4116-b55d-8d9b1093905a\",\"type\":\"ToolEvents\"},\"toolbar\":{\"id\":\"dde21a73-9d7d-4891-bc85-6b3fa2612f73\",\"type\":\"Toolbar\"},\"x_mapper_type\":\"auto\",\"x_range\":{\"id\":\"3c23b803-b8fd-474a-8246-830de24ab8f1\",\"type\":\"FactorRange\"},\"y_mapper_type\":\"auto\",\"y_range\":{\"id\":\"c8aa9b67-2456-4d16-99d8-0367b6f65771\",\"type\":\"Range1d\"}},\"id\":\"6d54ffb6-ec3f-4180-903e-31c984c6b8e3\",\"subtype\":\"Chart\",\"type\":\"Plot\"},{\"attributes\":{\"data_source\":{\"id\":\"aa7e25fb-cfbd-4287-959e-0b98c678e97f\",\"type\":\"ColumnDataSource\"},\"glyph\":{\"id\":\"a674e940-b1bf-44bd-bf51-042a93760674\",\"type\":\"Rect\"},\"hover_glyph\":null,\"nonselection_glyph\":null,\"selection_glyph\":null},\"id\":\"9bf931ee-0b7c-488e-8910-e39b658c5d39\",\"type\":\"GlyphRenderer\"},{\"attributes\":{\"callback\":null,\"column_names\":[\"x\",\"y\",\"width\",\"height\",\"color\",\"fill_alpha\",\"line_color\",\"line_alpha\",\"label\"],\"data\":{\"chart_index\":[{\"group\":\"M\",\"zone\":\"M3\"}],\"color\":[\"#5ab738\"],\"fill_alpha\":[0.8],\"group\":[\"M\"],\"height\":[3.25],\"label\":[{\"group\":\"M\",\"zone\":\"M3\"}],\"line_alpha\":[1.0],\"line_color\":[\"white\"],\"width\":[0.2],\"x\":[\"M3:0.25\"],\"y\":[1.625],\"zone\":[\"M3\"]}},\"id\":\"c83dd4d8-7d51-49cb-9cff-d7e35f181524\",\"type\":\"ColumnDataSource\"},{\"attributes\":{\"label\":{\"value\":\"R\"},\"renderers\":[{\"id\":\"48ff0731-3dd6-4878-bbe2-e3ddc51b8947\",\"type\":\"GlyphRenderer\"}]},\"id\":\"3a81570d-6914-40aa-be44-61fafd459850\",\"type\":\"LegendItem\"},{\"attributes\":{},\"id\":\"76683e32-b20a-4116-b55d-8d9b1093905a\",\"type\":\"ToolEvents\"},{\"attributes\":{\"items\":[{\"id\":\"89bc626f-874b-4661-8eee-b8cb9245de2f\",\"type\":\"LegendItem\"},{\"id\":\"98ef559e-9d78-468b-8205-edbdeb99e050\",\"type\":\"LegendItem\"},{\"id\":\"a5becfb0-ae25-4788-a177-5b53b9786d4a\",\"type\":\"LegendItem\"}],\"location\":\"top_left\",\"plot\":{\"id\":\"a8ad9fd5-5a10-400c-b7b4-ca16c7eb65a2\",\"subtype\":\"Chart\",\"type\":\"Plot\"}},\"id\":\"2c585d85-537b-4ee6-a016-5335de2168bc\",\"type\":\"Legend\"},{\"attributes\":{\"fill_alpha\":{\"field\":\"fill_alpha\"},\"fill_color\":{\"field\":\"color\"},\"height\":{\"field\":\"height\",\"units\":\"data\"},\"line_color\":{\"field\":\"line_color\"},\"width\":{\"field\":\"width\",\"units\":\"data\"},\"x\":{\"field\":\"x\"},\"y\":{\"field\":\"y\"}},\"id\":\"4d493a57-8f63-4e49-9db3-e78871663a43\",\"type\":\"Rect\"},{\"attributes\":{\"fill_alpha\":{\"field\":\"fill_alpha\"},\"fill_color\":{\"field\":\"color\"},\"height\":{\"field\":\"height\",\"units\":\"data\"},\"line_color\":{\"field\":\"line_color\"},\"width\":{\"field\":\"width\",\"units\":\"data\"},\"x\":{\"field\":\"x\"},\"y\":{\"field\":\"y\"}},\"id\":\"c090d88a-6a7a-473b-828a-d523bb6ea2f2\",\"type\":\"Rect\"},{\"attributes\":{\"bottom_units\":\"screen\",\"fill_alpha\":{\"value\":0.5},\"fill_color\":{\"value\":\"lightgrey\"},\"left_units\":\"screen\",\"level\":\"overlay\",\"line_alpha\":{\"value\":1.0},\"line_color\":{\"value\":\"black\"},\"line_dash\":[4,4],\"line_width\":{\"value\":2},\"plot\":null,\"render_mode\":\"css\",\"right_units\":\"screen\",\"top_units\":\"screen\"},\"id\":\"209b0db4-ff7d-4317-aa74-3506416ce0d0\",\"type\":\"BoxAnnotation\"},{\"attributes\":{\"callback\":null,\"column_names\":[\"x\",\"y\",\"width\",\"height\",\"color\",\"fill_alpha\",\"line_color\",\"line_alpha\",\"label\"],\"data\":{\"chart_index\":[{\"group\":\"L\",\"zone\":\"L2\"}],\"color\":[\"#f22c40\"],\"fill_alpha\":[0.8],\"group\":[\"L\"],\"height\":[4.0],\"label\":[{\"group\":\"L\",\"zone\":\"L2\"}],\"line_alpha\":[1.0],\"line_color\":[\"white\"],\"width\":[0.2],\"x\":[\"L2:0.25\"],\"y\":[2.0],\"zone\":[\"L2\"]}},\"id\":\"77a60252-2de6-4464-a548-267eee3214e4\",\"type\":\"ColumnDataSource\"},{\"attributes\":{\"data_source\":{\"id\":\"ee239315-5c9e-4566-ab02-2f4e91d6e908\",\"type\":\"ColumnDataSource\"},\"glyph\":{\"id\":\"5919ae1c-5248-4f97-8e84-d5b23750219d\",\"type\":\"Rect\"},\"hover_glyph\":null,\"nonselection_glyph\":null,\"selection_glyph\":null},\"id\":\"a0686d3a-4c94-47ea-9e31-06f2f431b37e\",\"type\":\"GlyphRenderer\"},{\"attributes\":{\"data_source\":{\"id\":\"cdb229bc-b7a7-4322-ae52-b766a9038dbd\",\"type\":\"ColumnDataSource\"},\"glyph\":{\"id\":\"f69be943-e8b4-429a-beb5-6d8e94a022cc\",\"type\":\"Rect\"},\"hover_glyph\":null,\"nonselection_glyph\":null,\"selection_glyph\":null},\"id\":\"b7655da4-e55c-4a6b-bcc8-c15bb0ddb083\",\"type\":\"GlyphRenderer\"},{\"attributes\":{\"fill_alpha\":{\"field\":\"fill_alpha\"},\"fill_color\":{\"field\":\"color\"},\"height\":{\"field\":\"height\",\"units\":\"data\"},\"line_color\":{\"field\":\"line_color\"},\"width\":{\"field\":\"width\",\"units\":\"data\"},\"x\":{\"field\":\"x\"},\"y\":{\"field\":\"y\"}},\"id\":\"2a0c1413-970c-4659-8ef6-907d126d3bf6\",\"type\":\"Rect\"},{\"attributes\":{\"data_source\":{\"id\":\"0cc6a260-970c-413c-a3f1-a19be8e74e8b\",\"type\":\"ColumnDataSource\"},\"glyph\":{\"id\":\"c090d88a-6a7a-473b-828a-d523bb6ea2f2\",\"type\":\"Rect\"},\"hover_glyph\":null,\"nonselection_glyph\":null,\"selection_glyph\":null},\"id\":\"1af0ab7b-f00f-45fd-b16d-8f7d55f5f9ed\",\"type\":\"GlyphRenderer\"},{\"attributes\":{\"data_source\":{\"id\":\"1964aa5e-9e58-4d43-bc45-07bcfbdb8b5e\",\"type\":\"ColumnDataSource\"},\"glyph\":{\"id\":\"4542c3fb-e258-462d-a7a1-ecea7be40e8a\",\"type\":\"Rect\"},\"hover_glyph\":null,\"nonselection_glyph\":null,\"selection_glyph\":null},\"id\":\"d1a75df4-cc91-420e-b1ad-fe450cc5ceb8\",\"type\":\"GlyphRenderer\"},{\"attributes\":{},\"id\":\"9b15ea7e-2d36-486d-b95d-61c35db54453\",\"type\":\"ToolEvents\"},{\"attributes\":{\"fill_alpha\":{\"field\":\"fill_alpha\"},\"fill_color\":{\"field\":\"color\"},\"height\":{\"field\":\"height\",\"units\":\"data\"},\"line_color\":{\"field\":\"line_color\"},\"width\":{\"field\":\"width\",\"units\":\"data\"},\"x\":{\"field\":\"x\"},\"y\":{\"field\":\"y\"}},\"id\":\"dbd6808c-021f-4adc-b16a-4bcea90da7af\",\"type\":\"Rect\"},{\"attributes\":{\"callback\":null,\"column_names\":[\"x\",\"y\",\"width\",\"height\",\"color\",\"fill_alpha\",\"line_color\",\"line_alpha\",\"label\"],\"data\":{\"chart_index\":[{\"group\":\"R\",\"zone\":\"R1\"}],\"color\":[\"#407ee7\"],\"fill_alpha\":[0.8],\"group\":[\"R\"],\"height\":[2.0],\"label\":[{\"group\":\"R\",\"zone\":\"R1\"}],\"line_alpha\":[1.0],\"line_color\":[\"white\"],\"width\":[0.2],\"x\":[\"R1:0.75\"],\"y\":[1.0],\"zone\":[\"R1\"]}},\"id\":\"2e0e9073-e932-44d3-be5c-104ac5f31ee7\",\"type\":\"ColumnDataSource\"},{\"attributes\":{\"callback\":null,\"column_names\":[\"x\",\"y\",\"width\",\"height\",\"color\",\"fill_alpha\",\"line_color\",\"line_alpha\",\"label\"],\"data\":{\"chart_index\":[{\"group\":\"M\",\"zone\":\"M4\"}],\"color\":[\"#5ab738\"],\"fill_alpha\":[0.8],\"group\":[\"M\"],\"height\":[2.0],\"label\":[{\"group\":\"M\",\"zone\":\"M4\"}],\"line_alpha\":[1.0],\"line_color\":[\"white\"],\"width\":[0.2],\"x\":[\"M4:0.25\"],\"y\":[1.0],\"zone\":[\"M4\"]}},\"id\":\"aa7e25fb-cfbd-4287-959e-0b98c678e97f\",\"type\":\"ColumnDataSource\"},{\"attributes\":{\"fill_alpha\":{\"field\":\"fill_alpha\"},\"fill_color\":{\"field\":\"color\"},\"height\":{\"field\":\"height\",\"units\":\"data\"},\"line_color\":{\"field\":\"line_color\"},\"width\":{\"field\":\"width\",\"units\":\"data\"},\"x\":{\"field\":\"x\"},\"y\":{\"field\":\"y\"}},\"id\":\"f69be943-e8b4-429a-beb5-6d8e94a022cc\",\"type\":\"Rect\"},{\"attributes\":{\"data_source\":{\"id\":\"a1ce44f5-32db-4a41-bf1b-ae77731ce202\",\"type\":\"ColumnDataSource\"},\"glyph\":{\"id\":\"f6a403f4-3343-4b53-a006-747ff022bda6\",\"type\":\"Rect\"},\"hover_glyph\":null,\"nonselection_glyph\":null,\"selection_glyph\":null},\"id\":\"600aceb0-4721-4373-a07e-2904ae688517\",\"type\":\"GlyphRenderer\"},{\"attributes\":{\"fill_alpha\":{\"field\":\"fill_alpha\"},\"fill_color\":{\"field\":\"color\"},\"height\":{\"field\":\"height\",\"units\":\"data\"},\"line_color\":{\"field\":\"line_color\"},\"width\":{\"field\":\"width\",\"units\":\"data\"},\"x\":{\"field\":\"x\"},\"y\":{\"field\":\"y\"}},\"id\":\"f2a8ea56-eba5-409b-97b8-9a6a8a0b1878\",\"type\":\"Rect\"},{\"attributes\":{\"data_source\":{\"id\":\"d369659a-af11-4b36-bf12-5883ac5e1196\",\"type\":\"ColumnDataSource\"},\"glyph\":{\"id\":\"7218d6e8-fe43-4dc7-96b0-8a8c03d4cc14\",\"type\":\"Rect\"},\"hover_glyph\":null,\"nonselection_glyph\":null,\"selection_glyph\":null},\"id\":\"080ccf8a-bd5e-45b2-b697-27fbda2bbe76\",\"type\":\"GlyphRenderer\"},{\"attributes\":{\"active_drag\":\"auto\",\"active_scroll\":\"auto\",\"active_tap\":\"auto\",\"tools\":[{\"id\":\"122fb59c-a3ff-4ffc-bcb9-cc60839e8d62\",\"type\":\"PanTool\"},{\"id\":\"0da81c33-dd30-40c8-8e07-af536c135413\",\"type\":\"WheelZoomTool\"},{\"id\":\"0055fc54-7e00-41d4-8f8a-342f37b7da06\",\"type\":\"BoxZoomTool\"},{\"id\":\"1659f178-60cc-485f-9a17-02ef3e47d768\",\"type\":\"SaveTool\"},{\"id\":\"5a938e03-1e88-4b23-b770-23b4c2b205b7\",\"type\":\"ResetTool\"},{\"id\":\"f87df955-cc1e-4a98-877f-932eec297cce\",\"type\":\"HelpTool\"}]},\"id\":\"dde21a73-9d7d-4891-bc85-6b3fa2612f73\",\"type\":\"Toolbar\"},{\"attributes\":{\"callback\":null,\"column_names\":[\"x\",\"y\",\"width\",\"height\",\"color\",\"fill_alpha\",\"line_color\",\"line_alpha\",\"label\"],\"data\":{\"chart_index\":[{\"group\":\"R\",\"zone\":\"R1\"}],\"color\":[\"#407ee7\"],\"fill_alpha\":[0.8],\"group\":[\"R\"],\"height\":[1.0],\"label\":[{\"group\":\"R\",\"zone\":\"R1\"}],\"line_alpha\":[1.0],\"line_color\":[\"white\"],\"width\":[0.2],\"x\":[\"R1:0.75\"],\"y\":[0.5],\"zone\":[\"R1\"]}},\"id\":\"5adb6ef1-bbca-47d1-a3ff-d236b9862600\",\"type\":\"ColumnDataSource\"},{\"attributes\":{\"data_source\":{\"id\":\"92dde85d-4e65-4c0b-b4a6-e629dbd3056d\",\"type\":\"ColumnDataSource\"},\"glyph\":{\"id\":\"dbd6808c-021f-4adc-b16a-4bcea90da7af\",\"type\":\"Rect\"},\"hover_glyph\":null,\"nonselection_glyph\":null,\"selection_glyph\":null},\"id\":\"cbba6a1d-c271-4e0f-8efa-eda1cec1916f\",\"type\":\"GlyphRenderer\"},{\"attributes\":{\"plot\":{\"id\":\"6d54ffb6-ec3f-4180-903e-31c984c6b8e3\",\"subtype\":\"Chart\",\"type\":\"Plot\"}},\"id\":\"122fb59c-a3ff-4ffc-bcb9-cc60839e8d62\",\"type\":\"PanTool\"},{\"attributes\":{\"plot\":null,\"text\":\"NEC - Roda JC\"},\"id\":\"110b6fa7-7d6f-4cb3-9e99-ae22f179fc9b\",\"type\":\"Title\"},{\"attributes\":{\"callback\":null,\"column_names\":[\"x\",\"y\",\"width\",\"height\",\"color\",\"fill_alpha\",\"line_color\",\"line_alpha\",\"label\"],\"data\":{\"chart_index\":[{\"group\":\"L\",\"zone\":\"L2\"}],\"color\":[\"#f22c40\"],\"fill_alpha\":[0.8],\"group\":[\"L\"],\"height\":[6.0],\"label\":[{\"group\":\"L\",\"zone\":\"L2\"}],\"line_alpha\":[1.0],\"line_color\":[\"white\"],\"width\":[0.2],\"x\":[\"L2:0.5\"],\"y\":[3.0],\"zone\":[\"L2\"]}},\"id\":\"f09e36cf-1ec0-4c94-b71d-af4235d9ffaa\",\"type\":\"ColumnDataSource\"},{\"attributes\":{\"fill_alpha\":{\"field\":\"fill_alpha\"},\"fill_color\":{\"field\":\"color\"},\"height\":{\"field\":\"height\",\"units\":\"data\"},\"line_color\":{\"field\":\"line_color\"},\"width\":{\"field\":\"width\",\"units\":\"data\"},\"x\":{\"field\":\"x\"},\"y\":{\"field\":\"y\"}},\"id\":\"ef7e7911-d72b-4328-bffd-f334d48218ee\",\"type\":\"Rect\"},{\"attributes\":{\"active_drag\":\"auto\",\"active_scroll\":\"auto\",\"active_tap\":\"auto\",\"tools\":[{\"id\":\"ddfdb194-1200-46b7-8d46-abc56c567f59\",\"type\":\"PanTool\"},{\"id\":\"7db8de4a-b292-4117-abc8-1dcbed9d167b\",\"type\":\"WheelZoomTool\"},{\"id\":\"99553e88-85a9-44bd-9707-d0ddc76e1c45\",\"type\":\"BoxZoomTool\"},{\"id\":\"7490207d-fe86-4651-bf0a-c1ce7346ccc1\",\"type\":\"SaveTool\"},{\"id\":\"361bb9f6-be5f-4936-a635-970620e8d763\",\"type\":\"ResetTool\"},{\"id\":\"f0d6051f-e9e2-41c9-89c1-50afef97598c\",\"type\":\"HelpTool\"}]},\"id\":\"ed921101-92b8-49d8-9b58-88cf3ae37b6d\",\"type\":\"Toolbar\"},{\"attributes\":{\"fill_alpha\":{\"field\":\"fill_alpha\"},\"fill_color\":{\"field\":\"color\"},\"height\":{\"field\":\"height\",\"units\":\"data\"},\"line_color\":{\"field\":\"line_color\"},\"width\":{\"field\":\"width\",\"units\":\"data\"},\"x\":{\"field\":\"x\"},\"y\":{\"field\":\"y\"}},\"id\":\"5919ae1c-5248-4f97-8e84-d5b23750219d\",\"type\":\"Rect\"},{\"attributes\":{\"callback\":null,\"column_names\":[\"x\",\"y\",\"width\",\"height\",\"color\",\"fill_alpha\",\"line_color\",\"line_alpha\",\"label\"],\"data\":{\"chart_index\":[{\"group\":\"M\",\"zone\":\"M4\"}],\"color\":[\"#5ab738\"],\"fill_alpha\":[0.8],\"group\":[\"M\"],\"height\":[2.0],\"label\":[{\"group\":\"M\",\"zone\":\"M4\"}],\"line_alpha\":[1.0],\"line_color\":[\"white\"],\"width\":[0.2],\"x\":[\"M4:0.5\"],\"y\":[1.0],\"zone\":[\"M4\"]}},\"id\":\"ef19d48a-d354-402e-adf7-3487ee1e2bef\",\"type\":\"ColumnDataSource\"},{\"attributes\":{\"data_source\":{\"id\":\"aff73e17-90fd-449a-8e7b-ac79bcd4bd61\",\"type\":\"ColumnDataSource\"},\"glyph\":{\"id\":\"ecad11d9-35a1-436e-9cf8-6a0e716c7954\",\"type\":\"Rect\"},\"hover_glyph\":null,\"nonselection_glyph\":null,\"selection_glyph\":null},\"id\":\"7133cd09-aaa9-4a89-905e-6d9565de2429\",\"type\":\"GlyphRenderer\"},{\"attributes\":{\"plot\":{\"id\":\"6d54ffb6-ec3f-4180-903e-31c984c6b8e3\",\"subtype\":\"Chart\",\"type\":\"Plot\"}},\"id\":\"0da81c33-dd30-40c8-8e07-af536c135413\",\"type\":\"WheelZoomTool\"},{\"attributes\":{\"callback\":null,\"column_names\":[\"x\",\"y\",\"width\",\"height\",\"color\",\"fill_alpha\",\"line_color\",\"line_alpha\",\"label\"],\"data\":{\"chart_index\":[{\"group\":\"R\",\"zone\":\"R2\"}],\"color\":[\"#407ee7\"],\"fill_alpha\":[0.8],\"group\":[\"R\"],\"height\":[3.5],\"label\":[{\"group\":\"R\",\"zone\":\"R2\"}],\"line_alpha\":[1.0],\"line_color\":[\"white\"],\"width\":[0.2],\"x\":[\"R2:0.75\"],\"y\":[1.75],\"zone\":[\"R2\"]}},\"id\":\"a1ce44f5-32db-4a41-bf1b-ae77731ce202\",\"type\":\"ColumnDataSource\"},{\"attributes\":{\"overlay\":{\"id\":\"209b0db4-ff7d-4317-aa74-3506416ce0d0\",\"type\":\"BoxAnnotation\"},\"plot\":{\"id\":\"6d54ffb6-ec3f-4180-903e-31c984c6b8e3\",\"subtype\":\"Chart\",\"type\":\"Plot\"}},\"id\":\"0055fc54-7e00-41d4-8f8a-342f37b7da06\",\"type\":\"BoxZoomTool\"},{\"attributes\":{\"plot\":null,\"text\":\"FC Utrecht - NEC\"},\"id\":\"9f666cb9-60f2-4908-ac3a-c204427aacbf\",\"type\":\"Title\"},{\"attributes\":{\"plot\":{\"id\":\"6d54ffb6-ec3f-4180-903e-31c984c6b8e3\",\"subtype\":\"Chart\",\"type\":\"Plot\"}},\"id\":\"1659f178-60cc-485f-9a17-02ef3e47d768\",\"type\":\"SaveTool\"},{\"attributes\":{\"plot\":{\"id\":\"6d54ffb6-ec3f-4180-903e-31c984c6b8e3\",\"subtype\":\"Chart\",\"type\":\"Plot\"}},\"id\":\"5a938e03-1e88-4b23-b770-23b4c2b205b7\",\"type\":\"ResetTool\"},{\"attributes\":{\"bottom_units\":\"screen\",\"fill_alpha\":{\"value\":0.5},\"fill_color\":{\"value\":\"lightgrey\"},\"left_units\":\"screen\",\"level\":\"overlay\",\"line_alpha\":{\"value\":1.0},\"line_color\":{\"value\":\"black\"},\"line_dash\":[4,4],\"line_width\":{\"value\":2},\"plot\":null,\"render_mode\":\"css\",\"right_units\":\"screen\",\"top_units\":\"screen\"},\"id\":\"9c2746ec-7581-48ad-941d-ecf78736a86a\",\"type\":\"BoxAnnotation\"},{\"attributes\":{\"plot\":{\"id\":\"6d54ffb6-ec3f-4180-903e-31c984c6b8e3\",\"subtype\":\"Chart\",\"type\":\"Plot\"}},\"id\":\"f87df955-cc1e-4a98-877f-932eec297cce\",\"type\":\"HelpTool\"},{\"attributes\":{\"axis_label\":\"Mean( Count )\",\"formatter\":{\"id\":\"d5cbe558-f475-4425-aadb-c374889cc134\",\"type\":\"BasicTickFormatter\"},\"plot\":{\"id\":\"6d54ffb6-ec3f-4180-903e-31c984c6b8e3\",\"subtype\":\"Chart\",\"type\":\"Plot\"},\"ticker\":{\"id\":\"2be48a94-ed51-4e55-a4c0-23494c1e3405\",\"type\":\"BasicTicker\"}},\"id\":\"aac0d20e-22e9-4fc3-a8c9-8e7bbfd08305\",\"type\":\"LinearAxis\"},{\"attributes\":{\"plot\":{\"id\":\"6880aa59-c068-40ce-9906-5723e4c953b5\",\"subtype\":\"Chart\",\"type\":\"Plot\"}},\"id\":\"ddfdb194-1200-46b7-8d46-abc56c567f59\",\"type\":\"PanTool\"},{\"attributes\":{\"data_source\":{\"id\":\"dc843b4d-57f1-4634-be0f-0fe2c50ec4f9\",\"type\":\"ColumnDataSource\"},\"glyph\":{\"id\":\"375e7c83-dc4e-482f-bae9-dc32ed6f1b46\",\"type\":\"Rect\"},\"hover_glyph\":null,\"nonselection_glyph\":null,\"selection_glyph\":null},\"id\":\"f03d8aa8-7d1b-4678-a957-e4f8afaa55bf\",\"type\":\"GlyphRenderer\"},{\"attributes\":{\"plot\":{\"id\":\"6880aa59-c068-40ce-9906-5723e4c953b5\",\"subtype\":\"Chart\",\"type\":\"Plot\"}},\"id\":\"7db8de4a-b292-4117-abc8-1dcbed9d167b\",\"type\":\"WheelZoomTool\"},{\"attributes\":{\"data_source\":{\"id\":\"ef19d48a-d354-402e-adf7-3487ee1e2bef\",\"type\":\"ColumnDataSource\"},\"glyph\":{\"id\":\"ef7e7911-d72b-4328-bffd-f334d48218ee\",\"type\":\"Rect\"},\"hover_glyph\":null,\"nonselection_glyph\":null,\"selection_glyph\":null},\"id\":\"3320df1e-04dd-4814-925a-44bb47f082a2\",\"type\":\"GlyphRenderer\"},{\"attributes\":{\"overlay\":{\"id\":\"9c2746ec-7581-48ad-941d-ecf78736a86a\",\"type\":\"BoxAnnotation\"},\"plot\":{\"id\":\"6880aa59-c068-40ce-9906-5723e4c953b5\",\"subtype\":\"Chart\",\"type\":\"Plot\"}},\"id\":\"99553e88-85a9-44bd-9707-d0ddc76e1c45\",\"type\":\"BoxZoomTool\"},{\"attributes\":{\"plot\":{\"id\":\"6880aa59-c068-40ce-9906-5723e4c953b5\",\"subtype\":\"Chart\",\"type\":\"Plot\"}},\"id\":\"7490207d-fe86-4651-bf0a-c1ce7346ccc1\",\"type\":\"SaveTool\"},{\"attributes\":{\"callback\":null,\"column_names\":[\"x\",\"y\",\"width\",\"height\",\"color\",\"fill_alpha\",\"line_color\",\"line_alpha\",\"label\"],\"data\":{\"chart_index\":[{\"group\":\"L\",\"zone\":\"L3\"}],\"color\":[\"#f22c40\"],\"fill_alpha\":[0.8],\"group\":[\"L\"],\"height\":[3.3333333333333335],\"label\":[{\"group\":\"L\",\"zone\":\"L3\"}],\"line_alpha\":[1.0],\"line_color\":[\"white\"],\"width\":[0.2],\"x\":[\"L3:0.25\"],\"y\":[1.6666666666666667],\"zone\":[\"L3\"]}},\"id\":\"ffad2453-9492-4829-8d27-785ad784c875\",\"type\":\"ColumnDataSource\"},{\"attributes\":{\"plot\":{\"id\":\"6880aa59-c068-40ce-9906-5723e4c953b5\",\"subtype\":\"Chart\",\"type\":\"Plot\"}},\"id\":\"361bb9f6-be5f-4936-a635-970620e8d763\",\"type\":\"ResetTool\"},{\"attributes\":{\"fill_alpha\":{\"field\":\"fill_alpha\"},\"fill_color\":{\"field\":\"color\"},\"height\":{\"field\":\"height\",\"units\":\"data\"},\"line_color\":{\"field\":\"line_color\"},\"width\":{\"field\":\"width\",\"units\":\"data\"},\"x\":{\"field\":\"x\"},\"y\":{\"field\":\"y\"}},\"id\":\"8f8349eb-6a15-4a99-a175-aa9cd16ec87b\",\"type\":\"Rect\"},{\"attributes\":{\"callback\":null,\"column_names\":[\"x\",\"y\",\"width\",\"height\",\"color\",\"fill_alpha\",\"line_color\",\"line_alpha\",\"label\"],\"data\":{\"chart_index\":[{\"group\":\"L\",\"zone\":\"L1\"}],\"color\":[\"#f22c40\"],\"fill_alpha\":[0.8],\"group\":[\"L\"],\"height\":[1.0],\"label\":[{\"group\":\"L\",\"zone\":\"L1\"}],\"line_alpha\":[1.0],\"line_color\":[\"white\"],\"width\":[0.2],\"x\":[\"L1:0.25\"],\"y\":[0.5],\"zone\":[\"L1\"]}},\"id\":\"0cc6a260-970c-413c-a3f1-a19be8e74e8b\",\"type\":\"ColumnDataSource\"},{\"attributes\":{\"plot\":{\"id\":\"6880aa59-c068-40ce-9906-5723e4c953b5\",\"subtype\":\"Chart\",\"type\":\"Plot\"}},\"id\":\"f0d6051f-e9e2-41c9-89c1-50afef97598c\",\"type\":\"HelpTool\"},{\"attributes\":{\"axis_label\":\"Zone\",\"formatter\":{\"id\":\"4af7f349-7175-4da2-ae49-a65a253c5b08\",\"type\":\"CategoricalTickFormatter\"},\"major_label_orientation\":0.7853981633974483,\"plot\":{\"id\":\"6d54ffb6-ec3f-4180-903e-31c984c6b8e3\",\"subtype\":\"Chart\",\"type\":\"Plot\"},\"ticker\":{\"id\":\"fff9b978-f9f9-4324-8570-2fcbb10e0798\",\"type\":\"CategoricalTicker\"}},\"id\":\"ebd09de6-8f34-4f7f-8bd9-d194672abe16\",\"type\":\"CategoricalAxis\"},{\"attributes\":{\"fill_alpha\":{\"field\":\"fill_alpha\"},\"fill_color\":{\"field\":\"color\"},\"height\":{\"field\":\"height\",\"units\":\"data\"},\"line_color\":{\"field\":\"line_color\"},\"width\":{\"field\":\"width\",\"units\":\"data\"},\"x\":{\"field\":\"x\"},\"y\":{\"field\":\"y\"}},\"id\":\"f6a403f4-3343-4b53-a006-747ff022bda6\",\"type\":\"Rect\"},{\"attributes\":{\"callback\":null,\"column_names\":[\"x\",\"y\",\"width\",\"height\",\"color\",\"fill_alpha\",\"line_color\",\"line_alpha\",\"label\"],\"data\":{\"chart_index\":[{\"group\":\"M\",\"zone\":\"M2\"}],\"color\":[\"#5ab738\"],\"fill_alpha\":[0.8],\"group\":[\"M\"],\"height\":[9.75],\"label\":[{\"group\":\"M\",\"zone\":\"M2\"}],\"line_alpha\":[1.0],\"line_color\":[\"white\"],\"width\":[0.2],\"x\":[\"M2:0.25\"],\"y\":[4.875],\"zone\":[\"M2\"]}},\"id\":\"9458e3fd-8e84-4a74-838b-7bc5fdefa790\",\"type\":\"ColumnDataSource\"},{\"attributes\":{\"fill_alpha\":{\"field\":\"fill_alpha\"},\"fill_color\":{\"field\":\"color\"},\"height\":{\"field\":\"height\",\"units\":\"data\"},\"line_color\":{\"field\":\"line_color\"},\"width\":{\"field\":\"width\",\"units\":\"data\"},\"x\":{\"field\":\"x\"},\"y\":{\"field\":\"y\"}},\"id\":\"8cba51d3-74aa-4c31-8fce-81d4975326d3\",\"type\":\"Rect\"},{\"attributes\":{\"data_source\":{\"id\":\"ca41bf7f-1f61-4513-a823-8128550b5a5e\",\"type\":\"ColumnDataSource\"},\"glyph\":{\"id\":\"8f8349eb-6a15-4a99-a175-aa9cd16ec87b\",\"type\":\"Rect\"},\"hover_glyph\":null,\"nonselection_glyph\":null,\"selection_glyph\":null},\"id\":\"99656a39-58c5-4b21-a414-db76557aa384\",\"type\":\"GlyphRenderer\"},{\"attributes\":{\"fill_alpha\":{\"field\":\"fill_alpha\"},\"fill_color\":{\"field\":\"color\"},\"height\":{\"field\":\"height\",\"units\":\"data\"},\"line_color\":{\"field\":\"line_color\"},\"width\":{\"field\":\"width\",\"units\":\"data\"},\"x\":{\"field\":\"x\"},\"y\":{\"field\":\"y\"}},\"id\":\"42e289a4-ee00-49ac-859d-ecf2b5e7d17e\",\"type\":\"Rect\"},{\"attributes\":{\"fill_alpha\":{\"field\":\"fill_alpha\"},\"fill_color\":{\"field\":\"color\"},\"height\":{\"field\":\"height\",\"units\":\"data\"},\"line_color\":{\"field\":\"line_color\"},\"width\":{\"field\":\"width\",\"units\":\"data\"},\"x\":{\"field\":\"x\"},\"y\":{\"field\":\"y\"}},\"id\":\"5db0d11f-2aa4-4d02-8462-fcceda00c017\",\"type\":\"Rect\"},{\"attributes\":{\"fill_alpha\":{\"field\":\"fill_alpha\"},\"fill_color\":{\"field\":\"color\"},\"height\":{\"field\":\"height\",\"units\":\"data\"},\"line_color\":{\"field\":\"line_color\"},\"width\":{\"field\":\"width\",\"units\":\"data\"},\"x\":{\"field\":\"x\"},\"y\":{\"field\":\"y\"}},\"id\":\"dbceae41-1457-425e-aae9-0504f7b24bd8\",\"type\":\"Rect\"},{\"attributes\":{\"data_source\":{\"id\":\"c83dd4d8-7d51-49cb-9cff-d7e35f181524\",\"type\":\"ColumnDataSource\"},\"glyph\":{\"id\":\"2a0c1413-970c-4659-8ef6-907d126d3bf6\",\"type\":\"Rect\"},\"hover_glyph\":null,\"nonselection_glyph\":null,\"selection_glyph\":null},\"id\":\"86bc6282-9e93-4b9d-89ed-616a726af8b0\",\"type\":\"GlyphRenderer\"},{\"attributes\":{\"callback\":null,\"column_names\":[\"x\",\"y\",\"width\",\"height\",\"color\",\"fill_alpha\",\"line_color\",\"line_alpha\",\"label\"],\"data\":{\"chart_index\":[{\"group\":\"R\",\"zone\":\"R2\"}],\"color\":[\"#407ee7\"],\"fill_alpha\":[0.8],\"group\":[\"R\"],\"height\":[4.5],\"label\":[{\"group\":\"R\",\"zone\":\"R2\"}],\"line_alpha\":[1.0],\"line_color\":[\"white\"],\"width\":[0.2],\"x\":[\"R2:0.75\"],\"y\":[2.25],\"zone\":[\"R2\"]}},\"id\":\"42459dd5-0e93-424b-bc10-fd60d464e587\",\"type\":\"ColumnDataSource\"},{\"attributes\":{\"data_source\":{\"id\":\"bb0a89ac-adbe-4de6-afd8-c6ad60d05dce\",\"type\":\"ColumnDataSource\"},\"glyph\":{\"id\":\"42e289a4-ee00-49ac-859d-ecf2b5e7d17e\",\"type\":\"Rect\"},\"hover_glyph\":null,\"nonselection_glyph\":null,\"selection_glyph\":null},\"id\":\"62e19f21-f9e2-4e59-8fec-650022e60c40\",\"type\":\"GlyphRenderer\"},{\"attributes\":{\"fill_alpha\":{\"field\":\"fill_alpha\"},\"fill_color\":{\"field\":\"color\"},\"height\":{\"field\":\"height\",\"units\":\"data\"},\"line_color\":{\"field\":\"line_color\"},\"width\":{\"field\":\"width\",\"units\":\"data\"},\"x\":{\"field\":\"x\"},\"y\":{\"field\":\"y\"}},\"id\":\"4542c3fb-e258-462d-a7a1-ecea7be40e8a\",\"type\":\"Rect\"},{\"attributes\":{\"label\":{\"value\":\"L\"},\"renderers\":[{\"id\":\"9b77125d-f434-43b7-a164-045c8d1249d5\",\"type\":\"GlyphRenderer\"}]},\"id\":\"89bc626f-874b-4661-8eee-b8cb9245de2f\",\"type\":\"LegendItem\"},{\"attributes\":{\"data_source\":{\"id\":\"cc58210c-8d3a-472e-a66b-45145285cf8d\",\"type\":\"ColumnDataSource\"},\"glyph\":{\"id\":\"5db0d11f-2aa4-4d02-8462-fcceda00c017\",\"type\":\"Rect\"},\"hover_glyph\":null,\"nonselection_glyph\":null,\"selection_glyph\":null},\"id\":\"085c9092-2f43-43f3-add6-3db3414a4247\",\"type\":\"GlyphRenderer\"},{\"attributes\":{\"fill_alpha\":{\"field\":\"fill_alpha\"},\"fill_color\":{\"field\":\"color\"},\"height\":{\"field\":\"height\",\"units\":\"data\"},\"line_color\":{\"field\":\"line_color\"},\"width\":{\"field\":\"width\",\"units\":\"data\"},\"x\":{\"field\":\"x\"},\"y\":{\"field\":\"y\"}},\"id\":\"0084e06c-5f75-463e-b046-3fbf76acebed\",\"type\":\"Rect\"},{\"attributes\":{\"data_source\":{\"id\":\"39e71c53-21ab-4d09-a51a-23f9b932fe88\",\"type\":\"ColumnDataSource\"},\"glyph\":{\"id\":\"40da747b-e228-4ab0-b4a3-b0436425aa47\",\"type\":\"Rect\"},\"hover_glyph\":null,\"nonselection_glyph\":null,\"selection_glyph\":null},\"id\":\"d1a431a5-e38c-4afa-9ea0-2a61e711ab7a\",\"type\":\"GlyphRenderer\"},{\"attributes\":{\"fill_alpha\":{\"field\":\"fill_alpha\"},\"fill_color\":{\"field\":\"color\"},\"height\":{\"field\":\"height\",\"units\":\"data\"},\"line_color\":{\"field\":\"line_color\"},\"width\":{\"field\":\"width\",\"units\":\"data\"},\"x\":{\"field\":\"x\"},\"y\":{\"field\":\"y\"}},\"id\":\"f429fa4b-e030-45ca-adc3-87de95204716\",\"type\":\"Rect\"},{\"attributes\":{\"callback\":null,\"column_names\":[\"x\",\"y\",\"width\",\"height\",\"color\",\"fill_alpha\",\"line_color\",\"line_alpha\",\"label\"],\"data\":{\"chart_index\":[{\"group\":\"R\",\"zone\":\"R4\"}],\"color\":[\"#407ee7\"],\"fill_alpha\":[0.8],\"group\":[\"R\"],\"height\":[1.0],\"label\":[{\"group\":\"R\",\"zone\":\"R4\"}],\"line_alpha\":[1.0],\"line_color\":[\"white\"],\"width\":[0.2],\"x\":[\"R4:0.75\"],\"y\":[0.5],\"zone\":[\"R4\"]}},\"id\":\"c3200365-f44a-415b-92f5-597ee7a613fb\",\"type\":\"ColumnDataSource\"},{\"attributes\":{\"data_source\":{\"id\":\"c3200365-f44a-415b-92f5-597ee7a613fb\",\"type\":\"ColumnDataSource\"},\"glyph\":{\"id\":\"a49890db-f24f-4423-9924-f3a06f0a966a\",\"type\":\"Rect\"},\"hover_glyph\":null,\"nonselection_glyph\":null,\"selection_glyph\":null},\"id\":\"6dc997ee-6573-4db4-93b6-815cc99c89e5\",\"type\":\"GlyphRenderer\"},{\"attributes\":{\"fill_alpha\":{\"field\":\"fill_alpha\"},\"fill_color\":{\"field\":\"color\"},\"height\":{\"field\":\"height\",\"units\":\"data\"},\"line_color\":{\"field\":\"line_color\"},\"width\":{\"field\":\"width\",\"units\":\"data\"},\"x\":{\"field\":\"x\"},\"y\":{\"field\":\"y\"}},\"id\":\"ab6e09b2-e330-4a1e-a33c-db3149a0e8d9\",\"type\":\"Rect\"},{\"attributes\":{\"callback\":null,\"end\":3.675},\"id\":\"c8aa9b67-2456-4d16-99d8-0367b6f65771\",\"type\":\"Range1d\"},{\"attributes\":{\"data_source\":{\"id\":\"f09e36cf-1ec0-4c94-b71d-af4235d9ffaa\",\"type\":\"ColumnDataSource\"},\"glyph\":{\"id\":\"0084e06c-5f75-463e-b046-3fbf76acebed\",\"type\":\"Rect\"},\"hover_glyph\":null,\"nonselection_glyph\":null,\"selection_glyph\":null},\"id\":\"012e19ab-e9ee-4c6d-ab1a-fb5fde5b3d15\",\"type\":\"GlyphRenderer\"},{\"attributes\":{\"callback\":null,\"column_names\":[\"x\",\"y\",\"width\",\"height\",\"color\",\"fill_alpha\",\"line_color\",\"line_alpha\",\"label\"],\"data\":{\"chart_index\":[{\"group\":\"R\",\"zone\":\"R3\"}],\"color\":[\"#407ee7\"],\"fill_alpha\":[0.8],\"group\":[\"R\"],\"height\":[3.3333333333333335],\"label\":[{\"group\":\"R\",\"zone\":\"R3\"}],\"line_alpha\":[1.0],\"line_color\":[\"white\"],\"width\":[0.2],\"x\":[\"R3:0.75\"],\"y\":[1.6666666666666667],\"zone\":[\"R3\"]}},\"id\":\"bb0a89ac-adbe-4de6-afd8-c6ad60d05dce\",\"type\":\"ColumnDataSource\"},{\"attributes\":{\"data_source\":{\"id\":\"09dbc7f3-ce10-417e-844e-2631d25d22dc\",\"type\":\"ColumnDataSource\"},\"glyph\":{\"id\":\"f429fa4b-e030-45ca-adc3-87de95204716\",\"type\":\"Rect\"},\"hover_glyph\":null,\"nonselection_glyph\":null,\"selection_glyph\":null},\"id\":\"dfe881b3-8fde-45dd-b7ea-c983c45598a5\",\"type\":\"GlyphRenderer\"},{\"attributes\":{\"fill_alpha\":{\"field\":\"fill_alpha\"},\"fill_color\":{\"field\":\"color\"},\"height\":{\"field\":\"height\",\"units\":\"data\"},\"line_color\":{\"field\":\"line_color\"},\"width\":{\"field\":\"width\",\"units\":\"data\"},\"x\":{\"field\":\"x\"},\"y\":{\"field\":\"y\"}},\"id\":\"375e7c83-dc4e-482f-bae9-dc32ed6f1b46\",\"type\":\"Rect\"},{\"attributes\":{\"items\":[{\"id\":\"f0f53a84-cfff-415e-9a8d-ddc6e58ef954\",\"type\":\"LegendItem\"},{\"id\":\"70520cd8-d56d-4dbc-a0ac-0f75f6df7fea\",\"type\":\"LegendItem\"},{\"id\":\"07e76131-6171-42e5-a337-764a2c634c28\",\"type\":\"LegendItem\"}],\"location\":\"top_left\",\"plot\":{\"id\":\"6d54ffb6-ec3f-4180-903e-31c984c6b8e3\",\"subtype\":\"Chart\",\"type\":\"Plot\"}},\"id\":\"aec0461b-1562-4a44-a30d-af19f10372a9\",\"type\":\"Legend\"},{\"attributes\":{\"label\":{\"value\":\"L\"},\"renderers\":[{\"id\":\"7cf4bf37-bbe8-4ea5-9203-b2f301e2f71b\",\"type\":\"GlyphRenderer\"}]},\"id\":\"f0f53a84-cfff-415e-9a8d-ddc6e58ef954\",\"type\":\"LegendItem\"},{\"attributes\":{\"fill_alpha\":{\"field\":\"fill_alpha\"},\"fill_color\":{\"field\":\"color\"},\"height\":{\"field\":\"height\",\"units\":\"data\"},\"line_color\":{\"field\":\"line_color\"},\"width\":{\"field\":\"width\",\"units\":\"data\"},\"x\":{\"field\":\"x\"},\"y\":{\"field\":\"y\"}},\"id\":\"40da747b-e228-4ab0-b4a3-b0436425aa47\",\"type\":\"Rect\"},{\"attributes\":{\"fill_alpha\":{\"field\":\"fill_alpha\"},\"fill_color\":{\"field\":\"color\"},\"height\":{\"field\":\"height\",\"units\":\"data\"},\"line_color\":{\"field\":\"line_color\"},\"width\":{\"field\":\"width\",\"units\":\"data\"},\"x\":{\"field\":\"x\"},\"y\":{\"field\":\"y\"}},\"id\":\"a49890db-f24f-4423-9924-f3a06f0a966a\",\"type\":\"Rect\"},{\"attributes\":{\"data_source\":{\"id\":\"f30c07e3-dcf7-496a-a13f-06af9be38d8d\",\"type\":\"ColumnDataSource\"},\"glyph\":{\"id\":\"ab6e09b2-e330-4a1e-a33c-db3149a0e8d9\",\"type\":\"Rect\"},\"hover_glyph\":null,\"nonselection_glyph\":null,\"selection_glyph\":null},\"id\":\"3a0b1eb4-963f-4fc3-ad8a-5eae8859e2a7\",\"type\":\"GlyphRenderer\"},{\"attributes\":{\"data_source\":{\"id\":\"042b686a-4bfb-4bde-824e-cc9135499873\",\"type\":\"ColumnDataSource\"},\"glyph\":{\"id\":\"4d493a57-8f63-4e49-9db3-e78871663a43\",\"type\":\"Rect\"},\"hover_glyph\":null,\"nonselection_glyph\":null,\"selection_glyph\":null},\"id\":\"b23e2e00-895a-4ae9-95de-435a7d88b527\",\"type\":\"GlyphRenderer\"},{\"attributes\":{\"label\":{\"value\":\"R\"},\"renderers\":[{\"id\":\"6dc997ee-6573-4db4-93b6-815cc99c89e5\",\"type\":\"GlyphRenderer\"}]},\"id\":\"07e76131-6171-42e5-a337-764a2c634c28\",\"type\":\"LegendItem\"},{\"attributes\":{},\"id\":\"2be48a94-ed51-4e55-a4c0-23494c1e3405\",\"type\":\"BasicTicker\"},{\"attributes\":{\"label\":{\"value\":\"M\"},\"renderers\":[{\"id\":\"d1a75df4-cc91-420e-b1ad-fe450cc5ceb8\",\"type\":\"GlyphRenderer\"}]},\"id\":\"70520cd8-d56d-4dbc-a0ac-0f75f6df7fea\",\"type\":\"LegendItem\"},{\"attributes\":{\"callback\":null,\"column_names\":[\"x\",\"y\",\"width\",\"height\",\"color\",\"fill_alpha\",\"line_color\",\"line_alpha\",\"label\"],\"data\":{\"chart_index\":[{\"group\":\"R\",\"zone\":\"R4\"}],\"color\":[\"#407ee7\"],\"fill_alpha\":[0.8],\"group\":[\"R\"],\"height\":[1.0],\"label\":[{\"group\":\"R\",\"zone\":\"R4\"}],\"line_alpha\":[1.0],\"line_color\":[\"white\"],\"width\":[0.2],\"x\":[\"R4:0.5\"],\"y\":[0.5],\"zone\":[\"R4\"]}},\"id\":\"0353b180-a2d3-4bdd-a441-4bc177b77e3f\",\"type\":\"ColumnDataSource\"},{\"attributes\":{\"callback\":null,\"column_names\":[\"x\",\"y\",\"width\",\"height\",\"color\",\"fill_alpha\",\"line_color\",\"line_alpha\",\"label\"],\"data\":{\"chart_index\":[{\"group\":\"R\",\"zone\":\"R1\"}],\"color\":[\"#407ee7\"],\"fill_alpha\":[0.8],\"group\":[\"R\"],\"height\":[1.0],\"label\":[{\"group\":\"R\",\"zone\":\"R1\"}],\"line_alpha\":[1.0],\"line_color\":[\"white\"],\"width\":[0.2],\"x\":[\"R1:0.5\"],\"y\":[0.5],\"zone\":[\"R1\"]}},\"id\":\"fee3a1fe-9d97-459e-ae00-982d0f3322bf\",\"type\":\"ColumnDataSource\"},{\"attributes\":{\"callback\":null,\"column_names\":[\"x\",\"y\",\"width\",\"height\",\"color\",\"fill_alpha\",\"line_color\",\"line_alpha\",\"label\"],\"data\":{\"chart_index\":[{\"group\":\"L\",\"zone\":\"L3\"}],\"color\":[\"#f22c40\"],\"fill_alpha\":[0.8],\"group\":[\"L\"],\"height\":[3.0],\"label\":[{\"group\":\"L\",\"zone\":\"L3\"}],\"line_alpha\":[1.0],\"line_color\":[\"white\"],\"width\":[0.2],\"x\":[\"L3:0.5\"],\"y\":[1.5],\"zone\":[\"L3\"]}},\"id\":\"39e71c53-21ab-4d09-a51a-23f9b932fe88\",\"type\":\"ColumnDataSource\"},{\"attributes\":{\"bottom_units\":\"screen\",\"fill_alpha\":{\"value\":0.5},\"fill_color\":{\"value\":\"lightgrey\"},\"left_units\":\"screen\",\"level\":\"overlay\",\"line_alpha\":{\"value\":1.0},\"line_color\":{\"value\":\"black\"},\"line_dash\":[4,4],\"line_width\":{\"value\":2},\"plot\":null,\"render_mode\":\"css\",\"right_units\":\"screen\",\"top_units\":\"screen\"},\"id\":\"8b225657-435a-4333-8025-a9a01d95cc7a\",\"type\":\"BoxAnnotation\"},{\"attributes\":{\"callback\":null,\"column_names\":[\"x\",\"y\",\"width\",\"height\",\"color\",\"fill_alpha\",\"line_color\",\"line_alpha\",\"label\"],\"data\":{\"chart_index\":[{\"group\":\"L\",\"zone\":\"L4\"}],\"color\":[\"#f22c40\"],\"fill_alpha\":[0.8],\"group\":[\"L\"],\"height\":[1.0],\"label\":[{\"group\":\"L\",\"zone\":\"L4\"}],\"line_alpha\":[1.0],\"line_color\":[\"white\"],\"width\":[0.2],\"x\":[\"L4:0.5\"],\"y\":[0.5],\"zone\":[\"L4\"]}},\"id\":\"2c793bc1-bf5b-4deb-b2c0-4d6c9d53883b\",\"type\":\"ColumnDataSource\"},{\"attributes\":{\"callback\":null,\"column_names\":[\"x\",\"y\",\"width\",\"height\",\"color\",\"fill_alpha\",\"line_color\",\"line_alpha\",\"label\"],\"data\":{\"chart_index\":[{\"group\":\"R\",\"zone\":\"R3\"}],\"color\":[\"#407ee7\"],\"fill_alpha\":[0.8],\"group\":[\"R\"],\"height\":[2.25],\"label\":[{\"group\":\"R\",\"zone\":\"R3\"}],\"line_alpha\":[1.0],\"line_color\":[\"white\"],\"width\":[0.2],\"x\":[\"R3:0.5\"],\"y\":[1.125],\"zone\":[\"R3\"]}},\"id\":\"60731439-0188-4577-b75a-64aaa7d399eb\",\"type\":\"ColumnDataSource\"},{\"attributes\":{\"callback\":null,\"column_names\":[\"x\",\"y\",\"width\",\"height\",\"color\",\"fill_alpha\",\"line_color\",\"line_alpha\",\"label\"],\"data\":{\"chart_index\":[{\"group\":\"M\",\"zone\":\"M4\"}],\"color\":[\"#5ab738\"],\"fill_alpha\":[0.8],\"group\":[\"M\"],\"height\":[1.0],\"label\":[{\"group\":\"M\",\"zone\":\"M4\"}],\"line_alpha\":[1.0],\"line_color\":[\"white\"],\"width\":[0.2],\"x\":[\"M4:0.25\"],\"y\":[0.5],\"zone\":[\"M4\"]}},\"id\":\"d74c5197-4ef4-4ed6-89e7-08ea7365e494\",\"type\":\"ColumnDataSource\"},{\"attributes\":{\"callback\":null,\"column_names\":[\"x\",\"y\",\"width\",\"height\",\"color\",\"fill_alpha\",\"line_color\",\"line_alpha\",\"label\"],\"data\":{\"chart_index\":[{\"group\":\"R\",\"zone\":\"R2\"}],\"color\":[\"#407ee7\"],\"fill_alpha\":[0.8],\"group\":[\"R\"],\"height\":[3.0],\"label\":[{\"group\":\"R\",\"zone\":\"R2\"}],\"line_alpha\":[1.0],\"line_color\":[\"white\"],\"width\":[0.2],\"x\":[\"R2:0.5\"],\"y\":[1.5],\"zone\":[\"R2\"]}},\"id\":\"12e3d502-16ca-4816-82a9-1792e8e62386\",\"type\":\"ColumnDataSource\"},{\"attributes\":{\"callback\":null,\"column_names\":[\"x\",\"y\",\"width\",\"height\",\"color\",\"fill_alpha\",\"line_color\",\"line_alpha\",\"label\"],\"data\":{\"chart_index\":[{\"group\":\"M\",\"zone\":\"M2\"}],\"color\":[\"#5ab738\"],\"fill_alpha\":[0.8],\"group\":[\"M\"],\"height\":[8.4],\"label\":[{\"group\":\"M\",\"zone\":\"M2\"}],\"line_alpha\":[1.0],\"line_color\":[\"white\"],\"width\":[0.2],\"x\":[\"M2:0.25\"],\"y\":[4.2],\"zone\":[\"M2\"]}},\"id\":\"d369659a-af11-4b36-bf12-5883ac5e1196\",\"type\":\"ColumnDataSource\"},{\"attributes\":{\"data_source\":{\"id\":\"12e3d502-16ca-4816-82a9-1792e8e62386\",\"type\":\"ColumnDataSource\"},\"glyph\":{\"id\":\"dae6e195-ab6a-4bbc-ae4d-14c8164b1176\",\"type\":\"Rect\"},\"hover_glyph\":null,\"nonselection_glyph\":null,\"selection_glyph\":null},\"id\":\"48ff0731-3dd6-4878-bbe2-e3ddc51b8947\",\"type\":\"GlyphRenderer\"},{\"attributes\":{\"callback\":null,\"column_names\":[\"x\",\"y\",\"width\",\"height\",\"color\",\"fill_alpha\",\"line_color\",\"line_alpha\",\"label\"],\"data\":{\"chart_index\":[{\"group\":\"L\",\"zone\":\"L2\"}],\"color\":[\"#f22c40\"],\"fill_alpha\":[0.8],\"group\":[\"L\"],\"height\":[4.8],\"label\":[{\"group\":\"L\",\"zone\":\"L2\"}],\"line_alpha\":[1.0],\"line_color\":[\"white\"],\"width\":[0.2],\"x\":[\"L2:0.75\"],\"y\":[2.4],\"zone\":[\"L2\"]}},\"id\":\"f5ec860e-106a-4d68-93a7-6f7bd2b277c1\",\"type\":\"ColumnDataSource\"},{\"attributes\":{\"active_drag\":\"auto\",\"active_scroll\":\"auto\",\"active_tap\":\"auto\",\"tools\":[{\"id\":\"96ea9e50-d803-429d-8527-55b44e4e3f0f\",\"type\":\"PanTool\"},{\"id\":\"7eec6911-5307-4a74-bb40-c9b145ed44da\",\"type\":\"WheelZoomTool\"},{\"id\":\"1716f60d-7eea-4430-b8ab-6f507555c6d4\",\"type\":\"BoxZoomTool\"},{\"id\":\"7356843a-56d7-4ee0-8889-ad0c499ae245\",\"type\":\"SaveTool\"},{\"id\":\"06653a32-be63-46b9-828d-5d7344df434f\",\"type\":\"ResetTool\"},{\"id\":\"2b353e73-5ce4-4327-9b11-b4ebc702e167\",\"type\":\"HelpTool\"}]},\"id\":\"14e5ee7b-736f-439d-aecc-4ea5a4ed2d10\",\"type\":\"Toolbar\"},{\"attributes\":{\"plot\":{\"id\":\"2aaa4114-5c98-4800-9ccf-e0b575167836\",\"subtype\":\"Chart\",\"type\":\"Plot\"}},\"id\":\"96ea9e50-d803-429d-8527-55b44e4e3f0f\",\"type\":\"PanTool\"},{\"attributes\":{\"fill_alpha\":{\"field\":\"fill_alpha\"},\"fill_color\":{\"field\":\"color\"},\"height\":{\"field\":\"height\",\"units\":\"data\"},\"line_color\":{\"field\":\"line_color\"},\"width\":{\"field\":\"width\",\"units\":\"data\"},\"x\":{\"field\":\"x\"},\"y\":{\"field\":\"y\"}},\"id\":\"bce5e1ea-968d-4fd9-88ba-1490b320598e\",\"type\":\"Rect\"},{\"attributes\":{\"fill_alpha\":{\"field\":\"fill_alpha\"},\"fill_color\":{\"field\":\"color\"},\"height\":{\"field\":\"height\",\"units\":\"data\"},\"line_color\":{\"field\":\"line_color\"},\"width\":{\"field\":\"width\",\"units\":\"data\"},\"x\":{\"field\":\"x\"},\"y\":{\"field\":\"y\"}},\"id\":\"bce23fee-e5ab-4da1-9c0b-66ac05284617\",\"type\":\"Rect\"},{\"attributes\":{\"plot\":null,\"text\":\"NEC - Cambuur\"},\"id\":\"fc5cabc3-27a3-4fb4-b302-3c6830548d84\",\"type\":\"Title\"},{\"attributes\":{\"data_source\":{\"id\":\"77a60252-2de6-4464-a548-267eee3214e4\",\"type\":\"ColumnDataSource\"},\"glyph\":{\"id\":\"cfe22549-6870-41e9-b762-cd76d8a18dc7\",\"type\":\"Rect\"},\"hover_glyph\":null,\"nonselection_glyph\":null,\"selection_glyph\":null},\"id\":\"5a64d349-1f11-42b2-8845-397c90430ceb\",\"type\":\"GlyphRenderer\"},{\"attributes\":{\"plot\":{\"id\":\"2aaa4114-5c98-4800-9ccf-e0b575167836\",\"subtype\":\"Chart\",\"type\":\"Plot\"}},\"id\":\"7eec6911-5307-4a74-bb40-c9b145ed44da\",\"type\":\"WheelZoomTool\"},{\"attributes\":{\"overlay\":{\"id\":\"8b225657-435a-4333-8025-a9a01d95cc7a\",\"type\":\"BoxAnnotation\"},\"plot\":{\"id\":\"2aaa4114-5c98-4800-9ccf-e0b575167836\",\"subtype\":\"Chart\",\"type\":\"Plot\"}},\"id\":\"1716f60d-7eea-4430-b8ab-6f507555c6d4\",\"type\":\"BoxZoomTool\"},{\"attributes\":{\"plot\":{\"id\":\"2aaa4114-5c98-4800-9ccf-e0b575167836\",\"subtype\":\"Chart\",\"type\":\"Plot\"}},\"id\":\"7356843a-56d7-4ee0-8889-ad0c499ae245\",\"type\":\"SaveTool\"},{\"attributes\":{\"plot\":{\"id\":\"2aaa4114-5c98-4800-9ccf-e0b575167836\",\"subtype\":\"Chart\",\"type\":\"Plot\"}},\"id\":\"06653a32-be63-46b9-828d-5d7344df434f\",\"type\":\"ResetTool\"},{\"attributes\":{\"plot\":{\"id\":\"2aaa4114-5c98-4800-9ccf-e0b575167836\",\"subtype\":\"Chart\",\"type\":\"Plot\"}},\"id\":\"2b353e73-5ce4-4327-9b11-b4ebc702e167\",\"type\":\"HelpTool\"},{\"attributes\":{\"callback\":null,\"column_names\":[\"x\",\"y\",\"width\",\"height\",\"color\",\"fill_alpha\",\"line_color\",\"line_alpha\",\"label\"],\"data\":{\"chart_index\":[{\"group\":\"R\",\"zone\":\"R3\"}],\"color\":[\"#407ee7\"],\"fill_alpha\":[0.8],\"group\":[\"R\"],\"height\":[2.75],\"label\":[{\"group\":\"R\",\"zone\":\"R3\"}],\"line_alpha\":[1.0],\"line_color\":[\"white\"],\"width\":[0.2],\"x\":[\"R3:0.75\"],\"y\":[1.375],\"zone\":[\"R3\"]}},\"id\":\"a941447f-e9c0-44c4-9e28-04d2a4a92bb1\",\"type\":\"ColumnDataSource\"},{\"attributes\":{},\"id\":\"f55c4646-630d-4d00-b0c7-949990c69b0e\",\"type\":\"ToolEvents\"},{\"attributes\":{\"callback\":null,\"column_names\":[\"x\",\"y\",\"width\",\"height\",\"color\",\"fill_alpha\",\"line_color\",\"line_alpha\",\"label\"],\"data\":{\"chart_index\":[{\"group\":\"M\",\"zone\":\"M3\"}],\"color\":[\"#5ab738\"],\"fill_alpha\":[0.8],\"group\":[\"M\"],\"height\":[2.6],\"label\":[{\"group\":\"M\",\"zone\":\"M3\"}],\"line_alpha\":[1.0],\"line_color\":[\"white\"],\"width\":[0.2],\"x\":[\"M3:0.25\"],\"y\":[1.3],\"zone\":[\"M3\"]}},\"id\":\"ac2543cb-1be9-4118-81d9-1dbe57105923\",\"type\":\"ColumnDataSource\"},{\"attributes\":{\"callback\":null,\"column_names\":[\"x\",\"y\",\"width\",\"height\",\"color\",\"fill_alpha\",\"line_color\",\"line_alpha\",\"label\"],\"data\":{\"chart_index\":[{\"group\":\"M\",\"zone\":\"M1\"}],\"color\":[\"#5ab738\"],\"fill_alpha\":[0.8],\"group\":[\"M\"],\"height\":[2.0],\"label\":[{\"group\":\"M\",\"zone\":\"M1\"}],\"line_alpha\":[1.0],\"line_color\":[\"white\"],\"width\":[0.2],\"x\":[\"M1:0.25\"],\"y\":[1.0],\"zone\":[\"M1\"]}},\"id\":\"ae5ed7ec-c697-4429-a7f7-a4ee5325fe9c\",\"type\":\"ColumnDataSource\"},{\"attributes\":{\"bottom_units\":\"screen\",\"fill_alpha\":{\"value\":0.5},\"fill_color\":{\"value\":\"lightgrey\"},\"left_units\":\"screen\",\"level\":\"overlay\",\"line_alpha\":{\"value\":1.0},\"line_color\":{\"value\":\"black\"},\"line_dash\":[4,4],\"line_width\":{\"value\":2},\"plot\":null,\"render_mode\":\"css\",\"right_units\":\"screen\",\"top_units\":\"screen\"},\"id\":\"6c6873ab-7746-47d9-abae-c6dc36779912\",\"type\":\"BoxAnnotation\"},{\"attributes\":{\"fill_alpha\":{\"field\":\"fill_alpha\"},\"fill_color\":{\"field\":\"color\"},\"height\":{\"field\":\"height\",\"units\":\"data\"},\"line_color\":{\"field\":\"line_color\"},\"width\":{\"field\":\"width\",\"units\":\"data\"},\"x\":{\"field\":\"x\"},\"y\":{\"field\":\"y\"}},\"id\":\"cfe22549-6870-41e9-b762-cd76d8a18dc7\",\"type\":\"Rect\"},{\"attributes\":{\"below\":[{\"id\":\"3435b470-901c-4b1f-9cdd-dbc0b17a30e7\",\"type\":\"CategoricalAxis\"}],\"css_classes\":null,\"left\":[{\"id\":\"69869a5e-42a1-4814-aaa3-8ea9c12f0853\",\"type\":\"LinearAxis\"}],\"renderers\":[{\"id\":\"6c6873ab-7746-47d9-abae-c6dc36779912\",\"type\":\"BoxAnnotation\"},{\"id\":\"9b77125d-f434-43b7-a164-045c8d1249d5\",\"type\":\"GlyphRenderer\"},{\"id\":\"5a64d349-1f11-42b2-8845-397c90430ceb\",\"type\":\"GlyphRenderer\"},{\"id\":\"7133cd09-aaa9-4a89-905e-6d9565de2429\",\"type\":\"GlyphRenderer\"},{\"id\":\"a0686d3a-4c94-47ea-9e31-06f2f431b37e\",\"type\":\"GlyphRenderer\"},{\"id\":\"99656a39-58c5-4b21-a414-db76557aa384\",\"type\":\"GlyphRenderer\"},{\"id\":\"085c9092-2f43-43f3-add6-3db3414a4247\",\"type\":\"GlyphRenderer\"},{\"id\":\"3a0b1eb4-963f-4fc3-ad8a-5eae8859e2a7\",\"type\":\"GlyphRenderer\"},{\"id\":\"f03d8aa8-7d1b-4678-a957-e4f8afaa55bf\",\"type\":\"GlyphRenderer\"},{\"id\":\"9b13b155-bc20-4d20-9230-666adc216245\",\"type\":\"GlyphRenderer\"},{\"id\":\"082509b8-ad86-48c5-a8e7-e837889857e8\",\"type\":\"GlyphRenderer\"},{\"id\":\"41415f5e-319b-4a10-82b9-a2c6c38a9252\",\"type\":\"GlyphRenderer\"},{\"id\":\"c53424fd-f428-4bbd-96a9-2ffd8f050a14\",\"type\":\"GlyphRenderer\"},{\"id\":\"2c585d85-537b-4ee6-a016-5335de2168bc\",\"type\":\"Legend\"},{\"id\":\"3435b470-901c-4b1f-9cdd-dbc0b17a30e7\",\"type\":\"CategoricalAxis\"},{\"id\":\"69869a5e-42a1-4814-aaa3-8ea9c12f0853\",\"type\":\"LinearAxis\"},{\"id\":\"3497295d-6f53-458b-b32f-1f6bc86e44d3\",\"type\":\"Grid\"}],\"title\":{\"id\":\"49f5af7e-b2a5-4c93-b954-2ec128227721\",\"type\":\"Title\"},\"tool_events\":{\"id\":\"f55c4646-630d-4d00-b0c7-949990c69b0e\",\"type\":\"ToolEvents\"},\"toolbar\":{\"id\":\"0cc24c81-58d2-45bd-9854-b3dd8c58fc33\",\"type\":\"Toolbar\"},\"x_mapper_type\":\"auto\",\"x_range\":{\"id\":\"58237c0f-0ea9-436b-913c-9759caf19ea3\",\"type\":\"FactorRange\"},\"y_mapper_type\":\"auto\",\"y_range\":{\"id\":\"d7fbdf62-4c48-4e9a-80a7-401d6233c958\",\"type\":\"Range1d\"}},\"id\":\"a8ad9fd5-5a10-400c-b7b4-ca16c7eb65a2\",\"subtype\":\"Chart\",\"type\":\"Plot\"},{\"attributes\":{\"data_source\":{\"id\":\"60731439-0188-4577-b75a-64aaa7d399eb\",\"type\":\"ColumnDataSource\"},\"glyph\":{\"id\":\"bce23fee-e5ab-4da1-9c0b-66ac05284617\",\"type\":\"Rect\"},\"hover_glyph\":null,\"nonselection_glyph\":null,\"selection_glyph\":null},\"id\":\"ced67b9f-3bb3-4f3e-8b35-2cbe5db7ecb2\",\"type\":\"GlyphRenderer\"},{\"attributes\":{\"fill_alpha\":{\"field\":\"fill_alpha\"},\"fill_color\":{\"field\":\"color\"},\"height\":{\"field\":\"height\",\"units\":\"data\"},\"line_color\":{\"field\":\"line_color\"},\"width\":{\"field\":\"width\",\"units\":\"data\"},\"x\":{\"field\":\"x\"},\"y\":{\"field\":\"y\"}},\"id\":\"42452bdf-391b-4f8b-ba51-d85f31fb9c59\",\"type\":\"Rect\"},{\"attributes\":{\"data_source\":{\"id\":\"c37929d8-93eb-4dd5-8c6b-b61310f7f0a7\",\"type\":\"ColumnDataSource\"},\"glyph\":{\"id\":\"42452bdf-391b-4f8b-ba51-d85f31fb9c59\",\"type\":\"Rect\"},\"hover_glyph\":null,\"nonselection_glyph\":null,\"selection_glyph\":null},\"id\":\"9b77125d-f434-43b7-a164-045c8d1249d5\",\"type\":\"GlyphRenderer\"},{\"attributes\":{\"active_drag\":\"auto\",\"active_scroll\":\"auto\",\"active_tap\":\"auto\",\"tools\":[{\"id\":\"f0057537-f04b-481d-8afb-9c7c3975611d\",\"type\":\"PanTool\"},{\"id\":\"3ee8cf1c-3e63-4add-9e09-6338d2901fec\",\"type\":\"WheelZoomTool\"},{\"id\":\"9222fb31-2f35-4712-83ec-70c9d16c1757\",\"type\":\"BoxZoomTool\"},{\"id\":\"f6f28a9f-f7a3-401e-9b95-454802877bf6\",\"type\":\"SaveTool\"},{\"id\":\"e164b749-2b4d-4465-a969-34012cbd3ea6\",\"type\":\"ResetTool\"},{\"id\":\"a04304c8-d8d5-4a28-a514-520fc119075b\",\"type\":\"HelpTool\"}]},\"id\":\"0cc24c81-58d2-45bd-9854-b3dd8c58fc33\",\"type\":\"Toolbar\"},{\"attributes\":{\"plot\":{\"id\":\"a8ad9fd5-5a10-400c-b7b4-ca16c7eb65a2\",\"subtype\":\"Chart\",\"type\":\"Plot\"}},\"id\":\"f0057537-f04b-481d-8afb-9c7c3975611d\",\"type\":\"PanTool\"},{\"attributes\":{\"fill_alpha\":{\"field\":\"fill_alpha\"},\"fill_color\":{\"field\":\"color\"},\"height\":{\"field\":\"height\",\"units\":\"data\"},\"line_color\":{\"field\":\"line_color\"},\"width\":{\"field\":\"width\",\"units\":\"data\"},\"x\":{\"field\":\"x\"},\"y\":{\"field\":\"y\"}},\"id\":\"ecad11d9-35a1-436e-9cf8-6a0e716c7954\",\"type\":\"Rect\"},{\"attributes\":{\"plot\":null,\"text\":\"PEC - NEC\"},\"id\":\"49f5af7e-b2a5-4c93-b954-2ec128227721\",\"type\":\"Title\"},{\"attributes\":{\"fill_alpha\":{\"field\":\"fill_alpha\"},\"fill_color\":{\"field\":\"color\"},\"height\":{\"field\":\"height\",\"units\":\"data\"},\"line_color\":{\"field\":\"line_color\"},\"width\":{\"field\":\"width\",\"units\":\"data\"},\"x\":{\"field\":\"x\"},\"y\":{\"field\":\"y\"}},\"id\":\"008a1b7a-90fd-4d51-9d95-a94753ec9bfa\",\"type\":\"Rect\"},{\"attributes\":{\"plot\":{\"id\":\"a8ad9fd5-5a10-400c-b7b4-ca16c7eb65a2\",\"subtype\":\"Chart\",\"type\":\"Plot\"}},\"id\":\"3ee8cf1c-3e63-4add-9e09-6338d2901fec\",\"type\":\"WheelZoomTool\"},{\"attributes\":{\"fill_alpha\":{\"field\":\"fill_alpha\"},\"fill_color\":{\"field\":\"color\"},\"height\":{\"field\":\"height\",\"units\":\"data\"},\"line_color\":{\"field\":\"line_color\"},\"width\":{\"field\":\"width\",\"units\":\"data\"},\"x\":{\"field\":\"x\"},\"y\":{\"field\":\"y\"}},\"id\":\"525f6056-17b6-4207-aedb-ebe0079be96b\",\"type\":\"Rect\"},{\"attributes\":{\"overlay\":{\"id\":\"6c6873ab-7746-47d9-abae-c6dc36779912\",\"type\":\"BoxAnnotation\"},\"plot\":{\"id\":\"a8ad9fd5-5a10-400c-b7b4-ca16c7eb65a2\",\"subtype\":\"Chart\",\"type\":\"Plot\"}},\"id\":\"9222fb31-2f35-4712-83ec-70c9d16c1757\",\"type\":\"BoxZoomTool\"},{\"attributes\":{\"plot\":{\"id\":\"a8ad9fd5-5a10-400c-b7b4-ca16c7eb65a2\",\"subtype\":\"Chart\",\"type\":\"Plot\"}},\"id\":\"f6f28a9f-f7a3-401e-9b95-454802877bf6\",\"type\":\"SaveTool\"},{\"attributes\":{\"plot\":{\"id\":\"a8ad9fd5-5a10-400c-b7b4-ca16c7eb65a2\",\"subtype\":\"Chart\",\"type\":\"Plot\"}},\"id\":\"e164b749-2b4d-4465-a969-34012cbd3ea6\",\"type\":\"ResetTool\"},{\"attributes\":{\"plot\":{\"id\":\"a8ad9fd5-5a10-400c-b7b4-ca16c7eb65a2\",\"subtype\":\"Chart\",\"type\":\"Plot\"}},\"id\":\"a04304c8-d8d5-4a28-a514-520fc119075b\",\"type\":\"HelpTool\"},{\"attributes\":{\"callback\":null,\"column_names\":[\"x\",\"y\",\"width\",\"height\",\"color\",\"fill_alpha\",\"line_color\",\"line_alpha\",\"label\"],\"data\":{\"chart_index\":[{\"group\":\"R\",\"zone\":\"R4\"}],\"color\":[\"#407ee7\"],\"fill_alpha\":[0.8],\"group\":[\"R\"],\"height\":[1.0],\"label\":[{\"group\":\"R\",\"zone\":\"R4\"}],\"line_alpha\":[1.0],\"line_color\":[\"white\"],\"width\":[0.2],\"x\":[\"R4:0.75\"],\"y\":[0.5],\"zone\":[\"R4\"]}},\"id\":\"ae3955be-bbdf-40f1-a817-58e75d4ad26a\",\"type\":\"ColumnDataSource\"},{\"attributes\":{\"data_source\":{\"id\":\"f5ec860e-106a-4d68-93a7-6f7bd2b277c1\",\"type\":\"ColumnDataSource\"},\"glyph\":{\"id\":\"525f6056-17b6-4207-aedb-ebe0079be96b\",\"type\":\"Rect\"},\"hover_glyph\":null,\"nonselection_glyph\":null,\"selection_glyph\":null},\"id\":\"4cbb12c6-8227-472f-a946-2603b3d30e09\",\"type\":\"GlyphRenderer\"},{\"attributes\":{\"callback\":null,\"column_names\":[\"x\",\"y\",\"width\",\"height\",\"color\",\"fill_alpha\",\"line_color\",\"line_alpha\",\"label\"],\"data\":{\"chart_index\":[{\"group\":\"L\",\"zone\":\"L1\"}],\"color\":[\"#f22c40\"],\"fill_alpha\":[0.8],\"group\":[\"L\"],\"height\":[1.0],\"label\":[{\"group\":\"L\",\"zone\":\"L1\"}],\"line_alpha\":[1.0],\"line_color\":[\"white\"],\"width\":[0.2],\"x\":[\"L1:0.25\"],\"y\":[0.5],\"zone\":[\"L1\"]}},\"id\":\"c37929d8-93eb-4dd5-8c6b-b61310f7f0a7\",\"type\":\"ColumnDataSource\"},{\"attributes\":{\"callback\":null,\"end\":5.425000000000001},\"id\":\"d7fbdf62-4c48-4e9a-80a7-401d6233c958\",\"type\":\"Range1d\"}],\"root_ids\":[\"20a9ba65-778b-4cb8-952c-63107198f15a\"]},\"title\":\"Bokeh Application\",\"version\":\"0.12.4\"}};\n",
       "            var render_items = [{\"docid\":\"d3fc553a-2d52-4f84-bcd5-293b9f20e774\",\"elementid\":\"b907d710-600a-48da-9bb2-dc19ef75a056\",\"modelid\":\"20a9ba65-778b-4cb8-952c-63107198f15a\"}];\n",
       "            \n",
       "            Bokeh.embed.embed_items(docs_json, render_items);\n",
       "          };\n",
       "          if (document.readyState != \"loading\") fn();\n",
       "          else document.addEventListener(\"DOMContentLoaded\", fn);\n",
       "        })();\n",
       "      },\n",
       "      function(Bokeh) {\n",
       "      }\n",
       "    ];\n",
       "  \n",
       "    function run_inline_js() {\n",
       "      \n",
       "      if ((window.Bokeh !== undefined) || (force === true)) {\n",
       "        for (var i = 0; i < inline_js.length; i++) {\n",
       "          inline_js[i](window.Bokeh);\n",
       "        }if (force === true) {\n",
       "          display_loaded();\n",
       "        }} else if (Date.now() < window._bokeh_timeout) {\n",
       "        setTimeout(run_inline_js, 100);\n",
       "      } else if (!window._bokeh_failed_load) {\n",
       "        console.log(\"Bokeh: BokehJS failed to load within specified timeout.\");\n",
       "        window._bokeh_failed_load = true;\n",
       "      } else if (force !== true) {\n",
       "        var cell = $(document.getElementById(\"b907d710-600a-48da-9bb2-dc19ef75a056\")).parents('.cell').data().cell;\n",
       "        cell.output_area.append_execute_result(NB_LOAD_WARNING)\n",
       "      }\n",
       "  \n",
       "    }\n",
       "  \n",
       "    if (window._bokeh_is_loading === 0) {\n",
       "      console.log(\"Bokeh: BokehJS loaded, going straight to plotting\");\n",
       "      run_inline_js();\n",
       "    } else {\n",
       "      load_libs(js_urls, function() {\n",
       "        console.log(\"Bokeh: BokehJS plotting callback run at\", now());\n",
       "        run_inline_js();\n",
       "      });\n",
       "    }\n",
       "  }(this));\n",
       "</script>"
      ]
     },
     "metadata": {},
     "output_type": "display_data"
    }
   ],
   "source": [
    "listo = []\n",
    "for i in zoneplayspMatch:\n",
    "    a = i['plays']\n",
    "    d = Bar(a, label='zone', values='count', group='group', agg='mean', title=i['match'])\n",
    "    listo.append(d)\n",
    "show(column(listo))"
   ]
  }
 ],
 "metadata": {
  "kernelspec": {
   "display_name": "Python 3",
   "language": "python",
   "name": "python3"
  },
  "language_info": {
   "codemirror_mode": {
    "name": "ipython",
    "version": 3
   },
   "file_extension": ".py",
   "mimetype": "text/x-python",
   "name": "python",
   "nbconvert_exporter": "python",
   "pygments_lexer": "ipython3",
   "version": "3.6.0"
  }
 },
 "nbformat": 4,
 "nbformat_minor": 2
}
